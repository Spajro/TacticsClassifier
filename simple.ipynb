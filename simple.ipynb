{
 "cells": [
  {
   "metadata": {},
   "cell_type": "markdown",
   "source": "# LOADING DATASET",
   "id": "9dfc98def8fb55f"
  },
  {
   "metadata": {
    "ExecuteTime": {
     "end_time": "2024-06-07T12:36:01.672675Z",
     "start_time": "2024-06-07T12:35:57.696212Z"
    }
   },
   "cell_type": "code",
   "source": [
    "import pathlib\n",
    "import urllib\n",
    "import zstandard\n",
    "import chess\n",
    "import torch\n",
    "import numpy as np\n",
    "from torch import nn"
   ],
   "id": "c4b51d4c10754771",
   "outputs": [],
   "execution_count": 1
  },
  {
   "metadata": {
    "ExecuteTime": {
     "end_time": "2024-06-07T12:36:01.677343Z",
     "start_time": "2024-06-07T12:36:01.673679Z"
    }
   },
   "cell_type": "code",
   "source": [
    "def __download(url: str, name: str) -> str:\n",
    "    path, _ = urllib.request.urlretrieve(url, name)\n",
    "    return path\n",
    "\n",
    "\n",
    "def __unpack(path: str, name: str):\n",
    "    input_file = pathlib.Path(path)\n",
    "    with open(input_file, 'rb') as compressed:\n",
    "        decomp = zstandard.ZstdDecompressor()\n",
    "        output_path = name\n",
    "        with open(output_path, 'wb') as destination:\n",
    "            decomp.copy_stream(compressed, destination)\n",
    "            destination.close()\n",
    "        compressed.close()\n",
    "\n",
    "\n",
    "def __remove(path: str):\n",
    "    pathlib.Path.unlink(pathlib.Path(path))"
   ],
   "id": "c1af7d40bfdbe229",
   "outputs": [],
   "execution_count": 2
  },
  {
   "metadata": {
    "ExecuteTime": {
     "end_time": "2024-06-07T12:36:19.085888Z",
     "start_time": "2024-06-07T12:36:01.678592Z"
    }
   },
   "cell_type": "code",
   "source": "path = __download(\"https://database.lichess.org/lichess_db_puzzle.csv.zst\", \"lichess_db_puzzle.csv.zst\")",
   "id": "7b7f765e257cee1f",
   "outputs": [],
   "execution_count": 3
  },
  {
   "metadata": {
    "ExecuteTime": {
     "end_time": "2024-06-07T12:36:20.955800Z",
     "start_time": "2024-06-07T12:36:19.086891Z"
    }
   },
   "cell_type": "code",
   "source": "__unpack(path, \"lichess_db_puzzle.csv\")",
   "id": "ca1de55ee484bb4e",
   "outputs": [],
   "execution_count": 4
  },
  {
   "metadata": {
    "ExecuteTime": {
     "end_time": "2024-06-07T12:36:20.976709Z",
     "start_time": "2024-06-07T12:36:20.955800Z"
    }
   },
   "cell_type": "code",
   "source": "__remove(\"lichess_db_puzzle.csv.zst\")",
   "id": "876c56ec9a7ac80d",
   "outputs": [],
   "execution_count": 5
  },
  {
   "cell_type": "code",
   "id": "initial_id",
   "metadata": {
    "collapsed": true,
    "ExecuteTime": {
     "end_time": "2024-06-07T12:36:20.980817Z",
     "start_time": "2024-06-07T12:36:20.976709Z"
    }
   },
   "source": [
    "class Puzzle:\n",
    "    def __init__(self, row: str):\n",
    "        fields = row.split(',')\n",
    "        self.fen = fields[1]\n",
    "        self.moves = fields[2].split(\" \")\n",
    "        self.tags = fields[7].split(\" \")\n",
    "\n",
    "    def __str__(self):\n",
    "        return \"{fen: \" + self.fen + \" ,tags: [\" + \", \".join(self.tags) + \"],moves: [\" + \",\".join(self.moves) + \"]}\""
   ],
   "outputs": [],
   "execution_count": 6
  },
  {
   "metadata": {
    "ExecuteTime": {
     "end_time": "2024-06-07T12:36:20.986533Z",
     "start_time": "2024-06-07T12:36:20.980817Z"
    }
   },
   "cell_type": "code",
   "source": [
    "def load(k: int) -> [Puzzle]:\n",
    "    f = open(\"lichess_db_puzzle.csv\")\n",
    "    f.readline()\n",
    "    result = []\n",
    "    for i in range(k):\n",
    "        result.append(Puzzle(f.readline()))\n",
    "    f.close()\n",
    "    return result"
   ],
   "id": "d76ee6cf90617af0",
   "outputs": [],
   "execution_count": 7
  },
  {
   "metadata": {
    "ExecuteTime": {
     "end_time": "2024-06-07T12:36:20.993161Z",
     "start_time": "2024-06-07T12:36:20.986533Z"
    }
   },
   "cell_type": "code",
   "source": "load(10)[0].__str__()",
   "id": "57feb45f444a7d0a",
   "outputs": [
    {
     "data": {
      "text/plain": [
       "'{fen: r6k/pp2r2p/4Rp1Q/3p4/8/1N1P2R1/PqP2bPP/7K b - - 0 24 ,tags: [crushing, hangingPiece, long, middlegame],moves: [f2g3,e6e7,b2b1,b3c1,b1c1,h6c1]}'"
      ]
     },
     "execution_count": 8,
     "metadata": {},
     "output_type": "execute_result"
    }
   ],
   "execution_count": 8
  },
  {
   "metadata": {},
   "cell_type": "markdown",
   "source": "# FILTER DATASET",
   "id": "f362b99117932533"
  },
  {
   "metadata": {
    "ExecuteTime": {
     "end_time": "2024-06-07T12:36:20.997813Z",
     "start_time": "2024-06-07T12:36:20.994165Z"
    }
   },
   "cell_type": "code",
   "source": [
    "expected_tags = {\n",
    "    'attraction',\n",
    "    'discoveredAttack',\n",
    "    'doubleCheck',\n",
    "    'fork',\n",
    "    'pin',\n",
    "    'sacrifice',\n",
    "    'skewer',\n",
    "    'xRayAttack',\n",
    "    'zugzwang',\n",
    "    'deflection',\n",
    "    'clearance'\n",
    "}"
   ],
   "id": "54b9c024e9edbc45",
   "outputs": [],
   "execution_count": 9
  },
  {
   "metadata": {
    "ExecuteTime": {
     "end_time": "2024-06-07T12:36:21.003861Z",
     "start_time": "2024-06-07T12:36:20.999817Z"
    }
   },
   "cell_type": "code",
   "source": "expected_tags_list = list(expected_tags)",
   "id": "b4c7b42dafb2af34",
   "outputs": [],
   "execution_count": 10
  },
  {
   "metadata": {
    "ExecuteTime": {
     "end_time": "2024-06-07T12:36:21.009368Z",
     "start_time": "2024-06-07T12:36:21.003861Z"
    }
   },
   "cell_type": "code",
   "source": [
    "def filter_data(data: [Puzzle]) -> [Puzzle]:\n",
    "    return list(filter(lambda p: len(set(p.tags) & expected_tags) == 1, data))"
   ],
   "id": "68a75e47bbf20450",
   "outputs": [],
   "execution_count": 11
  },
  {
   "metadata": {
    "ExecuteTime": {
     "end_time": "2024-06-07T12:36:21.017072Z",
     "start_time": "2024-06-07T12:36:21.010371Z"
    }
   },
   "cell_type": "code",
   "source": "len(filter_data(load(100)))",
   "id": "ed1341d0f35d0c64",
   "outputs": [
    {
     "data": {
      "text/plain": [
       "37"
      ]
     },
     "execution_count": 12,
     "metadata": {},
     "output_type": "execute_result"
    }
   ],
   "execution_count": 12
  },
  {
   "metadata": {},
   "cell_type": "markdown",
   "source": "# CONVERSION TO TENSOR",
   "id": "a5c92e35f0ad916d"
  },
  {
   "metadata": {
    "ExecuteTime": {
     "end_time": "2024-06-07T12:36:21.021325Z",
     "start_time": "2024-06-07T12:36:21.018075Z"
    }
   },
   "cell_type": "code",
   "source": [
    "def bitboard_to_tensor(bitboard: int) -> torch.Tensor:\n",
    "    li = [1 if digit == '1' else 0 for digit in bin(bitboard)[2:]]\n",
    "    li = [0 for _ in range(64 - len(li))] + li\n",
    "    return torch.tensor(li).reshape((8, 8))"
   ],
   "id": "10c35e85f53b2f3c",
   "outputs": [],
   "execution_count": 13
  },
  {
   "metadata": {
    "ExecuteTime": {
     "end_time": "2024-06-07T12:36:21.027740Z",
     "start_time": "2024-06-07T12:36:21.022328Z"
    }
   },
   "cell_type": "code",
   "source": [
    "def fen_to_tensors_list(fen: str) -> [torch.Tensor]:\n",
    "    board = chess.Board(fen)\n",
    "    return [\n",
    "        bitboard_to_tensor(board.occupied_co[chess.WHITE]),\n",
    "        bitboard_to_tensor(board.occupied_co[chess.BLACK]),\n",
    "        bitboard_to_tensor(board.pawns),\n",
    "        bitboard_to_tensor(board.kings),\n",
    "        bitboard_to_tensor(board.queens),\n",
    "        bitboard_to_tensor(board.knights),\n",
    "        bitboard_to_tensor(board.bishops),\n",
    "        bitboard_to_tensor(board.rooks)\n",
    "    ]"
   ],
   "id": "ac21f78c3f6922b4",
   "outputs": [],
   "execution_count": 14
  },
  {
   "metadata": {
    "ExecuteTime": {
     "end_time": "2024-06-07T12:36:21.056343Z",
     "start_time": "2024-06-07T12:36:21.028744Z"
    }
   },
   "cell_type": "code",
   "source": "fen_to_tensors_list(load(1)[0].fen)",
   "id": "2af6bc1bbdd66c04",
   "outputs": [
    {
     "data": {
      "text/plain": [
       "[tensor([[0, 0, 0, 0, 0, 0, 0, 0],\n",
       "         [0, 0, 0, 0, 0, 0, 0, 0],\n",
       "         [1, 0, 0, 1, 0, 0, 0, 0],\n",
       "         [0, 0, 0, 0, 0, 0, 0, 0],\n",
       "         [0, 0, 0, 0, 0, 0, 0, 0],\n",
       "         [0, 1, 0, 0, 1, 0, 1, 0],\n",
       "         [1, 1, 0, 0, 0, 1, 0, 1],\n",
       "         [1, 0, 0, 0, 0, 0, 0, 0]]),\n",
       " tensor([[1, 0, 0, 0, 0, 0, 0, 1],\n",
       "         [1, 0, 0, 1, 0, 0, 1, 1],\n",
       "         [0, 0, 1, 0, 0, 0, 0, 0],\n",
       "         [0, 0, 0, 0, 1, 0, 0, 0],\n",
       "         [0, 0, 0, 0, 0, 0, 0, 0],\n",
       "         [0, 0, 0, 0, 0, 0, 0, 0],\n",
       "         [0, 0, 1, 0, 0, 0, 1, 0],\n",
       "         [0, 0, 0, 0, 0, 0, 0, 0]]),\n",
       " tensor([[0, 0, 0, 0, 0, 0, 0, 0],\n",
       "         [1, 0, 0, 0, 0, 0, 1, 1],\n",
       "         [0, 0, 1, 0, 0, 0, 0, 0],\n",
       "         [0, 0, 0, 0, 1, 0, 0, 0],\n",
       "         [0, 0, 0, 0, 0, 0, 0, 0],\n",
       "         [0, 0, 0, 0, 1, 0, 0, 0],\n",
       "         [1, 1, 0, 0, 0, 1, 0, 1],\n",
       "         [0, 0, 0, 0, 0, 0, 0, 0]]),\n",
       " tensor([[1, 0, 0, 0, 0, 0, 0, 0],\n",
       "         [0, 0, 0, 0, 0, 0, 0, 0],\n",
       "         [0, 0, 0, 0, 0, 0, 0, 0],\n",
       "         [0, 0, 0, 0, 0, 0, 0, 0],\n",
       "         [0, 0, 0, 0, 0, 0, 0, 0],\n",
       "         [0, 0, 0, 0, 0, 0, 0, 0],\n",
       "         [0, 0, 0, 0, 0, 0, 0, 0],\n",
       "         [1, 0, 0, 0, 0, 0, 0, 0]]),\n",
       " tensor([[0, 0, 0, 0, 0, 0, 0, 0],\n",
       "         [0, 0, 0, 0, 0, 0, 0, 0],\n",
       "         [1, 0, 0, 0, 0, 0, 0, 0],\n",
       "         [0, 0, 0, 0, 0, 0, 0, 0],\n",
       "         [0, 0, 0, 0, 0, 0, 0, 0],\n",
       "         [0, 0, 0, 0, 0, 0, 0, 0],\n",
       "         [0, 0, 0, 0, 0, 0, 1, 0],\n",
       "         [0, 0, 0, 0, 0, 0, 0, 0]]),\n",
       " tensor([[0, 0, 0, 0, 0, 0, 0, 0],\n",
       "         [0, 0, 0, 0, 0, 0, 0, 0],\n",
       "         [0, 0, 0, 0, 0, 0, 0, 0],\n",
       "         [0, 0, 0, 0, 0, 0, 0, 0],\n",
       "         [0, 0, 0, 0, 0, 0, 0, 0],\n",
       "         [0, 0, 0, 0, 0, 0, 1, 0],\n",
       "         [0, 0, 0, 0, 0, 0, 0, 0],\n",
       "         [0, 0, 0, 0, 0, 0, 0, 0]]),\n",
       " tensor([[0, 0, 0, 0, 0, 0, 0, 0],\n",
       "         [0, 0, 0, 0, 0, 0, 0, 0],\n",
       "         [0, 0, 0, 0, 0, 0, 0, 0],\n",
       "         [0, 0, 0, 0, 0, 0, 0, 0],\n",
       "         [0, 0, 0, 0, 0, 0, 0, 0],\n",
       "         [0, 0, 0, 0, 0, 0, 0, 0],\n",
       "         [0, 0, 1, 0, 0, 0, 0, 0],\n",
       "         [0, 0, 0, 0, 0, 0, 0, 0]]),\n",
       " tensor([[0, 0, 0, 0, 0, 0, 0, 1],\n",
       "         [0, 0, 0, 1, 0, 0, 0, 0],\n",
       "         [0, 0, 0, 1, 0, 0, 0, 0],\n",
       "         [0, 0, 0, 0, 0, 0, 0, 0],\n",
       "         [0, 0, 0, 0, 0, 0, 0, 0],\n",
       "         [0, 1, 0, 0, 0, 0, 0, 0],\n",
       "         [0, 0, 0, 0, 0, 0, 0, 0],\n",
       "         [0, 0, 0, 0, 0, 0, 0, 0]])]"
      ]
     },
     "execution_count": 15,
     "metadata": {},
     "output_type": "execute_result"
    }
   ],
   "execution_count": 15
  },
  {
   "metadata": {
    "ExecuteTime": {
     "end_time": "2024-06-07T12:36:21.060430Z",
     "start_time": "2024-06-07T12:36:21.057347Z"
    }
   },
   "cell_type": "code",
   "source": [
    "def move_to_tensor(move: str) -> torch.Tensor:\n",
    "    x1 = 7 - ord(move[0]) + ord('a')\n",
    "    y1 = 8 - int(move[1])\n",
    "    x2 = 7 - ord(move[2]) + ord('a')\n",
    "    y2 = 8 - int(move[3])\n",
    "    tensor = torch.zeros(8, 8)\n",
    "    tensor[y1][x1] = 1\n",
    "    tensor[y2][x2] = 1\n",
    "    return tensor"
   ],
   "id": "17c3f21abe4260e5",
   "outputs": [],
   "execution_count": 16
  },
  {
   "metadata": {
    "ExecuteTime": {
     "end_time": "2024-06-07T12:36:21.090045Z",
     "start_time": "2024-06-07T12:36:21.061433Z"
    }
   },
   "cell_type": "code",
   "source": "print(move_to_tensor('e2e4'))",
   "id": "104d99da6a271a6a",
   "outputs": [
    {
     "name": "stdout",
     "output_type": "stream",
     "text": [
      "tensor([[0., 0., 0., 0., 0., 0., 0., 0.],\n",
      "        [0., 0., 0., 0., 0., 0., 0., 0.],\n",
      "        [0., 0., 0., 0., 0., 0., 0., 0.],\n",
      "        [0., 0., 0., 0., 0., 0., 0., 0.],\n",
      "        [0., 0., 0., 1., 0., 0., 0., 0.],\n",
      "        [0., 0., 0., 0., 0., 0., 0., 0.],\n",
      "        [0., 0., 0., 1., 0., 0., 0., 0.],\n",
      "        [0., 0., 0., 0., 0., 0., 0., 0.]])\n"
     ]
    }
   ],
   "execution_count": 17
  },
  {
   "metadata": {
    "ExecuteTime": {
     "end_time": "2024-06-07T12:36:21.094098Z",
     "start_time": "2024-06-07T12:36:21.091092Z"
    }
   },
   "cell_type": "code",
   "source": [
    "def puzzle_to_tensor(puzzle: Puzzle) -> torch.Tensor:\n",
    "    fen_tensors = fen_to_tensors_list(puzzle.fen)\n",
    "    move_tensors = [move_to_tensor(puzzle.moves[0]), move_to_tensor(puzzle.moves[1])]  # FIRST TWO MOVES\n",
    "    return torch.stack(fen_tensors + move_tensors)"
   ],
   "id": "7d58e2f64a04bec6",
   "outputs": [],
   "execution_count": 18
  },
  {
   "metadata": {
    "ExecuteTime": {
     "end_time": "2024-06-07T12:36:21.106120Z",
     "start_time": "2024-06-07T12:36:21.095103Z"
    }
   },
   "cell_type": "code",
   "source": "puzzle_to_tensor(load(1)[0])",
   "id": "f086ac45785396dd",
   "outputs": [
    {
     "data": {
      "text/plain": [
       "tensor([[[0., 0., 0., 0., 0., 0., 0., 0.],\n",
       "         [0., 0., 0., 0., 0., 0., 0., 0.],\n",
       "         [1., 0., 0., 1., 0., 0., 0., 0.],\n",
       "         [0., 0., 0., 0., 0., 0., 0., 0.],\n",
       "         [0., 0., 0., 0., 0., 0., 0., 0.],\n",
       "         [0., 1., 0., 0., 1., 0., 1., 0.],\n",
       "         [1., 1., 0., 0., 0., 1., 0., 1.],\n",
       "         [1., 0., 0., 0., 0., 0., 0., 0.]],\n",
       "\n",
       "        [[1., 0., 0., 0., 0., 0., 0., 1.],\n",
       "         [1., 0., 0., 1., 0., 0., 1., 1.],\n",
       "         [0., 0., 1., 0., 0., 0., 0., 0.],\n",
       "         [0., 0., 0., 0., 1., 0., 0., 0.],\n",
       "         [0., 0., 0., 0., 0., 0., 0., 0.],\n",
       "         [0., 0., 0., 0., 0., 0., 0., 0.],\n",
       "         [0., 0., 1., 0., 0., 0., 1., 0.],\n",
       "         [0., 0., 0., 0., 0., 0., 0., 0.]],\n",
       "\n",
       "        [[0., 0., 0., 0., 0., 0., 0., 0.],\n",
       "         [1., 0., 0., 0., 0., 0., 1., 1.],\n",
       "         [0., 0., 1., 0., 0., 0., 0., 0.],\n",
       "         [0., 0., 0., 0., 1., 0., 0., 0.],\n",
       "         [0., 0., 0., 0., 0., 0., 0., 0.],\n",
       "         [0., 0., 0., 0., 1., 0., 0., 0.],\n",
       "         [1., 1., 0., 0., 0., 1., 0., 1.],\n",
       "         [0., 0., 0., 0., 0., 0., 0., 0.]],\n",
       "\n",
       "        [[1., 0., 0., 0., 0., 0., 0., 0.],\n",
       "         [0., 0., 0., 0., 0., 0., 0., 0.],\n",
       "         [0., 0., 0., 0., 0., 0., 0., 0.],\n",
       "         [0., 0., 0., 0., 0., 0., 0., 0.],\n",
       "         [0., 0., 0., 0., 0., 0., 0., 0.],\n",
       "         [0., 0., 0., 0., 0., 0., 0., 0.],\n",
       "         [0., 0., 0., 0., 0., 0., 0., 0.],\n",
       "         [1., 0., 0., 0., 0., 0., 0., 0.]],\n",
       "\n",
       "        [[0., 0., 0., 0., 0., 0., 0., 0.],\n",
       "         [0., 0., 0., 0., 0., 0., 0., 0.],\n",
       "         [1., 0., 0., 0., 0., 0., 0., 0.],\n",
       "         [0., 0., 0., 0., 0., 0., 0., 0.],\n",
       "         [0., 0., 0., 0., 0., 0., 0., 0.],\n",
       "         [0., 0., 0., 0., 0., 0., 0., 0.],\n",
       "         [0., 0., 0., 0., 0., 0., 1., 0.],\n",
       "         [0., 0., 0., 0., 0., 0., 0., 0.]],\n",
       "\n",
       "        [[0., 0., 0., 0., 0., 0., 0., 0.],\n",
       "         [0., 0., 0., 0., 0., 0., 0., 0.],\n",
       "         [0., 0., 0., 0., 0., 0., 0., 0.],\n",
       "         [0., 0., 0., 0., 0., 0., 0., 0.],\n",
       "         [0., 0., 0., 0., 0., 0., 0., 0.],\n",
       "         [0., 0., 0., 0., 0., 0., 1., 0.],\n",
       "         [0., 0., 0., 0., 0., 0., 0., 0.],\n",
       "         [0., 0., 0., 0., 0., 0., 0., 0.]],\n",
       "\n",
       "        [[0., 0., 0., 0., 0., 0., 0., 0.],\n",
       "         [0., 0., 0., 0., 0., 0., 0., 0.],\n",
       "         [0., 0., 0., 0., 0., 0., 0., 0.],\n",
       "         [0., 0., 0., 0., 0., 0., 0., 0.],\n",
       "         [0., 0., 0., 0., 0., 0., 0., 0.],\n",
       "         [0., 0., 0., 0., 0., 0., 0., 0.],\n",
       "         [0., 0., 1., 0., 0., 0., 0., 0.],\n",
       "         [0., 0., 0., 0., 0., 0., 0., 0.]],\n",
       "\n",
       "        [[0., 0., 0., 0., 0., 0., 0., 1.],\n",
       "         [0., 0., 0., 1., 0., 0., 0., 0.],\n",
       "         [0., 0., 0., 1., 0., 0., 0., 0.],\n",
       "         [0., 0., 0., 0., 0., 0., 0., 0.],\n",
       "         [0., 0., 0., 0., 0., 0., 0., 0.],\n",
       "         [0., 1., 0., 0., 0., 0., 0., 0.],\n",
       "         [0., 0., 0., 0., 0., 0., 0., 0.],\n",
       "         [0., 0., 0., 0., 0., 0., 0., 0.]],\n",
       "\n",
       "        [[0., 0., 0., 0., 0., 0., 0., 0.],\n",
       "         [0., 0., 0., 0., 0., 0., 0., 0.],\n",
       "         [0., 0., 0., 0., 0., 0., 0., 0.],\n",
       "         [0., 0., 0., 0., 0., 0., 0., 0.],\n",
       "         [0., 0., 0., 0., 0., 0., 0., 0.],\n",
       "         [0., 1., 0., 0., 0., 0., 0., 0.],\n",
       "         [0., 0., 1., 0., 0., 0., 0., 0.],\n",
       "         [0., 0., 0., 0., 0., 0., 0., 0.]],\n",
       "\n",
       "        [[0., 0., 0., 0., 0., 0., 0., 0.],\n",
       "         [0., 0., 0., 1., 0., 0., 0., 0.],\n",
       "         [0., 0., 0., 1., 0., 0., 0., 0.],\n",
       "         [0., 0., 0., 0., 0., 0., 0., 0.],\n",
       "         [0., 0., 0., 0., 0., 0., 0., 0.],\n",
       "         [0., 0., 0., 0., 0., 0., 0., 0.],\n",
       "         [0., 0., 0., 0., 0., 0., 0., 0.],\n",
       "         [0., 0., 0., 0., 0., 0., 0., 0.]]])"
      ]
     },
     "execution_count": 19,
     "metadata": {},
     "output_type": "execute_result"
    }
   ],
   "execution_count": 19
  },
  {
   "metadata": {},
   "cell_type": "markdown",
   "source": "# CONVERT AND BATCH DATASET",
   "id": "577ba77d6cc0369a"
  },
  {
   "metadata": {
    "ExecuteTime": {
     "end_time": "2024-06-07T12:47:13.034439Z",
     "start_time": "2024-06-07T12:47:13.031694Z"
    }
   },
   "cell_type": "code",
   "source": [
    "def puzzle_to_truth(puzzle: Puzzle) -> torch.Tensor:\n",
    "    tensor = torch.zeros(len(expected_tags_list))\n",
    "    [tag] = set(puzzle.tags) & expected_tags\n",
    "    index = expected_tags_list.index(tag)\n",
    "    tensor[index] = 1\n",
    "    return torch.zeros(1) + index"
   ],
   "id": "f69689ed3c928f55",
   "outputs": [],
   "execution_count": 45
  },
  {
   "metadata": {
    "ExecuteTime": {
     "end_time": "2024-06-07T12:47:18.515569Z",
     "start_time": "2024-06-07T12:47:18.511299Z"
    }
   },
   "cell_type": "code",
   "source": "puzzle_to_truth(filter_data(load(100))[0])",
   "id": "abd55187edfe5df",
   "outputs": [
    {
     "data": {
      "text/plain": [
       "tensor([9.])"
      ]
     },
     "execution_count": 47,
     "metadata": {},
     "output_type": "execute_result"
    }
   ],
   "execution_count": 47
  },
  {
   "metadata": {
    "ExecuteTime": {
     "end_time": "2024-06-07T12:47:18.791255Z",
     "start_time": "2024-06-07T12:47:18.788658Z"
    }
   },
   "cell_type": "code",
   "source": "BATCH_SIZE = 64",
   "id": "bf6296834a2068eb",
   "outputs": [],
   "execution_count": 48
  },
  {
   "metadata": {
    "ExecuteTime": {
     "end_time": "2024-06-07T12:47:19.077854Z",
     "start_time": "2024-06-07T12:47:19.075191Z"
    }
   },
   "cell_type": "code",
   "source": [
    "def convert_dataset(puzzles: [Puzzle]) -> list[tuple[torch.Tensor, torch.Tensor]]:\n",
    "    return [(puzzle_to_tensor(puzzle), puzzle_to_truth(puzzle)) for puzzle in puzzles]"
   ],
   "id": "2a98f0f8bbd52026",
   "outputs": [],
   "execution_count": 49
  },
  {
   "metadata": {
    "ExecuteTime": {
     "end_time": "2024-06-07T12:49:49.313213Z",
     "start_time": "2024-06-07T12:49:49.310119Z"
    }
   },
   "cell_type": "code",
   "source": [
    "def dataset_to_batches(dataset: list[tuple[torch.Tensor, torch.Tensor]]) -> list[tuple[torch.Tensor, torch.Tensor]]:\n",
    "    batches = []\n",
    "    index = 0\n",
    "    while index + BATCH_SIZE <= len(dataset):\n",
    "        batch = []\n",
    "        truth = []\n",
    "        max_index = index + BATCH_SIZE\n",
    "        while index < max_index:\n",
    "            batch.append(dataset[index][0])\n",
    "            truth.append(dataset[index][1])\n",
    "            index += 1\n",
    "        batches.append((torch.stack(batch).cuda(), torch.tensor(truth).cuda().type(torch.long)))\n",
    "\n",
    "    return batches"
   ],
   "id": "37b1f86d84eb8476",
   "outputs": [],
   "execution_count": 62
  },
  {
   "metadata": {
    "ExecuteTime": {
     "end_time": "2024-06-07T12:49:50.731308Z",
     "start_time": "2024-06-07T12:49:50.109413Z"
    }
   },
   "cell_type": "code",
   "source": [
    "batched_dataset=dataset_to_batches(convert_dataset(filter_data(load(10000))))\n",
    "print(len(batched_dataset))\n",
    "print(batched_dataset[0][0].shape,batched_dataset[0][1].shape)"
   ],
   "id": "2c6ecc1932649601",
   "outputs": [
    {
     "name": "stdout",
     "output_type": "stream",
     "text": [
      "47\n",
      "torch.Size([64, 10, 8, 8]) torch.Size([64])\n"
     ]
    }
   ],
   "execution_count": 63
  },
  {
   "metadata": {},
   "cell_type": "markdown",
   "source": "# TRAIN",
   "id": "dd2e455b1a377348"
  },
  {
   "metadata": {
    "ExecuteTime": {
     "end_time": "2024-06-07T12:52:05.360344Z",
     "start_time": "2024-06-07T12:52:05.357737Z"
    }
   },
   "cell_type": "code",
   "source": [
    "def accuracy(out,truth):\n",
    "    return torch.argmax(out,dim=1) == truth"
   ],
   "id": "ab02ddd180fcdd69",
   "outputs": [],
   "execution_count": 70
  },
  {
   "metadata": {
    "ExecuteTime": {
     "end_time": "2024-06-07T12:52:16.210248Z",
     "start_time": "2024-06-07T12:52:16.205903Z"
    }
   },
   "cell_type": "code",
   "source": [
    "class Model(nn.Module):\n",
    "    def __init__(self, *args, **kwargs):\n",
    "        super(Model, self).__init__()\n",
    "        self.classifier = nn.Sequential(*args, **kwargs)\n",
    "\n",
    "    def forward(self, X):\n",
    "        return self.classifier.forward(X)\n",
    "\n",
    "\n",
    "model = Model(nn.Conv2d(10, 8 * 8, kernel_size=4, padding=2),\n",
    "              nn.ReLU(),\n",
    "              nn.Conv2d(8 * 8, 4 * 4, kernel_size=2, padding=2),\n",
    "              nn.ReLU(),\n",
    "              nn.MaxPool2d(kernel_size=4, stride=1),\n",
    "              nn.Conv2d(4*4, 8 * 8, kernel_size=2, padding=2),\n",
    "              nn.ReLU(),\n",
    "              nn.Conv2d(8 * 8, 1, kernel_size=4, padding=2),\n",
    "              nn.ReLU(),\n",
    "              nn.Flatten(),\n",
    "              nn.Linear(169, 256),\n",
    "              nn.ReLU(),\n",
    "              nn.Linear(256, 64),\n",
    "              nn.ReLU(),\n",
    "              nn.Linear(64, 11),\n",
    "              nn.LogSoftmax(),\n",
    "              )\n",
    "criterion = (\n",
    "    nn.NLLLoss()\n",
    ")\n"
   ],
   "id": "27c76f74edc787d2",
   "outputs": [],
   "execution_count": 73
  },
  {
   "metadata": {
    "ExecuteTime": {
     "end_time": "2024-06-07T12:49:55.105473Z",
     "start_time": "2024-06-07T12:49:55.103357Z"
    }
   },
   "cell_type": "code",
   "source": [
    "size_to_load=2000000\n",
    "test_batches_count=400"
   ],
   "id": "230d17a6081a7ffc",
   "outputs": [],
   "execution_count": 66
  },
  {
   "metadata": {
    "ExecuteTime": {
     "end_time": "2024-06-07T12:51:40.066389Z",
     "start_time": "2024-06-07T12:49:55.394152Z"
    }
   },
   "cell_type": "code",
   "source": [
    "all_batches=dataset_to_batches(convert_dataset(filter_data(load(size_to_load))))\n",
    "train_batches=all_batches[test_batches_count:]\n",
    "test_batches=all_batches[:test_batches_count]\n",
    "print(len(all_batches),len(train_batches),len(test_batches))"
   ],
   "id": "d1a9a9709411156f",
   "outputs": [
    {
     "name": "stdout",
     "output_type": "stream",
     "text": [
      "9421 9021 400\n"
     ]
    }
   ],
   "execution_count": 67
  },
  {
   "metadata": {
    "ExecuteTime": {
     "end_time": "2024-06-07T12:52:19.164920Z",
     "start_time": "2024-06-07T12:52:19.160747Z"
    }
   },
   "cell_type": "code",
   "source": [
    "def train(model, criterion, optimizer, epoch):\n",
    "    model.cuda()\n",
    "    criterion.cuda()\n",
    "    batches = train_batches\n",
    "    print(\"Dataset size:\", len(batches))\n",
    "    batch_index = 0\n",
    "    for i in range(epoch):\n",
    "\n",
    "        batch = batches[batch_index][0]\n",
    "        truth = batches[batch_index][1]\n",
    "\n",
    "        if batch_index == len(batches):\n",
    "            batch_index = 0\n",
    "\n",
    "        optimizer.zero_grad()\n",
    "        out = model.forward(batch)\n",
    "        loss = criterion(out, truth)\n",
    "        loss.backward()\n",
    "        optimizer.step()\n",
    "\n",
    "        if i % 1000 == 0:\n",
    "            print(loss.item(),(accuracy(out,truth).sum()/BATCH_SIZE).item())"
   ],
   "id": "52588422f107c263",
   "outputs": [],
   "execution_count": 74
  },
  {
   "metadata": {
    "ExecuteTime": {
     "end_time": "2024-06-07T12:57:37.570099Z",
     "start_time": "2024-06-07T12:52:19.424104Z"
    }
   },
   "cell_type": "code",
   "source": [
    "train(model,\n",
    "      criterion,\n",
    "      torch.optim.SGD(model.classifier.parameters(), lr=0.001),\n",
    "      200000)"
   ],
   "id": "b500d4f989b86b92",
   "outputs": [
    {
     "name": "stdout",
     "output_type": "stream",
     "text": [
      "Dataset size: 9021\n",
      "2.3968663215637207 0.125\n",
      "2.2532296180725098 0.28125\n",
      "1.9107728004455566 0.28125\n",
      "1.771907091140747 0.28125\n",
      "1.7604730129241943 0.28125\n",
      "1.7562994956970215 0.28125\n",
      "1.7538591623306274 0.28125\n",
      "1.7520688772201538 0.28125\n",
      "1.7505725622177124 0.28125\n",
      "1.7491289377212524 0.28125\n",
      "1.7476325035095215 0.28125\n",
      "1.7459619045257568 0.28125\n",
      "1.7439974546432495 0.28125\n",
      "1.7415149211883545 0.28125\n",
      "1.7381435632705688 0.28125\n",
      "1.7334425449371338 0.28125\n",
      "1.7254749536514282 0.34375\n",
      "1.7112091779708862 0.3125\n",
      "1.6790845394134521 0.34375\n",
      "1.563393235206604 0.4375\n",
      "1.1087039709091187 0.640625\n",
      "0.5687057971954346 0.859375\n",
      "0.2833808660507202 0.921875\n",
      "0.1510951966047287 0.9375\n",
      "0.07308834791183472 1.0\n",
      "0.03386355936527252 1.0\n",
      "0.016486238688230515 1.0\n",
      "0.009407673962414265 1.0\n",
      "0.006124743260443211 1.0\n",
      "0.004372854717075825 1.0\n",
      "0.003319905139505863 1.0\n",
      "0.0026326931547373533 1.0\n",
      "0.0021554080303758383 1.0\n",
      "0.00181114231236279 1.0\n",
      "0.001551235793158412 1.0\n",
      "0.0013495150487869978 1.0\n",
      "0.0011893026530742645 1.0\n",
      "0.001059889211319387 1.0\n",
      "0.000953362206928432 1.0\n",
      "0.0008640935411676764 1.0\n",
      "0.0007888711988925934 1.0\n",
      "0.0007245621527545154 1.0\n",
      "0.0006686826818622649 1.0\n",
      "0.0006200938951224089 1.0\n",
      "0.0005775017780251801 1.0\n",
      "0.000539847940672189 1.0\n",
      "0.0005062036216259003 1.0\n",
      "0.0004761800810229033 1.0\n",
      "0.00044936276390217245 1.0\n",
      "0.0004249305056873709 1.0\n",
      "0.0004029581032227725 1.0\n",
      "0.00038271344965323806 1.0\n",
      "0.00036439712857827544 1.0\n",
      "0.00034741550916805863 1.0\n",
      "0.0003318857925478369 1.0\n",
      "0.00031753131770528853 1.0\n",
      "0.00030423380667343736 1.0\n",
      "0.00029202664154581726 1.0\n",
      "0.0002805697440635413 1.0\n",
      "0.0002699509495869279 1.0\n",
      "0.0002600028819870204 1.0\n",
      "0.0002506902383174747 1.0\n",
      "0.0002420059172436595 1.0\n",
      "0.00023385669919662178 1.0\n",
      "0.00022605883714277297 1.0\n",
      "0.0002188744256272912 1.0\n",
      "0.00021204694348853081 1.0\n",
      "0.00020567125466186553 1.0\n",
      "0.00019941251957789063 1.0\n",
      "0.00019358337158337235 1.0\n",
      "0.00018821355479303747 1.0\n",
      "0.00018302044190932065 1.0\n",
      "0.00017795542953535914 1.0\n",
      "0.0001732346136122942 1.0\n",
      "0.00016874814173206687 1.0\n",
      "0.00016446431982330978 1.0\n",
      "0.00016033674182835966 1.0\n",
      "0.00015645098756067455 1.0\n",
      "0.00015273263852577657 1.0\n",
      "0.00014910731988493353 1.0\n",
      "0.0001456400495953858 1.0\n",
      "0.00014235140406526625 1.0\n",
      "0.00013919296907261014 1.0\n",
      "0.00013615920033771545 1.0\n",
      "0.0001332482206635177 1.0\n",
      "0.00013047865650150925 1.0\n",
      "0.0001278132403967902 1.0\n",
      "0.00012514222180470824 1.0\n",
      "0.00012264985707588494 1.0\n",
      "0.00012025982869090512 1.0\n",
      "0.00011795167665695772 1.0\n",
      "0.00011561183782760054 1.0\n",
      "0.00011352696310495958 1.0\n",
      "0.00011142164294142276 1.0\n",
      "0.00010943169036181644 1.0\n",
      "0.0001074119281838648 1.0\n",
      "0.00010553919855738059 1.0\n",
      "0.000103694386780262 1.0\n",
      "0.00010195380309596658 1.0\n",
      "0.00010019830369856209 1.0\n",
      "9.852283983491361e-05 1.0\n",
      "9.690318984212354e-05 1.0\n",
      "9.533382399240509e-05 1.0\n",
      "9.375324589200318e-05 1.0\n",
      "9.22825129237026e-05 1.0\n",
      "9.082291217055172e-05 1.0\n",
      "8.946571324486285e-05 1.0\n",
      "8.81029263837263e-05 1.0\n",
      "8.67345224833116e-05 1.0\n",
      "8.547409379389137e-05 1.0\n",
      "8.426209387835115e-05 1.0\n",
      "8.30034987302497e-05 1.0\n",
      "8.179891301551834e-05 1.0\n",
      "8.06799580459483e-05 1.0\n",
      "7.953492604428902e-05 1.0\n",
      "7.84122385084629e-05 1.0\n",
      "7.733981328783557e-05 1.0\n",
      "7.63418574933894e-05 1.0\n",
      "7.531968003604561e-05 1.0\n",
      "7.429190736729652e-05 1.0\n",
      "7.331627421081066e-05 1.0\n",
      "7.239090336952358e-05 1.0\n",
      "7.148228905862197e-05 1.0\n",
      "7.05643615219742e-05 1.0\n",
      "6.967808440094814e-05 1.0\n",
      "6.880666478537023e-05 1.0\n",
      "6.799859693273902e-05 1.0\n",
      "6.71755988150835e-05 1.0\n",
      "6.636377656832337e-05 1.0\n",
      "6.560409383382648e-05 1.0\n",
      "6.48388231638819e-05 1.0\n",
      "6.410333298845217e-05 1.0\n",
      "6.333431520033628e-05 1.0\n",
      "6.258579378481954e-05 1.0\n",
      "6.190428393892944e-05 1.0\n",
      "6.121905607869849e-05 1.0\n",
      "6.052451499272138e-05 1.0\n",
      "5.9895155573030934e-05 1.0\n",
      "5.926949961576611e-05 1.0\n",
      "5.861405952600762e-05 1.0\n",
      "5.7990269851870835e-05 1.0\n",
      "5.737764877267182e-05 1.0\n",
      "5.6781773309921846e-05 1.0\n",
      "5.618776776827872e-05 1.0\n",
      "5.561797661357559e-05 1.0\n",
      "5.504445289261639e-05 1.0\n",
      "5.451747347251512e-05 1.0\n",
      "5.3973737522028387e-05 1.0\n",
      "5.3424420912051573e-05 1.0\n",
      "5.288441388984211e-05 1.0\n",
      "5.237976438365877e-05 1.0\n",
      "5.1865819841623306e-05 1.0\n",
      "5.1350005378481e-05 1.0\n",
      "5.089378828415647e-05 1.0\n",
      "5.0409624236635864e-05 1.0\n",
      "4.993663969798945e-05 1.0\n",
      "4.947854176862165e-05 1.0\n",
      "4.902418004348874e-05 1.0\n",
      "4.856049417867325e-05 1.0\n",
      "4.811916369362734e-05 1.0\n",
      "4.7696456022094935e-05 1.0\n",
      "4.724953032564372e-05 1.0\n",
      "4.684358282247558e-05 1.0\n",
      "4.644320870283991e-05 1.0\n",
      "4.606891525327228e-05 1.0\n",
      "4.5646193029824644e-05 1.0\n",
      "4.524955147644505e-05 1.0\n",
      "4.487896876526065e-05 1.0\n",
      "4.451397398952395e-05 1.0\n",
      "4.412105408846401e-05 1.0\n",
      "4.3757918319897726e-05 1.0\n",
      "4.3405954784248024e-05 1.0\n",
      "4.3065170757472515e-05 1.0\n",
      "4.269645069143735e-05 1.0\n",
      "4.234634980093688e-05 1.0\n",
      "4.201673800707795e-05 1.0\n",
      "4.169829117017798e-05 1.0\n",
      "4.135005292482674e-05 1.0\n",
      "4.1050232539419085e-05 1.0\n",
      "4.072434239787981e-05 1.0\n",
      "4.041334250359796e-05 1.0\n",
      "4.010980046587065e-05 1.0\n",
      "3.9802533137844875e-05 1.0\n",
      "3.953437044401653e-05 1.0\n",
      "3.922151154256426e-05 1.0\n",
      "3.8929141737753525e-05 1.0\n",
      "3.86684259865433e-05 1.0\n",
      "3.838721750071272e-05 1.0\n",
      "3.807995017268695e-05 1.0\n",
      "3.7808058550581336e-05 1.0\n",
      "3.753057535504922e-05 1.0\n",
      "3.726800059666857e-05 1.0\n",
      "3.70054149243515e-05 1.0\n",
      "3.675027983263135e-05 1.0\n",
      "3.649887730716728e-05 1.0\n",
      "3.62418795702979e-05 1.0\n",
      "3.5994191421195865e-05 1.0\n",
      "3.576512972358614e-05 1.0\n",
      "3.550998735590838e-05 1.0\n",
      "3.527534136082977e-05 1.0\n"
     ]
    }
   ],
   "execution_count": 75
  },
  {
   "metadata": {
    "ExecuteTime": {
     "end_time": "2024-06-07T13:03:32.223599Z",
     "start_time": "2024-06-07T13:03:32.218609Z"
    }
   },
   "cell_type": "code",
   "source": "torch.save(model,'model.pt')",
   "id": "1f69aaab85e1966a",
   "outputs": [],
   "execution_count": 87
  },
  {
   "metadata": {
    "ExecuteTime": {
     "end_time": "2024-06-07T13:04:34.576061Z",
     "start_time": "2024-06-07T13:04:34.572931Z"
    }
   },
   "cell_type": "code",
   "source": [
    "def test(model, criterion):\n",
    "    model.cuda()\n",
    "    criterion.cuda()\n",
    "    batches = test_batches\n",
    "    print(\"Dataset size:\", len(batches))\n",
    "    batch_index = 0\n",
    "    \n",
    "    total_loss = 0\n",
    "    total_accuracy = 0\n",
    "    for i in range(len(batches)):\n",
    "\n",
    "        batch = batches[batch_index][0]\n",
    "        truth = batches[batch_index][1]\n",
    "\n",
    "        if batch_index == len(batches):\n",
    "            batch_index = 0\n",
    "\n",
    "        out = model.forward(batch)\n",
    "        loss = criterion(out, truth)\n",
    "        print(loss.item(),(accuracy(out,truth).sum()/BATCH_SIZE).item())\n",
    "        total_loss += loss.item()\n",
    "        total_accuracy+=(accuracy(out,truth).sum()/BATCH_SIZE).item()\n",
    "\n",
    "    return (total_loss / len(batches)),total_accuracy / len(batches)"
   ],
   "id": "c8251ffcc9b16e94",
   "outputs": [],
   "execution_count": 89
  },
  {
   "metadata": {
    "ExecuteTime": {
     "end_time": "2024-06-07T13:04:35.187407Z",
     "start_time": "2024-06-07T13:04:34.785399Z"
    }
   },
   "cell_type": "code",
   "source": "test(model, criterion)",
   "id": "ac9a5368131bcb1d",
   "outputs": [
    {
     "name": "stdout",
     "output_type": "stream",
     "text": [
      "Dataset size: 400\n",
      "25.54104995727539 0.109375\n",
      "25.54104995727539 0.109375\n",
      "25.54104995727539 0.109375\n",
      "25.54104995727539 0.109375\n",
      "25.54104995727539 0.109375\n",
      "25.54104995727539 0.109375\n",
      "25.54104995727539 0.109375\n",
      "25.54104995727539 0.109375\n",
      "25.54104995727539 0.109375\n",
      "25.54104995727539 0.109375\n",
      "25.54104995727539 0.109375\n",
      "25.54104995727539 0.109375\n",
      "25.54104995727539 0.109375\n",
      "25.54104995727539 0.109375\n",
      "25.54104995727539 0.109375\n",
      "25.54104995727539 0.109375\n",
      "25.54104995727539 0.109375\n",
      "25.54104995727539 0.109375\n",
      "25.54104995727539 0.109375\n",
      "25.54104995727539 0.109375\n",
      "25.54104995727539 0.109375\n",
      "25.54104995727539 0.109375\n",
      "25.54104995727539 0.109375\n",
      "25.54104995727539 0.109375\n",
      "25.54104995727539 0.109375\n",
      "25.54104995727539 0.109375\n",
      "25.54104995727539 0.109375\n",
      "25.54104995727539 0.109375\n",
      "25.54104995727539 0.109375\n",
      "25.54104995727539 0.109375\n",
      "25.54104995727539 0.109375\n",
      "25.54104995727539 0.109375\n",
      "25.54104995727539 0.109375\n",
      "25.54104995727539 0.109375\n",
      "25.54104995727539 0.109375\n",
      "25.54104995727539 0.109375\n",
      "25.54104995727539 0.109375\n",
      "25.54104995727539 0.109375\n",
      "25.54104995727539 0.109375\n",
      "25.54104995727539 0.109375\n",
      "25.54104995727539 0.109375\n",
      "25.54104995727539 0.109375\n",
      "25.54104995727539 0.109375\n",
      "25.54104995727539 0.109375\n",
      "25.54104995727539 0.109375\n",
      "25.54104995727539 0.109375\n",
      "25.54104995727539 0.109375\n",
      "25.54104995727539 0.109375\n",
      "25.54104995727539 0.109375\n",
      "25.54104995727539 0.109375\n",
      "25.54104995727539 0.109375\n",
      "25.54104995727539 0.109375\n",
      "25.54104995727539 0.109375\n",
      "25.54104995727539 0.109375\n",
      "25.54104995727539 0.109375\n",
      "25.54104995727539 0.109375\n",
      "25.54104995727539 0.109375\n",
      "25.54104995727539 0.109375\n",
      "25.54104995727539 0.109375\n",
      "25.54104995727539 0.109375\n",
      "25.54104995727539 0.109375\n",
      "25.54104995727539 0.109375\n",
      "25.54104995727539 0.109375\n",
      "25.54104995727539 0.109375\n",
      "25.54104995727539 0.109375\n",
      "25.54104995727539 0.109375\n",
      "25.54104995727539 0.109375\n",
      "25.54104995727539 0.109375\n",
      "25.54104995727539 0.109375\n",
      "25.54104995727539 0.109375\n",
      "25.54104995727539 0.109375\n",
      "25.54104995727539 0.109375\n",
      "25.54104995727539 0.109375\n",
      "25.54104995727539 0.109375\n",
      "25.54104995727539 0.109375\n",
      "25.54104995727539 0.109375\n",
      "25.54104995727539 0.109375\n",
      "25.54104995727539 0.109375\n",
      "25.54104995727539 0.109375\n",
      "25.54104995727539 0.109375\n",
      "25.54104995727539 0.109375\n",
      "25.54104995727539 0.109375\n",
      "25.54104995727539 0.109375\n",
      "25.54104995727539 0.109375\n",
      "25.54104995727539 0.109375\n",
      "25.54104995727539 0.109375\n",
      "25.54104995727539 0.109375\n",
      "25.54104995727539 0.109375\n",
      "25.54104995727539 0.109375\n",
      "25.54104995727539 0.109375\n",
      "25.54104995727539 0.109375\n",
      "25.54104995727539 0.109375\n",
      "25.54104995727539 0.109375\n",
      "25.54104995727539 0.109375\n",
      "25.54104995727539 0.109375\n",
      "25.54104995727539 0.109375\n",
      "25.54104995727539 0.109375\n",
      "25.54104995727539 0.109375\n",
      "25.54104995727539 0.109375\n",
      "25.54104995727539 0.109375\n",
      "25.54104995727539 0.109375\n",
      "25.54104995727539 0.109375\n",
      "25.54104995727539 0.109375\n",
      "25.54104995727539 0.109375\n",
      "25.54104995727539 0.109375\n",
      "25.54104995727539 0.109375\n",
      "25.54104995727539 0.109375\n",
      "25.54104995727539 0.109375\n",
      "25.54104995727539 0.109375\n",
      "25.54104995727539 0.109375\n",
      "25.54104995727539 0.109375\n",
      "25.54104995727539 0.109375\n",
      "25.54104995727539 0.109375\n",
      "25.54104995727539 0.109375\n",
      "25.54104995727539 0.109375\n",
      "25.54104995727539 0.109375\n",
      "25.54104995727539 0.109375\n",
      "25.54104995727539 0.109375\n",
      "25.54104995727539 0.109375\n",
      "25.54104995727539 0.109375\n",
      "25.54104995727539 0.109375\n",
      "25.54104995727539 0.109375\n",
      "25.54104995727539 0.109375\n",
      "25.54104995727539 0.109375\n",
      "25.54104995727539 0.109375\n",
      "25.54104995727539 0.109375\n",
      "25.54104995727539 0.109375\n",
      "25.54104995727539 0.109375\n",
      "25.54104995727539 0.109375\n",
      "25.54104995727539 0.109375\n",
      "25.54104995727539 0.109375\n",
      "25.54104995727539 0.109375\n",
      "25.54104995727539 0.109375\n",
      "25.54104995727539 0.109375\n",
      "25.54104995727539 0.109375\n",
      "25.54104995727539 0.109375\n",
      "25.54104995727539 0.109375\n",
      "25.54104995727539 0.109375\n",
      "25.54104995727539 0.109375\n",
      "25.54104995727539 0.109375\n",
      "25.54104995727539 0.109375\n",
      "25.54104995727539 0.109375\n",
      "25.54104995727539 0.109375\n",
      "25.54104995727539 0.109375\n",
      "25.54104995727539 0.109375\n",
      "25.54104995727539 0.109375\n",
      "25.54104995727539 0.109375\n",
      "25.54104995727539 0.109375\n",
      "25.54104995727539 0.109375\n",
      "25.54104995727539 0.109375\n",
      "25.54104995727539 0.109375\n",
      "25.54104995727539 0.109375\n",
      "25.54104995727539 0.109375\n",
      "25.54104995727539 0.109375\n",
      "25.54104995727539 0.109375\n",
      "25.54104995727539 0.109375\n",
      "25.54104995727539 0.109375\n",
      "25.54104995727539 0.109375\n",
      "25.54104995727539 0.109375\n",
      "25.54104995727539 0.109375\n",
      "25.54104995727539 0.109375\n",
      "25.54104995727539 0.109375\n",
      "25.54104995727539 0.109375\n",
      "25.54104995727539 0.109375\n",
      "25.54104995727539 0.109375\n",
      "25.54104995727539 0.109375\n",
      "25.54104995727539 0.109375\n",
      "25.54104995727539 0.109375\n",
      "25.54104995727539 0.109375\n",
      "25.54104995727539 0.109375\n",
      "25.54104995727539 0.109375\n",
      "25.54104995727539 0.109375\n",
      "25.54104995727539 0.109375\n",
      "25.54104995727539 0.109375\n",
      "25.54104995727539 0.109375\n",
      "25.54104995727539 0.109375\n",
      "25.54104995727539 0.109375\n",
      "25.54104995727539 0.109375\n",
      "25.54104995727539 0.109375\n",
      "25.54104995727539 0.109375\n",
      "25.54104995727539 0.109375\n",
      "25.54104995727539 0.109375\n",
      "25.54104995727539 0.109375\n",
      "25.54104995727539 0.109375\n",
      "25.54104995727539 0.109375\n",
      "25.54104995727539 0.109375\n",
      "25.54104995727539 0.109375\n",
      "25.54104995727539 0.109375\n",
      "25.54104995727539 0.109375\n",
      "25.54104995727539 0.109375\n",
      "25.54104995727539 0.109375\n",
      "25.54104995727539 0.109375\n",
      "25.54104995727539 0.109375\n",
      "25.54104995727539 0.109375\n",
      "25.54104995727539 0.109375\n",
      "25.54104995727539 0.109375\n",
      "25.54104995727539 0.109375\n",
      "25.54104995727539 0.109375\n",
      "25.54104995727539 0.109375\n",
      "25.54104995727539 0.109375\n",
      "25.54104995727539 0.109375\n",
      "25.54104995727539 0.109375\n",
      "25.54104995727539 0.109375\n",
      "25.54104995727539 0.109375\n",
      "25.54104995727539 0.109375\n",
      "25.54104995727539 0.109375\n",
      "25.54104995727539 0.109375\n",
      "25.54104995727539 0.109375\n",
      "25.54104995727539 0.109375\n",
      "25.54104995727539 0.109375\n",
      "25.54104995727539 0.109375\n",
      "25.54104995727539 0.109375\n",
      "25.54104995727539 0.109375\n",
      "25.54104995727539 0.109375\n",
      "25.54104995727539 0.109375\n",
      "25.54104995727539 0.109375\n",
      "25.54104995727539 0.109375\n",
      "25.54104995727539 0.109375\n",
      "25.54104995727539 0.109375\n",
      "25.54104995727539 0.109375\n",
      "25.54104995727539 0.109375\n",
      "25.54104995727539 0.109375\n",
      "25.54104995727539 0.109375\n",
      "25.54104995727539 0.109375\n",
      "25.54104995727539 0.109375\n",
      "25.54104995727539 0.109375\n",
      "25.54104995727539 0.109375\n",
      "25.54104995727539 0.109375\n",
      "25.54104995727539 0.109375\n",
      "25.54104995727539 0.109375\n",
      "25.54104995727539 0.109375\n",
      "25.54104995727539 0.109375\n",
      "25.54104995727539 0.109375\n",
      "25.54104995727539 0.109375\n",
      "25.54104995727539 0.109375\n",
      "25.54104995727539 0.109375\n",
      "25.54104995727539 0.109375\n",
      "25.54104995727539 0.109375\n",
      "25.54104995727539 0.109375\n",
      "25.54104995727539 0.109375\n",
      "25.54104995727539 0.109375\n",
      "25.54104995727539 0.109375\n",
      "25.54104995727539 0.109375\n",
      "25.54104995727539 0.109375\n",
      "25.54104995727539 0.109375\n",
      "25.54104995727539 0.109375\n",
      "25.54104995727539 0.109375\n",
      "25.54104995727539 0.109375\n",
      "25.54104995727539 0.109375\n",
      "25.54104995727539 0.109375\n",
      "25.54104995727539 0.109375\n",
      "25.54104995727539 0.109375\n",
      "25.54104995727539 0.109375\n",
      "25.54104995727539 0.109375\n",
      "25.54104995727539 0.109375\n",
      "25.54104995727539 0.109375\n",
      "25.54104995727539 0.109375\n",
      "25.54104995727539 0.109375\n",
      "25.54104995727539 0.109375\n",
      "25.54104995727539 0.109375\n",
      "25.54104995727539 0.109375\n",
      "25.54104995727539 0.109375\n",
      "25.54104995727539 0.109375\n",
      "25.54104995727539 0.109375\n",
      "25.54104995727539 0.109375\n",
      "25.54104995727539 0.109375\n",
      "25.54104995727539 0.109375\n",
      "25.54104995727539 0.109375\n",
      "25.54104995727539 0.109375\n",
      "25.54104995727539 0.109375\n",
      "25.54104995727539 0.109375\n",
      "25.54104995727539 0.109375\n",
      "25.54104995727539 0.109375\n",
      "25.54104995727539 0.109375\n",
      "25.54104995727539 0.109375\n",
      "25.54104995727539 0.109375\n",
      "25.54104995727539 0.109375\n",
      "25.54104995727539 0.109375\n",
      "25.54104995727539 0.109375\n",
      "25.54104995727539 0.109375\n",
      "25.54104995727539 0.109375\n",
      "25.54104995727539 0.109375\n",
      "25.54104995727539 0.109375\n",
      "25.54104995727539 0.109375\n",
      "25.54104995727539 0.109375\n",
      "25.54104995727539 0.109375\n",
      "25.54104995727539 0.109375\n",
      "25.54104995727539 0.109375\n",
      "25.54104995727539 0.109375\n",
      "25.54104995727539 0.109375\n",
      "25.54104995727539 0.109375\n",
      "25.54104995727539 0.109375\n",
      "25.54104995727539 0.109375\n",
      "25.54104995727539 0.109375\n",
      "25.54104995727539 0.109375\n",
      "25.54104995727539 0.109375\n",
      "25.54104995727539 0.109375\n",
      "25.54104995727539 0.109375\n",
      "25.54104995727539 0.109375\n",
      "25.54104995727539 0.109375\n",
      "25.54104995727539 0.109375\n",
      "25.54104995727539 0.109375\n",
      "25.54104995727539 0.109375\n",
      "25.54104995727539 0.109375\n",
      "25.54104995727539 0.109375\n",
      "25.54104995727539 0.109375\n",
      "25.54104995727539 0.109375\n",
      "25.54104995727539 0.109375\n",
      "25.54104995727539 0.109375\n",
      "25.54104995727539 0.109375\n",
      "25.54104995727539 0.109375\n",
      "25.54104995727539 0.109375\n",
      "25.54104995727539 0.109375\n",
      "25.54104995727539 0.109375\n",
      "25.54104995727539 0.109375\n",
      "25.54104995727539 0.109375\n",
      "25.54104995727539 0.109375\n",
      "25.54104995727539 0.109375\n",
      "25.54104995727539 0.109375\n",
      "25.54104995727539 0.109375\n",
      "25.54104995727539 0.109375\n",
      "25.54104995727539 0.109375\n",
      "25.54104995727539 0.109375\n",
      "25.54104995727539 0.109375\n",
      "25.54104995727539 0.109375\n",
      "25.54104995727539 0.109375\n",
      "25.54104995727539 0.109375\n",
      "25.54104995727539 0.109375\n",
      "25.54104995727539 0.109375\n",
      "25.54104995727539 0.109375\n",
      "25.54104995727539 0.109375\n",
      "25.54104995727539 0.109375\n",
      "25.54104995727539 0.109375\n",
      "25.54104995727539 0.109375\n",
      "25.54104995727539 0.109375\n",
      "25.54104995727539 0.109375\n",
      "25.54104995727539 0.109375\n",
      "25.54104995727539 0.109375\n",
      "25.54104995727539 0.109375\n",
      "25.54104995727539 0.109375\n",
      "25.54104995727539 0.109375\n",
      "25.54104995727539 0.109375\n",
      "25.54104995727539 0.109375\n",
      "25.54104995727539 0.109375\n",
      "25.54104995727539 0.109375\n",
      "25.54104995727539 0.109375\n",
      "25.54104995727539 0.109375\n",
      "25.54104995727539 0.109375\n",
      "25.54104995727539 0.109375\n",
      "25.54104995727539 0.109375\n",
      "25.54104995727539 0.109375\n",
      "25.54104995727539 0.109375\n",
      "25.54104995727539 0.109375\n",
      "25.54104995727539 0.109375\n",
      "25.54104995727539 0.109375\n",
      "25.54104995727539 0.109375\n",
      "25.54104995727539 0.109375\n",
      "25.54104995727539 0.109375\n",
      "25.54104995727539 0.109375\n",
      "25.54104995727539 0.109375\n",
      "25.54104995727539 0.109375\n",
      "25.54104995727539 0.109375\n",
      "25.54104995727539 0.109375\n",
      "25.54104995727539 0.109375\n",
      "25.54104995727539 0.109375\n",
      "25.54104995727539 0.109375\n",
      "25.54104995727539 0.109375\n",
      "25.54104995727539 0.109375\n",
      "25.54104995727539 0.109375\n",
      "25.54104995727539 0.109375\n",
      "25.54104995727539 0.109375\n",
      "25.54104995727539 0.109375\n",
      "25.54104995727539 0.109375\n",
      "25.54104995727539 0.109375\n",
      "25.54104995727539 0.109375\n",
      "25.54104995727539 0.109375\n",
      "25.54104995727539 0.109375\n",
      "25.54104995727539 0.109375\n",
      "25.54104995727539 0.109375\n",
      "25.54104995727539 0.109375\n",
      "25.54104995727539 0.109375\n",
      "25.54104995727539 0.109375\n",
      "25.54104995727539 0.109375\n",
      "25.54104995727539 0.109375\n",
      "25.54104995727539 0.109375\n",
      "25.54104995727539 0.109375\n",
      "25.54104995727539 0.109375\n",
      "25.54104995727539 0.109375\n",
      "25.54104995727539 0.109375\n",
      "25.54104995727539 0.109375\n",
      "25.54104995727539 0.109375\n",
      "25.54104995727539 0.109375\n",
      "25.54104995727539 0.109375\n",
      "25.54104995727539 0.109375\n",
      "25.54104995727539 0.109375\n",
      "25.54104995727539 0.109375\n",
      "25.54104995727539 0.109375\n",
      "25.54104995727539 0.109375\n",
      "25.54104995727539 0.109375\n",
      "25.54104995727539 0.109375\n"
     ]
    },
    {
     "data": {
      "text/plain": [
       "(25.54104995727539, 0.109375)"
      ]
     },
     "execution_count": 90,
     "metadata": {},
     "output_type": "execute_result"
    }
   ],
   "execution_count": 90
  },
  {
   "metadata": {
    "ExecuteTime": {
     "end_time": "2024-06-07T13:03:41.259991Z",
     "start_time": "2024-06-07T13:03:41.253014Z"
    }
   },
   "cell_type": "code",
   "source": [
    "def eye_test(model,puzzle):\n",
    "    tensor=puzzle_to_tensor(puzzle).cuda()\n",
    "    out=model.forward(tensor)\n",
    "    return sorted(zip(expected_tags_list,out.squeeze().tolist()),key=lambda x:-x[1]),puzzle.tags\n",
    "\n",
    "eye_test(model,filter_data(load(100))[0])"
   ],
   "id": "3810482fe9e960bf",
   "outputs": [
    {
     "data": {
      "text/plain": [
       "([('discoveredAttack', -0.0025150116998702288),\n",
       "  ('pin', -6.047675132751465),\n",
       "  ('zugzwang', -8.906311988830566),\n",
       "  ('clearance', -11.255400657653809),\n",
       "  ('fork', -17.663063049316406),\n",
       "  ('deflection', -18.95039939880371),\n",
       "  ('attraction', -19.286771774291992),\n",
       "  ('sacrifice', -20.158817291259766),\n",
       "  ('skewer', -53.08643341064453),\n",
       "  ('doubleCheck', -65.40817260742188),\n",
       "  ('xRayAttack', -68.17584991455078)],\n",
       " ['crushing', 'endgame', 'exposedKing', 'long', 'skewer'])"
      ]
     },
     "execution_count": 88,
     "metadata": {},
     "output_type": "execute_result"
    }
   ],
   "execution_count": 88
  }
 ],
 "metadata": {
  "kernelspec": {
   "display_name": "Python 3",
   "language": "python",
   "name": "python3"
  },
  "language_info": {
   "codemirror_mode": {
    "name": "ipython",
    "version": 2
   },
   "file_extension": ".py",
   "mimetype": "text/x-python",
   "name": "python",
   "nbconvert_exporter": "python",
   "pygments_lexer": "ipython2",
   "version": "2.7.6"
  }
 },
 "nbformat": 4,
 "nbformat_minor": 5
}
