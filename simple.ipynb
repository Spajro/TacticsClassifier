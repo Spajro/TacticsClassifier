{
 "cells": [
  {
   "metadata": {
    "id": "9dfc98def8fb55f"
   },
   "cell_type": "markdown",
   "source": [
    "# LOADING DATASET"
   ],
   "id": "9dfc98def8fb55f"
  },
  {
   "cell_type": "code",
   "source": [
    "!pip install zstandard\n",
    "!pip install chess"
   ],
   "metadata": {
    "colab": {
     "base_uri": "https://localhost:8080/"
    },
    "id": "N75JnRl7ei5w",
    "outputId": "caa716f4-2e3f-49e4-bb1a-1db1699ec3b9"
   },
   "id": "N75JnRl7ei5w",
   "execution_count": 66,
   "outputs": [
    {
     "output_type": "stream",
     "name": "stdout",
     "text": [
      "Requirement already satisfied: zstandard in /usr/local/lib/python3.10/dist-packages (0.22.0)\n",
      "Requirement already satisfied: chess in /usr/local/lib/python3.10/dist-packages (1.10.0)\n"
     ]
    }
   ]
  },
  {
   "metadata": {
    "id": "c4b51d4c10754771",
    "ExecuteTime": {
     "end_time": "2024-06-13T00:46:11.177071Z",
     "start_time": "2024-06-13T00:46:11.174305Z"
    }
   },
   "cell_type": "code",
   "source": [
    "import pathlib\n",
    "import urllib\n",
    "import zstandard\n",
    "import chess\n",
    "import torch\n",
    "import numpy as np\n",
    "from torch import nn\n",
    "import math\n",
    "import time"
   ],
   "id": "c4b51d4c10754771",
   "outputs": [],
   "execution_count": 33
  },
  {
   "metadata": {
    "id": "c1af7d40bfdbe229",
    "ExecuteTime": {
     "end_time": "2024-06-13T00:37:20.817121Z",
     "start_time": "2024-06-13T00:37:20.813298Z"
    }
   },
   "cell_type": "code",
   "source": [
    "def __download(url: str, name: str) -> str:\n",
    "    path, _ = urllib.request.urlretrieve(url, name)\n",
    "    return path\n",
    "\n",
    "\n",
    "def __unpack(path: str, name: str):\n",
    "    input_file = pathlib.Path(path)\n",
    "    with open(input_file, 'rb') as compressed:\n",
    "        decomp = zstandard.ZstdDecompressor()\n",
    "        output_path = name\n",
    "        with open(output_path, 'wb') as destination:\n",
    "            decomp.copy_stream(compressed, destination)\n",
    "            destination.close()\n",
    "        compressed.close()\n",
    "\n",
    "\n",
    "def __remove(path: str):\n",
    "    pathlib.Path.unlink(pathlib.Path(path))"
   ],
   "id": "c1af7d40bfdbe229",
   "outputs": [],
   "execution_count": 2
  },
  {
   "metadata": {
    "id": "7b7f765e257cee1f",
    "ExecuteTime": {
     "end_time": "2024-06-13T00:37:39.185545Z",
     "start_time": "2024-06-13T00:37:20.817654Z"
    }
   },
   "cell_type": "code",
   "source": [
    "path = __download(\"https://database.lichess.org/lichess_db_puzzle.csv.zst\", \"lichess_db_puzzle.csv.zst\")"
   ],
   "id": "7b7f765e257cee1f",
   "outputs": [],
   "execution_count": 3
  },
  {
   "metadata": {
    "id": "ca1de55ee484bb4e",
    "ExecuteTime": {
     "end_time": "2024-06-13T00:37:40.138174Z",
     "start_time": "2024-06-13T00:37:39.186549Z"
    }
   },
   "cell_type": "code",
   "source": [
    "__unpack(path, \"lichess_db_puzzle.csv\")"
   ],
   "id": "ca1de55ee484bb4e",
   "outputs": [],
   "execution_count": 4
  },
  {
   "metadata": {
    "id": "876c56ec9a7ac80d",
    "ExecuteTime": {
     "end_time": "2024-06-13T00:37:40.152895Z",
     "start_time": "2024-06-13T00:37:40.138174Z"
    }
   },
   "cell_type": "code",
   "source": [
    "__remove(\"lichess_db_puzzle.csv.zst\")"
   ],
   "id": "876c56ec9a7ac80d",
   "outputs": [],
   "execution_count": 5
  },
  {
   "cell_type": "code",
   "id": "initial_id",
   "metadata": {
    "collapsed": true,
    "id": "initial_id",
    "ExecuteTime": {
     "end_time": "2024-06-13T00:37:40.156833Z",
     "start_time": "2024-06-13T00:37:40.153899Z"
    }
   },
   "source": [
    "class Puzzle:\n",
    "    def __init__(self, row: str):\n",
    "        fields = row.split(',')\n",
    "        self.fen = fields[1]\n",
    "        self.moves = fields[2].split(\" \")\n",
    "        self.tags = fields[7].split(\" \")\n",
    "\n",
    "    def __str__(self):\n",
    "        return \"{fen: \" + self.fen + \" ,tags: [\" + \", \".join(self.tags) + \"],moves: [\" + \",\".join(self.moves) + \"]}\""
   ],
   "outputs": [],
   "execution_count": 6
  },
  {
   "metadata": {
    "id": "d76ee6cf90617af0",
    "ExecuteTime": {
     "end_time": "2024-06-13T00:37:40.162536Z",
     "start_time": "2024-06-13T00:37:40.157383Z"
    }
   },
   "cell_type": "code",
   "source": [
    "def load(k: int) -> [Puzzle]:\n",
    "    f = open(\"lichess_db_puzzle.csv\")\n",
    "    f.readline()\n",
    "    result = []\n",
    "    for i in range(k):\n",
    "        result.append(Puzzle(f.readline()))\n",
    "    f.close()\n",
    "    return result"
   ],
   "id": "d76ee6cf90617af0",
   "outputs": [],
   "execution_count": 7
  },
  {
   "metadata": {
    "colab": {
     "base_uri": "https://localhost:8080/",
     "height": 53
    },
    "id": "57feb45f444a7d0a",
    "outputId": "8090c7e2-c603-4b16-f54c-fcc74bc6025d",
    "ExecuteTime": {
     "end_time": "2024-06-13T00:37:40.169216Z",
     "start_time": "2024-06-13T00:37:40.162536Z"
    }
   },
   "cell_type": "code",
   "source": [
    "load(10)[0].__str__()"
   ],
   "id": "57feb45f444a7d0a",
   "outputs": [
    {
     "data": {
      "text/plain": [
       "'{fen: r6k/pp2r2p/4Rp1Q/3p4/8/1N1P2R1/PqP2bPP/7K b - - 0 24 ,tags: [crushing, hangingPiece, long, middlegame],moves: [f2g3,e6e7,b2b1,b3c1,b1c1,h6c1]}'"
      ]
     },
     "execution_count": 8,
     "metadata": {},
     "output_type": "execute_result"
    }
   ],
   "execution_count": 8
  },
  {
   "metadata": {
    "id": "f362b99117932533"
   },
   "cell_type": "markdown",
   "source": [
    "# FILTER DATASET"
   ],
   "id": "f362b99117932533"
  },
  {
   "metadata": {
    "id": "54b9c024e9edbc45",
    "ExecuteTime": {
     "end_time": "2024-06-13T00:37:40.173130Z",
     "start_time": "2024-06-13T00:37:40.169308Z"
    }
   },
   "cell_type": "code",
   "source": [
    "expected_tags = {\n",
    "    'attraction',\n",
    "    'discoveredAttack',\n",
    "    'doubleCheck',\n",
    "    'fork',\n",
    "    'pin',\n",
    "    'sacrifice',\n",
    "    'skewer',\n",
    "    'xRayAttack',\n",
    "    'zugzwang',\n",
    "    'deflection',\n",
    "    'clearance'\n",
    "}"
   ],
   "id": "54b9c024e9edbc45",
   "outputs": [],
   "execution_count": 9
  },
  {
   "metadata": {
    "id": "b4c7b42dafb2af34",
    "ExecuteTime": {
     "end_time": "2024-06-13T00:37:40.178410Z",
     "start_time": "2024-06-13T00:37:40.173637Z"
    }
   },
   "cell_type": "code",
   "source": [
    "expected_tags_list = list(expected_tags)"
   ],
   "id": "b4c7b42dafb2af34",
   "outputs": [],
   "execution_count": 10
  },
  {
   "metadata": {
    "id": "68a75e47bbf20450",
    "ExecuteTime": {
     "end_time": "2024-06-13T00:37:40.183229Z",
     "start_time": "2024-06-13T00:37:40.178410Z"
    }
   },
   "cell_type": "code",
   "source": [
    "def filter_data(data: [Puzzle]) -> [Puzzle]:\n",
    "    return list(filter(lambda p: len(set(p.tags) & expected_tags) == 1, data))"
   ],
   "id": "68a75e47bbf20450",
   "outputs": [],
   "execution_count": 11
  },
  {
   "metadata": {
    "colab": {
     "base_uri": "https://localhost:8080/"
    },
    "id": "ed1341d0f35d0c64",
    "outputId": "c120971e-7448-4d9f-a6be-fcad19c8d63a",
    "ExecuteTime": {
     "end_time": "2024-06-13T00:37:40.189325Z",
     "start_time": "2024-06-13T00:37:40.183229Z"
    }
   },
   "cell_type": "code",
   "source": [
    "len(filter_data(load(100)))"
   ],
   "id": "ed1341d0f35d0c64",
   "outputs": [
    {
     "data": {
      "text/plain": [
       "37"
      ]
     },
     "execution_count": 12,
     "metadata": {},
     "output_type": "execute_result"
    }
   ],
   "execution_count": 12
  },
  {
   "metadata": {
    "id": "a5c92e35f0ad916d"
   },
   "cell_type": "markdown",
   "source": [
    "# CONVERSION TO TENSOR"
   ],
   "id": "a5c92e35f0ad916d"
  },
  {
   "metadata": {
    "id": "10c35e85f53b2f3c",
    "ExecuteTime": {
     "end_time": "2024-06-13T00:37:40.194334Z",
     "start_time": "2024-06-13T00:37:40.189325Z"
    }
   },
   "cell_type": "code",
   "source": [
    "def bitboard_to_tensor(bitboard: int) -> torch.Tensor:\n",
    "    li = [1 if digit == '1' else 0 for digit in bin(bitboard)[2:]]\n",
    "    li = [0 for _ in range(64 - len(li))] + li\n",
    "    return torch.tensor(li).reshape((8, 8))"
   ],
   "id": "10c35e85f53b2f3c",
   "outputs": [],
   "execution_count": 13
  },
  {
   "metadata": {
    "id": "ac21f78c3f6922b4",
    "ExecuteTime": {
     "end_time": "2024-06-13T00:37:40.199814Z",
     "start_time": "2024-06-13T00:37:40.194334Z"
    }
   },
   "cell_type": "code",
   "source": [
    "def fen_to_tensors_list(fen: str) -> [torch.Tensor]:\n",
    "    board = chess.Board(fen)\n",
    "    return [\n",
    "        bitboard_to_tensor(board.occupied_co[chess.WHITE]),\n",
    "        bitboard_to_tensor(board.occupied_co[chess.BLACK]),\n",
    "        bitboard_to_tensor(board.pawns),\n",
    "        bitboard_to_tensor(board.kings),\n",
    "        bitboard_to_tensor(board.queens),\n",
    "        bitboard_to_tensor(board.knights),\n",
    "        bitboard_to_tensor(board.bishops),\n",
    "        bitboard_to_tensor(board.rooks)\n",
    "    ]"
   ],
   "id": "ac21f78c3f6922b4",
   "outputs": [],
   "execution_count": 14
  },
  {
   "metadata": {
    "colab": {
     "base_uri": "https://localhost:8080/"
    },
    "id": "2af6bc1bbdd66c04",
    "outputId": "34461af0-1e7c-4099-919c-4b76f550644c",
    "ExecuteTime": {
     "end_time": "2024-06-13T00:37:40.224544Z",
     "start_time": "2024-06-13T00:37:40.199814Z"
    }
   },
   "cell_type": "code",
   "source": [
    "fen_to_tensors_list(load(1)[0].fen)"
   ],
   "id": "2af6bc1bbdd66c04",
   "outputs": [
    {
     "data": {
      "text/plain": [
       "[tensor([[0, 0, 0, 0, 0, 0, 0, 0],\n",
       "         [0, 0, 0, 0, 0, 0, 0, 0],\n",
       "         [1, 0, 0, 1, 0, 0, 0, 0],\n",
       "         [0, 0, 0, 0, 0, 0, 0, 0],\n",
       "         [0, 0, 0, 0, 0, 0, 0, 0],\n",
       "         [0, 1, 0, 0, 1, 0, 1, 0],\n",
       "         [1, 1, 0, 0, 0, 1, 0, 1],\n",
       "         [1, 0, 0, 0, 0, 0, 0, 0]]),\n",
       " tensor([[1, 0, 0, 0, 0, 0, 0, 1],\n",
       "         [1, 0, 0, 1, 0, 0, 1, 1],\n",
       "         [0, 0, 1, 0, 0, 0, 0, 0],\n",
       "         [0, 0, 0, 0, 1, 0, 0, 0],\n",
       "         [0, 0, 0, 0, 0, 0, 0, 0],\n",
       "         [0, 0, 0, 0, 0, 0, 0, 0],\n",
       "         [0, 0, 1, 0, 0, 0, 1, 0],\n",
       "         [0, 0, 0, 0, 0, 0, 0, 0]]),\n",
       " tensor([[0, 0, 0, 0, 0, 0, 0, 0],\n",
       "         [1, 0, 0, 0, 0, 0, 1, 1],\n",
       "         [0, 0, 1, 0, 0, 0, 0, 0],\n",
       "         [0, 0, 0, 0, 1, 0, 0, 0],\n",
       "         [0, 0, 0, 0, 0, 0, 0, 0],\n",
       "         [0, 0, 0, 0, 1, 0, 0, 0],\n",
       "         [1, 1, 0, 0, 0, 1, 0, 1],\n",
       "         [0, 0, 0, 0, 0, 0, 0, 0]]),\n",
       " tensor([[1, 0, 0, 0, 0, 0, 0, 0],\n",
       "         [0, 0, 0, 0, 0, 0, 0, 0],\n",
       "         [0, 0, 0, 0, 0, 0, 0, 0],\n",
       "         [0, 0, 0, 0, 0, 0, 0, 0],\n",
       "         [0, 0, 0, 0, 0, 0, 0, 0],\n",
       "         [0, 0, 0, 0, 0, 0, 0, 0],\n",
       "         [0, 0, 0, 0, 0, 0, 0, 0],\n",
       "         [1, 0, 0, 0, 0, 0, 0, 0]]),\n",
       " tensor([[0, 0, 0, 0, 0, 0, 0, 0],\n",
       "         [0, 0, 0, 0, 0, 0, 0, 0],\n",
       "         [1, 0, 0, 0, 0, 0, 0, 0],\n",
       "         [0, 0, 0, 0, 0, 0, 0, 0],\n",
       "         [0, 0, 0, 0, 0, 0, 0, 0],\n",
       "         [0, 0, 0, 0, 0, 0, 0, 0],\n",
       "         [0, 0, 0, 0, 0, 0, 1, 0],\n",
       "         [0, 0, 0, 0, 0, 0, 0, 0]]),\n",
       " tensor([[0, 0, 0, 0, 0, 0, 0, 0],\n",
       "         [0, 0, 0, 0, 0, 0, 0, 0],\n",
       "         [0, 0, 0, 0, 0, 0, 0, 0],\n",
       "         [0, 0, 0, 0, 0, 0, 0, 0],\n",
       "         [0, 0, 0, 0, 0, 0, 0, 0],\n",
       "         [0, 0, 0, 0, 0, 0, 1, 0],\n",
       "         [0, 0, 0, 0, 0, 0, 0, 0],\n",
       "         [0, 0, 0, 0, 0, 0, 0, 0]]),\n",
       " tensor([[0, 0, 0, 0, 0, 0, 0, 0],\n",
       "         [0, 0, 0, 0, 0, 0, 0, 0],\n",
       "         [0, 0, 0, 0, 0, 0, 0, 0],\n",
       "         [0, 0, 0, 0, 0, 0, 0, 0],\n",
       "         [0, 0, 0, 0, 0, 0, 0, 0],\n",
       "         [0, 0, 0, 0, 0, 0, 0, 0],\n",
       "         [0, 0, 1, 0, 0, 0, 0, 0],\n",
       "         [0, 0, 0, 0, 0, 0, 0, 0]]),\n",
       " tensor([[0, 0, 0, 0, 0, 0, 0, 1],\n",
       "         [0, 0, 0, 1, 0, 0, 0, 0],\n",
       "         [0, 0, 0, 1, 0, 0, 0, 0],\n",
       "         [0, 0, 0, 0, 0, 0, 0, 0],\n",
       "         [0, 0, 0, 0, 0, 0, 0, 0],\n",
       "         [0, 1, 0, 0, 0, 0, 0, 0],\n",
       "         [0, 0, 0, 0, 0, 0, 0, 0],\n",
       "         [0, 0, 0, 0, 0, 0, 0, 0]])]"
      ]
     },
     "execution_count": 15,
     "metadata": {},
     "output_type": "execute_result"
    }
   ],
   "execution_count": 15
  },
  {
   "metadata": {
    "id": "17c3f21abe4260e5",
    "ExecuteTime": {
     "end_time": "2024-06-13T00:37:40.227546Z",
     "start_time": "2024-06-13T00:37:40.224544Z"
    }
   },
   "cell_type": "code",
   "source": [
    "def move_to_tensor(move: str) -> torch.Tensor:\n",
    "    x1 = 7 - ord(move[0]) + ord('a')\n",
    "    y1 = 8 - int(move[1])\n",
    "    x2 = 7 - ord(move[2]) + ord('a')\n",
    "    y2 = 8 - int(move[3])\n",
    "    tensor = torch.zeros(8, 8)\n",
    "    tensor[y1][x1] = 1\n",
    "    tensor[y2][x2] = 1\n",
    "    return tensor"
   ],
   "id": "17c3f21abe4260e5",
   "outputs": [],
   "execution_count": 16
  },
  {
   "metadata": {
    "colab": {
     "base_uri": "https://localhost:8080/"
    },
    "id": "104d99da6a271a6a",
    "outputId": "4c8e870d-2a95-4279-f691-408b6195571b",
    "ExecuteTime": {
     "end_time": "2024-06-13T00:37:40.255153Z",
     "start_time": "2024-06-13T00:37:40.251971Z"
    }
   },
   "cell_type": "code",
   "source": [
    "print(move_to_tensor('e2e4'))"
   ],
   "id": "104d99da6a271a6a",
   "outputs": [
    {
     "name": "stdout",
     "output_type": "stream",
     "text": [
      "tensor([[0., 0., 0., 0., 0., 0., 0., 0.],\n",
      "        [0., 0., 0., 0., 0., 0., 0., 0.],\n",
      "        [0., 0., 0., 0., 0., 0., 0., 0.],\n",
      "        [0., 0., 0., 0., 0., 0., 0., 0.],\n",
      "        [0., 0., 0., 1., 0., 0., 0., 0.],\n",
      "        [0., 0., 0., 0., 0., 0., 0., 0.],\n",
      "        [0., 0., 0., 1., 0., 0., 0., 0.],\n",
      "        [0., 0., 0., 0., 0., 0., 0., 0.]])\n"
     ]
    }
   ],
   "execution_count": 18
  },
  {
   "metadata": {
    "id": "7d58e2f64a04bec6",
    "ExecuteTime": {
     "end_time": "2024-06-13T00:37:40.260584Z",
     "start_time": "2024-06-13T00:37:40.255153Z"
    }
   },
   "cell_type": "code",
   "source": [
    "def puzzle_to_tensor(puzzle: Puzzle) -> torch.Tensor:\n",
    "    fen_tensors = fen_to_tensors_list(puzzle.fen)\n",
    "    move_tensors = [move_to_tensor(puzzle.moves[0]), move_to_tensor(puzzle.moves[1])]  # FIRST TWO MOVES\n",
    "    return torch.stack(fen_tensors + move_tensors)"
   ],
   "id": "7d58e2f64a04bec6",
   "outputs": [],
   "execution_count": 19
  },
  {
   "metadata": {
    "colab": {
     "base_uri": "https://localhost:8080/"
    },
    "id": "f086ac45785396dd",
    "outputId": "6001e3b8-6fb1-4dbb-cc0f-ddf25c3e4a98",
    "ExecuteTime": {
     "end_time": "2024-06-13T00:37:40.269419Z",
     "start_time": "2024-06-13T00:37:40.260584Z"
    }
   },
   "cell_type": "code",
   "source": [
    "puzzle_to_tensor(load(1)[0])"
   ],
   "id": "f086ac45785396dd",
   "outputs": [
    {
     "data": {
      "text/plain": [
       "tensor([[[0., 0., 0., 0., 0., 0., 0., 0.],\n",
       "         [0., 0., 0., 0., 0., 0., 0., 0.],\n",
       "         [1., 0., 0., 1., 0., 0., 0., 0.],\n",
       "         [0., 0., 0., 0., 0., 0., 0., 0.],\n",
       "         [0., 0., 0., 0., 0., 0., 0., 0.],\n",
       "         [0., 1., 0., 0., 1., 0., 1., 0.],\n",
       "         [1., 1., 0., 0., 0., 1., 0., 1.],\n",
       "         [1., 0., 0., 0., 0., 0., 0., 0.]],\n",
       "\n",
       "        [[1., 0., 0., 0., 0., 0., 0., 1.],\n",
       "         [1., 0., 0., 1., 0., 0., 1., 1.],\n",
       "         [0., 0., 1., 0., 0., 0., 0., 0.],\n",
       "         [0., 0., 0., 0., 1., 0., 0., 0.],\n",
       "         [0., 0., 0., 0., 0., 0., 0., 0.],\n",
       "         [0., 0., 0., 0., 0., 0., 0., 0.],\n",
       "         [0., 0., 1., 0., 0., 0., 1., 0.],\n",
       "         [0., 0., 0., 0., 0., 0., 0., 0.]],\n",
       "\n",
       "        [[0., 0., 0., 0., 0., 0., 0., 0.],\n",
       "         [1., 0., 0., 0., 0., 0., 1., 1.],\n",
       "         [0., 0., 1., 0., 0., 0., 0., 0.],\n",
       "         [0., 0., 0., 0., 1., 0., 0., 0.],\n",
       "         [0., 0., 0., 0., 0., 0., 0., 0.],\n",
       "         [0., 0., 0., 0., 1., 0., 0., 0.],\n",
       "         [1., 1., 0., 0., 0., 1., 0., 1.],\n",
       "         [0., 0., 0., 0., 0., 0., 0., 0.]],\n",
       "\n",
       "        [[1., 0., 0., 0., 0., 0., 0., 0.],\n",
       "         [0., 0., 0., 0., 0., 0., 0., 0.],\n",
       "         [0., 0., 0., 0., 0., 0., 0., 0.],\n",
       "         [0., 0., 0., 0., 0., 0., 0., 0.],\n",
       "         [0., 0., 0., 0., 0., 0., 0., 0.],\n",
       "         [0., 0., 0., 0., 0., 0., 0., 0.],\n",
       "         [0., 0., 0., 0., 0., 0., 0., 0.],\n",
       "         [1., 0., 0., 0., 0., 0., 0., 0.]],\n",
       "\n",
       "        [[0., 0., 0., 0., 0., 0., 0., 0.],\n",
       "         [0., 0., 0., 0., 0., 0., 0., 0.],\n",
       "         [1., 0., 0., 0., 0., 0., 0., 0.],\n",
       "         [0., 0., 0., 0., 0., 0., 0., 0.],\n",
       "         [0., 0., 0., 0., 0., 0., 0., 0.],\n",
       "         [0., 0., 0., 0., 0., 0., 0., 0.],\n",
       "         [0., 0., 0., 0., 0., 0., 1., 0.],\n",
       "         [0., 0., 0., 0., 0., 0., 0., 0.]],\n",
       "\n",
       "        [[0., 0., 0., 0., 0., 0., 0., 0.],\n",
       "         [0., 0., 0., 0., 0., 0., 0., 0.],\n",
       "         [0., 0., 0., 0., 0., 0., 0., 0.],\n",
       "         [0., 0., 0., 0., 0., 0., 0., 0.],\n",
       "         [0., 0., 0., 0., 0., 0., 0., 0.],\n",
       "         [0., 0., 0., 0., 0., 0., 1., 0.],\n",
       "         [0., 0., 0., 0., 0., 0., 0., 0.],\n",
       "         [0., 0., 0., 0., 0., 0., 0., 0.]],\n",
       "\n",
       "        [[0., 0., 0., 0., 0., 0., 0., 0.],\n",
       "         [0., 0., 0., 0., 0., 0., 0., 0.],\n",
       "         [0., 0., 0., 0., 0., 0., 0., 0.],\n",
       "         [0., 0., 0., 0., 0., 0., 0., 0.],\n",
       "         [0., 0., 0., 0., 0., 0., 0., 0.],\n",
       "         [0., 0., 0., 0., 0., 0., 0., 0.],\n",
       "         [0., 0., 1., 0., 0., 0., 0., 0.],\n",
       "         [0., 0., 0., 0., 0., 0., 0., 0.]],\n",
       "\n",
       "        [[0., 0., 0., 0., 0., 0., 0., 1.],\n",
       "         [0., 0., 0., 1., 0., 0., 0., 0.],\n",
       "         [0., 0., 0., 1., 0., 0., 0., 0.],\n",
       "         [0., 0., 0., 0., 0., 0., 0., 0.],\n",
       "         [0., 0., 0., 0., 0., 0., 0., 0.],\n",
       "         [0., 1., 0., 0., 0., 0., 0., 0.],\n",
       "         [0., 0., 0., 0., 0., 0., 0., 0.],\n",
       "         [0., 0., 0., 0., 0., 0., 0., 0.]],\n",
       "\n",
       "        [[0., 0., 0., 0., 0., 0., 0., 0.],\n",
       "         [0., 0., 0., 0., 0., 0., 0., 0.],\n",
       "         [0., 0., 0., 0., 0., 0., 0., 0.],\n",
       "         [0., 0., 0., 0., 0., 0., 0., 0.],\n",
       "         [0., 0., 0., 0., 0., 0., 0., 0.],\n",
       "         [0., 1., 0., 0., 0., 0., 0., 0.],\n",
       "         [0., 0., 1., 0., 0., 0., 0., 0.],\n",
       "         [0., 0., 0., 0., 0., 0., 0., 0.]],\n",
       "\n",
       "        [[0., 0., 0., 0., 0., 0., 0., 0.],\n",
       "         [0., 0., 0., 1., 0., 0., 0., 0.],\n",
       "         [0., 0., 0., 1., 0., 0., 0., 0.],\n",
       "         [0., 0., 0., 0., 0., 0., 0., 0.],\n",
       "         [0., 0., 0., 0., 0., 0., 0., 0.],\n",
       "         [0., 0., 0., 0., 0., 0., 0., 0.],\n",
       "         [0., 0., 0., 0., 0., 0., 0., 0.],\n",
       "         [0., 0., 0., 0., 0., 0., 0., 0.]]])"
      ]
     },
     "execution_count": 20,
     "metadata": {},
     "output_type": "execute_result"
    }
   ],
   "execution_count": 20
  },
  {
   "metadata": {
    "id": "577ba77d6cc0369a"
   },
   "cell_type": "markdown",
   "source": [
    "# CONVERT AND BATCH DATASET"
   ],
   "id": "577ba77d6cc0369a"
  },
  {
   "metadata": {
    "id": "f69689ed3c928f55",
    "ExecuteTime": {
     "end_time": "2024-06-13T00:37:54.037937Z",
     "start_time": "2024-06-13T00:37:54.034936Z"
    }
   },
   "cell_type": "code",
   "source": [
    "def puzzle_to_truth(puzzle: Puzzle) -> torch.Tensor:\n",
    "    tensor = torch.zeros(len(expected_tags_list))\n",
    "    [tag] = set(puzzle.tags) & expected_tags\n",
    "    index = expected_tags_list.index(tag)\n",
    "    tensor[index] = 1\n",
    "    return torch.zeros(1) + index"
   ],
   "id": "f69689ed3c928f55",
   "outputs": [],
   "execution_count": 21
  },
  {
   "metadata": {
    "colab": {
     "base_uri": "https://localhost:8080/"
    },
    "id": "abd55187edfe5df",
    "outputId": "f6911bb9-c23d-4592-e06f-543c53eabeab",
    "ExecuteTime": {
     "end_time": "2024-06-13T00:37:54.564564Z",
     "start_time": "2024-06-13T00:37:54.559906Z"
    }
   },
   "cell_type": "code",
   "source": [
    "puzzle_to_truth(filter_data(load(100))[0])"
   ],
   "id": "abd55187edfe5df",
   "outputs": [
    {
     "data": {
      "text/plain": [
       "tensor([9.])"
      ]
     },
     "execution_count": 22,
     "metadata": {},
     "output_type": "execute_result"
    }
   ],
   "execution_count": 22
  },
  {
   "metadata": {
    "id": "bf6296834a2068eb",
    "ExecuteTime": {
     "end_time": "2024-06-13T00:37:55.097646Z",
     "start_time": "2024-06-13T00:37:55.094647Z"
    }
   },
   "cell_type": "code",
   "source": [
    "BATCH_SIZE = 64"
   ],
   "id": "bf6296834a2068eb",
   "outputs": [],
   "execution_count": 23
  },
  {
   "metadata": {
    "id": "2a98f0f8bbd52026",
    "ExecuteTime": {
     "end_time": "2024-06-13T00:37:55.445902Z",
     "start_time": "2024-06-13T00:37:55.443465Z"
    }
   },
   "cell_type": "code",
   "source": [
    "def convert_dataset(puzzles: [Puzzle]) -> list[tuple[torch.Tensor, torch.Tensor]]:\n",
    "    return [(puzzle_to_tensor(puzzle), puzzle_to_truth(puzzle)) for puzzle in puzzles]"
   ],
   "id": "2a98f0f8bbd52026",
   "outputs": [],
   "execution_count": 24
  },
  {
   "metadata": {
    "id": "37b1f86d84eb8476",
    "ExecuteTime": {
     "end_time": "2024-06-13T00:37:55.796130Z",
     "start_time": "2024-06-13T00:37:55.793450Z"
    }
   },
   "cell_type": "code",
   "source": [
    "def dataset_to_batches(dataset: list[tuple[torch.Tensor, torch.Tensor]]) -> list[tuple[torch.Tensor, torch.Tensor]]:\n",
    "    batches = []\n",
    "    index = 0\n",
    "    while index + BATCH_SIZE <= len(dataset):\n",
    "        batch = []\n",
    "        truth = []\n",
    "        max_index = index + BATCH_SIZE\n",
    "        while index < max_index:\n",
    "            batch.append(dataset[index][0])\n",
    "            truth.append(dataset[index][1])\n",
    "            index += 1\n",
    "        batches.append((torch.stack(batch).cuda(), torch.tensor(truth).cuda().type(torch.long)))\n",
    "\n",
    "    return batches"
   ],
   "id": "37b1f86d84eb8476",
   "outputs": [],
   "execution_count": 25
  },
  {
   "metadata": {
    "colab": {
     "base_uri": "https://localhost:8080/"
    },
    "id": "2c6ecc1932649601",
    "outputId": "8d7d238c-6a9b-4d8b-8329-2316a5c271e0",
    "ExecuteTime": {
     "end_time": "2024-06-13T00:37:57.496271Z",
     "start_time": "2024-06-13T00:37:56.701133Z"
    }
   },
   "cell_type": "code",
   "source": [
    "batched_dataset=dataset_to_batches(convert_dataset(filter_data(load(10000))))\n",
    "print(len(batched_dataset))\n",
    "print(batched_dataset[0][0].shape,batched_dataset[0][1].shape)"
   ],
   "id": "2c6ecc1932649601",
   "outputs": [
    {
     "name": "stdout",
     "output_type": "stream",
     "text": [
      "47\n",
      "torch.Size([64, 10, 8, 8]) torch.Size([64])\n"
     ]
    }
   ],
   "execution_count": 26
  },
  {
   "metadata": {
    "id": "dd2e455b1a377348"
   },
   "cell_type": "markdown",
   "source": [
    "# TRAIN"
   ],
   "id": "dd2e455b1a377348"
  },
  {
   "metadata": {
    "id": "ab02ddd180fcdd69",
    "ExecuteTime": {
     "end_time": "2024-06-13T00:37:58.852313Z",
     "start_time": "2024-06-13T00:37:58.849810Z"
    }
   },
   "cell_type": "code",
   "source": [
    "def accuracy(out,truth):\n",
    "    return torch.argmax(out,dim=1) == truth"
   ],
   "id": "ab02ddd180fcdd69",
   "outputs": [],
   "execution_count": 27
  },
  {
   "metadata": {
    "id": "27c76f74edc787d2",
    "ExecuteTime": {
     "end_time": "2024-06-13T02:21:04.311882Z",
     "start_time": "2024-06-13T02:21:04.307678Z"
    }
   },
   "cell_type": "code",
   "source": [
    "class Model(nn.Module):\n",
    "    def __init__(self, *args, **kwargs):\n",
    "        super(Model, self).__init__()\n",
    "        self.classifier = nn.Sequential(*args, **kwargs)\n",
    "\n",
    "    def forward(self, X):\n",
    "        return self.classifier.forward(X)\n",
    "\n",
    "\n",
    "model = Model(nn.Conv2d(10, 8 * 8, kernel_size=4, padding=4),\n",
    "              nn.ReLU(),\n",
    "              nn.Conv2d(8 * 8, 4 * 4, kernel_size=2, padding=4),\n",
    "              nn.ReLU(),\n",
    "              nn.MaxPool2d(kernel_size=4, stride=1),\n",
    "              nn.Conv2d(4*4, 8 * 8, kernel_size=2, padding=4),\n",
    "              nn.ReLU(),\n",
    "              nn.Conv2d(8 * 8, 1, kernel_size=4, padding=4),\n",
    "              nn.ReLU(),\n",
    "              nn.Flatten(),\n",
    "              nn.Linear(841, 256),\n",
    "              nn.ReLU(),\n",
    "              nn.Linear(256, 64),\n",
    "              nn.ReLU(),\n",
    "              nn.Linear(64, 11),\n",
    "              nn.LogSoftmax(),\n",
    "              )\n",
    "criterion = (\n",
    "    nn.NLLLoss()\n",
    ")\n"
   ],
   "id": "27c76f74edc787d2",
   "outputs": [],
   "execution_count": 68
  },
  {
   "metadata": {
    "id": "230d17a6081a7ffc",
    "ExecuteTime": {
     "end_time": "2024-06-13T02:01:54.301737Z",
     "start_time": "2024-06-13T02:01:54.299361Z"
    }
   },
   "cell_type": "code",
   "source": [
    "size_to_load=3000000\n",
    "test_batches_count=500"
   ],
   "id": "230d17a6081a7ffc",
   "outputs": [],
   "execution_count": 57
  },
  {
   "metadata": {
    "colab": {
     "base_uri": "https://localhost:8080/"
    },
    "id": "d1a9a9709411156f",
    "outputId": "af34efb6-3217-469c-cfdb-144401927871",
    "ExecuteTime": {
     "end_time": "2024-06-13T01:18:14.211422Z",
     "start_time": "2024-06-13T01:13:08.204663Z"
    }
   },
   "cell_type": "code",
   "source": [
    "all_batches=dataset_to_batches(convert_dataset(filter_data(load(size_to_load))))\n",
    "train_batches=all_batches[test_batches_count:]\n",
    "test_batches=all_batches[:test_batches_count]\n",
    "print(len(all_batches),len(train_batches),len(test_batches))"
   ],
   "id": "d1a9a9709411156f",
   "outputs": [
    {
     "name": "stdout",
     "output_type": "stream",
     "text": [
      "14131 13631 500\n"
     ]
    }
   ],
   "execution_count": 48
  },
  {
   "metadata": {
    "id": "52588422f107c263",
    "ExecuteTime": {
     "end_time": "2024-06-13T01:18:14.215912Z",
     "start_time": "2024-06-13T01:18:14.212426Z"
    }
   },
   "cell_type": "code",
   "source": [
    "def train(model, criterion, optimizer, epoch):\n",
    "    model.cuda()\n",
    "    criterion.cuda()\n",
    "    batches = train_batches\n",
    "    size=len(batches)\n",
    "    print(\"Dataset size:\", len(batches))\n",
    "    for i in range(epoch):\n",
    "        time_started = time.time() * 1000\n",
    "        loss_sum=0.0\n",
    "        accuracy_sum=0.0\n",
    "        for batch, truth in batches:\n",
    "            optimizer.zero_grad()\n",
    "            out = model.forward(batch)\n",
    "            loss = criterion(out, truth)\n",
    "            loss.backward()\n",
    "            optimizer.step()\n",
    "            accuracy_value = accuracy(out,truth).sum()/BATCH_SIZE\n",
    "            \n",
    "            loss_sum+=loss.item()\n",
    "            accuracy_sum+=accuracy_value.item()\n",
    "            \n",
    "        passed_time = math.ceil(time.time() * 1000 - time_started)\n",
    "        print(f\"Epoch [{i+1}/{epoch}], loss: {loss_sum/size}, accuracy: {accuracy_sum/size}, time: {passed_time/1000}s\")"
   ],
   "id": "52588422f107c263",
   "outputs": [],
   "execution_count": 49
  },
  {
   "metadata": {
    "colab": {
     "base_uri": "https://localhost:8080/"
    },
    "id": "b500d4f989b86b92",
    "outputId": "ba85a3e2-7be2-43b0-90a6-0ceecdaa51c6",
    "ExecuteTime": {
     "end_time": "2024-06-13T02:38:25.750332Z",
     "start_time": "2024-06-13T02:21:06.329349Z"
    }
   },
   "cell_type": "code",
   "source": [
    "train(model,\n",
    "      criterion,\n",
    "      torch.optim.SGD(model.classifier.parameters(), lr=0.01),\n",
    "      50)"
   ],
   "id": "b500d4f989b86b92",
   "outputs": [
    {
     "name": "stdout",
     "output_type": "stream",
     "text": [
      "Dataset size: 13631\n",
      "Epoch [1/50], loss: 1.78140037952345, accuracy: 0.3936053389333138, time: 20.328s\n",
      "Epoch [2/50], loss: 1.5396891129304602, accuracy: 0.4606171135646688, time: 19.267s\n",
      "Epoch [3/50], loss: 1.4288309997380957, accuracy: 0.5023865637150613, time: 19.271s\n",
      "Epoch [4/50], loss: 1.3520844229362077, accuracy: 0.5342097058176216, time: 20.084s\n",
      "Epoch [5/50], loss: 1.2969078237588352, accuracy: 0.5577658462328516, time: 22.822s\n",
      "Epoch [6/50], loss: 1.2572920057737034, accuracy: 0.5740098397036167, time: 23.771s\n",
      "Epoch [7/50], loss: 1.228088633337756, accuracy: 0.5854669503337979, time: 19.807s\n",
      "Epoch [8/50], loss: 1.2046782599927288, accuracy: 0.5945019624385591, time: 21.229s\n",
      "Epoch [9/50], loss: 1.185227063941235, accuracy: 0.6021350689604578, time: 20.709s\n",
      "Epoch [10/50], loss: 1.1684491891703894, accuracy: 0.6083995121414423, time: 20.289s\n",
      "Epoch [11/50], loss: 1.153696843554746, accuracy: 0.6132723662974103, time: 21.455s\n",
      "Epoch [12/50], loss: 1.140628134969937, accuracy: 0.6181635610006603, time: 21.771s\n",
      "Epoch [13/50], loss: 1.1289558314269623, accuracy: 0.6224506639278116, time: 21.277s\n",
      "Epoch [14/50], loss: 1.1183238510217612, accuracy: 0.626006437532096, time: 20.568s\n",
      "Epoch [15/50], loss: 1.1088059189629025, accuracy: 0.6293627576846893, time: 20.729s\n",
      "Epoch [16/50], loss: 1.0998919065958352, accuracy: 0.6324198976597462, time: 21.487s\n",
      "Epoch [17/50], loss: 1.0918195811994322, accuracy: 0.6355595700975717, time: 20.366s\n",
      "Epoch [18/50], loss: 1.0844977460230414, accuracy: 0.6384642542733475, time: 20.323s\n",
      "Epoch [19/50], loss: 1.0775440183277745, accuracy: 0.6407144101679995, time: 19.796s\n",
      "Epoch [20/50], loss: 1.071093823006179, accuracy: 0.6432018468931113, time: 20.006s\n",
      "Epoch [21/50], loss: 1.0649897238363586, accuracy: 0.6452101368204827, time: 19.959s\n",
      "Epoch [22/50], loss: 1.0592868821950294, accuracy: 0.647188623358521, time: 20.025s\n",
      "Epoch [23/50], loss: 1.0539110278525292, accuracy: 0.6492129612647641, time: 20.004s\n",
      "Epoch [24/50], loss: 1.0488828110831314, accuracy: 0.6507260564155234, time: 19.904s\n",
      "Epoch [25/50], loss: 1.0441308385268862, accuracy: 0.6526185716381777, time: 20.572s\n",
      "Epoch [26/50], loss: 1.0395618959223916, accuracy: 0.654017038368425, time: 24.569s\n",
      "Epoch [27/50], loss: 1.0353343133731894, accuracy: 0.6555645220453379, time: 20.491s\n",
      "Epoch [28/50], loss: 1.0311758481662994, accuracy: 0.6569778904702517, time: 21.119s\n",
      "Epoch [29/50], loss: 1.0272145179517724, accuracy: 0.6585081798840877, time: 21.673s\n",
      "Epoch [30/50], loss: 1.023483355548532, accuracy: 0.6596441475313624, time: 21.336s\n",
      "Epoch [31/50], loss: 1.0197900370704605, accuracy: 0.6608523310835596, time: 20.507s\n",
      "Epoch [32/50], loss: 1.0165277182220687, accuracy: 0.66194932506786, time: 20.928s\n",
      "Epoch [33/50], loss: 1.0131996582883898, accuracy: 0.6630291247890837, time: 20.507s\n",
      "Epoch [34/50], loss: 1.0101776105074967, accuracy: 0.6643255722250752, time: 20.27s\n",
      "Epoch [35/50], loss: 1.0070643417947702, accuracy: 0.66551083009317, time: 21.672s\n",
      "Epoch [36/50], loss: 1.004238966498509, accuracy: 0.6661470178270119, time: 20.274s\n",
      "Epoch [37/50], loss: 1.0013232586424223, accuracy: 0.6668187403712127, time: 20.019s\n",
      "Epoch [38/50], loss: 0.9985907022999034, accuracy: 0.6681174803756144, time: 20.254s\n",
      "Epoch [39/50], loss: 0.9959895347133875, accuracy: 0.6689519752769423, time: 19.963s\n",
      "Epoch [40/50], loss: 0.9933302888437514, accuracy: 0.6698678563568337, time: 20.044s\n",
      "Epoch [41/50], loss: 0.9908905895796501, accuracy: 0.6706232576480082, time: 21.096s\n",
      "Epoch [42/50], loss: 0.9884952522891343, accuracy: 0.6715173593280024, time: 20.085s\n",
      "Epoch [43/50], loss: 0.9863032240675564, accuracy: 0.6725249431443034, time: 22.877s\n",
      "Epoch [44/50], loss: 0.9839118098217414, accuracy: 0.6732746130144523, time: 20.919s\n",
      "Epoch [45/50], loss: 0.9817138140562406, accuracy: 0.6739062156114738, time: 20.421s\n",
      "Epoch [46/50], loss: 0.9796944122812594, accuracy: 0.6746272283764948, time: 20.985s\n",
      "Epoch [47/50], loss: 0.9776803187085269, accuracy: 0.6755580111510527, time: 21.43s\n",
      "Epoch [48/50], loss: 0.9756541438764228, accuracy: 0.6761414698114592, time: 21.272s\n",
      "Epoch [49/50], loss: 0.9737475147321476, accuracy: 0.6766825159562762, time: 20.727s\n",
      "Epoch [50/50], loss: 0.9718976593421618, accuracy: 0.6773966510160663, time: 20.181s\n"
     ]
    }
   ],
   "execution_count": 69
  },
  {
   "metadata": {
    "id": "1f69aaab85e1966a",
    "ExecuteTime": {
     "end_time": "2024-06-13T00:45:32.211009Z",
     "start_time": "2024-06-13T00:45:32.211009Z"
    }
   },
   "cell_type": "code",
   "source": [
    "torch.save(model,'model.pt')"
   ],
   "id": "1f69aaab85e1966a",
   "outputs": [],
   "execution_count": null
  },
  {
   "metadata": {
    "id": "c8251ffcc9b16e94",
    "ExecuteTime": {
     "end_time": "2024-06-13T02:38:36.224125Z",
     "start_time": "2024-06-13T02:38:36.221341Z"
    }
   },
   "cell_type": "code",
   "source": [
    "def test(model, criterion):\n",
    "    model.cuda()\n",
    "    criterion.cuda()\n",
    "    batches = test_batches\n",
    "    print(\"Dataset size:\", len(batches))\n",
    "    batch_index = 0\n",
    "\n",
    "    total_loss = 0\n",
    "    total_accuracy = 0\n",
    "    for i in range(len(batches)):\n",
    "\n",
    "        batch = batches[i][0]\n",
    "        truth = batches[i][1]\n",
    "\n",
    "        if batch_index == len(batches):\n",
    "            batch_index = 0\n",
    "\n",
    "        out = model.forward(batch)\n",
    "        loss = criterion(out, truth)\n",
    "        print(f\"Batch [{i+1}/{len(batches)}], loss: {loss.item()}, accuracy: {(accuracy(out,truth).sum()/BATCH_SIZE).item()}\")\n",
    "\n",
    "        total_loss += loss.item()\n",
    "        total_accuracy+=(accuracy(out,truth).sum()/BATCH_SIZE).item()\n",
    "\n",
    "    return (total_loss / len(batches)),total_accuracy / len(batches)"
   ],
   "id": "c8251ffcc9b16e94",
   "outputs": [],
   "execution_count": 70
  },
  {
   "metadata": {
    "colab": {
     "base_uri": "https://localhost:8080/"
    },
    "id": "ac9a5368131bcb1d",
    "outputId": "26db4ac7-9255-429d-d297-6446baf44de1",
    "ExecuteTime": {
     "end_time": "2024-06-13T02:38:43.059095Z",
     "start_time": "2024-06-13T02:38:42.517795Z"
    }
   },
   "cell_type": "code",
   "source": [
    "test(model, criterion)"
   ],
   "id": "ac9a5368131bcb1d",
   "outputs": [
    {
     "name": "stdout",
     "output_type": "stream",
     "text": [
      "Dataset size: 500\n",
      "Batch [1/500], loss: 0.9553394317626953, accuracy: 0.671875\n",
      "Batch [2/500], loss: 1.1467819213867188, accuracy: 0.625\n",
      "Batch [3/500], loss: 0.8754767775535583, accuracy: 0.703125\n",
      "Batch [4/500], loss: 0.9554334282875061, accuracy: 0.671875\n",
      "Batch [5/500], loss: 0.8680264949798584, accuracy: 0.6875\n",
      "Batch [6/500], loss: 1.1337652206420898, accuracy: 0.609375\n",
      "Batch [7/500], loss: 0.984540581703186, accuracy: 0.703125\n",
      "Batch [8/500], loss: 0.9950527548789978, accuracy: 0.671875\n",
      "Batch [9/500], loss: 0.9830299019813538, accuracy: 0.6875\n",
      "Batch [10/500], loss: 0.9327758550643921, accuracy: 0.703125\n",
      "Batch [11/500], loss: 1.5757874250411987, accuracy: 0.46875\n",
      "Batch [12/500], loss: 0.8815907835960388, accuracy: 0.75\n",
      "Batch [13/500], loss: 1.37360417842865, accuracy: 0.6875\n",
      "Batch [14/500], loss: 1.05478835105896, accuracy: 0.6875\n",
      "Batch [15/500], loss: 1.3739686012268066, accuracy: 0.53125\n",
      "Batch [16/500], loss: 1.023643970489502, accuracy: 0.640625\n",
      "Batch [17/500], loss: 1.0041295289993286, accuracy: 0.59375\n",
      "Batch [18/500], loss: 0.9298467636108398, accuracy: 0.65625\n",
      "Batch [19/500], loss: 0.8542274832725525, accuracy: 0.6875\n",
      "Batch [20/500], loss: 0.9010617733001709, accuracy: 0.703125\n",
      "Batch [21/500], loss: 1.3023079633712769, accuracy: 0.578125\n",
      "Batch [22/500], loss: 1.184159278869629, accuracy: 0.609375\n",
      "Batch [23/500], loss: 1.3397983312606812, accuracy: 0.59375\n",
      "Batch [24/500], loss: 0.7683796882629395, accuracy: 0.8125\n",
      "Batch [25/500], loss: 1.322365641593933, accuracy: 0.59375\n",
      "Batch [26/500], loss: 1.2074055671691895, accuracy: 0.6875\n",
      "Batch [27/500], loss: 1.1331125497817993, accuracy: 0.703125\n",
      "Batch [28/500], loss: 1.198439598083496, accuracy: 0.609375\n",
      "Batch [29/500], loss: 0.7562432289123535, accuracy: 0.75\n",
      "Batch [30/500], loss: 0.9031082391738892, accuracy: 0.703125\n",
      "Batch [31/500], loss: 1.324416160583496, accuracy: 0.5625\n",
      "Batch [32/500], loss: 1.0318434238433838, accuracy: 0.609375\n",
      "Batch [33/500], loss: 1.3794519901275635, accuracy: 0.65625\n",
      "Batch [34/500], loss: 1.0914093255996704, accuracy: 0.671875\n",
      "Batch [35/500], loss: 1.0292742252349854, accuracy: 0.640625\n",
      "Batch [36/500], loss: 1.2125602960586548, accuracy: 0.59375\n",
      "Batch [37/500], loss: 0.9628854393959045, accuracy: 0.609375\n",
      "Batch [38/500], loss: 0.8711999654769897, accuracy: 0.703125\n",
      "Batch [39/500], loss: 0.944270670413971, accuracy: 0.65625\n",
      "Batch [40/500], loss: 1.041133999824524, accuracy: 0.625\n",
      "Batch [41/500], loss: 1.030867576599121, accuracy: 0.671875\n",
      "Batch [42/500], loss: 0.9523139595985413, accuracy: 0.6875\n",
      "Batch [43/500], loss: 0.9716872572898865, accuracy: 0.671875\n",
      "Batch [44/500], loss: 0.857392430305481, accuracy: 0.65625\n",
      "Batch [45/500], loss: 1.1501866579055786, accuracy: 0.65625\n",
      "Batch [46/500], loss: 1.1183934211730957, accuracy: 0.671875\n",
      "Batch [47/500], loss: 1.1780658960342407, accuracy: 0.59375\n",
      "Batch [48/500], loss: 0.9727782011032104, accuracy: 0.65625\n",
      "Batch [49/500], loss: 0.8723776340484619, accuracy: 0.734375\n",
      "Batch [50/500], loss: 1.1989396810531616, accuracy: 0.59375\n",
      "Batch [51/500], loss: 1.0722742080688477, accuracy: 0.65625\n",
      "Batch [52/500], loss: 0.9321861267089844, accuracy: 0.6875\n",
      "Batch [53/500], loss: 1.0120290517807007, accuracy: 0.640625\n",
      "Batch [54/500], loss: 1.2760671377182007, accuracy: 0.546875\n",
      "Batch [55/500], loss: 0.93759685754776, accuracy: 0.703125\n",
      "Batch [56/500], loss: 1.2211418151855469, accuracy: 0.59375\n",
      "Batch [57/500], loss: 1.220902919769287, accuracy: 0.59375\n",
      "Batch [58/500], loss: 1.1349166631698608, accuracy: 0.609375\n",
      "Batch [59/500], loss: 1.1215215921401978, accuracy: 0.625\n",
      "Batch [60/500], loss: 1.0786606073379517, accuracy: 0.6875\n",
      "Batch [61/500], loss: 1.0028488636016846, accuracy: 0.640625\n",
      "Batch [62/500], loss: 1.072365164756775, accuracy: 0.6875\n",
      "Batch [63/500], loss: 1.065775752067566, accuracy: 0.640625\n",
      "Batch [64/500], loss: 0.840987503528595, accuracy: 0.671875\n",
      "Batch [65/500], loss: 1.0389243364334106, accuracy: 0.59375\n",
      "Batch [66/500], loss: 1.2230863571166992, accuracy: 0.625\n",
      "Batch [67/500], loss: 1.1173843145370483, accuracy: 0.609375\n",
      "Batch [68/500], loss: 1.349745273590088, accuracy: 0.578125\n",
      "Batch [69/500], loss: 0.8445813655853271, accuracy: 0.71875\n",
      "Batch [70/500], loss: 0.9792523980140686, accuracy: 0.734375\n",
      "Batch [71/500], loss: 0.8565158843994141, accuracy: 0.75\n",
      "Batch [72/500], loss: 0.9849069714546204, accuracy: 0.671875\n",
      "Batch [73/500], loss: 1.0413001775741577, accuracy: 0.625\n",
      "Batch [74/500], loss: 0.675466001033783, accuracy: 0.78125\n",
      "Batch [75/500], loss: 1.1794384717941284, accuracy: 0.640625\n",
      "Batch [76/500], loss: 0.8137791752815247, accuracy: 0.65625\n",
      "Batch [77/500], loss: 1.129369854927063, accuracy: 0.640625\n",
      "Batch [78/500], loss: 0.8687722682952881, accuracy: 0.703125\n",
      "Batch [79/500], loss: 0.7208192348480225, accuracy: 0.765625\n",
      "Batch [80/500], loss: 1.2937613725662231, accuracy: 0.59375\n",
      "Batch [81/500], loss: 1.0839638710021973, accuracy: 0.609375\n",
      "Batch [82/500], loss: 1.2030693292617798, accuracy: 0.671875\n",
      "Batch [83/500], loss: 1.024652361869812, accuracy: 0.703125\n",
      "Batch [84/500], loss: 1.2437386512756348, accuracy: 0.625\n",
      "Batch [85/500], loss: 0.8014853596687317, accuracy: 0.765625\n",
      "Batch [86/500], loss: 0.9509259462356567, accuracy: 0.703125\n",
      "Batch [87/500], loss: 0.9325888156890869, accuracy: 0.6875\n",
      "Batch [88/500], loss: 0.9746341705322266, accuracy: 0.6875\n",
      "Batch [89/500], loss: 1.1127753257751465, accuracy: 0.671875\n",
      "Batch [90/500], loss: 1.0852446556091309, accuracy: 0.65625\n",
      "Batch [91/500], loss: 1.1690253019332886, accuracy: 0.59375\n",
      "Batch [92/500], loss: 1.1963316202163696, accuracy: 0.59375\n",
      "Batch [93/500], loss: 0.9338041543960571, accuracy: 0.734375\n",
      "Batch [94/500], loss: 1.2176549434661865, accuracy: 0.5\n",
      "Batch [95/500], loss: 0.8380444645881653, accuracy: 0.78125\n",
      "Batch [96/500], loss: 0.8341156244277954, accuracy: 0.734375\n",
      "Batch [97/500], loss: 0.7164267301559448, accuracy: 0.75\n",
      "Batch [98/500], loss: 1.156485915184021, accuracy: 0.59375\n",
      "Batch [99/500], loss: 1.1109169721603394, accuracy: 0.59375\n",
      "Batch [100/500], loss: 1.2052805423736572, accuracy: 0.578125\n",
      "Batch [101/500], loss: 0.9566264152526855, accuracy: 0.59375\n",
      "Batch [102/500], loss: 1.1952303647994995, accuracy: 0.578125\n",
      "Batch [103/500], loss: 0.9132948517799377, accuracy: 0.6875\n",
      "Batch [104/500], loss: 0.7294790744781494, accuracy: 0.8125\n",
      "Batch [105/500], loss: 0.8619745969772339, accuracy: 0.640625\n",
      "Batch [106/500], loss: 0.8726481795310974, accuracy: 0.734375\n",
      "Batch [107/500], loss: 0.8886125683784485, accuracy: 0.703125\n",
      "Batch [108/500], loss: 0.9167761206626892, accuracy: 0.671875\n",
      "Batch [109/500], loss: 0.9570146203041077, accuracy: 0.640625\n",
      "Batch [110/500], loss: 1.278923749923706, accuracy: 0.609375\n",
      "Batch [111/500], loss: 0.8209443688392639, accuracy: 0.75\n",
      "Batch [112/500], loss: 0.8810750246047974, accuracy: 0.71875\n",
      "Batch [113/500], loss: 1.0832980871200562, accuracy: 0.609375\n",
      "Batch [114/500], loss: 1.0295028686523438, accuracy: 0.625\n",
      "Batch [115/500], loss: 1.0208625793457031, accuracy: 0.671875\n",
      "Batch [116/500], loss: 1.020963430404663, accuracy: 0.578125\n",
      "Batch [117/500], loss: 1.1377654075622559, accuracy: 0.65625\n",
      "Batch [118/500], loss: 0.8871511816978455, accuracy: 0.78125\n",
      "Batch [119/500], loss: 1.4716761112213135, accuracy: 0.578125\n",
      "Batch [120/500], loss: 0.9467086791992188, accuracy: 0.71875\n",
      "Batch [121/500], loss: 0.8098608255386353, accuracy: 0.703125\n",
      "Batch [122/500], loss: 1.3749686479568481, accuracy: 0.53125\n",
      "Batch [123/500], loss: 0.9360409379005432, accuracy: 0.6875\n",
      "Batch [124/500], loss: 0.9406319260597229, accuracy: 0.640625\n",
      "Batch [125/500], loss: 1.1314507722854614, accuracy: 0.671875\n",
      "Batch [126/500], loss: 0.9022839665412903, accuracy: 0.6875\n",
      "Batch [127/500], loss: 1.097001075744629, accuracy: 0.671875\n",
      "Batch [128/500], loss: 1.2740534543991089, accuracy: 0.578125\n",
      "Batch [129/500], loss: 1.3681076765060425, accuracy: 0.578125\n",
      "Batch [130/500], loss: 1.3319551944732666, accuracy: 0.609375\n",
      "Batch [131/500], loss: 1.2958369255065918, accuracy: 0.546875\n",
      "Batch [132/500], loss: 1.1158993244171143, accuracy: 0.59375\n",
      "Batch [133/500], loss: 1.186960220336914, accuracy: 0.625\n",
      "Batch [134/500], loss: 1.1382001638412476, accuracy: 0.65625\n",
      "Batch [135/500], loss: 1.0290977954864502, accuracy: 0.671875\n",
      "Batch [136/500], loss: 1.1478615999221802, accuracy: 0.625\n",
      "Batch [137/500], loss: 1.033474326133728, accuracy: 0.703125\n",
      "Batch [138/500], loss: 0.86705482006073, accuracy: 0.71875\n",
      "Batch [139/500], loss: 1.0526032447814941, accuracy: 0.65625\n",
      "Batch [140/500], loss: 1.0579373836517334, accuracy: 0.671875\n",
      "Batch [141/500], loss: 0.9940658807754517, accuracy: 0.65625\n",
      "Batch [142/500], loss: 1.1404941082000732, accuracy: 0.625\n",
      "Batch [143/500], loss: 1.1318362951278687, accuracy: 0.609375\n",
      "Batch [144/500], loss: 1.1284781694412231, accuracy: 0.625\n",
      "Batch [145/500], loss: 0.9085383415222168, accuracy: 0.671875\n",
      "Batch [146/500], loss: 1.0186405181884766, accuracy: 0.671875\n",
      "Batch [147/500], loss: 0.9793825149536133, accuracy: 0.6875\n",
      "Batch [148/500], loss: 0.6449517011642456, accuracy: 0.828125\n",
      "Batch [149/500], loss: 1.215968370437622, accuracy: 0.640625\n",
      "Batch [150/500], loss: 1.212372064590454, accuracy: 0.640625\n",
      "Batch [151/500], loss: 1.0525031089782715, accuracy: 0.671875\n",
      "Batch [152/500], loss: 0.9555066823959351, accuracy: 0.703125\n",
      "Batch [153/500], loss: 1.0904353857040405, accuracy: 0.609375\n",
      "Batch [154/500], loss: 1.367377758026123, accuracy: 0.65625\n",
      "Batch [155/500], loss: 1.0304999351501465, accuracy: 0.640625\n",
      "Batch [156/500], loss: 1.0388710498809814, accuracy: 0.65625\n",
      "Batch [157/500], loss: 1.1929662227630615, accuracy: 0.625\n",
      "Batch [158/500], loss: 1.0162523984909058, accuracy: 0.734375\n",
      "Batch [159/500], loss: 1.0053799152374268, accuracy: 0.640625\n",
      "Batch [160/500], loss: 1.0295720100402832, accuracy: 0.671875\n",
      "Batch [161/500], loss: 0.990707278251648, accuracy: 0.6875\n",
      "Batch [162/500], loss: 1.0112439393997192, accuracy: 0.671875\n",
      "Batch [163/500], loss: 0.8793168067932129, accuracy: 0.703125\n",
      "Batch [164/500], loss: 0.8815430402755737, accuracy: 0.71875\n",
      "Batch [165/500], loss: 0.9976040124893188, accuracy: 0.671875\n",
      "Batch [166/500], loss: 1.1039175987243652, accuracy: 0.65625\n",
      "Batch [167/500], loss: 1.0997114181518555, accuracy: 0.671875\n",
      "Batch [168/500], loss: 1.1002423763275146, accuracy: 0.5625\n",
      "Batch [169/500], loss: 0.9998740553855896, accuracy: 0.6875\n",
      "Batch [170/500], loss: 1.1576404571533203, accuracy: 0.625\n",
      "Batch [171/500], loss: 1.06267511844635, accuracy: 0.625\n",
      "Batch [172/500], loss: 1.0094798803329468, accuracy: 0.671875\n",
      "Batch [173/500], loss: 1.1673626899719238, accuracy: 0.59375\n",
      "Batch [174/500], loss: 1.0541579723358154, accuracy: 0.640625\n",
      "Batch [175/500], loss: 1.1572890281677246, accuracy: 0.71875\n",
      "Batch [176/500], loss: 1.106089472770691, accuracy: 0.671875\n",
      "Batch [177/500], loss: 1.3749020099639893, accuracy: 0.59375\n",
      "Batch [178/500], loss: 1.2591437101364136, accuracy: 0.625\n",
      "Batch [179/500], loss: 1.111803650856018, accuracy: 0.640625\n",
      "Batch [180/500], loss: 1.0882418155670166, accuracy: 0.65625\n",
      "Batch [181/500], loss: 0.5384402275085449, accuracy: 0.78125\n",
      "Batch [182/500], loss: 1.1919456720352173, accuracy: 0.609375\n",
      "Batch [183/500], loss: 0.8055581450462341, accuracy: 0.6875\n",
      "Batch [184/500], loss: 1.0483994483947754, accuracy: 0.625\n",
      "Batch [185/500], loss: 0.8215949535369873, accuracy: 0.671875\n",
      "Batch [186/500], loss: 0.9775497913360596, accuracy: 0.671875\n",
      "Batch [187/500], loss: 0.9248709678649902, accuracy: 0.71875\n",
      "Batch [188/500], loss: 1.289804220199585, accuracy: 0.59375\n",
      "Batch [189/500], loss: 0.9335260987281799, accuracy: 0.6875\n",
      "Batch [190/500], loss: 1.2234338521957397, accuracy: 0.609375\n",
      "Batch [191/500], loss: 0.7456685304641724, accuracy: 0.703125\n",
      "Batch [192/500], loss: 1.0082566738128662, accuracy: 0.640625\n",
      "Batch [193/500], loss: 0.8367751240730286, accuracy: 0.703125\n",
      "Batch [194/500], loss: 0.9463061690330505, accuracy: 0.71875\n",
      "Batch [195/500], loss: 1.2108975648880005, accuracy: 0.640625\n",
      "Batch [196/500], loss: 1.2566331624984741, accuracy: 0.609375\n",
      "Batch [197/500], loss: 0.8572037816047668, accuracy: 0.6875\n",
      "Batch [198/500], loss: 1.082384467124939, accuracy: 0.609375\n",
      "Batch [199/500], loss: 1.4507337808609009, accuracy: 0.515625\n",
      "Batch [200/500], loss: 0.882419764995575, accuracy: 0.65625\n",
      "Batch [201/500], loss: 1.117739200592041, accuracy: 0.671875\n",
      "Batch [202/500], loss: 1.2464933395385742, accuracy: 0.625\n",
      "Batch [203/500], loss: 1.0763778686523438, accuracy: 0.65625\n",
      "Batch [204/500], loss: 0.943019688129425, accuracy: 0.6875\n",
      "Batch [205/500], loss: 1.1931357383728027, accuracy: 0.671875\n",
      "Batch [206/500], loss: 1.1538898944854736, accuracy: 0.59375\n",
      "Batch [207/500], loss: 1.1636332273483276, accuracy: 0.609375\n",
      "Batch [208/500], loss: 1.383656620979309, accuracy: 0.609375\n",
      "Batch [209/500], loss: 1.1028528213500977, accuracy: 0.609375\n",
      "Batch [210/500], loss: 1.0744962692260742, accuracy: 0.625\n",
      "Batch [211/500], loss: 0.9965453147888184, accuracy: 0.65625\n",
      "Batch [212/500], loss: 1.0536800622940063, accuracy: 0.640625\n",
      "Batch [213/500], loss: 0.9322955012321472, accuracy: 0.6875\n",
      "Batch [214/500], loss: 1.3291990756988525, accuracy: 0.578125\n",
      "Batch [215/500], loss: 1.3255705833435059, accuracy: 0.59375\n",
      "Batch [216/500], loss: 1.145787000656128, accuracy: 0.671875\n",
      "Batch [217/500], loss: 1.0923212766647339, accuracy: 0.5625\n",
      "Batch [218/500], loss: 1.3799494504928589, accuracy: 0.53125\n",
      "Batch [219/500], loss: 0.940557599067688, accuracy: 0.6875\n",
      "Batch [220/500], loss: 1.3356109857559204, accuracy: 0.59375\n",
      "Batch [221/500], loss: 0.9504949450492859, accuracy: 0.6875\n",
      "Batch [222/500], loss: 1.058641791343689, accuracy: 0.65625\n",
      "Batch [223/500], loss: 1.0695838928222656, accuracy: 0.5625\n",
      "Batch [224/500], loss: 1.3701858520507812, accuracy: 0.5625\n",
      "Batch [225/500], loss: 0.8215636610984802, accuracy: 0.734375\n",
      "Batch [226/500], loss: 0.9595686793327332, accuracy: 0.671875\n",
      "Batch [227/500], loss: 1.1903928518295288, accuracy: 0.625\n",
      "Batch [228/500], loss: 1.167048692703247, accuracy: 0.640625\n",
      "Batch [229/500], loss: 1.1003150939941406, accuracy: 0.625\n",
      "Batch [230/500], loss: 1.3700666427612305, accuracy: 0.53125\n",
      "Batch [231/500], loss: 0.9587332010269165, accuracy: 0.71875\n",
      "Batch [232/500], loss: 0.9979017972946167, accuracy: 0.65625\n",
      "Batch [233/500], loss: 0.9914219975471497, accuracy: 0.703125\n",
      "Batch [234/500], loss: 1.2373653650283813, accuracy: 0.625\n",
      "Batch [235/500], loss: 0.8211368322372437, accuracy: 0.75\n",
      "Batch [236/500], loss: 1.0348221063613892, accuracy: 0.65625\n",
      "Batch [237/500], loss: 1.077547550201416, accuracy: 0.625\n",
      "Batch [238/500], loss: 0.8978517651557922, accuracy: 0.671875\n",
      "Batch [239/500], loss: 0.9283246994018555, accuracy: 0.671875\n",
      "Batch [240/500], loss: 0.9390248656272888, accuracy: 0.671875\n",
      "Batch [241/500], loss: 1.0479233264923096, accuracy: 0.6875\n",
      "Batch [242/500], loss: 1.022296667098999, accuracy: 0.65625\n",
      "Batch [243/500], loss: 1.0072884559631348, accuracy: 0.71875\n",
      "Batch [244/500], loss: 0.9448856115341187, accuracy: 0.703125\n",
      "Batch [245/500], loss: 1.001585841178894, accuracy: 0.65625\n",
      "Batch [246/500], loss: 1.1544554233551025, accuracy: 0.65625\n",
      "Batch [247/500], loss: 0.8884038925170898, accuracy: 0.75\n",
      "Batch [248/500], loss: 1.4958038330078125, accuracy: 0.5\n",
      "Batch [249/500], loss: 0.7492191791534424, accuracy: 0.734375\n",
      "Batch [250/500], loss: 0.8072851300239563, accuracy: 0.75\n",
      "Batch [251/500], loss: 1.1694469451904297, accuracy: 0.640625\n",
      "Batch [252/500], loss: 0.9096173048019409, accuracy: 0.671875\n",
      "Batch [253/500], loss: 1.0416960716247559, accuracy: 0.671875\n",
      "Batch [254/500], loss: 1.0617527961730957, accuracy: 0.703125\n",
      "Batch [255/500], loss: 1.1898924112319946, accuracy: 0.578125\n",
      "Batch [256/500], loss: 1.1734967231750488, accuracy: 0.609375\n",
      "Batch [257/500], loss: 1.1990677118301392, accuracy: 0.609375\n",
      "Batch [258/500], loss: 0.9835652112960815, accuracy: 0.6875\n",
      "Batch [259/500], loss: 0.9561218023300171, accuracy: 0.640625\n",
      "Batch [260/500], loss: 1.04087233543396, accuracy: 0.609375\n",
      "Batch [261/500], loss: 0.9745092391967773, accuracy: 0.65625\n",
      "Batch [262/500], loss: 1.0456547737121582, accuracy: 0.65625\n",
      "Batch [263/500], loss: 0.8610560297966003, accuracy: 0.703125\n",
      "Batch [264/500], loss: 0.8898329734802246, accuracy: 0.65625\n",
      "Batch [265/500], loss: 1.0496748685836792, accuracy: 0.65625\n",
      "Batch [266/500], loss: 1.1009457111358643, accuracy: 0.5625\n",
      "Batch [267/500], loss: 1.0772653818130493, accuracy: 0.671875\n",
      "Batch [268/500], loss: 0.9078226089477539, accuracy: 0.6875\n",
      "Batch [269/500], loss: 1.3253483772277832, accuracy: 0.5625\n",
      "Batch [270/500], loss: 1.0012348890304565, accuracy: 0.65625\n",
      "Batch [271/500], loss: 1.0917876958847046, accuracy: 0.703125\n",
      "Batch [272/500], loss: 1.3463644981384277, accuracy: 0.625\n",
      "Batch [273/500], loss: 0.8854155540466309, accuracy: 0.71875\n",
      "Batch [274/500], loss: 0.8762701153755188, accuracy: 0.75\n",
      "Batch [275/500], loss: 1.1178069114685059, accuracy: 0.609375\n",
      "Batch [276/500], loss: 0.9608923196792603, accuracy: 0.6875\n",
      "Batch [277/500], loss: 1.089266061782837, accuracy: 0.59375\n",
      "Batch [278/500], loss: 1.0388497114181519, accuracy: 0.671875\n",
      "Batch [279/500], loss: 1.0710567235946655, accuracy: 0.65625\n",
      "Batch [280/500], loss: 1.245225429534912, accuracy: 0.59375\n",
      "Batch [281/500], loss: 1.0292612314224243, accuracy: 0.703125\n",
      "Batch [282/500], loss: 1.1746712923049927, accuracy: 0.671875\n",
      "Batch [283/500], loss: 1.3140974044799805, accuracy: 0.640625\n",
      "Batch [284/500], loss: 1.1199129819869995, accuracy: 0.578125\n",
      "Batch [285/500], loss: 1.0466901063919067, accuracy: 0.640625\n",
      "Batch [286/500], loss: 1.1823621988296509, accuracy: 0.546875\n",
      "Batch [287/500], loss: 1.1677219867706299, accuracy: 0.640625\n",
      "Batch [288/500], loss: 1.1023000478744507, accuracy: 0.65625\n",
      "Batch [289/500], loss: 1.0864521265029907, accuracy: 0.5625\n",
      "Batch [290/500], loss: 0.7832184433937073, accuracy: 0.703125\n",
      "Batch [291/500], loss: 1.1129356622695923, accuracy: 0.625\n",
      "Batch [292/500], loss: 0.7542258501052856, accuracy: 0.78125\n",
      "Batch [293/500], loss: 0.8514429330825806, accuracy: 0.703125\n",
      "Batch [294/500], loss: 1.0270694494247437, accuracy: 0.6875\n",
      "Batch [295/500], loss: 1.0649510622024536, accuracy: 0.671875\n",
      "Batch [296/500], loss: 0.8457988500595093, accuracy: 0.65625\n",
      "Batch [297/500], loss: 0.9871939420700073, accuracy: 0.671875\n",
      "Batch [298/500], loss: 1.116365671157837, accuracy: 0.625\n",
      "Batch [299/500], loss: 1.1012719869613647, accuracy: 0.65625\n",
      "Batch [300/500], loss: 1.4434248208999634, accuracy: 0.46875\n",
      "Batch [301/500], loss: 0.9685599207878113, accuracy: 0.671875\n",
      "Batch [302/500], loss: 1.0031670331954956, accuracy: 0.6875\n",
      "Batch [303/500], loss: 1.0300087928771973, accuracy: 0.71875\n",
      "Batch [304/500], loss: 1.184636116027832, accuracy: 0.625\n",
      "Batch [305/500], loss: 1.0079643726348877, accuracy: 0.625\n",
      "Batch [306/500], loss: 1.0238417387008667, accuracy: 0.65625\n",
      "Batch [307/500], loss: 1.026123046875, accuracy: 0.71875\n",
      "Batch [308/500], loss: 1.146233081817627, accuracy: 0.671875\n",
      "Batch [309/500], loss: 1.3228667974472046, accuracy: 0.5\n",
      "Batch [310/500], loss: 1.2509093284606934, accuracy: 0.5625\n",
      "Batch [311/500], loss: 0.8894719481468201, accuracy: 0.71875\n",
      "Batch [312/500], loss: 0.6851171255111694, accuracy: 0.765625\n",
      "Batch [313/500], loss: 1.1277741193771362, accuracy: 0.578125\n",
      "Batch [314/500], loss: 0.755656361579895, accuracy: 0.78125\n",
      "Batch [315/500], loss: 0.7924835085868835, accuracy: 0.71875\n",
      "Batch [316/500], loss: 1.3353501558303833, accuracy: 0.546875\n",
      "Batch [317/500], loss: 0.9234357476234436, accuracy: 0.625\n",
      "Batch [318/500], loss: 1.223652720451355, accuracy: 0.671875\n",
      "Batch [319/500], loss: 1.199454426765442, accuracy: 0.609375\n",
      "Batch [320/500], loss: 1.1451472043991089, accuracy: 0.625\n",
      "Batch [321/500], loss: 1.1878186464309692, accuracy: 0.671875\n",
      "Batch [322/500], loss: 1.209709882736206, accuracy: 0.59375\n",
      "Batch [323/500], loss: 1.0463662147521973, accuracy: 0.703125\n",
      "Batch [324/500], loss: 1.3829988241195679, accuracy: 0.609375\n",
      "Batch [325/500], loss: 0.9008931517601013, accuracy: 0.640625\n",
      "Batch [326/500], loss: 1.002587914466858, accuracy: 0.625\n",
      "Batch [327/500], loss: 1.2481681108474731, accuracy: 0.546875\n",
      "Batch [328/500], loss: 1.1369553804397583, accuracy: 0.65625\n",
      "Batch [329/500], loss: 0.8749926090240479, accuracy: 0.71875\n",
      "Batch [330/500], loss: 1.2644331455230713, accuracy: 0.640625\n",
      "Batch [331/500], loss: 1.052377462387085, accuracy: 0.65625\n",
      "Batch [332/500], loss: 0.8459312915802002, accuracy: 0.6875\n",
      "Batch [333/500], loss: 1.2403209209442139, accuracy: 0.546875\n",
      "Batch [334/500], loss: 1.138585090637207, accuracy: 0.640625\n",
      "Batch [335/500], loss: 1.026382565498352, accuracy: 0.640625\n",
      "Batch [336/500], loss: 1.0076085329055786, accuracy: 0.640625\n",
      "Batch [337/500], loss: 0.9717414379119873, accuracy: 0.703125\n",
      "Batch [338/500], loss: 1.1884926557540894, accuracy: 0.640625\n",
      "Batch [339/500], loss: 1.0422968864440918, accuracy: 0.65625\n",
      "Batch [340/500], loss: 1.043108344078064, accuracy: 0.71875\n",
      "Batch [341/500], loss: 1.0054243803024292, accuracy: 0.65625\n",
      "Batch [342/500], loss: 1.1720991134643555, accuracy: 0.625\n",
      "Batch [343/500], loss: 0.9032592177391052, accuracy: 0.703125\n",
      "Batch [344/500], loss: 1.0246036052703857, accuracy: 0.703125\n",
      "Batch [345/500], loss: 1.4163264036178589, accuracy: 0.578125\n",
      "Batch [346/500], loss: 1.2415542602539062, accuracy: 0.59375\n",
      "Batch [347/500], loss: 1.522172451019287, accuracy: 0.5\n",
      "Batch [348/500], loss: 0.9251279830932617, accuracy: 0.640625\n",
      "Batch [349/500], loss: 1.1473661661148071, accuracy: 0.59375\n",
      "Batch [350/500], loss: 0.8845049738883972, accuracy: 0.734375\n",
      "Batch [351/500], loss: 1.1781721115112305, accuracy: 0.625\n",
      "Batch [352/500], loss: 0.975109338760376, accuracy: 0.65625\n",
      "Batch [353/500], loss: 1.2105088233947754, accuracy: 0.703125\n",
      "Batch [354/500], loss: 1.2699393033981323, accuracy: 0.59375\n",
      "Batch [355/500], loss: 1.076788306236267, accuracy: 0.59375\n",
      "Batch [356/500], loss: 1.296717643737793, accuracy: 0.546875\n",
      "Batch [357/500], loss: 0.9943108558654785, accuracy: 0.65625\n",
      "Batch [358/500], loss: 1.0985050201416016, accuracy: 0.625\n",
      "Batch [359/500], loss: 1.0572081804275513, accuracy: 0.703125\n",
      "Batch [360/500], loss: 0.9293507933616638, accuracy: 0.71875\n",
      "Batch [361/500], loss: 1.113120675086975, accuracy: 0.640625\n",
      "Batch [362/500], loss: 0.9379576444625854, accuracy: 0.734375\n",
      "Batch [363/500], loss: 0.8869450092315674, accuracy: 0.71875\n",
      "Batch [364/500], loss: 0.9669451713562012, accuracy: 0.65625\n",
      "Batch [365/500], loss: 0.7256897687911987, accuracy: 0.734375\n",
      "Batch [366/500], loss: 1.0681724548339844, accuracy: 0.65625\n",
      "Batch [367/500], loss: 0.9759510159492493, accuracy: 0.703125\n",
      "Batch [368/500], loss: 1.066851019859314, accuracy: 0.65625\n",
      "Batch [369/500], loss: 1.3901864290237427, accuracy: 0.53125\n",
      "Batch [370/500], loss: 1.2368205785751343, accuracy: 0.609375\n",
      "Batch [371/500], loss: 1.2342326641082764, accuracy: 0.59375\n",
      "Batch [372/500], loss: 0.9370986223220825, accuracy: 0.671875\n",
      "Batch [373/500], loss: 1.1198776960372925, accuracy: 0.59375\n",
      "Batch [374/500], loss: 1.060361623764038, accuracy: 0.703125\n",
      "Batch [375/500], loss: 0.8846831917762756, accuracy: 0.671875\n",
      "Batch [376/500], loss: 1.268403172492981, accuracy: 0.59375\n",
      "Batch [377/500], loss: 1.476619005203247, accuracy: 0.46875\n",
      "Batch [378/500], loss: 1.0678776502609253, accuracy: 0.625\n",
      "Batch [379/500], loss: 1.4058996438980103, accuracy: 0.53125\n",
      "Batch [380/500], loss: 0.9288448691368103, accuracy: 0.703125\n",
      "Batch [381/500], loss: 0.8414615392684937, accuracy: 0.765625\n",
      "Batch [382/500], loss: 1.2324774265289307, accuracy: 0.625\n",
      "Batch [383/500], loss: 1.019020915031433, accuracy: 0.640625\n",
      "Batch [384/500], loss: 1.324547529220581, accuracy: 0.53125\n",
      "Batch [385/500], loss: 0.9458361864089966, accuracy: 0.65625\n",
      "Batch [386/500], loss: 1.2366358041763306, accuracy: 0.578125\n",
      "Batch [387/500], loss: 1.143209457397461, accuracy: 0.703125\n",
      "Batch [388/500], loss: 1.209550142288208, accuracy: 0.546875\n",
      "Batch [389/500], loss: 1.055344581604004, accuracy: 0.625\n",
      "Batch [390/500], loss: 0.9566828012466431, accuracy: 0.6875\n",
      "Batch [391/500], loss: 1.0801763534545898, accuracy: 0.671875\n",
      "Batch [392/500], loss: 0.9464856386184692, accuracy: 0.71875\n",
      "Batch [393/500], loss: 1.0910587310791016, accuracy: 0.6875\n",
      "Batch [394/500], loss: 1.0253987312316895, accuracy: 0.71875\n",
      "Batch [395/500], loss: 1.020438313484192, accuracy: 0.609375\n",
      "Batch [396/500], loss: 0.7504307627677917, accuracy: 0.75\n",
      "Batch [397/500], loss: 0.9624931812286377, accuracy: 0.59375\n",
      "Batch [398/500], loss: 0.9147464036941528, accuracy: 0.703125\n",
      "Batch [399/500], loss: 1.1521265506744385, accuracy: 0.609375\n",
      "Batch [400/500], loss: 0.9253321886062622, accuracy: 0.671875\n",
      "Batch [401/500], loss: 1.2712000608444214, accuracy: 0.578125\n",
      "Batch [402/500], loss: 1.1663439273834229, accuracy: 0.609375\n",
      "Batch [403/500], loss: 1.203631043434143, accuracy: 0.6875\n",
      "Batch [404/500], loss: 1.1374154090881348, accuracy: 0.65625\n",
      "Batch [405/500], loss: 1.201343059539795, accuracy: 0.5625\n",
      "Batch [406/500], loss: 1.3420720100402832, accuracy: 0.5\n",
      "Batch [407/500], loss: 0.9977800846099854, accuracy: 0.65625\n",
      "Batch [408/500], loss: 1.0606600046157837, accuracy: 0.59375\n",
      "Batch [409/500], loss: 0.9902240037918091, accuracy: 0.6875\n",
      "Batch [410/500], loss: 1.1868804693222046, accuracy: 0.5625\n",
      "Batch [411/500], loss: 1.157936453819275, accuracy: 0.59375\n",
      "Batch [412/500], loss: 1.0555667877197266, accuracy: 0.671875\n",
      "Batch [413/500], loss: 0.9467982649803162, accuracy: 0.65625\n",
      "Batch [414/500], loss: 1.2148826122283936, accuracy: 0.546875\n",
      "Batch [415/500], loss: 0.5953949689865112, accuracy: 0.8125\n",
      "Batch [416/500], loss: 1.11690092086792, accuracy: 0.625\n",
      "Batch [417/500], loss: 1.216034173965454, accuracy: 0.5625\n",
      "Batch [418/500], loss: 0.997860848903656, accuracy: 0.734375\n",
      "Batch [419/500], loss: 1.0299367904663086, accuracy: 0.625\n",
      "Batch [420/500], loss: 1.1304360628128052, accuracy: 0.6875\n",
      "Batch [421/500], loss: 1.2297379970550537, accuracy: 0.625\n",
      "Batch [422/500], loss: 1.1173739433288574, accuracy: 0.578125\n",
      "Batch [423/500], loss: 1.3886922597885132, accuracy: 0.53125\n",
      "Batch [424/500], loss: 0.9631776809692383, accuracy: 0.703125\n",
      "Batch [425/500], loss: 1.091169834136963, accuracy: 0.59375\n",
      "Batch [426/500], loss: 0.9483665227890015, accuracy: 0.6875\n",
      "Batch [427/500], loss: 1.1092033386230469, accuracy: 0.671875\n",
      "Batch [428/500], loss: 0.975357711315155, accuracy: 0.703125\n",
      "Batch [429/500], loss: 0.9437359571456909, accuracy: 0.703125\n",
      "Batch [430/500], loss: 1.4544974565505981, accuracy: 0.5625\n",
      "Batch [431/500], loss: 1.0659087896347046, accuracy: 0.609375\n",
      "Batch [432/500], loss: 1.2739123106002808, accuracy: 0.578125\n",
      "Batch [433/500], loss: 1.1837648153305054, accuracy: 0.578125\n",
      "Batch [434/500], loss: 1.1881437301635742, accuracy: 0.609375\n",
      "Batch [435/500], loss: 0.9121714234352112, accuracy: 0.734375\n",
      "Batch [436/500], loss: 0.944708526134491, accuracy: 0.65625\n",
      "Batch [437/500], loss: 1.265367031097412, accuracy: 0.609375\n",
      "Batch [438/500], loss: 1.2634319067001343, accuracy: 0.671875\n",
      "Batch [439/500], loss: 0.9680359959602356, accuracy: 0.640625\n",
      "Batch [440/500], loss: 0.769402027130127, accuracy: 0.75\n",
      "Batch [441/500], loss: 1.0281574726104736, accuracy: 0.640625\n",
      "Batch [442/500], loss: 1.1248986721038818, accuracy: 0.640625\n",
      "Batch [443/500], loss: 1.014046311378479, accuracy: 0.65625\n",
      "Batch [444/500], loss: 0.9400807619094849, accuracy: 0.625\n",
      "Batch [445/500], loss: 1.0970571041107178, accuracy: 0.703125\n",
      "Batch [446/500], loss: 1.1063084602355957, accuracy: 0.65625\n",
      "Batch [447/500], loss: 0.9532368779182434, accuracy: 0.6875\n",
      "Batch [448/500], loss: 1.1309574842453003, accuracy: 0.59375\n",
      "Batch [449/500], loss: 0.9170538187026978, accuracy: 0.640625\n",
      "Batch [450/500], loss: 0.9963366985321045, accuracy: 0.65625\n",
      "Batch [451/500], loss: 0.9997612833976746, accuracy: 0.71875\n",
      "Batch [452/500], loss: 1.1184682846069336, accuracy: 0.65625\n",
      "Batch [453/500], loss: 0.7764686346054077, accuracy: 0.75\n",
      "Batch [454/500], loss: 1.4022297859191895, accuracy: 0.5625\n",
      "Batch [455/500], loss: 1.1223331689834595, accuracy: 0.59375\n",
      "Batch [456/500], loss: 1.0212115049362183, accuracy: 0.734375\n",
      "Batch [457/500], loss: 1.01573646068573, accuracy: 0.671875\n",
      "Batch [458/500], loss: 0.9466539621353149, accuracy: 0.671875\n",
      "Batch [459/500], loss: 0.8024632930755615, accuracy: 0.71875\n",
      "Batch [460/500], loss: 1.1455607414245605, accuracy: 0.640625\n",
      "Batch [461/500], loss: 1.0314066410064697, accuracy: 0.71875\n",
      "Batch [462/500], loss: 1.0222245454788208, accuracy: 0.65625\n",
      "Batch [463/500], loss: 0.988005518913269, accuracy: 0.71875\n",
      "Batch [464/500], loss: 1.1378873586654663, accuracy: 0.671875\n",
      "Batch [465/500], loss: 0.962292492389679, accuracy: 0.671875\n",
      "Batch [466/500], loss: 1.1333177089691162, accuracy: 0.609375\n",
      "Batch [467/500], loss: 1.1488343477249146, accuracy: 0.671875\n",
      "Batch [468/500], loss: 1.348728895187378, accuracy: 0.5\n",
      "Batch [469/500], loss: 1.0456122159957886, accuracy: 0.609375\n",
      "Batch [470/500], loss: 1.2387876510620117, accuracy: 0.640625\n",
      "Batch [471/500], loss: 1.0727239847183228, accuracy: 0.65625\n",
      "Batch [472/500], loss: 0.8903169631958008, accuracy: 0.6875\n",
      "Batch [473/500], loss: 0.8392605185508728, accuracy: 0.734375\n",
      "Batch [474/500], loss: 1.3481793403625488, accuracy: 0.625\n",
      "Batch [475/500], loss: 1.3662432432174683, accuracy: 0.578125\n",
      "Batch [476/500], loss: 1.1704533100128174, accuracy: 0.640625\n",
      "Batch [477/500], loss: 0.9580857753753662, accuracy: 0.703125\n",
      "Batch [478/500], loss: 0.8772428631782532, accuracy: 0.734375\n",
      "Batch [479/500], loss: 1.1406646966934204, accuracy: 0.640625\n",
      "Batch [480/500], loss: 0.9195136427879333, accuracy: 0.71875\n",
      "Batch [481/500], loss: 1.1900813579559326, accuracy: 0.671875\n",
      "Batch [482/500], loss: 1.1358128786087036, accuracy: 0.5625\n",
      "Batch [483/500], loss: 0.8388715386390686, accuracy: 0.71875\n",
      "Batch [484/500], loss: 1.4423892498016357, accuracy: 0.515625\n",
      "Batch [485/500], loss: 0.8850148916244507, accuracy: 0.703125\n",
      "Batch [486/500], loss: 0.8345850110054016, accuracy: 0.703125\n",
      "Batch [487/500], loss: 1.4250941276550293, accuracy: 0.546875\n",
      "Batch [488/500], loss: 1.0833796262741089, accuracy: 0.640625\n",
      "Batch [489/500], loss: 1.0699595212936401, accuracy: 0.671875\n",
      "Batch [490/500], loss: 1.1983850002288818, accuracy: 0.65625\n",
      "Batch [491/500], loss: 1.0709600448608398, accuracy: 0.671875\n",
      "Batch [492/500], loss: 1.0143489837646484, accuracy: 0.640625\n",
      "Batch [493/500], loss: 0.9488138556480408, accuracy: 0.671875\n",
      "Batch [494/500], loss: 1.0604323148727417, accuracy: 0.671875\n",
      "Batch [495/500], loss: 0.7884753346443176, accuracy: 0.75\n",
      "Batch [496/500], loss: 0.9697868824005127, accuracy: 0.625\n",
      "Batch [497/500], loss: 1.1120327711105347, accuracy: 0.640625\n",
      "Batch [498/500], loss: 1.1018515825271606, accuracy: 0.65625\n",
      "Batch [499/500], loss: 1.3172435760498047, accuracy: 0.546875\n",
      "Batch [500/500], loss: 0.9778285622596741, accuracy: 0.671875\n"
     ]
    },
    {
     "data": {
      "text/plain": [
       "(1.0648356592655182, 0.65103125)"
      ]
     },
     "execution_count": 72,
     "metadata": {},
     "output_type": "execute_result"
    }
   ],
   "execution_count": 72
  },
  {
   "metadata": {
    "colab": {
     "base_uri": "https://localhost:8080/"
    },
    "id": "3810482fe9e960bf",
    "outputId": "72fe584e-ce92-4067-d3ba-8a2201f5b156",
    "ExecuteTime": {
     "end_time": "2024-06-13T02:38:47.698327Z",
     "start_time": "2024-06-13T02:38:47.680801Z"
    }
   },
   "cell_type": "code",
   "source": [
    "def eye_test(model,puzzle):\n",
    "    tensor=puzzle_to_tensor(puzzle).cuda()\n",
    "    out=model.forward(tensor)\n",
    "    return sorted(zip(expected_tags_list,out.squeeze().tolist()),key=lambda x:-x[1]),puzzle.tags\n",
    "\n",
    "eye_test(model,filter_data(load(100))[0])"
   ],
   "id": "3810482fe9e960bf",
   "outputs": [
    {
     "data": {
      "text/plain": [
       "([('deflection', -1.235765814781189),\n",
       "  ('discoveredAttack', -1.252184271812439),\n",
       "  ('pin', -2.113356590270996),\n",
       "  ('attraction', -2.3022332191467285),\n",
       "  ('fork', -2.7462387084960938),\n",
       "  ('sacrifice', -2.806795358657837),\n",
       "  ('clearance', -3.139376163482666),\n",
       "  ('skewer', -3.9855213165283203),\n",
       "  ('xRayAttack', -4.787434101104736),\n",
       "  ('doubleCheck', -4.956280708312988),\n",
       "  ('zugzwang', -7.119828701019287)],\n",
       " ['crushing', 'endgame', 'exposedKing', 'long', 'skewer'])"
      ]
     },
     "execution_count": 73,
     "metadata": {},
     "output_type": "execute_result"
    }
   ],
   "execution_count": 73
  }
 ],
 "metadata": {
  "kernelspec": {
   "display_name": "Python 3 (ipykernel)",
   "name": "python3",
   "language": "python"
  },
  "language_info": {
   "codemirror_mode": {
    "name": "ipython",
    "version": 2
   },
   "file_extension": ".py",
   "mimetype": "text/x-python",
   "name": "python",
   "nbconvert_exporter": "python",
   "pygments_lexer": "ipython2",
   "version": "2.7.6"
  },
  "colab": {
   "provenance": [],
   "gpuType": "T4"
  },
  "accelerator": "GPU"
 },
 "nbformat": 4,
 "nbformat_minor": 5
}
