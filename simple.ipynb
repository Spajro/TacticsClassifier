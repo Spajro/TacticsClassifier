{
 "cells": [
  {
   "metadata": {},
   "cell_type": "markdown",
   "source": "# LOADING DATASET",
   "id": "9dfc98def8fb55f"
  },
  {
   "metadata": {
    "ExecuteTime": {
     "end_time": "2024-05-28T19:58:51.070007Z",
     "start_time": "2024-05-28T19:58:51.067757Z"
    }
   },
   "cell_type": "code",
   "source": [
    "import pathlib\n",
    "import urllib\n",
    "import zstandard\n",
    "import chess\n",
    "import torch\n",
    "import numpy as np\n",
    "from torch import nn"
   ],
   "id": "c4b51d4c10754771",
   "outputs": [],
   "execution_count": 38
  },
  {
   "metadata": {
    "ExecuteTime": {
     "end_time": "2024-05-28T19:58:51.092388Z",
     "start_time": "2024-05-28T19:58:51.089053Z"
    }
   },
   "cell_type": "code",
   "source": [
    "def __download(url: str, name: str) -> str:\n",
    "    path, _ = urllib.request.urlretrieve(url, name)\n",
    "    return path\n",
    "\n",
    "\n",
    "def __unpack(path: str, name: str):\n",
    "    input_file = pathlib.Path(path)\n",
    "    with open(input_file, 'rb') as compressed:\n",
    "        decomp = zstandard.ZstdDecompressor()\n",
    "        output_path = name\n",
    "        with open(output_path, 'wb') as destination:\n",
    "            decomp.copy_stream(compressed, destination)\n",
    "            destination.close()\n",
    "        compressed.close()\n",
    "\n",
    "\n",
    "def __remove(path: str):\n",
    "    pathlib.Path.unlink(pathlib.Path(path))"
   ],
   "id": "c1af7d40bfdbe229",
   "outputs": [],
   "execution_count": 39
  },
  {
   "metadata": {
    "ExecuteTime": {
     "end_time": "2024-05-28T19:59:08.208905Z",
     "start_time": "2024-05-28T19:58:51.120435Z"
    }
   },
   "cell_type": "code",
   "source": "path = __download(\"https://database.lichess.org/lichess_db_puzzle.csv.zst\", \"lichess_db_puzzle.csv.zst\")",
   "id": "7b7f765e257cee1f",
   "outputs": [],
   "execution_count": 40
  },
  {
   "metadata": {
    "ExecuteTime": {
     "end_time": "2024-05-28T19:59:09.106622Z",
     "start_time": "2024-05-28T19:59:08.208905Z"
    }
   },
   "cell_type": "code",
   "source": "__unpack(path, \"lichess_db_puzzle.csv\")",
   "id": "ca1de55ee484bb4e",
   "outputs": [],
   "execution_count": 41
  },
  {
   "metadata": {
    "ExecuteTime": {
     "end_time": "2024-05-28T19:59:09.122050Z",
     "start_time": "2024-05-28T19:59:09.106622Z"
    }
   },
   "cell_type": "code",
   "source": "__remove(\"lichess_db_puzzle.csv.zst\")",
   "id": "876c56ec9a7ac80d",
   "outputs": [],
   "execution_count": 42
  },
  {
   "cell_type": "code",
   "id": "initial_id",
   "metadata": {
    "collapsed": true,
    "ExecuteTime": {
     "end_time": "2024-05-28T19:59:09.125442Z",
     "start_time": "2024-05-28T19:59:09.123053Z"
    }
   },
   "source": [
    "class Puzzle:\n",
    "    def __init__(self, row: str):\n",
    "        fields = row.split(',')\n",
    "        self.fen = fields[1]\n",
    "        self.moves = fields[2].split(\" \")\n",
    "        self.tags = fields[7].split(\" \")\n",
    "\n",
    "    def __str__(self):\n",
    "        return \"{fen: \" + self.fen + \" ,tags: [\" + \", \".join(self.tags) + \"],moves: [\" + \",\".join(self.moves) + \"]}\""
   ],
   "outputs": [],
   "execution_count": 43
  },
  {
   "metadata": {
    "ExecuteTime": {
     "end_time": "2024-05-28T19:59:09.131445Z",
     "start_time": "2024-05-28T19:59:09.125442Z"
    }
   },
   "cell_type": "code",
   "source": [
    "def load(k: int) -> [Puzzle]:\n",
    "    f = open(\"lichess_db_puzzle.csv\")\n",
    "    f.readline()\n",
    "    result = []\n",
    "    for i in range(k):\n",
    "        result.append(Puzzle(f.readline()))\n",
    "    f.close()\n",
    "    return result"
   ],
   "id": "d76ee6cf90617af0",
   "outputs": [],
   "execution_count": 44
  },
  {
   "metadata": {
    "ExecuteTime": {
     "end_time": "2024-05-28T19:59:09.137088Z",
     "start_time": "2024-05-28T19:59:09.131445Z"
    }
   },
   "cell_type": "code",
   "source": "load(10)[0].__str__()",
   "id": "57feb45f444a7d0a",
   "outputs": [
    {
     "data": {
      "text/plain": [
       "'{fen: r6k/pp2r2p/4Rp1Q/3p4/8/1N1P2R1/PqP2bPP/7K b - - 0 24 ,tags: [crushing, hangingPiece, long, middlegame],moves: [f2g3,e6e7,b2b1,b3c1,b1c1,h6c1]}'"
      ]
     },
     "execution_count": 45,
     "metadata": {},
     "output_type": "execute_result"
    }
   ],
   "execution_count": 45
  },
  {
   "metadata": {},
   "cell_type": "markdown",
   "source": "# FILTER DATASET",
   "id": "f362b99117932533"
  },
  {
   "metadata": {
    "ExecuteTime": {
     "end_time": "2024-05-28T19:59:09.142099Z",
     "start_time": "2024-05-28T19:59:09.137088Z"
    }
   },
   "cell_type": "code",
   "source": [
    "expected_tags = {\n",
    "    'attraction',\n",
    "    'discoveredAttack',\n",
    "    'doubleCheck',\n",
    "    'fork',\n",
    "    'pin',\n",
    "    'sacrifice',\n",
    "    'skewer',\n",
    "    'xRayAttack',\n",
    "    'zugzwang',\n",
    "    'deflection',\n",
    "    'clearance'\n",
    "}"
   ],
   "id": "54b9c024e9edbc45",
   "outputs": [],
   "execution_count": 46
  },
  {
   "metadata": {
    "ExecuteTime": {
     "end_time": "2024-05-28T19:59:09.147449Z",
     "start_time": "2024-05-28T19:59:09.142099Z"
    }
   },
   "cell_type": "code",
   "source": "expected_tags_list = list(expected_tags)",
   "id": "b4c7b42dafb2af34",
   "outputs": [],
   "execution_count": 47
  },
  {
   "metadata": {
    "ExecuteTime": {
     "end_time": "2024-05-28T19:59:09.152497Z",
     "start_time": "2024-05-28T19:59:09.147449Z"
    }
   },
   "cell_type": "code",
   "source": [
    "def filter_data(data: [Puzzle]) -> [Puzzle]:\n",
    "    return list(filter(lambda p: len(set(p.tags) & expected_tags) == 1, data))"
   ],
   "id": "68a75e47bbf20450",
   "outputs": [],
   "execution_count": 48
  },
  {
   "metadata": {
    "ExecuteTime": {
     "end_time": "2024-05-28T19:59:09.158185Z",
     "start_time": "2024-05-28T19:59:09.153500Z"
    }
   },
   "cell_type": "code",
   "source": "len(filter_data(load(100)))",
   "id": "ed1341d0f35d0c64",
   "outputs": [
    {
     "data": {
      "text/plain": [
       "37"
      ]
     },
     "execution_count": 49,
     "metadata": {},
     "output_type": "execute_result"
    }
   ],
   "execution_count": 49
  },
  {
   "metadata": {},
   "cell_type": "markdown",
   "source": "# CONVERSION TO TENSOR",
   "id": "a5c92e35f0ad916d"
  },
  {
   "metadata": {
    "ExecuteTime": {
     "end_time": "2024-05-28T19:59:09.162586Z",
     "start_time": "2024-05-28T19:59:09.158185Z"
    }
   },
   "cell_type": "code",
   "source": [
    "def bitboard_to_tensor(bitboard: int) -> torch.Tensor:\n",
    "    li = [1 if digit == '1' else 0 for digit in bin(bitboard)[2:]]\n",
    "    li = [0 for _ in range(64 - len(li))] + li\n",
    "    return torch.tensor(li).reshape((8, 8))"
   ],
   "id": "10c35e85f53b2f3c",
   "outputs": [],
   "execution_count": 50
  },
  {
   "metadata": {
    "ExecuteTime": {
     "end_time": "2024-05-28T19:59:09.167751Z",
     "start_time": "2024-05-28T19:59:09.162586Z"
    }
   },
   "cell_type": "code",
   "source": [
    "def fen_to_tensors_list(fen: str) -> [torch.Tensor]:\n",
    "    board = chess.Board(fen)\n",
    "    return [\n",
    "        bitboard_to_tensor(board.occupied_co[chess.WHITE]),\n",
    "        bitboard_to_tensor(board.occupied_co[chess.BLACK]),\n",
    "        bitboard_to_tensor(board.pawns),\n",
    "        bitboard_to_tensor(board.kings),\n",
    "        bitboard_to_tensor(board.queens),\n",
    "        bitboard_to_tensor(board.knights),\n",
    "        bitboard_to_tensor(board.bishops),\n",
    "        bitboard_to_tensor(board.rooks)\n",
    "    ]"
   ],
   "id": "ac21f78c3f6922b4",
   "outputs": [],
   "execution_count": 51
  },
  {
   "metadata": {
    "ExecuteTime": {
     "end_time": "2024-05-28T19:59:09.175063Z",
     "start_time": "2024-05-28T19:59:09.167751Z"
    }
   },
   "cell_type": "code",
   "source": "fen_to_tensors_list(load(1)[0].fen)",
   "id": "2af6bc1bbdd66c04",
   "outputs": [
    {
     "data": {
      "text/plain": [
       "[tensor([[0, 0, 0, 0, 0, 0, 0, 0],\n",
       "         [0, 0, 0, 0, 0, 0, 0, 0],\n",
       "         [1, 0, 0, 1, 0, 0, 0, 0],\n",
       "         [0, 0, 0, 0, 0, 0, 0, 0],\n",
       "         [0, 0, 0, 0, 0, 0, 0, 0],\n",
       "         [0, 1, 0, 0, 1, 0, 1, 0],\n",
       "         [1, 1, 0, 0, 0, 1, 0, 1],\n",
       "         [1, 0, 0, 0, 0, 0, 0, 0]]),\n",
       " tensor([[1, 0, 0, 0, 0, 0, 0, 1],\n",
       "         [1, 0, 0, 1, 0, 0, 1, 1],\n",
       "         [0, 0, 1, 0, 0, 0, 0, 0],\n",
       "         [0, 0, 0, 0, 1, 0, 0, 0],\n",
       "         [0, 0, 0, 0, 0, 0, 0, 0],\n",
       "         [0, 0, 0, 0, 0, 0, 0, 0],\n",
       "         [0, 0, 1, 0, 0, 0, 1, 0],\n",
       "         [0, 0, 0, 0, 0, 0, 0, 0]]),\n",
       " tensor([[0, 0, 0, 0, 0, 0, 0, 0],\n",
       "         [1, 0, 0, 0, 0, 0, 1, 1],\n",
       "         [0, 0, 1, 0, 0, 0, 0, 0],\n",
       "         [0, 0, 0, 0, 1, 0, 0, 0],\n",
       "         [0, 0, 0, 0, 0, 0, 0, 0],\n",
       "         [0, 0, 0, 0, 1, 0, 0, 0],\n",
       "         [1, 1, 0, 0, 0, 1, 0, 1],\n",
       "         [0, 0, 0, 0, 0, 0, 0, 0]]),\n",
       " tensor([[1, 0, 0, 0, 0, 0, 0, 0],\n",
       "         [0, 0, 0, 0, 0, 0, 0, 0],\n",
       "         [0, 0, 0, 0, 0, 0, 0, 0],\n",
       "         [0, 0, 0, 0, 0, 0, 0, 0],\n",
       "         [0, 0, 0, 0, 0, 0, 0, 0],\n",
       "         [0, 0, 0, 0, 0, 0, 0, 0],\n",
       "         [0, 0, 0, 0, 0, 0, 0, 0],\n",
       "         [1, 0, 0, 0, 0, 0, 0, 0]]),\n",
       " tensor([[0, 0, 0, 0, 0, 0, 0, 0],\n",
       "         [0, 0, 0, 0, 0, 0, 0, 0],\n",
       "         [1, 0, 0, 0, 0, 0, 0, 0],\n",
       "         [0, 0, 0, 0, 0, 0, 0, 0],\n",
       "         [0, 0, 0, 0, 0, 0, 0, 0],\n",
       "         [0, 0, 0, 0, 0, 0, 0, 0],\n",
       "         [0, 0, 0, 0, 0, 0, 1, 0],\n",
       "         [0, 0, 0, 0, 0, 0, 0, 0]]),\n",
       " tensor([[0, 0, 0, 0, 0, 0, 0, 0],\n",
       "         [0, 0, 0, 0, 0, 0, 0, 0],\n",
       "         [0, 0, 0, 0, 0, 0, 0, 0],\n",
       "         [0, 0, 0, 0, 0, 0, 0, 0],\n",
       "         [0, 0, 0, 0, 0, 0, 0, 0],\n",
       "         [0, 0, 0, 0, 0, 0, 1, 0],\n",
       "         [0, 0, 0, 0, 0, 0, 0, 0],\n",
       "         [0, 0, 0, 0, 0, 0, 0, 0]]),\n",
       " tensor([[0, 0, 0, 0, 0, 0, 0, 0],\n",
       "         [0, 0, 0, 0, 0, 0, 0, 0],\n",
       "         [0, 0, 0, 0, 0, 0, 0, 0],\n",
       "         [0, 0, 0, 0, 0, 0, 0, 0],\n",
       "         [0, 0, 0, 0, 0, 0, 0, 0],\n",
       "         [0, 0, 0, 0, 0, 0, 0, 0],\n",
       "         [0, 0, 1, 0, 0, 0, 0, 0],\n",
       "         [0, 0, 0, 0, 0, 0, 0, 0]]),\n",
       " tensor([[0, 0, 0, 0, 0, 0, 0, 1],\n",
       "         [0, 0, 0, 1, 0, 0, 0, 0],\n",
       "         [0, 0, 0, 1, 0, 0, 0, 0],\n",
       "         [0, 0, 0, 0, 0, 0, 0, 0],\n",
       "         [0, 0, 0, 0, 0, 0, 0, 0],\n",
       "         [0, 1, 0, 0, 0, 0, 0, 0],\n",
       "         [0, 0, 0, 0, 0, 0, 0, 0],\n",
       "         [0, 0, 0, 0, 0, 0, 0, 0]])]"
      ]
     },
     "execution_count": 52,
     "metadata": {},
     "output_type": "execute_result"
    }
   ],
   "execution_count": 52
  },
  {
   "metadata": {
    "ExecuteTime": {
     "end_time": "2024-05-28T19:59:09.178129Z",
     "start_time": "2024-05-28T19:59:09.175063Z"
    }
   },
   "cell_type": "code",
   "source": [
    "def move_to_tensor(move: str) -> torch.Tensor:\n",
    "    x1 = 7 - ord(move[0]) + ord('a')\n",
    "    y1 = 8 - int(move[1])\n",
    "    x2 = 7 - ord(move[2]) + ord('a')\n",
    "    y2 = 8 - int(move[3])\n",
    "    tensor = torch.zeros(8, 8)\n",
    "    tensor[y1][x1] = 1\n",
    "    tensor[y2][x2] = 1\n",
    "    return tensor"
   ],
   "id": "17c3f21abe4260e5",
   "outputs": [],
   "execution_count": 53
  },
  {
   "metadata": {
    "ExecuteTime": {
     "end_time": "2024-05-28T19:59:09.183868Z",
     "start_time": "2024-05-28T19:59:09.178129Z"
    }
   },
   "cell_type": "code",
   "source": "print(move_to_tensor('e2e4'))",
   "id": "104d99da6a271a6a",
   "outputs": [
    {
     "name": "stdout",
     "output_type": "stream",
     "text": [
      "tensor([[0., 0., 0., 0., 0., 0., 0., 0.],\n",
      "        [0., 0., 0., 0., 0., 0., 0., 0.],\n",
      "        [0., 0., 0., 0., 0., 0., 0., 0.],\n",
      "        [0., 0., 0., 0., 0., 0., 0., 0.],\n",
      "        [0., 0., 0., 1., 0., 0., 0., 0.],\n",
      "        [0., 0., 0., 0., 0., 0., 0., 0.],\n",
      "        [0., 0., 0., 1., 0., 0., 0., 0.],\n",
      "        [0., 0., 0., 0., 0., 0., 0., 0.]])\n"
     ]
    }
   ],
   "execution_count": 54
  },
  {
   "metadata": {
    "ExecuteTime": {
     "end_time": "2024-05-28T19:59:09.188708Z",
     "start_time": "2024-05-28T19:59:09.183868Z"
    }
   },
   "cell_type": "code",
   "source": [
    "def puzzle_to_tensor(puzzle: Puzzle) -> torch.Tensor:\n",
    "    fen_tensors = fen_to_tensors_list(puzzle.fen)\n",
    "    move_tensors = [move_to_tensor(puzzle.moves[0]), move_to_tensor(puzzle.moves[1])]  # FIRST TWO MOVES\n",
    "    return torch.stack(fen_tensors + move_tensors)"
   ],
   "id": "7d58e2f64a04bec6",
   "outputs": [],
   "execution_count": 55
  },
  {
   "metadata": {
    "ExecuteTime": {
     "end_time": "2024-05-28T19:59:09.199128Z",
     "start_time": "2024-05-28T19:59:09.188708Z"
    }
   },
   "cell_type": "code",
   "source": "puzzle_to_tensor(load(1)[0])",
   "id": "f086ac45785396dd",
   "outputs": [
    {
     "data": {
      "text/plain": [
       "tensor([[[0., 0., 0., 0., 0., 0., 0., 0.],\n",
       "         [0., 0., 0., 0., 0., 0., 0., 0.],\n",
       "         [1., 0., 0., 1., 0., 0., 0., 0.],\n",
       "         [0., 0., 0., 0., 0., 0., 0., 0.],\n",
       "         [0., 0., 0., 0., 0., 0., 0., 0.],\n",
       "         [0., 1., 0., 0., 1., 0., 1., 0.],\n",
       "         [1., 1., 0., 0., 0., 1., 0., 1.],\n",
       "         [1., 0., 0., 0., 0., 0., 0., 0.]],\n",
       "\n",
       "        [[1., 0., 0., 0., 0., 0., 0., 1.],\n",
       "         [1., 0., 0., 1., 0., 0., 1., 1.],\n",
       "         [0., 0., 1., 0., 0., 0., 0., 0.],\n",
       "         [0., 0., 0., 0., 1., 0., 0., 0.],\n",
       "         [0., 0., 0., 0., 0., 0., 0., 0.],\n",
       "         [0., 0., 0., 0., 0., 0., 0., 0.],\n",
       "         [0., 0., 1., 0., 0., 0., 1., 0.],\n",
       "         [0., 0., 0., 0., 0., 0., 0., 0.]],\n",
       "\n",
       "        [[0., 0., 0., 0., 0., 0., 0., 0.],\n",
       "         [1., 0., 0., 0., 0., 0., 1., 1.],\n",
       "         [0., 0., 1., 0., 0., 0., 0., 0.],\n",
       "         [0., 0., 0., 0., 1., 0., 0., 0.],\n",
       "         [0., 0., 0., 0., 0., 0., 0., 0.],\n",
       "         [0., 0., 0., 0., 1., 0., 0., 0.],\n",
       "         [1., 1., 0., 0., 0., 1., 0., 1.],\n",
       "         [0., 0., 0., 0., 0., 0., 0., 0.]],\n",
       "\n",
       "        [[1., 0., 0., 0., 0., 0., 0., 0.],\n",
       "         [0., 0., 0., 0., 0., 0., 0., 0.],\n",
       "         [0., 0., 0., 0., 0., 0., 0., 0.],\n",
       "         [0., 0., 0., 0., 0., 0., 0., 0.],\n",
       "         [0., 0., 0., 0., 0., 0., 0., 0.],\n",
       "         [0., 0., 0., 0., 0., 0., 0., 0.],\n",
       "         [0., 0., 0., 0., 0., 0., 0., 0.],\n",
       "         [1., 0., 0., 0., 0., 0., 0., 0.]],\n",
       "\n",
       "        [[0., 0., 0., 0., 0., 0., 0., 0.],\n",
       "         [0., 0., 0., 0., 0., 0., 0., 0.],\n",
       "         [1., 0., 0., 0., 0., 0., 0., 0.],\n",
       "         [0., 0., 0., 0., 0., 0., 0., 0.],\n",
       "         [0., 0., 0., 0., 0., 0., 0., 0.],\n",
       "         [0., 0., 0., 0., 0., 0., 0., 0.],\n",
       "         [0., 0., 0., 0., 0., 0., 1., 0.],\n",
       "         [0., 0., 0., 0., 0., 0., 0., 0.]],\n",
       "\n",
       "        [[0., 0., 0., 0., 0., 0., 0., 0.],\n",
       "         [0., 0., 0., 0., 0., 0., 0., 0.],\n",
       "         [0., 0., 0., 0., 0., 0., 0., 0.],\n",
       "         [0., 0., 0., 0., 0., 0., 0., 0.],\n",
       "         [0., 0., 0., 0., 0., 0., 0., 0.],\n",
       "         [0., 0., 0., 0., 0., 0., 1., 0.],\n",
       "         [0., 0., 0., 0., 0., 0., 0., 0.],\n",
       "         [0., 0., 0., 0., 0., 0., 0., 0.]],\n",
       "\n",
       "        [[0., 0., 0., 0., 0., 0., 0., 0.],\n",
       "         [0., 0., 0., 0., 0., 0., 0., 0.],\n",
       "         [0., 0., 0., 0., 0., 0., 0., 0.],\n",
       "         [0., 0., 0., 0., 0., 0., 0., 0.],\n",
       "         [0., 0., 0., 0., 0., 0., 0., 0.],\n",
       "         [0., 0., 0., 0., 0., 0., 0., 0.],\n",
       "         [0., 0., 1., 0., 0., 0., 0., 0.],\n",
       "         [0., 0., 0., 0., 0., 0., 0., 0.]],\n",
       "\n",
       "        [[0., 0., 0., 0., 0., 0., 0., 1.],\n",
       "         [0., 0., 0., 1., 0., 0., 0., 0.],\n",
       "         [0., 0., 0., 1., 0., 0., 0., 0.],\n",
       "         [0., 0., 0., 0., 0., 0., 0., 0.],\n",
       "         [0., 0., 0., 0., 0., 0., 0., 0.],\n",
       "         [0., 1., 0., 0., 0., 0., 0., 0.],\n",
       "         [0., 0., 0., 0., 0., 0., 0., 0.],\n",
       "         [0., 0., 0., 0., 0., 0., 0., 0.]],\n",
       "\n",
       "        [[0., 0., 0., 0., 0., 0., 0., 0.],\n",
       "         [0., 0., 0., 0., 0., 0., 0., 0.],\n",
       "         [0., 0., 0., 0., 0., 0., 0., 0.],\n",
       "         [0., 0., 0., 0., 0., 0., 0., 0.],\n",
       "         [0., 0., 0., 0., 0., 0., 0., 0.],\n",
       "         [0., 1., 0., 0., 0., 0., 0., 0.],\n",
       "         [0., 0., 1., 0., 0., 0., 0., 0.],\n",
       "         [0., 0., 0., 0., 0., 0., 0., 0.]],\n",
       "\n",
       "        [[0., 0., 0., 0., 0., 0., 0., 0.],\n",
       "         [0., 0., 0., 1., 0., 0., 0., 0.],\n",
       "         [0., 0., 0., 1., 0., 0., 0., 0.],\n",
       "         [0., 0., 0., 0., 0., 0., 0., 0.],\n",
       "         [0., 0., 0., 0., 0., 0., 0., 0.],\n",
       "         [0., 0., 0., 0., 0., 0., 0., 0.],\n",
       "         [0., 0., 0., 0., 0., 0., 0., 0.],\n",
       "         [0., 0., 0., 0., 0., 0., 0., 0.]]])"
      ]
     },
     "execution_count": 56,
     "metadata": {},
     "output_type": "execute_result"
    }
   ],
   "execution_count": 56
  },
  {
   "metadata": {},
   "cell_type": "markdown",
   "source": "# CONVERT AND BATCH DATASET",
   "id": "577ba77d6cc0369a"
  },
  {
   "metadata": {
    "ExecuteTime": {
     "end_time": "2024-05-28T19:59:09.202Z",
     "start_time": "2024-05-28T19:59:09.199128Z"
    }
   },
   "cell_type": "code",
   "source": [
    "def puzzle_to_truth(puzzle: Puzzle) -> torch.Tensor:\n",
    "    tensor = torch.zeros(len(expected_tags_list))\n",
    "    [tag] = set(puzzle.tags) & expected_tags\n",
    "    index = expected_tags_list.index(tag)\n",
    "    tensor[index] = 1\n",
    "    return tensor"
   ],
   "id": "f69689ed3c928f55",
   "outputs": [],
   "execution_count": 57
  },
  {
   "metadata": {
    "ExecuteTime": {
     "end_time": "2024-05-28T19:59:09.208689Z",
     "start_time": "2024-05-28T19:59:09.202Z"
    }
   },
   "cell_type": "code",
   "source": "puzzle_to_truth(filter_data(load(100))[0])",
   "id": "abd55187edfe5df",
   "outputs": [
    {
     "data": {
      "text/plain": [
       "tensor([0., 1., 0., 0., 0., 0., 0., 0., 0., 0., 0.])"
      ]
     },
     "execution_count": 58,
     "metadata": {},
     "output_type": "execute_result"
    }
   ],
   "execution_count": 58
  },
  {
   "metadata": {
    "ExecuteTime": {
     "end_time": "2024-05-28T19:59:09.212966Z",
     "start_time": "2024-05-28T19:59:09.208689Z"
    }
   },
   "cell_type": "code",
   "source": "BATCH_SIZE = 64",
   "id": "bf6296834a2068eb",
   "outputs": [],
   "execution_count": 59
  },
  {
   "metadata": {
    "ExecuteTime": {
     "end_time": "2024-05-28T19:59:09.218429Z",
     "start_time": "2024-05-28T19:59:09.212966Z"
    }
   },
   "cell_type": "code",
   "source": [
    "def convert_dataset(puzzles: [Puzzle]) -> list[tuple[torch.Tensor, torch.Tensor]]:\n",
    "    return [(puzzle_to_tensor(puzzle), puzzle_to_truth(puzzle)) for puzzle in puzzles]"
   ],
   "id": "2a98f0f8bbd52026",
   "outputs": [],
   "execution_count": 60
  },
  {
   "metadata": {
    "ExecuteTime": {
     "end_time": "2024-05-28T20:03:00.244245Z",
     "start_time": "2024-05-28T20:03:00.240592Z"
    }
   },
   "cell_type": "code",
   "source": [
    "def dataset_to_batches(dataset: list[tuple[torch.Tensor, torch.Tensor]]) -> list[tuple[torch.Tensor, torch.Tensor]]:\n",
    "    batches = []\n",
    "    index = 0\n",
    "    while index + BATCH_SIZE <= len(dataset):\n",
    "        batch = []\n",
    "        truth = []\n",
    "        max_index = index + BATCH_SIZE\n",
    "        while index < max_index:\n",
    "            batch.append(dataset[index][0])\n",
    "            truth.append(dataset[index][1])\n",
    "            index += 1\n",
    "        batches.append((torch.stack(batch).cuda(), torch.stack(truth).cuda()))\n",
    "\n",
    "    return batches"
   ],
   "id": "37b1f86d84eb8476",
   "outputs": [],
   "execution_count": 85
  },
  {
   "metadata": {
    "ExecuteTime": {
     "end_time": "2024-05-28T20:03:01.170229Z",
     "start_time": "2024-05-28T20:03:00.611439Z"
    }
   },
   "cell_type": "code",
   "source": [
    "batched_dataset=dataset_to_batches(convert_dataset(filter_data(load(10000))))\n",
    "print(len(batched_dataset))\n",
    "print(batched_dataset[0][0].shape,batched_dataset[0][1].shape)"
   ],
   "id": "2c6ecc1932649601",
   "outputs": [
    {
     "name": "stdout",
     "output_type": "stream",
     "text": [
      "47\n",
      "torch.Size([64, 10, 8, 8]) torch.Size([64, 11])\n"
     ]
    }
   ],
   "execution_count": 86
  },
  {
   "metadata": {},
   "cell_type": "markdown",
   "source": "# TRAIN",
   "id": "dd2e455b1a377348"
  },
  {
   "metadata": {
    "ExecuteTime": {
     "end_time": "2024-05-28T20:43:52.706637Z",
     "start_time": "2024-05-28T20:43:52.668818Z"
    }
   },
   "cell_type": "code",
   "source": [
    "class Model(nn.Module):\n",
    "    def __init__(self, *args, **kwargs):\n",
    "        super(Model, self).__init__()\n",
    "        self.classifier = nn.Sequential(*args, **kwargs)\n",
    "\n",
    "    def forward(self, X):\n",
    "        return self.classifier.forward(X)\n",
    "\n",
    "\n",
    "model = Model(nn.Conv2d(10, 8 * 8, kernel_size=4, padding=2),\n",
    "              nn.ReLU(),\n",
    "              nn.Conv2d(8 * 8, 4 * 4, kernel_size=2, padding=2),\n",
    "              nn.ReLU(),\n",
    "              nn.MaxPool2d(kernel_size=4, stride=1),\n",
    "              nn.Conv2d(4*4, 8 * 8, kernel_size=2, padding=2),\n",
    "              nn.ReLU(),\n",
    "              nn.Conv2d(8 * 8, 1, kernel_size=4, padding=2),\n",
    "              nn.ReLU(),\n",
    "              nn.Flatten(),\n",
    "              nn.Linear(169, 256),\n",
    "              nn.ReLU(),\n",
    "              nn.Linear(256, 64),\n",
    "              nn.ReLU(),\n",
    "              nn.Linear(64, 11),\n",
    "              nn.Softmax(),\n",
    "              )\n",
    "criterion = (\n",
    "    nn.CrossEntropyLoss()\n",
    ")\n"
   ],
   "id": "27c76f74edc787d2",
   "outputs": [],
   "execution_count": 157
  },
  {
   "metadata": {
    "ExecuteTime": {
     "end_time": "2024-05-28T20:43:54.061210Z",
     "start_time": "2024-05-28T20:43:54.058209Z"
    }
   },
   "cell_type": "code",
   "source": [
    "size_to_load=1000000\n",
    "test_batches_count=200"
   ],
   "id": "230d17a6081a7ffc",
   "outputs": [],
   "execution_count": 158
  },
  {
   "metadata": {
    "ExecuteTime": {
     "end_time": "2024-05-28T20:44:47.754092Z",
     "start_time": "2024-05-28T20:43:54.457311Z"
    }
   },
   "cell_type": "code",
   "source": [
    "all_batches=dataset_to_batches(convert_dataset(filter_data(load(size_to_load))))\n",
    "train_batches=all_batches[test_batches_count:]\n",
    "test_batches=all_batches[:test_batches_count]\n",
    "print(len(all_batches),len(train_batches),len(test_batches))"
   ],
   "id": "d1a9a9709411156f",
   "outputs": [
    {
     "name": "stdout",
     "output_type": "stream",
     "text": [
      "4770 4570 200\n"
     ]
    }
   ],
   "execution_count": 159
  },
  {
   "metadata": {
    "ExecuteTime": {
     "end_time": "2024-05-28T20:44:47.757600Z",
     "start_time": "2024-05-28T20:44:47.755098Z"
    }
   },
   "cell_type": "code",
   "source": [
    "def train(model, criterion, optimizer, epoch):\n",
    "    model.cuda()\n",
    "    criterion.cuda()\n",
    "    batches = train_batches\n",
    "    print(\"Dataset size:\", len(batches))\n",
    "    batch_index = 0\n",
    "    for i in range(epoch):\n",
    "\n",
    "        batch = batches[batch_index][0]\n",
    "        truth = batches[batch_index][1]\n",
    "\n",
    "        if batch_index == len(batches):\n",
    "            batch_index = 0\n",
    "\n",
    "        optimizer.zero_grad()\n",
    "        out = model.forward(batch)\n",
    "        loss = criterion(out, truth)\n",
    "        loss.backward()\n",
    "        optimizer.step()\n",
    "\n",
    "        if i % 1000 == 0:\n",
    "            print(loss.item())"
   ],
   "id": "52588422f107c263",
   "outputs": [],
   "execution_count": 160
  },
  {
   "metadata": {
    "ExecuteTime": {
     "end_time": "2024-05-28T20:51:17.638011Z",
     "start_time": "2024-05-28T20:47:23.798151Z"
    }
   },
   "cell_type": "code",
   "source": [
    "train(model,\n",
    "      criterion,\n",
    "      torch.optim.SGD(model.classifier.parameters(), lr=0.001),\n",
    "      100000)"
   ],
   "id": "b500d4f989b86b92",
   "outputs": [
    {
     "name": "stdout",
     "output_type": "stream",
     "text": [
      "Dataset size: 4570\n",
      "2.345280408859253\n",
      "2.3385794162750244\n",
      "2.3307228088378906\n",
      "2.3214187622070312\n",
      "2.3103208541870117\n",
      "2.297081708908081\n",
      "2.2814924716949463\n",
      "2.2637104988098145\n",
      "2.2446703910827637\n",
      "2.225867748260498\n",
      "2.2086737155914307\n",
      "2.1945362091064453\n",
      "2.1819605827331543\n",
      "2.1690762042999268\n",
      "2.1599607467651367\n",
      "2.156102418899536\n",
      "2.1545300483703613\n",
      "2.153789520263672\n",
      "2.1533894538879395\n",
      "2.153149366378784\n",
      "2.1529932022094727\n",
      "2.152885913848877\n",
      "2.15280818939209\n",
      "2.152750015258789\n",
      "2.152705192565918\n",
      "2.152669668197632\n",
      "2.1526412963867188\n",
      "2.1526176929473877\n",
      "2.1525983810424805\n",
      "2.1525816917419434\n",
      "2.1525676250457764\n",
      "2.1525557041168213\n",
      "2.152545213699341\n",
      "2.152535915374756\n",
      "2.1525278091430664\n",
      "2.1525206565856934\n",
      "2.1525139808654785\n",
      "2.152508497238159\n",
      "2.152503252029419\n",
      "2.152498483657837\n",
      "2.152494192123413\n",
      "2.1524903774261475\n",
      "2.152486801147461\n",
      "2.1524834632873535\n",
      "2.1524806022644043\n",
      "2.152477741241455\n",
      "2.152475118637085\n",
      "2.152472734451294\n",
      "2.152470588684082\n",
      "2.15246844291687\n",
      "2.1524665355682373\n",
      "2.1524646282196045\n",
      "2.152462959289551\n",
      "2.152461290359497\n",
      "2.1524598598480225\n",
      "2.152458429336548\n",
      "2.1524572372436523\n",
      "2.1524558067321777\n",
      "2.1524546146392822\n",
      "2.1524534225463867\n",
      "2.1524524688720703\n",
      "2.152451515197754\n",
      "2.1524505615234375\n",
      "2.152449607849121\n",
      "2.1524486541748047\n",
      "2.1524477005004883\n",
      "2.152446985244751\n",
      "2.1524460315704346\n",
      "2.1524453163146973\n",
      "2.152444839477539\n",
      "2.1524441242218018\n",
      "2.1524436473846436\n",
      "2.1524429321289062\n",
      "2.152442455291748\n",
      "2.1524417400360107\n",
      "2.1524410247802734\n",
      "2.1524405479431152\n",
      "2.152440071105957\n",
      "2.152439594268799\n",
      "2.1524391174316406\n",
      "2.1524386405944824\n",
      "2.152438163757324\n",
      "2.152437686920166\n",
      "2.152437210083008\n",
      "2.152437210083008\n",
      "2.1524367332458496\n",
      "2.1524362564086914\n",
      "2.152435779571533\n",
      "2.152435541152954\n",
      "2.152435302734375\n",
      "2.152435064315796\n",
      "2.1524345874786377\n",
      "2.1524343490600586\n",
      "2.1524341106414795\n",
      "2.1524338722229004\n",
      "2.152433395385742\n",
      "2.152433156967163\n",
      "2.152432918548584\n",
      "2.152432680130005\n",
      "2.152432441711426\n"
     ]
    }
   ],
   "execution_count": 166
  },
  {
   "metadata": {
    "ExecuteTime": {
     "end_time": "2024-05-28T20:51:17.642017Z",
     "start_time": "2024-05-28T20:51:17.639015Z"
    }
   },
   "cell_type": "code",
   "source": [
    "def test(model, criterion):\n",
    "    model.cuda()\n",
    "    criterion.cuda()\n",
    "    batches = test_batches\n",
    "    print(\"Dataset size:\", len(batches))\n",
    "    batch_index = 0\n",
    "    \n",
    "    total_loss = 0\n",
    "    for i in range(len(batches)):\n",
    "\n",
    "        batch = batches[batch_index][0]\n",
    "        truth = batches[batch_index][1]\n",
    "\n",
    "        if batch_index == len(batches):\n",
    "            batch_index = 0\n",
    "\n",
    "        out = model.forward(batch)\n",
    "        loss = criterion(out, truth)\n",
    "        total_loss += loss.item()\n",
    "\n",
    "    return total_loss / len(batches)"
   ],
   "id": "c8251ffcc9b16e94",
   "outputs": [],
   "execution_count": 167
  },
  {
   "metadata": {
    "ExecuteTime": {
     "end_time": "2024-05-28T20:51:18.003138Z",
     "start_time": "2024-05-28T20:51:17.642017Z"
    }
   },
   "cell_type": "code",
   "source": "test(model, criterion)",
   "id": "ac9a5368131bcb1d",
   "outputs": [
    {
     "name": "stdout",
     "output_type": "stream",
     "text": [
      "Dataset size: 200\n"
     ]
    },
    {
     "data": {
      "text/plain": [
       "2.1680612564086914"
      ]
     },
     "execution_count": 168,
     "metadata": {},
     "output_type": "execute_result"
    }
   ],
   "execution_count": 168
  },
  {
   "metadata": {
    "ExecuteTime": {
     "end_time": "2024-05-28T20:54:21.709584Z",
     "start_time": "2024-05-28T20:54:21.702592Z"
    }
   },
   "cell_type": "code",
   "source": [
    "def eye_test(model,puzzle):\n",
    "    tensor=puzzle_to_tensor(puzzle).cuda()\n",
    "    out=model.forward(tensor)\n",
    "    return sorted(zip(expected_tags_list,out.squeeze().tolist()),key=lambda x:-x[1]),puzzle.tags\n",
    "\n",
    "eye_test(model,filter_data(load(100))[0])"
   ],
   "id": "3810482fe9e960bf",
   "outputs": [
    {
     "data": {
      "text/plain": [
       "([('fork', 0.9998440742492676),\n",
       "  ('pin', 5.93155637034215e-05),\n",
       "  ('sacrifice', 3.174515222781338e-05),\n",
       "  ('discoveredAttack', 1.6470301488880068e-05),\n",
       "  ('deflection', 1.1752566024370026e-05),\n",
       "  ('clearance', 7.617819846927887e-06),\n",
       "  ('zugzwang', 7.274342351593077e-06),\n",
       "  ('attraction', 6.431613201129949e-06),\n",
       "  ('skewer', 6.2638996496389154e-06),\n",
       "  ('doubleCheck', 5.9139306358702015e-06),\n",
       "  ('xRayAttack', 3.1618544653611025e-06)],\n",
       " ['crushing', 'endgame', 'exposedKing', 'long', 'skewer'])"
      ]
     },
     "execution_count": 182,
     "metadata": {},
     "output_type": "execute_result"
    }
   ],
   "execution_count": 182
  }
 ],
 "metadata": {
  "kernelspec": {
   "display_name": "Python 3",
   "language": "python",
   "name": "python3"
  },
  "language_info": {
   "codemirror_mode": {
    "name": "ipython",
    "version": 2
   },
   "file_extension": ".py",
   "mimetype": "text/x-python",
   "name": "python",
   "nbconvert_exporter": "python",
   "pygments_lexer": "ipython2",
   "version": "2.7.6"
  }
 },
 "nbformat": 4,
 "nbformat_minor": 5
}
