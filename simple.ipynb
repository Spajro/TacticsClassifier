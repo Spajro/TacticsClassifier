{
 "cells": [
  {
   "metadata": {
    "id": "9dfc98def8fb55f"
   },
   "cell_type": "markdown",
   "source": [
    "# LOADING DATASET"
   ],
   "id": "9dfc98def8fb55f"
  },
  {
   "cell_type": "code",
   "source": [
    "!pip install zstandard\n",
    "!pip install chess"
   ],
   "metadata": {
    "colab": {
     "base_uri": "https://localhost:8080/"
    },
    "id": "N75JnRl7ei5w",
    "outputId": "caa716f4-2e3f-49e4-bb1a-1db1699ec3b9"
   },
   "id": "N75JnRl7ei5w",
   "execution_count": 66,
   "outputs": [
    {
     "output_type": "stream",
     "name": "stdout",
     "text": [
      "Requirement already satisfied: zstandard in /usr/local/lib/python3.10/dist-packages (0.22.0)\n",
      "Requirement already satisfied: chess in /usr/local/lib/python3.10/dist-packages (1.10.0)\n"
     ]
    }
   ]
  },
  {
   "metadata": {
    "id": "c4b51d4c10754771",
    "ExecuteTime": {
     "end_time": "2024-06-13T00:46:11.177071Z",
     "start_time": "2024-06-13T00:46:11.174305Z"
    }
   },
   "cell_type": "code",
   "source": [
    "import pathlib\n",
    "import urllib\n",
    "import zstandard\n",
    "import chess\n",
    "import torch\n",
    "import numpy as np\n",
    "from torch import nn\n",
    "import math\n",
    "import time"
   ],
   "id": "c4b51d4c10754771",
   "outputs": [],
   "execution_count": 33
  },
  {
   "metadata": {
    "id": "c1af7d40bfdbe229",
    "ExecuteTime": {
     "end_time": "2024-06-13T00:37:20.817121Z",
     "start_time": "2024-06-13T00:37:20.813298Z"
    }
   },
   "cell_type": "code",
   "source": [
    "def __download(url: str, name: str) -> str:\n",
    "    path, _ = urllib.request.urlretrieve(url, name)\n",
    "    return path\n",
    "\n",
    "\n",
    "def __unpack(path: str, name: str):\n",
    "    input_file = pathlib.Path(path)\n",
    "    with open(input_file, 'rb') as compressed:\n",
    "        decomp = zstandard.ZstdDecompressor()\n",
    "        output_path = name\n",
    "        with open(output_path, 'wb') as destination:\n",
    "            decomp.copy_stream(compressed, destination)\n",
    "            destination.close()\n",
    "        compressed.close()\n",
    "\n",
    "\n",
    "def __remove(path: str):\n",
    "    pathlib.Path.unlink(pathlib.Path(path))"
   ],
   "id": "c1af7d40bfdbe229",
   "outputs": [],
   "execution_count": 2
  },
  {
   "metadata": {
    "id": "7b7f765e257cee1f",
    "ExecuteTime": {
     "end_time": "2024-06-13T00:37:39.185545Z",
     "start_time": "2024-06-13T00:37:20.817654Z"
    }
   },
   "cell_type": "code",
   "source": [
    "path = __download(\"https://database.lichess.org/lichess_db_puzzle.csv.zst\", \"lichess_db_puzzle.csv.zst\")"
   ],
   "id": "7b7f765e257cee1f",
   "outputs": [],
   "execution_count": 3
  },
  {
   "metadata": {
    "id": "ca1de55ee484bb4e",
    "ExecuteTime": {
     "end_time": "2024-06-13T00:37:40.138174Z",
     "start_time": "2024-06-13T00:37:39.186549Z"
    }
   },
   "cell_type": "code",
   "source": [
    "__unpack(path, \"lichess_db_puzzle.csv\")"
   ],
   "id": "ca1de55ee484bb4e",
   "outputs": [],
   "execution_count": 4
  },
  {
   "metadata": {
    "id": "876c56ec9a7ac80d",
    "ExecuteTime": {
     "end_time": "2024-06-13T00:37:40.152895Z",
     "start_time": "2024-06-13T00:37:40.138174Z"
    }
   },
   "cell_type": "code",
   "source": [
    "__remove(\"lichess_db_puzzle.csv.zst\")"
   ],
   "id": "876c56ec9a7ac80d",
   "outputs": [],
   "execution_count": 5
  },
  {
   "cell_type": "code",
   "id": "initial_id",
   "metadata": {
    "collapsed": true,
    "id": "initial_id",
    "ExecuteTime": {
     "end_time": "2024-06-13T00:37:40.156833Z",
     "start_time": "2024-06-13T00:37:40.153899Z"
    }
   },
   "source": [
    "class Puzzle:\n",
    "    def __init__(self, row: str):\n",
    "        fields = row.split(',')\n",
    "        self.fen = fields[1]\n",
    "        self.moves = fields[2].split(\" \")\n",
    "        self.tags = fields[7].split(\" \")\n",
    "\n",
    "    def __str__(self):\n",
    "        return \"{fen: \" + self.fen + \" ,tags: [\" + \", \".join(self.tags) + \"],moves: [\" + \",\".join(self.moves) + \"]}\""
   ],
   "outputs": [],
   "execution_count": 6
  },
  {
   "metadata": {
    "id": "d76ee6cf90617af0",
    "ExecuteTime": {
     "end_time": "2024-06-13T00:37:40.162536Z",
     "start_time": "2024-06-13T00:37:40.157383Z"
    }
   },
   "cell_type": "code",
   "source": [
    "def load(k: int) -> [Puzzle]:\n",
    "    f = open(\"lichess_db_puzzle.csv\")\n",
    "    f.readline()\n",
    "    result = []\n",
    "    for i in range(k):\n",
    "        result.append(Puzzle(f.readline()))\n",
    "    f.close()\n",
    "    return result"
   ],
   "id": "d76ee6cf90617af0",
   "outputs": [],
   "execution_count": 7
  },
  {
   "metadata": {
    "colab": {
     "base_uri": "https://localhost:8080/",
     "height": 53
    },
    "id": "57feb45f444a7d0a",
    "outputId": "8090c7e2-c603-4b16-f54c-fcc74bc6025d",
    "ExecuteTime": {
     "end_time": "2024-06-13T00:37:40.169216Z",
     "start_time": "2024-06-13T00:37:40.162536Z"
    }
   },
   "cell_type": "code",
   "source": [
    "load(10)[0].__str__()"
   ],
   "id": "57feb45f444a7d0a",
   "outputs": [
    {
     "data": {
      "text/plain": [
       "'{fen: r6k/pp2r2p/4Rp1Q/3p4/8/1N1P2R1/PqP2bPP/7K b - - 0 24 ,tags: [crushing, hangingPiece, long, middlegame],moves: [f2g3,e6e7,b2b1,b3c1,b1c1,h6c1]}'"
      ]
     },
     "execution_count": 8,
     "metadata": {},
     "output_type": "execute_result"
    }
   ],
   "execution_count": 8
  },
  {
   "metadata": {
    "id": "f362b99117932533"
   },
   "cell_type": "markdown",
   "source": [
    "# FILTER DATASET"
   ],
   "id": "f362b99117932533"
  },
  {
   "metadata": {
    "id": "54b9c024e9edbc45",
    "ExecuteTime": {
     "end_time": "2024-06-13T00:37:40.173130Z",
     "start_time": "2024-06-13T00:37:40.169308Z"
    }
   },
   "cell_type": "code",
   "source": [
    "expected_tags = {\n",
    "    'attraction',\n",
    "    'discoveredAttack',\n",
    "    'doubleCheck',\n",
    "    'fork',\n",
    "    'pin',\n",
    "    'sacrifice',\n",
    "    'skewer',\n",
    "    'xRayAttack',\n",
    "    'zugzwang',\n",
    "    'deflection',\n",
    "    'clearance'\n",
    "}"
   ],
   "id": "54b9c024e9edbc45",
   "outputs": [],
   "execution_count": 9
  },
  {
   "metadata": {
    "id": "b4c7b42dafb2af34",
    "ExecuteTime": {
     "end_time": "2024-06-13T00:37:40.178410Z",
     "start_time": "2024-06-13T00:37:40.173637Z"
    }
   },
   "cell_type": "code",
   "source": [
    "expected_tags_list = list(expected_tags)"
   ],
   "id": "b4c7b42dafb2af34",
   "outputs": [],
   "execution_count": 10
  },
  {
   "metadata": {
    "id": "68a75e47bbf20450",
    "ExecuteTime": {
     "end_time": "2024-06-13T00:37:40.183229Z",
     "start_time": "2024-06-13T00:37:40.178410Z"
    }
   },
   "cell_type": "code",
   "source": [
    "def filter_data(data: [Puzzle]) -> [Puzzle]:\n",
    "    return list(filter(lambda p: len(set(p.tags) & expected_tags) == 1, data))"
   ],
   "id": "68a75e47bbf20450",
   "outputs": [],
   "execution_count": 11
  },
  {
   "metadata": {
    "colab": {
     "base_uri": "https://localhost:8080/"
    },
    "id": "ed1341d0f35d0c64",
    "outputId": "c120971e-7448-4d9f-a6be-fcad19c8d63a",
    "ExecuteTime": {
     "end_time": "2024-06-13T00:37:40.189325Z",
     "start_time": "2024-06-13T00:37:40.183229Z"
    }
   },
   "cell_type": "code",
   "source": [
    "len(filter_data(load(100)))"
   ],
   "id": "ed1341d0f35d0c64",
   "outputs": [
    {
     "data": {
      "text/plain": [
       "37"
      ]
     },
     "execution_count": 12,
     "metadata": {},
     "output_type": "execute_result"
    }
   ],
   "execution_count": 12
  },
  {
   "metadata": {
    "id": "a5c92e35f0ad916d"
   },
   "cell_type": "markdown",
   "source": [
    "# CONVERSION TO TENSOR"
   ],
   "id": "a5c92e35f0ad916d"
  },
  {
   "metadata": {
    "id": "10c35e85f53b2f3c",
    "ExecuteTime": {
     "end_time": "2024-06-13T00:37:40.194334Z",
     "start_time": "2024-06-13T00:37:40.189325Z"
    }
   },
   "cell_type": "code",
   "source": [
    "def bitboard_to_tensor(bitboard: int) -> torch.Tensor:\n",
    "    li = [1 if digit == '1' else 0 for digit in bin(bitboard)[2:]]\n",
    "    li = [0 for _ in range(64 - len(li))] + li\n",
    "    return torch.tensor(li).reshape((8, 8))"
   ],
   "id": "10c35e85f53b2f3c",
   "outputs": [],
   "execution_count": 13
  },
  {
   "metadata": {
    "id": "ac21f78c3f6922b4",
    "ExecuteTime": {
     "end_time": "2024-06-13T00:37:40.199814Z",
     "start_time": "2024-06-13T00:37:40.194334Z"
    }
   },
   "cell_type": "code",
   "source": [
    "def fen_to_tensors_list(fen: str) -> [torch.Tensor]:\n",
    "    board = chess.Board(fen)\n",
    "    return [\n",
    "        bitboard_to_tensor(board.occupied_co[chess.WHITE]),\n",
    "        bitboard_to_tensor(board.occupied_co[chess.BLACK]),\n",
    "        bitboard_to_tensor(board.pawns),\n",
    "        bitboard_to_tensor(board.kings),\n",
    "        bitboard_to_tensor(board.queens),\n",
    "        bitboard_to_tensor(board.knights),\n",
    "        bitboard_to_tensor(board.bishops),\n",
    "        bitboard_to_tensor(board.rooks)\n",
    "    ]"
   ],
   "id": "ac21f78c3f6922b4",
   "outputs": [],
   "execution_count": 14
  },
  {
   "metadata": {
    "colab": {
     "base_uri": "https://localhost:8080/"
    },
    "id": "2af6bc1bbdd66c04",
    "outputId": "34461af0-1e7c-4099-919c-4b76f550644c",
    "ExecuteTime": {
     "end_time": "2024-06-13T00:37:40.224544Z",
     "start_time": "2024-06-13T00:37:40.199814Z"
    }
   },
   "cell_type": "code",
   "source": [
    "fen_to_tensors_list(load(1)[0].fen)"
   ],
   "id": "2af6bc1bbdd66c04",
   "outputs": [
    {
     "data": {
      "text/plain": [
       "[tensor([[0, 0, 0, 0, 0, 0, 0, 0],\n",
       "         [0, 0, 0, 0, 0, 0, 0, 0],\n",
       "         [1, 0, 0, 1, 0, 0, 0, 0],\n",
       "         [0, 0, 0, 0, 0, 0, 0, 0],\n",
       "         [0, 0, 0, 0, 0, 0, 0, 0],\n",
       "         [0, 1, 0, 0, 1, 0, 1, 0],\n",
       "         [1, 1, 0, 0, 0, 1, 0, 1],\n",
       "         [1, 0, 0, 0, 0, 0, 0, 0]]),\n",
       " tensor([[1, 0, 0, 0, 0, 0, 0, 1],\n",
       "         [1, 0, 0, 1, 0, 0, 1, 1],\n",
       "         [0, 0, 1, 0, 0, 0, 0, 0],\n",
       "         [0, 0, 0, 0, 1, 0, 0, 0],\n",
       "         [0, 0, 0, 0, 0, 0, 0, 0],\n",
       "         [0, 0, 0, 0, 0, 0, 0, 0],\n",
       "         [0, 0, 1, 0, 0, 0, 1, 0],\n",
       "         [0, 0, 0, 0, 0, 0, 0, 0]]),\n",
       " tensor([[0, 0, 0, 0, 0, 0, 0, 0],\n",
       "         [1, 0, 0, 0, 0, 0, 1, 1],\n",
       "         [0, 0, 1, 0, 0, 0, 0, 0],\n",
       "         [0, 0, 0, 0, 1, 0, 0, 0],\n",
       "         [0, 0, 0, 0, 0, 0, 0, 0],\n",
       "         [0, 0, 0, 0, 1, 0, 0, 0],\n",
       "         [1, 1, 0, 0, 0, 1, 0, 1],\n",
       "         [0, 0, 0, 0, 0, 0, 0, 0]]),\n",
       " tensor([[1, 0, 0, 0, 0, 0, 0, 0],\n",
       "         [0, 0, 0, 0, 0, 0, 0, 0],\n",
       "         [0, 0, 0, 0, 0, 0, 0, 0],\n",
       "         [0, 0, 0, 0, 0, 0, 0, 0],\n",
       "         [0, 0, 0, 0, 0, 0, 0, 0],\n",
       "         [0, 0, 0, 0, 0, 0, 0, 0],\n",
       "         [0, 0, 0, 0, 0, 0, 0, 0],\n",
       "         [1, 0, 0, 0, 0, 0, 0, 0]]),\n",
       " tensor([[0, 0, 0, 0, 0, 0, 0, 0],\n",
       "         [0, 0, 0, 0, 0, 0, 0, 0],\n",
       "         [1, 0, 0, 0, 0, 0, 0, 0],\n",
       "         [0, 0, 0, 0, 0, 0, 0, 0],\n",
       "         [0, 0, 0, 0, 0, 0, 0, 0],\n",
       "         [0, 0, 0, 0, 0, 0, 0, 0],\n",
       "         [0, 0, 0, 0, 0, 0, 1, 0],\n",
       "         [0, 0, 0, 0, 0, 0, 0, 0]]),\n",
       " tensor([[0, 0, 0, 0, 0, 0, 0, 0],\n",
       "         [0, 0, 0, 0, 0, 0, 0, 0],\n",
       "         [0, 0, 0, 0, 0, 0, 0, 0],\n",
       "         [0, 0, 0, 0, 0, 0, 0, 0],\n",
       "         [0, 0, 0, 0, 0, 0, 0, 0],\n",
       "         [0, 0, 0, 0, 0, 0, 1, 0],\n",
       "         [0, 0, 0, 0, 0, 0, 0, 0],\n",
       "         [0, 0, 0, 0, 0, 0, 0, 0]]),\n",
       " tensor([[0, 0, 0, 0, 0, 0, 0, 0],\n",
       "         [0, 0, 0, 0, 0, 0, 0, 0],\n",
       "         [0, 0, 0, 0, 0, 0, 0, 0],\n",
       "         [0, 0, 0, 0, 0, 0, 0, 0],\n",
       "         [0, 0, 0, 0, 0, 0, 0, 0],\n",
       "         [0, 0, 0, 0, 0, 0, 0, 0],\n",
       "         [0, 0, 1, 0, 0, 0, 0, 0],\n",
       "         [0, 0, 0, 0, 0, 0, 0, 0]]),\n",
       " tensor([[0, 0, 0, 0, 0, 0, 0, 1],\n",
       "         [0, 0, 0, 1, 0, 0, 0, 0],\n",
       "         [0, 0, 0, 1, 0, 0, 0, 0],\n",
       "         [0, 0, 0, 0, 0, 0, 0, 0],\n",
       "         [0, 0, 0, 0, 0, 0, 0, 0],\n",
       "         [0, 1, 0, 0, 0, 0, 0, 0],\n",
       "         [0, 0, 0, 0, 0, 0, 0, 0],\n",
       "         [0, 0, 0, 0, 0, 0, 0, 0]])]"
      ]
     },
     "execution_count": 15,
     "metadata": {},
     "output_type": "execute_result"
    }
   ],
   "execution_count": 15
  },
  {
   "metadata": {
    "id": "17c3f21abe4260e5",
    "ExecuteTime": {
     "end_time": "2024-06-13T00:37:40.227546Z",
     "start_time": "2024-06-13T00:37:40.224544Z"
    }
   },
   "cell_type": "code",
   "source": [
    "def move_to_tensor(move: str) -> torch.Tensor:\n",
    "    x1 = 7 - ord(move[0]) + ord('a')\n",
    "    y1 = 8 - int(move[1])\n",
    "    x2 = 7 - ord(move[2]) + ord('a')\n",
    "    y2 = 8 - int(move[3])\n",
    "    tensor = torch.zeros(8, 8)\n",
    "    tensor[y1][x1] = 1\n",
    "    tensor[y2][x2] = 1\n",
    "    return tensor"
   ],
   "id": "17c3f21abe4260e5",
   "outputs": [],
   "execution_count": 16
  },
  {
   "metadata": {
    "colab": {
     "base_uri": "https://localhost:8080/"
    },
    "id": "104d99da6a271a6a",
    "outputId": "4c8e870d-2a95-4279-f691-408b6195571b",
    "ExecuteTime": {
     "end_time": "2024-06-13T00:37:40.255153Z",
     "start_time": "2024-06-13T00:37:40.251971Z"
    }
   },
   "cell_type": "code",
   "source": [
    "print(move_to_tensor('e2e4'))"
   ],
   "id": "104d99da6a271a6a",
   "outputs": [
    {
     "name": "stdout",
     "output_type": "stream",
     "text": [
      "tensor([[0., 0., 0., 0., 0., 0., 0., 0.],\n",
      "        [0., 0., 0., 0., 0., 0., 0., 0.],\n",
      "        [0., 0., 0., 0., 0., 0., 0., 0.],\n",
      "        [0., 0., 0., 0., 0., 0., 0., 0.],\n",
      "        [0., 0., 0., 1., 0., 0., 0., 0.],\n",
      "        [0., 0., 0., 0., 0., 0., 0., 0.],\n",
      "        [0., 0., 0., 1., 0., 0., 0., 0.],\n",
      "        [0., 0., 0., 0., 0., 0., 0., 0.]])\n"
     ]
    }
   ],
   "execution_count": 18
  },
  {
   "metadata": {
    "id": "7d58e2f64a04bec6",
    "ExecuteTime": {
     "end_time": "2024-06-13T00:37:40.260584Z",
     "start_time": "2024-06-13T00:37:40.255153Z"
    }
   },
   "cell_type": "code",
   "source": [
    "def puzzle_to_tensor(puzzle: Puzzle) -> torch.Tensor:\n",
    "    fen_tensors = fen_to_tensors_list(puzzle.fen)\n",
    "    move_tensors = [move_to_tensor(puzzle.moves[0]), move_to_tensor(puzzle.moves[1])]  # FIRST TWO MOVES\n",
    "    return torch.stack(fen_tensors + move_tensors)"
   ],
   "id": "7d58e2f64a04bec6",
   "outputs": [],
   "execution_count": 19
  },
  {
   "metadata": {
    "colab": {
     "base_uri": "https://localhost:8080/"
    },
    "id": "f086ac45785396dd",
    "outputId": "6001e3b8-6fb1-4dbb-cc0f-ddf25c3e4a98",
    "ExecuteTime": {
     "end_time": "2024-06-13T00:37:40.269419Z",
     "start_time": "2024-06-13T00:37:40.260584Z"
    }
   },
   "cell_type": "code",
   "source": [
    "puzzle_to_tensor(load(1)[0])"
   ],
   "id": "f086ac45785396dd",
   "outputs": [
    {
     "data": {
      "text/plain": [
       "tensor([[[0., 0., 0., 0., 0., 0., 0., 0.],\n",
       "         [0., 0., 0., 0., 0., 0., 0., 0.],\n",
       "         [1., 0., 0., 1., 0., 0., 0., 0.],\n",
       "         [0., 0., 0., 0., 0., 0., 0., 0.],\n",
       "         [0., 0., 0., 0., 0., 0., 0., 0.],\n",
       "         [0., 1., 0., 0., 1., 0., 1., 0.],\n",
       "         [1., 1., 0., 0., 0., 1., 0., 1.],\n",
       "         [1., 0., 0., 0., 0., 0., 0., 0.]],\n",
       "\n",
       "        [[1., 0., 0., 0., 0., 0., 0., 1.],\n",
       "         [1., 0., 0., 1., 0., 0., 1., 1.],\n",
       "         [0., 0., 1., 0., 0., 0., 0., 0.],\n",
       "         [0., 0., 0., 0., 1., 0., 0., 0.],\n",
       "         [0., 0., 0., 0., 0., 0., 0., 0.],\n",
       "         [0., 0., 0., 0., 0., 0., 0., 0.],\n",
       "         [0., 0., 1., 0., 0., 0., 1., 0.],\n",
       "         [0., 0., 0., 0., 0., 0., 0., 0.]],\n",
       "\n",
       "        [[0., 0., 0., 0., 0., 0., 0., 0.],\n",
       "         [1., 0., 0., 0., 0., 0., 1., 1.],\n",
       "         [0., 0., 1., 0., 0., 0., 0., 0.],\n",
       "         [0., 0., 0., 0., 1., 0., 0., 0.],\n",
       "         [0., 0., 0., 0., 0., 0., 0., 0.],\n",
       "         [0., 0., 0., 0., 1., 0., 0., 0.],\n",
       "         [1., 1., 0., 0., 0., 1., 0., 1.],\n",
       "         [0., 0., 0., 0., 0., 0., 0., 0.]],\n",
       "\n",
       "        [[1., 0., 0., 0., 0., 0., 0., 0.],\n",
       "         [0., 0., 0., 0., 0., 0., 0., 0.],\n",
       "         [0., 0., 0., 0., 0., 0., 0., 0.],\n",
       "         [0., 0., 0., 0., 0., 0., 0., 0.],\n",
       "         [0., 0., 0., 0., 0., 0., 0., 0.],\n",
       "         [0., 0., 0., 0., 0., 0., 0., 0.],\n",
       "         [0., 0., 0., 0., 0., 0., 0., 0.],\n",
       "         [1., 0., 0., 0., 0., 0., 0., 0.]],\n",
       "\n",
       "        [[0., 0., 0., 0., 0., 0., 0., 0.],\n",
       "         [0., 0., 0., 0., 0., 0., 0., 0.],\n",
       "         [1., 0., 0., 0., 0., 0., 0., 0.],\n",
       "         [0., 0., 0., 0., 0., 0., 0., 0.],\n",
       "         [0., 0., 0., 0., 0., 0., 0., 0.],\n",
       "         [0., 0., 0., 0., 0., 0., 0., 0.],\n",
       "         [0., 0., 0., 0., 0., 0., 1., 0.],\n",
       "         [0., 0., 0., 0., 0., 0., 0., 0.]],\n",
       "\n",
       "        [[0., 0., 0., 0., 0., 0., 0., 0.],\n",
       "         [0., 0., 0., 0., 0., 0., 0., 0.],\n",
       "         [0., 0., 0., 0., 0., 0., 0., 0.],\n",
       "         [0., 0., 0., 0., 0., 0., 0., 0.],\n",
       "         [0., 0., 0., 0., 0., 0., 0., 0.],\n",
       "         [0., 0., 0., 0., 0., 0., 1., 0.],\n",
       "         [0., 0., 0., 0., 0., 0., 0., 0.],\n",
       "         [0., 0., 0., 0., 0., 0., 0., 0.]],\n",
       "\n",
       "        [[0., 0., 0., 0., 0., 0., 0., 0.],\n",
       "         [0., 0., 0., 0., 0., 0., 0., 0.],\n",
       "         [0., 0., 0., 0., 0., 0., 0., 0.],\n",
       "         [0., 0., 0., 0., 0., 0., 0., 0.],\n",
       "         [0., 0., 0., 0., 0., 0., 0., 0.],\n",
       "         [0., 0., 0., 0., 0., 0., 0., 0.],\n",
       "         [0., 0., 1., 0., 0., 0., 0., 0.],\n",
       "         [0., 0., 0., 0., 0., 0., 0., 0.]],\n",
       "\n",
       "        [[0., 0., 0., 0., 0., 0., 0., 1.],\n",
       "         [0., 0., 0., 1., 0., 0., 0., 0.],\n",
       "         [0., 0., 0., 1., 0., 0., 0., 0.],\n",
       "         [0., 0., 0., 0., 0., 0., 0., 0.],\n",
       "         [0., 0., 0., 0., 0., 0., 0., 0.],\n",
       "         [0., 1., 0., 0., 0., 0., 0., 0.],\n",
       "         [0., 0., 0., 0., 0., 0., 0., 0.],\n",
       "         [0., 0., 0., 0., 0., 0., 0., 0.]],\n",
       "\n",
       "        [[0., 0., 0., 0., 0., 0., 0., 0.],\n",
       "         [0., 0., 0., 0., 0., 0., 0., 0.],\n",
       "         [0., 0., 0., 0., 0., 0., 0., 0.],\n",
       "         [0., 0., 0., 0., 0., 0., 0., 0.],\n",
       "         [0., 0., 0., 0., 0., 0., 0., 0.],\n",
       "         [0., 1., 0., 0., 0., 0., 0., 0.],\n",
       "         [0., 0., 1., 0., 0., 0., 0., 0.],\n",
       "         [0., 0., 0., 0., 0., 0., 0., 0.]],\n",
       "\n",
       "        [[0., 0., 0., 0., 0., 0., 0., 0.],\n",
       "         [0., 0., 0., 1., 0., 0., 0., 0.],\n",
       "         [0., 0., 0., 1., 0., 0., 0., 0.],\n",
       "         [0., 0., 0., 0., 0., 0., 0., 0.],\n",
       "         [0., 0., 0., 0., 0., 0., 0., 0.],\n",
       "         [0., 0., 0., 0., 0., 0., 0., 0.],\n",
       "         [0., 0., 0., 0., 0., 0., 0., 0.],\n",
       "         [0., 0., 0., 0., 0., 0., 0., 0.]]])"
      ]
     },
     "execution_count": 20,
     "metadata": {},
     "output_type": "execute_result"
    }
   ],
   "execution_count": 20
  },
  {
   "metadata": {
    "id": "577ba77d6cc0369a"
   },
   "cell_type": "markdown",
   "source": [
    "# CONVERT AND BATCH DATASET"
   ],
   "id": "577ba77d6cc0369a"
  },
  {
   "metadata": {
    "id": "f69689ed3c928f55",
    "ExecuteTime": {
     "end_time": "2024-06-13T00:37:54.037937Z",
     "start_time": "2024-06-13T00:37:54.034936Z"
    }
   },
   "cell_type": "code",
   "source": [
    "def puzzle_to_truth(puzzle: Puzzle) -> torch.Tensor:\n",
    "    tensor = torch.zeros(len(expected_tags_list))\n",
    "    [tag] = set(puzzle.tags) & expected_tags\n",
    "    index = expected_tags_list.index(tag)\n",
    "    tensor[index] = 1\n",
    "    return torch.zeros(1) + index"
   ],
   "id": "f69689ed3c928f55",
   "outputs": [],
   "execution_count": 21
  },
  {
   "metadata": {
    "colab": {
     "base_uri": "https://localhost:8080/"
    },
    "id": "abd55187edfe5df",
    "outputId": "f6911bb9-c23d-4592-e06f-543c53eabeab",
    "ExecuteTime": {
     "end_time": "2024-06-13T00:37:54.564564Z",
     "start_time": "2024-06-13T00:37:54.559906Z"
    }
   },
   "cell_type": "code",
   "source": [
    "puzzle_to_truth(filter_data(load(100))[0])"
   ],
   "id": "abd55187edfe5df",
   "outputs": [
    {
     "data": {
      "text/plain": [
       "tensor([9.])"
      ]
     },
     "execution_count": 22,
     "metadata": {},
     "output_type": "execute_result"
    }
   ],
   "execution_count": 22
  },
  {
   "metadata": {
    "id": "bf6296834a2068eb",
    "ExecuteTime": {
     "end_time": "2024-06-13T00:37:55.097646Z",
     "start_time": "2024-06-13T00:37:55.094647Z"
    }
   },
   "cell_type": "code",
   "source": [
    "BATCH_SIZE = 64"
   ],
   "id": "bf6296834a2068eb",
   "outputs": [],
   "execution_count": 23
  },
  {
   "metadata": {
    "id": "2a98f0f8bbd52026",
    "ExecuteTime": {
     "end_time": "2024-06-13T00:37:55.445902Z",
     "start_time": "2024-06-13T00:37:55.443465Z"
    }
   },
   "cell_type": "code",
   "source": [
    "def convert_dataset(puzzles: [Puzzle]) -> list[tuple[torch.Tensor, torch.Tensor]]:\n",
    "    return [(puzzle_to_tensor(puzzle), puzzle_to_truth(puzzle)) for puzzle in puzzles]"
   ],
   "id": "2a98f0f8bbd52026",
   "outputs": [],
   "execution_count": 24
  },
  {
   "metadata": {
    "id": "37b1f86d84eb8476",
    "ExecuteTime": {
     "end_time": "2024-06-13T00:37:55.796130Z",
     "start_time": "2024-06-13T00:37:55.793450Z"
    }
   },
   "cell_type": "code",
   "source": [
    "def dataset_to_batches(dataset: list[tuple[torch.Tensor, torch.Tensor]]) -> list[tuple[torch.Tensor, torch.Tensor]]:\n",
    "    batches = []\n",
    "    index = 0\n",
    "    while index + BATCH_SIZE <= len(dataset):\n",
    "        batch = []\n",
    "        truth = []\n",
    "        max_index = index + BATCH_SIZE\n",
    "        while index < max_index:\n",
    "            batch.append(dataset[index][0])\n",
    "            truth.append(dataset[index][1])\n",
    "            index += 1\n",
    "        batches.append((torch.stack(batch).cuda(), torch.tensor(truth).cuda().type(torch.long)))\n",
    "\n",
    "    return batches"
   ],
   "id": "37b1f86d84eb8476",
   "outputs": [],
   "execution_count": 25
  },
  {
   "metadata": {
    "colab": {
     "base_uri": "https://localhost:8080/"
    },
    "id": "2c6ecc1932649601",
    "outputId": "8d7d238c-6a9b-4d8b-8329-2316a5c271e0",
    "ExecuteTime": {
     "end_time": "2024-06-13T00:37:57.496271Z",
     "start_time": "2024-06-13T00:37:56.701133Z"
    }
   },
   "cell_type": "code",
   "source": [
    "batched_dataset=dataset_to_batches(convert_dataset(filter_data(load(10000))))\n",
    "print(len(batched_dataset))\n",
    "print(batched_dataset[0][0].shape,batched_dataset[0][1].shape)"
   ],
   "id": "2c6ecc1932649601",
   "outputs": [
    {
     "name": "stdout",
     "output_type": "stream",
     "text": [
      "47\n",
      "torch.Size([64, 10, 8, 8]) torch.Size([64])\n"
     ]
    }
   ],
   "execution_count": 26
  },
  {
   "metadata": {
    "id": "dd2e455b1a377348"
   },
   "cell_type": "markdown",
   "source": [
    "# TRAIN"
   ],
   "id": "dd2e455b1a377348"
  },
  {
   "metadata": {
    "id": "ab02ddd180fcdd69",
    "ExecuteTime": {
     "end_time": "2024-06-13T00:37:58.852313Z",
     "start_time": "2024-06-13T00:37:58.849810Z"
    }
   },
   "cell_type": "code",
   "source": [
    "def accuracy(out,truth):\n",
    "    return torch.argmax(out,dim=1) == truth"
   ],
   "id": "ab02ddd180fcdd69",
   "outputs": [],
   "execution_count": 27
  },
  {
   "metadata": {
    "id": "27c76f74edc787d2",
    "ExecuteTime": {
     "end_time": "2024-06-13T01:00:55.957802Z",
     "start_time": "2024-06-13T01:00:55.952802Z"
    }
   },
   "cell_type": "code",
   "source": [
    "class Model(nn.Module):\n",
    "    def __init__(self, *args, **kwargs):\n",
    "        super(Model, self).__init__()\n",
    "        self.classifier = nn.Sequential(*args, **kwargs)\n",
    "\n",
    "    def forward(self, X):\n",
    "        return self.classifier.forward(X)\n",
    "\n",
    "\n",
    "model = Model(nn.Conv2d(10, 8 * 8, kernel_size=4, padding=2),\n",
    "              nn.ReLU(),\n",
    "              nn.Conv2d(8 * 8, 4 * 4, kernel_size=2, padding=2),\n",
    "              nn.ReLU(),\n",
    "              nn.MaxPool2d(kernel_size=4, stride=1),\n",
    "              nn.Conv2d(4*4, 8 * 8, kernel_size=2, padding=2),\n",
    "              nn.ReLU(),\n",
    "              nn.Conv2d(8 * 8, 1, kernel_size=4, padding=2),\n",
    "              nn.ReLU(),\n",
    "              nn.Flatten(),\n",
    "              nn.Linear(169, 256),\n",
    "              nn.ReLU(),\n",
    "              nn.Linear(256, 64),\n",
    "              nn.ReLU(),\n",
    "              nn.Linear(64, 11),\n",
    "              nn.LogSoftmax(),\n",
    "              )\n",
    "criterion = (\n",
    "    nn.NLLLoss()\n",
    ")\n"
   ],
   "id": "27c76f74edc787d2",
   "outputs": [],
   "execution_count": 41
  },
  {
   "metadata": {
    "id": "230d17a6081a7ffc",
    "ExecuteTime": {
     "end_time": "2024-06-13T00:38:00.112042Z",
     "start_time": "2024-06-13T00:38:00.110006Z"
    }
   },
   "cell_type": "code",
   "source": [
    "size_to_load=3000000\n",
    "test_batches_count=500"
   ],
   "id": "230d17a6081a7ffc",
   "outputs": [],
   "execution_count": 29
  },
  {
   "metadata": {
    "colab": {
     "base_uri": "https://localhost:8080/"
    },
    "id": "d1a9a9709411156f",
    "outputId": "af34efb6-3217-469c-cfdb-144401927871",
    "ExecuteTime": {
     "end_time": "2024-06-13T00:39:42.934277Z",
     "start_time": "2024-06-13T00:38:00.827545Z"
    }
   },
   "cell_type": "code",
   "source": [
    "all_batches=dataset_to_batches(convert_dataset(filter_data(load(size_to_load))))\n",
    "train_batches=all_batches[test_batches_count:]\n",
    "test_batches=all_batches[:test_batches_count]\n",
    "print(len(all_batches),len(train_batches),len(test_batches))"
   ],
   "id": "d1a9a9709411156f",
   "outputs": [
    {
     "name": "stdout",
     "output_type": "stream",
     "text": [
      "9421 9021 400\n"
     ]
    }
   ],
   "execution_count": 30
  },
  {
   "metadata": {
    "id": "52588422f107c263",
    "ExecuteTime": {
     "end_time": "2024-06-13T01:00:58.035070Z",
     "start_time": "2024-06-13T01:00:58.031621Z"
    }
   },
   "cell_type": "code",
   "source": [
    "def train(model, criterion, optimizer, epoch):\n",
    "    model.cuda()\n",
    "    criterion.cuda()\n",
    "    batches = train_batches\n",
    "    size=len(batches)\n",
    "    print(\"Dataset size:\", len(batches))\n",
    "    for i in range(epoch):\n",
    "        time_started = time.time() * 1000\n",
    "        loss_sum=0.0\n",
    "        accuracy_sum=0.0\n",
    "        for batch, truth in batches:\n",
    "            optimizer.zero_grad()\n",
    "            out = model.forward(batch)\n",
    "            loss = criterion(out, truth)\n",
    "            loss.backward()\n",
    "            optimizer.step()\n",
    "            accuracy_value = accuracy(out,truth).sum()/BATCH_SIZE\n",
    "            \n",
    "            loss_sum+=loss.item()\n",
    "            accuracy_sum+=accuracy_value.item()\n",
    "            \n",
    "        passed_time = math.ceil(time.time() * 1000 - time_started)\n",
    "        print(f\"Epoch [{i+1}/{epoch}], loss: {loss_sum/size}, accuracy: {accuracy_sum/size}, time: {passed_time/1000}s\")"
   ],
   "id": "52588422f107c263",
   "outputs": [],
   "execution_count": 42
  },
  {
   "metadata": {
    "colab": {
     "base_uri": "https://localhost:8080/"
    },
    "id": "b500d4f989b86b92",
    "outputId": "ba85a3e2-7be2-43b0-90a6-0ceecdaa51c6",
    "ExecuteTime": {
     "end_time": "2024-06-13T01:12:17.374342Z",
     "start_time": "2024-06-13T01:00:58.403964Z"
    }
   },
   "cell_type": "code",
   "source": [
    "train(model,\n",
    "      criterion,\n",
    "      torch.optim.SGD(model.classifier.parameters(), lr=0.001),\n",
    "      50)"
   ],
   "id": "b500d4f989b86b92",
   "outputs": [
    {
     "name": "stdout",
     "output_type": "stream",
     "text": [
      "Dataset size: 9021\n",
      "Epoch [1/50], loss: 1.95151155253443, accuracy: 0.36970333111628423, time: 13.934s\n",
      "Epoch [2/50], loss: 1.8682542891714342, accuracy: 0.3784953164837601, time: 13.55s\n",
      "Epoch [3/50], loss: 1.8610261919730757, accuracy: 0.3784953164837601, time: 13.427s\n",
      "Epoch [4/50], loss: 1.8426527727629443, accuracy: 0.3784953164837601, time: 13.818s\n",
      "Epoch [5/50], loss: 1.8015298650714302, accuracy: 0.3784953164837601, time: 13.641s\n",
      "Epoch [6/50], loss: 1.7488994132968965, accuracy: 0.38385953608247425, time: 13.37s\n",
      "Epoch [7/50], loss: 1.694304491289306, accuracy: 0.4008338183128256, time: 13.421s\n",
      "Epoch [8/50], loss: 1.6508158516849492, accuracy: 0.4217762720319255, time: 14.199s\n",
      "Epoch [9/50], loss: 1.6233589556301502, accuracy: 0.4354700144108192, time: 13.324s\n",
      "Epoch [10/50], loss: 1.6022014827768445, accuracy: 0.44556451612903225, time: 13.372s\n",
      "Epoch [11/50], loss: 1.584401277200225, accuracy: 0.452735284336548, time: 13.349s\n",
      "Epoch [12/50], loss: 1.5681747004642492, accuracy: 0.4587490300410154, time: 14.072s\n",
      "Epoch [13/50], loss: 1.552734474611975, accuracy: 0.46427086797472567, time: 13.541s\n",
      "Epoch [14/50], loss: 1.5379990611765102, accuracy: 0.4691708929165281, time: 13.477s\n",
      "Epoch [15/50], loss: 1.5239716765093256, accuracy: 0.4743151396740938, time: 13.609s\n",
      "Epoch [16/50], loss: 1.5105951526135672, accuracy: 0.4793121605143554, time: 13.492s\n",
      "Epoch [17/50], loss: 1.4979011560276625, accuracy: 0.48399048054539406, time: 15.125s\n",
      "Epoch [18/50], loss: 1.4856483413406412, accuracy: 0.4881665003879836, time: 13.883s\n",
      "Epoch [19/50], loss: 1.473812617122856, accuracy: 0.49248974614787716, time: 13.947s\n",
      "Epoch [20/50], loss: 1.4624622205173001, accuracy: 0.49661900011085247, time: 13.594s\n",
      "Epoch [21/50], loss: 1.4515912093419534, accuracy: 0.50040530428999, time: 13.417s\n",
      "Epoch [22/50], loss: 1.4410308056746681, accuracy: 0.5043700116395078, time: 13.519s\n",
      "Epoch [23/50], loss: 1.4310297119803788, accuracy: 0.5082290627424898, time: 13.871s\n",
      "Epoch [24/50], loss: 1.421540767314521, accuracy: 0.5117624847577874, time: 13.438s\n",
      "Epoch [25/50], loss: 1.4126629787318101, accuracy: 0.5151400205077042, time: 14.424s\n",
      "Epoch [26/50], loss: 1.4045493066965007, accuracy: 0.5185418052322359, time: 13.285s\n",
      "Epoch [27/50], loss: 1.396993099427411, accuracy: 0.5217045643498504, time: 13.41s\n",
      "Epoch [28/50], loss: 1.3898074066555695, accuracy: 0.5244239136459372, time: 13.556s\n",
      "Epoch [29/50], loss: 1.3830152278384669, accuracy: 0.5273182019731737, time: 13.549s\n",
      "Epoch [30/50], loss: 1.3767291810068267, accuracy: 0.5297136542511917, time: 13.765s\n",
      "Epoch [31/50], loss: 1.3707464988632592, accuracy: 0.5320969820419023, time: 13.617s\n",
      "Epoch [32/50], loss: 1.365009754496421, accuracy: 0.5342083749030041, time: 13.074s\n",
      "Epoch [33/50], loss: 1.3594956026678802, accuracy: 0.536243556701031, time: 13.254s\n",
      "Epoch [34/50], loss: 1.3542440864664793, accuracy: 0.5383462892140561, time: 12.764s\n",
      "Epoch [35/50], loss: 1.3492148556224048, accuracy: 0.5403554899678528, time: 13.351s\n",
      "Epoch [36/50], loss: 1.3443395264488858, accuracy: 0.5423629586520341, time: 13.343s\n",
      "Epoch [37/50], loss: 1.3395946298136097, accuracy: 0.5443513745704467, time: 13.712s\n",
      "Epoch [38/50], loss: 1.3350262541211162, accuracy: 0.5461423345527103, time: 13.443s\n",
      "Epoch [39/50], loss: 1.3305762505903964, accuracy: 0.5477098575545948, time: 13.387s\n",
      "Epoch [40/50], loss: 1.326211939192627, accuracy: 0.5491526715441747, time: 13.456s\n",
      "Epoch [41/50], loss: 1.3220000636311993, accuracy: 0.5509903974060525, time: 13.774s\n",
      "Epoch [42/50], loss: 1.3179846288835166, accuracy: 0.5523223589402505, time: 13.648s\n",
      "Epoch [43/50], loss: 1.3141183146562483, accuracy: 0.5537305315375236, time: 13.698s\n",
      "Epoch [44/50], loss: 1.3103361482525622, accuracy: 0.5550555647932601, time: 14.128s\n",
      "Epoch [45/50], loss: 1.3066603093397828, accuracy: 0.5566698536747589, time: 13.039s\n",
      "Epoch [46/50], loss: 1.3031017682449528, accuracy: 0.5577922347855006, time: 13.333s\n",
      "Epoch [47/50], loss: 1.2996845648275777, accuracy: 0.5588453331116284, time: 13.04s\n",
      "Epoch [48/50], loss: 1.2962721898885858, accuracy: 0.56034703746813, time: 14.454s\n",
      "Epoch [49/50], loss: 1.2930017997084455, accuracy: 0.5615404334331006, time: 13.081s\n",
      "Epoch [50/50], loss: 1.2898187789826074, accuracy: 0.5628221649484536, time: 13.005s\n"
     ]
    }
   ],
   "execution_count": 43
  },
  {
   "metadata": {
    "id": "1f69aaab85e1966a",
    "ExecuteTime": {
     "end_time": "2024-06-13T00:45:32.211009Z",
     "start_time": "2024-06-13T00:45:32.211009Z"
    }
   },
   "cell_type": "code",
   "source": [
    "torch.save(model,'model.pt')"
   ],
   "id": "1f69aaab85e1966a",
   "outputs": [],
   "execution_count": null
  },
  {
   "metadata": {
    "id": "c8251ffcc9b16e94",
    "ExecuteTime": {
     "end_time": "2024-06-13T01:12:34.259954Z",
     "start_time": "2024-06-13T01:12:34.256897Z"
    }
   },
   "cell_type": "code",
   "source": [
    "def test(model, criterion):\n",
    "    model.cuda()\n",
    "    criterion.cuda()\n",
    "    batches = test_batches\n",
    "    print(\"Dataset size:\", len(batches))\n",
    "    batch_index = 0\n",
    "\n",
    "    total_loss = 0\n",
    "    total_accuracy = 0\n",
    "    for i in range(len(batches)):\n",
    "\n",
    "        batch = batches[i][0]\n",
    "        truth = batches[i][1]\n",
    "\n",
    "        if batch_index == len(batches):\n",
    "            batch_index = 0\n",
    "\n",
    "        out = model.forward(batch)\n",
    "        loss = criterion(out, truth)\n",
    "        print(f\"Batch [{i+1}/{len(batches)}], loss: {loss.item()}, accuracy: {(accuracy(out,truth).sum()/BATCH_SIZE).item()}\")\n",
    "\n",
    "        total_loss += loss.item()\n",
    "        total_accuracy+=(accuracy(out,truth).sum()/BATCH_SIZE).item()\n",
    "\n",
    "    return (total_loss / len(batches)),total_accuracy / len(batches)"
   ],
   "id": "c8251ffcc9b16e94",
   "outputs": [],
   "execution_count": 44
  },
  {
   "metadata": {
    "colab": {
     "base_uri": "https://localhost:8080/"
    },
    "id": "ac9a5368131bcb1d",
    "outputId": "26db4ac7-9255-429d-d297-6446baf44de1",
    "ExecuteTime": {
     "end_time": "2024-06-13T01:12:35.165416Z",
     "start_time": "2024-06-13T01:12:34.702347Z"
    }
   },
   "cell_type": "code",
   "source": [
    "test(model, criterion)"
   ],
   "id": "ac9a5368131bcb1d",
   "outputs": [
    {
     "name": "stdout",
     "output_type": "stream",
     "text": [
      "Dataset size: 400\n",
      "Batch [1/400], loss: 1.2641535997390747, accuracy: 0.5625\n",
      "Batch [2/400], loss: 1.2908371686935425, accuracy: 0.5625\n",
      "Batch [3/400], loss: 1.1458052396774292, accuracy: 0.640625\n",
      "Batch [4/400], loss: 1.13771653175354, accuracy: 0.625\n",
      "Batch [5/400], loss: 1.3008922338485718, accuracy: 0.53125\n",
      "Batch [6/400], loss: 1.3089154958724976, accuracy: 0.5\n",
      "Batch [7/400], loss: 1.2504442930221558, accuracy: 0.5625\n",
      "Batch [8/400], loss: 1.235909342765808, accuracy: 0.59375\n",
      "Batch [9/400], loss: 1.291830062866211, accuracy: 0.578125\n",
      "Batch [10/400], loss: 1.1903491020202637, accuracy: 0.640625\n",
      "Batch [11/400], loss: 1.7065924406051636, accuracy: 0.4375\n",
      "Batch [12/400], loss: 1.2043167352676392, accuracy: 0.59375\n",
      "Batch [13/400], loss: 1.4448678493499756, accuracy: 0.484375\n",
      "Batch [14/400], loss: 1.194724678993225, accuracy: 0.5\n",
      "Batch [15/400], loss: 1.4067864418029785, accuracy: 0.5\n",
      "Batch [16/400], loss: 1.3691610097885132, accuracy: 0.46875\n",
      "Batch [17/400], loss: 1.3388104438781738, accuracy: 0.515625\n",
      "Batch [18/400], loss: 1.1247591972351074, accuracy: 0.609375\n",
      "Batch [19/400], loss: 1.1426552534103394, accuracy: 0.65625\n",
      "Batch [20/400], loss: 1.1277616024017334, accuracy: 0.65625\n",
      "Batch [21/400], loss: 1.3956828117370605, accuracy: 0.5\n",
      "Batch [22/400], loss: 1.5363889932632446, accuracy: 0.4375\n",
      "Batch [23/400], loss: 1.4666292667388916, accuracy: 0.453125\n",
      "Batch [24/400], loss: 1.1139612197875977, accuracy: 0.640625\n",
      "Batch [25/400], loss: 1.4204645156860352, accuracy: 0.484375\n",
      "Batch [26/400], loss: 1.4100271463394165, accuracy: 0.65625\n",
      "Batch [27/400], loss: 1.4027531147003174, accuracy: 0.578125\n",
      "Batch [28/400], loss: 1.2476218938827515, accuracy: 0.625\n",
      "Batch [29/400], loss: 1.082762598991394, accuracy: 0.625\n",
      "Batch [30/400], loss: 1.1855491399765015, accuracy: 0.640625\n",
      "Batch [31/400], loss: 1.5161441564559937, accuracy: 0.5\n",
      "Batch [32/400], loss: 1.2696986198425293, accuracy: 0.46875\n",
      "Batch [33/400], loss: 1.535216212272644, accuracy: 0.4375\n",
      "Batch [34/400], loss: 1.2772603034973145, accuracy: 0.65625\n",
      "Batch [35/400], loss: 1.2214561700820923, accuracy: 0.5\n",
      "Batch [36/400], loss: 1.412716031074524, accuracy: 0.46875\n",
      "Batch [37/400], loss: 1.2829629182815552, accuracy: 0.515625\n",
      "Batch [38/400], loss: 1.1563438177108765, accuracy: 0.609375\n",
      "Batch [39/400], loss: 1.2617146968841553, accuracy: 0.5625\n",
      "Batch [40/400], loss: 1.132136344909668, accuracy: 0.578125\n",
      "Batch [41/400], loss: 1.3089848756790161, accuracy: 0.53125\n",
      "Batch [42/400], loss: 1.4271001815795898, accuracy: 0.5625\n",
      "Batch [43/400], loss: 1.1179665327072144, accuracy: 0.65625\n",
      "Batch [44/400], loss: 1.180713176727295, accuracy: 0.625\n",
      "Batch [45/400], loss: 1.3038251399993896, accuracy: 0.578125\n",
      "Batch [46/400], loss: 1.2983914613723755, accuracy: 0.515625\n",
      "Batch [47/400], loss: 1.4029500484466553, accuracy: 0.53125\n",
      "Batch [48/400], loss: 1.383154273033142, accuracy: 0.578125\n",
      "Batch [49/400], loss: 1.268505573272705, accuracy: 0.5\n",
      "Batch [50/400], loss: 1.238434076309204, accuracy: 0.53125\n",
      "Batch [51/400], loss: 1.1932601928710938, accuracy: 0.609375\n",
      "Batch [52/400], loss: 1.4576371908187866, accuracy: 0.5625\n",
      "Batch [53/400], loss: 1.230186104774475, accuracy: 0.5\n",
      "Batch [54/400], loss: 1.578966498374939, accuracy: 0.5\n",
      "Batch [55/400], loss: 1.2513141632080078, accuracy: 0.578125\n",
      "Batch [56/400], loss: 1.569411039352417, accuracy: 0.5625\n",
      "Batch [57/400], loss: 1.5588624477386475, accuracy: 0.421875\n",
      "Batch [58/400], loss: 1.4948763847351074, accuracy: 0.453125\n",
      "Batch [59/400], loss: 1.0643671751022339, accuracy: 0.671875\n",
      "Batch [60/400], loss: 1.4275269508361816, accuracy: 0.515625\n",
      "Batch [61/400], loss: 1.3336197137832642, accuracy: 0.5625\n",
      "Batch [62/400], loss: 1.3540265560150146, accuracy: 0.546875\n",
      "Batch [63/400], loss: 1.4734423160552979, accuracy: 0.46875\n",
      "Batch [64/400], loss: 1.1042262315750122, accuracy: 0.59375\n",
      "Batch [65/400], loss: 1.240081787109375, accuracy: 0.59375\n",
      "Batch [66/400], loss: 1.3855961561203003, accuracy: 0.59375\n",
      "Batch [67/400], loss: 1.2811461687088013, accuracy: 0.578125\n",
      "Batch [68/400], loss: 1.401776671409607, accuracy: 0.453125\n",
      "Batch [69/400], loss: 1.2575552463531494, accuracy: 0.578125\n",
      "Batch [70/400], loss: 1.230006217956543, accuracy: 0.59375\n",
      "Batch [71/400], loss: 1.2748830318450928, accuracy: 0.609375\n",
      "Batch [72/400], loss: 1.3551644086837769, accuracy: 0.5\n",
      "Batch [73/400], loss: 1.3806852102279663, accuracy: 0.5625\n",
      "Batch [74/400], loss: 0.9948626756668091, accuracy: 0.671875\n",
      "Batch [75/400], loss: 1.4376031160354614, accuracy: 0.46875\n",
      "Batch [76/400], loss: 1.2597252130508423, accuracy: 0.546875\n",
      "Batch [77/400], loss: 1.514140009880066, accuracy: 0.5\n",
      "Batch [78/400], loss: 1.2748910188674927, accuracy: 0.625\n",
      "Batch [79/400], loss: 1.2223522663116455, accuracy: 0.546875\n",
      "Batch [80/400], loss: 1.4096877574920654, accuracy: 0.484375\n",
      "Batch [81/400], loss: 1.1558189392089844, accuracy: 0.625\n",
      "Batch [82/400], loss: 1.5474034547805786, accuracy: 0.46875\n",
      "Batch [83/400], loss: 1.1586841344833374, accuracy: 0.59375\n",
      "Batch [84/400], loss: 1.4865539073944092, accuracy: 0.546875\n",
      "Batch [85/400], loss: 1.056989312171936, accuracy: 0.6875\n",
      "Batch [86/400], loss: 1.1754074096679688, accuracy: 0.640625\n",
      "Batch [87/400], loss: 1.2553492784500122, accuracy: 0.53125\n",
      "Batch [88/400], loss: 1.2561858892440796, accuracy: 0.609375\n",
      "Batch [89/400], loss: 1.267529845237732, accuracy: 0.53125\n",
      "Batch [90/400], loss: 1.2980605363845825, accuracy: 0.59375\n",
      "Batch [91/400], loss: 1.227424144744873, accuracy: 0.546875\n",
      "Batch [92/400], loss: 1.2722601890563965, accuracy: 0.640625\n",
      "Batch [93/400], loss: 1.3033456802368164, accuracy: 0.59375\n",
      "Batch [94/400], loss: 1.4412142038345337, accuracy: 0.46875\n",
      "Batch [95/400], loss: 1.162734031677246, accuracy: 0.609375\n",
      "Batch [96/400], loss: 1.0543946027755737, accuracy: 0.625\n",
      "Batch [97/400], loss: 1.0279864072799683, accuracy: 0.6875\n",
      "Batch [98/400], loss: 1.1046725511550903, accuracy: 0.6875\n",
      "Batch [99/400], loss: 1.5046802759170532, accuracy: 0.5\n",
      "Batch [100/400], loss: 1.3889102935791016, accuracy: 0.53125\n",
      "Batch [101/400], loss: 1.3134429454803467, accuracy: 0.546875\n",
      "Batch [102/400], loss: 1.3332160711288452, accuracy: 0.53125\n",
      "Batch [103/400], loss: 1.0241707563400269, accuracy: 0.640625\n",
      "Batch [104/400], loss: 1.081737756729126, accuracy: 0.609375\n",
      "Batch [105/400], loss: 1.122779369354248, accuracy: 0.625\n",
      "Batch [106/400], loss: 1.1591626405715942, accuracy: 0.640625\n",
      "Batch [107/400], loss: 1.0729318857192993, accuracy: 0.625\n",
      "Batch [108/400], loss: 1.3152220249176025, accuracy: 0.515625\n",
      "Batch [109/400], loss: 1.0811125040054321, accuracy: 0.640625\n",
      "Batch [110/400], loss: 1.4735156297683716, accuracy: 0.390625\n",
      "Batch [111/400], loss: 1.157094120979309, accuracy: 0.59375\n",
      "Batch [112/400], loss: 1.349723219871521, accuracy: 0.5625\n",
      "Batch [113/400], loss: 1.2368063926696777, accuracy: 0.625\n",
      "Batch [114/400], loss: 1.2457926273345947, accuracy: 0.59375\n",
      "Batch [115/400], loss: 1.1006916761398315, accuracy: 0.625\n",
      "Batch [116/400], loss: 1.2556180953979492, accuracy: 0.5625\n",
      "Batch [117/400], loss: 1.3439147472381592, accuracy: 0.59375\n",
      "Batch [118/400], loss: 1.1946024894714355, accuracy: 0.6875\n",
      "Batch [119/400], loss: 1.4224845170974731, accuracy: 0.453125\n",
      "Batch [120/400], loss: 1.3160794973373413, accuracy: 0.53125\n",
      "Batch [121/400], loss: 1.2201324701309204, accuracy: 0.609375\n",
      "Batch [122/400], loss: 1.740561842918396, accuracy: 0.5\n",
      "Batch [123/400], loss: 1.300441026687622, accuracy: 0.578125\n",
      "Batch [124/400], loss: 1.166327953338623, accuracy: 0.625\n",
      "Batch [125/400], loss: 1.2453632354736328, accuracy: 0.609375\n",
      "Batch [126/400], loss: 1.1624553203582764, accuracy: 0.578125\n",
      "Batch [127/400], loss: 1.1774253845214844, accuracy: 0.625\n",
      "Batch [128/400], loss: 1.502655029296875, accuracy: 0.515625\n",
      "Batch [129/400], loss: 1.3391077518463135, accuracy: 0.59375\n",
      "Batch [130/400], loss: 1.3725829124450684, accuracy: 0.515625\n",
      "Batch [131/400], loss: 1.5255669355392456, accuracy: 0.484375\n",
      "Batch [132/400], loss: 1.2967365980148315, accuracy: 0.515625\n",
      "Batch [133/400], loss: 1.346853494644165, accuracy: 0.5625\n",
      "Batch [134/400], loss: 1.1454664468765259, accuracy: 0.625\n",
      "Batch [135/400], loss: 1.149762511253357, accuracy: 0.59375\n",
      "Batch [136/400], loss: 1.451733112335205, accuracy: 0.53125\n",
      "Batch [137/400], loss: 1.261755108833313, accuracy: 0.5625\n",
      "Batch [138/400], loss: 1.1443935632705688, accuracy: 0.65625\n",
      "Batch [139/400], loss: 1.3040679693222046, accuracy: 0.546875\n",
      "Batch [140/400], loss: 1.1477657556533813, accuracy: 0.609375\n",
      "Batch [141/400], loss: 1.1572197675704956, accuracy: 0.5625\n",
      "Batch [142/400], loss: 1.3130046129226685, accuracy: 0.515625\n",
      "Batch [143/400], loss: 1.3337287902832031, accuracy: 0.5625\n",
      "Batch [144/400], loss: 1.305450201034546, accuracy: 0.546875\n",
      "Batch [145/400], loss: 1.2948411703109741, accuracy: 0.5625\n",
      "Batch [146/400], loss: 1.3543591499328613, accuracy: 0.546875\n",
      "Batch [147/400], loss: 1.0055427551269531, accuracy: 0.671875\n",
      "Batch [148/400], loss: 0.9732592701911926, accuracy: 0.734375\n",
      "Batch [149/400], loss: 1.2437750101089478, accuracy: 0.578125\n",
      "Batch [150/400], loss: 1.4192452430725098, accuracy: 0.484375\n",
      "Batch [151/400], loss: 1.355720043182373, accuracy: 0.546875\n",
      "Batch [152/400], loss: 1.2749654054641724, accuracy: 0.59375\n",
      "Batch [153/400], loss: 1.427348256111145, accuracy: 0.546875\n",
      "Batch [154/400], loss: 1.4384143352508545, accuracy: 0.53125\n",
      "Batch [155/400], loss: 1.1549715995788574, accuracy: 0.71875\n",
      "Batch [156/400], loss: 1.3118209838867188, accuracy: 0.5\n",
      "Batch [157/400], loss: 1.3794862031936646, accuracy: 0.546875\n",
      "Batch [158/400], loss: 1.4364186525344849, accuracy: 0.546875\n",
      "Batch [159/400], loss: 1.3040696382522583, accuracy: 0.578125\n",
      "Batch [160/400], loss: 1.5105229616165161, accuracy: 0.5\n",
      "Batch [161/400], loss: 1.3648030757904053, accuracy: 0.5\n",
      "Batch [162/400], loss: 1.0002208948135376, accuracy: 0.671875\n",
      "Batch [163/400], loss: 1.3570849895477295, accuracy: 0.578125\n",
      "Batch [164/400], loss: 1.2203565835952759, accuracy: 0.578125\n",
      "Batch [165/400], loss: 1.2419029474258423, accuracy: 0.5625\n",
      "Batch [166/400], loss: 1.2178316116333008, accuracy: 0.65625\n",
      "Batch [167/400], loss: 1.2894114255905151, accuracy: 0.59375\n",
      "Batch [168/400], loss: 1.273974061012268, accuracy: 0.609375\n",
      "Batch [169/400], loss: 1.1942620277404785, accuracy: 0.625\n",
      "Batch [170/400], loss: 1.2524127960205078, accuracy: 0.546875\n",
      "Batch [171/400], loss: 1.3437297344207764, accuracy: 0.484375\n",
      "Batch [172/400], loss: 1.1924443244934082, accuracy: 0.625\n",
      "Batch [173/400], loss: 1.422051191329956, accuracy: 0.515625\n",
      "Batch [174/400], loss: 1.4598873853683472, accuracy: 0.46875\n",
      "Batch [175/400], loss: 1.3478453159332275, accuracy: 0.53125\n",
      "Batch [176/400], loss: 1.2805482149124146, accuracy: 0.546875\n",
      "Batch [177/400], loss: 1.4556772708892822, accuracy: 0.546875\n",
      "Batch [178/400], loss: 1.3914026021957397, accuracy: 0.53125\n",
      "Batch [179/400], loss: 1.393284559249878, accuracy: 0.515625\n",
      "Batch [180/400], loss: 1.21095871925354, accuracy: 0.53125\n",
      "Batch [181/400], loss: 0.8532907366752625, accuracy: 0.6875\n",
      "Batch [182/400], loss: 1.324418067932129, accuracy: 0.578125\n",
      "Batch [183/400], loss: 1.1740309000015259, accuracy: 0.578125\n",
      "Batch [184/400], loss: 1.2579377889633179, accuracy: 0.546875\n",
      "Batch [185/400], loss: 1.0603541135787964, accuracy: 0.59375\n",
      "Batch [186/400], loss: 1.1168075799942017, accuracy: 0.625\n",
      "Batch [187/400], loss: 1.1865381002426147, accuracy: 0.703125\n",
      "Batch [188/400], loss: 1.5679597854614258, accuracy: 0.421875\n",
      "Batch [189/400], loss: 1.2806555032730103, accuracy: 0.578125\n",
      "Batch [190/400], loss: 1.3941398859024048, accuracy: 0.546875\n",
      "Batch [191/400], loss: 1.0225205421447754, accuracy: 0.609375\n",
      "Batch [192/400], loss: 1.3309969902038574, accuracy: 0.546875\n",
      "Batch [193/400], loss: 1.1159546375274658, accuracy: 0.5625\n",
      "Batch [194/400], loss: 1.017041563987732, accuracy: 0.640625\n",
      "Batch [195/400], loss: 1.4708364009857178, accuracy: 0.546875\n",
      "Batch [196/400], loss: 1.4418869018554688, accuracy: 0.53125\n",
      "Batch [197/400], loss: 1.2945747375488281, accuracy: 0.578125\n",
      "Batch [198/400], loss: 1.4752676486968994, accuracy: 0.59375\n",
      "Batch [199/400], loss: 1.6900696754455566, accuracy: 0.421875\n",
      "Batch [200/400], loss: 1.2105960845947266, accuracy: 0.5625\n",
      "Batch [201/400], loss: 1.384110689163208, accuracy: 0.546875\n",
      "Batch [202/400], loss: 1.2361983060836792, accuracy: 0.5625\n",
      "Batch [203/400], loss: 1.308618187904358, accuracy: 0.578125\n",
      "Batch [204/400], loss: 1.1295284032821655, accuracy: 0.546875\n",
      "Batch [205/400], loss: 1.3273404836654663, accuracy: 0.515625\n",
      "Batch [206/400], loss: 1.570561408996582, accuracy: 0.453125\n",
      "Batch [207/400], loss: 1.2568902969360352, accuracy: 0.578125\n",
      "Batch [208/400], loss: 1.5571919679641724, accuracy: 0.40625\n",
      "Batch [209/400], loss: 1.401537299156189, accuracy: 0.484375\n",
      "Batch [210/400], loss: 1.218228816986084, accuracy: 0.59375\n",
      "Batch [211/400], loss: 1.2366878986358643, accuracy: 0.625\n",
      "Batch [212/400], loss: 1.2766984701156616, accuracy: 0.5\n",
      "Batch [213/400], loss: 1.0511868000030518, accuracy: 0.65625\n",
      "Batch [214/400], loss: 1.5814149379730225, accuracy: 0.46875\n",
      "Batch [215/400], loss: 1.4950624704360962, accuracy: 0.46875\n",
      "Batch [216/400], loss: 1.2979403734207153, accuracy: 0.625\n",
      "Batch [217/400], loss: 1.2039560079574585, accuracy: 0.5625\n",
      "Batch [218/400], loss: 1.5098919868469238, accuracy: 0.453125\n",
      "Batch [219/400], loss: 1.2862440347671509, accuracy: 0.53125\n",
      "Batch [220/400], loss: 1.4529237747192383, accuracy: 0.546875\n",
      "Batch [221/400], loss: 1.0779221057891846, accuracy: 0.65625\n",
      "Batch [222/400], loss: 1.2180731296539307, accuracy: 0.609375\n",
      "Batch [223/400], loss: 1.4047001600265503, accuracy: 0.5625\n",
      "Batch [224/400], loss: 1.430056095123291, accuracy: 0.515625\n",
      "Batch [225/400], loss: 1.2672786712646484, accuracy: 0.53125\n",
      "Batch [226/400], loss: 1.1131572723388672, accuracy: 0.59375\n",
      "Batch [227/400], loss: 1.304558277130127, accuracy: 0.5625\n",
      "Batch [228/400], loss: 1.4418388605117798, accuracy: 0.53125\n",
      "Batch [229/400], loss: 1.2415375709533691, accuracy: 0.59375\n",
      "Batch [230/400], loss: 1.4358328580856323, accuracy: 0.546875\n",
      "Batch [231/400], loss: 1.2993881702423096, accuracy: 0.515625\n",
      "Batch [232/400], loss: 1.280495285987854, accuracy: 0.59375\n",
      "Batch [233/400], loss: 1.2682851552963257, accuracy: 0.578125\n",
      "Batch [234/400], loss: 1.4265295267105103, accuracy: 0.546875\n",
      "Batch [235/400], loss: 1.1470236778259277, accuracy: 0.609375\n",
      "Batch [236/400], loss: 1.1836392879486084, accuracy: 0.640625\n",
      "Batch [237/400], loss: 1.343644142150879, accuracy: 0.609375\n",
      "Batch [238/400], loss: 1.242021083831787, accuracy: 0.5625\n",
      "Batch [239/400], loss: 1.4648751020431519, accuracy: 0.515625\n",
      "Batch [240/400], loss: 1.0603704452514648, accuracy: 0.640625\n",
      "Batch [241/400], loss: 1.2114942073822021, accuracy: 0.625\n",
      "Batch [242/400], loss: 1.2965089082717896, accuracy: 0.53125\n",
      "Batch [243/400], loss: 1.1220921277999878, accuracy: 0.640625\n",
      "Batch [244/400], loss: 1.2534643411636353, accuracy: 0.5625\n",
      "Batch [245/400], loss: 1.2303591966629028, accuracy: 0.5625\n",
      "Batch [246/400], loss: 1.2562371492385864, accuracy: 0.640625\n",
      "Batch [247/400], loss: 1.0222375392913818, accuracy: 0.71875\n",
      "Batch [248/400], loss: 1.5663597583770752, accuracy: 0.515625\n",
      "Batch [249/400], loss: 1.0545482635498047, accuracy: 0.65625\n",
      "Batch [250/400], loss: 1.1284747123718262, accuracy: 0.5625\n",
      "Batch [251/400], loss: 1.268237829208374, accuracy: 0.546875\n",
      "Batch [252/400], loss: 1.2179793119430542, accuracy: 0.578125\n",
      "Batch [253/400], loss: 1.1559863090515137, accuracy: 0.609375\n",
      "Batch [254/400], loss: 1.2904037237167358, accuracy: 0.53125\n",
      "Batch [255/400], loss: 1.3527101278305054, accuracy: 0.5\n",
      "Batch [256/400], loss: 1.3752655982971191, accuracy: 0.546875\n",
      "Batch [257/400], loss: 1.3424979448318481, accuracy: 0.5\n",
      "Batch [258/400], loss: 1.3218913078308105, accuracy: 0.546875\n",
      "Batch [259/400], loss: 1.1253583431243896, accuracy: 0.5625\n",
      "Batch [260/400], loss: 1.3449612855911255, accuracy: 0.53125\n",
      "Batch [261/400], loss: 1.2553104162216187, accuracy: 0.59375\n",
      "Batch [262/400], loss: 1.180564522743225, accuracy: 0.59375\n",
      "Batch [263/400], loss: 1.0291154384613037, accuracy: 0.65625\n",
      "Batch [264/400], loss: 1.2477524280548096, accuracy: 0.625\n",
      "Batch [265/400], loss: 1.5140267610549927, accuracy: 0.515625\n",
      "Batch [266/400], loss: 1.4256325960159302, accuracy: 0.53125\n",
      "Batch [267/400], loss: 1.4039973020553589, accuracy: 0.546875\n",
      "Batch [268/400], loss: 1.13858962059021, accuracy: 0.59375\n",
      "Batch [269/400], loss: 1.6096714735031128, accuracy: 0.453125\n",
      "Batch [270/400], loss: 1.3440302610397339, accuracy: 0.46875\n",
      "Batch [271/400], loss: 1.2105262279510498, accuracy: 0.671875\n",
      "Batch [272/400], loss: 1.5678187608718872, accuracy: 0.515625\n",
      "Batch [273/400], loss: 1.2414352893829346, accuracy: 0.5625\n",
      "Batch [274/400], loss: 1.1381033658981323, accuracy: 0.59375\n",
      "Batch [275/400], loss: 1.4767730236053467, accuracy: 0.5\n",
      "Batch [276/400], loss: 1.3230475187301636, accuracy: 0.546875\n",
      "Batch [277/400], loss: 1.358398675918579, accuracy: 0.5\n",
      "Batch [278/400], loss: 1.278023362159729, accuracy: 0.59375\n",
      "Batch [279/400], loss: 1.4301245212554932, accuracy: 0.484375\n",
      "Batch [280/400], loss: 1.4366083145141602, accuracy: 0.484375\n",
      "Batch [281/400], loss: 1.370654821395874, accuracy: 0.5625\n",
      "Batch [282/400], loss: 1.3875092267990112, accuracy: 0.515625\n",
      "Batch [283/400], loss: 1.3453586101531982, accuracy: 0.578125\n",
      "Batch [284/400], loss: 1.226215124130249, accuracy: 0.546875\n",
      "Batch [285/400], loss: 1.330069899559021, accuracy: 0.5625\n",
      "Batch [286/400], loss: 1.4799240827560425, accuracy: 0.453125\n",
      "Batch [287/400], loss: 1.2804549932479858, accuracy: 0.578125\n",
      "Batch [288/400], loss: 1.5048789978027344, accuracy: 0.515625\n",
      "Batch [289/400], loss: 1.2841047048568726, accuracy: 0.515625\n",
      "Batch [290/400], loss: 1.1416857242584229, accuracy: 0.640625\n",
      "Batch [291/400], loss: 1.2634811401367188, accuracy: 0.546875\n",
      "Batch [292/400], loss: 1.0770643949508667, accuracy: 0.65625\n",
      "Batch [293/400], loss: 1.3370189666748047, accuracy: 0.546875\n",
      "Batch [294/400], loss: 1.1670001745224, accuracy: 0.640625\n",
      "Batch [295/400], loss: 1.4010930061340332, accuracy: 0.546875\n",
      "Batch [296/400], loss: 1.0762354135513306, accuracy: 0.671875\n",
      "Batch [297/400], loss: 1.1915899515151978, accuracy: 0.609375\n",
      "Batch [298/400], loss: 1.2631068229675293, accuracy: 0.53125\n",
      "Batch [299/400], loss: 1.2661652565002441, accuracy: 0.515625\n",
      "Batch [300/400], loss: 1.5735092163085938, accuracy: 0.484375\n",
      "Batch [301/400], loss: 1.2669166326522827, accuracy: 0.546875\n",
      "Batch [302/400], loss: 1.3603332042694092, accuracy: 0.5\n",
      "Batch [303/400], loss: 1.450502634048462, accuracy: 0.484375\n",
      "Batch [304/400], loss: 1.2246325016021729, accuracy: 0.578125\n",
      "Batch [305/400], loss: 1.3435875177383423, accuracy: 0.546875\n",
      "Batch [306/400], loss: 1.2112435102462769, accuracy: 0.5\n",
      "Batch [307/400], loss: 1.2813962697982788, accuracy: 0.640625\n",
      "Batch [308/400], loss: 1.3966525793075562, accuracy: 0.515625\n",
      "Batch [309/400], loss: 1.4135017395019531, accuracy: 0.515625\n",
      "Batch [310/400], loss: 1.3122122287750244, accuracy: 0.609375\n",
      "Batch [311/400], loss: 1.2950398921966553, accuracy: 0.59375\n",
      "Batch [312/400], loss: 1.0367425680160522, accuracy: 0.65625\n",
      "Batch [313/400], loss: 1.2693419456481934, accuracy: 0.5625\n",
      "Batch [314/400], loss: 1.223818302154541, accuracy: 0.609375\n",
      "Batch [315/400], loss: 1.0510149002075195, accuracy: 0.640625\n",
      "Batch [316/400], loss: 1.4603538513183594, accuracy: 0.390625\n",
      "Batch [317/400], loss: 1.5147277116775513, accuracy: 0.484375\n",
      "Batch [318/400], loss: 1.3154700994491577, accuracy: 0.5625\n",
      "Batch [319/400], loss: 1.269692301750183, accuracy: 0.515625\n",
      "Batch [320/400], loss: 1.3665733337402344, accuracy: 0.5625\n",
      "Batch [321/400], loss: 1.467954397201538, accuracy: 0.484375\n",
      "Batch [322/400], loss: 1.217399001121521, accuracy: 0.5625\n",
      "Batch [323/400], loss: 1.2617638111114502, accuracy: 0.59375\n",
      "Batch [324/400], loss: 1.623809814453125, accuracy: 0.453125\n",
      "Batch [325/400], loss: 1.214402675628662, accuracy: 0.546875\n",
      "Batch [326/400], loss: 1.28739333152771, accuracy: 0.5625\n",
      "Batch [327/400], loss: 1.6088117361068726, accuracy: 0.46875\n",
      "Batch [328/400], loss: 1.384390950202942, accuracy: 0.609375\n",
      "Batch [329/400], loss: 1.207909107208252, accuracy: 0.53125\n",
      "Batch [330/400], loss: 1.4782038927078247, accuracy: 0.515625\n",
      "Batch [331/400], loss: 1.2707922458648682, accuracy: 0.5625\n",
      "Batch [332/400], loss: 1.2900290489196777, accuracy: 0.640625\n",
      "Batch [333/400], loss: 1.571092963218689, accuracy: 0.4375\n",
      "Batch [334/400], loss: 1.1856600046157837, accuracy: 0.640625\n",
      "Batch [335/400], loss: 1.2779419422149658, accuracy: 0.515625\n",
      "Batch [336/400], loss: 1.1458369493484497, accuracy: 0.609375\n",
      "Batch [337/400], loss: 1.2158372402191162, accuracy: 0.59375\n",
      "Batch [338/400], loss: 1.367573618888855, accuracy: 0.5625\n",
      "Batch [339/400], loss: 1.3704228401184082, accuracy: 0.546875\n",
      "Batch [340/400], loss: 1.1726908683776855, accuracy: 0.625\n",
      "Batch [341/400], loss: 1.3587584495544434, accuracy: 0.578125\n",
      "Batch [342/400], loss: 1.363430142402649, accuracy: 0.546875\n",
      "Batch [343/400], loss: 1.2488352060317993, accuracy: 0.578125\n",
      "Batch [344/400], loss: 1.3317193984985352, accuracy: 0.515625\n",
      "Batch [345/400], loss: 1.8323036432266235, accuracy: 0.5\n",
      "Batch [346/400], loss: 1.523223876953125, accuracy: 0.515625\n",
      "Batch [347/400], loss: 1.8192380666732788, accuracy: 0.328125\n",
      "Batch [348/400], loss: 1.2515302896499634, accuracy: 0.578125\n",
      "Batch [349/400], loss: 1.3222746849060059, accuracy: 0.5\n",
      "Batch [350/400], loss: 1.4182264804840088, accuracy: 0.515625\n",
      "Batch [351/400], loss: 1.4735698699951172, accuracy: 0.453125\n",
      "Batch [352/400], loss: 1.3633822202682495, accuracy: 0.453125\n",
      "Batch [353/400], loss: 1.3337383270263672, accuracy: 0.609375\n",
      "Batch [354/400], loss: 1.406701683998108, accuracy: 0.5\n",
      "Batch [355/400], loss: 1.3660035133361816, accuracy: 0.5625\n",
      "Batch [356/400], loss: 1.5152405500411987, accuracy: 0.53125\n",
      "Batch [357/400], loss: 1.2277735471725464, accuracy: 0.5\n",
      "Batch [358/400], loss: 1.2972503900527954, accuracy: 0.59375\n",
      "Batch [359/400], loss: 1.142801284790039, accuracy: 0.640625\n",
      "Batch [360/400], loss: 1.180868148803711, accuracy: 0.625\n",
      "Batch [361/400], loss: 1.2952910661697388, accuracy: 0.546875\n",
      "Batch [362/400], loss: 1.2815817594528198, accuracy: 0.546875\n",
      "Batch [363/400], loss: 1.204205870628357, accuracy: 0.5625\n",
      "Batch [364/400], loss: 1.1068958044052124, accuracy: 0.625\n",
      "Batch [365/400], loss: 1.0960568189620972, accuracy: 0.671875\n",
      "Batch [366/400], loss: 1.3919950723648071, accuracy: 0.5625\n",
      "Batch [367/400], loss: 1.1762804985046387, accuracy: 0.671875\n",
      "Batch [368/400], loss: 1.2935221195220947, accuracy: 0.546875\n",
      "Batch [369/400], loss: 1.4649876356124878, accuracy: 0.453125\n",
      "Batch [370/400], loss: 1.4835087060928345, accuracy: 0.453125\n",
      "Batch [371/400], loss: 1.5489566326141357, accuracy: 0.484375\n",
      "Batch [372/400], loss: 1.2330468893051147, accuracy: 0.578125\n",
      "Batch [373/400], loss: 1.2122951745986938, accuracy: 0.609375\n",
      "Batch [374/400], loss: 1.2838648557662964, accuracy: 0.578125\n",
      "Batch [375/400], loss: 1.19650399684906, accuracy: 0.53125\n",
      "Batch [376/400], loss: 1.4837830066680908, accuracy: 0.5625\n",
      "Batch [377/400], loss: 1.6329349279403687, accuracy: 0.46875\n",
      "Batch [378/400], loss: 1.349313735961914, accuracy: 0.53125\n",
      "Batch [379/400], loss: 1.6599253416061401, accuracy: 0.421875\n",
      "Batch [380/400], loss: 1.2768434286117554, accuracy: 0.578125\n",
      "Batch [381/400], loss: 1.0044889450073242, accuracy: 0.640625\n",
      "Batch [382/400], loss: 1.4383898973464966, accuracy: 0.53125\n",
      "Batch [383/400], loss: 1.1888322830200195, accuracy: 0.59375\n",
      "Batch [384/400], loss: 1.7113690376281738, accuracy: 0.46875\n",
      "Batch [385/400], loss: 1.1821787357330322, accuracy: 0.5625\n",
      "Batch [386/400], loss: 1.4013592004776, accuracy: 0.5625\n",
      "Batch [387/400], loss: 1.3395533561706543, accuracy: 0.59375\n",
      "Batch [388/400], loss: 1.4715474843978882, accuracy: 0.4375\n",
      "Batch [389/400], loss: 1.1868178844451904, accuracy: 0.5625\n",
      "Batch [390/400], loss: 1.3294148445129395, accuracy: 0.5625\n",
      "Batch [391/400], loss: 1.168699026107788, accuracy: 0.640625\n",
      "Batch [392/400], loss: 1.1983344554901123, accuracy: 0.625\n",
      "Batch [393/400], loss: 1.329644799232483, accuracy: 0.53125\n",
      "Batch [394/400], loss: 1.1801002025604248, accuracy: 0.578125\n",
      "Batch [395/400], loss: 1.373452067375183, accuracy: 0.5\n",
      "Batch [396/400], loss: 1.0433292388916016, accuracy: 0.640625\n",
      "Batch [397/400], loss: 1.2024004459381104, accuracy: 0.578125\n",
      "Batch [398/400], loss: 1.1415495872497559, accuracy: 0.625\n",
      "Batch [399/400], loss: 1.259072184562683, accuracy: 0.578125\n",
      "Batch [400/400], loss: 1.2059963941574097, accuracy: 0.5625\n"
     ]
    },
    {
     "data": {
      "text/plain": [
       "(1.300299287736416, 0.5600390625)"
      ]
     },
     "execution_count": 45,
     "metadata": {},
     "output_type": "execute_result"
    }
   ],
   "execution_count": 45
  },
  {
   "metadata": {
    "colab": {
     "base_uri": "https://localhost:8080/"
    },
    "id": "3810482fe9e960bf",
    "outputId": "72fe584e-ce92-4067-d3ba-8a2201f5b156",
    "ExecuteTime": {
     "end_time": "2024-06-13T00:45:32.213012Z",
     "start_time": "2024-06-13T00:45:32.213012Z"
    }
   },
   "cell_type": "code",
   "source": [
    "def eye_test(model,puzzle):\n",
    "    tensor=puzzle_to_tensor(puzzle).cuda()\n",
    "    out=model.forward(tensor)\n",
    "    return sorted(zip(expected_tags_list,out.squeeze().tolist()),key=lambda x:-x[1]),puzzle.tags\n",
    "\n",
    "eye_test(model,filter_data(load(100))[0])"
   ],
   "id": "3810482fe9e960bf",
   "outputs": [],
   "execution_count": null
  }
 ],
 "metadata": {
  "kernelspec": {
   "display_name": "Python 3 (ipykernel)",
   "name": "python3",
   "language": "python"
  },
  "language_info": {
   "codemirror_mode": {
    "name": "ipython",
    "version": 2
   },
   "file_extension": ".py",
   "mimetype": "text/x-python",
   "name": "python",
   "nbconvert_exporter": "python",
   "pygments_lexer": "ipython2",
   "version": "2.7.6"
  },
  "colab": {
   "provenance": [],
   "gpuType": "T4"
  },
  "accelerator": "GPU"
 },
 "nbformat": 4,
 "nbformat_minor": 5
}
