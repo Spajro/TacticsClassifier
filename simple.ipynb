{
  "cells": [
    {
      "metadata": {
        "id": "9dfc98def8fb55f"
      },
      "cell_type": "markdown",
      "source": [
        "# LOADING DATASET"
      ],
      "id": "9dfc98def8fb55f"
    },
    {
      "cell_type": "code",
      "source": [
        "!pip install zstandard\n",
        "!pip install chess"
      ],
      "metadata": {
        "colab": {
          "base_uri": "https://localhost:8080/"
        },
        "id": "N75JnRl7ei5w",
        "outputId": "caa716f4-2e3f-49e4-bb1a-1db1699ec3b9"
      },
      "id": "N75JnRl7ei5w",
      "execution_count": 66,
      "outputs": [
        {
          "output_type": "stream",
          "name": "stdout",
          "text": [
            "Requirement already satisfied: zstandard in /usr/local/lib/python3.10/dist-packages (0.22.0)\n",
            "Requirement already satisfied: chess in /usr/local/lib/python3.10/dist-packages (1.10.0)\n"
          ]
        }
      ]
    },
    {
      "metadata": {
        "ExecuteTime": {
          "end_time": "2024-06-07T12:36:01.672675Z",
          "start_time": "2024-06-07T12:35:57.696212Z"
        },
        "id": "c4b51d4c10754771"
      },
      "cell_type": "code",
      "source": [
        "import pathlib\n",
        "import urllib\n",
        "import zstandard\n",
        "import chess\n",
        "import torch\n",
        "import numpy as np\n",
        "from torch import nn"
      ],
      "id": "c4b51d4c10754771",
      "outputs": [],
      "execution_count": 67
    },
    {
      "metadata": {
        "ExecuteTime": {
          "end_time": "2024-06-07T12:36:01.677343Z",
          "start_time": "2024-06-07T12:36:01.673679Z"
        },
        "id": "c1af7d40bfdbe229"
      },
      "cell_type": "code",
      "source": [
        "def __download(url: str, name: str) -> str:\n",
        "    path, _ = urllib.request.urlretrieve(url, name)\n",
        "    return path\n",
        "\n",
        "\n",
        "def __unpack(path: str, name: str):\n",
        "    input_file = pathlib.Path(path)\n",
        "    with open(input_file, 'rb') as compressed:\n",
        "        decomp = zstandard.ZstdDecompressor()\n",
        "        output_path = name\n",
        "        with open(output_path, 'wb') as destination:\n",
        "            decomp.copy_stream(compressed, destination)\n",
        "            destination.close()\n",
        "        compressed.close()\n",
        "\n",
        "\n",
        "def __remove(path: str):\n",
        "    pathlib.Path.unlink(pathlib.Path(path))"
      ],
      "id": "c1af7d40bfdbe229",
      "outputs": [],
      "execution_count": 68
    },
    {
      "metadata": {
        "ExecuteTime": {
          "end_time": "2024-06-07T12:36:19.085888Z",
          "start_time": "2024-06-07T12:36:01.678592Z"
        },
        "id": "7b7f765e257cee1f"
      },
      "cell_type": "code",
      "source": [
        "path = __download(\"https://database.lichess.org/lichess_db_puzzle.csv.zst\", \"lichess_db_puzzle.csv.zst\")"
      ],
      "id": "7b7f765e257cee1f",
      "outputs": [],
      "execution_count": 69
    },
    {
      "metadata": {
        "ExecuteTime": {
          "end_time": "2024-06-07T12:36:20.955800Z",
          "start_time": "2024-06-07T12:36:19.086891Z"
        },
        "id": "ca1de55ee484bb4e"
      },
      "cell_type": "code",
      "source": [
        "__unpack(path, \"lichess_db_puzzle.csv\")"
      ],
      "id": "ca1de55ee484bb4e",
      "outputs": [],
      "execution_count": 70
    },
    {
      "metadata": {
        "ExecuteTime": {
          "end_time": "2024-06-07T12:36:20.976709Z",
          "start_time": "2024-06-07T12:36:20.955800Z"
        },
        "id": "876c56ec9a7ac80d"
      },
      "cell_type": "code",
      "source": [
        "__remove(\"lichess_db_puzzle.csv.zst\")"
      ],
      "id": "876c56ec9a7ac80d",
      "outputs": [],
      "execution_count": 71
    },
    {
      "cell_type": "code",
      "id": "initial_id",
      "metadata": {
        "collapsed": true,
        "ExecuteTime": {
          "end_time": "2024-06-07T12:36:20.980817Z",
          "start_time": "2024-06-07T12:36:20.976709Z"
        },
        "id": "initial_id"
      },
      "source": [
        "class Puzzle:\n",
        "    def __init__(self, row: str):\n",
        "        fields = row.split(',')\n",
        "        self.fen = fields[1]\n",
        "        self.moves = fields[2].split(\" \")\n",
        "        self.tags = fields[7].split(\" \")\n",
        "\n",
        "    def __str__(self):\n",
        "        return \"{fen: \" + self.fen + \" ,tags: [\" + \", \".join(self.tags) + \"],moves: [\" + \",\".join(self.moves) + \"]}\""
      ],
      "outputs": [],
      "execution_count": 72
    },
    {
      "metadata": {
        "ExecuteTime": {
          "end_time": "2024-06-07T12:36:20.986533Z",
          "start_time": "2024-06-07T12:36:20.980817Z"
        },
        "id": "d76ee6cf90617af0"
      },
      "cell_type": "code",
      "source": [
        "def load(k: int) -> [Puzzle]:\n",
        "    f = open(\"lichess_db_puzzle.csv\")\n",
        "    f.readline()\n",
        "    result = []\n",
        "    for i in range(k):\n",
        "        result.append(Puzzle(f.readline()))\n",
        "    f.close()\n",
        "    return result"
      ],
      "id": "d76ee6cf90617af0",
      "outputs": [],
      "execution_count": 73
    },
    {
      "metadata": {
        "ExecuteTime": {
          "end_time": "2024-06-07T12:36:20.993161Z",
          "start_time": "2024-06-07T12:36:20.986533Z"
        },
        "colab": {
          "base_uri": "https://localhost:8080/",
          "height": 53
        },
        "id": "57feb45f444a7d0a",
        "outputId": "8090c7e2-c603-4b16-f54c-fcc74bc6025d"
      },
      "cell_type": "code",
      "source": [
        "load(10)[0].__str__()"
      ],
      "id": "57feb45f444a7d0a",
      "outputs": [
        {
          "output_type": "execute_result",
          "data": {
            "text/plain": [
              "'{fen: r6k/pp2r2p/4Rp1Q/3p4/8/1N1P2R1/PqP2bPP/7K b - - 0 24 ,tags: [crushing, hangingPiece, long, middlegame],moves: [f2g3,e6e7,b2b1,b3c1,b1c1,h6c1]}'"
            ],
            "application/vnd.google.colaboratory.intrinsic+json": {
              "type": "string"
            }
          },
          "metadata": {},
          "execution_count": 74
        }
      ],
      "execution_count": 74
    },
    {
      "metadata": {
        "id": "f362b99117932533"
      },
      "cell_type": "markdown",
      "source": [
        "# FILTER DATASET"
      ],
      "id": "f362b99117932533"
    },
    {
      "metadata": {
        "ExecuteTime": {
          "end_time": "2024-06-07T12:36:20.997813Z",
          "start_time": "2024-06-07T12:36:20.994165Z"
        },
        "id": "54b9c024e9edbc45"
      },
      "cell_type": "code",
      "source": [
        "expected_tags = {\n",
        "    'attraction',\n",
        "    'discoveredAttack',\n",
        "    'doubleCheck',\n",
        "    'fork',\n",
        "    'pin',\n",
        "    'sacrifice',\n",
        "    'skewer',\n",
        "    'xRayAttack',\n",
        "    'zugzwang',\n",
        "    'deflection',\n",
        "    'clearance'\n",
        "}"
      ],
      "id": "54b9c024e9edbc45",
      "outputs": [],
      "execution_count": 75
    },
    {
      "metadata": {
        "ExecuteTime": {
          "end_time": "2024-06-07T12:36:21.003861Z",
          "start_time": "2024-06-07T12:36:20.999817Z"
        },
        "id": "b4c7b42dafb2af34"
      },
      "cell_type": "code",
      "source": [
        "expected_tags_list = list(expected_tags)"
      ],
      "id": "b4c7b42dafb2af34",
      "outputs": [],
      "execution_count": 76
    },
    {
      "metadata": {
        "ExecuteTime": {
          "end_time": "2024-06-07T12:36:21.009368Z",
          "start_time": "2024-06-07T12:36:21.003861Z"
        },
        "id": "68a75e47bbf20450"
      },
      "cell_type": "code",
      "source": [
        "def filter_data(data: [Puzzle]) -> [Puzzle]:\n",
        "    return list(filter(lambda p: len(set(p.tags) & expected_tags) == 1, data))"
      ],
      "id": "68a75e47bbf20450",
      "outputs": [],
      "execution_count": 77
    },
    {
      "metadata": {
        "ExecuteTime": {
          "end_time": "2024-06-07T12:36:21.017072Z",
          "start_time": "2024-06-07T12:36:21.010371Z"
        },
        "colab": {
          "base_uri": "https://localhost:8080/"
        },
        "id": "ed1341d0f35d0c64",
        "outputId": "c120971e-7448-4d9f-a6be-fcad19c8d63a"
      },
      "cell_type": "code",
      "source": [
        "len(filter_data(load(100)))"
      ],
      "id": "ed1341d0f35d0c64",
      "outputs": [
        {
          "output_type": "execute_result",
          "data": {
            "text/plain": [
              "37"
            ]
          },
          "metadata": {},
          "execution_count": 78
        }
      ],
      "execution_count": 78
    },
    {
      "metadata": {
        "id": "a5c92e35f0ad916d"
      },
      "cell_type": "markdown",
      "source": [
        "# CONVERSION TO TENSOR"
      ],
      "id": "a5c92e35f0ad916d"
    },
    {
      "metadata": {
        "ExecuteTime": {
          "end_time": "2024-06-07T12:36:21.021325Z",
          "start_time": "2024-06-07T12:36:21.018075Z"
        },
        "id": "10c35e85f53b2f3c"
      },
      "cell_type": "code",
      "source": [
        "def bitboard_to_tensor(bitboard: int) -> torch.Tensor:\n",
        "    li = [1 if digit == '1' else 0 for digit in bin(bitboard)[2:]]\n",
        "    li = [0 for _ in range(64 - len(li))] + li\n",
        "    return torch.tensor(li).reshape((8, 8))"
      ],
      "id": "10c35e85f53b2f3c",
      "outputs": [],
      "execution_count": 79
    },
    {
      "metadata": {
        "ExecuteTime": {
          "end_time": "2024-06-07T12:36:21.027740Z",
          "start_time": "2024-06-07T12:36:21.022328Z"
        },
        "id": "ac21f78c3f6922b4"
      },
      "cell_type": "code",
      "source": [
        "def fen_to_tensors_list(fen: str) -> [torch.Tensor]:\n",
        "    board = chess.Board(fen)\n",
        "    return [\n",
        "        bitboard_to_tensor(board.occupied_co[chess.WHITE]),\n",
        "        bitboard_to_tensor(board.occupied_co[chess.BLACK]),\n",
        "        bitboard_to_tensor(board.pawns),\n",
        "        bitboard_to_tensor(board.kings),\n",
        "        bitboard_to_tensor(board.queens),\n",
        "        bitboard_to_tensor(board.knights),\n",
        "        bitboard_to_tensor(board.bishops),\n",
        "        bitboard_to_tensor(board.rooks)\n",
        "    ]"
      ],
      "id": "ac21f78c3f6922b4",
      "outputs": [],
      "execution_count": 80
    },
    {
      "metadata": {
        "ExecuteTime": {
          "end_time": "2024-06-07T12:36:21.056343Z",
          "start_time": "2024-06-07T12:36:21.028744Z"
        },
        "colab": {
          "base_uri": "https://localhost:8080/"
        },
        "id": "2af6bc1bbdd66c04",
        "outputId": "34461af0-1e7c-4099-919c-4b76f550644c"
      },
      "cell_type": "code",
      "source": [
        "fen_to_tensors_list(load(1)[0].fen)"
      ],
      "id": "2af6bc1bbdd66c04",
      "outputs": [
        {
          "output_type": "execute_result",
          "data": {
            "text/plain": [
              "[tensor([[0, 0, 0, 0, 0, 0, 0, 0],\n",
              "         [0, 0, 0, 0, 0, 0, 0, 0],\n",
              "         [1, 0, 0, 1, 0, 0, 0, 0],\n",
              "         [0, 0, 0, 0, 0, 0, 0, 0],\n",
              "         [0, 0, 0, 0, 0, 0, 0, 0],\n",
              "         [0, 1, 0, 0, 1, 0, 1, 0],\n",
              "         [1, 1, 0, 0, 0, 1, 0, 1],\n",
              "         [1, 0, 0, 0, 0, 0, 0, 0]]),\n",
              " tensor([[1, 0, 0, 0, 0, 0, 0, 1],\n",
              "         [1, 0, 0, 1, 0, 0, 1, 1],\n",
              "         [0, 0, 1, 0, 0, 0, 0, 0],\n",
              "         [0, 0, 0, 0, 1, 0, 0, 0],\n",
              "         [0, 0, 0, 0, 0, 0, 0, 0],\n",
              "         [0, 0, 0, 0, 0, 0, 0, 0],\n",
              "         [0, 0, 1, 0, 0, 0, 1, 0],\n",
              "         [0, 0, 0, 0, 0, 0, 0, 0]]),\n",
              " tensor([[0, 0, 0, 0, 0, 0, 0, 0],\n",
              "         [1, 0, 0, 0, 0, 0, 1, 1],\n",
              "         [0, 0, 1, 0, 0, 0, 0, 0],\n",
              "         [0, 0, 0, 0, 1, 0, 0, 0],\n",
              "         [0, 0, 0, 0, 0, 0, 0, 0],\n",
              "         [0, 0, 0, 0, 1, 0, 0, 0],\n",
              "         [1, 1, 0, 0, 0, 1, 0, 1],\n",
              "         [0, 0, 0, 0, 0, 0, 0, 0]]),\n",
              " tensor([[1, 0, 0, 0, 0, 0, 0, 0],\n",
              "         [0, 0, 0, 0, 0, 0, 0, 0],\n",
              "         [0, 0, 0, 0, 0, 0, 0, 0],\n",
              "         [0, 0, 0, 0, 0, 0, 0, 0],\n",
              "         [0, 0, 0, 0, 0, 0, 0, 0],\n",
              "         [0, 0, 0, 0, 0, 0, 0, 0],\n",
              "         [0, 0, 0, 0, 0, 0, 0, 0],\n",
              "         [1, 0, 0, 0, 0, 0, 0, 0]]),\n",
              " tensor([[0, 0, 0, 0, 0, 0, 0, 0],\n",
              "         [0, 0, 0, 0, 0, 0, 0, 0],\n",
              "         [1, 0, 0, 0, 0, 0, 0, 0],\n",
              "         [0, 0, 0, 0, 0, 0, 0, 0],\n",
              "         [0, 0, 0, 0, 0, 0, 0, 0],\n",
              "         [0, 0, 0, 0, 0, 0, 0, 0],\n",
              "         [0, 0, 0, 0, 0, 0, 1, 0],\n",
              "         [0, 0, 0, 0, 0, 0, 0, 0]]),\n",
              " tensor([[0, 0, 0, 0, 0, 0, 0, 0],\n",
              "         [0, 0, 0, 0, 0, 0, 0, 0],\n",
              "         [0, 0, 0, 0, 0, 0, 0, 0],\n",
              "         [0, 0, 0, 0, 0, 0, 0, 0],\n",
              "         [0, 0, 0, 0, 0, 0, 0, 0],\n",
              "         [0, 0, 0, 0, 0, 0, 1, 0],\n",
              "         [0, 0, 0, 0, 0, 0, 0, 0],\n",
              "         [0, 0, 0, 0, 0, 0, 0, 0]]),\n",
              " tensor([[0, 0, 0, 0, 0, 0, 0, 0],\n",
              "         [0, 0, 0, 0, 0, 0, 0, 0],\n",
              "         [0, 0, 0, 0, 0, 0, 0, 0],\n",
              "         [0, 0, 0, 0, 0, 0, 0, 0],\n",
              "         [0, 0, 0, 0, 0, 0, 0, 0],\n",
              "         [0, 0, 0, 0, 0, 0, 0, 0],\n",
              "         [0, 0, 1, 0, 0, 0, 0, 0],\n",
              "         [0, 0, 0, 0, 0, 0, 0, 0]]),\n",
              " tensor([[0, 0, 0, 0, 0, 0, 0, 1],\n",
              "         [0, 0, 0, 1, 0, 0, 0, 0],\n",
              "         [0, 0, 0, 1, 0, 0, 0, 0],\n",
              "         [0, 0, 0, 0, 0, 0, 0, 0],\n",
              "         [0, 0, 0, 0, 0, 0, 0, 0],\n",
              "         [0, 1, 0, 0, 0, 0, 0, 0],\n",
              "         [0, 0, 0, 0, 0, 0, 0, 0],\n",
              "         [0, 0, 0, 0, 0, 0, 0, 0]])]"
            ]
          },
          "metadata": {},
          "execution_count": 81
        }
      ],
      "execution_count": 81
    },
    {
      "metadata": {
        "ExecuteTime": {
          "end_time": "2024-06-07T12:36:21.060430Z",
          "start_time": "2024-06-07T12:36:21.057347Z"
        },
        "id": "17c3f21abe4260e5"
      },
      "cell_type": "code",
      "source": [
        "def move_to_tensor(move: str) -> torch.Tensor:\n",
        "    x1 = 7 - ord(move[0]) + ord('a')\n",
        "    y1 = 8 - int(move[1])\n",
        "    x2 = 7 - ord(move[2]) + ord('a')\n",
        "    y2 = 8 - int(move[3])\n",
        "    tensor = torch.zeros(8, 8)\n",
        "    tensor[y1][x1] = 1\n",
        "    tensor[y2][x2] = 1\n",
        "    return tensor"
      ],
      "id": "17c3f21abe4260e5",
      "outputs": [],
      "execution_count": 82
    },
    {
      "metadata": {
        "ExecuteTime": {
          "end_time": "2024-06-07T12:36:21.090045Z",
          "start_time": "2024-06-07T12:36:21.061433Z"
        },
        "colab": {
          "base_uri": "https://localhost:8080/"
        },
        "id": "104d99da6a271a6a",
        "outputId": "4c8e870d-2a95-4279-f691-408b6195571b"
      },
      "cell_type": "code",
      "source": [
        "print(move_to_tensor('e2e4'))"
      ],
      "id": "104d99da6a271a6a",
      "outputs": [
        {
          "output_type": "stream",
          "name": "stdout",
          "text": [
            "tensor([[0., 0., 0., 0., 0., 0., 0., 0.],\n",
            "        [0., 0., 0., 0., 0., 0., 0., 0.],\n",
            "        [0., 0., 0., 0., 0., 0., 0., 0.],\n",
            "        [0., 0., 0., 0., 0., 0., 0., 0.],\n",
            "        [0., 0., 0., 1., 0., 0., 0., 0.],\n",
            "        [0., 0., 0., 0., 0., 0., 0., 0.],\n",
            "        [0., 0., 0., 1., 0., 0., 0., 0.],\n",
            "        [0., 0., 0., 0., 0., 0., 0., 0.]])\n"
          ]
        }
      ],
      "execution_count": 83
    },
    {
      "metadata": {
        "ExecuteTime": {
          "end_time": "2024-06-07T12:36:21.094098Z",
          "start_time": "2024-06-07T12:36:21.091092Z"
        },
        "id": "7d58e2f64a04bec6"
      },
      "cell_type": "code",
      "source": [
        "def puzzle_to_tensor(puzzle: Puzzle) -> torch.Tensor:\n",
        "    fen_tensors = fen_to_tensors_list(puzzle.fen)\n",
        "    move_tensors = [move_to_tensor(puzzle.moves[0]), move_to_tensor(puzzle.moves[1])]  # FIRST TWO MOVES\n",
        "    return torch.stack(fen_tensors + move_tensors)"
      ],
      "id": "7d58e2f64a04bec6",
      "outputs": [],
      "execution_count": 84
    },
    {
      "metadata": {
        "ExecuteTime": {
          "end_time": "2024-06-07T12:36:21.106120Z",
          "start_time": "2024-06-07T12:36:21.095103Z"
        },
        "colab": {
          "base_uri": "https://localhost:8080/"
        },
        "id": "f086ac45785396dd",
        "outputId": "6001e3b8-6fb1-4dbb-cc0f-ddf25c3e4a98"
      },
      "cell_type": "code",
      "source": [
        "puzzle_to_tensor(load(1)[0])"
      ],
      "id": "f086ac45785396dd",
      "outputs": [
        {
          "output_type": "execute_result",
          "data": {
            "text/plain": [
              "tensor([[[0., 0., 0., 0., 0., 0., 0., 0.],\n",
              "         [0., 0., 0., 0., 0., 0., 0., 0.],\n",
              "         [1., 0., 0., 1., 0., 0., 0., 0.],\n",
              "         [0., 0., 0., 0., 0., 0., 0., 0.],\n",
              "         [0., 0., 0., 0., 0., 0., 0., 0.],\n",
              "         [0., 1., 0., 0., 1., 0., 1., 0.],\n",
              "         [1., 1., 0., 0., 0., 1., 0., 1.],\n",
              "         [1., 0., 0., 0., 0., 0., 0., 0.]],\n",
              "\n",
              "        [[1., 0., 0., 0., 0., 0., 0., 1.],\n",
              "         [1., 0., 0., 1., 0., 0., 1., 1.],\n",
              "         [0., 0., 1., 0., 0., 0., 0., 0.],\n",
              "         [0., 0., 0., 0., 1., 0., 0., 0.],\n",
              "         [0., 0., 0., 0., 0., 0., 0., 0.],\n",
              "         [0., 0., 0., 0., 0., 0., 0., 0.],\n",
              "         [0., 0., 1., 0., 0., 0., 1., 0.],\n",
              "         [0., 0., 0., 0., 0., 0., 0., 0.]],\n",
              "\n",
              "        [[0., 0., 0., 0., 0., 0., 0., 0.],\n",
              "         [1., 0., 0., 0., 0., 0., 1., 1.],\n",
              "         [0., 0., 1., 0., 0., 0., 0., 0.],\n",
              "         [0., 0., 0., 0., 1., 0., 0., 0.],\n",
              "         [0., 0., 0., 0., 0., 0., 0., 0.],\n",
              "         [0., 0., 0., 0., 1., 0., 0., 0.],\n",
              "         [1., 1., 0., 0., 0., 1., 0., 1.],\n",
              "         [0., 0., 0., 0., 0., 0., 0., 0.]],\n",
              "\n",
              "        [[1., 0., 0., 0., 0., 0., 0., 0.],\n",
              "         [0., 0., 0., 0., 0., 0., 0., 0.],\n",
              "         [0., 0., 0., 0., 0., 0., 0., 0.],\n",
              "         [0., 0., 0., 0., 0., 0., 0., 0.],\n",
              "         [0., 0., 0., 0., 0., 0., 0., 0.],\n",
              "         [0., 0., 0., 0., 0., 0., 0., 0.],\n",
              "         [0., 0., 0., 0., 0., 0., 0., 0.],\n",
              "         [1., 0., 0., 0., 0., 0., 0., 0.]],\n",
              "\n",
              "        [[0., 0., 0., 0., 0., 0., 0., 0.],\n",
              "         [0., 0., 0., 0., 0., 0., 0., 0.],\n",
              "         [1., 0., 0., 0., 0., 0., 0., 0.],\n",
              "         [0., 0., 0., 0., 0., 0., 0., 0.],\n",
              "         [0., 0., 0., 0., 0., 0., 0., 0.],\n",
              "         [0., 0., 0., 0., 0., 0., 0., 0.],\n",
              "         [0., 0., 0., 0., 0., 0., 1., 0.],\n",
              "         [0., 0., 0., 0., 0., 0., 0., 0.]],\n",
              "\n",
              "        [[0., 0., 0., 0., 0., 0., 0., 0.],\n",
              "         [0., 0., 0., 0., 0., 0., 0., 0.],\n",
              "         [0., 0., 0., 0., 0., 0., 0., 0.],\n",
              "         [0., 0., 0., 0., 0., 0., 0., 0.],\n",
              "         [0., 0., 0., 0., 0., 0., 0., 0.],\n",
              "         [0., 0., 0., 0., 0., 0., 1., 0.],\n",
              "         [0., 0., 0., 0., 0., 0., 0., 0.],\n",
              "         [0., 0., 0., 0., 0., 0., 0., 0.]],\n",
              "\n",
              "        [[0., 0., 0., 0., 0., 0., 0., 0.],\n",
              "         [0., 0., 0., 0., 0., 0., 0., 0.],\n",
              "         [0., 0., 0., 0., 0., 0., 0., 0.],\n",
              "         [0., 0., 0., 0., 0., 0., 0., 0.],\n",
              "         [0., 0., 0., 0., 0., 0., 0., 0.],\n",
              "         [0., 0., 0., 0., 0., 0., 0., 0.],\n",
              "         [0., 0., 1., 0., 0., 0., 0., 0.],\n",
              "         [0., 0., 0., 0., 0., 0., 0., 0.]],\n",
              "\n",
              "        [[0., 0., 0., 0., 0., 0., 0., 1.],\n",
              "         [0., 0., 0., 1., 0., 0., 0., 0.],\n",
              "         [0., 0., 0., 1., 0., 0., 0., 0.],\n",
              "         [0., 0., 0., 0., 0., 0., 0., 0.],\n",
              "         [0., 0., 0., 0., 0., 0., 0., 0.],\n",
              "         [0., 1., 0., 0., 0., 0., 0., 0.],\n",
              "         [0., 0., 0., 0., 0., 0., 0., 0.],\n",
              "         [0., 0., 0., 0., 0., 0., 0., 0.]],\n",
              "\n",
              "        [[0., 0., 0., 0., 0., 0., 0., 0.],\n",
              "         [0., 0., 0., 0., 0., 0., 0., 0.],\n",
              "         [0., 0., 0., 0., 0., 0., 0., 0.],\n",
              "         [0., 0., 0., 0., 0., 0., 0., 0.],\n",
              "         [0., 0., 0., 0., 0., 0., 0., 0.],\n",
              "         [0., 1., 0., 0., 0., 0., 0., 0.],\n",
              "         [0., 0., 1., 0., 0., 0., 0., 0.],\n",
              "         [0., 0., 0., 0., 0., 0., 0., 0.]],\n",
              "\n",
              "        [[0., 0., 0., 0., 0., 0., 0., 0.],\n",
              "         [0., 0., 0., 1., 0., 0., 0., 0.],\n",
              "         [0., 0., 0., 1., 0., 0., 0., 0.],\n",
              "         [0., 0., 0., 0., 0., 0., 0., 0.],\n",
              "         [0., 0., 0., 0., 0., 0., 0., 0.],\n",
              "         [0., 0., 0., 0., 0., 0., 0., 0.],\n",
              "         [0., 0., 0., 0., 0., 0., 0., 0.],\n",
              "         [0., 0., 0., 0., 0., 0., 0., 0.]]])"
            ]
          },
          "metadata": {},
          "execution_count": 85
        }
      ],
      "execution_count": 85
    },
    {
      "metadata": {
        "id": "577ba77d6cc0369a"
      },
      "cell_type": "markdown",
      "source": [
        "# CONVERT AND BATCH DATASET"
      ],
      "id": "577ba77d6cc0369a"
    },
    {
      "metadata": {
        "ExecuteTime": {
          "end_time": "2024-06-07T12:47:13.034439Z",
          "start_time": "2024-06-07T12:47:13.031694Z"
        },
        "id": "f69689ed3c928f55"
      },
      "cell_type": "code",
      "source": [
        "def puzzle_to_truth(puzzle: Puzzle) -> torch.Tensor:\n",
        "    tensor = torch.zeros(len(expected_tags_list))\n",
        "    [tag] = set(puzzle.tags) & expected_tags\n",
        "    index = expected_tags_list.index(tag)\n",
        "    tensor[index] = 1\n",
        "    return torch.zeros(1) + index"
      ],
      "id": "f69689ed3c928f55",
      "outputs": [],
      "execution_count": 86
    },
    {
      "metadata": {
        "ExecuteTime": {
          "end_time": "2024-06-07T12:47:18.515569Z",
          "start_time": "2024-06-07T12:47:18.511299Z"
        },
        "colab": {
          "base_uri": "https://localhost:8080/"
        },
        "id": "abd55187edfe5df",
        "outputId": "f6911bb9-c23d-4592-e06f-543c53eabeab"
      },
      "cell_type": "code",
      "source": [
        "puzzle_to_truth(filter_data(load(100))[0])"
      ],
      "id": "abd55187edfe5df",
      "outputs": [
        {
          "output_type": "execute_result",
          "data": {
            "text/plain": [
              "tensor([1.])"
            ]
          },
          "metadata": {},
          "execution_count": 87
        }
      ],
      "execution_count": 87
    },
    {
      "metadata": {
        "ExecuteTime": {
          "end_time": "2024-06-07T12:47:18.791255Z",
          "start_time": "2024-06-07T12:47:18.788658Z"
        },
        "id": "bf6296834a2068eb"
      },
      "cell_type": "code",
      "source": [
        "BATCH_SIZE = 64"
      ],
      "id": "bf6296834a2068eb",
      "outputs": [],
      "execution_count": 88
    },
    {
      "metadata": {
        "ExecuteTime": {
          "end_time": "2024-06-07T12:47:19.077854Z",
          "start_time": "2024-06-07T12:47:19.075191Z"
        },
        "id": "2a98f0f8bbd52026"
      },
      "cell_type": "code",
      "source": [
        "def convert_dataset(puzzles: [Puzzle]) -> list[tuple[torch.Tensor, torch.Tensor]]:\n",
        "    return [(puzzle_to_tensor(puzzle), puzzle_to_truth(puzzle)) for puzzle in puzzles]"
      ],
      "id": "2a98f0f8bbd52026",
      "outputs": [],
      "execution_count": 89
    },
    {
      "metadata": {
        "ExecuteTime": {
          "end_time": "2024-06-07T12:49:49.313213Z",
          "start_time": "2024-06-07T12:49:49.310119Z"
        },
        "id": "37b1f86d84eb8476"
      },
      "cell_type": "code",
      "source": [
        "def dataset_to_batches(dataset: list[tuple[torch.Tensor, torch.Tensor]]) -> list[tuple[torch.Tensor, torch.Tensor]]:\n",
        "    batches = []\n",
        "    index = 0\n",
        "    while index + BATCH_SIZE <= len(dataset):\n",
        "        batch = []\n",
        "        truth = []\n",
        "        max_index = index + BATCH_SIZE\n",
        "        while index < max_index:\n",
        "            batch.append(dataset[index][0])\n",
        "            truth.append(dataset[index][1])\n",
        "            index += 1\n",
        "        batches.append((torch.stack(batch).cuda(), torch.tensor(truth).cuda().type(torch.long)))\n",
        "\n",
        "    return batches"
      ],
      "id": "37b1f86d84eb8476",
      "outputs": [],
      "execution_count": 90
    },
    {
      "metadata": {
        "ExecuteTime": {
          "end_time": "2024-06-07T12:49:50.731308Z",
          "start_time": "2024-06-07T12:49:50.109413Z"
        },
        "colab": {
          "base_uri": "https://localhost:8080/"
        },
        "id": "2c6ecc1932649601",
        "outputId": "8d7d238c-6a9b-4d8b-8329-2316a5c271e0"
      },
      "cell_type": "code",
      "source": [
        "batched_dataset=dataset_to_batches(convert_dataset(filter_data(load(10000))))\n",
        "print(len(batched_dataset))\n",
        "print(batched_dataset[0][0].shape,batched_dataset[0][1].shape)"
      ],
      "id": "2c6ecc1932649601",
      "outputs": [
        {
          "output_type": "stream",
          "name": "stdout",
          "text": [
            "47\n",
            "torch.Size([64, 10, 8, 8]) torch.Size([64])\n"
          ]
        }
      ],
      "execution_count": 91
    },
    {
      "metadata": {
        "id": "dd2e455b1a377348"
      },
      "cell_type": "markdown",
      "source": [
        "# TRAIN"
      ],
      "id": "dd2e455b1a377348"
    },
    {
      "metadata": {
        "ExecuteTime": {
          "end_time": "2024-06-07T12:52:05.360344Z",
          "start_time": "2024-06-07T12:52:05.357737Z"
        },
        "id": "ab02ddd180fcdd69"
      },
      "cell_type": "code",
      "source": [
        "def accuracy(out,truth):\n",
        "    return torch.argmax(out,dim=1) == truth"
      ],
      "id": "ab02ddd180fcdd69",
      "outputs": [],
      "execution_count": 92
    },
    {
      "metadata": {
        "ExecuteTime": {
          "end_time": "2024-06-07T12:52:16.210248Z",
          "start_time": "2024-06-07T12:52:16.205903Z"
        },
        "id": "27c76f74edc787d2"
      },
      "cell_type": "code",
      "source": [
        "class Model(nn.Module):\n",
        "    def __init__(self, *args, **kwargs):\n",
        "        super(Model, self).__init__()\n",
        "        self.classifier = nn.Sequential(*args, **kwargs)\n",
        "\n",
        "    def forward(self, X):\n",
        "        return self.classifier.forward(X)\n",
        "\n",
        "\n",
        "model = Model(nn.Conv2d(10, 8 * 8, kernel_size=4, padding=2),\n",
        "              nn.ReLU(),\n",
        "              nn.Conv2d(8 * 8, 4 * 4, kernel_size=2, padding=2),\n",
        "              nn.ReLU(),\n",
        "              nn.MaxPool2d(kernel_size=4, stride=1),\n",
        "              nn.Conv2d(4*4, 8 * 8, kernel_size=2, padding=2),\n",
        "              nn.ReLU(),\n",
        "              nn.Conv2d(8 * 8, 1, kernel_size=4, padding=2),\n",
        "              nn.ReLU(),\n",
        "              nn.Flatten(),\n",
        "              nn.Linear(169, 256),\n",
        "              nn.ReLU(),\n",
        "              nn.Linear(256, 64),\n",
        "              nn.ReLU(),\n",
        "              nn.Linear(64, 11),\n",
        "              nn.LogSoftmax(),\n",
        "              )\n",
        "criterion = (\n",
        "    nn.NLLLoss()\n",
        ")\n"
      ],
      "id": "27c76f74edc787d2",
      "outputs": [],
      "execution_count": 93
    },
    {
      "metadata": {
        "ExecuteTime": {
          "end_time": "2024-06-07T12:49:55.105473Z",
          "start_time": "2024-06-07T12:49:55.103357Z"
        },
        "id": "230d17a6081a7ffc"
      },
      "cell_type": "code",
      "source": [
        "size_to_load=2000000\n",
        "test_batches_count=400"
      ],
      "id": "230d17a6081a7ffc",
      "outputs": [],
      "execution_count": 94
    },
    {
      "metadata": {
        "ExecuteTime": {
          "end_time": "2024-06-07T12:51:40.066389Z",
          "start_time": "2024-06-07T12:49:55.394152Z"
        },
        "colab": {
          "base_uri": "https://localhost:8080/"
        },
        "id": "d1a9a9709411156f",
        "outputId": "af34efb6-3217-469c-cfdb-144401927871"
      },
      "cell_type": "code",
      "source": [
        "all_batches=dataset_to_batches(convert_dataset(filter_data(load(size_to_load))))\n",
        "train_batches=all_batches[test_batches_count:]\n",
        "test_batches=all_batches[:test_batches_count]\n",
        "print(len(all_batches),len(train_batches),len(test_batches))"
      ],
      "id": "d1a9a9709411156f",
      "outputs": [
        {
          "output_type": "stream",
          "name": "stdout",
          "text": [
            "9421 9021 400\n"
          ]
        }
      ],
      "execution_count": 95
    },
    {
      "metadata": {
        "ExecuteTime": {
          "end_time": "2024-06-07T12:52:19.164920Z",
          "start_time": "2024-06-07T12:52:19.160747Z"
        },
        "id": "52588422f107c263"
      },
      "cell_type": "code",
      "source": [
        "def train(model, criterion, optimizer, epoch):\n",
        "    model.cuda()\n",
        "    criterion.cuda()\n",
        "    batches = train_batches\n",
        "    print(\"Dataset size:\", len(batches))\n",
        "    for i in range(epoch):\n",
        "        for batch, truth in batches:\n",
        "            optimizer.zero_grad()\n",
        "            out = model.forward(batch)\n",
        "            loss = criterion(out, truth)\n",
        "            loss.backward()\n",
        "            optimizer.step()\n",
        "            accuracy_value = accuracy(out,truth).sum()/BATCH_SIZE\n",
        "        print(f\"Epoch [{i+1}/{epoch}], loss: {loss.item()}, accuracy: {accuracy_value}\")"
      ],
      "id": "52588422f107c263",
      "outputs": [],
      "execution_count": 136
    },
    {
      "metadata": {
        "ExecuteTime": {
          "end_time": "2024-06-07T12:57:37.570099Z",
          "start_time": "2024-06-07T12:52:19.424104Z"
        },
        "colab": {
          "base_uri": "https://localhost:8080/"
        },
        "id": "b500d4f989b86b92",
        "outputId": "ba85a3e2-7be2-43b0-90a6-0ceecdaa51c6"
      },
      "cell_type": "code",
      "source": [
        "train(model,\n",
        "      criterion,\n",
        "      torch.optim.SGD(model.classifier.parameters(), lr=0.001),\n",
        "      30)"
      ],
      "id": "b500d4f989b86b92",
      "outputs": [
        {
          "output_type": "stream",
          "name": "stdout",
          "text": [
            "Dataset size: 9021\n",
            "Epoch [1/30], loss: 1.2270857095718384, accuracy: 0.53125\n",
            "Epoch [2/30], loss: 1.2213377952575684, accuracy: 0.53125\n",
            "Epoch [3/30], loss: 1.2213544845581055, accuracy: 0.546875\n",
            "Epoch [4/30], loss: 1.2096256017684937, accuracy: 0.5625\n",
            "Epoch [5/30], loss: 1.1998687982559204, accuracy: 0.5625\n",
            "Epoch [6/30], loss: 1.193103313446045, accuracy: 0.59375\n",
            "Epoch [7/30], loss: 1.1882222890853882, accuracy: 0.59375\n",
            "Epoch [8/30], loss: 1.1804842948913574, accuracy: 0.578125\n",
            "Epoch [9/30], loss: 1.1762734651565552, accuracy: 0.578125\n",
            "Epoch [10/30], loss: 1.1681602001190186, accuracy: 0.59375\n",
            "Epoch [11/30], loss: 1.1616337299346924, accuracy: 0.59375\n",
            "Epoch [12/30], loss: 1.1589200496673584, accuracy: 0.59375\n",
            "Epoch [13/30], loss: 1.1547492742538452, accuracy: 0.609375\n",
            "Epoch [14/30], loss: 1.1489911079406738, accuracy: 0.625\n",
            "Epoch [15/30], loss: 1.1470906734466553, accuracy: 0.625\n",
            "Epoch [16/30], loss: 1.1458094120025635, accuracy: 0.640625\n",
            "Epoch [17/30], loss: 1.1423085927963257, accuracy: 0.640625\n",
            "Epoch [18/30], loss: 1.1377009153366089, accuracy: 0.609375\n",
            "Epoch [19/30], loss: 1.1322576999664307, accuracy: 0.609375\n",
            "Epoch [20/30], loss: 1.1284089088439941, accuracy: 0.609375\n",
            "Epoch [21/30], loss: 1.1221840381622314, accuracy: 0.609375\n",
            "Epoch [22/30], loss: 1.1205650568008423, accuracy: 0.625\n",
            "Epoch [23/30], loss: 1.117168664932251, accuracy: 0.625\n",
            "Epoch [24/30], loss: 1.1155623197555542, accuracy: 0.625\n",
            "Epoch [25/30], loss: 1.115652084350586, accuracy: 0.625\n",
            "Epoch [26/30], loss: 1.1137043237686157, accuracy: 0.609375\n",
            "Epoch [27/30], loss: 1.1121904850006104, accuracy: 0.625\n",
            "Epoch [28/30], loss: 1.1079528331756592, accuracy: 0.625\n",
            "Epoch [29/30], loss: 1.1024882793426514, accuracy: 0.625\n",
            "Epoch [30/30], loss: 1.1031256914138794, accuracy: 0.625\n"
          ]
        }
      ],
      "execution_count": 137
    },
    {
      "metadata": {
        "ExecuteTime": {
          "end_time": "2024-06-07T13:03:32.223599Z",
          "start_time": "2024-06-07T13:03:32.218609Z"
        },
        "id": "1f69aaab85e1966a"
      },
      "cell_type": "code",
      "source": [
        "torch.save(model,'model.pt')"
      ],
      "id": "1f69aaab85e1966a",
      "outputs": [],
      "execution_count": 138
    },
    {
      "metadata": {
        "ExecuteTime": {
          "end_time": "2024-06-07T13:04:34.576061Z",
          "start_time": "2024-06-07T13:04:34.572931Z"
        },
        "id": "c8251ffcc9b16e94"
      },
      "cell_type": "code",
      "source": [
        "def test(model, criterion):\n",
        "    model.cuda()\n",
        "    criterion.cuda()\n",
        "    batches = test_batches\n",
        "    print(\"Dataset size:\", len(batches))\n",
        "    batch_index = 0\n",
        "\n",
        "    total_loss = 0\n",
        "    total_accuracy = 0\n",
        "    for i in range(len(batches)):\n",
        "\n",
        "        batch = batches[i][0]\n",
        "        truth = batches[i][1]\n",
        "\n",
        "        if batch_index == len(batches):\n",
        "            batch_index = 0\n",
        "\n",
        "        out = model.forward(batch)\n",
        "        loss = criterion(out, truth)\n",
        "        print(f\"Batch [{i+1}/{len(batches)}], loss: {loss.item()}, accuracy: {(accuracy(out,truth).sum()/BATCH_SIZE).item()}\")\n",
        "\n",
        "        total_loss += loss.item()\n",
        "        total_accuracy+=(accuracy(out,truth).sum()/BATCH_SIZE).item()\n",
        "\n",
        "    return (total_loss / len(batches)),total_accuracy / len(batches)"
      ],
      "id": "c8251ffcc9b16e94",
      "outputs": [],
      "execution_count": 139
    },
    {
      "metadata": {
        "ExecuteTime": {
          "end_time": "2024-06-07T13:04:35.187407Z",
          "start_time": "2024-06-07T13:04:34.785399Z"
        },
        "colab": {
          "base_uri": "https://localhost:8080/"
        },
        "id": "ac9a5368131bcb1d",
        "outputId": "26db4ac7-9255-429d-d297-6446baf44de1"
      },
      "cell_type": "code",
      "source": [
        "test(model, criterion)"
      ],
      "id": "ac9a5368131bcb1d",
      "outputs": [
        {
          "output_type": "stream",
          "name": "stdout",
          "text": [
            "Dataset size: 400\n",
            "Batch [1/400], loss: 1.107156753540039, accuracy: 0.640625\n",
            "Batch [2/400], loss: 1.2116950750350952, accuracy: 0.578125\n",
            "Batch [3/400], loss: 1.0900671482086182, accuracy: 0.65625\n",
            "Batch [4/400], loss: 1.1997520923614502, accuracy: 0.609375\n",
            "Batch [5/400], loss: 1.2432892322540283, accuracy: 0.609375\n",
            "Batch [6/400], loss: 1.3012303113937378, accuracy: 0.59375\n",
            "Batch [7/400], loss: 1.1229007244110107, accuracy: 0.625\n",
            "Batch [8/400], loss: 1.2757591009140015, accuracy: 0.609375\n",
            "Batch [9/400], loss: 1.3828816413879395, accuracy: 0.59375\n",
            "Batch [10/400], loss: 1.0727872848510742, accuracy: 0.671875\n",
            "Batch [11/400], loss: 1.6902271509170532, accuracy: 0.484375\n",
            "Batch [12/400], loss: 1.1597472429275513, accuracy: 0.640625\n",
            "Batch [13/400], loss: 1.4000545740127563, accuracy: 0.59375\n",
            "Batch [14/400], loss: 1.1506500244140625, accuracy: 0.609375\n",
            "Batch [15/400], loss: 1.360822319984436, accuracy: 0.46875\n",
            "Batch [16/400], loss: 1.1789555549621582, accuracy: 0.59375\n",
            "Batch [17/400], loss: 1.2208443880081177, accuracy: 0.53125\n",
            "Batch [18/400], loss: 1.135436773300171, accuracy: 0.578125\n",
            "Batch [19/400], loss: 1.1029245853424072, accuracy: 0.671875\n",
            "Batch [20/400], loss: 1.2034746408462524, accuracy: 0.625\n",
            "Batch [21/400], loss: 1.4504514932632446, accuracy: 0.5\n",
            "Batch [22/400], loss: 1.425989031791687, accuracy: 0.53125\n",
            "Batch [23/400], loss: 1.4639149904251099, accuracy: 0.484375\n",
            "Batch [24/400], loss: 1.0215084552764893, accuracy: 0.640625\n",
            "Batch [25/400], loss: 1.253774642944336, accuracy: 0.53125\n",
            "Batch [26/400], loss: 1.3440390825271606, accuracy: 0.5625\n",
            "Batch [27/400], loss: 1.234824299812317, accuracy: 0.609375\n",
            "Batch [28/400], loss: 1.3559209108352661, accuracy: 0.53125\n",
            "Batch [29/400], loss: 1.009117841720581, accuracy: 0.6875\n",
            "Batch [30/400], loss: 1.1641477346420288, accuracy: 0.640625\n",
            "Batch [31/400], loss: 1.4627362489700317, accuracy: 0.5625\n",
            "Batch [32/400], loss: 1.3213139772415161, accuracy: 0.5\n",
            "Batch [33/400], loss: 1.4819968938827515, accuracy: 0.484375\n",
            "Batch [34/400], loss: 1.2120440006256104, accuracy: 0.640625\n",
            "Batch [35/400], loss: 1.346104383468628, accuracy: 0.515625\n",
            "Batch [36/400], loss: 1.3079380989074707, accuracy: 0.59375\n",
            "Batch [37/400], loss: 1.1141282320022583, accuracy: 0.578125\n",
            "Batch [38/400], loss: 1.0408635139465332, accuracy: 0.640625\n",
            "Batch [39/400], loss: 1.1276975870132446, accuracy: 0.515625\n",
            "Batch [40/400], loss: 1.1810417175292969, accuracy: 0.59375\n",
            "Batch [41/400], loss: 1.1808346509933472, accuracy: 0.625\n",
            "Batch [42/400], loss: 1.3373587131500244, accuracy: 0.546875\n",
            "Batch [43/400], loss: 1.0370546579360962, accuracy: 0.609375\n",
            "Batch [44/400], loss: 1.1046764850616455, accuracy: 0.625\n",
            "Batch [45/400], loss: 1.3286759853363037, accuracy: 0.546875\n",
            "Batch [46/400], loss: 1.1883593797683716, accuracy: 0.625\n",
            "Batch [47/400], loss: 1.428199291229248, accuracy: 0.59375\n",
            "Batch [48/400], loss: 1.151685118675232, accuracy: 0.640625\n",
            "Batch [49/400], loss: 1.0889395475387573, accuracy: 0.609375\n",
            "Batch [50/400], loss: 1.1495741605758667, accuracy: 0.546875\n",
            "Batch [51/400], loss: 1.1132862567901611, accuracy: 0.625\n",
            "Batch [52/400], loss: 1.254511833190918, accuracy: 0.578125\n",
            "Batch [53/400], loss: 1.1849391460418701, accuracy: 0.59375\n",
            "Batch [54/400], loss: 1.3988252878189087, accuracy: 0.53125\n",
            "Batch [55/400], loss: 1.2144299745559692, accuracy: 0.578125\n",
            "Batch [56/400], loss: 1.3419100046157837, accuracy: 0.578125\n",
            "Batch [57/400], loss: 1.384216547012329, accuracy: 0.546875\n",
            "Batch [58/400], loss: 1.3771053552627563, accuracy: 0.53125\n",
            "Batch [59/400], loss: 1.1447525024414062, accuracy: 0.609375\n",
            "Batch [60/400], loss: 1.3370709419250488, accuracy: 0.546875\n",
            "Batch [61/400], loss: 1.1458035707473755, accuracy: 0.625\n",
            "Batch [62/400], loss: 1.2687140703201294, accuracy: 0.5625\n",
            "Batch [63/400], loss: 1.3188046216964722, accuracy: 0.578125\n",
            "Batch [64/400], loss: 1.0695663690567017, accuracy: 0.65625\n",
            "Batch [65/400], loss: 1.0924419164657593, accuracy: 0.640625\n",
            "Batch [66/400], loss: 1.3428864479064941, accuracy: 0.578125\n",
            "Batch [67/400], loss: 1.2781344652175903, accuracy: 0.546875\n",
            "Batch [68/400], loss: 1.3511039018630981, accuracy: 0.578125\n",
            "Batch [69/400], loss: 1.1324667930603027, accuracy: 0.625\n",
            "Batch [70/400], loss: 1.206671953201294, accuracy: 0.546875\n",
            "Batch [71/400], loss: 1.1934196949005127, accuracy: 0.65625\n",
            "Batch [72/400], loss: 1.2543468475341797, accuracy: 0.59375\n",
            "Batch [73/400], loss: 1.3885072469711304, accuracy: 0.484375\n",
            "Batch [74/400], loss: 0.8350269198417664, accuracy: 0.71875\n",
            "Batch [75/400], loss: 1.3536194562911987, accuracy: 0.578125\n",
            "Batch [76/400], loss: 1.183244228363037, accuracy: 0.578125\n",
            "Batch [77/400], loss: 1.4726836681365967, accuracy: 0.515625\n",
            "Batch [78/400], loss: 1.1947962045669556, accuracy: 0.59375\n",
            "Batch [79/400], loss: 0.9992249011993408, accuracy: 0.6875\n",
            "Batch [80/400], loss: 1.3159292936325073, accuracy: 0.5\n",
            "Batch [81/400], loss: 1.2362724542617798, accuracy: 0.625\n",
            "Batch [82/400], loss: 1.497697353363037, accuracy: 0.59375\n",
            "Batch [83/400], loss: 0.9894582629203796, accuracy: 0.71875\n",
            "Batch [84/400], loss: 1.3910608291625977, accuracy: 0.5625\n",
            "Batch [85/400], loss: 1.052042007446289, accuracy: 0.65625\n",
            "Batch [86/400], loss: 1.1192224025726318, accuracy: 0.578125\n",
            "Batch [87/400], loss: 1.122268795967102, accuracy: 0.625\n",
            "Batch [88/400], loss: 1.2512272596359253, accuracy: 0.59375\n",
            "Batch [89/400], loss: 1.3687243461608887, accuracy: 0.46875\n",
            "Batch [90/400], loss: 1.1697531938552856, accuracy: 0.703125\n",
            "Batch [91/400], loss: 1.1787530183792114, accuracy: 0.609375\n",
            "Batch [92/400], loss: 1.208543062210083, accuracy: 0.640625\n",
            "Batch [93/400], loss: 1.167312741279602, accuracy: 0.671875\n",
            "Batch [94/400], loss: 1.3668180704116821, accuracy: 0.578125\n",
            "Batch [95/400], loss: 1.3397523164749146, accuracy: 0.5\n",
            "Batch [96/400], loss: 1.0884994268417358, accuracy: 0.65625\n",
            "Batch [97/400], loss: 0.9581709504127502, accuracy: 0.75\n",
            "Batch [98/400], loss: 1.0439502000808716, accuracy: 0.671875\n",
            "Batch [99/400], loss: 1.4040343761444092, accuracy: 0.546875\n",
            "Batch [100/400], loss: 1.3879612684249878, accuracy: 0.578125\n",
            "Batch [101/400], loss: 1.1816006898880005, accuracy: 0.578125\n",
            "Batch [102/400], loss: 1.2704339027404785, accuracy: 0.5625\n",
            "Batch [103/400], loss: 1.0352054834365845, accuracy: 0.640625\n",
            "Batch [104/400], loss: 0.8953372836112976, accuracy: 0.703125\n",
            "Batch [105/400], loss: 1.2050503492355347, accuracy: 0.578125\n",
            "Batch [106/400], loss: 1.1053603887557983, accuracy: 0.640625\n",
            "Batch [107/400], loss: 0.953999936580658, accuracy: 0.765625\n",
            "Batch [108/400], loss: 1.2013154029846191, accuracy: 0.578125\n",
            "Batch [109/400], loss: 1.0932331085205078, accuracy: 0.609375\n",
            "Batch [110/400], loss: 1.3937311172485352, accuracy: 0.5\n",
            "Batch [111/400], loss: 1.0145816802978516, accuracy: 0.625\n",
            "Batch [112/400], loss: 1.2154920101165771, accuracy: 0.59375\n",
            "Batch [113/400], loss: 1.2859688997268677, accuracy: 0.59375\n",
            "Batch [114/400], loss: 1.390356183052063, accuracy: 0.546875\n",
            "Batch [115/400], loss: 1.1493594646453857, accuracy: 0.609375\n",
            "Batch [116/400], loss: 1.3208341598510742, accuracy: 0.484375\n",
            "Batch [117/400], loss: 1.3263550996780396, accuracy: 0.625\n",
            "Batch [118/400], loss: 1.3023854494094849, accuracy: 0.546875\n",
            "Batch [119/400], loss: 1.5013251304626465, accuracy: 0.515625\n",
            "Batch [120/400], loss: 1.163773536682129, accuracy: 0.546875\n",
            "Batch [121/400], loss: 1.1046346426010132, accuracy: 0.640625\n",
            "Batch [122/400], loss: 1.6517034769058228, accuracy: 0.390625\n",
            "Batch [123/400], loss: 1.288824200630188, accuracy: 0.609375\n",
            "Batch [124/400], loss: 1.1733965873718262, accuracy: 0.640625\n",
            "Batch [125/400], loss: 1.2451266050338745, accuracy: 0.59375\n",
            "Batch [126/400], loss: 1.1257903575897217, accuracy: 0.578125\n",
            "Batch [127/400], loss: 1.197332739830017, accuracy: 0.59375\n",
            "Batch [128/400], loss: 1.500232219696045, accuracy: 0.53125\n",
            "Batch [129/400], loss: 1.4904285669326782, accuracy: 0.5\n",
            "Batch [130/400], loss: 1.3065476417541504, accuracy: 0.5625\n",
            "Batch [131/400], loss: 1.5754162073135376, accuracy: 0.453125\n",
            "Batch [132/400], loss: 1.108151912689209, accuracy: 0.703125\n",
            "Batch [133/400], loss: 1.1491581201553345, accuracy: 0.671875\n",
            "Batch [134/400], loss: 1.094444990158081, accuracy: 0.640625\n",
            "Batch [135/400], loss: 1.1396933794021606, accuracy: 0.640625\n",
            "Batch [136/400], loss: 1.3675247430801392, accuracy: 0.578125\n",
            "Batch [137/400], loss: 1.2010257244110107, accuracy: 0.609375\n",
            "Batch [138/400], loss: 1.1735173463821411, accuracy: 0.578125\n",
            "Batch [139/400], loss: 1.2581654787063599, accuracy: 0.5625\n",
            "Batch [140/400], loss: 1.0134462118148804, accuracy: 0.640625\n",
            "Batch [141/400], loss: 1.1773738861083984, accuracy: 0.546875\n",
            "Batch [142/400], loss: 1.2170543670654297, accuracy: 0.578125\n",
            "Batch [143/400], loss: 1.2590599060058594, accuracy: 0.5625\n",
            "Batch [144/400], loss: 1.2163875102996826, accuracy: 0.59375\n",
            "Batch [145/400], loss: 1.1851762533187866, accuracy: 0.546875\n",
            "Batch [146/400], loss: 1.2450085878372192, accuracy: 0.546875\n",
            "Batch [147/400], loss: 1.0641158819198608, accuracy: 0.671875\n",
            "Batch [148/400], loss: 1.0940980911254883, accuracy: 0.671875\n",
            "Batch [149/400], loss: 1.2708568572998047, accuracy: 0.59375\n",
            "Batch [150/400], loss: 1.257310390472412, accuracy: 0.609375\n",
            "Batch [151/400], loss: 1.2516721487045288, accuracy: 0.609375\n",
            "Batch [152/400], loss: 1.2357536554336548, accuracy: 0.578125\n",
            "Batch [153/400], loss: 1.278510570526123, accuracy: 0.578125\n",
            "Batch [154/400], loss: 1.5063928365707397, accuracy: 0.59375\n",
            "Batch [155/400], loss: 1.1492336988449097, accuracy: 0.6875\n",
            "Batch [156/400], loss: 1.2421327829360962, accuracy: 0.625\n",
            "Batch [157/400], loss: 1.2446411848068237, accuracy: 0.578125\n",
            "Batch [158/400], loss: 1.227291226387024, accuracy: 0.609375\n",
            "Batch [159/400], loss: 1.203338623046875, accuracy: 0.609375\n",
            "Batch [160/400], loss: 1.3820807933807373, accuracy: 0.546875\n",
            "Batch [161/400], loss: 1.3381168842315674, accuracy: 0.578125\n",
            "Batch [162/400], loss: 1.1206024885177612, accuracy: 0.609375\n",
            "Batch [163/400], loss: 1.2131168842315674, accuracy: 0.640625\n",
            "Batch [164/400], loss: 1.183354139328003, accuracy: 0.609375\n",
            "Batch [165/400], loss: 1.234307885169983, accuracy: 0.640625\n",
            "Batch [166/400], loss: 1.278635025024414, accuracy: 0.59375\n",
            "Batch [167/400], loss: 1.4387763738632202, accuracy: 0.5625\n",
            "Batch [168/400], loss: 1.303267478942871, accuracy: 0.59375\n",
            "Batch [169/400], loss: 1.1346604824066162, accuracy: 0.640625\n",
            "Batch [170/400], loss: 1.2353053092956543, accuracy: 0.546875\n",
            "Batch [171/400], loss: 1.2235044240951538, accuracy: 0.546875\n",
            "Batch [172/400], loss: 1.1416610479354858, accuracy: 0.609375\n",
            "Batch [173/400], loss: 1.317667841911316, accuracy: 0.5625\n",
            "Batch [174/400], loss: 1.205145239830017, accuracy: 0.609375\n",
            "Batch [175/400], loss: 1.364237666130066, accuracy: 0.5625\n",
            "Batch [176/400], loss: 1.2251359224319458, accuracy: 0.578125\n",
            "Batch [177/400], loss: 1.3563796281814575, accuracy: 0.640625\n",
            "Batch [178/400], loss: 1.3538477420806885, accuracy: 0.546875\n",
            "Batch [179/400], loss: 1.2900470495224, accuracy: 0.5625\n",
            "Batch [180/400], loss: 1.2821428775787354, accuracy: 0.515625\n",
            "Batch [181/400], loss: 0.7614675760269165, accuracy: 0.78125\n",
            "Batch [182/400], loss: 1.2549991607666016, accuracy: 0.71875\n",
            "Batch [183/400], loss: 1.019897699356079, accuracy: 0.65625\n",
            "Batch [184/400], loss: 1.259156584739685, accuracy: 0.5625\n",
            "Batch [185/400], loss: 1.1856318712234497, accuracy: 0.625\n",
            "Batch [186/400], loss: 1.1632318496704102, accuracy: 0.59375\n",
            "Batch [187/400], loss: 0.9891661405563354, accuracy: 0.734375\n",
            "Batch [188/400], loss: 1.4501245021820068, accuracy: 0.53125\n",
            "Batch [189/400], loss: 1.2764301300048828, accuracy: 0.625\n",
            "Batch [190/400], loss: 1.2907965183258057, accuracy: 0.546875\n",
            "Batch [191/400], loss: 1.0421704053878784, accuracy: 0.671875\n",
            "Batch [192/400], loss: 1.1862961053848267, accuracy: 0.59375\n",
            "Batch [193/400], loss: 0.9506245851516724, accuracy: 0.65625\n",
            "Batch [194/400], loss: 0.9261757731437683, accuracy: 0.65625\n",
            "Batch [195/400], loss: 1.5101654529571533, accuracy: 0.515625\n",
            "Batch [196/400], loss: 1.4467147588729858, accuracy: 0.46875\n",
            "Batch [197/400], loss: 1.2895861864089966, accuracy: 0.546875\n",
            "Batch [198/400], loss: 1.501479148864746, accuracy: 0.546875\n",
            "Batch [199/400], loss: 1.7500663995742798, accuracy: 0.375\n",
            "Batch [200/400], loss: 1.164775013923645, accuracy: 0.65625\n",
            "Batch [201/400], loss: 1.368651032447815, accuracy: 0.484375\n",
            "Batch [202/400], loss: 1.2342079877853394, accuracy: 0.5625\n",
            "Batch [203/400], loss: 1.4230648279190063, accuracy: 0.53125\n",
            "Batch [204/400], loss: 1.0733704566955566, accuracy: 0.65625\n",
            "Batch [205/400], loss: 1.3429993391036987, accuracy: 0.59375\n",
            "Batch [206/400], loss: 1.4382100105285645, accuracy: 0.4375\n",
            "Batch [207/400], loss: 1.2563397884368896, accuracy: 0.609375\n",
            "Batch [208/400], loss: 1.3528177738189697, accuracy: 0.546875\n",
            "Batch [209/400], loss: 1.3856346607208252, accuracy: 0.53125\n",
            "Batch [210/400], loss: 1.1535426378250122, accuracy: 0.625\n",
            "Batch [211/400], loss: 1.2033647298812866, accuracy: 0.609375\n",
            "Batch [212/400], loss: 1.1717629432678223, accuracy: 0.53125\n",
            "Batch [213/400], loss: 1.0634357929229736, accuracy: 0.640625\n",
            "Batch [214/400], loss: 1.449819803237915, accuracy: 0.5\n",
            "Batch [215/400], loss: 1.4419595003128052, accuracy: 0.515625\n",
            "Batch [216/400], loss: 1.249491810798645, accuracy: 0.59375\n",
            "Batch [217/400], loss: 1.2782483100891113, accuracy: 0.625\n",
            "Batch [218/400], loss: 1.3902573585510254, accuracy: 0.5\n",
            "Batch [219/400], loss: 1.1356502771377563, accuracy: 0.65625\n",
            "Batch [220/400], loss: 1.5485094785690308, accuracy: 0.515625\n",
            "Batch [221/400], loss: 1.084287405014038, accuracy: 0.671875\n",
            "Batch [222/400], loss: 1.1902656555175781, accuracy: 0.5625\n",
            "Batch [223/400], loss: 1.2723196744918823, accuracy: 0.546875\n",
            "Batch [224/400], loss: 1.417365550994873, accuracy: 0.53125\n",
            "Batch [225/400], loss: 1.0544413328170776, accuracy: 0.703125\n",
            "Batch [226/400], loss: 1.114942193031311, accuracy: 0.59375\n",
            "Batch [227/400], loss: 1.3172831535339355, accuracy: 0.5\n",
            "Batch [228/400], loss: 1.4249639511108398, accuracy: 0.5625\n",
            "Batch [229/400], loss: 1.2464547157287598, accuracy: 0.5625\n",
            "Batch [230/400], loss: 1.448357343673706, accuracy: 0.5\n",
            "Batch [231/400], loss: 1.2835307121276855, accuracy: 0.609375\n",
            "Batch [232/400], loss: 1.3519006967544556, accuracy: 0.5\n",
            "Batch [233/400], loss: 1.2434635162353516, accuracy: 0.609375\n",
            "Batch [234/400], loss: 1.331040382385254, accuracy: 0.625\n",
            "Batch [235/400], loss: 1.1509864330291748, accuracy: 0.703125\n",
            "Batch [236/400], loss: 1.0756690502166748, accuracy: 0.625\n",
            "Batch [237/400], loss: 1.3081369400024414, accuracy: 0.578125\n",
            "Batch [238/400], loss: 1.0347660779953003, accuracy: 0.6875\n",
            "Batch [239/400], loss: 1.1759804487228394, accuracy: 0.59375\n",
            "Batch [240/400], loss: 1.0736258029937744, accuracy: 0.671875\n",
            "Batch [241/400], loss: 1.193171739578247, accuracy: 0.6875\n",
            "Batch [242/400], loss: 1.1786545515060425, accuracy: 0.578125\n",
            "Batch [243/400], loss: 0.9237911105155945, accuracy: 0.703125\n",
            "Batch [244/400], loss: 1.1710180044174194, accuracy: 0.59375\n",
            "Batch [245/400], loss: 1.132306694984436, accuracy: 0.625\n",
            "Batch [246/400], loss: 1.1850720643997192, accuracy: 0.65625\n",
            "Batch [247/400], loss: 0.9744139909744263, accuracy: 0.671875\n",
            "Batch [248/400], loss: 1.4440876245498657, accuracy: 0.5\n",
            "Batch [249/400], loss: 1.1188451051712036, accuracy: 0.65625\n",
            "Batch [250/400], loss: 1.0540927648544312, accuracy: 0.640625\n",
            "Batch [251/400], loss: 1.3304892778396606, accuracy: 0.546875\n",
            "Batch [252/400], loss: 1.097264289855957, accuracy: 0.65625\n",
            "Batch [253/400], loss: 1.1167875528335571, accuracy: 0.6875\n",
            "Batch [254/400], loss: 1.2947003841400146, accuracy: 0.53125\n",
            "Batch [255/400], loss: 1.31785249710083, accuracy: 0.53125\n",
            "Batch [256/400], loss: 1.1832337379455566, accuracy: 0.609375\n",
            "Batch [257/400], loss: 1.3020317554473877, accuracy: 0.5\n",
            "Batch [258/400], loss: 1.233250379562378, accuracy: 0.59375\n",
            "Batch [259/400], loss: 1.1101726293563843, accuracy: 0.609375\n",
            "Batch [260/400], loss: 1.3508079051971436, accuracy: 0.546875\n",
            "Batch [261/400], loss: 1.1934870481491089, accuracy: 0.65625\n",
            "Batch [262/400], loss: 1.2264639139175415, accuracy: 0.640625\n",
            "Batch [263/400], loss: 0.9422797560691833, accuracy: 0.71875\n",
            "Batch [264/400], loss: 1.162072777748108, accuracy: 0.625\n",
            "Batch [265/400], loss: 1.5054773092269897, accuracy: 0.421875\n",
            "Batch [266/400], loss: 1.5236130952835083, accuracy: 0.46875\n",
            "Batch [267/400], loss: 1.3894473314285278, accuracy: 0.515625\n",
            "Batch [268/400], loss: 1.1103620529174805, accuracy: 0.65625\n",
            "Batch [269/400], loss: 1.4192577600479126, accuracy: 0.53125\n",
            "Batch [270/400], loss: 1.1605620384216309, accuracy: 0.578125\n",
            "Batch [271/400], loss: 1.3778709173202515, accuracy: 0.578125\n",
            "Batch [272/400], loss: 1.5397142171859741, accuracy: 0.484375\n",
            "Batch [273/400], loss: 1.2509392499923706, accuracy: 0.515625\n",
            "Batch [274/400], loss: 1.095726490020752, accuracy: 0.625\n",
            "Batch [275/400], loss: 1.4738943576812744, accuracy: 0.484375\n",
            "Batch [276/400], loss: 1.1453758478164673, accuracy: 0.671875\n",
            "Batch [277/400], loss: 1.284836769104004, accuracy: 0.546875\n",
            "Batch [278/400], loss: 1.2183713912963867, accuracy: 0.609375\n",
            "Batch [279/400], loss: 1.2413058280944824, accuracy: 0.59375\n",
            "Batch [280/400], loss: 1.365317702293396, accuracy: 0.546875\n",
            "Batch [281/400], loss: 1.2163505554199219, accuracy: 0.5\n",
            "Batch [282/400], loss: 1.0987811088562012, accuracy: 0.640625\n",
            "Batch [283/400], loss: 1.2700871229171753, accuracy: 0.625\n",
            "Batch [284/400], loss: 1.29917573928833, accuracy: 0.546875\n",
            "Batch [285/400], loss: 1.549597978591919, accuracy: 0.5625\n",
            "Batch [286/400], loss: 1.363874912261963, accuracy: 0.546875\n",
            "Batch [287/400], loss: 1.28180730342865, accuracy: 0.515625\n",
            "Batch [288/400], loss: 1.4076261520385742, accuracy: 0.53125\n",
            "Batch [289/400], loss: 1.067907452583313, accuracy: 0.671875\n",
            "Batch [290/400], loss: 1.0499987602233887, accuracy: 0.65625\n",
            "Batch [291/400], loss: 1.2206631898880005, accuracy: 0.578125\n",
            "Batch [292/400], loss: 1.0312371253967285, accuracy: 0.71875\n",
            "Batch [293/400], loss: 1.3833059072494507, accuracy: 0.515625\n",
            "Batch [294/400], loss: 1.3478895425796509, accuracy: 0.5\n",
            "Batch [295/400], loss: 1.3281278610229492, accuracy: 0.59375\n",
            "Batch [296/400], loss: 1.0064547061920166, accuracy: 0.59375\n",
            "Batch [297/400], loss: 1.0944370031356812, accuracy: 0.640625\n",
            "Batch [298/400], loss: 1.3148967027664185, accuracy: 0.53125\n",
            "Batch [299/400], loss: 1.230352759361267, accuracy: 0.546875\n",
            "Batch [300/400], loss: 1.5409108400344849, accuracy: 0.4375\n",
            "Batch [301/400], loss: 1.269357442855835, accuracy: 0.546875\n",
            "Batch [302/400], loss: 1.3291661739349365, accuracy: 0.546875\n",
            "Batch [303/400], loss: 1.3715046644210815, accuracy: 0.5625\n",
            "Batch [304/400], loss: 1.274312138557434, accuracy: 0.546875\n",
            "Batch [305/400], loss: 1.3322950601577759, accuracy: 0.5625\n",
            "Batch [306/400], loss: 1.05465567111969, accuracy: 0.671875\n",
            "Batch [307/400], loss: 1.3048884868621826, accuracy: 0.59375\n",
            "Batch [308/400], loss: 1.3356194496154785, accuracy: 0.578125\n",
            "Batch [309/400], loss: 1.3453552722930908, accuracy: 0.546875\n",
            "Batch [310/400], loss: 1.299675464630127, accuracy: 0.546875\n",
            "Batch [311/400], loss: 1.1057684421539307, accuracy: 0.640625\n",
            "Batch [312/400], loss: 0.9501607418060303, accuracy: 0.71875\n",
            "Batch [313/400], loss: 1.3614951372146606, accuracy: 0.546875\n",
            "Batch [314/400], loss: 1.0684800148010254, accuracy: 0.703125\n",
            "Batch [315/400], loss: 1.0870254039764404, accuracy: 0.609375\n",
            "Batch [316/400], loss: 1.438356876373291, accuracy: 0.5\n",
            "Batch [317/400], loss: 1.2770920991897583, accuracy: 0.5625\n",
            "Batch [318/400], loss: 1.1894608736038208, accuracy: 0.625\n",
            "Batch [319/400], loss: 1.3639373779296875, accuracy: 0.59375\n",
            "Batch [320/400], loss: 1.4183611869812012, accuracy: 0.53125\n",
            "Batch [321/400], loss: 1.4916356801986694, accuracy: 0.484375\n",
            "Batch [322/400], loss: 1.3291585445404053, accuracy: 0.5\n",
            "Batch [323/400], loss: 1.2179023027420044, accuracy: 0.5625\n",
            "Batch [324/400], loss: 1.5699427127838135, accuracy: 0.546875\n",
            "Batch [325/400], loss: 1.2511227130889893, accuracy: 0.609375\n",
            "Batch [326/400], loss: 1.149997353553772, accuracy: 0.65625\n",
            "Batch [327/400], loss: 1.4383633136749268, accuracy: 0.515625\n",
            "Batch [328/400], loss: 1.4511164426803589, accuracy: 0.546875\n",
            "Batch [329/400], loss: 1.117926001548767, accuracy: 0.625\n",
            "Batch [330/400], loss: 1.5807206630706787, accuracy: 0.5\n",
            "Batch [331/400], loss: 1.2176252603530884, accuracy: 0.59375\n",
            "Batch [332/400], loss: 1.2732527256011963, accuracy: 0.5625\n",
            "Batch [333/400], loss: 1.5471476316452026, accuracy: 0.5\n",
            "Batch [334/400], loss: 1.178876519203186, accuracy: 0.625\n",
            "Batch [335/400], loss: 1.2464628219604492, accuracy: 0.53125\n",
            "Batch [336/400], loss: 1.1091240644454956, accuracy: 0.625\n",
            "Batch [337/400], loss: 1.2716306447982788, accuracy: 0.609375\n",
            "Batch [338/400], loss: 1.3462951183319092, accuracy: 0.59375\n",
            "Batch [339/400], loss: 1.2846804857254028, accuracy: 0.546875\n",
            "Batch [340/400], loss: 1.1765549182891846, accuracy: 0.703125\n",
            "Batch [341/400], loss: 1.294026255607605, accuracy: 0.59375\n",
            "Batch [342/400], loss: 1.2753756046295166, accuracy: 0.65625\n",
            "Batch [343/400], loss: 1.28444504737854, accuracy: 0.546875\n",
            "Batch [344/400], loss: 1.3498144149780273, accuracy: 0.53125\n",
            "Batch [345/400], loss: 1.5790387392044067, accuracy: 0.53125\n",
            "Batch [346/400], loss: 1.427405595779419, accuracy: 0.5625\n",
            "Batch [347/400], loss: 1.6553837060928345, accuracy: 0.421875\n",
            "Batch [348/400], loss: 1.2211946249008179, accuracy: 0.5625\n",
            "Batch [349/400], loss: 1.248327612876892, accuracy: 0.625\n",
            "Batch [350/400], loss: 1.345658302307129, accuracy: 0.5625\n",
            "Batch [351/400], loss: 1.283812165260315, accuracy: 0.546875\n",
            "Batch [352/400], loss: 1.3769257068634033, accuracy: 0.578125\n",
            "Batch [353/400], loss: 1.2690887451171875, accuracy: 0.578125\n",
            "Batch [354/400], loss: 1.405983805656433, accuracy: 0.546875\n",
            "Batch [355/400], loss: 1.32358717918396, accuracy: 0.578125\n",
            "Batch [356/400], loss: 1.3275455236434937, accuracy: 0.59375\n",
            "Batch [357/400], loss: 1.192156434059143, accuracy: 0.5625\n",
            "Batch [358/400], loss: 1.1910045146942139, accuracy: 0.578125\n",
            "Batch [359/400], loss: 1.1137330532073975, accuracy: 0.609375\n",
            "Batch [360/400], loss: 1.0579005479812622, accuracy: 0.65625\n",
            "Batch [361/400], loss: 1.1775935888290405, accuracy: 0.5625\n",
            "Batch [362/400], loss: 1.1213188171386719, accuracy: 0.65625\n",
            "Batch [363/400], loss: 1.0506144762039185, accuracy: 0.65625\n",
            "Batch [364/400], loss: 1.0879465341567993, accuracy: 0.6875\n",
            "Batch [365/400], loss: 1.1614484786987305, accuracy: 0.609375\n",
            "Batch [366/400], loss: 1.2938920259475708, accuracy: 0.609375\n",
            "Batch [367/400], loss: 1.0422253608703613, accuracy: 0.65625\n",
            "Batch [368/400], loss: 1.3355215787887573, accuracy: 0.546875\n",
            "Batch [369/400], loss: 1.623787522315979, accuracy: 0.46875\n",
            "Batch [370/400], loss: 1.298251748085022, accuracy: 0.5\n",
            "Batch [371/400], loss: 1.4766461849212646, accuracy: 0.578125\n",
            "Batch [372/400], loss: 1.1430875062942505, accuracy: 0.65625\n",
            "Batch [373/400], loss: 1.2295303344726562, accuracy: 0.609375\n",
            "Batch [374/400], loss: 1.1034642457962036, accuracy: 0.6875\n",
            "Batch [375/400], loss: 1.0530644655227661, accuracy: 0.625\n",
            "Batch [376/400], loss: 1.4432400465011597, accuracy: 0.5625\n",
            "Batch [377/400], loss: 1.5537831783294678, accuracy: 0.5\n",
            "Batch [378/400], loss: 1.2894576787948608, accuracy: 0.484375\n",
            "Batch [379/400], loss: 1.6988195180892944, accuracy: 0.40625\n",
            "Batch [380/400], loss: 1.2436144351959229, accuracy: 0.546875\n",
            "Batch [381/400], loss: 0.979637622833252, accuracy: 0.71875\n",
            "Batch [382/400], loss: 1.2647032737731934, accuracy: 0.546875\n",
            "Batch [383/400], loss: 1.334723949432373, accuracy: 0.484375\n",
            "Batch [384/400], loss: 1.5672903060913086, accuracy: 0.546875\n",
            "Batch [385/400], loss: 1.2055200338363647, accuracy: 0.59375\n",
            "Batch [386/400], loss: 1.32905113697052, accuracy: 0.546875\n",
            "Batch [387/400], loss: 1.1801542043685913, accuracy: 0.703125\n",
            "Batch [388/400], loss: 1.3632726669311523, accuracy: 0.46875\n",
            "Batch [389/400], loss: 1.276530146598816, accuracy: 0.546875\n",
            "Batch [390/400], loss: 1.2361276149749756, accuracy: 0.609375\n",
            "Batch [391/400], loss: 1.1681153774261475, accuracy: 0.625\n",
            "Batch [392/400], loss: 1.0326552391052246, accuracy: 0.65625\n",
            "Batch [393/400], loss: 1.3202049732208252, accuracy: 0.5625\n",
            "Batch [394/400], loss: 1.0322848558425903, accuracy: 0.703125\n",
            "Batch [395/400], loss: 1.2356362342834473, accuracy: 0.625\n",
            "Batch [396/400], loss: 0.92576003074646, accuracy: 0.703125\n",
            "Batch [397/400], loss: 1.100953221321106, accuracy: 0.609375\n",
            "Batch [398/400], loss: 1.0632776021957397, accuracy: 0.6875\n",
            "Batch [399/400], loss: 1.261519193649292, accuracy: 0.515625\n",
            "Batch [400/400], loss: 0.989091694355011, accuracy: 0.671875\n"
          ]
        },
        {
          "output_type": "execute_result",
          "data": {
            "text/plain": [
              "(1.2472447480261326, 0.5876953125)"
            ]
          },
          "metadata": {},
          "execution_count": 140
        }
      ],
      "execution_count": 140
    },
    {
      "metadata": {
        "ExecuteTime": {
          "end_time": "2024-06-07T13:03:41.259991Z",
          "start_time": "2024-06-07T13:03:41.253014Z"
        },
        "colab": {
          "base_uri": "https://localhost:8080/"
        },
        "id": "3810482fe9e960bf",
        "outputId": "72fe584e-ce92-4067-d3ba-8a2201f5b156"
      },
      "cell_type": "code",
      "source": [
        "def eye_test(model,puzzle):\n",
        "    tensor=puzzle_to_tensor(puzzle).cuda()\n",
        "    out=model.forward(tensor)\n",
        "    return sorted(zip(expected_tags_list,out.squeeze().tolist()),key=lambda x:-x[1]),puzzle.tags\n",
        "\n",
        "eye_test(model,filter_data(load(100))[0])"
      ],
      "id": "3810482fe9e960bf",
      "outputs": [
        {
          "output_type": "execute_result",
          "data": {
            "text/plain": [
              "([('fork', -1.4675472974777222),\n",
              "  ('pin', -1.603792667388916),\n",
              "  ('deflection', -1.910166621208191),\n",
              "  ('discoveredAttack', -2.044569969177246),\n",
              "  ('sacrifice', -2.3274528980255127),\n",
              "  ('skewer', -2.652303695678711),\n",
              "  ('attraction', -2.8906779289245605),\n",
              "  ('clearance', -3.056910991668701),\n",
              "  ('xRayAttack', -4.553966999053955),\n",
              "  ('doubleCheck', -4.743531227111816),\n",
              "  ('zugzwang', -6.8599348068237305)],\n",
              " ['crushing', 'endgame', 'exposedKing', 'long', 'skewer'])"
            ]
          },
          "metadata": {},
          "execution_count": 141
        }
      ],
      "execution_count": 141
    }
  ],
  "metadata": {
    "kernelspec": {
      "display_name": "Python 3",
      "name": "python3"
    },
    "language_info": {
      "codemirror_mode": {
        "name": "ipython",
        "version": 2
      },
      "file_extension": ".py",
      "mimetype": "text/x-python",
      "name": "python",
      "nbconvert_exporter": "python",
      "pygments_lexer": "ipython2",
      "version": "2.7.6"
    },
    "colab": {
      "provenance": [],
      "gpuType": "T4"
    },
    "accelerator": "GPU"
  },
  "nbformat": 4,
  "nbformat_minor": 5
}