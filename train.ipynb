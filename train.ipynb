{
 "cells": [
  {
   "cell_type": "code",
   "source": [
    "import wandb\n",
    "import pathlib\n",
    "import urllib\n",
    "import zstandard\n",
    "import chess\n",
    "import torch\n",
    "import numpy as np\n",
    "from torch import nn\n",
    "import math\n",
    "import time\n",
    "\n",
    "from torch.nn import init\n",
    "from torch.utils.data import DataLoader\n",
    "from torchinfo import summary"
   ],
   "metadata": {
    "collapsed": false,
    "ExecuteTime": {
     "end_time": "2024-06-17T02:32:40.798079Z",
     "start_time": "2024-06-17T02:32:37.253526Z"
    }
   },
   "id": "3717b89548581ad7",
   "outputs": [],
   "execution_count": 1
  },
  {
   "cell_type": "code",
   "source": [
    "BATCH_SIZE = 64\n",
    "DEVICE = torch.device(\"cuda\" if torch.cuda.is_available() else \"cpu\")\n",
    "print(\"DEVICE: \" + str(DEVICE))"
   ],
   "metadata": {
    "collapsed": false,
    "ExecuteTime": {
     "end_time": "2024-06-17T02:32:40.834815Z",
     "start_time": "2024-06-17T02:32:40.799082Z"
    }
   },
   "id": "3840fbf671584691",
   "outputs": [
    {
     "name": "stdout",
     "output_type": "stream",
     "text": [
      "DEVICE: cuda\n"
     ]
    }
   ],
   "execution_count": 2
  },
  {
   "cell_type": "code",
   "source": [
    "wandb.login()"
   ],
   "metadata": {
    "collapsed": false,
    "ExecuteTime": {
     "end_time": "2024-06-17T02:32:42.914601Z",
     "start_time": "2024-06-17T02:32:40.834815Z"
    }
   },
   "id": "749d49541eae5c3c",
   "outputs": [
    {
     "name": "stderr",
     "output_type": "stream",
     "text": [
      "wandb: Currently logged in as: spajro (spajro-chess). Use `wandb login --relogin` to force relogin\n"
     ]
    },
    {
     "data": {
      "text/plain": [
       "True"
      ]
     },
     "execution_count": 3,
     "metadata": {},
     "output_type": "execute_result"
    }
   ],
   "execution_count": 3
  },
  {
   "cell_type": "code",
   "source": [
    "dataset_train = torch.load('dataset_train.save')\n",
    "dataset_test = torch.load('dataset_test.save')\n",
    "dataset_valid = torch.load('dataset_valid.save')\n",
    "\n",
    "loader_train = DataLoader(dataset_train, batch_size=BATCH_SIZE, shuffle=True)\n",
    "loader_test = DataLoader(dataset_test, batch_size=BATCH_SIZE, shuffle=True)\n",
    "loader_valid = DataLoader(dataset_valid, batch_size=BATCH_SIZE, shuffle=True)\n",
    "\n",
    "print(\"Batches train\", len(loader_train))\n",
    "print(\"Batches valid\", len(loader_valid))\n",
    "print(\"Batches test\", len(loader_test))"
   ],
   "metadata": {
    "collapsed": false,
    "ExecuteTime": {
     "end_time": "2024-06-17T02:33:09.384292Z",
     "start_time": "2024-06-17T02:32:42.915604Z"
    }
   },
   "id": "95c90eee14b66964",
   "outputs": [
    {
     "name": "stdout",
     "output_type": "stream",
     "text": [
      "Batches train 12847\n",
      "Batches valid 500\n",
      "Batches test 500\n"
     ]
    }
   ],
   "execution_count": 4
  },
  {
   "cell_type": "code",
   "source": "DATA_SHAPE = (BATCH_SIZE,) +  tuple(dataset_train[0][0].shape)",
   "metadata": {
    "collapsed": false,
    "ExecuteTime": {
     "end_time": "2024-06-17T02:33:09.386716Z",
     "start_time": "2024-06-17T02:33:09.384292Z"
    }
   },
   "id": "e0c282a29dd4c497",
   "outputs": [],
   "execution_count": 5
  },
  {
   "cell_type": "code",
   "source": [
    "class Model(nn.Module):\n",
    "    def __init__(self, *args, **kwargs):\n",
    "        super(Model, self).__init__()\n",
    "        self.classifier = nn.Sequential(*args, **kwargs)\n",
    "\n",
    "\n",
    "    def init_xavier(self):\n",
    "        for m in self.modules():\n",
    "            if isinstance(m, nn.Conv2d) or isinstance(m, nn.Linear):\n",
    "                init.xavier_normal_(m.weight)\n",
    "    \n",
    "    def calc_accuracy(self, loader):\n",
    "        correct = 0\n",
    "        total = 0\n",
    "        self.eval()\n",
    "        with torch.no_grad():\n",
    "            for batch in loader:\n",
    "                features, labels = batch\n",
    "                labels = labels.to(DEVICE) \n",
    "                features = features.to(DEVICE)\n",
    "                outputs = self(features)\n",
    "                _, predicted = torch.max(outputs, 1)\n",
    "                total += labels.size(0) \n",
    "                correct += (predicted == labels).sum().item() \n",
    "        self.train()\n",
    "        return correct / total\n",
    "    \n",
    "    def forward(self, X):\n",
    "        return self.classifier.forward(X)\n",
    "\n",
    "\n"
   ],
   "metadata": {
    "collapsed": false,
    "ExecuteTime": {
     "end_time": "2024-06-17T02:33:09.393246Z",
     "start_time": "2024-06-17T02:33:09.386716Z"
    }
   },
   "id": "b8c2f22a343e5a2b",
   "outputs": [],
   "execution_count": 6
  },
  {
   "cell_type": "code",
   "source": [
    "def create_model0():\n",
    "    return Model(nn.Conv2d(21, 8 * 8, kernel_size=4, padding=4),\n",
    "                  nn.ReLU(),\n",
    "                  nn.Conv2d(8 * 8, 4 * 4, kernel_size=2, padding=4),\n",
    "                  nn.ReLU(),\n",
    "                  nn.MaxPool2d(kernel_size=4, stride=1),\n",
    "                  nn.Conv2d(4*4, 8 * 8, kernel_size=2, padding=4),\n",
    "                  nn.ReLU(),\n",
    "                  nn.Conv2d(8 * 8, 1, kernel_size=4, padding=4),\n",
    "                  nn.ReLU(),\n",
    "                  nn.Flatten(),\n",
    "                  nn.Linear(841, 256),\n",
    "                  nn.ReLU(),\n",
    "                  nn.Linear(256, 64),\n",
    "                  nn.ReLU(),\n",
    "                  nn.Linear(64, 11)\n",
    "                  )\n",
    "\n",
    "model0 = create_model0()\n",
    "architecture_summary = summary(model0, DATA_SHAPE)\n",
    "print(architecture_summary)"
   ],
   "metadata": {
    "collapsed": false,
    "ExecuteTime": {
     "end_time": "2024-06-17T02:33:09.648852Z",
     "start_time": "2024-06-17T02:33:09.393246Z"
    }
   },
   "id": "ddca523ca5fac242",
   "outputs": [
    {
     "name": "stderr",
     "output_type": "stream",
     "text": [
      "D:\\Projekty\\TacticsClassifier\\.venv\\Lib\\site-packages\\torch\\nn\\modules\\conv.py:456: UserWarning: Plan failed with a cudnnException: CUDNN_BACKEND_EXECUTION_PLAN_DESCRIPTOR: cudnnFinalize Descriptor Failed cudnn_status: CUDNN_STATUS_NOT_SUPPORTED (Triggered internally at ..\\aten\\src\\ATen\\native\\cudnn\\Conv_v8.cpp:919.)\n",
      "  return F.conv2d(input, weight, bias, self.stride,\n"
     ]
    },
    {
     "name": "stdout",
     "output_type": "stream",
     "text": [
      "==========================================================================================\n",
      "Layer (type:depth-idx)                   Output Shape              Param #\n",
      "==========================================================================================\n",
      "Model                                    [64, 11]                  --\n",
      "├─Sequential: 1-1                        --                        --\n",
      "│    └─Conv2d: 2-1                       [64, 64, 13, 13]          21,568\n",
      "│    └─ReLU: 2-2                         [64, 64, 13, 13]          --\n",
      "│    └─Conv2d: 2-3                       [64, 16, 20, 20]          4,112\n",
      "│    └─ReLU: 2-4                         [64, 16, 20, 20]          --\n",
      "│    └─MaxPool2d: 2-5                    [64, 16, 17, 17]          --\n",
      "│    └─Conv2d: 2-6                       [64, 64, 24, 24]          4,160\n",
      "│    └─ReLU: 2-7                         [64, 64, 24, 24]          --\n",
      "│    └─Conv2d: 2-8                       [64, 1, 29, 29]           1,025\n",
      "│    └─ReLU: 2-9                         [64, 1, 29, 29]           --\n",
      "│    └─Flatten: 2-10                     [64, 841]                 --\n",
      "│    └─Linear: 2-11                      [64, 256]                 215,552\n",
      "│    └─ReLU: 2-12                        [64, 256]                 --\n",
      "│    └─Linear: 2-13                      [64, 64]                  16,448\n",
      "│    └─ReLU: 2-14                        [64, 64]                  --\n",
      "│    └─Linear: 2-15                      [64, 11]                  715\n",
      "==========================================================================================\n",
      "Total params: 263,580\n",
      "Trainable params: 263,580\n",
      "Non-trainable params: 0\n",
      "Total mult-adds (Units.MEGABYTES): 561.96\n",
      "==========================================================================================\n",
      "Input size (MB): 0.34\n",
      "Forward/backward pass size (MB): 28.29\n",
      "Params size (MB): 1.05\n",
      "Estimated Total Size (MB): 29.69\n",
      "==========================================================================================\n"
     ]
    }
   ],
   "execution_count": 7
  },
  {
   "cell_type": "code",
   "source": [
    "def create_model1():\n",
    "    return Model(nn.Conv2d(21, 300, kernel_size=5, padding=5),\n",
    "                  nn.ReLU(),\n",
    "                  nn.Conv2d(300, 30, kernel_size=2, padding=2),\n",
    "                  nn.ReLU(),\n",
    "                  nn.Flatten(),\n",
    "                  nn.Dropout(0.5), \n",
    "                  nn.Linear(8670, 20),\n",
    "                  nn.ReLU(),\n",
    "                  nn.Linear(20, 11)\n",
    "                  )\n",
    "model1 = create_model1()\n",
    "architecture_summary = summary(model1, DATA_SHAPE)\n",
    "print(architecture_summary)"
   ],
   "metadata": {
    "collapsed": false,
    "ExecuteTime": {
     "end_time": "2024-06-17T02:33:09.688316Z",
     "start_time": "2024-06-17T02:33:09.648852Z"
    }
   },
   "id": "321aaf138bd4e8e0",
   "outputs": [
    {
     "name": "stdout",
     "output_type": "stream",
     "text": [
      "==========================================================================================\n",
      "Layer (type:depth-idx)                   Output Shape              Param #\n",
      "==========================================================================================\n",
      "Model                                    [64, 11]                  --\n",
      "├─Sequential: 1-1                        --                        --\n",
      "│    └─Conv2d: 2-1                       [64, 300, 14, 14]         157,800\n",
      "│    └─ReLU: 2-2                         [64, 300, 14, 14]         --\n",
      "│    └─Conv2d: 2-3                       [64, 30, 17, 17]          36,030\n",
      "│    └─ReLU: 2-4                         [64, 30, 17, 17]          --\n",
      "│    └─Flatten: 2-5                      [64, 8670]                --\n",
      "│    └─Dropout: 2-6                      [64, 8670]                --\n",
      "│    └─Linear: 2-7                       [64, 20]                  173,420\n",
      "│    └─ReLU: 2-8                         [64, 20]                  --\n",
      "│    └─Linear: 2-9                       [64, 11]                  231\n",
      "==========================================================================================\n",
      "Total params: 367,481\n",
      "Trainable params: 367,481\n",
      "Non-trainable params: 0\n",
      "Total mult-adds (Units.GIGABYTES): 2.66\n",
      "==========================================================================================\n",
      "Input size (MB): 0.34\n",
      "Forward/backward pass size (MB): 34.56\n",
      "Params size (MB): 1.47\n",
      "Estimated Total Size (MB): 36.37\n",
      "==========================================================================================\n"
     ]
    }
   ],
   "execution_count": 8
  },
  {
   "cell_type": "code",
   "source": [
    "def create_model2():\n",
    "    return Model(nn.Conv2d(21, 300, kernel_size=5, padding=5),\n",
    "                  nn.ReLU(),\n",
    "                  nn.BatchNorm2d(300),\n",
    "                  nn.Conv2d(300, 30, kernel_size=2, padding=2),\n",
    "                  nn.ReLU(),\n",
    "                  nn.BatchNorm2d(30),\n",
    "                  nn.Conv2d(30, 30, kernel_size=2, padding=2),\n",
    "                  nn.ReLU(),\n",
    "                  nn.Flatten(),\n",
    "                  nn.Dropout(0.5), \n",
    "                  nn.Linear(12000, 30),\n",
    "                  nn.ReLU(),\n",
    "                  nn.Linear(30, 11)\n",
    "                  )\n",
    "model2 = create_model2()\n",
    "architecture_summary = summary(model2, DATA_SHAPE)\n",
    "print(architecture_summary)"
   ],
   "metadata": {
    "collapsed": false,
    "ExecuteTime": {
     "end_time": "2024-06-17T02:33:09.700839Z",
     "start_time": "2024-06-17T02:33:09.688316Z"
    }
   },
   "id": "48f342f0f526c13a",
   "outputs": [
    {
     "name": "stdout",
     "output_type": "stream",
     "text": [
      "==========================================================================================\n",
      "Layer (type:depth-idx)                   Output Shape              Param #\n",
      "==========================================================================================\n",
      "Model                                    [64, 11]                  --\n",
      "├─Sequential: 1-1                        --                        --\n",
      "│    └─Conv2d: 2-1                       [64, 300, 14, 14]         157,800\n",
      "│    └─ReLU: 2-2                         [64, 300, 14, 14]         --\n",
      "│    └─BatchNorm2d: 2-3                  [64, 300, 14, 14]         600\n",
      "│    └─Conv2d: 2-4                       [64, 30, 17, 17]          36,030\n",
      "│    └─ReLU: 2-5                         [64, 30, 17, 17]          --\n",
      "│    └─BatchNorm2d: 2-6                  [64, 30, 17, 17]          60\n",
      "│    └─Conv2d: 2-7                       [64, 30, 20, 20]          3,630\n",
      "│    └─ReLU: 2-8                         [64, 30, 20, 20]          --\n",
      "│    └─Flatten: 2-9                      [64, 12000]               --\n",
      "│    └─Dropout: 2-10                     [64, 12000]               --\n",
      "│    └─Linear: 2-11                      [64, 30]                  360,030\n",
      "│    └─ReLU: 2-12                        [64, 30]                  --\n",
      "│    └─Linear: 2-13                      [64, 11]                  341\n",
      "==========================================================================================\n",
      "Total params: 558,491\n",
      "Trainable params: 558,491\n",
      "Non-trainable params: 0\n",
      "Total mult-adds (Units.GIGABYTES): 2.76\n",
      "==========================================================================================\n",
      "Input size (MB): 0.34\n",
      "Forward/backward pass size (MB): 75.25\n",
      "Params size (MB): 2.23\n",
      "Estimated Total Size (MB): 77.83\n",
      "==========================================================================================\n"
     ]
    }
   ],
   "execution_count": 9
  },
  {
   "cell_type": "code",
   "source": [
    "CREATE_MODELS_LIST = [create_model0, create_model1, create_model2]\n",
    "def create_model(model_number:int):\n",
    "    return CREATE_MODELS_LIST[model_number]()"
   ],
   "metadata": {
    "collapsed": false,
    "ExecuteTime": {
     "end_time": "2024-06-17T02:33:09.704431Z",
     "start_time": "2024-06-17T02:33:09.701842Z"
    }
   },
   "id": "23091914b59e0b0b",
   "outputs": [],
   "execution_count": 10
  },
  {
   "cell_type": "code",
   "source": [
    "def accuracy(out,truth):\n",
    "    return torch.argmax(out,dim=1) == truth\n",
    "def train(model, criterion, optimizer, epoch):\n",
    "    model = model.to(DEVICE)\n",
    "    model.init_xavier()\n",
    "    criterion = criterion.to(DEVICE)\n",
    "    batches_amount = len(loader_train)\n",
    "    \n",
    "    for i in range(epoch):\n",
    "        time_started = time.time() * 1000\n",
    "        loss_sum=0.0\n",
    "        accuracy_sum=0.0\n",
    "        for batch, truth in loader_train:\n",
    "            batch = batch.to(DEVICE)\n",
    "            truth = truth.to(DEVICE)\n",
    "            \n",
    "            optimizer.zero_grad()\n",
    "            out = model.forward(batch)\n",
    "            loss = criterion(out, truth)\n",
    "            loss.backward()\n",
    "            optimizer.step()\n",
    "            \n",
    "            accuracy_value = accuracy(out,truth).sum()/BATCH_SIZE\n",
    "\n",
    "            loss_sum+=loss.item()\n",
    "            accuracy_sum+=accuracy_value.item()\n",
    "\n",
    "        passed_time = math.ceil(time.time() * 1000 - time_started)\n",
    "        loss_average = loss_sum/batches_amount\n",
    "        accuracy_average = accuracy_sum/batches_amount\n",
    "        validation_accuracy = model.calc_accuracy(loader_valid)\n",
    "\n",
    "        print(f\"Epoch [{i+1}/{epoch}], train_loss: {loss_average}, train_accuracy: {accuracy_average}, validation_accuracy: {validation_accuracy}, time: {passed_time/1000}s\")\n",
    "        wandb.log({\n",
    "            \"epoch\": i + 1, \n",
    "            \"train_loss\": loss_average, \n",
    "            \"train_accuracy\" : accuracy_average,\n",
    "            \"validation_accuracy\" : validation_accuracy}\n",
    "        )"
   ],
   "metadata": {
    "collapsed": false,
    "ExecuteTime": {
     "end_time": "2024-06-17T02:33:09.713157Z",
     "start_time": "2024-06-17T02:33:09.704431Z"
    }
   },
   "id": "d98ba8fed2176402",
   "outputs": [],
   "execution_count": 11
  },
  {
   "cell_type": "code",
   "source": [
    "### SWEEP CONFIG FOR TESTS\n",
    "sweep_config = {\n",
    "    'method': 'bayes',  # random, grid or bayes\n",
    "    'name': 'sweep-chess-tactics',\n",
    "    'metric': {\n",
    "        'goal': 'maximize', \n",
    "        'name': 'validation_accuracy'\n",
    "    },\n",
    "    'parameters': {\n",
    "        'epochs': {\n",
    "            # 'values': [5, 10, 30]\n",
    "            'values': [20]\n",
    "        },\n",
    "        'learning_rate': {\n",
    "            # 'values': [0.003, 0.001, 0.0003]\n",
    "            'values': [0.001]\n",
    "        },\n",
    "        'optimizer': {\n",
    "            # 'values': ['sgd', 'adam']\n",
    "            'values': ['adam']\n",
    "        },\n",
    "        'criterion': {\n",
    "            'values': ['CrossEntropy']\n",
    "        },\n",
    "        'model': {\n",
    "            # 'values': list(range(len(MODELS_LIST)))\n",
    "            'values': [2]\n",
    "        }\n",
    "     },\n",
    "\n",
    "}"
   ],
   "metadata": {
    "collapsed": false,
    "ExecuteTime": {
     "end_time": "2024-06-17T02:33:09.721782Z",
     "start_time": "2024-06-17T02:33:09.713157Z"
    }
   },
   "id": "8f522f2b58513c5c",
   "outputs": [],
   "execution_count": 12
  },
  {
   "cell_type": "code",
   "source": [
    "### MAIN SWEEP CONFIG\n",
    "sweep_config = {\n",
    "    'method': 'bayes',  # random, grid or bayes\n",
    "    'name': 'sweep-chess-tactics',\n",
    "    'metric': {\n",
    "        'goal': 'maximize', \n",
    "        'name': 'validation_accuracy'\n",
    "    },\n",
    "    'parameters': {\n",
    "        'epochs': {\n",
    "            # 'values': [5, 10, 30]\n",
    "            'values': [20]\n",
    "        },\n",
    "        'learning_rate': {\n",
    "            # 'values': [0.003, 0.001, 0.0003]\n",
    "            'values': [0.0003, 0.001, 0.005], \n",
    "        },\n",
    "        'optimizer': {\n",
    "            'values': ['adam']\n",
    "        },\n",
    "        'criterion': {\n",
    "            'values': ['CrossEntropy']\n",
    "        },\n",
    "        'model': {\n",
    "            'values': list(range(len(CREATE_MODELS_LIST)))\n",
    "        }\n",
    "     },\n",
    "\n",
    "}"
   ],
   "metadata": {
    "collapsed": false,
    "ExecuteTime": {
     "end_time": "2024-06-17T02:33:09.727653Z",
     "start_time": "2024-06-17T02:33:09.721782Z"
    }
   },
   "id": "a7e4340b9fb8d2ca",
   "outputs": [],
   "execution_count": 13
  },
  {
   "cell_type": "code",
   "source": [
    "sweep_id = 'cua8zqmh'  # aby kontynuowac trening na poprzednim sweepie"
   ],
   "metadata": {
    "collapsed": false,
    "ExecuteTime": {
     "end_time": "2024-06-17T02:33:09.742826Z",
     "start_time": "2024-06-17T02:33:09.727653Z"
    }
   },
   "id": "cb3f1d5df8df3058",
   "outputs": [],
   "execution_count": 14
  },
  {
   "cell_type": "code",
   "source": [
    "sweep_id = wandb.sweep(sweep_config, project=\"chess-tactics-swp\")"
   ],
   "metadata": {
    "collapsed": false,
    "ExecuteTime": {
     "end_time": "2024-06-17T02:33:19.844694Z",
     "start_time": "2024-06-17T02:33:09.742826Z"
    }
   },
   "id": "fe386d598ebd0861",
   "outputs": [
    {
     "name": "stdout",
     "output_type": "stream",
     "text": [
      "Create sweep with ID: pu99pny3\n",
      "Sweep URL: https://wandb.ai/spajro-chess/chess-tactics-swp/sweeps/pu99pny3\n"
     ]
    }
   ],
   "execution_count": 15
  },
  {
   "cell_type": "code",
   "source": [
    "\n",
    "\n",
    "def create_optimizer(model, optimizer):\n",
    "    if optimizer == \"sgd\":\n",
    "        optimizer = torch.optim.SGD\n",
    "    elif optimizer == \"adam\":\n",
    "        optimizer = torch.optim.Adam\n",
    "    return optimizer\n",
    "\n",
    "def create_criterion(criterion = \"CrossEntropy\"):\n",
    "    if criterion == \"CrossEntropy\":\n",
    "        return nn.CrossEntropyLoss()\n",
    "\n",
    "def main():\n",
    "    with wandb.init(config=None) as run:\n",
    "        config = wandb.config\n",
    "        run.name = f\"model{config['model']}_epochs{config['epochs']}_learning_rate{config['learning_rate']}_optimizer{config['optimizer']}\"\n",
    "        \n",
    "        model = create_model(int(config['model']))\n",
    "        opt_fn = create_optimizer(model, wandb.config.optimizer)\n",
    "        crt_fn = create_criterion(wandb.config.criterion)\n",
    "        train(model, crt_fn, opt_fn(model.classifier.parameters(), lr=wandb.config.learning_rate), wandb.config.epochs)\n",
    "        model_path = f\"{run.name}.save\"\n",
    "        torch.save(model, model_path)\n",
    "\n",
    "\n",
    "wandb.agent(sweep_id, main)"
   ],
   "metadata": {
    "collapsed": false,
    "is_executing": true,
    "ExecuteTime": {
     "end_time": "2024-06-17T02:49:48.058877Z",
     "start_time": "2024-06-17T02:33:19.844694Z"
    }
   },
   "id": "c1f4cfec80ac3f97",
   "outputs": [
    {
     "name": "stderr",
     "output_type": "stream",
     "text": [
      "wandb: Agent Starting Run: d84bdh97 with config:\n",
      "wandb: \tcriterion: CrossEntropy\n",
      "wandb: \tepochs: 20\n",
      "wandb: \tlearning_rate: 0.01\n",
      "wandb: \tmodel: 1\n",
      "wandb: \toptimizer: adam\n"
     ]
    },
    {
     "data": {
      "text/plain": [
       "<IPython.core.display.HTML object>"
      ],
      "text/html": [
       "Tracking run with wandb version 0.17.1"
      ]
     },
     "metadata": {},
     "output_type": "display_data"
    },
    {
     "data": {
      "text/plain": [
       "<IPython.core.display.HTML object>"
      ],
      "text/html": [
       "Run data is saved locally in <code>D:\\Projekty\\TacticsClassifier\\wandb\\run-20240617_043321-d84bdh97</code>"
      ]
     },
     "metadata": {},
     "output_type": "display_data"
    },
    {
     "data": {
      "text/plain": [
       "<IPython.core.display.HTML object>"
      ],
      "text/html": [
       "Syncing run <strong><a href='https://wandb.ai/spajro-chess/chess-tactics-swp/runs/d84bdh97' target=\"_blank\">cosmic-sweep-1</a></strong> to <a href='https://wandb.ai/spajro-chess/chess-tactics-swp' target=\"_blank\">Weights & Biases</a> (<a href='https://wandb.me/run' target=\"_blank\">docs</a>)<br/>Sweep page: <a href='https://wandb.ai/spajro-chess/chess-tactics-swp/sweeps/pu99pny3' target=\"_blank\">https://wandb.ai/spajro-chess/chess-tactics-swp/sweeps/pu99pny3</a>"
      ]
     },
     "metadata": {},
     "output_type": "display_data"
    },
    {
     "data": {
      "text/plain": [
       "<IPython.core.display.HTML object>"
      ],
      "text/html": [
       " View project at <a href='https://wandb.ai/spajro-chess/chess-tactics-swp' target=\"_blank\">https://wandb.ai/spajro-chess/chess-tactics-swp</a>"
      ]
     },
     "metadata": {},
     "output_type": "display_data"
    },
    {
     "data": {
      "text/plain": [
       "<IPython.core.display.HTML object>"
      ],
      "text/html": [
       " View sweep at <a href='https://wandb.ai/spajro-chess/chess-tactics-swp/sweeps/pu99pny3' target=\"_blank\">https://wandb.ai/spajro-chess/chess-tactics-swp/sweeps/pu99pny3</a>"
      ]
     },
     "metadata": {},
     "output_type": "display_data"
    },
    {
     "data": {
      "text/plain": [
       "<IPython.core.display.HTML object>"
      ],
      "text/html": [
       " View run at <a href='https://wandb.ai/spajro-chess/chess-tactics-swp/runs/d84bdh97' target=\"_blank\">https://wandb.ai/spajro-chess/chess-tactics-swp/runs/d84bdh97</a>"
      ]
     },
     "metadata": {},
     "output_type": "display_data"
    },
    {
     "name": "stdout",
     "output_type": "stream",
     "text": [
      "Epoch [1/20], train_loss: 1.3820604978901612, train_accuracy: 0.5332421966217794, validation_accuracy: 0.62040625, time: 22.26s\n",
      "Epoch [2/20], train_loss: 1.1571842547825935, train_accuracy: 0.6216845372460497, validation_accuracy: 0.6695625, time: 22.149s\n",
      "Epoch [3/20], train_loss: 1.098286242594355, train_accuracy: 0.645558058301549, validation_accuracy: 0.67528125, time: 23.045s\n",
      "Epoch [4/20], train_loss: 1.0675043681488712, train_accuracy: 0.6588040982330505, validation_accuracy: 0.677625, time: 24.164s\n",
      "Epoch [5/20], train_loss: 1.0493856784020954, train_accuracy: 0.6656271892270569, validation_accuracy: 0.67659375, time: 24.337s\n",
      "Epoch [6/20], train_loss: 1.0434747907465232, train_accuracy: 0.6738343582159259, validation_accuracy: 0.69303125, time: 22.817s\n",
      "Epoch [7/20], train_loss: 1.0416917369515457, train_accuracy: 0.6830193819568771, validation_accuracy: 0.7051875, time: 24.535s\n",
      "Epoch [8/20], train_loss: 1.0357500949406648, train_accuracy: 0.6875498657274072, validation_accuracy: 0.70509375, time: 23.21s\n",
      "Epoch [9/20], train_loss: 1.0283892440584335, train_accuracy: 0.6948180995563167, validation_accuracy: 0.7205625, time: 23.239s\n",
      "Epoch [10/20], train_loss: 1.0225545303259433, train_accuracy: 0.6987246536156301, validation_accuracy: 0.66821875, time: 25.117s\n",
      "Epoch [11/20], train_loss: 1.019967421143493, train_accuracy: 0.7012678057133961, validation_accuracy: 0.70596875, time: 25.157s\n",
      "Epoch [12/20], train_loss: 1.0197057459554737, train_accuracy: 0.7049444909317351, validation_accuracy: 0.70725, time: 23.972s\n",
      "Epoch [13/20], train_loss: 1.0150884639509756, train_accuracy: 0.7044251576243481, validation_accuracy: 0.727125, time: 22.6s\n",
      "Epoch [14/20], train_loss: 1.0095375600688252, train_accuracy: 0.7076871059391298, validation_accuracy: 0.7175625, time: 22.943s\n",
      "Epoch [15/20], train_loss: 1.0275132643129794, train_accuracy: 0.7043096150852339, validation_accuracy: 0.700875, time: 23.838s\n",
      "Epoch [16/20], train_loss: 1.026305732234699, train_accuracy: 0.7026397213357204, validation_accuracy: 0.70875, time: 23.955s\n",
      "Epoch [17/20], train_loss: 1.0273729746417053, train_accuracy: 0.70476205534366, validation_accuracy: 0.6716875, time: 23.48s\n",
      "Epoch [18/20], train_loss: 1.054300769331892, train_accuracy: 0.6988231688331906, validation_accuracy: 0.6898125, time: 24.222s\n",
      "Epoch [19/20], train_loss: 1.0478019278049655, train_accuracy: 0.694976210399315, validation_accuracy: 0.70028125, time: 24.87s\n",
      "Epoch [20/20], train_loss: 1.0478682461936084, train_accuracy: 0.6969015139721336, validation_accuracy: 0.7195, time: 24.92s\n"
     ]
    },
    {
     "data": {
      "text/plain": [
       "VBox(children=(Label(value='0.001 MB of 0.001 MB uploaded\\r'), FloatProgress(value=1.0, max=1.0)))"
      ],
      "application/vnd.jupyter.widget-view+json": {
       "version_major": 2,
       "version_minor": 0,
       "model_id": "e48cd678f13640619cbe2904cd30cbf4"
      }
     },
     "metadata": {},
     "output_type": "display_data"
    },
    {
     "data": {
      "text/plain": [
       "<IPython.core.display.HTML object>"
      ],
      "text/html": [
       "<style>\n",
       "    table.wandb td:nth-child(1) { padding: 0 10px; text-align: left ; width: auto;} td:nth-child(2) {text-align: left ; width: 100%}\n",
       "    .wandb-row { display: flex; flex-direction: row; flex-wrap: wrap; justify-content: flex-start; width: 100% }\n",
       "    .wandb-col { display: flex; flex-direction: column; flex-basis: 100%; flex: 1; padding: 10px; }\n",
       "    </style>\n",
       "<div class=\"wandb-row\"><div class=\"wandb-col\"><h3>Run history:</h3><br/><table class=\"wandb\"><tr><td>epoch</td><td>▁▁▂▂▂▃▃▄▄▄▅▅▅▆▆▇▇▇██</td></tr><tr><td>train_accuracy</td><td>▁▅▆▆▆▇▇▇▇█████████▇█</td></tr><tr><td>train_loss</td><td>█▄▃▂▂▂▂▁▁▁▁▁▁▁▁▁▁▂▂▂</td></tr><tr><td>validation_accuracy</td><td>▁▄▅▅▅▆▇▇█▄▇▇█▇▆▇▄▆▆▇</td></tr></table><br/></div><div class=\"wandb-col\"><h3>Run summary:</h3><br/><table class=\"wandb\"><tr><td>epoch</td><td>20</td></tr><tr><td>train_accuracy</td><td>0.6969</td></tr><tr><td>train_loss</td><td>1.04787</td></tr><tr><td>validation_accuracy</td><td>0.7195</td></tr></table><br/></div></div>"
      ]
     },
     "metadata": {},
     "output_type": "display_data"
    },
    {
     "data": {
      "text/plain": [
       "<IPython.core.display.HTML object>"
      ],
      "text/html": [
       " View run <strong style=\"color:#cdcd00\">cosmic-sweep-1</strong> at: <a href='https://wandb.ai/spajro-chess/chess-tactics-swp/runs/d84bdh97' target=\"_blank\">https://wandb.ai/spajro-chess/chess-tactics-swp/runs/d84bdh97</a><br/> View project at: <a href='https://wandb.ai/spajro-chess/chess-tactics-swp' target=\"_blank\">https://wandb.ai/spajro-chess/chess-tactics-swp</a><br/>Synced 5 W&B file(s), 0 media file(s), 0 artifact file(s) and 0 other file(s)"
      ]
     },
     "metadata": {},
     "output_type": "display_data"
    },
    {
     "data": {
      "text/plain": [
       "<IPython.core.display.HTML object>"
      ],
      "text/html": [
       "Find logs at: <code>.\\wandb\\run-20240617_043321-d84bdh97\\logs</code>"
      ]
     },
     "metadata": {},
     "output_type": "display_data"
    },
    {
     "name": "stderr",
     "output_type": "stream",
     "text": [
      "wandb: Sweep Agent: Waiting for job.\n",
      "wandb: Job received.\n",
      "wandb: Agent Starting Run: 2evd7mn1 with config:\n",
      "wandb: \tcriterion: CrossEntropy\n",
      "wandb: \tepochs: 20\n",
      "wandb: \tlearning_rate: 0.001\n",
      "wandb: \tmodel: 1\n",
      "wandb: \toptimizer: adam\n"
     ]
    },
    {
     "data": {
      "text/plain": [
       "<IPython.core.display.HTML object>"
      ],
      "text/html": [
       "Tracking run with wandb version 0.17.1"
      ]
     },
     "metadata": {},
     "output_type": "display_data"
    },
    {
     "data": {
      "text/plain": [
       "<IPython.core.display.HTML object>"
      ],
      "text/html": [
       "Run data is saved locally in <code>D:\\Projekty\\TacticsClassifier\\wandb\\run-20240617_044141-2evd7mn1</code>"
      ]
     },
     "metadata": {},
     "output_type": "display_data"
    },
    {
     "data": {
      "text/plain": [
       "<IPython.core.display.HTML object>"
      ],
      "text/html": [
       "Syncing run <strong><a href='https://wandb.ai/spajro-chess/chess-tactics-swp/runs/2evd7mn1' target=\"_blank\">laced-sweep-2</a></strong> to <a href='https://wandb.ai/spajro-chess/chess-tactics-swp' target=\"_blank\">Weights & Biases</a> (<a href='https://wandb.me/run' target=\"_blank\">docs</a>)<br/>Sweep page: <a href='https://wandb.ai/spajro-chess/chess-tactics-swp/sweeps/pu99pny3' target=\"_blank\">https://wandb.ai/spajro-chess/chess-tactics-swp/sweeps/pu99pny3</a>"
      ]
     },
     "metadata": {},
     "output_type": "display_data"
    },
    {
     "data": {
      "text/plain": [
       "<IPython.core.display.HTML object>"
      ],
      "text/html": [
       " View project at <a href='https://wandb.ai/spajro-chess/chess-tactics-swp' target=\"_blank\">https://wandb.ai/spajro-chess/chess-tactics-swp</a>"
      ]
     },
     "metadata": {},
     "output_type": "display_data"
    },
    {
     "data": {
      "text/plain": [
       "<IPython.core.display.HTML object>"
      ],
      "text/html": [
       " View sweep at <a href='https://wandb.ai/spajro-chess/chess-tactics-swp/sweeps/pu99pny3' target=\"_blank\">https://wandb.ai/spajro-chess/chess-tactics-swp/sweeps/pu99pny3</a>"
      ]
     },
     "metadata": {},
     "output_type": "display_data"
    },
    {
     "data": {
      "text/plain": [
       "<IPython.core.display.HTML object>"
      ],
      "text/html": [
       " View run at <a href='https://wandb.ai/spajro-chess/chess-tactics-swp/runs/2evd7mn1' target=\"_blank\">https://wandb.ai/spajro-chess/chess-tactics-swp/runs/2evd7mn1</a>"
      ]
     },
     "metadata": {},
     "output_type": "display_data"
    },
    {
     "name": "stdout",
     "output_type": "stream",
     "text": [
      "Epoch [1/20], train_loss: 0.8503898715923257, train_accuracy: 0.7189482466723749, validation_accuracy: 0.795625, time: 25.017s\n",
      "Epoch [2/20], train_loss: 0.6144350974136145, train_accuracy: 0.7976777165875302, validation_accuracy: 0.8233125, time: 24.415s\n",
      "Epoch [3/20], train_loss: 0.5455990709863748, train_accuracy: 0.820027292363976, validation_accuracy: 0.829125, time: 24.159s\n",
      "Epoch [4/20], train_loss: 0.5019936093032149, train_accuracy: 0.8339982096987624, validation_accuracy: 0.84259375, time: 24.102s\n",
      "Epoch [5/20], train_loss: 0.47160440028140616, train_accuracy: 0.8437110804078773, validation_accuracy: 0.845625, time: 24.383s\n",
      "Epoch [6/20], train_loss: 0.4494340208042194, train_accuracy: 0.8510024227446097, validation_accuracy: 0.85484375, time: 23.808s\n",
      "Epoch [7/20], train_loss: 0.43129222617892987, train_accuracy: 0.8564049486261384, validation_accuracy: 0.8571875, time: 22.76s\n",
      "Epoch [8/20], train_loss: 0.41672464137625914, train_accuracy: 0.8615021989569549, validation_accuracy: 0.85928125, time: 24.051s\n",
      "Epoch [9/20], train_loss: 0.40521552439683645, train_accuracy: 0.8652178037674165, validation_accuracy: 0.860625, time: 23.97s\n",
      "Epoch [10/20], train_loss: 0.3951845357193528, train_accuracy: 0.8684311025920448, validation_accuracy: 0.862, time: 22.539s\n",
      "Epoch [11/20], train_loss: 0.3861045346659794, train_accuracy: 0.8714534521678213, validation_accuracy: 0.86275, time: 22.44s\n",
      "Epoch [12/20], train_loss: 0.37846891598366683, train_accuracy: 0.8740051179263642, validation_accuracy: 0.858375, time: 22.254s\n",
      "Epoch [13/20], train_loss: 0.3728826400714644, train_accuracy: 0.8758294738071145, validation_accuracy: 0.8665, time: 23.039s\n",
      "Epoch [14/20], train_loss: 0.3668464614932762, train_accuracy: 0.8779007258503931, validation_accuracy: 0.8649375, time: 24.995s\n",
      "Epoch [15/20], train_loss: 0.36094302150053376, train_accuracy: 0.8794988616019304, validation_accuracy: 0.86234375, time: 23.388s\n",
      "Epoch [16/20], train_loss: 0.3562762765987352, train_accuracy: 0.8811225383357982, validation_accuracy: 0.85425, time: 24.954s\n",
      "Epoch [17/20], train_loss: 0.35171985241860754, train_accuracy: 0.8828045944578501, validation_accuracy: 0.86271875, time: 23.335s\n",
      "Epoch [18/20], train_loss: 0.3471839386548473, train_accuracy: 0.8844842181053942, validation_accuracy: 0.86753125, time: 23.559s\n",
      "Epoch [19/20], train_loss: 0.34239712782274323, train_accuracy: 0.8857539697983965, validation_accuracy: 0.86559375, time: 23.76s\n",
      "Epoch [20/20], train_loss: 0.33944201161280985, train_accuracy: 0.8865822273682572, validation_accuracy: 0.8679375, time: 24.16s\n"
     ]
    },
    {
     "data": {
      "text/plain": [
       "VBox(children=(Label(value='0.001 MB of 0.001 MB uploaded\\r'), FloatProgress(value=1.0, max=1.0)))"
      ],
      "application/vnd.jupyter.widget-view+json": {
       "version_major": 2,
       "version_minor": 0,
       "model_id": "fab971ad2dca491c80a0ba998960fe26"
      }
     },
     "metadata": {},
     "output_type": "display_data"
    },
    {
     "data": {
      "text/plain": [
       "<IPython.core.display.HTML object>"
      ],
      "text/html": [
       "<style>\n",
       "    table.wandb td:nth-child(1) { padding: 0 10px; text-align: left ; width: auto;} td:nth-child(2) {text-align: left ; width: 100%}\n",
       "    .wandb-row { display: flex; flex-direction: row; flex-wrap: wrap; justify-content: flex-start; width: 100% }\n",
       "    .wandb-col { display: flex; flex-direction: column; flex-basis: 100%; flex: 1; padding: 10px; }\n",
       "    </style>\n",
       "<div class=\"wandb-row\"><div class=\"wandb-col\"><h3>Run history:</h3><br/><table class=\"wandb\"><tr><td>epoch</td><td>▁▁▂▂▂▃▃▄▄▄▅▅▅▆▆▇▇▇██</td></tr><tr><td>train_accuracy</td><td>▁▄▅▆▆▇▇▇▇▇▇▇████████</td></tr><tr><td>train_loss</td><td>█▅▄▃▃▃▂▂▂▂▂▂▁▁▁▁▁▁▁▁</td></tr><tr><td>validation_accuracy</td><td>▁▄▄▆▆▇▇▇▇▇▇▇██▇▇▇███</td></tr></table><br/></div><div class=\"wandb-col\"><h3>Run summary:</h3><br/><table class=\"wandb\"><tr><td>epoch</td><td>20</td></tr><tr><td>train_accuracy</td><td>0.88658</td></tr><tr><td>train_loss</td><td>0.33944</td></tr><tr><td>validation_accuracy</td><td>0.86794</td></tr></table><br/></div></div>"
      ]
     },
     "metadata": {},
     "output_type": "display_data"
    },
    {
     "data": {
      "text/plain": [
       "<IPython.core.display.HTML object>"
      ],
      "text/html": [
       " View run <strong style=\"color:#cdcd00\">laced-sweep-2</strong> at: <a href='https://wandb.ai/spajro-chess/chess-tactics-swp/runs/2evd7mn1' target=\"_blank\">https://wandb.ai/spajro-chess/chess-tactics-swp/runs/2evd7mn1</a><br/> View project at: <a href='https://wandb.ai/spajro-chess/chess-tactics-swp' target=\"_blank\">https://wandb.ai/spajro-chess/chess-tactics-swp</a><br/>Synced 5 W&B file(s), 0 media file(s), 0 artifact file(s) and 0 other file(s)"
      ]
     },
     "metadata": {},
     "output_type": "display_data"
    },
    {
     "data": {
      "text/plain": [
       "<IPython.core.display.HTML object>"
      ],
      "text/html": [
       "Find logs at: <code>.\\wandb\\run-20240617_044141-2evd7mn1\\logs</code>"
      ]
     },
     "metadata": {},
     "output_type": "display_data"
    },
    {
     "name": "stderr",
     "output_type": "stream",
     "text": [
      "wandb: Ctrl + C detected. Stopping sweep.\n"
     ]
    }
   ],
   "execution_count": 16
  },
  {
   "cell_type": "code",
   "source": [
    "wandb.finish()"
   ],
   "metadata": {
    "collapsed": false,
    "ExecuteTime": {
     "end_time": "2024-06-17T02:49:48.061906Z",
     "start_time": "2024-06-17T02:49:48.059881Z"
    }
   },
   "id": "1ec594e2ffa4b475",
   "outputs": [],
   "execution_count": 17
  },
  {
   "cell_type": "markdown",
   "source": [
    "# Testy modelu"
   ],
   "metadata": {
    "collapsed": false
   },
   "id": "ace45f7638cc3049"
  },
  {
   "cell_type": "code",
   "source": [
    "model = torch.load('model1_epochs20_learning_rate0.001_optimizeradam.save')\n",
    "model.to(DEVICE)"
   ],
   "metadata": {
    "collapsed": false,
    "ExecuteTime": {
     "end_time": "2024-06-17T02:49:48.080958Z",
     "start_time": "2024-06-17T02:49:48.061906Z"
    }
   },
   "id": "d32ca7d95f4d9c82",
   "outputs": [
    {
     "data": {
      "text/plain": [
       "Model(\n",
       "  (classifier): Sequential(\n",
       "    (0): Conv2d(21, 300, kernel_size=(5, 5), stride=(1, 1), padding=(5, 5))\n",
       "    (1): ReLU()\n",
       "    (2): Conv2d(300, 30, kernel_size=(2, 2), stride=(1, 1), padding=(2, 2))\n",
       "    (3): ReLU()\n",
       "    (4): Flatten(start_dim=1, end_dim=-1)\n",
       "    (5): Dropout(p=0.5, inplace=False)\n",
       "    (6): Linear(in_features=8670, out_features=20, bias=True)\n",
       "    (7): ReLU()\n",
       "    (8): Linear(in_features=20, out_features=11, bias=True)\n",
       "  )\n",
       ")"
      ]
     },
     "execution_count": 18,
     "metadata": {},
     "output_type": "execute_result"
    }
   ],
   "execution_count": 18
  },
  {
   "cell_type": "code",
   "source": [
    "model.calc_accuracy(loader_train)"
   ],
   "metadata": {
    "collapsed": false,
    "ExecuteTime": {
     "end_time": "2024-06-17T02:49:56.719445Z",
     "start_time": "2024-06-17T02:49:48.080958Z"
    }
   },
   "id": "aa4a219b517b0d5f",
   "outputs": [
    {
     "data": {
      "text/plain": [
       "0.9204691137583836"
      ]
     },
     "execution_count": 19,
     "metadata": {},
     "output_type": "execute_result"
    }
   ],
   "execution_count": 19
  },
  {
   "cell_type": "code",
   "source": [
    "model.calc_accuracy(loader_test)"
   ],
   "metadata": {
    "collapsed": false,
    "ExecuteTime": {
     "end_time": "2024-06-17T02:49:57.049097Z",
     "start_time": "2024-06-17T02:49:56.720448Z"
    }
   },
   "id": "f5a4b2dfb6db549f",
   "outputs": [
    {
     "data": {
      "text/plain": [
       "0.87028125"
      ]
     },
     "execution_count": 20,
     "metadata": {},
     "output_type": "execute_result"
    }
   ],
   "execution_count": 20
  },
  {
   "cell_type": "code",
   "source": [
    "model.calc_accuracy(loader_valid)"
   ],
   "metadata": {
    "collapsed": false,
    "ExecuteTime": {
     "end_time": "2024-06-17T02:49:57.368128Z",
     "start_time": "2024-06-17T02:49:57.049097Z"
    }
   },
   "id": "a820cdd1f654102",
   "outputs": [
    {
     "data": {
      "text/plain": [
       "0.8679375"
      ]
     },
     "execution_count": 21,
     "metadata": {},
     "output_type": "execute_result"
    }
   ],
   "execution_count": 21
  },
  {
   "cell_type": "code",
   "source": [],
   "metadata": {
    "collapsed": false,
    "ExecuteTime": {
     "end_time": "2024-06-17T02:49:57.370562Z",
     "start_time": "2024-06-17T02:49:57.368128Z"
    }
   },
   "id": "846884d9aaf08453",
   "outputs": [],
   "execution_count": 21
  }
 ],
 "metadata": {
  "kernelspec": {
   "display_name": "Python 3",
   "language": "python",
   "name": "python3"
  },
  "language_info": {
   "codemirror_mode": {
    "name": "ipython",
    "version": 2
   },
   "file_extension": ".py",
   "mimetype": "text/x-python",
   "name": "python",
   "nbconvert_exporter": "python",
   "pygments_lexer": "ipython2",
   "version": "2.7.6"
  }
 },
 "nbformat": 4,
 "nbformat_minor": 5
}
