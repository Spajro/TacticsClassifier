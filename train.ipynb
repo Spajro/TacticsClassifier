{
 "cells": [
  {
   "cell_type": "code",
   "outputs": [],
   "source": [
    "import wandb\n",
    "import pathlib\n",
    "import urllib\n",
    "import zstandard\n",
    "import chess\n",
    "import torch\n",
    "import numpy as np\n",
    "from torch import nn\n",
    "import math\n",
    "import time\n",
    "\n",
    "from torch.nn import init\n",
    "from torch.utils.data import DataLoader\n",
    "from torchinfo import summary"
   ],
   "metadata": {
    "collapsed": false,
    "ExecuteTime": {
     "end_time": "2024-06-16T16:47:24.324055Z",
     "start_time": "2024-06-16T16:47:19.770937Z"
    }
   },
   "id": "3717b89548581ad7",
   "execution_count": 1
  },
  {
   "cell_type": "code",
   "outputs": [
    {
     "name": "stdout",
     "output_type": "stream",
     "text": [
      "DEVICE: cuda\n"
     ]
    }
   ],
   "source": [
    "BATCH_SIZE = 64\n",
    "DEVICE = torch.device(\"cuda\" if torch.cuda.is_available() else \"cpu\")\n",
    "print(\"DEVICE: \" + str(DEVICE))"
   ],
   "metadata": {
    "collapsed": false,
    "ExecuteTime": {
     "end_time": "2024-06-16T16:47:25.560629Z",
     "start_time": "2024-06-16T16:47:24.327519Z"
    }
   },
   "id": "3840fbf671584691",
   "execution_count": 2
  },
  {
   "cell_type": "code",
   "outputs": [
    {
     "name": "stderr",
     "output_type": "stream",
     "text": [
      "\u001B[34m\u001B[1mwandb\u001B[0m: Currently logged in as: \u001B[33mmatik\u001B[0m (\u001B[33mmatik001\u001B[0m). Use \u001B[1m`wandb login --relogin`\u001B[0m to force relogin\n"
     ]
    },
    {
     "data": {
      "text/plain": "True"
     },
     "execution_count": 3,
     "metadata": {},
     "output_type": "execute_result"
    }
   ],
   "source": [
    "wandb.login()"
   ],
   "metadata": {
    "collapsed": false,
    "ExecuteTime": {
     "end_time": "2024-06-16T16:47:28.418720Z",
     "start_time": "2024-06-16T16:47:25.561781Z"
    }
   },
   "id": "749d49541eae5c3c",
   "execution_count": 3
  },
  {
   "cell_type": "code",
   "outputs": [
    {
     "name": "stdout",
     "output_type": "stream",
     "text": [
      "Batches train 12847\n",
      "Batches valid 500\n",
      "Batches test 500\n"
     ]
    }
   ],
   "source": [
    "dataset_train = torch.load('dataset_train.save')\n",
    "dataset_test = torch.load('dataset_test.save')\n",
    "dataset_valid = torch.load('dataset_valid.save')\n",
    "\n",
    "loader_train = DataLoader(dataset_train, batch_size=BATCH_SIZE, shuffle=True)\n",
    "loader_test = DataLoader(dataset_test, batch_size=BATCH_SIZE, shuffle=True)\n",
    "loader_valid = DataLoader(dataset_valid, batch_size=BATCH_SIZE, shuffle=True)\n",
    "\n",
    "print(\"Batches train\", len(loader_train))\n",
    "print(\"Batches valid\", len(loader_valid))\n",
    "print(\"Batches test\", len(loader_test))"
   ],
   "metadata": {
    "collapsed": false,
    "ExecuteTime": {
     "end_time": "2024-06-16T16:48:36.945380Z",
     "start_time": "2024-06-16T16:47:28.421572Z"
    }
   },
   "id": "95c90eee14b66964",
   "execution_count": 4
  },
  {
   "cell_type": "code",
   "outputs": [],
   "source": [
    "DATA_SHAPE = (BATCH_SIZE,) +  tuple(dataset_train[0][0].shape)"
   ],
   "metadata": {
    "collapsed": false,
    "ExecuteTime": {
     "end_time": "2024-06-16T16:48:36.968567Z",
     "start_time": "2024-06-16T16:48:36.955780Z"
    }
   },
   "id": "e0c282a29dd4c497",
   "execution_count": 5
  },
  {
   "cell_type": "code",
   "outputs": [],
   "source": [
    "class Model(nn.Module):\n",
    "    def __init__(self, *args, **kwargs):\n",
    "        super(Model, self).__init__()\n",
    "        self.classifier = nn.Sequential(*args, **kwargs)\n",
    "\n",
    "\n",
    "    def init_xavier(self):\n",
    "        for m in self.modules():\n",
    "            if isinstance(m, nn.Conv2d) or isinstance(m, nn.Linear):\n",
    "                init.xavier_normal_(m.weight)\n",
    "    \n",
    "    def calc_accuracy(self, loader):\n",
    "        correct = 0\n",
    "        total = 0\n",
    "        self.eval()\n",
    "        with torch.no_grad():\n",
    "            for batch in loader:\n",
    "                features, labels = batch\n",
    "                labels = labels.to(DEVICE) \n",
    "                features = features.to(DEVICE)\n",
    "                outputs = self(features)\n",
    "                _, predicted = torch.max(outputs, 1)\n",
    "                total += labels.size(0) \n",
    "                correct += (predicted == labels).sum().item() \n",
    "        self.train()\n",
    "        return correct / total\n",
    "    \n",
    "    def forward(self, X):\n",
    "        return self.classifier.forward(X)\n",
    "\n",
    "\n"
   ],
   "metadata": {
    "collapsed": false,
    "ExecuteTime": {
     "end_time": "2024-06-16T16:48:37.005164Z",
     "start_time": "2024-06-16T16:48:36.971639Z"
    }
   },
   "id": "b8c2f22a343e5a2b",
   "execution_count": 6
  },
  {
   "cell_type": "code",
   "outputs": [
    {
     "name": "stdout",
     "output_type": "stream",
     "text": [
      "==========================================================================================\n",
      "Layer (type:depth-idx)                   Output Shape              Param #\n",
      "==========================================================================================\n",
      "Model                                    [64, 11]                  --\n",
      "├─Sequential: 1-1                        --                        --\n",
      "│    └─Conv2d: 2-1                       [64, 64, 13, 13]          21,568\n",
      "│    └─ReLU: 2-2                         [64, 64, 13, 13]          --\n",
      "│    └─Conv2d: 2-3                       [64, 16, 20, 20]          4,112\n",
      "│    └─ReLU: 2-4                         [64, 16, 20, 20]          --\n",
      "│    └─MaxPool2d: 2-5                    [64, 16, 17, 17]          --\n",
      "│    └─Conv2d: 2-6                       [64, 64, 24, 24]          4,160\n",
      "│    └─ReLU: 2-7                         [64, 64, 24, 24]          --\n",
      "│    └─Conv2d: 2-8                       [64, 1, 29, 29]           1,025\n",
      "│    └─ReLU: 2-9                         [64, 1, 29, 29]           --\n",
      "│    └─Flatten: 2-10                     [64, 841]                 --\n",
      "│    └─Linear: 2-11                      [64, 256]                 215,552\n",
      "│    └─ReLU: 2-12                        [64, 256]                 --\n",
      "│    └─Linear: 2-13                      [64, 64]                  16,448\n",
      "│    └─ReLU: 2-14                        [64, 64]                  --\n",
      "│    └─Linear: 2-15                      [64, 11]                  715\n",
      "==========================================================================================\n",
      "Total params: 263,580\n",
      "Trainable params: 263,580\n",
      "Non-trainable params: 0\n",
      "Total mult-adds (Units.MEGABYTES): 561.96\n",
      "==========================================================================================\n",
      "Input size (MB): 0.34\n",
      "Forward/backward pass size (MB): 28.29\n",
      "Params size (MB): 1.05\n",
      "Estimated Total Size (MB): 29.69\n",
      "==========================================================================================\n"
     ]
    }
   ],
   "source": [
    "model0 = Model(nn.Conv2d(21, 8 * 8, kernel_size=4, padding=4),\n",
    "              nn.ReLU(),\n",
    "              nn.Conv2d(8 * 8, 4 * 4, kernel_size=2, padding=4),\n",
    "              nn.ReLU(),\n",
    "              nn.MaxPool2d(kernel_size=4, stride=1),\n",
    "              nn.Conv2d(4*4, 8 * 8, kernel_size=2, padding=4),\n",
    "              nn.ReLU(),\n",
    "              nn.Conv2d(8 * 8, 1, kernel_size=4, padding=4),\n",
    "              nn.ReLU(),\n",
    "              nn.Flatten(),\n",
    "              nn.Linear(841, 256),\n",
    "              nn.ReLU(),\n",
    "              nn.Linear(256, 64),\n",
    "              nn.ReLU(),\n",
    "              nn.Linear(64, 11)\n",
    "              )\n",
    "\n",
    "architecture_summary = summary(model0, DATA_SHAPE)\n",
    "print(architecture_summary)"
   ],
   "metadata": {
    "collapsed": false,
    "ExecuteTime": {
     "end_time": "2024-06-16T16:48:53.105428Z",
     "start_time": "2024-06-16T16:48:37.009567Z"
    }
   },
   "id": "ddca523ca5fac242",
   "execution_count": 7
  },
  {
   "cell_type": "code",
   "outputs": [
    {
     "name": "stdout",
     "output_type": "stream",
     "text": [
      "==========================================================================================\n",
      "Layer (type:depth-idx)                   Output Shape              Param #\n",
      "==========================================================================================\n",
      "Model                                    [64, 11]                  --\n",
      "├─Sequential: 1-1                        --                        --\n",
      "│    └─Conv2d: 2-1                       [64, 300, 14, 14]         157,800\n",
      "│    └─ReLU: 2-2                         [64, 300, 14, 14]         --\n",
      "│    └─Conv2d: 2-3                       [64, 30, 17, 17]          36,030\n",
      "│    └─ReLU: 2-4                         [64, 30, 17, 17]          --\n",
      "│    └─Flatten: 2-5                      [64, 8670]                --\n",
      "│    └─Dropout: 2-6                      [64, 8670]                --\n",
      "│    └─Linear: 2-7                       [64, 20]                  173,420\n",
      "│    └─ReLU: 2-8                         [64, 20]                  --\n",
      "│    └─Linear: 2-9                       [64, 11]                  231\n",
      "==========================================================================================\n",
      "Total params: 367,481\n",
      "Trainable params: 367,481\n",
      "Non-trainable params: 0\n",
      "Total mult-adds (Units.GIGABYTES): 2.66\n",
      "==========================================================================================\n",
      "Input size (MB): 0.34\n",
      "Forward/backward pass size (MB): 34.56\n",
      "Params size (MB): 1.47\n",
      "Estimated Total Size (MB): 36.37\n",
      "==========================================================================================\n"
     ]
    }
   ],
   "source": [
    "model1 = Model(nn.Conv2d(21, 300, kernel_size=5, padding=5),\n",
    "              nn.ReLU(),\n",
    "              nn.Conv2d(300, 30, kernel_size=2, padding=2),\n",
    "              nn.ReLU(),\n",
    "              nn.Flatten(),\n",
    "              nn.Dropout(0.5), \n",
    "              nn.Linear(8670, 20),\n",
    "              nn.ReLU(),\n",
    "              nn.Linear(20, 11)\n",
    "              )\n",
    "\n",
    "architecture_summary = summary(model1, DATA_SHAPE)\n",
    "print(architecture_summary)"
   ],
   "metadata": {
    "collapsed": false,
    "ExecuteTime": {
     "end_time": "2024-06-16T16:48:53.365084Z",
     "start_time": "2024-06-16T16:48:53.168637Z"
    }
   },
   "id": "321aaf138bd4e8e0",
   "execution_count": 8
  },
  {
   "cell_type": "code",
   "outputs": [
    {
     "name": "stdout",
     "output_type": "stream",
     "text": [
      "==========================================================================================\n",
      "Layer (type:depth-idx)                   Output Shape              Param #\n",
      "==========================================================================================\n",
      "Model                                    [64, 11]                  --\n",
      "├─Sequential: 1-1                        --                        --\n",
      "│    └─Conv2d: 2-1                       [64, 300, 14, 14]         157,800\n",
      "│    └─ReLU: 2-2                         [64, 300, 14, 14]         --\n",
      "│    └─Conv2d: 2-3                       [64, 30, 17, 17]          36,030\n",
      "│    └─ReLU: 2-4                         [64, 30, 17, 17]          --\n",
      "│    └─Flatten: 2-5                      [64, 8670]                --\n",
      "│    └─BatchNorm1d: 2-6                  [64, 8670]                17,340\n",
      "│    └─Linear: 2-7                       [64, 20]                  173,420\n",
      "│    └─ReLU: 2-8                         [64, 20]                  --\n",
      "│    └─Linear: 2-9                       [64, 11]                  231\n",
      "==========================================================================================\n",
      "Total params: 384,821\n",
      "Trainable params: 384,821\n",
      "Non-trainable params: 0\n",
      "Total mult-adds (Units.GIGABYTES): 2.66\n",
      "==========================================================================================\n",
      "Input size (MB): 0.34\n",
      "Forward/backward pass size (MB): 39.00\n",
      "Params size (MB): 1.54\n",
      "Estimated Total Size (MB): 40.88\n",
      "==========================================================================================\n"
     ]
    }
   ],
   "source": [
    "model2 = Model(nn.Conv2d(21, 300, kernel_size=5, padding=5),\n",
    "              nn.ReLU(),\n",
    "              nn.Conv2d(300, 30, kernel_size=2, padding=2),\n",
    "              nn.ReLU(),\n",
    "              nn.Flatten(),\n",
    "              nn.BatchNorm1d(8670),\n",
    "              nn.Linear(8670, 20),\n",
    "              nn.ReLU(),\n",
    "              nn.Linear(20, 11)\n",
    "              )\n",
    "\n",
    "architecture_summary = summary(model2, DATA_SHAPE)\n",
    "print(architecture_summary)"
   ],
   "metadata": {
    "collapsed": false,
    "ExecuteTime": {
     "end_time": "2024-06-16T17:10:49.061729Z",
     "start_time": "2024-06-16T17:10:48.965722Z"
    }
   },
   "id": "48f342f0f526c13a",
   "execution_count": 10
  },
  {
   "cell_type": "code",
   "outputs": [],
   "source": [
    "MODELS_LIST = [model0, model1, model2]"
   ],
   "metadata": {
    "collapsed": false,
    "ExecuteTime": {
     "end_time": "2024-06-16T17:10:54.308618Z",
     "start_time": "2024-06-16T17:10:54.303216Z"
    }
   },
   "id": "23091914b59e0b0b",
   "execution_count": 11
  },
  {
   "cell_type": "code",
   "outputs": [],
   "source": [
    "def accuracy(out,truth):\n",
    "    return torch.argmax(out,dim=1) == truth"
   ],
   "metadata": {
    "collapsed": false,
    "ExecuteTime": {
     "end_time": "2024-06-16T17:10:54.672Z",
     "start_time": "2024-06-16T17:10:54.666609Z"
    }
   },
   "id": "604edf0d8cf46e4",
   "execution_count": 12
  },
  {
   "cell_type": "code",
   "outputs": [],
   "source": [
    "def train(model, criterion, optimizer, epoch):\n",
    "    model = model.to(DEVICE)\n",
    "    model.init_xavier()\n",
    "    criterion = criterion.to(DEVICE)\n",
    "    batches_amount = len(loader_train)\n",
    "    \n",
    "    for i in range(epoch):\n",
    "        time_started = time.time() * 1000\n",
    "        loss_sum=0.0\n",
    "        accuracy_sum=0.0\n",
    "        for batch, truth in loader_train:\n",
    "            batch = batch.to(DEVICE)\n",
    "            truth = truth.to(DEVICE)\n",
    "            \n",
    "            optimizer.zero_grad()\n",
    "            out = model.forward(batch)\n",
    "            loss = criterion(out, truth)\n",
    "            loss.backward()\n",
    "            optimizer.step()\n",
    "            \n",
    "            accuracy_value = accuracy(out,truth).sum()/BATCH_SIZE\n",
    "\n",
    "            loss_sum+=loss.item()\n",
    "            accuracy_sum+=accuracy_value.item()\n",
    "\n",
    "        passed_time = math.ceil(time.time() * 1000 - time_started)\n",
    "        loss_average = loss_sum/batches_amount\n",
    "        accuracy_average = accuracy_sum/batches_amount\n",
    "        validation_accuracy = model.calc_accuracy(loader_valid)\n",
    "\n",
    "        print(f\"Epoch [{i+1}/{epoch}], train_loss: {loss_average}, train_accuracy: {accuracy_average}, validation_accuracy: {validation_accuracy}, time: {passed_time/1000}s\")\n",
    "        wandb.log({\n",
    "            \"epoch\": i + 1, \n",
    "            \"train_loss\": loss_average, \n",
    "            \"train_accuracy\" : accuracy_average,\n",
    "            \"validation_accuracy\" : validation_accuracy}\n",
    "        )"
   ],
   "metadata": {
    "collapsed": false,
    "ExecuteTime": {
     "end_time": "2024-06-16T17:10:56.500390Z",
     "start_time": "2024-06-16T17:10:56.472590Z"
    }
   },
   "id": "d98ba8fed2176402",
   "execution_count": 13
  },
  {
   "cell_type": "code",
   "outputs": [],
   "source": [
    "### SWEEP CONFIG FOR TESTS\n",
    "sweep_config = {\n",
    "    'method': 'bayes',  # random, grid or bayes\n",
    "    'name': 'sweep-chess-tactics',\n",
    "    'metric': {\n",
    "        'goal': 'maximize', \n",
    "        'name': 'validation_accuracy'\n",
    "    },\n",
    "    'parameters': {\n",
    "        'epochs': {\n",
    "            # 'values': [5, 10, 30]\n",
    "            'values': [20]\n",
    "        },\n",
    "        'learning_rate': {\n",
    "            # 'values': [0.003, 0.001, 0.0003]\n",
    "            'values': [0.001]\n",
    "        },\n",
    "        'optimizer': {\n",
    "            # 'values': ['sgd', 'adam']\n",
    "            'values': ['adam']\n",
    "        },\n",
    "        'criterion': {\n",
    "            'values': ['CrossEntropy']\n",
    "        },\n",
    "        'model': {\n",
    "            # 'values': list(range(len(MODELS_LIST)))\n",
    "            'values': [2]\n",
    "        }\n",
    "     },\n",
    "\n",
    "}"
   ],
   "metadata": {
    "collapsed": false,
    "ExecuteTime": {
     "end_time": "2024-06-16T17:11:02.988246Z",
     "start_time": "2024-06-16T17:11:02.981930Z"
    }
   },
   "id": "8f522f2b58513c5c",
   "execution_count": 14
  },
  {
   "cell_type": "code",
   "outputs": [],
   "source": [
    "### MAIN SWEEP CONFIG\n",
    "sweep_config = {\n",
    "    'method': 'bayes',  # random, grid or bayes\n",
    "    'name': 'sweep-chess-tactics',\n",
    "    'metric': {\n",
    "        'goal': 'maximize', \n",
    "        'name': 'validation_accuracy'\n",
    "    },\n",
    "    'parameters': {\n",
    "        'epochs': {\n",
    "            # 'values': [5, 10, 30]\n",
    "            'values': [15, 30]\n",
    "        },\n",
    "        'learning_rate': {\n",
    "            # 'values': [0.003, 0.001, 0.0003]\n",
    "            'values': [0.0003]\n",
    "        },\n",
    "        'optimizer': {\n",
    "            # 'values': ['sgd', 'adam']\n",
    "            'values': ['adam']\n",
    "        },\n",
    "        'criterion': {\n",
    "            'values': ['CrossEntropy']\n",
    "        },\n",
    "        'model': {\n",
    "            'values': list(range(len(MODELS_LIST)))\n",
    "        }\n",
    "     },\n",
    "\n",
    "}"
   ],
   "metadata": {
    "collapsed": false
   },
   "id": "a7e4340b9fb8d2ca"
  },
  {
   "cell_type": "code",
   "outputs": [],
   "source": [
    "sweep_id = 'cua8zqmh'  # aby kontynuowac trening na poprzednim sweepie"
   ],
   "metadata": {
    "collapsed": false,
    "ExecuteTime": {
     "end_time": "2024-06-16T12:52:23.800250Z",
     "start_time": "2024-06-16T12:52:23.794667Z"
    }
   },
   "id": "cb3f1d5df8df3058",
   "execution_count": 17
  },
  {
   "cell_type": "code",
   "outputs": [
    {
     "name": "stdout",
     "output_type": "stream",
     "text": [
      "Create sweep with ID: svu6njs3\n",
      "Sweep URL: https://wandb.ai/matik001/chess-tactics-swp/sweeps/svu6njs3\n"
     ]
    }
   ],
   "source": [
    "sweep_id = wandb.sweep(sweep_config, project=\"chess-tactics-swp\")"
   ],
   "metadata": {
    "collapsed": false,
    "ExecuteTime": {
     "end_time": "2024-06-16T17:11:19.685496Z",
     "start_time": "2024-06-16T17:11:11.435138Z"
    }
   },
   "id": "fe386d598ebd0861",
   "execution_count": 15
  },
  {
   "cell_type": "code",
   "outputs": [
    {
     "name": "stderr",
     "output_type": "stream",
     "text": [
      "\u001B[34m\u001B[1mwandb\u001B[0m: Agent Starting Run: 2x9gwiny with config:\n",
      "\u001B[34m\u001B[1mwandb\u001B[0m: \tcriterion: CrossEntropy\n",
      "\u001B[34m\u001B[1mwandb\u001B[0m: \tepochs: 20\n",
      "\u001B[34m\u001B[1mwandb\u001B[0m: \tlearning_rate: 0.001\n",
      "\u001B[34m\u001B[1mwandb\u001B[0m: \tmodel: 1\n",
      "\u001B[34m\u001B[1mwandb\u001B[0m: \toptimizer: adam\n"
     ]
    },
    {
     "data": {
      "text/plain": "<IPython.core.display.HTML object>",
      "text/html": "wandb version 0.17.1 is available!  To upgrade, please run:\n $ pip install wandb --upgrade"
     },
     "metadata": {},
     "output_type": "display_data"
    },
    {
     "data": {
      "text/plain": "<IPython.core.display.HTML object>",
      "text/html": "Tracking run with wandb version 0.16.5"
     },
     "metadata": {},
     "output_type": "display_data"
    },
    {
     "data": {
      "text/plain": "<IPython.core.display.HTML object>",
      "text/html": "Run data is saved locally in <code>D:\\Projects\\TacticsClassifier\\wandb\\run-20240616_172641-2x9gwiny</code>"
     },
     "metadata": {},
     "output_type": "display_data"
    },
    {
     "data": {
      "text/plain": "<IPython.core.display.HTML object>",
      "text/html": "Syncing run <strong><a href='https://wandb.ai/matik001/chess-tactics-swp/runs/2x9gwiny/workspace' target=\"_blank\">woven-sweep-1</a></strong> to <a href='https://wandb.ai/matik001/chess-tactics-swp' target=\"_blank\">Weights & Biases</a> (<a href='https://wandb.me/run' target=\"_blank\">docs</a>)<br/>Sweep page: <a href='https://wandb.ai/matik001/chess-tactics-swp/sweeps/fds7v1b4' target=\"_blank\">https://wandb.ai/matik001/chess-tactics-swp/sweeps/fds7v1b4</a>"
     },
     "metadata": {},
     "output_type": "display_data"
    },
    {
     "data": {
      "text/plain": "<IPython.core.display.HTML object>",
      "text/html": " View project at <a href='https://wandb.ai/matik001/chess-tactics-swp' target=\"_blank\">https://wandb.ai/matik001/chess-tactics-swp</a>"
     },
     "metadata": {},
     "output_type": "display_data"
    },
    {
     "data": {
      "text/plain": "<IPython.core.display.HTML object>",
      "text/html": " View sweep at <a href='https://wandb.ai/matik001/chess-tactics-swp/sweeps/fds7v1b4' target=\"_blank\">https://wandb.ai/matik001/chess-tactics-swp/sweeps/fds7v1b4</a>"
     },
     "metadata": {},
     "output_type": "display_data"
    },
    {
     "data": {
      "text/plain": "<IPython.core.display.HTML object>",
      "text/html": " View run at <a href='https://wandb.ai/matik001/chess-tactics-swp/runs/2x9gwiny/workspace' target=\"_blank\">https://wandb.ai/matik001/chess-tactics-swp/runs/2x9gwiny/workspace</a>"
     },
     "metadata": {},
     "output_type": "display_data"
    },
    {
     "name": "stdout",
     "output_type": "stream",
     "text": [
      "Epoch [1/20], train_loss: 0.8388898842407311, train_accuracy: 0.7245648303105784, validation_accuracy: 0.7793125, time: 210.501s\n",
      "Epoch [2/20], train_loss: 0.5938463079202794, train_accuracy: 0.803744308009652, validation_accuracy: 0.80903125, time: 136.948s\n",
      "Epoch [3/20], train_loss: 0.5264002105018606, train_accuracy: 0.8262228049350043, validation_accuracy: 0.823875, time: 124.339s\n",
      "Epoch [4/20], train_loss: 0.48411126335052107, train_accuracy: 0.839635469370281, validation_accuracy: 0.83034375, time: 120.059s\n",
      "Epoch [5/20], train_loss: 0.4558224256197618, train_accuracy: 0.8487463026387484, validation_accuracy: 0.8345, time: 116.512s\n",
      "Epoch [6/20], train_loss: 0.43437240735094235, train_accuracy: 0.8563015684595625, validation_accuracy: 0.83821875, time: 118.42s\n",
      "Epoch [7/20], train_loss: 0.4176567796082165, train_accuracy: 0.8613440881139566, validation_accuracy: 0.84078125, time: 117.238s\n",
      "Epoch [8/20], train_loss: 0.40268090303870985, train_accuracy: 0.8661093056744765, validation_accuracy: 0.8440625, time: 115.367s\n",
      "Epoch [9/20], train_loss: 0.3918517928736084, train_accuracy: 0.8698249104849382, validation_accuracy: 0.84125, time: 119.521s\n",
      "Epoch [10/20], train_loss: 0.3812931455440388, train_accuracy: 0.8732498345917334, validation_accuracy: 0.84971875, time: 119.122s\n",
      "Epoch [11/20], train_loss: 0.37339744272469233, train_accuracy: 0.8755570366622558, validation_accuracy: 0.849125, time: 125.01s\n",
      "Epoch [12/20], train_loss: 0.36521861705741426, train_accuracy: 0.8783093815676811, validation_accuracy: 0.85075, time: 117.104s\n",
      "Epoch [13/20], train_loss: 0.35903195759252954, train_accuracy: 0.8806761792636413, validation_accuracy: 0.85253125, time: 119.323s\n",
      "Epoch [14/20], train_loss: 0.35227748319695706, train_accuracy: 0.882432425858177, validation_accuracy: 0.84909375, time: 121.789s\n",
      "Epoch [15/20], train_loss: 0.3475478435060046, train_accuracy: 0.8841217794037518, validation_accuracy: 0.8510625, time: 113.015s\n",
      "Epoch [16/20], train_loss: 0.34252058030696586, train_accuracy: 0.8859084319296334, validation_accuracy: 0.8495, time: 124.03s\n",
      "Epoch [17/20], train_loss: 0.3377596272651932, train_accuracy: 0.887394673853818, validation_accuracy: 0.8551875, time: 120.823s\n",
      "Epoch [18/20], train_loss: 0.3328628004243321, train_accuracy: 0.8893929516618666, validation_accuracy: 0.8524375, time: 132.546s\n",
      "Epoch [19/20], train_loss: 0.33035693998654647, train_accuracy: 0.8900144488985755, validation_accuracy: 0.8541875, time: 128.352s\n",
      "Epoch [20/20], train_loss: 0.3262640782143691, train_accuracy: 0.8909618977193119, validation_accuracy: 0.85496875, time: 129.478s\n"
     ]
    },
    {
     "data": {
      "text/plain": "VBox(children=(Label(value='0.001 MB of 0.020 MB uploaded\\r'), FloatProgress(value=0.060844529750479846, max=1…",
      "application/vnd.jupyter.widget-view+json": {
       "version_major": 2,
       "version_minor": 0,
       "model_id": "11faa5b0b17142b9a915da1e76e7e31c"
      }
     },
     "metadata": {},
     "output_type": "display_data"
    },
    {
     "data": {
      "text/plain": "<IPython.core.display.HTML object>",
      "text/html": "<style>\n    table.wandb td:nth-child(1) { padding: 0 10px; text-align: left ; width: auto;} td:nth-child(2) {text-align: left ; width: 100%}\n    .wandb-row { display: flex; flex-direction: row; flex-wrap: wrap; justify-content: flex-start; width: 100% }\n    .wandb-col { display: flex; flex-direction: column; flex-basis: 100%; flex: 1; padding: 10px; }\n    </style>\n<div class=\"wandb-row\"><div class=\"wandb-col\"><h3>Run history:</h3><br/><table class=\"wandb\"><tr><td>epoch</td><td>▁▁▂▂▂▃▃▄▄▄▅▅▅▆▆▇▇▇██</td></tr><tr><td>train_accuracy</td><td>▁▄▅▆▆▇▇▇▇▇▇▇████████</td></tr><tr><td>train_loss</td><td>█▅▄▃▃▂▂▂▂▂▂▂▁▁▁▁▁▁▁▁</td></tr><tr><td>validation_accuracy</td><td>▁▄▅▆▆▆▇▇▇▇▇██▇█▇████</td></tr></table><br/></div><div class=\"wandb-col\"><h3>Run summary:</h3><br/><table class=\"wandb\"><tr><td>epoch</td><td>20</td></tr><tr><td>train_accuracy</td><td>0.89096</td></tr><tr><td>train_loss</td><td>0.32626</td></tr><tr><td>validation_accuracy</td><td>0.85497</td></tr></table><br/></div></div>"
     },
     "metadata": {},
     "output_type": "display_data"
    },
    {
     "data": {
      "text/plain": "<IPython.core.display.HTML object>",
      "text/html": " View run <strong style=\"color:#cdcd00\">woven-sweep-1</strong> at: <a href='https://wandb.ai/matik001/chess-tactics-swp/runs/2x9gwiny/workspace' target=\"_blank\">https://wandb.ai/matik001/chess-tactics-swp/runs/2x9gwiny/workspace</a><br/>Synced 6 W&B file(s), 0 media file(s), 0 artifact file(s) and 0 other file(s)"
     },
     "metadata": {},
     "output_type": "display_data"
    },
    {
     "data": {
      "text/plain": "<IPython.core.display.HTML object>",
      "text/html": "Find logs at: <code>.\\wandb\\run-20240616_172641-2x9gwiny\\logs</code>"
     },
     "metadata": {},
     "output_type": "display_data"
    },
    {
     "name": "stderr",
     "output_type": "stream",
     "text": [
      "\u001B[34m\u001B[1mwandb\u001B[0m: Agent Starting Run: ty52ldte with config:\n",
      "\u001B[34m\u001B[1mwandb\u001B[0m: \tcriterion: CrossEntropy\n",
      "\u001B[34m\u001B[1mwandb\u001B[0m: \tepochs: 20\n",
      "\u001B[34m\u001B[1mwandb\u001B[0m: \tlearning_rate: 0.001\n",
      "\u001B[34m\u001B[1mwandb\u001B[0m: \tmodel: 1\n",
      "\u001B[34m\u001B[1mwandb\u001B[0m: \toptimizer: adam\n"
     ]
    },
    {
     "data": {
      "text/plain": "<IPython.core.display.HTML object>",
      "text/html": "wandb version 0.17.1 is available!  To upgrade, please run:\n $ pip install wandb --upgrade"
     },
     "metadata": {},
     "output_type": "display_data"
    },
    {
     "data": {
      "text/plain": "<IPython.core.display.HTML object>",
      "text/html": "Tracking run with wandb version 0.16.5"
     },
     "metadata": {},
     "output_type": "display_data"
    },
    {
     "data": {
      "text/plain": "<IPython.core.display.HTML object>",
      "text/html": "Run data is saved locally in <code>D:\\Projects\\TacticsClassifier\\wandb\\run-20240616_180959-ty52ldte</code>"
     },
     "metadata": {},
     "output_type": "display_data"
    },
    {
     "data": {
      "text/plain": "<IPython.core.display.HTML object>",
      "text/html": "Syncing run <strong><a href='https://wandb.ai/matik001/chess-tactics-swp/runs/ty52ldte/workspace' target=\"_blank\">dark-sweep-2</a></strong> to <a href='https://wandb.ai/matik001/chess-tactics-swp' target=\"_blank\">Weights & Biases</a> (<a href='https://wandb.me/run' target=\"_blank\">docs</a>)<br/>Sweep page: <a href='https://wandb.ai/matik001/chess-tactics-swp/sweeps/fds7v1b4' target=\"_blank\">https://wandb.ai/matik001/chess-tactics-swp/sweeps/fds7v1b4</a>"
     },
     "metadata": {},
     "output_type": "display_data"
    },
    {
     "data": {
      "text/plain": "<IPython.core.display.HTML object>",
      "text/html": " View project at <a href='https://wandb.ai/matik001/chess-tactics-swp' target=\"_blank\">https://wandb.ai/matik001/chess-tactics-swp</a>"
     },
     "metadata": {},
     "output_type": "display_data"
    },
    {
     "data": {
      "text/plain": "<IPython.core.display.HTML object>",
      "text/html": " View sweep at <a href='https://wandb.ai/matik001/chess-tactics-swp/sweeps/fds7v1b4' target=\"_blank\">https://wandb.ai/matik001/chess-tactics-swp/sweeps/fds7v1b4</a>"
     },
     "metadata": {},
     "output_type": "display_data"
    },
    {
     "data": {
      "text/plain": "<IPython.core.display.HTML object>",
      "text/html": " View run at <a href='https://wandb.ai/matik001/chess-tactics-swp/runs/ty52ldte/workspace' target=\"_blank\">https://wandb.ai/matik001/chess-tactics-swp/runs/ty52ldte/workspace</a>"
     },
     "metadata": {},
     "output_type": "display_data"
    },
    {
     "name": "stdout",
     "output_type": "stream",
     "text": [
      "Epoch [1/20], train_loss: 1.109234223484, train_accuracy: 0.633360414882852, validation_accuracy: 0.6819375, time: 125.635s\n",
      "Epoch [2/20], train_loss: 0.90218142644667, train_accuracy: 0.7025095839495602, validation_accuracy: 0.712625, time: 113.505s\n",
      "Epoch [3/20], train_loss: 0.8445460051704105, train_accuracy: 0.7213940997898342, validation_accuracy: 0.7243125, time: 118.644s\n",
      "Epoch [4/20], train_loss: 0.8124914910924698, train_accuracy: 0.7315898166887211, validation_accuracy: 0.73096875, time: 114.506s\n",
      "Epoch [5/20], train_loss: 0.7918330988615248, train_accuracy: 0.7385248015100802, validation_accuracy: 0.73834375, time: 111.367s\n",
      "Epoch [6/20], train_loss: 0.7765340550804896, train_accuracy: 0.7430127169767261, validation_accuracy: 0.7383125, time: 116.775s\n",
      "Epoch [7/20], train_loss: 0.765621404010071, train_accuracy: 0.746492371759944, validation_accuracy: 0.74590625, time: 112.668s\n",
      "Epoch [8/20], train_loss: 0.7567636793718696, train_accuracy: 0.7488032225422278, validation_accuracy: 0.74096875, time: 117.19s\n",
      "Epoch [9/20], train_loss: 0.7454032097807782, train_accuracy: 0.7528982933758854, validation_accuracy: 0.7500625, time: 123.156s\n",
      "Epoch [10/20], train_loss: 0.7345334934944252, train_accuracy: 0.755627529773488, validation_accuracy: 0.75384375, time: 127.604s\n",
      "Epoch [11/20], train_loss: 0.7225378959862984, train_accuracy: 0.7600035514127812, validation_accuracy: 0.7563125, time: 120.609s\n",
      "Epoch [12/20], train_loss: 0.713790287240856, train_accuracy: 0.7619191250875691, validation_accuracy: 0.75903125, time: 109.98s\n",
      "Epoch [13/20], train_loss: 0.7072660907507964, train_accuracy: 0.7643674106795361, validation_accuracy: 0.7620625, time: 115.709s\n",
      "Epoch [14/20], train_loss: 0.7012971440502537, train_accuracy: 0.7661796041877481, validation_accuracy: 0.76065625, time: 116.083s\n",
      "Epoch [15/20], train_loss: 0.6963580361741929, train_accuracy: 0.7684053183622636, validation_accuracy: 0.7621875, time: 131.829s\n",
      "Epoch [16/20], train_loss: 0.6919771939727168, train_accuracy: 0.7699693994706935, validation_accuracy: 0.7645625, time: 123.24s\n"
     ]
    }
   ],
   "source": [
    "\n",
    "\n",
    "def create_optimizer(model, optimizer):\n",
    "    if optimizer == \"sgd\":\n",
    "        optimizer = torch.optim.SGD\n",
    "    elif optimizer == \"adam\":\n",
    "        optimizer = torch.optim.Adam\n",
    "    return optimizer\n",
    "\n",
    "def create_criterion(criterion = \"CrossEntropy\"):\n",
    "    if criterion == \"CrossEntropy\":\n",
    "        return nn.CrossEntropyLoss()\n",
    "\n",
    "def main():\n",
    "    with wandb.init(config=None):\n",
    "        config = wandb.config\n",
    "        model = MODELS_LIST[int(config['model'])]\n",
    "        opt_fn = create_optimizer(model, wandb.config.optimizer)\n",
    "        crt_fn = create_criterion(wandb.config.criterion)\n",
    "        train(model, crt_fn, opt_fn(model.classifier.parameters(), lr=wandb.config.learning_rate), wandb.config.epochs)\n",
    "        model_path = f\"model{config['model']}_epochs{config['epochs']}_learning_rate{config['learning_rate']}_optimizer{config['optimizer']}.save\"\n",
    "        torch.save(model, model_path)\n",
    "\n",
    "\n",
    "wandb.agent(sweep_id, main)"
   ],
   "metadata": {
    "collapsed": false,
    "ExecuteTime": {
     "start_time": "2024-06-16T15:26:36.888840Z"
    }
   },
   "id": "c1f4cfec80ac3f97",
   "execution_count": null
  },
  {
   "cell_type": "code",
   "outputs": [],
   "source": [
    "wandb.finish()"
   ],
   "metadata": {
    "collapsed": false
   },
   "id": "1ec594e2ffa4b475"
  },
  {
   "cell_type": "markdown",
   "source": [
    "# Testy modelu"
   ],
   "metadata": {
    "collapsed": false
   },
   "id": "ace45f7638cc3049"
  },
  {
   "cell_type": "code",
   "outputs": [
    {
     "data": {
      "text/plain": "Model(\n  (classifier): Sequential(\n    (0): Conv2d(21, 300, kernel_size=(5, 5), stride=(1, 1), padding=(5, 5))\n    (1): ReLU()\n    (2): Conv2d(300, 30, kernel_size=(2, 2), stride=(1, 1), padding=(2, 2))\n    (3): ReLU()\n    (4): Flatten(start_dim=1, end_dim=-1)\n    (5): Dropout(p=0.5, inplace=False)\n    (6): Linear(in_features=8670, out_features=20, bias=True)\n    (7): ReLU()\n    (8): Linear(in_features=20, out_features=11, bias=True)\n  )\n)"
     },
     "execution_count": 16,
     "metadata": {},
     "output_type": "execute_result"
    }
   ],
   "source": [
    "model = torch.load('model1_epochs20_learning_rate0.001_optimizeradam.save')\n",
    "model.to(DEVICE)"
   ],
   "metadata": {
    "collapsed": false,
    "ExecuteTime": {
     "end_time": "2024-06-16T17:11:30.023061Z",
     "start_time": "2024-06-16T17:11:29.966402Z"
    }
   },
   "id": "d32ca7d95f4d9c82",
   "execution_count": 16
  },
  {
   "cell_type": "code",
   "outputs": [],
   "source": [
    "model.calc_accuracy(loader_train)"
   ],
   "metadata": {
    "collapsed": false
   },
   "id": "aa4a219b517b0d5f",
   "execution_count": null
  },
  {
   "cell_type": "code",
   "outputs": [
    {
     "data": {
      "text/plain": "0.87346875"
     },
     "execution_count": 17,
     "metadata": {},
     "output_type": "execute_result"
    }
   ],
   "source": [
    "model.calc_accuracy(loader_test)"
   ],
   "metadata": {
    "collapsed": false,
    "ExecuteTime": {
     "end_time": "2024-06-16T17:11:36.782220Z",
     "start_time": "2024-06-16T17:11:34.037777Z"
    }
   },
   "id": "f5a4b2dfb6db549f",
   "execution_count": 17
  },
  {
   "cell_type": "code",
   "outputs": [
    {
     "data": {
      "text/plain": "0.87275"
     },
     "execution_count": 18,
     "metadata": {},
     "output_type": "execute_result"
    }
   ],
   "source": [
    "model.calc_accuracy(loader_valid)"
   ],
   "metadata": {
    "collapsed": false,
    "ExecuteTime": {
     "end_time": "2024-06-16T17:11:38.828022Z",
     "start_time": "2024-06-16T17:11:36.785695Z"
    }
   },
   "id": "a820cdd1f654102",
   "execution_count": 18
  },
  {
   "cell_type": "code",
   "outputs": [],
   "source": [],
   "metadata": {
    "collapsed": false
   },
   "id": "846884d9aaf08453"
  }
 ],
 "metadata": {
  "kernelspec": {
   "display_name": "Python 3",
   "language": "python",
   "name": "python3"
  },
  "language_info": {
   "codemirror_mode": {
    "name": "ipython",
    "version": 2
   },
   "file_extension": ".py",
   "mimetype": "text/x-python",
   "name": "python",
   "nbconvert_exporter": "python",
   "pygments_lexer": "ipython2",
   "version": "2.7.6"
  }
 },
 "nbformat": 4,
 "nbformat_minor": 5
}
