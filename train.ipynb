{
 "cells": [
  {
   "cell_type": "code",
   "outputs": [],
   "source": [
    "import wandb\n",
    "import pathlib\n",
    "import urllib\n",
    "import zstandard\n",
    "import chess\n",
    "import torch\n",
    "import numpy as np\n",
    "from torch import nn\n",
    "import math\n",
    "import time\n",
    "\n",
    "from torch.nn import init\n",
    "from torch.utils.data import DataLoader\n",
    "from torchinfo import summary"
   ],
   "metadata": {
    "collapsed": false,
    "ExecuteTime": {
     "end_time": "2024-06-16T01:45:10.187165Z",
     "start_time": "2024-06-16T01:45:10.142151Z"
    }
   },
   "id": "3717b89548581ad7",
   "execution_count": 30
  },
  {
   "cell_type": "code",
   "outputs": [
    {
     "name": "stdout",
     "output_type": "stream",
     "text": [
      "DEVICE: cuda\n"
     ]
    }
   ],
   "source": [
    "BATCH_SIZE = 64\n",
    "DEVICE = torch.device(\"cuda\" if torch.cuda.is_available() else \"cpu\")\n",
    "print(\"DEVICE: \" + str(DEVICE))"
   ],
   "metadata": {
    "collapsed": false,
    "ExecuteTime": {
     "end_time": "2024-06-16T01:45:10.344649Z",
     "start_time": "2024-06-16T01:45:10.333532Z"
    }
   },
   "id": "3840fbf671584691",
   "execution_count": 31
  },
  {
   "cell_type": "code",
   "outputs": [
    {
     "data": {
      "text/plain": "True"
     },
     "execution_count": 32,
     "metadata": {},
     "output_type": "execute_result"
    }
   ],
   "source": [
    "wandb.login()"
   ],
   "metadata": {
    "collapsed": false,
    "ExecuteTime": {
     "end_time": "2024-06-16T01:45:11.038889Z",
     "start_time": "2024-06-16T01:45:10.969168Z"
    }
   },
   "id": "749d49541eae5c3c",
   "execution_count": 32
  },
  {
   "cell_type": "code",
   "outputs": [
    {
     "name": "stdout",
     "output_type": "stream",
     "text": [
      "Batches train 13126\n",
      "Batches valid 500\n",
      "Batches test 500\n"
     ]
    }
   ],
   "source": [
    "dataset_train = torch.load('dataset_train.save')\n",
    "dataset_test = torch.load('dataset_test.save')\n",
    "dataset_valid = torch.load('dataset_valid.save')\n",
    "\n",
    "loader_train = DataLoader(dataset_train, batch_size=BATCH_SIZE, shuffle=True)\n",
    "loader_test = DataLoader(dataset_test, batch_size=BATCH_SIZE, shuffle=True)\n",
    "loader_valid = DataLoader(dataset_valid, batch_size=BATCH_SIZE, shuffle=True)\n",
    "\n",
    "print(\"Batches train\", len(loader_train))\n",
    "print(\"Batches valid\", len(loader_valid))\n",
    "print(\"Batches test\", len(loader_test))"
   ],
   "metadata": {
    "collapsed": false,
    "ExecuteTime": {
     "end_time": "2024-06-16T01:47:12.673649Z",
     "start_time": "2024-06-16T01:45:11.472902Z"
    }
   },
   "id": "95c90eee14b66964",
   "execution_count": 33
  },
  {
   "cell_type": "code",
   "outputs": [],
   "source": [
    "DATA_SHAPE = (BATCH_SIZE,) +  tuple(dataset_train[0][0].shape)"
   ],
   "metadata": {
    "collapsed": false,
    "ExecuteTime": {
     "end_time": "2024-06-16T01:47:12.697259Z",
     "start_time": "2024-06-16T01:47:12.682367Z"
    }
   },
   "id": "e0c282a29dd4c497",
   "execution_count": 34
  },
  {
   "cell_type": "code",
   "outputs": [],
   "source": [
    "class Model(nn.Module):\n",
    "    def __init__(self, *args, **kwargs):\n",
    "        super(Model, self).__init__()\n",
    "        self.classifier = nn.Sequential(*args, **kwargs)\n",
    "\n",
    "\n",
    "    def init_xavier(self):\n",
    "        for m in self.modules():\n",
    "            if isinstance(m, nn.Conv2d) or isinstance(m, nn.Linear):\n",
    "                init.xavier_normal_(m.weight)\n",
    "    \n",
    "    def calc_accuracy(self, loader):\n",
    "        correct = 0\n",
    "        total = 0\n",
    "        with torch.no_grad():\n",
    "            for batch in loader:\n",
    "                features, labels = batch\n",
    "                labels = labels.to(DEVICE) \n",
    "                features = features.to(DEVICE)\n",
    "                outputs = self(features)\n",
    "                _, predicted = torch.max(outputs, 1)\n",
    "                total += labels.size(0) \n",
    "                correct += (predicted == labels).sum().item() \n",
    "        return correct / total\n",
    "    \n",
    "    def forward(self, X):\n",
    "        return self.classifier.forward(X)\n",
    "\n",
    "\n"
   ],
   "metadata": {
    "collapsed": false,
    "ExecuteTime": {
     "end_time": "2024-06-16T01:47:12.729182Z",
     "start_time": "2024-06-16T01:47:12.699769Z"
    }
   },
   "id": "b8c2f22a343e5a2b",
   "execution_count": 35
  },
  {
   "cell_type": "code",
   "outputs": [
    {
     "name": "stdout",
     "output_type": "stream",
     "text": [
      "==========================================================================================\n",
      "Layer (type:depth-idx)                   Output Shape              Param #\n",
      "==========================================================================================\n",
      "Model                                    [64, 11]                  --\n",
      "├─Sequential: 1-1                        --                        --\n",
      "│    └─Conv2d: 2-1                       [64, 64, 13, 13]          21,568\n",
      "│    └─ReLU: 2-2                         [64, 64, 13, 13]          --\n",
      "│    └─Conv2d: 2-3                       [64, 16, 20, 20]          4,112\n",
      "│    └─ReLU: 2-4                         [64, 16, 20, 20]          --\n",
      "│    └─MaxPool2d: 2-5                    [64, 16, 17, 17]          --\n",
      "│    └─Conv2d: 2-6                       [64, 64, 24, 24]          4,160\n",
      "│    └─ReLU: 2-7                         [64, 64, 24, 24]          --\n",
      "│    └─Conv2d: 2-8                       [64, 1, 29, 29]           1,025\n",
      "│    └─ReLU: 2-9                         [64, 1, 29, 29]           --\n",
      "│    └─Flatten: 2-10                     [64, 841]                 --\n",
      "│    └─Linear: 2-11                      [64, 256]                 215,552\n",
      "│    └─ReLU: 2-12                        [64, 256]                 --\n",
      "│    └─Linear: 2-13                      [64, 64]                  16,448\n",
      "│    └─ReLU: 2-14                        [64, 64]                  --\n",
      "│    └─Linear: 2-15                      [64, 11]                  715\n",
      "│    └─LogSoftmax: 2-16                  [64, 11]                  --\n",
      "==========================================================================================\n",
      "Total params: 263,580\n",
      "Trainable params: 263,580\n",
      "Non-trainable params: 0\n",
      "Total mult-adds (Units.MEGABYTES): 561.96\n",
      "==========================================================================================\n",
      "Input size (MB): 0.34\n",
      "Forward/backward pass size (MB): 28.29\n",
      "Params size (MB): 1.05\n",
      "Estimated Total Size (MB): 29.69\n",
      "==========================================================================================\n"
     ]
    }
   ],
   "source": [
    "model0 = Model(nn.Conv2d(21, 8 * 8, kernel_size=4, padding=4),\n",
    "              nn.ReLU(),\n",
    "              nn.Conv2d(8 * 8, 4 * 4, kernel_size=2, padding=4),\n",
    "              nn.ReLU(),\n",
    "              nn.MaxPool2d(kernel_size=4, stride=1),\n",
    "              nn.Conv2d(4*4, 8 * 8, kernel_size=2, padding=4),\n",
    "              nn.ReLU(),\n",
    "              nn.Conv2d(8 * 8, 1, kernel_size=4, padding=4),\n",
    "              nn.ReLU(),\n",
    "              nn.Flatten(),\n",
    "              nn.Linear(841, 256),\n",
    "              nn.ReLU(),\n",
    "              nn.Linear(256, 64),\n",
    "              nn.ReLU(),\n",
    "              nn.Linear(64, 11),\n",
    "              nn.LogSoftmax()\n",
    "              )\n",
    "\n",
    "architecture_summary = summary(model0, DATA_SHAPE)\n",
    "print(architecture_summary)"
   ],
   "metadata": {
    "collapsed": false,
    "ExecuteTime": {
     "end_time": "2024-06-16T01:47:12.903377Z",
     "start_time": "2024-06-16T01:47:12.732190Z"
    }
   },
   "id": "ddca523ca5fac242",
   "execution_count": 36
  },
  {
   "cell_type": "code",
   "outputs": [
    {
     "name": "stdout",
     "output_type": "stream",
     "text": [
      "==========================================================================================\n",
      "Layer (type:depth-idx)                   Output Shape              Param #\n",
      "==========================================================================================\n",
      "Model                                    [64, 11]                  --\n",
      "├─Sequential: 1-1                        --                        --\n",
      "│    └─Conv2d: 2-1                       [64, 300, 14, 14]         157,800\n",
      "│    └─ReLU: 2-2                         [64, 300, 14, 14]         --\n",
      "│    └─Conv2d: 2-3                       [64, 30, 17, 17]          36,030\n",
      "│    └─ReLU: 2-4                         [64, 30, 17, 17]          --\n",
      "│    └─Flatten: 2-5                      [64, 8670]                --\n",
      "│    └─Linear: 2-6                       [64, 20]                  173,420\n",
      "│    └─ReLU: 2-7                         [64, 20]                  --\n",
      "│    └─Linear: 2-8                       [64, 11]                  231\n",
      "│    └─LogSoftmax: 2-9                   [64, 11]                  --\n",
      "==========================================================================================\n",
      "Total params: 367,481\n",
      "Trainable params: 367,481\n",
      "Non-trainable params: 0\n",
      "Total mult-adds (Units.GIGABYTES): 2.66\n",
      "==========================================================================================\n",
      "Input size (MB): 0.34\n",
      "Forward/backward pass size (MB): 34.56\n",
      "Params size (MB): 1.47\n",
      "Estimated Total Size (MB): 36.37\n",
      "==========================================================================================\n"
     ]
    }
   ],
   "source": [
    "model1 = Model(nn.Conv2d(21, 300, kernel_size=5, padding=5),\n",
    "              nn.ReLU(),\n",
    "              nn.Conv2d(300, 30, kernel_size=2, padding=2),\n",
    "              nn.ReLU(),\n",
    "              nn.Flatten(),\n",
    "              nn.Linear(8670, 20),\n",
    "              nn.ReLU(),\n",
    "              nn.Linear(20, 11),\n",
    "              nn.LogSoftmax()\n",
    "              )\n",
    "\n",
    "architecture_summary = summary(model1, DATA_SHAPE)\n",
    "print(architecture_summary)"
   ],
   "metadata": {
    "collapsed": false,
    "ExecuteTime": {
     "end_time": "2024-06-16T01:47:12.968375Z",
     "start_time": "2024-06-16T01:47:12.911548Z"
    }
   },
   "id": "321aaf138bd4e8e0",
   "execution_count": 37
  },
  {
   "cell_type": "code",
   "outputs": [
    {
     "name": "stdout",
     "output_type": "stream",
     "text": [
      "==========================================================================================\n",
      "Layer (type:depth-idx)                   Output Shape              Param #\n",
      "==========================================================================================\n",
      "Model                                    [64, 11]                  --\n",
      "├─Sequential: 1-1                        --                        --\n",
      "│    └─Conv2d: 2-1                       [64, 70, 9, 9]            23,590\n",
      "│    └─ReLU: 2-2                         [64, 70, 9, 9]            --\n",
      "│    └─Conv2d: 2-3                       [64, 70, 12, 12]          19,670\n",
      "│    └─ReLU: 2-4                         [64, 70, 12, 12]          --\n",
      "│    └─Conv2d: 2-5                       [64, 50, 15, 15]          14,050\n",
      "│    └─ReLU: 2-6                         [64, 50, 15, 15]          --\n",
      "│    └─Conv2d: 2-7                       [64, 2, 18, 18]           402\n",
      "│    └─ReLU: 2-8                         [64, 2, 18, 18]           --\n",
      "│    └─Flatten: 2-9                      [64, 648]                 --\n",
      "│    └─Linear: 2-10                      [64, 30]                  19,470\n",
      "│    └─ReLU: 2-11                        [64, 30]                  --\n",
      "│    └─Linear: 2-12                      [64, 30]                  930\n",
      "│    └─ReLU: 2-13                        [64, 30]                  --\n",
      "│    └─Linear: 2-14                      [64, 11]                  341\n",
      "│    └─LogSoftmax: 2-15                  [64, 11]                  --\n",
      "==========================================================================================\n",
      "Total params: 78,453\n",
      "Trainable params: 78,453\n",
      "Non-trainable params: 0\n",
      "Total mult-adds (Units.MEGABYTES): 515.55\n",
      "==========================================================================================\n",
      "Input size (MB): 0.34\n",
      "Forward/backward pass size (MB): 14.19\n",
      "Params size (MB): 0.31\n",
      "Estimated Total Size (MB): 14.85\n",
      "==========================================================================================\n"
     ]
    }
   ],
   "source": [
    "model2 = Model(nn.Conv2d(21, 70, kernel_size=4, padding=2),\n",
    "              nn.ReLU(),\n",
    "              nn.Conv2d(70, 70, kernel_size=2, padding=2),\n",
    "              nn.ReLU(),\n",
    "              nn.Conv2d(70, 50, kernel_size=2, padding=2),\n",
    "              nn.ReLU(),\n",
    "              nn.Conv2d(50, 2, kernel_size=2, padding=2),\n",
    "              nn.ReLU(),\n",
    "              nn.Flatten(),\n",
    "              nn.Linear(648, 30),\n",
    "              nn.ReLU(),\n",
    "              nn.Linear(30, 30),\n",
    "              nn.ReLU(),\n",
    "              nn.Linear(30, 11),\n",
    "              nn.LogSoftmax()\n",
    "              )\n",
    "\n",
    "architecture_summary = summary(model2, DATA_SHAPE)\n",
    "print(architecture_summary)"
   ],
   "metadata": {
    "collapsed": false,
    "ExecuteTime": {
     "end_time": "2024-06-16T01:47:13.020783Z",
     "start_time": "2024-06-16T01:47:12.977457Z"
    }
   },
   "id": "48f342f0f526c13a",
   "execution_count": 38
  },
  {
   "cell_type": "code",
   "outputs": [],
   "source": [
    "MODELS_LIST = [model0, model1, model2]"
   ],
   "metadata": {
    "collapsed": false,
    "ExecuteTime": {
     "end_time": "2024-06-16T01:47:13.035695Z",
     "start_time": "2024-06-16T01:47:13.025484Z"
    }
   },
   "id": "23091914b59e0b0b",
   "execution_count": 39
  },
  {
   "cell_type": "code",
   "outputs": [],
   "source": [
    "def accuracy(out,truth):\n",
    "    return torch.argmax(out,dim=1) == truth"
   ],
   "metadata": {
    "collapsed": false,
    "ExecuteTime": {
     "end_time": "2024-06-16T01:47:13.051091Z",
     "start_time": "2024-06-16T01:47:13.040113Z"
    }
   },
   "id": "604edf0d8cf46e4",
   "execution_count": 40
  },
  {
   "cell_type": "code",
   "outputs": [],
   "source": [
    "def train(model, criterion, optimizer, epoch):\n",
    "    model = model.to(DEVICE)\n",
    "    model.init_xavier()\n",
    "    criterion = criterion.to(DEVICE)\n",
    "    batches_amount = len(loader_train)\n",
    "    \n",
    "    for i in range(epoch):\n",
    "        time_started = time.time() * 1000\n",
    "        loss_sum=0.0\n",
    "        accuracy_sum=0.0\n",
    "        for batch, truth in loader_train:\n",
    "            batch = batch.to(DEVICE)\n",
    "            truth = truth.to(DEVICE)\n",
    "            \n",
    "            optimizer.zero_grad()\n",
    "            out = model.forward(batch)\n",
    "            loss = criterion(out, truth)\n",
    "            loss.backward()\n",
    "            optimizer.step()\n",
    "            \n",
    "            accuracy_value = accuracy(out,truth).sum()/BATCH_SIZE\n",
    "\n",
    "            loss_sum+=loss.item()\n",
    "            accuracy_sum+=accuracy_value.item()\n",
    "\n",
    "        passed_time = math.ceil(time.time() * 1000 - time_started)\n",
    "        loss_average = loss_sum/batches_amount\n",
    "        accuracy_average = accuracy_sum/batches_amount\n",
    "        validation_accuracy = model.calc_accuracy(loader_valid)\n",
    "\n",
    "        print(f\"Epoch [{i+1}/{epoch}], train_loss: {loss_average}, train_accuracy: {accuracy_average}, validation_accuracy: {validation_accuracy}, time: {passed_time/1000}s\")\n",
    "        wandb.log({\n",
    "            \"epoch\": i + 1, \n",
    "            \"train_loss\": loss_average, \n",
    "            \"train_accuracy\" : accuracy_average,\n",
    "            \"validation_accuracy\" : validation_accuracy}\n",
    "        )"
   ],
   "metadata": {
    "collapsed": false,
    "ExecuteTime": {
     "end_time": "2024-06-16T01:47:13.089280Z",
     "start_time": "2024-06-16T01:47:13.056803Z"
    }
   },
   "id": "d98ba8fed2176402",
   "execution_count": 41
  },
  {
   "cell_type": "code",
   "outputs": [
    {
     "name": "stdout",
     "output_type": "stream",
     "text": [
      "Create sweep with ID: espidqob\n",
      "Sweep URL: https://wandb.ai/matik001/chess-tactics-swp/sweeps/espidqob\n"
     ]
    },
    {
     "name": "stderr",
     "output_type": "stream",
     "text": [
      "\u001B[34m\u001B[1mwandb\u001B[0m: Agent Starting Run: 6n9ftkir with config:\n",
      "\u001B[34m\u001B[1mwandb\u001B[0m: \tcriterion: CrossEntropy\n",
      "\u001B[34m\u001B[1mwandb\u001B[0m: \tepochs: 30\n",
      "\u001B[34m\u001B[1mwandb\u001B[0m: \tlearning_rate: 0.0003\n",
      "\u001B[34m\u001B[1mwandb\u001B[0m: \tmodel: 0\n",
      "\u001B[34m\u001B[1mwandb\u001B[0m: \toptimizer: adam\n"
     ]
    },
    {
     "data": {
      "text/plain": "<IPython.core.display.HTML object>",
      "text/html": "wandb version 0.17.1 is available!  To upgrade, please run:\n $ pip install wandb --upgrade"
     },
     "metadata": {},
     "output_type": "display_data"
    },
    {
     "data": {
      "text/plain": "<IPython.core.display.HTML object>",
      "text/html": "Tracking run with wandb version 0.16.5"
     },
     "metadata": {},
     "output_type": "display_data"
    },
    {
     "data": {
      "text/plain": "<IPython.core.display.HTML object>",
      "text/html": "Run data is saved locally in <code>D:\\Projects\\TacticsClassifier\\wandb\\run-20240616_034719-6n9ftkir</code>"
     },
     "metadata": {},
     "output_type": "display_data"
    },
    {
     "data": {
      "text/plain": "<IPython.core.display.HTML object>",
      "text/html": "Syncing run <strong><a href='https://wandb.ai/matik001/chess-tactics-swp/runs/6n9ftkir/workspace' target=\"_blank\">silver-sweep-1</a></strong> to <a href='https://wandb.ai/matik001/chess-tactics-swp' target=\"_blank\">Weights & Biases</a> (<a href='https://wandb.me/run' target=\"_blank\">docs</a>)<br/>Sweep page: <a href='https://wandb.ai/matik001/chess-tactics-swp/sweeps/espidqob' target=\"_blank\">https://wandb.ai/matik001/chess-tactics-swp/sweeps/espidqob</a>"
     },
     "metadata": {},
     "output_type": "display_data"
    },
    {
     "data": {
      "text/plain": "<IPython.core.display.HTML object>",
      "text/html": " View project at <a href='https://wandb.ai/matik001/chess-tactics-swp' target=\"_blank\">https://wandb.ai/matik001/chess-tactics-swp</a>"
     },
     "metadata": {},
     "output_type": "display_data"
    },
    {
     "data": {
      "text/plain": "<IPython.core.display.HTML object>",
      "text/html": " View sweep at <a href='https://wandb.ai/matik001/chess-tactics-swp/sweeps/espidqob' target=\"_blank\">https://wandb.ai/matik001/chess-tactics-swp/sweeps/espidqob</a>"
     },
     "metadata": {},
     "output_type": "display_data"
    },
    {
     "data": {
      "text/plain": "<IPython.core.display.HTML object>",
      "text/html": " View run at <a href='https://wandb.ai/matik001/chess-tactics-swp/runs/6n9ftkir/workspace' target=\"_blank\">https://wandb.ai/matik001/chess-tactics-swp/runs/6n9ftkir/workspace</a>"
     },
     "metadata": {},
     "output_type": "display_data"
    },
    {
     "name": "stdout",
     "output_type": "stream",
     "text": [
      "Epoch [1/30], train_loss: 1.0812824478277288, train_accuracy: 0.63950127609325, validation_accuracy: 0.70159375, time: 147.188s\n",
      "Epoch [2/30], train_loss: 0.8199746288346678, train_accuracy: 0.7283587917111077, validation_accuracy: 0.7399375, time: 122.31s\n",
      "Epoch [3/30], train_loss: 0.739751915678861, train_accuracy: 0.7543187185738229, validation_accuracy: 0.75734375, time: 122.702s\n",
      "Epoch [4/30], train_loss: 0.6936169724225199, train_accuracy: 0.7686795291787293, validation_accuracy: 0.7665, time: 115.357s\n"
     ]
    }
   ],
   "source": [
    "sweep_config = {\n",
    "    'method': 'bayes',  # random, grid or bayes\n",
    "    'name': 'sweep-chess-tactics',\n",
    "    'metric': {\n",
    "        'goal': 'minimize', \n",
    "        'name': 'train_loss'\n",
    "    },\n",
    "    'parameters': {\n",
    "        'epochs': {\n",
    "            'values': [5, 10, 30]\n",
    "        },\n",
    "        'learning_rate': {\n",
    "            'values': [0.003, 0.001, 0.0003]\n",
    "        },\n",
    "        'optimizer': {\n",
    "            'values': ['sgd', 'adam']\n",
    "        },\n",
    "        'criterion': {\n",
    "            'values': ['CrossEntropy']\n",
    "        },\n",
    "        'model': {\n",
    "            'values': list(range(len(MODELS_LIST)))\n",
    "        }\n",
    "     },\n",
    "\n",
    "}\n",
    "\n",
    "def create_optimizer(model, optimizer):\n",
    "    if optimizer == \"sgd\":\n",
    "        optimizer = torch.optim.SGD\n",
    "    elif optimizer == \"adam\":\n",
    "        optimizer = torch.optim.Adam\n",
    "    return optimizer\n",
    "\n",
    "def create_criterion(criterion = \"CrossEntropy\"):\n",
    "    if criterion == \"CrossEntropy\":\n",
    "        return nn.CrossEntropyLoss()\n",
    "\n",
    "def main():\n",
    "    with wandb.init(config=None):\n",
    "        config = wandb.config\n",
    "        model = MODELS_LIST[int(config['model'])]\n",
    "        opt_fn = create_optimizer(model, wandb.config.optimizer)\n",
    "        crt_fn = create_criterion(wandb.config.criterion)\n",
    "        train(model, crt_fn, opt_fn(model.classifier.parameters(), lr=wandb.config.learning_rate), wandb.config.epochs)\n",
    "        model_path = f\"model{config['model']}_epochs{config['epochs']}_learning_rate{config['learning_rate']}_optimizer{config['optimizer']}.save\"\n",
    "        torch.save(model, model_path)\n",
    "\n",
    "\n",
    "sweep_id = wandb.sweep(sweep_config, project=\"chess-tactics-swp\")\n",
    "wandb.agent(sweep_id, main, count=2)"
   ],
   "metadata": {
    "collapsed": false,
    "is_executing": true,
    "ExecuteTime": {
     "start_time": "2024-06-16T01:47:13.092292Z"
    }
   },
   "id": "c1f4cfec80ac3f97",
   "execution_count": null
  },
  {
   "cell_type": "code",
   "outputs": [],
   "source": [
    "wandb.finish()"
   ],
   "metadata": {
    "collapsed": false,
    "is_executing": true
   },
   "id": "1ec594e2ffa4b475"
  },
  {
   "cell_type": "code",
   "outputs": [],
   "source": [],
   "metadata": {
    "collapsed": false
   },
   "id": "a84e943423bec785"
  }
 ],
 "metadata": {
  "kernelspec": {
   "display_name": "Python 3",
   "language": "python",
   "name": "python3"
  },
  "language_info": {
   "codemirror_mode": {
    "name": "ipython",
    "version": 2
   },
   "file_extension": ".py",
   "mimetype": "text/x-python",
   "name": "python",
   "nbconvert_exporter": "python",
   "pygments_lexer": "ipython2",
   "version": "2.7.6"
  }
 },
 "nbformat": 4,
 "nbformat_minor": 5
}
