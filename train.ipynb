{
 "cells": [
  {
   "cell_type": "code",
   "outputs": [],
   "source": [
    "import wandb\n",
    "import pathlib\n",
    "import urllib\n",
    "import zstandard\n",
    "import chess\n",
    "import torch\n",
    "import numpy as np\n",
    "from torch import nn\n",
    "import math\n",
    "import time\n",
    "\n",
    "from torch.nn import init\n",
    "from torch.utils.data import DataLoader\n",
    "from torchinfo import summary"
   ],
   "metadata": {
    "collapsed": false,
    "ExecuteTime": {
     "end_time": "2024-06-16T17:30:24.008508Z",
     "start_time": "2024-06-16T17:30:19.351978Z"
    }
   },
   "id": "3717b89548581ad7",
   "execution_count": 1
  },
  {
   "cell_type": "code",
   "outputs": [
    {
     "name": "stdout",
     "output_type": "stream",
     "text": [
      "DEVICE: cuda\n"
     ]
    }
   ],
   "source": [
    "BATCH_SIZE = 64\n",
    "DEVICE = torch.device(\"cuda\" if torch.cuda.is_available() else \"cpu\")\n",
    "print(\"DEVICE: \" + str(DEVICE))"
   ],
   "metadata": {
    "collapsed": false,
    "ExecuteTime": {
     "end_time": "2024-06-16T17:30:25.261041Z",
     "start_time": "2024-06-16T17:30:24.010642Z"
    }
   },
   "id": "3840fbf671584691",
   "execution_count": 2
  },
  {
   "cell_type": "code",
   "outputs": [
    {
     "name": "stderr",
     "output_type": "stream",
     "text": [
      "\u001B[34m\u001B[1mwandb\u001B[0m: Currently logged in as: \u001B[33mmatik\u001B[0m (\u001B[33mmatik001\u001B[0m). Use \u001B[1m`wandb login --relogin`\u001B[0m to force relogin\n"
     ]
    },
    {
     "data": {
      "text/plain": "True"
     },
     "execution_count": 3,
     "metadata": {},
     "output_type": "execute_result"
    }
   ],
   "source": [
    "wandb.login()"
   ],
   "metadata": {
    "collapsed": false,
    "ExecuteTime": {
     "end_time": "2024-06-16T17:30:27.944473Z",
     "start_time": "2024-06-16T17:30:25.262134Z"
    }
   },
   "id": "749d49541eae5c3c",
   "execution_count": 3
  },
  {
   "cell_type": "code",
   "outputs": [
    {
     "name": "stdout",
     "output_type": "stream",
     "text": [
      "Batches train 12847\n",
      "Batches valid 500\n",
      "Batches test 500\n"
     ]
    }
   ],
   "source": [
    "dataset_train = torch.load('dataset_train.save')\n",
    "dataset_test = torch.load('dataset_test.save')\n",
    "dataset_valid = torch.load('dataset_valid.save')\n",
    "\n",
    "loader_train = DataLoader(dataset_train, batch_size=BATCH_SIZE, shuffle=True)\n",
    "loader_test = DataLoader(dataset_test, batch_size=BATCH_SIZE, shuffle=True)\n",
    "loader_valid = DataLoader(dataset_valid, batch_size=BATCH_SIZE, shuffle=True)\n",
    "\n",
    "print(\"Batches train\", len(loader_train))\n",
    "print(\"Batches valid\", len(loader_valid))\n",
    "print(\"Batches test\", len(loader_test))"
   ],
   "metadata": {
    "collapsed": false,
    "ExecuteTime": {
     "end_time": "2024-06-16T17:31:39.835864Z",
     "start_time": "2024-06-16T17:30:27.945541Z"
    }
   },
   "id": "95c90eee14b66964",
   "execution_count": 4
  },
  {
   "cell_type": "code",
   "outputs": [],
   "source": [
    "DATA_SHAPE = (BATCH_SIZE,) +  tuple(dataset_train[0][0].shape)"
   ],
   "metadata": {
    "collapsed": false,
    "ExecuteTime": {
     "end_time": "2024-06-16T17:31:39.849989Z",
     "start_time": "2024-06-16T17:31:39.842294Z"
    }
   },
   "id": "e0c282a29dd4c497",
   "execution_count": 5
  },
  {
   "cell_type": "code",
   "outputs": [],
   "source": [
    "class Model(nn.Module):\n",
    "    def __init__(self, *args, **kwargs):\n",
    "        super(Model, self).__init__()\n",
    "        self.classifier = nn.Sequential(*args, **kwargs)\n",
    "\n",
    "\n",
    "    def init_xavier(self):\n",
    "        for m in self.modules():\n",
    "            if isinstance(m, nn.Conv2d) or isinstance(m, nn.Linear):\n",
    "                init.xavier_normal_(m.weight)\n",
    "    \n",
    "    def calc_accuracy(self, loader):\n",
    "        correct = 0\n",
    "        total = 0\n",
    "        self.eval()\n",
    "        with torch.no_grad():\n",
    "            for batch in loader:\n",
    "                features, labels = batch\n",
    "                labels = labels.to(DEVICE) \n",
    "                features = features.to(DEVICE)\n",
    "                outputs = self(features)\n",
    "                _, predicted = torch.max(outputs, 1)\n",
    "                total += labels.size(0) \n",
    "                correct += (predicted == labels).sum().item() \n",
    "        self.train()\n",
    "        return correct / total\n",
    "    \n",
    "    def forward(self, X):\n",
    "        return self.classifier.forward(X)\n",
    "\n",
    "\n"
   ],
   "metadata": {
    "collapsed": false,
    "ExecuteTime": {
     "end_time": "2024-06-16T17:31:39.872971Z",
     "start_time": "2024-06-16T17:31:39.852554Z"
    }
   },
   "id": "b8c2f22a343e5a2b",
   "execution_count": 6
  },
  {
   "cell_type": "code",
   "outputs": [
    {
     "name": "stdout",
     "output_type": "stream",
     "text": [
      "==========================================================================================\n",
      "Layer (type:depth-idx)                   Output Shape              Param #\n",
      "==========================================================================================\n",
      "Model                                    [64, 11]                  --\n",
      "├─Sequential: 1-1                        --                        --\n",
      "│    └─Conv2d: 2-1                       [64, 64, 13, 13]          21,568\n",
      "│    └─ReLU: 2-2                         [64, 64, 13, 13]          --\n",
      "│    └─Conv2d: 2-3                       [64, 16, 20, 20]          4,112\n",
      "│    └─ReLU: 2-4                         [64, 16, 20, 20]          --\n",
      "│    └─MaxPool2d: 2-5                    [64, 16, 17, 17]          --\n",
      "│    └─Conv2d: 2-6                       [64, 64, 24, 24]          4,160\n",
      "│    └─ReLU: 2-7                         [64, 64, 24, 24]          --\n",
      "│    └─Conv2d: 2-8                       [64, 1, 29, 29]           1,025\n",
      "│    └─ReLU: 2-9                         [64, 1, 29, 29]           --\n",
      "│    └─Flatten: 2-10                     [64, 841]                 --\n",
      "│    └─Linear: 2-11                      [64, 256]                 215,552\n",
      "│    └─ReLU: 2-12                        [64, 256]                 --\n",
      "│    └─Linear: 2-13                      [64, 64]                  16,448\n",
      "│    └─ReLU: 2-14                        [64, 64]                  --\n",
      "│    └─Linear: 2-15                      [64, 11]                  715\n",
      "==========================================================================================\n",
      "Total params: 263,580\n",
      "Trainable params: 263,580\n",
      "Non-trainable params: 0\n",
      "Total mult-adds (Units.MEGABYTES): 561.96\n",
      "==========================================================================================\n",
      "Input size (MB): 0.34\n",
      "Forward/backward pass size (MB): 28.29\n",
      "Params size (MB): 1.05\n",
      "Estimated Total Size (MB): 29.69\n",
      "==========================================================================================\n"
     ]
    }
   ],
   "source": [
    "model0 = Model(nn.Conv2d(21, 8 * 8, kernel_size=4, padding=4),\n",
    "              nn.ReLU(),\n",
    "              nn.Conv2d(8 * 8, 4 * 4, kernel_size=2, padding=4),\n",
    "              nn.ReLU(),\n",
    "              nn.MaxPool2d(kernel_size=4, stride=1),\n",
    "              nn.Conv2d(4*4, 8 * 8, kernel_size=2, padding=4),\n",
    "              nn.ReLU(),\n",
    "              nn.Conv2d(8 * 8, 1, kernel_size=4, padding=4),\n",
    "              nn.ReLU(),\n",
    "              nn.Flatten(),\n",
    "              nn.Linear(841, 256),\n",
    "              nn.ReLU(),\n",
    "              nn.Linear(256, 64),\n",
    "              nn.ReLU(),\n",
    "              nn.Linear(64, 11)\n",
    "              )\n",
    "\n",
    "architecture_summary = summary(model0, DATA_SHAPE)\n",
    "print(architecture_summary)"
   ],
   "metadata": {
    "collapsed": false,
    "ExecuteTime": {
     "end_time": "2024-06-16T17:31:52.500712Z",
     "start_time": "2024-06-16T17:31:39.874155Z"
    }
   },
   "id": "ddca523ca5fac242",
   "execution_count": 7
  },
  {
   "cell_type": "code",
   "outputs": [
    {
     "name": "stdout",
     "output_type": "stream",
     "text": [
      "==========================================================================================\n",
      "Layer (type:depth-idx)                   Output Shape              Param #\n",
      "==========================================================================================\n",
      "Model                                    [64, 11]                  --\n",
      "├─Sequential: 1-1                        --                        --\n",
      "│    └─Conv2d: 2-1                       [64, 300, 14, 14]         157,800\n",
      "│    └─ReLU: 2-2                         [64, 300, 14, 14]         --\n",
      "│    └─Conv2d: 2-3                       [64, 30, 17, 17]          36,030\n",
      "│    └─ReLU: 2-4                         [64, 30, 17, 17]          --\n",
      "│    └─Flatten: 2-5                      [64, 8670]                --\n",
      "│    └─Dropout: 2-6                      [64, 8670]                --\n",
      "│    └─Linear: 2-7                       [64, 20]                  173,420\n",
      "│    └─ReLU: 2-8                         [64, 20]                  --\n",
      "│    └─Linear: 2-9                       [64, 11]                  231\n",
      "==========================================================================================\n",
      "Total params: 367,481\n",
      "Trainable params: 367,481\n",
      "Non-trainable params: 0\n",
      "Total mult-adds (Units.GIGABYTES): 2.66\n",
      "==========================================================================================\n",
      "Input size (MB): 0.34\n",
      "Forward/backward pass size (MB): 34.56\n",
      "Params size (MB): 1.47\n",
      "Estimated Total Size (MB): 36.37\n",
      "==========================================================================================\n"
     ]
    }
   ],
   "source": [
    "model1 = Model(nn.Conv2d(21, 300, kernel_size=5, padding=5),\n",
    "              nn.ReLU(),\n",
    "              nn.Conv2d(300, 30, kernel_size=2, padding=2),\n",
    "              nn.ReLU(),\n",
    "              nn.Flatten(),\n",
    "              nn.Dropout(0.5), \n",
    "              nn.Linear(8670, 20),\n",
    "              nn.ReLU(),\n",
    "              nn.Linear(20, 11)\n",
    "              )\n",
    "\n",
    "architecture_summary = summary(model1, DATA_SHAPE)\n",
    "print(architecture_summary)"
   ],
   "metadata": {
    "collapsed": false,
    "ExecuteTime": {
     "end_time": "2024-06-16T17:31:52.570702Z",
     "start_time": "2024-06-16T17:31:52.508189Z"
    }
   },
   "id": "321aaf138bd4e8e0",
   "execution_count": 8
  },
  {
   "cell_type": "code",
   "outputs": [
    {
     "name": "stdout",
     "output_type": "stream",
     "text": [
      "==========================================================================================\n",
      "Layer (type:depth-idx)                   Output Shape              Param #\n",
      "==========================================================================================\n",
      "Model                                    [64, 11]                  --\n",
      "├─Sequential: 1-1                        --                        --\n",
      "│    └─Conv2d: 2-1                       [64, 300, 14, 14]         157,800\n",
      "│    └─ReLU: 2-2                         [64, 300, 14, 14]         --\n",
      "│    └─Conv2d: 2-3                       [64, 30, 17, 17]          36,030\n",
      "│    └─ReLU: 2-4                         [64, 30, 17, 17]          --\n",
      "│    └─Flatten: 2-5                      [64, 8670]                --\n",
      "│    └─BatchNorm1d: 2-6                  [64, 8670]                17,340\n",
      "│    └─Linear: 2-7                       [64, 20]                  173,420\n",
      "│    └─ReLU: 2-8                         [64, 20]                  --\n",
      "│    └─Linear: 2-9                       [64, 11]                  231\n",
      "==========================================================================================\n",
      "Total params: 384,821\n",
      "Trainable params: 384,821\n",
      "Non-trainable params: 0\n",
      "Total mult-adds (Units.GIGABYTES): 2.66\n",
      "==========================================================================================\n",
      "Input size (MB): 0.34\n",
      "Forward/backward pass size (MB): 39.00\n",
      "Params size (MB): 1.54\n",
      "Estimated Total Size (MB): 40.88\n",
      "==========================================================================================\n"
     ]
    }
   ],
   "source": [
    "model2 = Model(nn.Conv2d(21, 300, kernel_size=5, padding=5),\n",
    "              nn.ReLU(),\n",
    "              nn.Conv2d(300, 30, kernel_size=2, padding=2),\n",
    "              nn.ReLU(),\n",
    "              nn.Flatten(),\n",
    "              nn.BatchNorm1d(8670),\n",
    "              nn.Linear(8670, 20),\n",
    "              nn.ReLU(),\n",
    "              nn.Linear(20, 11)\n",
    "              )\n",
    "\n",
    "architecture_summary = summary(model2, DATA_SHAPE)\n",
    "print(architecture_summary)"
   ],
   "metadata": {
    "collapsed": false,
    "ExecuteTime": {
     "end_time": "2024-06-16T17:31:52.632393Z",
     "start_time": "2024-06-16T17:31:52.572885Z"
    }
   },
   "id": "48f342f0f526c13a",
   "execution_count": 9
  },
  {
   "cell_type": "code",
   "outputs": [],
   "source": [
    "MODELS_LIST = [model0, model1, model2]"
   ],
   "metadata": {
    "collapsed": false,
    "ExecuteTime": {
     "end_time": "2024-06-16T17:31:52.643995Z",
     "start_time": "2024-06-16T17:31:52.635661Z"
    }
   },
   "id": "23091914b59e0b0b",
   "execution_count": 10
  },
  {
   "cell_type": "code",
   "outputs": [],
   "source": [
    "def accuracy(out,truth):\n",
    "    return torch.argmax(out,dim=1) == truth"
   ],
   "metadata": {
    "collapsed": false,
    "ExecuteTime": {
     "end_time": "2024-06-16T17:31:52.651985Z",
     "start_time": "2024-06-16T17:31:52.645086Z"
    }
   },
   "id": "604edf0d8cf46e4",
   "execution_count": 11
  },
  {
   "cell_type": "code",
   "outputs": [],
   "source": [
    "def train(model, criterion, optimizer, epoch):\n",
    "    model = model.to(DEVICE)\n",
    "    model.init_xavier()\n",
    "    criterion = criterion.to(DEVICE)\n",
    "    batches_amount = len(loader_train)\n",
    "    \n",
    "    for i in range(epoch):\n",
    "        time_started = time.time() * 1000\n",
    "        loss_sum=0.0\n",
    "        accuracy_sum=0.0\n",
    "        for batch, truth in loader_train:\n",
    "            batch = batch.to(DEVICE)\n",
    "            truth = truth.to(DEVICE)\n",
    "            \n",
    "            optimizer.zero_grad()\n",
    "            out = model.forward(batch)\n",
    "            loss = criterion(out, truth)\n",
    "            loss.backward()\n",
    "            optimizer.step()\n",
    "            \n",
    "            accuracy_value = accuracy(out,truth).sum()/BATCH_SIZE\n",
    "\n",
    "            loss_sum+=loss.item()\n",
    "            accuracy_sum+=accuracy_value.item()\n",
    "\n",
    "        passed_time = math.ceil(time.time() * 1000 - time_started)\n",
    "        loss_average = loss_sum/batches_amount\n",
    "        accuracy_average = accuracy_sum/batches_amount\n",
    "        validation_accuracy = model.calc_accuracy(loader_valid)\n",
    "\n",
    "        print(f\"Epoch [{i+1}/{epoch}], train_loss: {loss_average}, train_accuracy: {accuracy_average}, validation_accuracy: {validation_accuracy}, time: {passed_time/1000}s\")\n",
    "        wandb.log({\n",
    "            \"epoch\": i + 1, \n",
    "            \"train_loss\": loss_average, \n",
    "            \"train_accuracy\" : accuracy_average,\n",
    "            \"validation_accuracy\" : validation_accuracy}\n",
    "        )"
   ],
   "metadata": {
    "collapsed": false,
    "ExecuteTime": {
     "end_time": "2024-06-16T17:31:52.677584Z",
     "start_time": "2024-06-16T17:31:52.655914Z"
    }
   },
   "id": "d98ba8fed2176402",
   "execution_count": 12
  },
  {
   "cell_type": "code",
   "outputs": [],
   "source": [
    "### SWEEP CONFIG FOR TESTS\n",
    "sweep_config = {\n",
    "    'method': 'bayes',  # random, grid or bayes\n",
    "    'name': 'sweep-chess-tactics',\n",
    "    'metric': {\n",
    "        'goal': 'maximize', \n",
    "        'name': 'validation_accuracy'\n",
    "    },\n",
    "    'parameters': {\n",
    "        'epochs': {\n",
    "            # 'values': [5, 10, 30]\n",
    "            'values': [20]\n",
    "        },\n",
    "        'learning_rate': {\n",
    "            # 'values': [0.003, 0.001, 0.0003]\n",
    "            'values': [0.001]\n",
    "        },\n",
    "        'optimizer': {\n",
    "            # 'values': ['sgd', 'adam']\n",
    "            'values': ['adam']\n",
    "        },\n",
    "        'criterion': {\n",
    "            'values': ['CrossEntropy']\n",
    "        },\n",
    "        'model': {\n",
    "            # 'values': list(range(len(MODELS_LIST)))\n",
    "            'values': [2]\n",
    "        }\n",
    "     },\n",
    "\n",
    "}"
   ],
   "metadata": {
    "collapsed": false,
    "ExecuteTime": {
     "end_time": "2024-06-16T17:31:52.694775Z",
     "start_time": "2024-06-16T17:31:52.679842Z"
    }
   },
   "id": "8f522f2b58513c5c",
   "execution_count": 13
  },
  {
   "cell_type": "code",
   "outputs": [],
   "source": [
    "### MAIN SWEEP CONFIG\n",
    "sweep_config = {\n",
    "    'method': 'bayes',  # random, grid or bayes\n",
    "    'name': 'sweep-chess-tactics',\n",
    "    'metric': {\n",
    "        'goal': 'maximize', \n",
    "        'name': 'validation_accuracy'\n",
    "    },\n",
    "    'parameters': {\n",
    "        'epochs': {\n",
    "            # 'values': [5, 10, 30]\n",
    "            'values': [15, 30]\n",
    "        },\n",
    "        'learning_rate': {\n",
    "            # 'values': [0.003, 0.001, 0.0003]\n",
    "            'values': [0.0003]\n",
    "        },\n",
    "        'optimizer': {\n",
    "            # 'values': ['sgd', 'adam']\n",
    "            'values': ['adam']\n",
    "        },\n",
    "        'criterion': {\n",
    "            'values': ['CrossEntropy']\n",
    "        },\n",
    "        'model': {\n",
    "            'values': list(range(len(MODELS_LIST)))\n",
    "        }\n",
    "     },\n",
    "\n",
    "}"
   ],
   "metadata": {
    "collapsed": false
   },
   "id": "a7e4340b9fb8d2ca"
  },
  {
   "cell_type": "code",
   "outputs": [],
   "source": [
    "sweep_id = 'cua8zqmh'  # aby kontynuowac trening na poprzednim sweepie"
   ],
   "metadata": {
    "collapsed": false
   },
   "id": "cb3f1d5df8df3058",
   "execution_count": null
  },
  {
   "cell_type": "code",
   "outputs": [
    {
     "name": "stdout",
     "output_type": "stream",
     "text": [
      "Create sweep with ID: v9ip6m9p\n",
      "Sweep URL: https://wandb.ai/matik001/chess-tactics-swp/sweeps/v9ip6m9p\n"
     ]
    }
   ],
   "source": [
    "sweep_id = wandb.sweep(sweep_config, project=\"chess-tactics-swp\")"
   ],
   "metadata": {
    "collapsed": false,
    "ExecuteTime": {
     "end_time": "2024-06-16T17:32:14.765312Z",
     "start_time": "2024-06-16T17:32:13.909893Z"
    }
   },
   "id": "fe386d598ebd0861",
   "execution_count": 14
  },
  {
   "cell_type": "code",
   "outputs": [
    {
     "name": "stderr",
     "output_type": "stream",
     "text": [
      "\u001B[34m\u001B[1mwandb\u001B[0m: Agent Starting Run: cbyi5ef1 with config:\n",
      "\u001B[34m\u001B[1mwandb\u001B[0m: \tcriterion: CrossEntropy\n",
      "\u001B[34m\u001B[1mwandb\u001B[0m: \tepochs: 20\n",
      "\u001B[34m\u001B[1mwandb\u001B[0m: \tlearning_rate: 0.001\n",
      "\u001B[34m\u001B[1mwandb\u001B[0m: \tmodel: 2\n",
      "\u001B[34m\u001B[1mwandb\u001B[0m: \toptimizer: adam\n"
     ]
    },
    {
     "data": {
      "text/plain": "<IPython.core.display.HTML object>",
      "text/html": "wandb version 0.17.1 is available!  To upgrade, please run:\n $ pip install wandb --upgrade"
     },
     "metadata": {},
     "output_type": "display_data"
    },
    {
     "data": {
      "text/plain": "<IPython.core.display.HTML object>",
      "text/html": "Tracking run with wandb version 0.16.5"
     },
     "metadata": {},
     "output_type": "display_data"
    },
    {
     "data": {
      "text/plain": "<IPython.core.display.HTML object>",
      "text/html": "Run data is saved locally in <code>D:\\Projects\\TacticsClassifier\\wandb\\run-20240616_193223-cbyi5ef1</code>"
     },
     "metadata": {},
     "output_type": "display_data"
    },
    {
     "data": {
      "text/plain": "<IPython.core.display.HTML object>",
      "text/html": "Syncing run <strong><a href='https://wandb.ai/matik001/chess-tactics-swp/runs/cbyi5ef1/workspace' target=\"_blank\">peachy-sweep-1</a></strong> to <a href='https://wandb.ai/matik001/chess-tactics-swp' target=\"_blank\">Weights & Biases</a> (<a href='https://wandb.me/run' target=\"_blank\">docs</a>)<br/>Sweep page: <a href='https://wandb.ai/matik001/chess-tactics-swp/sweeps/v9ip6m9p' target=\"_blank\">https://wandb.ai/matik001/chess-tactics-swp/sweeps/v9ip6m9p</a>"
     },
     "metadata": {},
     "output_type": "display_data"
    },
    {
     "data": {
      "text/plain": "<IPython.core.display.HTML object>",
      "text/html": " View project at <a href='https://wandb.ai/matik001/chess-tactics-swp' target=\"_blank\">https://wandb.ai/matik001/chess-tactics-swp</a>"
     },
     "metadata": {},
     "output_type": "display_data"
    },
    {
     "data": {
      "text/plain": "<IPython.core.display.HTML object>",
      "text/html": " View sweep at <a href='https://wandb.ai/matik001/chess-tactics-swp/sweeps/v9ip6m9p' target=\"_blank\">https://wandb.ai/matik001/chess-tactics-swp/sweeps/v9ip6m9p</a>"
     },
     "metadata": {},
     "output_type": "display_data"
    },
    {
     "data": {
      "text/plain": "<IPython.core.display.HTML object>",
      "text/html": " View run at <a href='https://wandb.ai/matik001/chess-tactics-swp/runs/cbyi5ef1/workspace' target=\"_blank\">https://wandb.ai/matik001/chess-tactics-swp/runs/cbyi5ef1/workspace</a>"
     },
     "metadata": {},
     "output_type": "display_data"
    },
    {
     "name": "stdout",
     "output_type": "stream",
     "text": [
      "Epoch [1/20], train_loss: 0.8547805585016431, train_accuracy: 0.7179217424301393, validation_accuracy: 0.76484375, time: 194.965s\n",
      "Epoch [2/20], train_loss: 0.6235640195220178, train_accuracy: 0.7930316902778859, validation_accuracy: 0.7835625, time: 131.151s\n"
     ]
    }
   ],
   "source": [
    "\n",
    "\n",
    "def create_optimizer(model, optimizer):\n",
    "    if optimizer == \"sgd\":\n",
    "        optimizer = torch.optim.SGD\n",
    "    elif optimizer == \"adam\":\n",
    "        optimizer = torch.optim.Adam\n",
    "    return optimizer\n",
    "\n",
    "def create_criterion(criterion = \"CrossEntropy\"):\n",
    "    if criterion == \"CrossEntropy\":\n",
    "        return nn.CrossEntropyLoss()\n",
    "\n",
    "def main():\n",
    "    with wandb.init(config=None) as run:\n",
    "        config = wandb.config\n",
    "        run.name = f\"model{config['model']}_epochs{config['epochs']}_learning_rate{config['learning_rate']}_optimizer{config['optimizer']}\"\n",
    "        \n",
    "        model = MODELS_LIST[int(config['model'])]\n",
    "        opt_fn = create_optimizer(model, wandb.config.optimizer)\n",
    "        crt_fn = create_criterion(wandb.config.criterion)\n",
    "        train(model, crt_fn, opt_fn(model.classifier.parameters(), lr=wandb.config.learning_rate), wandb.config.epochs)\n",
    "        model_path = f\"{run.name}.save\"\n",
    "        torch.save(model, model_path)\n",
    "\n",
    "\n",
    "wandb.agent(sweep_id, main)"
   ],
   "metadata": {
    "collapsed": false,
    "is_executing": true,
    "ExecuteTime": {
     "start_time": "2024-06-16T17:32:19.694444Z"
    }
   },
   "id": "c1f4cfec80ac3f97",
   "execution_count": null
  },
  {
   "cell_type": "code",
   "outputs": [],
   "source": [
    "wandb.finish()"
   ],
   "metadata": {
    "collapsed": false
   },
   "id": "1ec594e2ffa4b475"
  },
  {
   "cell_type": "markdown",
   "source": [
    "# Testy modelu"
   ],
   "metadata": {
    "collapsed": false
   },
   "id": "ace45f7638cc3049"
  },
  {
   "cell_type": "code",
   "outputs": [],
   "source": [
    "model = torch.load('model1_epochs20_learning_rate0.001_optimizeradam.save')\n",
    "model.to(DEVICE)"
   ],
   "metadata": {
    "collapsed": false
   },
   "id": "d32ca7d95f4d9c82",
   "execution_count": null
  },
  {
   "cell_type": "code",
   "outputs": [],
   "source": [
    "model.calc_accuracy(loader_train)"
   ],
   "metadata": {
    "collapsed": false
   },
   "id": "aa4a219b517b0d5f",
   "execution_count": null
  },
  {
   "cell_type": "code",
   "outputs": [],
   "source": [
    "model.calc_accuracy(loader_test)"
   ],
   "metadata": {
    "collapsed": false
   },
   "id": "f5a4b2dfb6db549f",
   "execution_count": null
  },
  {
   "cell_type": "code",
   "outputs": [],
   "source": [
    "model.calc_accuracy(loader_valid)"
   ],
   "metadata": {
    "collapsed": false
   },
   "id": "a820cdd1f654102",
   "execution_count": null
  },
  {
   "cell_type": "code",
   "outputs": [],
   "source": [],
   "metadata": {
    "collapsed": false
   },
   "id": "846884d9aaf08453"
  }
 ],
 "metadata": {
  "kernelspec": {
   "display_name": "Python 3",
   "language": "python",
   "name": "python3"
  },
  "language_info": {
   "codemirror_mode": {
    "name": "ipython",
    "version": 2
   },
   "file_extension": ".py",
   "mimetype": "text/x-python",
   "name": "python",
   "nbconvert_exporter": "python",
   "pygments_lexer": "ipython2",
   "version": "2.7.6"
  }
 },
 "nbformat": 4,
 "nbformat_minor": 5
}
