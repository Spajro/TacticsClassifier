{
 "cells": [
  {
   "metadata": {},
   "cell_type": "markdown",
   "source": [
    "# LOADING DATASET"
   ],
   "id": "9dfc98def8fb55f"
  },
  {
   "metadata": {
    "ExecuteTime": {
     "end_time": "2024-06-16T21:28:10.907686Z",
     "start_time": "2024-06-16T21:28:10.905294Z"
    }
   },
   "cell_type": "code",
   "source": [
    "import pathlib\n",
    "import random\n",
    "import urllib\n",
    "import zstandard\n",
    "import chess\n",
    "import torch\n",
    "import numpy as np\n",
    "from torch import nn, Tensor"
   ],
   "id": "c4b51d4c10754771",
   "outputs": [],
   "execution_count": 26
  },
  {
   "metadata": {
    "ExecuteTime": {
     "end_time": "2024-06-16T21:28:10.940926Z",
     "start_time": "2024-06-16T21:28:10.938014Z"
    }
   },
   "cell_type": "code",
   "source": [
    "def __download(url: str, name: str) -> str:\n",
    "    path, _ = urllib.request.urlretrieve(url, name)\n",
    "    return path\n",
    "\n",
    "\n",
    "def __unpack(path: str, name: str):\n",
    "    input_file = pathlib.Path(path)\n",
    "    with open(input_file, 'rb') as compressed:\n",
    "        decomp = zstandard.ZstdDecompressor()\n",
    "        output_path = name\n",
    "        with open(output_path, 'wb') as destination:\n",
    "            decomp.copy_stream(compressed, destination)\n",
    "            destination.close()\n",
    "        compressed.close()\n",
    "\n",
    "\n",
    "def __remove(path: str):\n",
    "    pathlib.Path.unlink(pathlib.Path(path))"
   ],
   "id": "c1af7d40bfdbe229",
   "outputs": [],
   "execution_count": 27
  },
  {
   "metadata": {
    "ExecuteTime": {
     "end_time": "2024-06-16T21:28:28.325818Z",
     "start_time": "2024-06-16T21:28:10.975930Z"
    }
   },
   "cell_type": "code",
   "source": [
    "path = __download(\"https://database.lichess.org/lichess_db_puzzle.csv.zst\", \"lichess_db_puzzle.csv.zst\")"
   ],
   "id": "7b7f765e257cee1f",
   "outputs": [],
   "execution_count": 28
  },
  {
   "metadata": {
    "ExecuteTime": {
     "end_time": "2024-06-16T21:28:30.182701Z",
     "start_time": "2024-06-16T21:28:28.326301Z"
    }
   },
   "cell_type": "code",
   "source": [
    "__unpack(path, \"lichess_db_puzzle.csv\")"
   ],
   "id": "ca1de55ee484bb4e",
   "outputs": [],
   "execution_count": 29
  },
  {
   "metadata": {
    "ExecuteTime": {
     "end_time": "2024-06-16T21:28:30.194879Z",
     "start_time": "2024-06-16T21:28:30.182701Z"
    }
   },
   "cell_type": "code",
   "source": [
    "__remove(\"lichess_db_puzzle.csv.zst\")"
   ],
   "id": "876c56ec9a7ac80d",
   "outputs": [],
   "execution_count": 30
  },
  {
   "cell_type": "markdown",
   "source": [],
   "metadata": {
    "collapsed": false
   },
   "id": "332d7c96f5577e8a"
  },
  {
   "cell_type": "code",
   "id": "initial_id",
   "metadata": {
    "collapsed": true,
    "ExecuteTime": {
     "end_time": "2024-06-16T21:28:30.199388Z",
     "start_time": "2024-06-16T21:28:30.195882Z"
    }
   },
   "source": [
    "class Puzzle:\n",
    "    def __init__(self, row: str):\n",
    "        fields = row.split(',')\n",
    "        self.fen = fields[1]\n",
    "        self.moves = fields[2].split(\" \")\n",
    "        self.tags = fields[7].split(\" \")\n",
    "        self.board = chess.Board(self.fen)\n",
    "\n",
    "    def __str__(self):\n",
    "        return \"{fen: \" + self.fen + \" ,tags: [\" + \", \".join(self.tags) + \"],moves: [\" + \",\".join(self.moves) + \"]}\"\n",
    "    \n",
    "    def fen_to_tensors_list(self) -> [torch.Tensor]:\n",
    "        white = self.board.occupied_co[chess.WHITE]\n",
    "        black = self.board.occupied_co[chess.BLACK]\n",
    "        \n",
    "        return [\n",
    "            bitboard_to_tensor(white),\n",
    "            bitboard_to_tensor(black),\n",
    "            bitboard_to_tensor(white & self.board.kings),\n",
    "            bitboard_to_tensor(black & self.board.kings),\n",
    "            bitboard_to_tensor(white & self.board.pawns),\n",
    "            bitboard_to_tensor(black & self.board.pawns),\n",
    "            bitboard_to_tensor(white & self.board.queens),\n",
    "            bitboard_to_tensor(black & self.board.queens),\n",
    "            bitboard_to_tensor(white & self.board.knights),\n",
    "            bitboard_to_tensor(black & self.board.knights),\n",
    "            bitboard_to_tensor(white & self.board.bishops),\n",
    "            bitboard_to_tensor(black & self.board.bishops),\n",
    "            bitboard_to_tensor(white & self.board.rooks),\n",
    "            bitboard_to_tensor(black & self.board.rooks)\n",
    "        ]\n",
    "    \n",
    "    def puzzle_to_tensor(self) -> torch.Tensor:\n",
    "        fen_tensors = self.fen_to_tensors_list()\n",
    "        move_tensors: list[Tensor] = []\n",
    "        for i in range(7): # FIRST 7 moves\n",
    "            if i < len(self.moves):\n",
    "                move_tensors.append(move_to_tensor(self.moves[i]))\n",
    "            else:\n",
    "                move_tensors.append(torch.zeros(8, 8))\n",
    "        return torch.stack(fen_tensors + move_tensors)"
   ],
   "outputs": [],
   "execution_count": 31
  },
  {
   "metadata": {
    "ExecuteTime": {
     "end_time": "2024-06-16T21:28:30.204994Z",
     "start_time": "2024-06-16T21:28:30.199388Z"
    }
   },
   "cell_type": "code",
   "source": [
    "def load(k: int) -> [Puzzle]:\n",
    "    f = open(\"lichess_db_puzzle.csv\")\n",
    "    f.readline()\n",
    "    result = []\n",
    "    for i in range(k):\n",
    "        result.append(Puzzle(f.readline()))\n",
    "    f.close()\n",
    "    return result"
   ],
   "id": "d76ee6cf90617af0",
   "outputs": [],
   "execution_count": 32
  },
  {
   "metadata": {
    "ExecuteTime": {
     "end_time": "2024-06-16T21:28:30.211149Z",
     "start_time": "2024-06-16T21:28:30.204994Z"
    }
   },
   "cell_type": "code",
   "source": [
    "load(10)[0].__str__()"
   ],
   "id": "57feb45f444a7d0a",
   "outputs": [
    {
     "data": {
      "text/plain": [
       "'{fen: r6k/pp2r2p/4Rp1Q/3p4/8/1N1P2R1/PqP2bPP/7K b - - 0 24 ,tags: [crushing, hangingPiece, long, middlegame],moves: [f2g3,e6e7,b2b1,b3c1,b1c1,h6c1]}'"
      ]
     },
     "execution_count": 33,
     "metadata": {},
     "output_type": "execute_result"
    }
   ],
   "execution_count": 33
  },
  {
   "metadata": {},
   "cell_type": "markdown",
   "source": [
    "# FILTER DATASET"
   ],
   "id": "f362b99117932533"
  },
  {
   "metadata": {
    "ExecuteTime": {
     "end_time": "2024-06-16T21:28:30.215827Z",
     "start_time": "2024-06-16T21:28:30.211149Z"
    }
   },
   "cell_type": "code",
   "source": [
    "expected_tags = {\n",
    "    'attraction',\n",
    "    'discoveredAttack',\n",
    "    'doubleCheck',\n",
    "    'fork',\n",
    "    'pin',\n",
    "    'sacrifice',\n",
    "    'skewer',\n",
    "    'xRayAttack',\n",
    "    'zugzwang',\n",
    "    'deflection',\n",
    "    'clearance'\n",
    "}"
   ],
   "id": "54b9c024e9edbc45",
   "outputs": [],
   "execution_count": 34
  },
  {
   "metadata": {
    "ExecuteTime": {
     "end_time": "2024-06-16T21:28:30.220860Z",
     "start_time": "2024-06-16T21:28:30.216516Z"
    }
   },
   "cell_type": "code",
   "source": [
    "expected_tags_list = list(expected_tags)"
   ],
   "id": "b4c7b42dafb2af34",
   "outputs": [],
   "execution_count": 35
  },
  {
   "metadata": {
    "ExecuteTime": {
     "end_time": "2024-06-16T21:28:30.226120Z",
     "start_time": "2024-06-16T21:28:30.220860Z"
    }
   },
   "cell_type": "code",
   "source": [
    "def not_has_promotion_move(puzzle: Puzzle) -> bool:\n",
    "    return all([len(m) == 4 for m in puzzle.moves])\n",
    "def filter_data(data: [Puzzle]) -> [Puzzle]:\n",
    "    puzzles_single_tag = list(filter(lambda p: len(set(p.tags) & expected_tags) == 1, data))\n",
    "    puzzles_not_ambiguous =  list(filter(not_has_promotion_move, puzzles_single_tag))\n",
    "    return  puzzles_not_ambiguous\n",
    "        "
   ],
   "id": "68a75e47bbf20450",
   "outputs": [],
   "execution_count": 36
  },
  {
   "metadata": {
    "ExecuteTime": {
     "end_time": "2024-06-16T21:28:30.234818Z",
     "start_time": "2024-06-16T21:28:30.227123Z"
    }
   },
   "cell_type": "code",
   "source": [
    "len(filter_data(load(100)))"
   ],
   "id": "ed1341d0f35d0c64",
   "outputs": [
    {
     "data": {
      "text/plain": [
       "35"
      ]
     },
     "execution_count": 37,
     "metadata": {},
     "output_type": "execute_result"
    }
   ],
   "execution_count": 37
  },
  {
   "metadata": {},
   "cell_type": "markdown",
   "source": [
    "# CONVERSION TO TENSOR"
   ],
   "id": "a5c92e35f0ad916d"
  },
  {
   "metadata": {
    "ExecuteTime": {
     "end_time": "2024-06-16T21:28:30.238967Z",
     "start_time": "2024-06-16T21:28:30.234818Z"
    }
   },
   "cell_type": "code",
   "source": [
    "def bitboard_to_tensor(bitboard: int) -> torch.Tensor:\n",
    "    li = [1 if digit == '1' else 0 for digit in bin(bitboard)[2:]]\n",
    "    li = [0 for _ in range(64 - len(li))] + li\n",
    "    return torch.tensor(li).reshape((8, 8))"
   ],
   "id": "10c35e85f53b2f3c",
   "outputs": [],
   "execution_count": 38
  },
  {
   "cell_type": "code",
   "source": [
    "load(1)[0].fen_to_tensors_list()"
   ],
   "metadata": {
    "collapsed": false,
    "ExecuteTime": {
     "end_time": "2024-06-16T21:28:30.247284Z",
     "start_time": "2024-06-16T21:28:30.238967Z"
    }
   },
   "id": "a5dff79ad6859c4",
   "outputs": [
    {
     "data": {
      "text/plain": [
       "[tensor([[0, 0, 0, 0, 0, 0, 0, 0],\n",
       "         [0, 0, 0, 0, 0, 0, 0, 0],\n",
       "         [1, 0, 0, 1, 0, 0, 0, 0],\n",
       "         [0, 0, 0, 0, 0, 0, 0, 0],\n",
       "         [0, 0, 0, 0, 0, 0, 0, 0],\n",
       "         [0, 1, 0, 0, 1, 0, 1, 0],\n",
       "         [1, 1, 0, 0, 0, 1, 0, 1],\n",
       "         [1, 0, 0, 0, 0, 0, 0, 0]]),\n",
       " tensor([[1, 0, 0, 0, 0, 0, 0, 1],\n",
       "         [1, 0, 0, 1, 0, 0, 1, 1],\n",
       "         [0, 0, 1, 0, 0, 0, 0, 0],\n",
       "         [0, 0, 0, 0, 1, 0, 0, 0],\n",
       "         [0, 0, 0, 0, 0, 0, 0, 0],\n",
       "         [0, 0, 0, 0, 0, 0, 0, 0],\n",
       "         [0, 0, 1, 0, 0, 0, 1, 0],\n",
       "         [0, 0, 0, 0, 0, 0, 0, 0]]),\n",
       " tensor([[0, 0, 0, 0, 0, 0, 0, 0],\n",
       "         [0, 0, 0, 0, 0, 0, 0, 0],\n",
       "         [0, 0, 0, 0, 0, 0, 0, 0],\n",
       "         [0, 0, 0, 0, 0, 0, 0, 0],\n",
       "         [0, 0, 0, 0, 0, 0, 0, 0],\n",
       "         [0, 0, 0, 0, 0, 0, 0, 0],\n",
       "         [0, 0, 0, 0, 0, 0, 0, 0],\n",
       "         [1, 0, 0, 0, 0, 0, 0, 0]]),\n",
       " tensor([[1, 0, 0, 0, 0, 0, 0, 0],\n",
       "         [0, 0, 0, 0, 0, 0, 0, 0],\n",
       "         [0, 0, 0, 0, 0, 0, 0, 0],\n",
       "         [0, 0, 0, 0, 0, 0, 0, 0],\n",
       "         [0, 0, 0, 0, 0, 0, 0, 0],\n",
       "         [0, 0, 0, 0, 0, 0, 0, 0],\n",
       "         [0, 0, 0, 0, 0, 0, 0, 0],\n",
       "         [0, 0, 0, 0, 0, 0, 0, 0]]),\n",
       " tensor([[0, 0, 0, 0, 0, 0, 0, 0],\n",
       "         [0, 0, 0, 0, 0, 0, 0, 0],\n",
       "         [0, 0, 0, 0, 0, 0, 0, 0],\n",
       "         [0, 0, 0, 0, 0, 0, 0, 0],\n",
       "         [0, 0, 0, 0, 0, 0, 0, 0],\n",
       "         [0, 0, 0, 0, 1, 0, 0, 0],\n",
       "         [1, 1, 0, 0, 0, 1, 0, 1],\n",
       "         [0, 0, 0, 0, 0, 0, 0, 0]]),\n",
       " tensor([[0, 0, 0, 0, 0, 0, 0, 0],\n",
       "         [1, 0, 0, 0, 0, 0, 1, 1],\n",
       "         [0, 0, 1, 0, 0, 0, 0, 0],\n",
       "         [0, 0, 0, 0, 1, 0, 0, 0],\n",
       "         [0, 0, 0, 0, 0, 0, 0, 0],\n",
       "         [0, 0, 0, 0, 0, 0, 0, 0],\n",
       "         [0, 0, 0, 0, 0, 0, 0, 0],\n",
       "         [0, 0, 0, 0, 0, 0, 0, 0]]),\n",
       " tensor([[0, 0, 0, 0, 0, 0, 0, 0],\n",
       "         [0, 0, 0, 0, 0, 0, 0, 0],\n",
       "         [1, 0, 0, 0, 0, 0, 0, 0],\n",
       "         [0, 0, 0, 0, 0, 0, 0, 0],\n",
       "         [0, 0, 0, 0, 0, 0, 0, 0],\n",
       "         [0, 0, 0, 0, 0, 0, 0, 0],\n",
       "         [0, 0, 0, 0, 0, 0, 0, 0],\n",
       "         [0, 0, 0, 0, 0, 0, 0, 0]]),\n",
       " tensor([[0, 0, 0, 0, 0, 0, 0, 0],\n",
       "         [0, 0, 0, 0, 0, 0, 0, 0],\n",
       "         [0, 0, 0, 0, 0, 0, 0, 0],\n",
       "         [0, 0, 0, 0, 0, 0, 0, 0],\n",
       "         [0, 0, 0, 0, 0, 0, 0, 0],\n",
       "         [0, 0, 0, 0, 0, 0, 0, 0],\n",
       "         [0, 0, 0, 0, 0, 0, 1, 0],\n",
       "         [0, 0, 0, 0, 0, 0, 0, 0]]),\n",
       " tensor([[0, 0, 0, 0, 0, 0, 0, 0],\n",
       "         [0, 0, 0, 0, 0, 0, 0, 0],\n",
       "         [0, 0, 0, 0, 0, 0, 0, 0],\n",
       "         [0, 0, 0, 0, 0, 0, 0, 0],\n",
       "         [0, 0, 0, 0, 0, 0, 0, 0],\n",
       "         [0, 0, 0, 0, 0, 0, 1, 0],\n",
       "         [0, 0, 0, 0, 0, 0, 0, 0],\n",
       "         [0, 0, 0, 0, 0, 0, 0, 0]]),\n",
       " tensor([[0, 0, 0, 0, 0, 0, 0, 0],\n",
       "         [0, 0, 0, 0, 0, 0, 0, 0],\n",
       "         [0, 0, 0, 0, 0, 0, 0, 0],\n",
       "         [0, 0, 0, 0, 0, 0, 0, 0],\n",
       "         [0, 0, 0, 0, 0, 0, 0, 0],\n",
       "         [0, 0, 0, 0, 0, 0, 0, 0],\n",
       "         [0, 0, 0, 0, 0, 0, 0, 0],\n",
       "         [0, 0, 0, 0, 0, 0, 0, 0]]),\n",
       " tensor([[0, 0, 0, 0, 0, 0, 0, 0],\n",
       "         [0, 0, 0, 0, 0, 0, 0, 0],\n",
       "         [0, 0, 0, 0, 0, 0, 0, 0],\n",
       "         [0, 0, 0, 0, 0, 0, 0, 0],\n",
       "         [0, 0, 0, 0, 0, 0, 0, 0],\n",
       "         [0, 0, 0, 0, 0, 0, 0, 0],\n",
       "         [0, 0, 0, 0, 0, 0, 0, 0],\n",
       "         [0, 0, 0, 0, 0, 0, 0, 0]]),\n",
       " tensor([[0, 0, 0, 0, 0, 0, 0, 0],\n",
       "         [0, 0, 0, 0, 0, 0, 0, 0],\n",
       "         [0, 0, 0, 0, 0, 0, 0, 0],\n",
       "         [0, 0, 0, 0, 0, 0, 0, 0],\n",
       "         [0, 0, 0, 0, 0, 0, 0, 0],\n",
       "         [0, 0, 0, 0, 0, 0, 0, 0],\n",
       "         [0, 0, 1, 0, 0, 0, 0, 0],\n",
       "         [0, 0, 0, 0, 0, 0, 0, 0]]),\n",
       " tensor([[0, 0, 0, 0, 0, 0, 0, 0],\n",
       "         [0, 0, 0, 0, 0, 0, 0, 0],\n",
       "         [0, 0, 0, 1, 0, 0, 0, 0],\n",
       "         [0, 0, 0, 0, 0, 0, 0, 0],\n",
       "         [0, 0, 0, 0, 0, 0, 0, 0],\n",
       "         [0, 1, 0, 0, 0, 0, 0, 0],\n",
       "         [0, 0, 0, 0, 0, 0, 0, 0],\n",
       "         [0, 0, 0, 0, 0, 0, 0, 0]]),\n",
       " tensor([[0, 0, 0, 0, 0, 0, 0, 1],\n",
       "         [0, 0, 0, 1, 0, 0, 0, 0],\n",
       "         [0, 0, 0, 0, 0, 0, 0, 0],\n",
       "         [0, 0, 0, 0, 0, 0, 0, 0],\n",
       "         [0, 0, 0, 0, 0, 0, 0, 0],\n",
       "         [0, 0, 0, 0, 0, 0, 0, 0],\n",
       "         [0, 0, 0, 0, 0, 0, 0, 0],\n",
       "         [0, 0, 0, 0, 0, 0, 0, 0]])]"
      ]
     },
     "execution_count": 39,
     "metadata": {},
     "output_type": "execute_result"
    }
   ],
   "execution_count": 39
  },
  {
   "metadata": {
    "ExecuteTime": {
     "end_time": "2024-06-16T21:28:30.250455Z",
     "start_time": "2024-06-16T21:28:30.248288Z"
    }
   },
   "cell_type": "code",
   "source": [
    "def move_to_tensor(move: str) -> torch.Tensor:\n",
    "    x1 = 7 - ord(move[0]) + ord('a')\n",
    "    y1 = 8 - int(move[1])\n",
    "    x2 = 7 - ord(move[2]) + ord('a')\n",
    "    y2 = 8 - int(move[3])\n",
    "    tensor = torch.zeros(8, 8)\n",
    "    tensor[y1][x1] = 1\n",
    "    tensor[y2][x2] = 1\n",
    "    return tensor"
   ],
   "id": "17c3f21abe4260e5",
   "outputs": [],
   "execution_count": 40
  },
  {
   "metadata": {
    "ExecuteTime": {
     "end_time": "2024-06-16T21:28:30.256636Z",
     "start_time": "2024-06-16T21:28:30.250455Z"
    }
   },
   "cell_type": "code",
   "source": [
    "print(move_to_tensor('b2b4'))"
   ],
   "id": "104d99da6a271a6a",
   "outputs": [
    {
     "name": "stdout",
     "output_type": "stream",
     "text": [
      "tensor([[0., 0., 0., 0., 0., 0., 0., 0.],\n",
      "        [0., 0., 0., 0., 0., 0., 0., 0.],\n",
      "        [0., 0., 0., 0., 0., 0., 0., 0.],\n",
      "        [0., 0., 0., 0., 0., 0., 0., 0.],\n",
      "        [0., 0., 0., 0., 0., 0., 1., 0.],\n",
      "        [0., 0., 0., 0., 0., 0., 0., 0.],\n",
      "        [0., 0., 0., 0., 0., 0., 1., 0.],\n",
      "        [0., 0., 0., 0., 0., 0., 0., 0.]])\n"
     ]
    }
   ],
   "execution_count": 41
  },
  {
   "metadata": {
    "ExecuteTime": {
     "end_time": "2024-06-16T21:28:30.262888Z",
     "start_time": "2024-06-16T21:28:30.256636Z"
    }
   },
   "cell_type": "code",
   "source": [
    "load(1)[0].puzzle_to_tensor()"
   ],
   "id": "f086ac45785396dd",
   "outputs": [
    {
     "data": {
      "text/plain": [
       "tensor([[[0., 0., 0.,  ..., 0., 0., 0.],\n",
       "         [0., 0., 0.,  ..., 0., 0., 0.],\n",
       "         [1., 0., 0.,  ..., 0., 0., 0.],\n",
       "         ...,\n",
       "         [0., 1., 0.,  ..., 0., 1., 0.],\n",
       "         [1., 1., 0.,  ..., 1., 0., 1.],\n",
       "         [1., 0., 0.,  ..., 0., 0., 0.]],\n",
       "\n",
       "        [[1., 0., 0.,  ..., 0., 0., 1.],\n",
       "         [1., 0., 0.,  ..., 0., 1., 1.],\n",
       "         [0., 0., 1.,  ..., 0., 0., 0.],\n",
       "         ...,\n",
       "         [0., 0., 0.,  ..., 0., 0., 0.],\n",
       "         [0., 0., 1.,  ..., 0., 1., 0.],\n",
       "         [0., 0., 0.,  ..., 0., 0., 0.]],\n",
       "\n",
       "        [[0., 0., 0.,  ..., 0., 0., 0.],\n",
       "         [0., 0., 0.,  ..., 0., 0., 0.],\n",
       "         [0., 0., 0.,  ..., 0., 0., 0.],\n",
       "         ...,\n",
       "         [0., 0., 0.,  ..., 0., 0., 0.],\n",
       "         [0., 0., 0.,  ..., 0., 0., 0.],\n",
       "         [1., 0., 0.,  ..., 0., 0., 0.]],\n",
       "\n",
       "        ...,\n",
       "\n",
       "        [[0., 0., 0.,  ..., 0., 0., 0.],\n",
       "         [0., 0., 0.,  ..., 0., 0., 0.],\n",
       "         [0., 0., 0.,  ..., 0., 0., 0.],\n",
       "         ...,\n",
       "         [0., 0., 0.,  ..., 0., 0., 0.],\n",
       "         [0., 0., 0.,  ..., 0., 0., 0.],\n",
       "         [0., 0., 0.,  ..., 1., 1., 0.]],\n",
       "\n",
       "        [[0., 0., 0.,  ..., 0., 0., 0.],\n",
       "         [0., 0., 0.,  ..., 0., 0., 0.],\n",
       "         [1., 0., 0.,  ..., 0., 0., 0.],\n",
       "         ...,\n",
       "         [0., 0., 0.,  ..., 0., 0., 0.],\n",
       "         [0., 0., 0.,  ..., 0., 0., 0.],\n",
       "         [0., 0., 0.,  ..., 1., 0., 0.]],\n",
       "\n",
       "        [[0., 0., 0.,  ..., 0., 0., 0.],\n",
       "         [0., 0., 0.,  ..., 0., 0., 0.],\n",
       "         [0., 0., 0.,  ..., 0., 0., 0.],\n",
       "         ...,\n",
       "         [0., 0., 0.,  ..., 0., 0., 0.],\n",
       "         [0., 0., 0.,  ..., 0., 0., 0.],\n",
       "         [0., 0., 0.,  ..., 0., 0., 0.]]])"
      ]
     },
     "execution_count": 42,
     "metadata": {},
     "output_type": "execute_result"
    }
   ],
   "execution_count": 42
  },
  {
   "metadata": {},
   "cell_type": "markdown",
   "source": [
    "# CONVERT AND BATCH DATASET"
   ],
   "id": "577ba77d6cc0369a"
  },
  {
   "metadata": {
    "ExecuteTime": {
     "end_time": "2024-06-16T21:28:30.266318Z",
     "start_time": "2024-06-16T21:28:30.262888Z"
    }
   },
   "cell_type": "code",
   "source": [
    "def puzzle_to_tag_index(puzzle: Puzzle) -> int:\n",
    "    [tag] = set(puzzle.tags) & expected_tags\n",
    "    index = expected_tags_list.index(tag)\n",
    "    return index"
   ],
   "id": "f69689ed3c928f55",
   "outputs": [],
   "execution_count": 43
  },
  {
   "metadata": {
    "ExecuteTime": {
     "end_time": "2024-06-16T21:28:30.275543Z",
     "start_time": "2024-06-16T21:28:30.266318Z"
    }
   },
   "cell_type": "code",
   "source": [
    "puzzle_to_tag_index(filter_data(load(100))[0])"
   ],
   "id": "abd55187edfe5df",
   "outputs": [
    {
     "data": {
      "text/plain": [
       "5"
      ]
     },
     "execution_count": 44,
     "metadata": {},
     "output_type": "execute_result"
    }
   ],
   "execution_count": 44
  },
  {
   "metadata": {
    "ExecuteTime": {
     "end_time": "2024-06-16T21:28:30.279454Z",
     "start_time": "2024-06-16T21:28:30.275543Z"
    }
   },
   "cell_type": "code",
   "source": [
    "def convert_dataset(puzzles: [Puzzle]) -> list[tuple[torch.Tensor, int]]:\n",
    "    return [(puzzle.puzzle_to_tensor(), puzzle_to_tag_index(puzzle)) for puzzle in puzzles]"
   ],
   "id": "2a98f0f8bbd52026",
   "outputs": [],
   "execution_count": 45
  },
  {
   "cell_type": "code",
   "source": [
    "TEST_SIZE = 500*64\n",
    "VALIDATION_SIZE = 500*64"
   ],
   "metadata": {
    "collapsed": false,
    "ExecuteTime": {
     "end_time": "2024-06-16T21:28:30.284907Z",
     "start_time": "2024-06-16T21:28:30.279454Z"
    }
   },
   "id": "4ed9f8a84cd4d90f",
   "outputs": [],
   "execution_count": 46
  },
  {
   "metadata": {
    "is_executing": true,
    "ExecuteTime": {
     "end_time": "2024-06-16T21:33:39.669415Z",
     "start_time": "2024-06-16T21:28:30.284907Z"
    }
   },
   "cell_type": "code",
   "source": [
    "dataset = convert_dataset(filter_data(load(3000000)))\n",
    "random.shuffle(dataset) \n",
    "len(dataset) "
   ],
   "id": "2c6ecc1932649601",
   "outputs": [
    {
     "data": {
      "text/plain": [
       "886146"
      ]
     },
     "execution_count": 47,
     "metadata": {},
     "output_type": "execute_result"
    }
   ],
   "execution_count": 47
  },
  {
   "cell_type": "code",
   "source": [
    "test_dataset, dataset = dataset[:TEST_SIZE], dataset[TEST_SIZE:]\n",
    "validation_dataset, train_dataset = dataset[:VALIDATION_SIZE], dataset[VALIDATION_SIZE:]\n",
    "\n",
    "print(\"Train: \", len(train_dataset))\n",
    "print(\"Test: \", len(test_dataset))\n",
    "print(\"Validation: \", len(validation_dataset))"
   ],
   "metadata": {
    "collapsed": false,
    "is_executing": true,
    "ExecuteTime": {
     "end_time": "2024-06-16T21:33:39.701428Z",
     "start_time": "2024-06-16T21:33:39.669415Z"
    }
   },
   "id": "1ab3c6506a88e423",
   "outputs": [
    {
     "name": "stdout",
     "output_type": "stream",
     "text": [
      "Train:  822146\n",
      "Test:  32000\n",
      "Validation:  32000\n"
     ]
    }
   ],
   "execution_count": 48
  },
  {
   "cell_type": "code",
   "source": [
    "torch.save(train_dataset, \"dataset_train.save\") # 5GB\n",
    "torch.save(test_dataset, \"dataset_test.save\")\n",
    "torch.save(validation_dataset, \"dataset_valid.save\")"
   ],
   "metadata": {
    "collapsed": false,
    "is_executing": true,
    "ExecuteTime": {
     "end_time": "2024-06-16T21:34:02.441519Z",
     "start_time": "2024-06-16T21:33:39.701428Z"
    }
   },
   "id": "cc4006639d8661aa",
   "outputs": [],
   "execution_count": 49
  },
  {
   "cell_type": "code",
   "source": [
    "train_dataset[0][0].shape"
   ],
   "metadata": {
    "collapsed": false,
    "is_executing": true,
    "ExecuteTime": {
     "end_time": "2024-06-16T21:34:02.445422Z",
     "start_time": "2024-06-16T21:34:02.442522Z"
    }
   },
   "id": "f14a015d4c9d2b7c",
   "outputs": [
    {
     "data": {
      "text/plain": [
       "torch.Size([21, 8, 8])"
      ]
     },
     "execution_count": 50,
     "metadata": {},
     "output_type": "execute_result"
    }
   ],
   "execution_count": 50
  },
  {
   "cell_type": "code",
   "source": [],
   "metadata": {
    "collapsed": false,
    "ExecuteTime": {
     "end_time": "2024-06-16T21:34:02.447315Z",
     "start_time": "2024-06-16T21:34:02.445422Z"
    }
   },
   "id": "b63e7e803cebf6e6",
   "outputs": [],
   "execution_count": 50
  },
  {
   "cell_type": "code",
   "source": [],
   "metadata": {
    "collapsed": false,
    "ExecuteTime": {
     "end_time": "2024-06-16T21:34:02.449339Z",
     "start_time": "2024-06-16T21:34:02.447315Z"
    }
   },
   "id": "ce167591ae3cfe03",
   "outputs": [],
   "execution_count": 50
  },
  {
   "cell_type": "code",
   "source": [],
   "metadata": {
    "collapsed": false,
    "ExecuteTime": {
     "end_time": "2024-06-16T21:34:02.451290Z",
     "start_time": "2024-06-16T21:34:02.449339Z"
    }
   },
   "id": "726f289adb29870f",
   "outputs": [],
   "execution_count": 50
  }
 ],
 "metadata": {
  "kernelspec": {
   "display_name": "Python 3",
   "language": "python",
   "name": "python3"
  },
  "language_info": {
   "codemirror_mode": {
    "name": "ipython",
    "version": 2
   },
   "file_extension": ".py",
   "mimetype": "text/x-python",
   "name": "python",
   "nbconvert_exporter": "python",
   "pygments_lexer": "ipython2",
   "version": "2.7.6"
  }
 },
 "nbformat": 4,
 "nbformat_minor": 5
}
