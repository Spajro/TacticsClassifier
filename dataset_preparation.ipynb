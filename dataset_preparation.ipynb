{
 "cells": [
  {
   "metadata": {},
   "cell_type": "markdown",
   "source": "# LOADING DATASET",
   "id": "9dfc98def8fb55f"
  },
  {
   "metadata": {
    "ExecuteTime": {
     "end_time": "2024-05-28T19:29:09.314434Z",
     "start_time": "2024-05-28T19:29:08.339635Z"
    }
   },
   "cell_type": "code",
   "source": [
    "import pathlib\n",
    "import urllib\n",
    "import zstandard\n",
    "import chess\n",
    "import torch\n",
    "import numpy as np\n",
    "from torch import nn"
   ],
   "id": "c4b51d4c10754771",
   "outputs": [],
   "execution_count": 2
  },
  {
   "metadata": {
    "ExecuteTime": {
     "end_time": "2024-05-28T14:29:53.040663Z",
     "start_time": "2024-05-28T14:29:53.038046Z"
    }
   },
   "cell_type": "code",
   "source": [
    "def __download(url: str, name: str) -> str:\n",
    "    path, _ = urllib.request.urlretrieve(url, name)\n",
    "    return path\n",
    "\n",
    "\n",
    "def __unpack(path: str, name: str):\n",
    "    input_file = pathlib.Path(path)\n",
    "    with open(input_file, 'rb') as compressed:\n",
    "        decomp = zstandard.ZstdDecompressor()\n",
    "        output_path = name\n",
    "        with open(output_path, 'wb') as destination:\n",
    "            decomp.copy_stream(compressed, destination)\n",
    "            destination.close()\n",
    "        compressed.close()\n",
    "\n",
    "\n",
    "def __remove(path: str):\n",
    "    pathlib.Path.unlink(pathlib.Path(path))"
   ],
   "id": "c1af7d40bfdbe229",
   "outputs": [],
   "execution_count": 12
  },
  {
   "metadata": {},
   "cell_type": "code",
   "source": "path = __download(\"https://database.lichess.org/lichess_db_puzzle.csv.zst\", \"lichess_db_puzzle.csv.zst\")",
   "id": "7b7f765e257cee1f",
   "outputs": [],
   "execution_count": null
  },
  {
   "metadata": {
    "ExecuteTime": {
     "end_time": "2024-05-28T14:29:55.102278Z",
     "start_time": "2024-05-28T14:29:54.791614Z"
    }
   },
   "cell_type": "code",
   "source": "__unpack(path, \"lichess_db_puzzle.csv\")",
   "id": "ca1de55ee484bb4e",
   "outputs": [],
   "execution_count": 13
  },
  {
   "metadata": {
    "ExecuteTime": {
     "end_time": "2024-05-28T14:30:18.933381Z",
     "start_time": "2024-05-28T14:30:18.925878Z"
    }
   },
   "cell_type": "code",
   "source": "__remove(\"lichess_db_puzzle.csv.zst\")",
   "id": "876c56ec9a7ac80d",
   "outputs": [],
   "execution_count": 14
  },
  {
   "cell_type": "code",
   "id": "initial_id",
   "metadata": {
    "collapsed": true,
    "ExecuteTime": {
     "end_time": "2024-05-28T14:30:30.764578Z",
     "start_time": "2024-05-28T14:30:30.760559Z"
    }
   },
   "source": [
    "class Puzzle:\n",
    "    def __init__(self, row: str):\n",
    "        fields = row.split(',')\n",
    "        self.fen = fields[1]\n",
    "        self.moves = fields[2].split(\" \")\n",
    "        self.tags = fields[7].split(\" \")\n",
    "\n",
    "    def __str__(self):\n",
    "        return \"{fen: \" + self.fen + \" ,tags: [\" + \", \".join(self.tags) + \"],moves: [\" + \",\".join(self.moves) + \"]}\""
   ],
   "outputs": [],
   "execution_count": 15
  },
  {
   "metadata": {
    "ExecuteTime": {
     "end_time": "2024-05-28T14:30:31.133272Z",
     "start_time": "2024-05-28T14:30:31.130276Z"
    }
   },
   "cell_type": "code",
   "source": [
    "def load(k: int) -> [Puzzle]:\n",
    "    f = open(\"lichess_db_puzzle.csv\")\n",
    "    f.readline()\n",
    "    result = []\n",
    "    for i in range(k):\n",
    "        result.append(Puzzle(f.readline()))\n",
    "    f.close()\n",
    "    return result"
   ],
   "id": "d76ee6cf90617af0",
   "outputs": [],
   "execution_count": 16
  },
  {
   "metadata": {
    "ExecuteTime": {
     "end_time": "2024-05-28T14:30:49.318335Z",
     "start_time": "2024-05-28T14:30:49.314255Z"
    }
   },
   "cell_type": "code",
   "source": "load(10)[0].__str__()",
   "id": "57feb45f444a7d0a",
   "outputs": [
    {
     "data": {
      "text/plain": [
       "'{fen: r6k/pp2r2p/4Rp1Q/3p4/8/1N1P2R1/PqP2bPP/7K b - - 0 24 ,tags: [crushing, hangingPiece, long, middlegame],moves: [f2g3,e6e7,b2b1,b3c1,b1c1,h6c1]}'"
      ]
     },
     "execution_count": 19,
     "metadata": {},
     "output_type": "execute_result"
    }
   ],
   "execution_count": 19
  },
  {
   "metadata": {},
   "cell_type": "markdown",
   "source": "# FILTER DATASET",
   "id": "f362b99117932533"
  },
  {
   "metadata": {
    "ExecuteTime": {
     "end_time": "2024-05-28T14:46:56.800756Z",
     "start_time": "2024-05-28T14:46:56.798468Z"
    }
   },
   "cell_type": "code",
   "source": [
    "expected_tags = {\n",
    "    'attraction',\n",
    "    'discoveredAttack',\n",
    "    'doubleCheck',\n",
    "    'fork',\n",
    "    'pin',\n",
    "    'sacrifice',\n",
    "    'skewer',\n",
    "    'xRayAttack',\n",
    "    'zugzwang',\n",
    "    'deflection',\n",
    "    'clearance'\n",
    "}"
   ],
   "id": "54b9c024e9edbc45",
   "outputs": [],
   "execution_count": 21
  },
  {
   "metadata": {
    "ExecuteTime": {
     "end_time": "2024-05-28T15:26:46.072188Z",
     "start_time": "2024-05-28T15:26:46.068838Z"
    }
   },
   "cell_type": "code",
   "source": "expected_tags_list = list(expected_tags)",
   "id": "b4c7b42dafb2af34",
   "outputs": [],
   "execution_count": 161
  },
  {
   "metadata": {
    "ExecuteTime": {
     "end_time": "2024-05-28T14:47:02.189944Z",
     "start_time": "2024-05-28T14:47:02.186538Z"
    }
   },
   "cell_type": "code",
   "source": [
    "def filter_data(data: [Puzzle]) -> [Puzzle]:\n",
    "    return list(filter(lambda p: len(set(p.tags) & expected_tags) == 1, data))"
   ],
   "id": "68a75e47bbf20450",
   "outputs": [],
   "execution_count": 24
  },
  {
   "metadata": {
    "ExecuteTime": {
     "end_time": "2024-05-28T14:47:02.562476Z",
     "start_time": "2024-05-28T14:47:02.558974Z"
    }
   },
   "cell_type": "code",
   "source": "len(filter_data(load(100)))",
   "id": "ed1341d0f35d0c64",
   "outputs": [
    {
     "data": {
      "text/plain": [
       "37"
      ]
     },
     "execution_count": 25,
     "metadata": {},
     "output_type": "execute_result"
    }
   ],
   "execution_count": 25
  },
  {
   "metadata": {},
   "cell_type": "markdown",
   "source": "# CONVERSION TO TENSOR",
   "id": "a5c92e35f0ad916d"
  },
  {
   "metadata": {
    "ExecuteTime": {
     "end_time": "2024-05-28T15:20:53.089282Z",
     "start_time": "2024-05-28T15:20:53.086778Z"
    }
   },
   "cell_type": "code",
   "source": [
    "def bitboard_to_tensor(bitboard: int) -> torch.Tensor:\n",
    "    li = [1 if digit == '1' else 0 for digit in bin(bitboard)[2:]]\n",
    "    li = [0 for _ in range(64 - len(li))] + li\n",
    "    return torch.tensor(li).reshape((8, 8))"
   ],
   "id": "10c35e85f53b2f3c",
   "outputs": [],
   "execution_count": 152
  },
  {
   "metadata": {
    "ExecuteTime": {
     "end_time": "2024-05-28T15:20:53.368917Z",
     "start_time": "2024-05-28T15:20:53.365806Z"
    }
   },
   "cell_type": "code",
   "source": [
    "def fen_to_tensors_list(fen: str) -> [torch.Tensor]:\n",
    "    board = chess.Board(fen)\n",
    "    return [\n",
    "        bitboard_to_tensor(board.occupied_co[chess.WHITE]),\n",
    "        bitboard_to_tensor(board.occupied_co[chess.BLACK]),\n",
    "        bitboard_to_tensor(board.pawns),\n",
    "        bitboard_to_tensor(board.kings),\n",
    "        bitboard_to_tensor(board.queens),\n",
    "        bitboard_to_tensor(board.knights),\n",
    "        bitboard_to_tensor(board.bishops),\n",
    "        bitboard_to_tensor(board.rooks)\n",
    "    ]"
   ],
   "id": "ac21f78c3f6922b4",
   "outputs": [],
   "execution_count": 153
  },
  {
   "metadata": {
    "ExecuteTime": {
     "end_time": "2024-05-28T15:20:53.781715Z",
     "start_time": "2024-05-28T15:20:53.776705Z"
    }
   },
   "cell_type": "code",
   "source": "fen_to_tensors_list(load(1)[0].fen)",
   "id": "2af6bc1bbdd66c04",
   "outputs": [
    {
     "data": {
      "text/plain": [
       "[tensor([[0, 0, 0, 0, 0, 0, 0, 0],\n",
       "         [0, 0, 0, 0, 0, 0, 0, 0],\n",
       "         [1, 0, 0, 1, 0, 0, 0, 0],\n",
       "         [0, 0, 0, 0, 0, 0, 0, 0],\n",
       "         [0, 0, 0, 0, 0, 0, 0, 0],\n",
       "         [0, 1, 0, 0, 1, 0, 1, 0],\n",
       "         [1, 1, 0, 0, 0, 1, 0, 1],\n",
       "         [1, 0, 0, 0, 0, 0, 0, 0]], dtype=torch.uint32),\n",
       " tensor([[1, 0, 0, 0, 0, 0, 0, 1],\n",
       "         [1, 0, 0, 1, 0, 0, 1, 1],\n",
       "         [0, 0, 1, 0, 0, 0, 0, 0],\n",
       "         [0, 0, 0, 0, 1, 0, 0, 0],\n",
       "         [0, 0, 0, 0, 0, 0, 0, 0],\n",
       "         [0, 0, 0, 0, 0, 0, 0, 0],\n",
       "         [0, 0, 1, 0, 0, 0, 1, 0],\n",
       "         [0, 0, 0, 0, 0, 0, 0, 0]], dtype=torch.uint32),\n",
       " tensor([[0, 0, 0, 0, 0, 0, 0, 0],\n",
       "         [1, 0, 0, 0, 0, 0, 1, 1],\n",
       "         [0, 0, 1, 0, 0, 0, 0, 0],\n",
       "         [0, 0, 0, 0, 1, 0, 0, 0],\n",
       "         [0, 0, 0, 0, 0, 0, 0, 0],\n",
       "         [0, 0, 0, 0, 1, 0, 0, 0],\n",
       "         [1, 1, 0, 0, 0, 1, 0, 1],\n",
       "         [0, 0, 0, 0, 0, 0, 0, 0]], dtype=torch.uint32),\n",
       " tensor([[1, 0, 0, 0, 0, 0, 0, 0],\n",
       "         [0, 0, 0, 0, 0, 0, 0, 0],\n",
       "         [0, 0, 0, 0, 0, 0, 0, 0],\n",
       "         [0, 0, 0, 0, 0, 0, 0, 0],\n",
       "         [0, 0, 0, 0, 0, 0, 0, 0],\n",
       "         [0, 0, 0, 0, 0, 0, 0, 0],\n",
       "         [0, 0, 0, 0, 0, 0, 0, 0],\n",
       "         [1, 0, 0, 0, 0, 0, 0, 0]], dtype=torch.uint32),\n",
       " tensor([[0, 0, 0, 0, 0, 0, 0, 0],\n",
       "         [0, 0, 0, 0, 0, 0, 0, 0],\n",
       "         [1, 0, 0, 0, 0, 0, 0, 0],\n",
       "         [0, 0, 0, 0, 0, 0, 0, 0],\n",
       "         [0, 0, 0, 0, 0, 0, 0, 0],\n",
       "         [0, 0, 0, 0, 0, 0, 0, 0],\n",
       "         [0, 0, 0, 0, 0, 0, 1, 0],\n",
       "         [0, 0, 0, 0, 0, 0, 0, 0]], dtype=torch.uint32),\n",
       " tensor([[0, 0, 0, 0, 0, 0, 0, 0],\n",
       "         [0, 0, 0, 0, 0, 0, 0, 0],\n",
       "         [0, 0, 0, 0, 0, 0, 0, 0],\n",
       "         [0, 0, 0, 0, 0, 0, 0, 0],\n",
       "         [0, 0, 0, 0, 0, 0, 0, 0],\n",
       "         [0, 0, 0, 0, 0, 0, 1, 0],\n",
       "         [0, 0, 0, 0, 0, 0, 0, 0],\n",
       "         [0, 0, 0, 0, 0, 0, 0, 0]], dtype=torch.uint32),\n",
       " tensor([[0, 0, 0, 0, 0, 0, 0, 0],\n",
       "         [0, 0, 0, 0, 0, 0, 0, 0],\n",
       "         [0, 0, 0, 0, 0, 0, 0, 0],\n",
       "         [0, 0, 0, 0, 0, 0, 0, 0],\n",
       "         [0, 0, 0, 0, 0, 0, 0, 0],\n",
       "         [0, 0, 0, 0, 0, 0, 0, 0],\n",
       "         [0, 0, 1, 0, 0, 0, 0, 0],\n",
       "         [0, 0, 0, 0, 0, 0, 0, 0]], dtype=torch.uint32),\n",
       " tensor([[0, 0, 0, 0, 0, 0, 0, 1],\n",
       "         [0, 0, 0, 1, 0, 0, 0, 0],\n",
       "         [0, 0, 0, 1, 0, 0, 0, 0],\n",
       "         [0, 0, 0, 0, 0, 0, 0, 0],\n",
       "         [0, 0, 0, 0, 0, 0, 0, 0],\n",
       "         [0, 1, 0, 0, 0, 0, 0, 0],\n",
       "         [0, 0, 0, 0, 0, 0, 0, 0],\n",
       "         [0, 0, 0, 0, 0, 0, 0, 0]], dtype=torch.uint32)]"
      ]
     },
     "execution_count": 154,
     "metadata": {},
     "output_type": "execute_result"
    }
   ],
   "execution_count": 154
  },
  {
   "metadata": {
    "ExecuteTime": {
     "end_time": "2024-05-28T15:20:54.638782Z",
     "start_time": "2024-05-28T15:20:54.634933Z"
    }
   },
   "cell_type": "code",
   "source": [
    "def move_to_tensor(move: str) -> torch.Tensor:\n",
    "    x1 = 7 - ord(move[0]) + ord('a')\n",
    "    y1 = 8 - int(move[1])\n",
    "    x2 = 7 - ord(move[2]) + ord('a')\n",
    "    y2 = 8 - int(move[3])\n",
    "    tensor = torch.zeros(8, 8)\n",
    "    tensor[y1][x1] = 1\n",
    "    tensor[y2][x2] = 1\n",
    "    return tensor"
   ],
   "id": "17c3f21abe4260e5",
   "outputs": [],
   "execution_count": 155
  },
  {
   "metadata": {
    "ExecuteTime": {
     "end_time": "2024-05-28T15:20:55.020622Z",
     "start_time": "2024-05-28T15:20:55.017116Z"
    }
   },
   "cell_type": "code",
   "source": "print(move_to_tensor('e2e4'))",
   "id": "104d99da6a271a6a",
   "outputs": [
    {
     "name": "stdout",
     "output_type": "stream",
     "text": [
      "tensor([[0, 0, 0, 0, 0, 0, 0, 0],\n",
      "        [0, 0, 0, 0, 0, 0, 0, 0],\n",
      "        [0, 0, 0, 0, 0, 0, 0, 0],\n",
      "        [0, 0, 0, 0, 0, 0, 0, 0],\n",
      "        [0, 0, 0, 1, 0, 0, 0, 0],\n",
      "        [0, 0, 0, 0, 0, 0, 0, 0],\n",
      "        [0, 0, 0, 1, 0, 0, 0, 0],\n",
      "        [0, 0, 0, 0, 0, 0, 0, 0]], dtype=torch.uint32)\n"
     ]
    }
   ],
   "execution_count": 156
  },
  {
   "metadata": {
    "ExecuteTime": {
     "end_time": "2024-05-28T15:22:15.843681Z",
     "start_time": "2024-05-28T15:22:15.841326Z"
    }
   },
   "cell_type": "code",
   "source": [
    "def puzzle_to_tensor(puzzle: Puzzle) -> torch.Tensor:\n",
    "    fen_tensors = fen_to_tensors_list(puzzle.fen)\n",
    "    move_tensors = [move_to_tensor(puzzle.moves[0]), move_to_tensor(puzzle.moves[1])]  # FIRST TWO MOVES\n",
    "    return torch.stack(fen_tensors + move_tensors)"
   ],
   "id": "7d58e2f64a04bec6",
   "outputs": [],
   "execution_count": 158
  },
  {
   "metadata": {
    "ExecuteTime": {
     "end_time": "2024-05-28T15:22:22.621316Z",
     "start_time": "2024-05-28T15:22:22.615826Z"
    }
   },
   "cell_type": "code",
   "source": "puzzle_to_tensor(load(1)[0])",
   "id": "f086ac45785396dd",
   "outputs": [
    {
     "data": {
      "text/plain": [
       "tensor([[[0, 0, 0, 0, 0, 0, 0, 0],\n",
       "         [0, 0, 0, 0, 0, 0, 0, 0],\n",
       "         [1, 0, 0, 1, 0, 0, 0, 0],\n",
       "         [0, 0, 0, 0, 0, 0, 0, 0],\n",
       "         [0, 0, 0, 0, 0, 0, 0, 0],\n",
       "         [0, 1, 0, 0, 1, 0, 1, 0],\n",
       "         [1, 1, 0, 0, 0, 1, 0, 1],\n",
       "         [1, 0, 0, 0, 0, 0, 0, 0]],\n",
       "\n",
       "        [[1, 0, 0, 0, 0, 0, 0, 1],\n",
       "         [1, 0, 0, 1, 0, 0, 1, 1],\n",
       "         [0, 0, 1, 0, 0, 0, 0, 0],\n",
       "         [0, 0, 0, 0, 1, 0, 0, 0],\n",
       "         [0, 0, 0, 0, 0, 0, 0, 0],\n",
       "         [0, 0, 0, 0, 0, 0, 0, 0],\n",
       "         [0, 0, 1, 0, 0, 0, 1, 0],\n",
       "         [0, 0, 0, 0, 0, 0, 0, 0]],\n",
       "\n",
       "        [[0, 0, 0, 0, 0, 0, 0, 0],\n",
       "         [1, 0, 0, 0, 0, 0, 1, 1],\n",
       "         [0, 0, 1, 0, 0, 0, 0, 0],\n",
       "         [0, 0, 0, 0, 1, 0, 0, 0],\n",
       "         [0, 0, 0, 0, 0, 0, 0, 0],\n",
       "         [0, 0, 0, 0, 1, 0, 0, 0],\n",
       "         [1, 1, 0, 0, 0, 1, 0, 1],\n",
       "         [0, 0, 0, 0, 0, 0, 0, 0]],\n",
       "\n",
       "        [[1, 0, 0, 0, 0, 0, 0, 0],\n",
       "         [0, 0, 0, 0, 0, 0, 0, 0],\n",
       "         [0, 0, 0, 0, 0, 0, 0, 0],\n",
       "         [0, 0, 0, 0, 0, 0, 0, 0],\n",
       "         [0, 0, 0, 0, 0, 0, 0, 0],\n",
       "         [0, 0, 0, 0, 0, 0, 0, 0],\n",
       "         [0, 0, 0, 0, 0, 0, 0, 0],\n",
       "         [1, 0, 0, 0, 0, 0, 0, 0]],\n",
       "\n",
       "        [[0, 0, 0, 0, 0, 0, 0, 0],\n",
       "         [0, 0, 0, 0, 0, 0, 0, 0],\n",
       "         [1, 0, 0, 0, 0, 0, 0, 0],\n",
       "         [0, 0, 0, 0, 0, 0, 0, 0],\n",
       "         [0, 0, 0, 0, 0, 0, 0, 0],\n",
       "         [0, 0, 0, 0, 0, 0, 0, 0],\n",
       "         [0, 0, 0, 0, 0, 0, 1, 0],\n",
       "         [0, 0, 0, 0, 0, 0, 0, 0]],\n",
       "\n",
       "        [[0, 0, 0, 0, 0, 0, 0, 0],\n",
       "         [0, 0, 0, 0, 0, 0, 0, 0],\n",
       "         [0, 0, 0, 0, 0, 0, 0, 0],\n",
       "         [0, 0, 0, 0, 0, 0, 0, 0],\n",
       "         [0, 0, 0, 0, 0, 0, 0, 0],\n",
       "         [0, 0, 0, 0, 0, 0, 1, 0],\n",
       "         [0, 0, 0, 0, 0, 0, 0, 0],\n",
       "         [0, 0, 0, 0, 0, 0, 0, 0]],\n",
       "\n",
       "        [[0, 0, 0, 0, 0, 0, 0, 0],\n",
       "         [0, 0, 0, 0, 0, 0, 0, 0],\n",
       "         [0, 0, 0, 0, 0, 0, 0, 0],\n",
       "         [0, 0, 0, 0, 0, 0, 0, 0],\n",
       "         [0, 0, 0, 0, 0, 0, 0, 0],\n",
       "         [0, 0, 0, 0, 0, 0, 0, 0],\n",
       "         [0, 0, 1, 0, 0, 0, 0, 0],\n",
       "         [0, 0, 0, 0, 0, 0, 0, 0]],\n",
       "\n",
       "        [[0, 0, 0, 0, 0, 0, 0, 1],\n",
       "         [0, 0, 0, 1, 0, 0, 0, 0],\n",
       "         [0, 0, 0, 1, 0, 0, 0, 0],\n",
       "         [0, 0, 0, 0, 0, 0, 0, 0],\n",
       "         [0, 0, 0, 0, 0, 0, 0, 0],\n",
       "         [0, 1, 0, 0, 0, 0, 0, 0],\n",
       "         [0, 0, 0, 0, 0, 0, 0, 0],\n",
       "         [0, 0, 0, 0, 0, 0, 0, 0]],\n",
       "\n",
       "        [[0, 0, 0, 0, 0, 0, 0, 0],\n",
       "         [0, 0, 0, 0, 0, 0, 0, 0],\n",
       "         [0, 0, 0, 0, 0, 0, 0, 0],\n",
       "         [0, 0, 0, 0, 0, 0, 0, 0],\n",
       "         [0, 0, 0, 0, 0, 0, 0, 0],\n",
       "         [0, 1, 0, 0, 0, 0, 0, 0],\n",
       "         [0, 0, 1, 0, 0, 0, 0, 0],\n",
       "         [0, 0, 0, 0, 0, 0, 0, 0]],\n",
       "\n",
       "        [[0, 0, 0, 0, 0, 0, 0, 0],\n",
       "         [0, 0, 0, 1, 0, 0, 0, 0],\n",
       "         [0, 0, 0, 1, 0, 0, 0, 0],\n",
       "         [0, 0, 0, 0, 0, 0, 0, 0],\n",
       "         [0, 0, 0, 0, 0, 0, 0, 0],\n",
       "         [0, 0, 0, 0, 0, 0, 0, 0],\n",
       "         [0, 0, 0, 0, 0, 0, 0, 0],\n",
       "         [0, 0, 0, 0, 0, 0, 0, 0]]], dtype=torch.uint32)"
      ]
     },
     "execution_count": 160,
     "metadata": {},
     "output_type": "execute_result"
    }
   ],
   "execution_count": 160
  },
  {
   "metadata": {},
   "cell_type": "markdown",
   "source": "# CONVERT AND BATCH DATASET",
   "id": "577ba77d6cc0369a"
  },
  {
   "metadata": {
    "ExecuteTime": {
     "end_time": "2024-05-28T15:31:02.368385Z",
     "start_time": "2024-05-28T15:31:02.365849Z"
    }
   },
   "cell_type": "code",
   "source": [
    "def puzzle_to_truth(puzzle: Puzzle) -> torch.Tensor:\n",
    "    tensor = torch.zeros(len(expected_tags_list))\n",
    "    [tag] = set(puzzle.tags) & expected_tags\n",
    "    index = expected_tags_list.index(tag)\n",
    "    tensor[index] = 1\n",
    "    return tensor"
   ],
   "id": "f69689ed3c928f55",
   "outputs": [],
   "execution_count": 189
  },
  {
   "metadata": {
    "ExecuteTime": {
     "end_time": "2024-05-28T15:31:02.592808Z",
     "start_time": "2024-05-28T15:31:02.588814Z"
    }
   },
   "cell_type": "code",
   "source": "puzzle_to_truth(filter_data(load(100))[0])",
   "id": "abd55187edfe5df",
   "outputs": [
    {
     "data": {
      "text/plain": [
       "tensor([0, 0, 0, 0, 0, 0, 0, 0, 0, 0, 1], dtype=torch.uint32)"
      ]
     },
     "execution_count": 190,
     "metadata": {},
     "output_type": "execute_result"
    }
   ],
   "execution_count": 190
  },
  {
   "metadata": {
    "ExecuteTime": {
     "end_time": "2024-05-28T15:33:57.577679Z",
     "start_time": "2024-05-28T15:33:57.574478Z"
    }
   },
   "cell_type": "code",
   "source": "BATCH_SIZE = 64",
   "id": "bf6296834a2068eb",
   "outputs": [],
   "execution_count": 195
  },
  {
   "metadata": {
    "ExecuteTime": {
     "end_time": "2024-05-28T15:33:57.720899Z",
     "start_time": "2024-05-28T15:33:57.718101Z"
    }
   },
   "cell_type": "code",
   "source": [
    "def convert_dataset(puzzles: [Puzzle]) -> list[tuple[torch.Tensor, torch.Tensor]]:\n",
    "    return [(puzzle_to_tensor(puzzle), puzzle_to_truth(puzzle)) for puzzle in puzzles]"
   ],
   "id": "2a98f0f8bbd52026",
   "outputs": [],
   "execution_count": 196
  },
  {
   "metadata": {
    "ExecuteTime": {
     "end_time": "2024-05-28T15:39:08.432588Z",
     "start_time": "2024-05-28T15:39:08.429849Z"
    }
   },
   "cell_type": "code",
   "source": [
    "def dataset_to_batches(dataset: list[tuple[torch.Tensor, torch.Tensor]]) -> list[tuple[torch.Tensor, torch.Tensor]]:\n",
    "    batches = []\n",
    "    index = 0\n",
    "    while index + BATCH_SIZE <= len(dataset):\n",
    "        batch = []\n",
    "        truth = []\n",
    "        max_index = index + BATCH_SIZE\n",
    "        while index < max_index:\n",
    "            batch.append(dataset[index][0])\n",
    "            truth.append(dataset[index][1])\n",
    "            index += 1\n",
    "        batches.append((torch.stack(batch), torch.stack(truth)))\n",
    "\n",
    "    return batches"
   ],
   "id": "37b1f86d84eb8476",
   "outputs": [],
   "execution_count": 237
  },
  {
   "metadata": {
    "ExecuteTime": {
     "end_time": "2024-05-28T15:39:41.413236Z",
     "start_time": "2024-05-28T15:39:37.992458Z"
    }
   },
   "cell_type": "code",
   "source": [
    "batched_dataset=dataset_to_batches(convert_dataset(filter_data(load(100000))))\n",
    "print(len(batched_dataset))\n",
    "print(batched_dataset[0][0].shape,batched_dataset[0][1].shape)"
   ],
   "id": "2c6ecc1932649601",
   "outputs": [
    {
     "name": "stdout",
     "output_type": "stream",
     "text": [
      "479\n",
      "torch.Size([64, 10, 8, 8]) torch.Size([64, 11])\n"
     ]
    }
   ],
   "execution_count": 240
  }
 ],
 "metadata": {
  "kernelspec": {
   "display_name": "Python 3",
   "language": "python",
   "name": "python3"
  },
  "language_info": {
   "codemirror_mode": {
    "name": "ipython",
    "version": 2
   },
   "file_extension": ".py",
   "mimetype": "text/x-python",
   "name": "python",
   "nbconvert_exporter": "python",
   "pygments_lexer": "ipython2",
   "version": "2.7.6"
  }
 },
 "nbformat": 4,
 "nbformat_minor": 5
}
