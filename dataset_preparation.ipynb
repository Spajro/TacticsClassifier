{
 "cells": [
  {
   "metadata": {},
   "cell_type": "markdown",
   "source": [
    "# LOADING DATASET"
   ],
   "id": "9dfc98def8fb55f"
  },
  {
   "metadata": {
    "ExecuteTime": {
     "end_time": "2024-06-16T01:22:22.870008Z",
     "start_time": "2024-06-16T01:22:19.677683Z"
    }
   },
   "cell_type": "code",
   "source": [
    "import pathlib\n",
    "import random\n",
    "import urllib\n",
    "import zstandard\n",
    "import chess\n",
    "import torch\n",
    "import numpy as np\n",
    "from torch import nn, Tensor"
   ],
   "id": "c4b51d4c10754771",
   "outputs": [],
   "execution_count": 2
  },
  {
   "metadata": {
    "ExecuteTime": {
     "end_time": "2024-06-16T01:22:22.878621Z",
     "start_time": "2024-06-16T01:22:22.872271Z"
    }
   },
   "cell_type": "code",
   "source": [
    "def __download(url: str, name: str) -> str:\n",
    "    path, _ = urllib.request.urlretrieve(url, name)\n",
    "    return path\n",
    "\n",
    "\n",
    "def __unpack(path: str, name: str):\n",
    "    input_file = pathlib.Path(path)\n",
    "    with open(input_file, 'rb') as compressed:\n",
    "        decomp = zstandard.ZstdDecompressor()\n",
    "        output_path = name\n",
    "        with open(output_path, 'wb') as destination:\n",
    "            decomp.copy_stream(compressed, destination)\n",
    "            destination.close()\n",
    "        compressed.close()\n",
    "\n",
    "\n",
    "def __remove(path: str):\n",
    "    pathlib.Path.unlink(pathlib.Path(path))"
   ],
   "id": "c1af7d40bfdbe229",
   "outputs": [],
   "execution_count": 3
  },
  {
   "metadata": {
    "ExecuteTime": {
     "end_time": "2024-06-16T01:22:28.405472Z",
     "start_time": "2024-06-16T01:22:22.881074Z"
    }
   },
   "cell_type": "code",
   "source": [
    "path = __download(\"https://database.lichess.org/lichess_db_puzzle.csv.zst\", \"lichess_db_puzzle.csv.zst\")"
   ],
   "id": "7b7f765e257cee1f",
   "outputs": [],
   "execution_count": 4
  },
  {
   "metadata": {
    "ExecuteTime": {
     "end_time": "2024-06-16T01:22:30.518057Z",
     "start_time": "2024-06-16T01:22:28.406474Z"
    }
   },
   "cell_type": "code",
   "source": [
    "__unpack(path, \"lichess_db_puzzle.csv\")"
   ],
   "id": "ca1de55ee484bb4e",
   "outputs": [],
   "execution_count": 5
  },
  {
   "metadata": {
    "ExecuteTime": {
     "end_time": "2024-06-16T01:22:30.544812Z",
     "start_time": "2024-06-16T01:22:30.519156Z"
    }
   },
   "cell_type": "code",
   "source": [
    "__remove(\"lichess_db_puzzle.csv.zst\")"
   ],
   "id": "876c56ec9a7ac80d",
   "outputs": [],
   "execution_count": 6
  },
  {
   "cell_type": "markdown",
   "source": [],
   "metadata": {
    "collapsed": false
   },
   "id": "332d7c96f5577e8a"
  },
  {
   "cell_type": "code",
   "id": "initial_id",
   "metadata": {
    "collapsed": true,
    "ExecuteTime": {
     "end_time": "2024-06-16T01:22:30.557824Z",
     "start_time": "2024-06-16T01:22:30.545971Z"
    }
   },
   "source": [
    "class Puzzle:\n",
    "    def __init__(self, row: str):\n",
    "        fields = row.split(',')\n",
    "        self.fen = fields[1]\n",
    "        self.moves = fields[2].split(\" \")\n",
    "        self.tags = fields[7].split(\" \")\n",
    "        self.board = chess.Board(self.fen)\n",
    "\n",
    "    def __str__(self):\n",
    "        return \"{fen: \" + self.fen + \" ,tags: [\" + \", \".join(self.tags) + \"],moves: [\" + \",\".join(self.moves) + \"]}\"\n",
    "    \n",
    "    def fen_to_tensors_list(self) -> [torch.Tensor]:\n",
    "        white = self.board.occupied_co[chess.WHITE]\n",
    "        black = self.board.occupied_co[chess.BLACK]\n",
    "        \n",
    "        return [\n",
    "            bitboard_to_tensor(white),\n",
    "            bitboard_to_tensor(black),\n",
    "            bitboard_to_tensor(white & self.board.kings),\n",
    "            bitboard_to_tensor(black & self.board.kings),\n",
    "            bitboard_to_tensor(white & self.board.pawns),\n",
    "            bitboard_to_tensor(black & self.board.pawns),\n",
    "            bitboard_to_tensor(white & self.board.queens),\n",
    "            bitboard_to_tensor(black & self.board.queens),\n",
    "            bitboard_to_tensor(white & self.board.knights),\n",
    "            bitboard_to_tensor(black & self.board.knights),\n",
    "            bitboard_to_tensor(white & self.board.bishops),\n",
    "            bitboard_to_tensor(black & self.board.bishops),\n",
    "            bitboard_to_tensor(white & self.board.rooks),\n",
    "            bitboard_to_tensor(black & self.board.rooks)\n",
    "        ]\n",
    "    \n",
    "    def puzzle_to_tensor(self) -> torch.Tensor:\n",
    "        fen_tensors = self.fen_to_tensors_list()\n",
    "        move_tensors: list[Tensor] = []\n",
    "        for i in range(7): # FIRST 7 moves\n",
    "            if i < len(self.moves):\n",
    "                move_tensors.append(move_to_tensor(self.moves[i]))\n",
    "            else:\n",
    "                move_tensors.append(torch.zeros(8, 8))\n",
    "        return torch.stack(fen_tensors + move_tensors)"
   ],
   "outputs": [],
   "execution_count": 7
  },
  {
   "metadata": {
    "ExecuteTime": {
     "end_time": "2024-06-16T01:22:30.563459Z",
     "start_time": "2024-06-16T01:22:30.558949Z"
    }
   },
   "cell_type": "code",
   "source": [
    "def load(k: int) -> [Puzzle]:\n",
    "    f = open(\"lichess_db_puzzle.csv\")\n",
    "    f.readline()\n",
    "    result = []\n",
    "    for i in range(k):\n",
    "        result.append(Puzzle(f.readline()))\n",
    "    f.close()\n",
    "    return result"
   ],
   "id": "d76ee6cf90617af0",
   "outputs": [],
   "execution_count": 8
  },
  {
   "metadata": {
    "ExecuteTime": {
     "end_time": "2024-06-16T01:22:30.584074Z",
     "start_time": "2024-06-16T01:22:30.564837Z"
    }
   },
   "cell_type": "code",
   "source": [
    "load(10)[0].__str__()"
   ],
   "id": "57feb45f444a7d0a",
   "outputs": [
    {
     "data": {
      "text/plain": "'{fen: r6k/pp2r2p/4Rp1Q/3p4/8/1N1P2R1/PqP2bPP/7K b - - 0 24 ,tags: [crushing, hangingPiece, long, middlegame],moves: [f2g3,e6e7,b2b1,b3c1,b1c1,h6c1]}'"
     },
     "execution_count": 9,
     "metadata": {},
     "output_type": "execute_result"
    }
   ],
   "execution_count": 9
  },
  {
   "metadata": {},
   "cell_type": "markdown",
   "source": [
    "# FILTER DATASET"
   ],
   "id": "f362b99117932533"
  },
  {
   "metadata": {
    "ExecuteTime": {
     "end_time": "2024-06-16T01:22:30.590385Z",
     "start_time": "2024-06-16T01:22:30.586381Z"
    }
   },
   "cell_type": "code",
   "source": [
    "expected_tags = {\n",
    "    'attraction',\n",
    "    'discoveredAttack',\n",
    "    'doubleCheck',\n",
    "    'fork',\n",
    "    'pin',\n",
    "    'sacrifice',\n",
    "    'skewer',\n",
    "    'xRayAttack',\n",
    "    'zugzwang',\n",
    "    'deflection',\n",
    "    'clearance'\n",
    "}"
   ],
   "id": "54b9c024e9edbc45",
   "outputs": [],
   "execution_count": 10
  },
  {
   "metadata": {
    "ExecuteTime": {
     "end_time": "2024-06-16T01:22:30.595258Z",
     "start_time": "2024-06-16T01:22:30.591521Z"
    }
   },
   "cell_type": "code",
   "source": [
    "expected_tags_list = list(expected_tags)"
   ],
   "id": "b4c7b42dafb2af34",
   "outputs": [],
   "execution_count": 11
  },
  {
   "metadata": {
    "ExecuteTime": {
     "end_time": "2024-06-16T01:22:30.601298Z",
     "start_time": "2024-06-16T01:22:30.596477Z"
    }
   },
   "cell_type": "code",
   "source": [
    "def filter_data(data: [Puzzle]) -> [Puzzle]:\n",
    "    return list(filter(lambda p: len(set(p.tags) & expected_tags) == 1, data))"
   ],
   "id": "68a75e47bbf20450",
   "outputs": [],
   "execution_count": 12
  },
  {
   "metadata": {
    "ExecuteTime": {
     "end_time": "2024-06-16T01:22:30.614621Z",
     "start_time": "2024-06-16T01:22:30.602590Z"
    }
   },
   "cell_type": "code",
   "source": [
    "len(filter_data(load(100)))"
   ],
   "id": "ed1341d0f35d0c64",
   "outputs": [
    {
     "data": {
      "text/plain": "37"
     },
     "execution_count": 13,
     "metadata": {},
     "output_type": "execute_result"
    }
   ],
   "execution_count": 13
  },
  {
   "metadata": {},
   "cell_type": "markdown",
   "source": [
    "# CONVERSION TO TENSOR"
   ],
   "id": "a5c92e35f0ad916d"
  },
  {
   "metadata": {
    "ExecuteTime": {
     "end_time": "2024-06-16T01:22:30.620627Z",
     "start_time": "2024-06-16T01:22:30.615941Z"
    }
   },
   "cell_type": "code",
   "source": [
    "def bitboard_to_tensor(bitboard: int) -> torch.Tensor:\n",
    "    li = [1 if digit == '1' else 0 for digit in bin(bitboard)[2:]]\n",
    "    li = [0 for _ in range(64 - len(li))] + li\n",
    "    return torch.tensor(li).reshape((8, 8))"
   ],
   "id": "10c35e85f53b2f3c",
   "outputs": [],
   "execution_count": 14
  },
  {
   "cell_type": "code",
   "outputs": [
    {
     "data": {
      "text/plain": "[tensor([[0, 0, 0, 0, 0, 0, 0, 0],\n         [0, 0, 0, 0, 0, 0, 0, 0],\n         [1, 0, 0, 1, 0, 0, 0, 0],\n         [0, 0, 0, 0, 0, 0, 0, 0],\n         [0, 0, 0, 0, 0, 0, 0, 0],\n         [0, 1, 0, 0, 1, 0, 1, 0],\n         [1, 1, 0, 0, 0, 1, 0, 1],\n         [1, 0, 0, 0, 0, 0, 0, 0]]),\n tensor([[1, 0, 0, 0, 0, 0, 0, 1],\n         [1, 0, 0, 1, 0, 0, 1, 1],\n         [0, 0, 1, 0, 0, 0, 0, 0],\n         [0, 0, 0, 0, 1, 0, 0, 0],\n         [0, 0, 0, 0, 0, 0, 0, 0],\n         [0, 0, 0, 0, 0, 0, 0, 0],\n         [0, 0, 1, 0, 0, 0, 1, 0],\n         [0, 0, 0, 0, 0, 0, 0, 0]]),\n tensor([[0, 0, 0, 0, 0, 0, 0, 0],\n         [0, 0, 0, 0, 0, 0, 0, 0],\n         [0, 0, 0, 0, 0, 0, 0, 0],\n         [0, 0, 0, 0, 0, 0, 0, 0],\n         [0, 0, 0, 0, 0, 0, 0, 0],\n         [0, 0, 0, 0, 0, 0, 0, 0],\n         [0, 0, 0, 0, 0, 0, 0, 0],\n         [1, 0, 0, 0, 0, 0, 0, 0]]),\n tensor([[1, 0, 0, 0, 0, 0, 0, 0],\n         [0, 0, 0, 0, 0, 0, 0, 0],\n         [0, 0, 0, 0, 0, 0, 0, 0],\n         [0, 0, 0, 0, 0, 0, 0, 0],\n         [0, 0, 0, 0, 0, 0, 0, 0],\n         [0, 0, 0, 0, 0, 0, 0, 0],\n         [0, 0, 0, 0, 0, 0, 0, 0],\n         [0, 0, 0, 0, 0, 0, 0, 0]]),\n tensor([[0, 0, 0, 0, 0, 0, 0, 0],\n         [0, 0, 0, 0, 0, 0, 0, 0],\n         [0, 0, 0, 0, 0, 0, 0, 0],\n         [0, 0, 0, 0, 0, 0, 0, 0],\n         [0, 0, 0, 0, 0, 0, 0, 0],\n         [0, 0, 0, 0, 1, 0, 0, 0],\n         [1, 1, 0, 0, 0, 1, 0, 1],\n         [0, 0, 0, 0, 0, 0, 0, 0]]),\n tensor([[0, 0, 0, 0, 0, 0, 0, 0],\n         [1, 0, 0, 0, 0, 0, 1, 1],\n         [0, 0, 1, 0, 0, 0, 0, 0],\n         [0, 0, 0, 0, 1, 0, 0, 0],\n         [0, 0, 0, 0, 0, 0, 0, 0],\n         [0, 0, 0, 0, 0, 0, 0, 0],\n         [0, 0, 0, 0, 0, 0, 0, 0],\n         [0, 0, 0, 0, 0, 0, 0, 0]]),\n tensor([[0, 0, 0, 0, 0, 0, 0, 0],\n         [0, 0, 0, 0, 0, 0, 0, 0],\n         [1, 0, 0, 0, 0, 0, 0, 0],\n         [0, 0, 0, 0, 0, 0, 0, 0],\n         [0, 0, 0, 0, 0, 0, 0, 0],\n         [0, 0, 0, 0, 0, 0, 0, 0],\n         [0, 0, 0, 0, 0, 0, 0, 0],\n         [0, 0, 0, 0, 0, 0, 0, 0]]),\n tensor([[0, 0, 0, 0, 0, 0, 0, 0],\n         [0, 0, 0, 0, 0, 0, 0, 0],\n         [0, 0, 0, 0, 0, 0, 0, 0],\n         [0, 0, 0, 0, 0, 0, 0, 0],\n         [0, 0, 0, 0, 0, 0, 0, 0],\n         [0, 0, 0, 0, 0, 0, 0, 0],\n         [0, 0, 0, 0, 0, 0, 1, 0],\n         [0, 0, 0, 0, 0, 0, 0, 0]]),\n tensor([[0, 0, 0, 0, 0, 0, 0, 0],\n         [0, 0, 0, 0, 0, 0, 0, 0],\n         [0, 0, 0, 0, 0, 0, 0, 0],\n         [0, 0, 0, 0, 0, 0, 0, 0],\n         [0, 0, 0, 0, 0, 0, 0, 0],\n         [0, 0, 0, 0, 0, 0, 1, 0],\n         [0, 0, 0, 0, 0, 0, 0, 0],\n         [0, 0, 0, 0, 0, 0, 0, 0]]),\n tensor([[0, 0, 0, 0, 0, 0, 0, 0],\n         [0, 0, 0, 0, 0, 0, 0, 0],\n         [0, 0, 0, 0, 0, 0, 0, 0],\n         [0, 0, 0, 0, 0, 0, 0, 0],\n         [0, 0, 0, 0, 0, 0, 0, 0],\n         [0, 0, 0, 0, 0, 0, 0, 0],\n         [0, 0, 0, 0, 0, 0, 0, 0],\n         [0, 0, 0, 0, 0, 0, 0, 0]]),\n tensor([[0, 0, 0, 0, 0, 0, 0, 0],\n         [0, 0, 0, 0, 0, 0, 0, 0],\n         [0, 0, 0, 0, 0, 0, 0, 0],\n         [0, 0, 0, 0, 0, 0, 0, 0],\n         [0, 0, 0, 0, 0, 0, 0, 0],\n         [0, 0, 0, 0, 0, 0, 0, 0],\n         [0, 0, 0, 0, 0, 0, 0, 0],\n         [0, 0, 0, 0, 0, 0, 0, 0]]),\n tensor([[0, 0, 0, 0, 0, 0, 0, 0],\n         [0, 0, 0, 0, 0, 0, 0, 0],\n         [0, 0, 0, 0, 0, 0, 0, 0],\n         [0, 0, 0, 0, 0, 0, 0, 0],\n         [0, 0, 0, 0, 0, 0, 0, 0],\n         [0, 0, 0, 0, 0, 0, 0, 0],\n         [0, 0, 1, 0, 0, 0, 0, 0],\n         [0, 0, 0, 0, 0, 0, 0, 0]]),\n tensor([[0, 0, 0, 0, 0, 0, 0, 0],\n         [0, 0, 0, 0, 0, 0, 0, 0],\n         [0, 0, 0, 1, 0, 0, 0, 0],\n         [0, 0, 0, 0, 0, 0, 0, 0],\n         [0, 0, 0, 0, 0, 0, 0, 0],\n         [0, 1, 0, 0, 0, 0, 0, 0],\n         [0, 0, 0, 0, 0, 0, 0, 0],\n         [0, 0, 0, 0, 0, 0, 0, 0]]),\n tensor([[0, 0, 0, 0, 0, 0, 0, 1],\n         [0, 0, 0, 1, 0, 0, 0, 0],\n         [0, 0, 0, 0, 0, 0, 0, 0],\n         [0, 0, 0, 0, 0, 0, 0, 0],\n         [0, 0, 0, 0, 0, 0, 0, 0],\n         [0, 0, 0, 0, 0, 0, 0, 0],\n         [0, 0, 0, 0, 0, 0, 0, 0],\n         [0, 0, 0, 0, 0, 0, 0, 0]])]"
     },
     "execution_count": 15,
     "metadata": {},
     "output_type": "execute_result"
    }
   ],
   "source": [
    "load(1)[0].fen_to_tensors_list()"
   ],
   "metadata": {
    "collapsed": false,
    "ExecuteTime": {
     "end_time": "2024-06-16T01:22:30.639556Z",
     "start_time": "2024-06-16T01:22:30.624267Z"
    }
   },
   "id": "a5dff79ad6859c4",
   "execution_count": 15
  },
  {
   "metadata": {
    "ExecuteTime": {
     "end_time": "2024-06-16T01:22:30.645254Z",
     "start_time": "2024-06-16T01:22:30.640754Z"
    }
   },
   "cell_type": "code",
   "source": [
    "def move_to_tensor(move: str) -> torch.Tensor:\n",
    "    x1 = 7 - ord(move[0]) + ord('a')\n",
    "    y1 = 8 - int(move[1])\n",
    "    x2 = 7 - ord(move[2]) + ord('a')\n",
    "    y2 = 8 - int(move[3])\n",
    "    tensor = torch.zeros(8, 8)\n",
    "    tensor[y1][x1] = 1\n",
    "    tensor[y2][x2] = 1\n",
    "    return tensor"
   ],
   "id": "17c3f21abe4260e5",
   "outputs": [],
   "execution_count": 16
  },
  {
   "metadata": {
    "ExecuteTime": {
     "end_time": "2024-06-16T01:22:30.655146Z",
     "start_time": "2024-06-16T01:22:30.646451Z"
    }
   },
   "cell_type": "code",
   "source": [
    "print(move_to_tensor('b2b4'))"
   ],
   "id": "104d99da6a271a6a",
   "outputs": [
    {
     "name": "stdout",
     "output_type": "stream",
     "text": [
      "tensor([[0., 0., 0., 0., 0., 0., 0., 0.],\n",
      "        [0., 0., 0., 0., 0., 0., 0., 0.],\n",
      "        [0., 0., 0., 0., 0., 0., 0., 0.],\n",
      "        [0., 0., 0., 0., 0., 0., 0., 0.],\n",
      "        [0., 0., 0., 0., 0., 0., 1., 0.],\n",
      "        [0., 0., 0., 0., 0., 0., 0., 0.],\n",
      "        [0., 0., 0., 0., 0., 0., 1., 0.],\n",
      "        [0., 0., 0., 0., 0., 0., 0., 0.]])\n"
     ]
    }
   ],
   "execution_count": 17
  },
  {
   "metadata": {
    "ExecuteTime": {
     "end_time": "2024-06-16T01:22:30.665695Z",
     "start_time": "2024-06-16T01:22:30.656251Z"
    }
   },
   "cell_type": "code",
   "source": [
    "load(1)[0].puzzle_to_tensor()"
   ],
   "id": "f086ac45785396dd",
   "outputs": [
    {
     "data": {
      "text/plain": "tensor([[[0., 0., 0.,  ..., 0., 0., 0.],\n         [0., 0., 0.,  ..., 0., 0., 0.],\n         [1., 0., 0.,  ..., 0., 0., 0.],\n         ...,\n         [0., 1., 0.,  ..., 0., 1., 0.],\n         [1., 1., 0.,  ..., 1., 0., 1.],\n         [1., 0., 0.,  ..., 0., 0., 0.]],\n\n        [[1., 0., 0.,  ..., 0., 0., 1.],\n         [1., 0., 0.,  ..., 0., 1., 1.],\n         [0., 0., 1.,  ..., 0., 0., 0.],\n         ...,\n         [0., 0., 0.,  ..., 0., 0., 0.],\n         [0., 0., 1.,  ..., 0., 1., 0.],\n         [0., 0., 0.,  ..., 0., 0., 0.]],\n\n        [[0., 0., 0.,  ..., 0., 0., 0.],\n         [0., 0., 0.,  ..., 0., 0., 0.],\n         [0., 0., 0.,  ..., 0., 0., 0.],\n         ...,\n         [0., 0., 0.,  ..., 0., 0., 0.],\n         [0., 0., 0.,  ..., 0., 0., 0.],\n         [1., 0., 0.,  ..., 0., 0., 0.]],\n\n        ...,\n\n        [[0., 0., 0.,  ..., 0., 0., 0.],\n         [0., 0., 0.,  ..., 0., 0., 0.],\n         [0., 0., 0.,  ..., 0., 0., 0.],\n         ...,\n         [0., 0., 0.,  ..., 0., 0., 0.],\n         [0., 0., 0.,  ..., 0., 0., 0.],\n         [0., 0., 0.,  ..., 1., 1., 0.]],\n\n        [[0., 0., 0.,  ..., 0., 0., 0.],\n         [0., 0., 0.,  ..., 0., 0., 0.],\n         [1., 0., 0.,  ..., 0., 0., 0.],\n         ...,\n         [0., 0., 0.,  ..., 0., 0., 0.],\n         [0., 0., 0.,  ..., 0., 0., 0.],\n         [0., 0., 0.,  ..., 1., 0., 0.]],\n\n        [[0., 0., 0.,  ..., 0., 0., 0.],\n         [0., 0., 0.,  ..., 0., 0., 0.],\n         [0., 0., 0.,  ..., 0., 0., 0.],\n         ...,\n         [0., 0., 0.,  ..., 0., 0., 0.],\n         [0., 0., 0.,  ..., 0., 0., 0.],\n         [0., 0., 0.,  ..., 0., 0., 0.]]])"
     },
     "execution_count": 18,
     "metadata": {},
     "output_type": "execute_result"
    }
   ],
   "execution_count": 18
  },
  {
   "metadata": {},
   "cell_type": "markdown",
   "source": [
    "# CONVERT AND BATCH DATASET"
   ],
   "id": "577ba77d6cc0369a"
  },
  {
   "metadata": {
    "ExecuteTime": {
     "end_time": "2024-06-16T01:22:30.670478Z",
     "start_time": "2024-06-16T01:22:30.666833Z"
    }
   },
   "cell_type": "code",
   "source": [
    "def puzzle_to_tag_index(puzzle: Puzzle) -> int:\n",
    "    [tag] = set(puzzle.tags) & expected_tags\n",
    "    index = expected_tags_list.index(tag)\n",
    "    return index"
   ],
   "id": "f69689ed3c928f55",
   "outputs": [],
   "execution_count": 19
  },
  {
   "metadata": {
    "ExecuteTime": {
     "end_time": "2024-06-16T01:22:30.682327Z",
     "start_time": "2024-06-16T01:22:30.671747Z"
    }
   },
   "cell_type": "code",
   "source": [
    "puzzle_to_tag_index(filter_data(load(100))[0])"
   ],
   "id": "abd55187edfe5df",
   "outputs": [
    {
     "data": {
      "text/plain": "1"
     },
     "execution_count": 20,
     "metadata": {},
     "output_type": "execute_result"
    }
   ],
   "execution_count": 20
  },
  {
   "metadata": {
    "ExecuteTime": {
     "end_time": "2024-06-16T01:22:30.687181Z",
     "start_time": "2024-06-16T01:22:30.683423Z"
    }
   },
   "cell_type": "code",
   "source": [
    "def convert_dataset(puzzles: [Puzzle]) -> list[tuple[torch.Tensor, int]]:\n",
    "    return [(puzzle.puzzle_to_tensor(), puzzle_to_tag_index(puzzle)) for puzzle in puzzles]"
   ],
   "id": "2a98f0f8bbd52026",
   "outputs": [],
   "execution_count": 21
  },
  {
   "cell_type": "code",
   "outputs": [],
   "source": [
    "TEST_SIZE = 500*64\n",
    "VALIDATION_SIZE = 500*64"
   ],
   "metadata": {
    "collapsed": false,
    "ExecuteTime": {
     "end_time": "2024-06-16T01:22:30.692325Z",
     "start_time": "2024-06-16T01:22:30.688394Z"
    }
   },
   "id": "4ed9f8a84cd4d90f",
   "execution_count": 22
  },
  {
   "metadata": {
    "ExecuteTime": {
     "end_time": "2024-06-16T01:36:35.204840Z",
     "start_time": "2024-06-16T01:22:30.693469Z"
    }
   },
   "cell_type": "code",
   "source": [
    "dataset = convert_dataset(filter_data(load(3000000)))\n",
    "random.shuffle(dataset) \n",
    "len(dataset) "
   ],
   "id": "2c6ecc1932649601",
   "outputs": [
    {
     "data": {
      "text/plain": "904028"
     },
     "execution_count": 23,
     "metadata": {},
     "output_type": "execute_result"
    }
   ],
   "execution_count": 23
  },
  {
   "cell_type": "code",
   "outputs": [
    {
     "name": "stdout",
     "output_type": "stream",
     "text": [
      "Train:  840028\n",
      "Test:  32000\n",
      "Validation:  32000\n"
     ]
    }
   ],
   "source": [
    "test_dataset, dataset = dataset[:TEST_SIZE], dataset[TEST_SIZE:]\n",
    "validation_dataset, train_dataset = dataset[:VALIDATION_SIZE], dataset[VALIDATION_SIZE:]\n",
    "\n",
    "print(\"Train: \", len(train_dataset))\n",
    "print(\"Test: \", len(test_dataset))\n",
    "print(\"Validation: \", len(validation_dataset))"
   ],
   "metadata": {
    "collapsed": false,
    "ExecuteTime": {
     "end_time": "2024-06-16T01:36:35.351937Z",
     "start_time": "2024-06-16T01:36:35.217667Z"
    }
   },
   "id": "1ab3c6506a88e423",
   "execution_count": 24
  },
  {
   "cell_type": "code",
   "outputs": [],
   "source": [
    "torch.save(train_dataset, \"dataset_train.save\") # 5GB\n",
    "torch.save(test_dataset, \"dataset_test.save\")\n",
    "torch.save(validation_dataset, \"dataset_valid.save\")\n"
   ],
   "metadata": {
    "collapsed": false,
    "ExecuteTime": {
     "end_time": "2024-06-16T01:38:45.128217Z",
     "start_time": "2024-06-16T01:36:35.358585Z"
    }
   },
   "id": "cc4006639d8661aa",
   "execution_count": 25
  },
  {
   "cell_type": "code",
   "outputs": [
    {
     "data": {
      "text/plain": "torch.Size([21, 8, 8])"
     },
     "execution_count": 26,
     "metadata": {},
     "output_type": "execute_result"
    }
   ],
   "source": [
    "train_dataset[0][0].shape"
   ],
   "metadata": {
    "collapsed": false,
    "ExecuteTime": {
     "end_time": "2024-06-16T01:38:45.141510Z",
     "start_time": "2024-06-16T01:38:45.132415Z"
    }
   },
   "id": "f14a015d4c9d2b7c",
   "execution_count": 26
  },
  {
   "cell_type": "code",
   "outputs": [],
   "source": [],
   "metadata": {
    "collapsed": false,
    "ExecuteTime": {
     "end_time": "2024-06-16T01:38:45.146309Z",
     "start_time": "2024-06-16T01:38:45.142743Z"
    }
   },
   "id": "b63e7e803cebf6e6",
   "execution_count": 26
  },
  {
   "cell_type": "code",
   "outputs": [],
   "source": [],
   "metadata": {
    "collapsed": false,
    "ExecuteTime": {
     "end_time": "2024-06-16T01:38:45.150334Z",
     "start_time": "2024-06-16T01:38:45.147576Z"
    }
   },
   "id": "ce167591ae3cfe03",
   "execution_count": 26
  },
  {
   "cell_type": "code",
   "outputs": [],
   "source": [],
   "metadata": {
    "collapsed": false
   },
   "id": "726f289adb29870f"
  }
 ],
 "metadata": {
  "kernelspec": {
   "display_name": "Python 3",
   "language": "python",
   "name": "python3"
  },
  "language_info": {
   "codemirror_mode": {
    "name": "ipython",
    "version": 2
   },
   "file_extension": ".py",
   "mimetype": "text/x-python",
   "name": "python",
   "nbconvert_exporter": "python",
   "pygments_lexer": "ipython2",
   "version": "2.7.6"
  }
 },
 "nbformat": 4,
 "nbformat_minor": 5
}
