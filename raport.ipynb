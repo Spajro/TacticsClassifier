{
 "cells": [
  {
   "metadata": {},
   "cell_type": "markdown",
   "source": [
    "# LOADING DATASET"
   ],
   "id": "9dfc98def8fb55f"
  },
  {
   "metadata": {
    "ExecuteTime": {
     "end_time": "2024-06-17T03:27:45.847503Z",
     "start_time": "2024-06-17T03:27:43.898792Z"
    }
   },
   "cell_type": "code",
   "source": [
    "import math\n",
    "import pathlib\n",
    "import random\n",
    "import urllib\n",
    "\n",
    "from torchinfo import summary\n",
    "\n",
    "import time\n",
    "import wandb\n",
    "import zstandard\n",
    "import chess\n",
    "import torch\n",
    "import numpy as np\n",
    "from torch import nn, Tensor\n",
    "from torch.utils.data import DataLoader"
   ],
   "id": "c4b51d4c10754771",
   "outputs": [],
   "execution_count": 1
  },
  {
   "metadata": {
    "ExecuteTime": {
     "end_time": "2024-06-17T03:27:47.479518Z",
     "start_time": "2024-06-17T03:27:45.847503Z"
    }
   },
   "cell_type": "code",
   "source": "wandb.login()",
   "id": "8bd9f933238ec0bf",
   "outputs": [
    {
     "name": "stderr",
     "output_type": "stream",
     "text": [
      "wandb: Currently logged in as: spajro (spajro-chess). Use `wandb login --relogin` to force relogin\n"
     ]
    },
    {
     "data": {
      "text/plain": [
       "True"
      ]
     },
     "execution_count": 2,
     "metadata": {},
     "output_type": "execute_result"
    }
   ],
   "execution_count": 2
  },
  {
   "metadata": {
    "ExecuteTime": {
     "end_time": "2024-06-17T03:27:47.483197Z",
     "start_time": "2024-06-17T03:27:47.479518Z"
    }
   },
   "cell_type": "code",
   "source": [
    "def __download(url: str, name: str) -> str:\n",
    "    path, _ = urllib.request.urlretrieve(url, name)\n",
    "    return path\n",
    "\n",
    "\n",
    "def __unpack(path: str, name: str):\n",
    "    input_file = pathlib.Path(path)\n",
    "    with open(input_file, 'rb') as compressed:\n",
    "        decomp = zstandard.ZstdDecompressor()\n",
    "        output_path = name\n",
    "        with open(output_path, 'wb') as destination:\n",
    "            decomp.copy_stream(compressed, destination)\n",
    "            destination.close()\n",
    "        compressed.close()\n",
    "\n",
    "\n",
    "def __remove(path: str):\n",
    "    pathlib.Path.unlink(pathlib.Path(path))"
   ],
   "id": "c1af7d40bfdbe229",
   "outputs": [],
   "execution_count": 3
  },
  {
   "metadata": {
    "ExecuteTime": {
     "end_time": "2024-06-17T03:28:04.887482Z",
     "start_time": "2024-06-17T03:27:47.483197Z"
    }
   },
   "cell_type": "code",
   "source": [
    "path = __download(\"https://database.lichess.org/lichess_db_puzzle.csv.zst\", \"lichess_db_puzzle.csv.zst\")"
   ],
   "id": "7b7f765e257cee1f",
   "outputs": [],
   "execution_count": 4
  },
  {
   "metadata": {
    "ExecuteTime": {
     "end_time": "2024-06-17T03:28:05.736356Z",
     "start_time": "2024-06-17T03:28:04.888485Z"
    }
   },
   "cell_type": "code",
   "source": [
    "__unpack(path, \"lichess_db_puzzle.csv\")"
   ],
   "id": "ca1de55ee484bb4e",
   "outputs": [],
   "execution_count": 5
  },
  {
   "metadata": {
    "ExecuteTime": {
     "end_time": "2024-06-17T03:28:05.752250Z",
     "start_time": "2024-06-17T03:28:05.736356Z"
    }
   },
   "cell_type": "code",
   "source": [
    "__remove(\"lichess_db_puzzle.csv.zst\")"
   ],
   "id": "876c56ec9a7ac80d",
   "outputs": [],
   "execution_count": 6
  },
  {
   "cell_type": "markdown",
   "source": [],
   "metadata": {
    "collapsed": false
   },
   "id": "332d7c96f5577e8a"
  },
  {
   "cell_type": "code",
   "id": "initial_id",
   "metadata": {
    "collapsed": true,
    "ExecuteTime": {
     "end_time": "2024-06-17T03:28:05.756968Z",
     "start_time": "2024-06-17T03:28:05.752250Z"
    }
   },
   "source": [
    "class Puzzle:\n",
    "    def __init__(self, row: str):\n",
    "        fields = row.split(',')\n",
    "        self.fen = fields[1]\n",
    "        self.moves = fields[2].split(\" \")\n",
    "        self.tags = fields[7].split(\" \")\n",
    "        self.board = chess.Board(self.fen)\n",
    "\n",
    "    def __str__(self):\n",
    "        return \"{fen: \" + self.fen + \" ,tags: [\" + \", \".join(self.tags) + \"],moves: [\" + \",\".join(self.moves) + \"]}\"\n",
    "\n",
    "    def fen_to_tensors_list(self) -> [torch.Tensor]:\n",
    "        white = self.board.occupied_co[chess.WHITE]\n",
    "        black = self.board.occupied_co[chess.BLACK]\n",
    "\n",
    "        return [\n",
    "            bitboard_to_tensor(white),\n",
    "            bitboard_to_tensor(black),\n",
    "            bitboard_to_tensor(white & self.board.kings),\n",
    "            bitboard_to_tensor(black & self.board.kings),\n",
    "            bitboard_to_tensor(white & self.board.pawns),\n",
    "            bitboard_to_tensor(black & self.board.pawns),\n",
    "            bitboard_to_tensor(white & self.board.queens),\n",
    "            bitboard_to_tensor(black & self.board.queens),\n",
    "            bitboard_to_tensor(white & self.board.knights),\n",
    "            bitboard_to_tensor(black & self.board.knights),\n",
    "            bitboard_to_tensor(white & self.board.bishops),\n",
    "            bitboard_to_tensor(black & self.board.bishops),\n",
    "            bitboard_to_tensor(white & self.board.rooks),\n",
    "            bitboard_to_tensor(black & self.board.rooks)\n",
    "        ]\n",
    "\n",
    "    def puzzle_to_tensor(self) -> torch.Tensor:\n",
    "        fen_tensors = self.fen_to_tensors_list()\n",
    "        move_tensors: list[Tensor] = []\n",
    "        for i in range(7):  # FIRST 7 moves\n",
    "            if i < len(self.moves):\n",
    "                move_tensors.append(move_to_tensor(self.moves[i]))\n",
    "            else:\n",
    "                move_tensors.append(torch.zeros(8, 8))\n",
    "        return torch.stack(fen_tensors + move_tensors)"
   ],
   "outputs": [],
   "execution_count": 7
  },
  {
   "metadata": {
    "ExecuteTime": {
     "end_time": "2024-06-17T03:28:05.763039Z",
     "start_time": "2024-06-17T03:28:05.756968Z"
    }
   },
   "cell_type": "code",
   "source": [
    "def load(k: int) -> [Puzzle]:\n",
    "    f = open(\"lichess_db_puzzle.csv\")\n",
    "    f.readline()\n",
    "    result = []\n",
    "    for i in range(k):\n",
    "        result.append(Puzzle(f.readline()))\n",
    "    f.close()\n",
    "    return result"
   ],
   "id": "d76ee6cf90617af0",
   "outputs": [],
   "execution_count": 8
  },
  {
   "metadata": {
    "ExecuteTime": {
     "end_time": "2024-06-17T03:28:05.768931Z",
     "start_time": "2024-06-17T03:28:05.763039Z"
    }
   },
   "cell_type": "code",
   "source": [
    "load(10)[0].__str__()"
   ],
   "id": "57feb45f444a7d0a",
   "outputs": [
    {
     "data": {
      "text/plain": [
       "'{fen: r6k/pp2r2p/4Rp1Q/3p4/8/1N1P2R1/PqP2bPP/7K b - - 0 24 ,tags: [crushing, hangingPiece, long, middlegame],moves: [f2g3,e6e7,b2b1,b3c1,b1c1,h6c1]}'"
      ]
     },
     "execution_count": 9,
     "metadata": {},
     "output_type": "execute_result"
    }
   ],
   "execution_count": 9
  },
  {
   "metadata": {},
   "cell_type": "markdown",
   "source": [
    "# FILTER DATASET"
   ],
   "id": "f362b99117932533"
  },
  {
   "metadata": {
    "ExecuteTime": {
     "end_time": "2024-06-17T03:28:05.773402Z",
     "start_time": "2024-06-17T03:28:05.768931Z"
    }
   },
   "cell_type": "code",
   "source": [
    "expected_tags = {\n",
    "    'attraction',\n",
    "    'discoveredAttack',\n",
    "    'doubleCheck',\n",
    "    'fork',\n",
    "    'pin',\n",
    "    'sacrifice',\n",
    "    'skewer',\n",
    "    'xRayAttack',\n",
    "    'zugzwang',\n",
    "    'deflection',\n",
    "    'clearance'\n",
    "}"
   ],
   "id": "54b9c024e9edbc45",
   "outputs": [],
   "execution_count": 10
  },
  {
   "metadata": {
    "ExecuteTime": {
     "end_time": "2024-06-17T03:28:05.778904Z",
     "start_time": "2024-06-17T03:28:05.773402Z"
    }
   },
   "cell_type": "code",
   "source": [
    "expected_tags_list = list(expected_tags)"
   ],
   "id": "b4c7b42dafb2af34",
   "outputs": [],
   "execution_count": 11
  },
  {
   "metadata": {
    "ExecuteTime": {
     "end_time": "2024-06-17T03:28:05.784147Z",
     "start_time": "2024-06-17T03:28:05.778904Z"
    }
   },
   "cell_type": "code",
   "source": [
    "def not_has_promotion_move(puzzle: Puzzle) -> bool:\n",
    "    return all([len(m) == 4 for m in puzzle.moves])\n",
    "\n",
    "\n",
    "def filter_data(data: [Puzzle]) -> [Puzzle]:\n",
    "    puzzles_single_tag = list(filter(lambda p: len(set(p.tags) & expected_tags) == 1, data))\n",
    "    puzzles_not_ambiguous = list(filter(not_has_promotion_move, puzzles_single_tag))\n",
    "    return puzzles_not_ambiguous\n"
   ],
   "id": "68a75e47bbf20450",
   "outputs": [],
   "execution_count": 12
  },
  {
   "metadata": {
    "ExecuteTime": {
     "end_time": "2024-06-17T03:28:05.792230Z",
     "start_time": "2024-06-17T03:28:05.784147Z"
    }
   },
   "cell_type": "code",
   "source": [
    "len(filter_data(load(100)))"
   ],
   "id": "ed1341d0f35d0c64",
   "outputs": [
    {
     "data": {
      "text/plain": [
       "35"
      ]
     },
     "execution_count": 13,
     "metadata": {},
     "output_type": "execute_result"
    }
   ],
   "execution_count": 13
  },
  {
   "metadata": {},
   "cell_type": "markdown",
   "source": [
    "# CONVERSION TO TENSOR"
   ],
   "id": "a5c92e35f0ad916d"
  },
  {
   "metadata": {
    "ExecuteTime": {
     "end_time": "2024-06-17T03:28:05.795927Z",
     "start_time": "2024-06-17T03:28:05.793233Z"
    }
   },
   "cell_type": "code",
   "source": [
    "def bitboard_to_tensor(bitboard: int) -> torch.Tensor:\n",
    "    li = [1 if digit == '1' else 0 for digit in bin(bitboard)[2:]]\n",
    "    li = [0 for _ in range(64 - len(li))] + li\n",
    "    return torch.tensor(li).reshape((8, 8))"
   ],
   "id": "10c35e85f53b2f3c",
   "outputs": [],
   "execution_count": 14
  },
  {
   "cell_type": "code",
   "source": [
    "load(1)[0].fen_to_tensors_list()"
   ],
   "metadata": {
    "collapsed": false,
    "ExecuteTime": {
     "end_time": "2024-06-17T03:28:05.804541Z",
     "start_time": "2024-06-17T03:28:05.795927Z"
    }
   },
   "id": "a5dff79ad6859c4",
   "outputs": [
    {
     "data": {
      "text/plain": [
       "[tensor([[0, 0, 0, 0, 0, 0, 0, 0],\n",
       "         [0, 0, 0, 0, 0, 0, 0, 0],\n",
       "         [1, 0, 0, 1, 0, 0, 0, 0],\n",
       "         [0, 0, 0, 0, 0, 0, 0, 0],\n",
       "         [0, 0, 0, 0, 0, 0, 0, 0],\n",
       "         [0, 1, 0, 0, 1, 0, 1, 0],\n",
       "         [1, 1, 0, 0, 0, 1, 0, 1],\n",
       "         [1, 0, 0, 0, 0, 0, 0, 0]]),\n",
       " tensor([[1, 0, 0, 0, 0, 0, 0, 1],\n",
       "         [1, 0, 0, 1, 0, 0, 1, 1],\n",
       "         [0, 0, 1, 0, 0, 0, 0, 0],\n",
       "         [0, 0, 0, 0, 1, 0, 0, 0],\n",
       "         [0, 0, 0, 0, 0, 0, 0, 0],\n",
       "         [0, 0, 0, 0, 0, 0, 0, 0],\n",
       "         [0, 0, 1, 0, 0, 0, 1, 0],\n",
       "         [0, 0, 0, 0, 0, 0, 0, 0]]),\n",
       " tensor([[0, 0, 0, 0, 0, 0, 0, 0],\n",
       "         [0, 0, 0, 0, 0, 0, 0, 0],\n",
       "         [0, 0, 0, 0, 0, 0, 0, 0],\n",
       "         [0, 0, 0, 0, 0, 0, 0, 0],\n",
       "         [0, 0, 0, 0, 0, 0, 0, 0],\n",
       "         [0, 0, 0, 0, 0, 0, 0, 0],\n",
       "         [0, 0, 0, 0, 0, 0, 0, 0],\n",
       "         [1, 0, 0, 0, 0, 0, 0, 0]]),\n",
       " tensor([[1, 0, 0, 0, 0, 0, 0, 0],\n",
       "         [0, 0, 0, 0, 0, 0, 0, 0],\n",
       "         [0, 0, 0, 0, 0, 0, 0, 0],\n",
       "         [0, 0, 0, 0, 0, 0, 0, 0],\n",
       "         [0, 0, 0, 0, 0, 0, 0, 0],\n",
       "         [0, 0, 0, 0, 0, 0, 0, 0],\n",
       "         [0, 0, 0, 0, 0, 0, 0, 0],\n",
       "         [0, 0, 0, 0, 0, 0, 0, 0]]),\n",
       " tensor([[0, 0, 0, 0, 0, 0, 0, 0],\n",
       "         [0, 0, 0, 0, 0, 0, 0, 0],\n",
       "         [0, 0, 0, 0, 0, 0, 0, 0],\n",
       "         [0, 0, 0, 0, 0, 0, 0, 0],\n",
       "         [0, 0, 0, 0, 0, 0, 0, 0],\n",
       "         [0, 0, 0, 0, 1, 0, 0, 0],\n",
       "         [1, 1, 0, 0, 0, 1, 0, 1],\n",
       "         [0, 0, 0, 0, 0, 0, 0, 0]]),\n",
       " tensor([[0, 0, 0, 0, 0, 0, 0, 0],\n",
       "         [1, 0, 0, 0, 0, 0, 1, 1],\n",
       "         [0, 0, 1, 0, 0, 0, 0, 0],\n",
       "         [0, 0, 0, 0, 1, 0, 0, 0],\n",
       "         [0, 0, 0, 0, 0, 0, 0, 0],\n",
       "         [0, 0, 0, 0, 0, 0, 0, 0],\n",
       "         [0, 0, 0, 0, 0, 0, 0, 0],\n",
       "         [0, 0, 0, 0, 0, 0, 0, 0]]),\n",
       " tensor([[0, 0, 0, 0, 0, 0, 0, 0],\n",
       "         [0, 0, 0, 0, 0, 0, 0, 0],\n",
       "         [1, 0, 0, 0, 0, 0, 0, 0],\n",
       "         [0, 0, 0, 0, 0, 0, 0, 0],\n",
       "         [0, 0, 0, 0, 0, 0, 0, 0],\n",
       "         [0, 0, 0, 0, 0, 0, 0, 0],\n",
       "         [0, 0, 0, 0, 0, 0, 0, 0],\n",
       "         [0, 0, 0, 0, 0, 0, 0, 0]]),\n",
       " tensor([[0, 0, 0, 0, 0, 0, 0, 0],\n",
       "         [0, 0, 0, 0, 0, 0, 0, 0],\n",
       "         [0, 0, 0, 0, 0, 0, 0, 0],\n",
       "         [0, 0, 0, 0, 0, 0, 0, 0],\n",
       "         [0, 0, 0, 0, 0, 0, 0, 0],\n",
       "         [0, 0, 0, 0, 0, 0, 0, 0],\n",
       "         [0, 0, 0, 0, 0, 0, 1, 0],\n",
       "         [0, 0, 0, 0, 0, 0, 0, 0]]),\n",
       " tensor([[0, 0, 0, 0, 0, 0, 0, 0],\n",
       "         [0, 0, 0, 0, 0, 0, 0, 0],\n",
       "         [0, 0, 0, 0, 0, 0, 0, 0],\n",
       "         [0, 0, 0, 0, 0, 0, 0, 0],\n",
       "         [0, 0, 0, 0, 0, 0, 0, 0],\n",
       "         [0, 0, 0, 0, 0, 0, 1, 0],\n",
       "         [0, 0, 0, 0, 0, 0, 0, 0],\n",
       "         [0, 0, 0, 0, 0, 0, 0, 0]]),\n",
       " tensor([[0, 0, 0, 0, 0, 0, 0, 0],\n",
       "         [0, 0, 0, 0, 0, 0, 0, 0],\n",
       "         [0, 0, 0, 0, 0, 0, 0, 0],\n",
       "         [0, 0, 0, 0, 0, 0, 0, 0],\n",
       "         [0, 0, 0, 0, 0, 0, 0, 0],\n",
       "         [0, 0, 0, 0, 0, 0, 0, 0],\n",
       "         [0, 0, 0, 0, 0, 0, 0, 0],\n",
       "         [0, 0, 0, 0, 0, 0, 0, 0]]),\n",
       " tensor([[0, 0, 0, 0, 0, 0, 0, 0],\n",
       "         [0, 0, 0, 0, 0, 0, 0, 0],\n",
       "         [0, 0, 0, 0, 0, 0, 0, 0],\n",
       "         [0, 0, 0, 0, 0, 0, 0, 0],\n",
       "         [0, 0, 0, 0, 0, 0, 0, 0],\n",
       "         [0, 0, 0, 0, 0, 0, 0, 0],\n",
       "         [0, 0, 0, 0, 0, 0, 0, 0],\n",
       "         [0, 0, 0, 0, 0, 0, 0, 0]]),\n",
       " tensor([[0, 0, 0, 0, 0, 0, 0, 0],\n",
       "         [0, 0, 0, 0, 0, 0, 0, 0],\n",
       "         [0, 0, 0, 0, 0, 0, 0, 0],\n",
       "         [0, 0, 0, 0, 0, 0, 0, 0],\n",
       "         [0, 0, 0, 0, 0, 0, 0, 0],\n",
       "         [0, 0, 0, 0, 0, 0, 0, 0],\n",
       "         [0, 0, 1, 0, 0, 0, 0, 0],\n",
       "         [0, 0, 0, 0, 0, 0, 0, 0]]),\n",
       " tensor([[0, 0, 0, 0, 0, 0, 0, 0],\n",
       "         [0, 0, 0, 0, 0, 0, 0, 0],\n",
       "         [0, 0, 0, 1, 0, 0, 0, 0],\n",
       "         [0, 0, 0, 0, 0, 0, 0, 0],\n",
       "         [0, 0, 0, 0, 0, 0, 0, 0],\n",
       "         [0, 1, 0, 0, 0, 0, 0, 0],\n",
       "         [0, 0, 0, 0, 0, 0, 0, 0],\n",
       "         [0, 0, 0, 0, 0, 0, 0, 0]]),\n",
       " tensor([[0, 0, 0, 0, 0, 0, 0, 1],\n",
       "         [0, 0, 0, 1, 0, 0, 0, 0],\n",
       "         [0, 0, 0, 0, 0, 0, 0, 0],\n",
       "         [0, 0, 0, 0, 0, 0, 0, 0],\n",
       "         [0, 0, 0, 0, 0, 0, 0, 0],\n",
       "         [0, 0, 0, 0, 0, 0, 0, 0],\n",
       "         [0, 0, 0, 0, 0, 0, 0, 0],\n",
       "         [0, 0, 0, 0, 0, 0, 0, 0]])]"
      ]
     },
     "execution_count": 15,
     "metadata": {},
     "output_type": "execute_result"
    }
   ],
   "execution_count": 15
  },
  {
   "metadata": {
    "ExecuteTime": {
     "end_time": "2024-06-17T03:28:05.807349Z",
     "start_time": "2024-06-17T03:28:05.804541Z"
    }
   },
   "cell_type": "code",
   "source": [
    "def move_to_tensor(move: str) -> torch.Tensor:\n",
    "    x1 = 7 - ord(move[0]) + ord('a')\n",
    "    y1 = 8 - int(move[1])\n",
    "    x2 = 7 - ord(move[2]) + ord('a')\n",
    "    y2 = 8 - int(move[3])\n",
    "    tensor = torch.zeros(8, 8)\n",
    "    tensor[y1][x1] = 1\n",
    "    tensor[y2][x2] = 1\n",
    "    return tensor"
   ],
   "id": "17c3f21abe4260e5",
   "outputs": [],
   "execution_count": 16
  },
  {
   "metadata": {
    "ExecuteTime": {
     "end_time": "2024-06-17T03:28:05.814704Z",
     "start_time": "2024-06-17T03:28:05.807349Z"
    }
   },
   "cell_type": "code",
   "source": [
    "print(move_to_tensor('b2b4'))"
   ],
   "id": "104d99da6a271a6a",
   "outputs": [
    {
     "name": "stdout",
     "output_type": "stream",
     "text": [
      "tensor([[0., 0., 0., 0., 0., 0., 0., 0.],\n",
      "        [0., 0., 0., 0., 0., 0., 0., 0.],\n",
      "        [0., 0., 0., 0., 0., 0., 0., 0.],\n",
      "        [0., 0., 0., 0., 0., 0., 0., 0.],\n",
      "        [0., 0., 0., 0., 0., 0., 1., 0.],\n",
      "        [0., 0., 0., 0., 0., 0., 0., 0.],\n",
      "        [0., 0., 0., 0., 0., 0., 1., 0.],\n",
      "        [0., 0., 0., 0., 0., 0., 0., 0.]])\n"
     ]
    }
   ],
   "execution_count": 17
  },
  {
   "metadata": {
    "ExecuteTime": {
     "end_time": "2024-06-17T03:28:05.821210Z",
     "start_time": "2024-06-17T03:28:05.814704Z"
    }
   },
   "cell_type": "code",
   "source": [
    "load(1)[0].puzzle_to_tensor()"
   ],
   "id": "f086ac45785396dd",
   "outputs": [
    {
     "data": {
      "text/plain": [
       "tensor([[[0., 0., 0.,  ..., 0., 0., 0.],\n",
       "         [0., 0., 0.,  ..., 0., 0., 0.],\n",
       "         [1., 0., 0.,  ..., 0., 0., 0.],\n",
       "         ...,\n",
       "         [0., 1., 0.,  ..., 0., 1., 0.],\n",
       "         [1., 1., 0.,  ..., 1., 0., 1.],\n",
       "         [1., 0., 0.,  ..., 0., 0., 0.]],\n",
       "\n",
       "        [[1., 0., 0.,  ..., 0., 0., 1.],\n",
       "         [1., 0., 0.,  ..., 0., 1., 1.],\n",
       "         [0., 0., 1.,  ..., 0., 0., 0.],\n",
       "         ...,\n",
       "         [0., 0., 0.,  ..., 0., 0., 0.],\n",
       "         [0., 0., 1.,  ..., 0., 1., 0.],\n",
       "         [0., 0., 0.,  ..., 0., 0., 0.]],\n",
       "\n",
       "        [[0., 0., 0.,  ..., 0., 0., 0.],\n",
       "         [0., 0., 0.,  ..., 0., 0., 0.],\n",
       "         [0., 0., 0.,  ..., 0., 0., 0.],\n",
       "         ...,\n",
       "         [0., 0., 0.,  ..., 0., 0., 0.],\n",
       "         [0., 0., 0.,  ..., 0., 0., 0.],\n",
       "         [1., 0., 0.,  ..., 0., 0., 0.]],\n",
       "\n",
       "        ...,\n",
       "\n",
       "        [[0., 0., 0.,  ..., 0., 0., 0.],\n",
       "         [0., 0., 0.,  ..., 0., 0., 0.],\n",
       "         [0., 0., 0.,  ..., 0., 0., 0.],\n",
       "         ...,\n",
       "         [0., 0., 0.,  ..., 0., 0., 0.],\n",
       "         [0., 0., 0.,  ..., 0., 0., 0.],\n",
       "         [0., 0., 0.,  ..., 1., 1., 0.]],\n",
       "\n",
       "        [[0., 0., 0.,  ..., 0., 0., 0.],\n",
       "         [0., 0., 0.,  ..., 0., 0., 0.],\n",
       "         [1., 0., 0.,  ..., 0., 0., 0.],\n",
       "         ...,\n",
       "         [0., 0., 0.,  ..., 0., 0., 0.],\n",
       "         [0., 0., 0.,  ..., 0., 0., 0.],\n",
       "         [0., 0., 0.,  ..., 1., 0., 0.]],\n",
       "\n",
       "        [[0., 0., 0.,  ..., 0., 0., 0.],\n",
       "         [0., 0., 0.,  ..., 0., 0., 0.],\n",
       "         [0., 0., 0.,  ..., 0., 0., 0.],\n",
       "         ...,\n",
       "         [0., 0., 0.,  ..., 0., 0., 0.],\n",
       "         [0., 0., 0.,  ..., 0., 0., 0.],\n",
       "         [0., 0., 0.,  ..., 0., 0., 0.]]])"
      ]
     },
     "execution_count": 18,
     "metadata": {},
     "output_type": "execute_result"
    }
   ],
   "execution_count": 18
  },
  {
   "metadata": {},
   "cell_type": "markdown",
   "source": [
    "# CONVERT AND BATCH DATASET"
   ],
   "id": "577ba77d6cc0369a"
  },
  {
   "metadata": {
    "ExecuteTime": {
     "end_time": "2024-06-17T03:28:05.824367Z",
     "start_time": "2024-06-17T03:28:05.821210Z"
    }
   },
   "cell_type": "code",
   "source": [
    "def puzzle_to_tag_index(puzzle: Puzzle) -> int:\n",
    "    [tag] = set(puzzle.tags) & expected_tags\n",
    "    index = expected_tags_list.index(tag)\n",
    "    return index"
   ],
   "id": "f69689ed3c928f55",
   "outputs": [],
   "execution_count": 19
  },
  {
   "metadata": {
    "ExecuteTime": {
     "end_time": "2024-06-17T03:28:05.832543Z",
     "start_time": "2024-06-17T03:28:05.824367Z"
    }
   },
   "cell_type": "code",
   "source": [
    "puzzle_to_tag_index(filter_data(load(100))[0])"
   ],
   "id": "abd55187edfe5df",
   "outputs": [
    {
     "data": {
      "text/plain": [
       "3"
      ]
     },
     "execution_count": 20,
     "metadata": {},
     "output_type": "execute_result"
    }
   ],
   "execution_count": 20
  },
  {
   "metadata": {
    "ExecuteTime": {
     "end_time": "2024-06-17T03:28:05.835276Z",
     "start_time": "2024-06-17T03:28:05.832543Z"
    }
   },
   "cell_type": "code",
   "source": [
    "def convert_dataset(puzzles: [Puzzle]) -> list[tuple[torch.Tensor, int]]:\n",
    "    return [(puzzle.puzzle_to_tensor(), puzzle_to_tag_index(puzzle)) for puzzle in puzzles]"
   ],
   "id": "2a98f0f8bbd52026",
   "outputs": [],
   "execution_count": 21
  },
  {
   "cell_type": "code",
   "source": [
    "TEST_SIZE = 500 * 64\n",
    "VALIDATION_SIZE = 500 * 64"
   ],
   "metadata": {
    "collapsed": false,
    "ExecuteTime": {
     "end_time": "2024-06-17T03:28:05.841280Z",
     "start_time": "2024-06-17T03:28:05.835276Z"
    }
   },
   "id": "4ed9f8a84cd4d90f",
   "outputs": [],
   "execution_count": 22
  },
  {
   "metadata": {
    "is_executing": true,
    "ExecuteTime": {
     "end_time": "2024-06-17T03:32:30.828915Z",
     "start_time": "2024-06-17T03:28:05.841280Z"
    }
   },
   "cell_type": "code",
   "source": [
    "dataset = convert_dataset(filter_data(load(3000000)))\n",
    "random.shuffle(dataset)\n",
    "len(dataset)"
   ],
   "id": "2c6ecc1932649601",
   "outputs": [
    {
     "data": {
      "text/plain": [
       "886146"
      ]
     },
     "execution_count": 23,
     "metadata": {},
     "output_type": "execute_result"
    }
   ],
   "execution_count": 23
  },
  {
   "cell_type": "code",
   "source": [
    "dataset_test, dataset = dataset[:TEST_SIZE], dataset[TEST_SIZE:]\n",
    "dataset_valid, dataset_train = dataset[:VALIDATION_SIZE], dataset[VALIDATION_SIZE:]\n",
    "\n",
    "print(\"Train: \", len(dataset_train))\n",
    "print(\"Test: \", len(dataset_test))\n",
    "print(\"Validation: \", len(dataset_valid))"
   ],
   "metadata": {
    "collapsed": false,
    "is_executing": true,
    "ExecuteTime": {
     "end_time": "2024-06-17T03:32:30.860104Z",
     "start_time": "2024-06-17T03:32:30.828915Z"
    }
   },
   "id": "1ab3c6506a88e423",
   "outputs": [
    {
     "name": "stdout",
     "output_type": "stream",
     "text": [
      "Train:  822146\n",
      "Test:  32000\n",
      "Validation:  32000\n"
     ]
    }
   ],
   "execution_count": 24
  },
  {
   "metadata": {
    "ExecuteTime": {
     "end_time": "2024-06-17T03:32:30.862696Z",
     "start_time": "2024-06-17T03:32:30.860104Z"
    }
   },
   "cell_type": "code",
   "source": "BATCH_SIZE = 64",
   "id": "937b042711a7bbf3",
   "outputs": [],
   "execution_count": 25
  },
  {
   "metadata": {
    "ExecuteTime": {
     "end_time": "2024-06-17T03:32:30.872501Z",
     "start_time": "2024-06-17T03:32:30.862696Z"
    }
   },
   "cell_type": "code",
   "source": [
    "loader_train = DataLoader(dataset_train, batch_size=BATCH_SIZE, shuffle=True)\n",
    "loader_test = DataLoader(dataset_test, batch_size=BATCH_SIZE, shuffle=True)\n",
    "loader_valid = DataLoader(dataset_valid, batch_size=BATCH_SIZE, shuffle=True)\n",
    "\n",
    "print(\"Batches train\", len(loader_train))\n",
    "print(\"Batches valid\", len(loader_valid))\n",
    "print(\"Batches test\", len(loader_test))"
   ],
   "id": "db7722ff1021a6a7",
   "outputs": [
    {
     "name": "stdout",
     "output_type": "stream",
     "text": [
      "Batches train 12847\n",
      "Batches valid 500\n",
      "Batches test 500\n"
     ]
    }
   ],
   "execution_count": 26
  },
  {
   "metadata": {},
   "cell_type": "markdown",
   "source": "# TRAINING",
   "id": "605c5e7f8c52a2f7"
  },
  {
   "metadata": {
    "ExecuteTime": {
     "end_time": "2024-06-17T03:32:30.893292Z",
     "start_time": "2024-06-17T03:32:30.872501Z"
    }
   },
   "cell_type": "code",
   "source": [
    "DEVICE = torch.device(\"cuda\" if torch.cuda.is_available() else \"cpu\")\n",
    "DATA_SHAPE = (BATCH_SIZE,) + tuple(dataset_train[0][0].shape)"
   ],
   "id": "a77604926aee9a5f",
   "outputs": [],
   "execution_count": 27
  },
  {
   "metadata": {
    "ExecuteTime": {
     "end_time": "2024-06-17T03:32:30.937979Z",
     "start_time": "2024-06-17T03:32:30.893292Z"
    }
   },
   "cell_type": "code",
   "source": [
    "class Model(nn.Module):\n",
    "    def __init__(self, *args, **kwargs):\n",
    "        super(Model, self).__init__()\n",
    "        self.classifier = nn.Sequential(*args, **kwargs)\n",
    "\n",
    "    def init_xavier(self):\n",
    "        for m in self.modules():\n",
    "            if isinstance(m, nn.Conv2d) or isinstance(m, nn.Linear):\n",
    "                nn.init.xavier_normal_(m.weight)\n",
    "\n",
    "    def calc_accuracy(self, loader):\n",
    "        correct = 0\n",
    "        total = 0\n",
    "        self.eval()\n",
    "        with torch.no_grad():\n",
    "            for batch in loader:\n",
    "                features, labels = batch\n",
    "                labels = labels.to(DEVICE)\n",
    "                features = features.to(DEVICE)\n",
    "                outputs = self(features)\n",
    "                _, predicted = torch.max(outputs, 1)\n",
    "                total += labels.size(0)\n",
    "                correct += (predicted == labels).sum().item()\n",
    "        self.train()\n",
    "        return correct / total\n",
    "\n",
    "    def forward(self, X):\n",
    "        return self.classifier.forward(X)"
   ],
   "id": "e37399e4d907300",
   "outputs": [],
   "execution_count": 28
  },
  {
   "metadata": {
    "ExecuteTime": {
     "end_time": "2024-06-17T03:32:31.204724Z",
     "start_time": "2024-06-17T03:32:30.937979Z"
    }
   },
   "cell_type": "code",
   "source": [
    "def create_model0():\n",
    "    return Model(nn.Conv2d(21, 8 * 8, kernel_size=4, padding=4),\n",
    "                 nn.ReLU(),\n",
    "                 nn.Conv2d(8 * 8, 4 * 4, kernel_size=2, padding=4),\n",
    "                 nn.ReLU(),\n",
    "                 nn.MaxPool2d(kernel_size=4, stride=1),\n",
    "                 nn.Conv2d(4 * 4, 8 * 8, kernel_size=2, padding=4),\n",
    "                 nn.ReLU(),\n",
    "                 nn.Conv2d(8 * 8, 1, kernel_size=4, padding=4),\n",
    "                 nn.ReLU(),\n",
    "                 nn.Flatten(),\n",
    "                 nn.Linear(841, 256),\n",
    "                 nn.ReLU(),\n",
    "                 nn.Linear(256, 64),\n",
    "                 nn.ReLU(),\n",
    "                 nn.Linear(64, 11)\n",
    "                 )\n",
    "\n",
    "\n",
    "model0 = create_model0()\n",
    "architecture_summary = summary(model0, DATA_SHAPE)\n",
    "print(architecture_summary)"
   ],
   "id": "8e98e1804410176d",
   "outputs": [
    {
     "name": "stderr",
     "output_type": "stream",
     "text": [
      "D:\\Projekty\\TacticsClassifier\\.venv\\Lib\\site-packages\\torch\\nn\\modules\\conv.py:456: UserWarning: Plan failed with a cudnnException: CUDNN_BACKEND_EXECUTION_PLAN_DESCRIPTOR: cudnnFinalize Descriptor Failed cudnn_status: CUDNN_STATUS_NOT_SUPPORTED (Triggered internally at ..\\aten\\src\\ATen\\native\\cudnn\\Conv_v8.cpp:919.)\n",
      "  return F.conv2d(input, weight, bias, self.stride,\n"
     ]
    },
    {
     "name": "stdout",
     "output_type": "stream",
     "text": [
      "==========================================================================================\n",
      "Layer (type:depth-idx)                   Output Shape              Param #\n",
      "==========================================================================================\n",
      "Model                                    [64, 11]                  --\n",
      "├─Sequential: 1-1                        --                        --\n",
      "│    └─Conv2d: 2-1                       [64, 64, 13, 13]          21,568\n",
      "│    └─ReLU: 2-2                         [64, 64, 13, 13]          --\n",
      "│    └─Conv2d: 2-3                       [64, 16, 20, 20]          4,112\n",
      "│    └─ReLU: 2-4                         [64, 16, 20, 20]          --\n",
      "│    └─MaxPool2d: 2-5                    [64, 16, 17, 17]          --\n",
      "│    └─Conv2d: 2-6                       [64, 64, 24, 24]          4,160\n",
      "│    └─ReLU: 2-7                         [64, 64, 24, 24]          --\n",
      "│    └─Conv2d: 2-8                       [64, 1, 29, 29]           1,025\n",
      "│    └─ReLU: 2-9                         [64, 1, 29, 29]           --\n",
      "│    └─Flatten: 2-10                     [64, 841]                 --\n",
      "│    └─Linear: 2-11                      [64, 256]                 215,552\n",
      "│    └─ReLU: 2-12                        [64, 256]                 --\n",
      "│    └─Linear: 2-13                      [64, 64]                  16,448\n",
      "│    └─ReLU: 2-14                        [64, 64]                  --\n",
      "│    └─Linear: 2-15                      [64, 11]                  715\n",
      "==========================================================================================\n",
      "Total params: 263,580\n",
      "Trainable params: 263,580\n",
      "Non-trainable params: 0\n",
      "Total mult-adds (Units.MEGABYTES): 561.96\n",
      "==========================================================================================\n",
      "Input size (MB): 0.34\n",
      "Forward/backward pass size (MB): 28.29\n",
      "Params size (MB): 1.05\n",
      "Estimated Total Size (MB): 29.69\n",
      "==========================================================================================\n"
     ]
    }
   ],
   "execution_count": 29
  },
  {
   "metadata": {
    "ExecuteTime": {
     "end_time": "2024-06-17T03:32:31.243098Z",
     "start_time": "2024-06-17T03:32:31.204724Z"
    }
   },
   "cell_type": "code",
   "source": [
    "def create_model1():\n",
    "    return Model(nn.Conv2d(21, 300, kernel_size=5, padding=5),\n",
    "                 nn.ReLU(),\n",
    "                 nn.Conv2d(300, 30, kernel_size=2, padding=2),\n",
    "                 nn.ReLU(),\n",
    "                 nn.Flatten(),\n",
    "                 nn.Dropout(0.5),\n",
    "                 nn.Linear(8670, 20),\n",
    "                 nn.ReLU(),\n",
    "                 nn.Linear(20, 11)\n",
    "                 )\n",
    "\n",
    "\n",
    "model1 = create_model1()\n",
    "architecture_summary = summary(model1, DATA_SHAPE)\n",
    "print(architecture_summary)"
   ],
   "id": "a406430c71c1fefe",
   "outputs": [
    {
     "name": "stdout",
     "output_type": "stream",
     "text": [
      "==========================================================================================\n",
      "Layer (type:depth-idx)                   Output Shape              Param #\n",
      "==========================================================================================\n",
      "Model                                    [64, 11]                  --\n",
      "├─Sequential: 1-1                        --                        --\n",
      "│    └─Conv2d: 2-1                       [64, 300, 14, 14]         157,800\n",
      "│    └─ReLU: 2-2                         [64, 300, 14, 14]         --\n",
      "│    └─Conv2d: 2-3                       [64, 30, 17, 17]          36,030\n",
      "│    └─ReLU: 2-4                         [64, 30, 17, 17]          --\n",
      "│    └─Flatten: 2-5                      [64, 8670]                --\n",
      "│    └─Dropout: 2-6                      [64, 8670]                --\n",
      "│    └─Linear: 2-7                       [64, 20]                  173,420\n",
      "│    └─ReLU: 2-8                         [64, 20]                  --\n",
      "│    └─Linear: 2-9                       [64, 11]                  231\n",
      "==========================================================================================\n",
      "Total params: 367,481\n",
      "Trainable params: 367,481\n",
      "Non-trainable params: 0\n",
      "Total mult-adds (Units.GIGABYTES): 2.66\n",
      "==========================================================================================\n",
      "Input size (MB): 0.34\n",
      "Forward/backward pass size (MB): 34.56\n",
      "Params size (MB): 1.47\n",
      "Estimated Total Size (MB): 36.37\n",
      "==========================================================================================\n"
     ]
    }
   ],
   "execution_count": 30
  },
  {
   "metadata": {
    "ExecuteTime": {
     "end_time": "2024-06-17T03:32:31.256145Z",
     "start_time": "2024-06-17T03:32:31.243098Z"
    }
   },
   "cell_type": "code",
   "source": [
    "def create_model2():\n",
    "    return Model(nn.Conv2d(21, 300, kernel_size=5, padding=5),\n",
    "                 nn.ReLU(),\n",
    "                 nn.BatchNorm2d(300),\n",
    "                 nn.Conv2d(300, 30, kernel_size=2, padding=2),\n",
    "                 nn.ReLU(),\n",
    "                 nn.BatchNorm2d(30),\n",
    "                 nn.Conv2d(30, 30, kernel_size=2, padding=2),\n",
    "                 nn.ReLU(),\n",
    "                 nn.Flatten(),\n",
    "                 nn.Dropout(0.5),\n",
    "                 nn.Linear(12000, 30),\n",
    "                 nn.ReLU(),\n",
    "                 nn.Linear(30, 11)\n",
    "                 )\n",
    "\n",
    "\n",
    "model2 = create_model2()\n",
    "architecture_summary = summary(model2, DATA_SHAPE)\n",
    "print(architecture_summary)"
   ],
   "id": "95523faacbf9e200",
   "outputs": [
    {
     "name": "stdout",
     "output_type": "stream",
     "text": [
      "==========================================================================================\n",
      "Layer (type:depth-idx)                   Output Shape              Param #\n",
      "==========================================================================================\n",
      "Model                                    [64, 11]                  --\n",
      "├─Sequential: 1-1                        --                        --\n",
      "│    └─Conv2d: 2-1                       [64, 300, 14, 14]         157,800\n",
      "│    └─ReLU: 2-2                         [64, 300, 14, 14]         --\n",
      "│    └─BatchNorm2d: 2-3                  [64, 300, 14, 14]         600\n",
      "│    └─Conv2d: 2-4                       [64, 30, 17, 17]          36,030\n",
      "│    └─ReLU: 2-5                         [64, 30, 17, 17]          --\n",
      "│    └─BatchNorm2d: 2-6                  [64, 30, 17, 17]          60\n",
      "│    └─Conv2d: 2-7                       [64, 30, 20, 20]          3,630\n",
      "│    └─ReLU: 2-8                         [64, 30, 20, 20]          --\n",
      "│    └─Flatten: 2-9                      [64, 12000]               --\n",
      "│    └─Dropout: 2-10                     [64, 12000]               --\n",
      "│    └─Linear: 2-11                      [64, 30]                  360,030\n",
      "│    └─ReLU: 2-12                        [64, 30]                  --\n",
      "│    └─Linear: 2-13                      [64, 11]                  341\n",
      "==========================================================================================\n",
      "Total params: 558,491\n",
      "Trainable params: 558,491\n",
      "Non-trainable params: 0\n",
      "Total mult-adds (Units.GIGABYTES): 2.76\n",
      "==========================================================================================\n",
      "Input size (MB): 0.34\n",
      "Forward/backward pass size (MB): 75.25\n",
      "Params size (MB): 2.23\n",
      "Estimated Total Size (MB): 77.83\n",
      "==========================================================================================\n"
     ]
    }
   ],
   "execution_count": 31
  },
  {
   "metadata": {
    "ExecuteTime": {
     "end_time": "2024-06-17T03:32:31.258445Z",
     "start_time": "2024-06-17T03:32:31.256145Z"
    }
   },
   "cell_type": "code",
   "source": [
    "CREATE_MODELS_LIST = [create_model0, create_model1, create_model2]\n",
    "\n",
    "\n",
    "def create_model(model_number: int):\n",
    "    return CREATE_MODELS_LIST[model_number]()"
   ],
   "id": "ec8bff653ffbf3bf",
   "outputs": [],
   "execution_count": 32
  },
  {
   "metadata": {
    "ExecuteTime": {
     "end_time": "2024-06-17T03:32:31.264531Z",
     "start_time": "2024-06-17T03:32:31.258445Z"
    }
   },
   "cell_type": "code",
   "source": [
    "def accuracy(out, truth):\n",
    "    return torch.argmax(out, dim=1) == truth\n",
    "\n",
    "\n",
    "def train(model, criterion, optimizer, epoch):\n",
    "    model = model.to(DEVICE)\n",
    "    model.init_xavier()\n",
    "    criterion = criterion.to(DEVICE)\n",
    "    batches_amount = len(loader_train)\n",
    "\n",
    "    for i in range(epoch):\n",
    "        time_started = time.time() * 1000\n",
    "        loss_sum = 0.0\n",
    "        accuracy_sum = 0.0\n",
    "        for batch, truth in loader_train:\n",
    "            batch = batch.to(DEVICE)\n",
    "            truth = truth.to(DEVICE)\n",
    "\n",
    "            optimizer.zero_grad()\n",
    "            out = model.forward(batch)\n",
    "            loss = criterion(out, truth)\n",
    "            loss.backward()\n",
    "            optimizer.step()\n",
    "\n",
    "            accuracy_value = accuracy(out, truth).sum() / BATCH_SIZE\n",
    "\n",
    "            loss_sum += loss.item()\n",
    "            accuracy_sum += accuracy_value.item()\n",
    "\n",
    "        passed_time = math.ceil(time.time() * 1000 - time_started)\n",
    "        loss_average = loss_sum / batches_amount\n",
    "        accuracy_average = accuracy_sum / batches_amount\n",
    "        validation_accuracy = model.calc_accuracy(loader_valid)\n",
    "\n",
    "        print(\n",
    "            f\"Epoch [{i + 1}/{epoch}], train_loss: {loss_average}, train_accuracy: {accuracy_average}, validation_accuracy: {validation_accuracy}, time: {passed_time / 1000}s\")\n",
    "        wandb.log({\n",
    "            \"epoch\": i + 1,\n",
    "            \"train_loss\": loss_average,\n",
    "            \"train_accuracy\": accuracy_average,\n",
    "            \"validation_accuracy\": validation_accuracy}\n",
    "        )"
   ],
   "id": "fe4bd4945c58cdd0",
   "outputs": [],
   "execution_count": 33
  },
  {
   "metadata": {
    "ExecuteTime": {
     "end_time": "2024-06-17T03:32:31.269725Z",
     "start_time": "2024-06-17T03:32:31.264531Z"
    }
   },
   "cell_type": "code",
   "source": [
    "### MAIN SWEEP CONFIG\n",
    "sweep_config = {\n",
    "    'method': 'bayes',  # random, grid or bayes\n",
    "    'name': 'sweep-chess-tactics',\n",
    "    'metric': {\n",
    "        'goal': 'maximize',\n",
    "        'name': 'validation_accuracy'\n",
    "    },\n",
    "    'parameters': {\n",
    "        'epochs': {\n",
    "            'values': [20, 30, 50]\n",
    "        },\n",
    "        'learning_rate': {\n",
    "            'values': [0.0003, 0.001, 0.01, 0.1],\n",
    "        },\n",
    "        'optimizer': {\n",
    "            'values': ['adam','sgd']\n",
    "        },\n",
    "        'criterion': {\n",
    "            'values': ['CrossEntropy']\n",
    "        },\n",
    "        'model': {\n",
    "            'values': list(range(len(CREATE_MODELS_LIST)))\n",
    "        }\n",
    "    },\n",
    "\n",
    "}"
   ],
   "id": "18c71bcd77ecf0cc",
   "outputs": [],
   "execution_count": 34
  },
  {
   "metadata": {
    "ExecuteTime": {
     "end_time": "2024-06-17T03:32:31.709759Z",
     "start_time": "2024-06-17T03:32:31.269725Z"
    }
   },
   "cell_type": "code",
   "source": "sweep_id = wandb.sweep(sweep_config, project=\"raport\")",
   "id": "2285a44f8b835542",
   "outputs": [
    {
     "name": "stdout",
     "output_type": "stream",
     "text": [
      "Create sweep with ID: ai82s9v2\n",
      "Sweep URL: https://wandb.ai/spajro-chess/raport/sweeps/ai82s9v2\n"
     ]
    }
   ],
   "execution_count": 35
  },
  {
   "metadata": {
    "ExecuteTime": {
     "end_time": "2024-06-17T11:34:05.164916Z",
     "start_time": "2024-06-17T03:32:31.709759Z"
    }
   },
   "cell_type": "code",
   "source": [
    "def create_optimizer(model, optimizer=\"adam\"):\n",
    "    if optimizer == \"sgd\":\n",
    "        optimizer = torch.optim.SGD\n",
    "    elif optimizer == \"adam\":\n",
    "        optimizer = torch.optim.Adam\n",
    "    return optimizer\n",
    "\n",
    "\n",
    "def create_criterion(criterion=\"CrossEntropy\"):\n",
    "    if criterion == \"CrossEntropy\":\n",
    "        return nn.CrossEntropyLoss()\n",
    "    if criterion == 'Nll':\n",
    "        return nn.NLLLoss()\n",
    "\n",
    "\n",
    "def main():\n",
    "    with wandb.init(config=None) as run:\n",
    "        config = wandb.config\n",
    "        run.name = f\"model{config['model']}_epochs{config['epochs']}_learning_rate{config['learning_rate']}_optimizer{config['optimizer']}\"\n",
    "\n",
    "        model = create_model(int(config['model']))\n",
    "        opt_fn = create_optimizer(model, wandb.config.optimizer)\n",
    "        crt_fn = create_criterion(wandb.config.criterion)\n",
    "        train(model, crt_fn, opt_fn(model.classifier.parameters(), lr=wandb.config.learning_rate), wandb.config.epochs)\n",
    "        model_path = f\"{run.name}.save\"\n",
    "        torch.save(model, model_path)\n",
    "\n",
    "\n",
    "wandb.agent(sweep_id, main)"
   ],
   "id": "e01fa239c8d688d3",
   "outputs": [
    {
     "name": "stderr",
     "output_type": "stream",
     "text": [
      "wandb: Agent Starting Run: 56uawfua with config:\n",
      "wandb: \tcriterion: CrossEntropy\n",
      "wandb: \tepochs: 20\n",
      "wandb: \tlearning_rate: 0.1\n",
      "wandb: \tmodel: 2\n",
      "wandb: \toptimizer: sgd\n"
     ]
    },
    {
     "data": {
      "text/plain": [
       "<IPython.core.display.HTML object>"
      ],
      "text/html": [
       "Tracking run with wandb version 0.17.1"
      ]
     },
     "metadata": {},
     "output_type": "display_data"
    },
    {
     "data": {
      "text/plain": [
       "<IPython.core.display.HTML object>"
      ],
      "text/html": [
       "Run data is saved locally in <code>D:\\Projekty\\TacticsClassifier\\wandb\\run-20240617_053233-56uawfua</code>"
      ]
     },
     "metadata": {},
     "output_type": "display_data"
    },
    {
     "data": {
      "text/plain": [
       "<IPython.core.display.HTML object>"
      ],
      "text/html": [
       "Syncing run <strong><a href='https://wandb.ai/spajro-chess/raport/runs/56uawfua' target=\"_blank\">swept-sweep-1</a></strong> to <a href='https://wandb.ai/spajro-chess/raport' target=\"_blank\">Weights & Biases</a> (<a href='https://wandb.me/run' target=\"_blank\">docs</a>)<br/>Sweep page: <a href='https://wandb.ai/spajro-chess/raport/sweeps/ai82s9v2' target=\"_blank\">https://wandb.ai/spajro-chess/raport/sweeps/ai82s9v2</a>"
      ]
     },
     "metadata": {},
     "output_type": "display_data"
    },
    {
     "data": {
      "text/plain": [
       "<IPython.core.display.HTML object>"
      ],
      "text/html": [
       " View project at <a href='https://wandb.ai/spajro-chess/raport' target=\"_blank\">https://wandb.ai/spajro-chess/raport</a>"
      ]
     },
     "metadata": {},
     "output_type": "display_data"
    },
    {
     "data": {
      "text/plain": [
       "<IPython.core.display.HTML object>"
      ],
      "text/html": [
       " View sweep at <a href='https://wandb.ai/spajro-chess/raport/sweeps/ai82s9v2' target=\"_blank\">https://wandb.ai/spajro-chess/raport/sweeps/ai82s9v2</a>"
      ]
     },
     "metadata": {},
     "output_type": "display_data"
    },
    {
     "data": {
      "text/plain": [
       "<IPython.core.display.HTML object>"
      ],
      "text/html": [
       " View run at <a href='https://wandb.ai/spajro-chess/raport/runs/56uawfua' target=\"_blank\">https://wandb.ai/spajro-chess/raport/runs/56uawfua</a>"
      ]
     },
     "metadata": {},
     "output_type": "display_data"
    },
    {
     "name": "stderr",
     "output_type": "stream",
     "text": [
      "D:\\Projekty\\TacticsClassifier\\.venv\\Lib\\site-packages\\torch\\nn\\modules\\conv.py:456: UserWarning: Plan failed with a cudnnException: CUDNN_BACKEND_EXECUTION_PLAN_DESCRIPTOR: cudnnFinalize Descriptor Failed cudnn_status: CUDNN_STATUS_NOT_SUPPORTED (Triggered internally at ..\\aten\\src\\ATen\\native\\cudnn\\Conv_v8.cpp:919.)\n",
      "  return F.conv2d(input, weight, bias, self.stride,\n"
     ]
    },
    {
     "name": "stdout",
     "output_type": "stream",
     "text": [
      "Epoch [1/20], train_loss: 0.9226569359178366, train_accuracy: 0.6976482836459874, validation_accuracy: 0.1810625, time: 27.888s\n",
      "Epoch [2/20], train_loss: 0.6257731031202811, train_accuracy: 0.7962814762201292, validation_accuracy: 0.08640625, time: 27.316s\n",
      "Epoch [3/20], train_loss: 0.5506008906452176, train_accuracy: 0.8202936483225656, validation_accuracy: 0.836625, time: 26.185s\n",
      "Epoch [4/20], train_loss: 0.5061155076461923, train_accuracy: 0.8345820035806025, validation_accuracy: 0.7145, time: 26.097s\n",
      "Epoch [5/20], train_loss: 0.474216917147662, train_accuracy: 0.8449601560675644, validation_accuracy: 0.8286875, time: 26.96s\n",
      "Epoch [6/20], train_loss: 0.4511170310157573, train_accuracy: 0.8519681151241535, validation_accuracy: 0.85515625, time: 29.199s\n",
      "Epoch [7/20], train_loss: 0.4316834721488369, train_accuracy: 0.8583606581303028, validation_accuracy: 0.82840625, time: 26.192s\n",
      "Epoch [8/20], train_loss: 0.4160207412296616, train_accuracy: 0.8635527749669184, validation_accuracy: 0.665125, time: 29.776s\n",
      "Epoch [9/20], train_loss: 0.4020989518106619, train_accuracy: 0.8682231260216393, validation_accuracy: 0.83925, time: 27.38s\n",
      "Epoch [10/20], train_loss: 0.3905039235008262, train_accuracy: 0.8713050712228536, validation_accuracy: 0.8655625, time: 29.059s\n",
      "Epoch [11/20], train_loss: 0.3791742420917639, train_accuracy: 0.8750413520666304, validation_accuracy: 0.5884375, time: 29.262s\n",
      "Epoch [12/20], train_loss: 0.37171220717770564, train_accuracy: 0.8776684245349109, validation_accuracy: 0.280125, time: 27.174s\n",
      "Epoch [13/20], train_loss: 0.3751199765427665, train_accuracy: 0.8767477329337588, validation_accuracy: 0.80640625, time: 25.478s\n",
      "Epoch [14/20], train_loss: 0.35928547851067993, train_accuracy: 0.8814606522923639, validation_accuracy: 0.87078125, time: 28.486s\n",
      "Epoch [15/20], train_loss: 0.35056758185887305, train_accuracy: 0.8842531330271659, validation_accuracy: 0.86371875, time: 29.1s\n",
      "Epoch [16/20], train_loss: 0.3436360678702159, train_accuracy: 0.8866211469603799, validation_accuracy: 0.84903125, time: 29.26s\n",
      "Epoch [17/20], train_loss: 0.3370981090877913, train_accuracy: 0.8886826691056278, validation_accuracy: 0.87215625, time: 29.232s\n",
      "Epoch [18/20], train_loss: 0.3306386944976838, train_accuracy: 0.8908925721958434, validation_accuracy: 0.8231875, time: 27.511s\n",
      "Epoch [19/20], train_loss: 0.3263592851006995, train_accuracy: 0.8921173231104538, validation_accuracy: 0.22803125, time: 29.189s\n",
      "Epoch [20/20], train_loss: 0.32630569195180603, train_accuracy: 0.892349624425936, validation_accuracy: 0.8760625, time: 28.895s\n"
     ]
    },
    {
     "data": {
      "text/plain": [
       "VBox(children=(Label(value='0.001 MB of 0.001 MB uploaded\\r'), FloatProgress(value=1.0, max=1.0)))"
      ],
      "application/vnd.jupyter.widget-view+json": {
       "version_major": 2,
       "version_minor": 0,
       "model_id": "7bc28a4c3f7949a9be0053e8e57516cb"
      }
     },
     "metadata": {},
     "output_type": "display_data"
    },
    {
     "data": {
      "text/plain": [
       "<IPython.core.display.HTML object>"
      ],
      "text/html": [
       "<style>\n",
       "    table.wandb td:nth-child(1) { padding: 0 10px; text-align: left ; width: auto;} td:nth-child(2) {text-align: left ; width: 100%}\n",
       "    .wandb-row { display: flex; flex-direction: row; flex-wrap: wrap; justify-content: flex-start; width: 100% }\n",
       "    .wandb-col { display: flex; flex-direction: column; flex-basis: 100%; flex: 1; padding: 10px; }\n",
       "    </style>\n",
       "<div class=\"wandb-row\"><div class=\"wandb-col\"><h3>Run history:</h3><br/><table class=\"wandb\"><tr><td>epoch</td><td>▁▁▂▂▂▃▃▄▄▄▅▅▅▆▆▇▇▇██</td></tr><tr><td>train_accuracy</td><td>▁▅▅▆▆▇▇▇▇▇▇▇▇███████</td></tr><tr><td>train_loss</td><td>█▅▄▃▃▂▂▂▂▂▂▂▂▁▁▁▁▁▁▁</td></tr><tr><td>validation_accuracy</td><td>▂▁█▇███▆██▅▃▇█████▂█</td></tr></table><br/></div><div class=\"wandb-col\"><h3>Run summary:</h3><br/><table class=\"wandb\"><tr><td>epoch</td><td>20</td></tr><tr><td>train_accuracy</td><td>0.89235</td></tr><tr><td>train_loss</td><td>0.32631</td></tr><tr><td>validation_accuracy</td><td>0.87606</td></tr></table><br/></div></div>"
      ]
     },
     "metadata": {},
     "output_type": "display_data"
    },
    {
     "data": {
      "text/plain": [
       "<IPython.core.display.HTML object>"
      ],
      "text/html": [
       " View run <strong style=\"color:#cdcd00\">swept-sweep-1</strong> at: <a href='https://wandb.ai/spajro-chess/raport/runs/56uawfua' target=\"_blank\">https://wandb.ai/spajro-chess/raport/runs/56uawfua</a><br/> View project at: <a href='https://wandb.ai/spajro-chess/raport' target=\"_blank\">https://wandb.ai/spajro-chess/raport</a><br/>Synced 5 W&B file(s), 0 media file(s), 0 artifact file(s) and 0 other file(s)"
      ]
     },
     "metadata": {},
     "output_type": "display_data"
    },
    {
     "data": {
      "text/plain": [
       "<IPython.core.display.HTML object>"
      ],
      "text/html": [
       "Find logs at: <code>.\\wandb\\run-20240617_053233-56uawfua\\logs</code>"
      ]
     },
     "metadata": {},
     "output_type": "display_data"
    },
    {
     "name": "stderr",
     "output_type": "stream",
     "text": [
      "wandb: Agent Starting Run: 5phy00yy with config:\n",
      "wandb: \tcriterion: CrossEntropy\n",
      "wandb: \tepochs: 30\n",
      "wandb: \tlearning_rate: 0.1\n",
      "wandb: \tmodel: 1\n",
      "wandb: \toptimizer: sgd\n"
     ]
    },
    {
     "data": {
      "text/plain": [
       "<IPython.core.display.HTML object>"
      ],
      "text/html": [
       "Tracking run with wandb version 0.17.1"
      ]
     },
     "metadata": {},
     "output_type": "display_data"
    },
    {
     "data": {
      "text/plain": [
       "<IPython.core.display.HTML object>"
      ],
      "text/html": [
       "Run data is saved locally in <code>D:\\Projekty\\TacticsClassifier\\wandb\\run-20240617_054210-5phy00yy</code>"
      ]
     },
     "metadata": {},
     "output_type": "display_data"
    },
    {
     "data": {
      "text/plain": [
       "<IPython.core.display.HTML object>"
      ],
      "text/html": [
       "Syncing run <strong><a href='https://wandb.ai/spajro-chess/raport/runs/5phy00yy' target=\"_blank\">treasured-sweep-2</a></strong> to <a href='https://wandb.ai/spajro-chess/raport' target=\"_blank\">Weights & Biases</a> (<a href='https://wandb.me/run' target=\"_blank\">docs</a>)<br/>Sweep page: <a href='https://wandb.ai/spajro-chess/raport/sweeps/ai82s9v2' target=\"_blank\">https://wandb.ai/spajro-chess/raport/sweeps/ai82s9v2</a>"
      ]
     },
     "metadata": {},
     "output_type": "display_data"
    },
    {
     "data": {
      "text/plain": [
       "<IPython.core.display.HTML object>"
      ],
      "text/html": [
       " View project at <a href='https://wandb.ai/spajro-chess/raport' target=\"_blank\">https://wandb.ai/spajro-chess/raport</a>"
      ]
     },
     "metadata": {},
     "output_type": "display_data"
    },
    {
     "data": {
      "text/plain": [
       "<IPython.core.display.HTML object>"
      ],
      "text/html": [
       " View sweep at <a href='https://wandb.ai/spajro-chess/raport/sweeps/ai82s9v2' target=\"_blank\">https://wandb.ai/spajro-chess/raport/sweeps/ai82s9v2</a>"
      ]
     },
     "metadata": {},
     "output_type": "display_data"
    },
    {
     "data": {
      "text/plain": [
       "<IPython.core.display.HTML object>"
      ],
      "text/html": [
       " View run at <a href='https://wandb.ai/spajro-chess/raport/runs/5phy00yy' target=\"_blank\">https://wandb.ai/spajro-chess/raport/runs/5phy00yy</a>"
      ]
     },
     "metadata": {},
     "output_type": "display_data"
    },
    {
     "name": "stdout",
     "output_type": "stream",
     "text": [
      "Epoch [1/30], train_loss: 1.032235702909625, train_accuracy: 0.6555591772398225, validation_accuracy: 0.3293125, time: 20.693s\n",
      "Epoch [2/30], train_loss: 0.6852313738704572, train_accuracy: 0.7726341752938429, validation_accuracy: 0.76340625, time: 21.231s\n",
      "Epoch [3/30], train_loss: 0.5884266958021093, train_accuracy: 0.8043974274149607, validation_accuracy: 0.82634375, time: 23.274s\n",
      "Epoch [4/30], train_loss: 0.536918211162596, train_accuracy: 0.8209516326768895, validation_accuracy: 0.23453125, time: 23.282s\n",
      "Epoch [5/30], train_loss: 0.5036850590486466, train_accuracy: 0.832203043512104, validation_accuracy: 0.52465625, time: 23.213s\n",
      "Epoch [6/30], train_loss: 0.47730595936380793, train_accuracy: 0.8407081906281623, validation_accuracy: 0.85265625, time: 21.414s\n",
      "Epoch [7/30], train_loss: 0.4553620802953223, train_accuracy: 0.8478608819179575, validation_accuracy: 0.84725, time: 20.19s\n",
      "Epoch [8/30], train_loss: 0.4392474254979933, train_accuracy: 0.8532220557328559, validation_accuracy: 0.7539375, time: 23.361s\n",
      "Epoch [9/30], train_loss: 0.4261781849408053, train_accuracy: 0.8572149626371915, validation_accuracy: 0.862875, time: 23.416s\n",
      "Epoch [10/30], train_loss: 0.4134822565717288, train_accuracy: 0.8615569296333775, validation_accuracy: 0.86165625, time: 23.36s\n",
      "Epoch [11/30], train_loss: 0.40387473763415066, train_accuracy: 0.8646096851404997, validation_accuracy: 0.86709375, time: 23.263s\n",
      "Epoch [12/30], train_loss: 0.39459321529167285, train_accuracy: 0.8671297287304429, validation_accuracy: 0.8225, time: 19.921s\n",
      "Epoch [13/30], train_loss: 0.38756759922954703, train_accuracy: 0.8699088308554527, validation_accuracy: 0.86571875, time: 22.917s\n",
      "Epoch [14/30], train_loss: 0.37971332129617325, train_accuracy: 0.8726076613217093, validation_accuracy: 0.85028125, time: 23.249s\n",
      "Epoch [15/30], train_loss: 0.3729924443563181, train_accuracy: 0.8749744590176695, validation_accuracy: 0.87303125, time: 23.122s\n",
      "Epoch [16/30], train_loss: 0.3672204245486246, train_accuracy: 0.8764424573830466, validation_accuracy: 0.8723125, time: 23.165s\n",
      "Epoch [17/30], train_loss: 0.3623398092330416, train_accuracy: 0.8780405931345839, validation_accuracy: 0.864875, time: 19.941s\n",
      "Epoch [18/30], train_loss: 0.3566187920100013, train_accuracy: 0.8798296781349731, validation_accuracy: 0.8745, time: 21.787s\n",
      "Epoch [19/30], train_loss: 0.3518440760530368, train_accuracy: 0.881606600762824, validation_accuracy: 0.8741875, time: 23.256s\n",
      "Epoch [20/30], train_loss: 0.34822516038402307, train_accuracy: 0.8826087802599829, validation_accuracy: 0.87634375, time: 23.226s\n",
      "Epoch [21/30], train_loss: 0.34458750685397876, train_accuracy: 0.8837070425001946, validation_accuracy: 0.87378125, time: 23.283s\n",
      "Epoch [22/30], train_loss: 0.3401507358250871, train_accuracy: 0.8853222055732856, validation_accuracy: 0.87721875, time: 20.739s\n",
      "Epoch [23/30], train_loss: 0.33638836648847836, train_accuracy: 0.8865956059780493, validation_accuracy: 0.87646875, time: 20.687s\n",
      "Epoch [24/30], train_loss: 0.33307003799596535, train_accuracy: 0.8873995388028334, validation_accuracy: 0.87340625, time: 23.357s\n",
      "Epoch [25/30], train_loss: 0.33014551487892596, train_accuracy: 0.8883883396902, validation_accuracy: 0.86125, time: 23.318s\n",
      "Epoch [26/30], train_loss: 0.3274404344284424, train_accuracy: 0.8893588970187593, validation_accuracy: 0.8755, time: 23.321s\n",
      "Epoch [27/30], train_loss: 0.32452074624583527, train_accuracy: 0.8901810734023508, validation_accuracy: 0.85584375, time: 21.701s\n",
      "Epoch [28/30], train_loss: 0.3222541027664187, train_accuracy: 0.8912294699151553, validation_accuracy: 0.81434375, time: 19.87s\n",
      "Epoch [29/30], train_loss: 0.31916975497537164, train_accuracy: 0.8920820522300926, validation_accuracy: 0.8048125, time: 23.162s\n",
      "Epoch [30/30], train_loss: 0.31701743742229965, train_accuracy: 0.8926159803845256, validation_accuracy: 0.62121875, time: 23.296s\n"
     ]
    },
    {
     "data": {
      "text/plain": [
       "VBox(children=(Label(value='0.001 MB of 0.001 MB uploaded\\r'), FloatProgress(value=1.0, max=1.0)))"
      ],
      "application/vnd.jupyter.widget-view+json": {
       "version_major": 2,
       "version_minor": 0,
       "model_id": "831b81d7200d48dd967389b096ffeff8"
      }
     },
     "metadata": {},
     "output_type": "display_data"
    },
    {
     "data": {
      "text/plain": [
       "<IPython.core.display.HTML object>"
      ],
      "text/html": [
       "<style>\n",
       "    table.wandb td:nth-child(1) { padding: 0 10px; text-align: left ; width: auto;} td:nth-child(2) {text-align: left ; width: 100%}\n",
       "    .wandb-row { display: flex; flex-direction: row; flex-wrap: wrap; justify-content: flex-start; width: 100% }\n",
       "    .wandb-col { display: flex; flex-direction: column; flex-basis: 100%; flex: 1; padding: 10px; }\n",
       "    </style>\n",
       "<div class=\"wandb-row\"><div class=\"wandb-col\"><h3>Run history:</h3><br/><table class=\"wandb\"><tr><td>epoch</td><td>▁▁▁▂▂▂▂▃▃▃▃▄▄▄▄▅▅▅▅▆▆▆▆▇▇▇▇███</td></tr><tr><td>train_accuracy</td><td>▁▄▅▆▆▆▇▇▇▇▇▇▇▇▇███████████████</td></tr><tr><td>train_loss</td><td>█▅▄▃▃▃▂▂▂▂▂▂▂▂▂▁▁▁▁▁▁▁▁▁▁▁▁▁▁▁</td></tr><tr><td>validation_accuracy</td><td>▂▇▇▁▄██▇███▇███████████████▇▇▅</td></tr></table><br/></div><div class=\"wandb-col\"><h3>Run summary:</h3><br/><table class=\"wandb\"><tr><td>epoch</td><td>30</td></tr><tr><td>train_accuracy</td><td>0.89262</td></tr><tr><td>train_loss</td><td>0.31702</td></tr><tr><td>validation_accuracy</td><td>0.62122</td></tr></table><br/></div></div>"
      ]
     },
     "metadata": {},
     "output_type": "display_data"
    },
    {
     "data": {
      "text/plain": [
       "<IPython.core.display.HTML object>"
      ],
      "text/html": [
       " View run <strong style=\"color:#cdcd00\">treasured-sweep-2</strong> at: <a href='https://wandb.ai/spajro-chess/raport/runs/5phy00yy' target=\"_blank\">https://wandb.ai/spajro-chess/raport/runs/5phy00yy</a><br/> View project at: <a href='https://wandb.ai/spajro-chess/raport' target=\"_blank\">https://wandb.ai/spajro-chess/raport</a><br/>Synced 5 W&B file(s), 0 media file(s), 0 artifact file(s) and 0 other file(s)"
      ]
     },
     "metadata": {},
     "output_type": "display_data"
    },
    {
     "data": {
      "text/plain": [
       "<IPython.core.display.HTML object>"
      ],
      "text/html": [
       "Find logs at: <code>.\\wandb\\run-20240617_054210-5phy00yy\\logs</code>"
      ]
     },
     "metadata": {},
     "output_type": "display_data"
    },
    {
     "name": "stderr",
     "output_type": "stream",
     "text": [
      "wandb: Agent Starting Run: yu7f8hhl with config:\n",
      "wandb: \tcriterion: CrossEntropy\n",
      "wandb: \tepochs: 50\n",
      "wandb: \tlearning_rate: 0.01\n",
      "wandb: \tmodel: 2\n",
      "wandb: \toptimizer: adam\n"
     ]
    },
    {
     "data": {
      "text/plain": [
       "<IPython.core.display.HTML object>"
      ],
      "text/html": [
       "Tracking run with wandb version 0.17.1"
      ]
     },
     "metadata": {},
     "output_type": "display_data"
    },
    {
     "data": {
      "text/plain": [
       "<IPython.core.display.HTML object>"
      ],
      "text/html": [
       "Run data is saved locally in <code>D:\\Projekty\\TacticsClassifier\\wandb\\run-20240617_055342-yu7f8hhl</code>"
      ]
     },
     "metadata": {},
     "output_type": "display_data"
    },
    {
     "data": {
      "text/plain": [
       "<IPython.core.display.HTML object>"
      ],
      "text/html": [
       "Syncing run <strong><a href='https://wandb.ai/spajro-chess/raport/runs/yu7f8hhl' target=\"_blank\">still-sweep-3</a></strong> to <a href='https://wandb.ai/spajro-chess/raport' target=\"_blank\">Weights & Biases</a> (<a href='https://wandb.me/run' target=\"_blank\">docs</a>)<br/>Sweep page: <a href='https://wandb.ai/spajro-chess/raport/sweeps/ai82s9v2' target=\"_blank\">https://wandb.ai/spajro-chess/raport/sweeps/ai82s9v2</a>"
      ]
     },
     "metadata": {},
     "output_type": "display_data"
    },
    {
     "data": {
      "text/plain": [
       "<IPython.core.display.HTML object>"
      ],
      "text/html": [
       " View project at <a href='https://wandb.ai/spajro-chess/raport' target=\"_blank\">https://wandb.ai/spajro-chess/raport</a>"
      ]
     },
     "metadata": {},
     "output_type": "display_data"
    },
    {
     "data": {
      "text/plain": [
       "<IPython.core.display.HTML object>"
      ],
      "text/html": [
       " View sweep at <a href='https://wandb.ai/spajro-chess/raport/sweeps/ai82s9v2' target=\"_blank\">https://wandb.ai/spajro-chess/raport/sweeps/ai82s9v2</a>"
      ]
     },
     "metadata": {},
     "output_type": "display_data"
    },
    {
     "data": {
      "text/plain": [
       "<IPython.core.display.HTML object>"
      ],
      "text/html": [
       " View run at <a href='https://wandb.ai/spajro-chess/raport/runs/yu7f8hhl' target=\"_blank\">https://wandb.ai/spajro-chess/raport/runs/yu7f8hhl</a>"
      ]
     },
     "metadata": {},
     "output_type": "display_data"
    },
    {
     "name": "stdout",
     "output_type": "stream",
     "text": [
      "Epoch [1/50], train_loss: 1.0234781052617699, train_accuracy: 0.6698828033782206, validation_accuracy: 0.7175625, time: 30.68s\n",
      "Epoch [2/50], train_loss: 0.8012533130289061, train_accuracy: 0.7489820094185413, validation_accuracy: 0.76696875, time: 26.486s\n",
      "Epoch [3/50], train_loss: 0.7322835589397962, train_accuracy: 0.7735050011675878, validation_accuracy: 0.795375, time: 29.9s\n",
      "Epoch [4/50], train_loss: 0.6931154143589776, train_accuracy: 0.786702391608936, validation_accuracy: 0.79125, time: 30.628s\n",
      "Epoch [5/50], train_loss: 0.6664252272373768, train_accuracy: 0.7961744473417919, validation_accuracy: 0.79490625, time: 30.717s\n",
      "Epoch [6/50], train_loss: 0.6436273229417239, train_accuracy: 0.8032274071767728, validation_accuracy: 0.8004375, time: 26.572s\n",
      "Epoch [7/50], train_loss: 0.6308564695415028, train_accuracy: 0.8078357301315482, validation_accuracy: 0.820125, time: 30.022s\n",
      "Epoch [8/50], train_loss: 0.6166249615000855, train_accuracy: 0.8127250038919592, validation_accuracy: 0.80946875, time: 30.726s\n",
      "Epoch [9/50], train_loss: 0.6014562273054278, train_accuracy: 0.8174646804701486, validation_accuracy: 0.8205, time: 30.709s\n",
      "Epoch [10/50], train_loss: 0.5972913928307326, train_accuracy: 0.8199202634856386, validation_accuracy: 0.82353125, time: 26.681s\n",
      "Epoch [11/50], train_loss: 0.5870505611590489, train_accuracy: 0.8225619308009652, validation_accuracy: 0.813875, time: 29.78s\n",
      "Epoch [12/50], train_loss: 0.957940960751393, train_accuracy: 0.6960744726395267, validation_accuracy: 0.51528125, time: 30.62s\n",
      "Epoch [13/50], train_loss: 0.613474693623435, train_accuracy: 0.8167325056433409, validation_accuracy: 0.82784375, time: 30.423s\n",
      "Epoch [14/50], train_loss: 0.5877849031496375, train_accuracy: 0.8236078948392621, validation_accuracy: 0.82328125, time: 26.867s\n",
      "Epoch [15/50], train_loss: 0.577512556461543, train_accuracy: 0.8271556589086947, validation_accuracy: 0.82965625, time: 29.564s\n",
      "Epoch [16/50], train_loss: 0.5712814821966872, train_accuracy: 0.8296562427025764, validation_accuracy: 0.82965625, time: 30.613s\n",
      "Epoch [17/50], train_loss: 0.5875367660011922, train_accuracy: 0.8267555168521834, validation_accuracy: 0.755625, time: 30.602s\n",
      "Epoch [18/50], train_loss: 0.5541374522595589, train_accuracy: 0.8348836304195532, validation_accuracy: 0.82009375, time: 26.809s\n",
      "Epoch [19/50], train_loss: 0.5606172643396014, train_accuracy: 0.8336077975402818, validation_accuracy: 0.819625, time: 29.59s\n",
      "Epoch [20/50], train_loss: 0.5477148894317152, train_accuracy: 0.8373234023507433, validation_accuracy: 0.83590625, time: 30.678s\n",
      "Epoch [21/50], train_loss: 0.9583287194366584, train_accuracy: 0.6960562290807192, validation_accuracy: 0.38334375, time: 30.593s\n",
      "Epoch [22/50], train_loss: 1.860376278083037, train_accuracy: 0.3836912314158948, validation_accuracy: 0.38334375, time: 26.955s\n",
      "Epoch [23/50], train_loss: 1.8603748061401404, train_accuracy: 0.3836912314158948, validation_accuracy: 0.38334375, time: 29.282s\n",
      "Epoch [24/50], train_loss: 1.861024711589883, train_accuracy: 0.3836912314158948, validation_accuracy: 0.38334375, time: 30.545s\n",
      "Epoch [25/50], train_loss: 1.860340957345782, train_accuracy: 0.3836912314158948, validation_accuracy: 0.38334375, time: 30.452s\n",
      "Epoch [26/50], train_loss: 1.8603627807557503, train_accuracy: 0.3836912314158948, validation_accuracy: 0.38334375, time: 27.16s\n",
      "Epoch [27/50], train_loss: 1.861902494982466, train_accuracy: 0.3836863664668794, validation_accuracy: 0.38334375, time: 29.094s\n",
      "Epoch [28/50], train_loss: 1.8604989931204259, train_accuracy: 0.38369001517864093, validation_accuracy: 0.38334375, time: 30.578s\n",
      "Epoch [29/50], train_loss: 1.8603637000879183, train_accuracy: 0.3836912314158948, validation_accuracy: 0.38334375, time: 30.59s\n",
      "Epoch [30/50], train_loss: 1.8621804299610287, train_accuracy: 0.3836912314158948, validation_accuracy: 0.38334375, time: 27.199s\n",
      "Epoch [31/50], train_loss: 1.8603855838680616, train_accuracy: 0.3836912314158948, validation_accuracy: 0.38334375, time: 28.986s\n",
      "Epoch [32/50], train_loss: 1.8603612210227791, train_accuracy: 0.3836912314158948, validation_accuracy: 0.38334375, time: 30.634s\n",
      "Epoch [33/50], train_loss: 1.8603153530239473, train_accuracy: 0.3836912314158948, validation_accuracy: 0.38334375, time: 30.624s\n",
      "Epoch [34/50], train_loss: 1.860259312502167, train_accuracy: 0.3836912314158948, validation_accuracy: 0.38334375, time: 30.554s\n",
      "Epoch [35/50], train_loss: 1.8603093539303523, train_accuracy: 0.3836912314158948, validation_accuracy: 0.38334375, time: 30.499s\n",
      "Epoch [36/50], train_loss: 1.8603014645896052, train_accuracy: 0.3836912314158948, validation_accuracy: 0.38334375, time: 30.572s\n",
      "Epoch [37/50], train_loss: 1.8603548601349755, train_accuracy: 0.3836912314158948, validation_accuracy: 0.38334375, time: 30.402s\n",
      "Epoch [38/50], train_loss: 1.860347129291455, train_accuracy: 0.3836912314158948, validation_accuracy: 0.38334375, time: 26.89s\n",
      "Epoch [39/50], train_loss: 1.860415104215522, train_accuracy: 0.3836912314158948, validation_accuracy: 0.38334375, time: 29.289s\n",
      "Epoch [40/50], train_loss: 1.8602603026157205, train_accuracy: 0.3836912314158948, validation_accuracy: 0.38334375, time: 30.515s\n",
      "Epoch [41/50], train_loss: 1.8603825017414344, train_accuracy: 0.3836912314158948, validation_accuracy: 0.38334375, time: 30.458s\n",
      "Epoch [42/50], train_loss: 1.860243755740916, train_accuracy: 0.3836912314158948, validation_accuracy: 0.38334375, time: 27.064s\n",
      "Epoch [43/50], train_loss: 1.860302037549518, train_accuracy: 0.3836912314158948, validation_accuracy: 0.38334375, time: 29.15s\n",
      "Epoch [44/50], train_loss: 1.8603874418330377, train_accuracy: 0.3836912314158948, validation_accuracy: 0.38334375, time: 30.624s\n",
      "Epoch [45/50], train_loss: 1.8603919927847656, train_accuracy: 0.3836912314158948, validation_accuracy: 0.38334375, time: 30.596s\n",
      "Epoch [46/50], train_loss: 1.8604741366798334, train_accuracy: 0.3836912314158948, validation_accuracy: 0.38334375, time: 27.248s\n",
      "Epoch [47/50], train_loss: 1.8603180209384258, train_accuracy: 0.3836912314158948, validation_accuracy: 0.38334375, time: 28.891s\n",
      "Epoch [48/50], train_loss: 1.860365374687535, train_accuracy: 0.3836912314158948, validation_accuracy: 0.38334375, time: 30.565s\n",
      "Epoch [49/50], train_loss: 1.8602273919159795, train_accuracy: 0.3836912314158948, validation_accuracy: 0.38334375, time: 30.476s\n",
      "Epoch [50/50], train_loss: 1.860314274266637, train_accuracy: 0.3836912314158948, validation_accuracy: 0.38334375, time: 27.361s\n"
     ]
    },
    {
     "data": {
      "text/plain": [
       "VBox(children=(Label(value='0.001 MB of 0.001 MB uploaded\\r'), FloatProgress(value=1.0, max=1.0)))"
      ],
      "application/vnd.jupyter.widget-view+json": {
       "version_major": 2,
       "version_minor": 0,
       "model_id": "3799d67c73aa48ebb580154afd8152e2"
      }
     },
     "metadata": {},
     "output_type": "display_data"
    },
    {
     "data": {
      "text/plain": [
       "<IPython.core.display.HTML object>"
      ],
      "text/html": [
       "<style>\n",
       "    table.wandb td:nth-child(1) { padding: 0 10px; text-align: left ; width: auto;} td:nth-child(2) {text-align: left ; width: 100%}\n",
       "    .wandb-row { display: flex; flex-direction: row; flex-wrap: wrap; justify-content: flex-start; width: 100% }\n",
       "    .wandb-col { display: flex; flex-direction: column; flex-basis: 100%; flex: 1; padding: 10px; }\n",
       "    </style>\n",
       "<div class=\"wandb-row\"><div class=\"wandb-col\"><h3>Run history:</h3><br/><table class=\"wandb\"><tr><td>epoch</td><td>▁▁▁▁▂▂▂▂▂▃▃▃▃▃▃▄▄▄▄▄▅▅▅▅▅▅▆▆▆▆▆▆▇▇▇▇▇███</td></tr><tr><td>train_accuracy</td><td>▅▇▇▇█████▆██████▆▁▁▁▁▁▁▁▁▁▁▁▁▁▁▁▁▁▁▁▁▁▁▁</td></tr><tr><td>train_loss</td><td>▄▂▂▂▁▁▁▁▁▃▁▁▁▁▁▁▃███████████████████████</td></tr><tr><td>validation_accuracy</td><td>▆▇▇▇█████▃███▇██▁▁▁▁▁▁▁▁▁▁▁▁▁▁▁▁▁▁▁▁▁▁▁▁</td></tr></table><br/></div><div class=\"wandb-col\"><h3>Run summary:</h3><br/><table class=\"wandb\"><tr><td>epoch</td><td>50</td></tr><tr><td>train_accuracy</td><td>0.38369</td></tr><tr><td>train_loss</td><td>1.86031</td></tr><tr><td>validation_accuracy</td><td>0.38334</td></tr></table><br/></div></div>"
      ]
     },
     "metadata": {},
     "output_type": "display_data"
    },
    {
     "data": {
      "text/plain": [
       "<IPython.core.display.HTML object>"
      ],
      "text/html": [
       " View run <strong style=\"color:#cdcd00\">still-sweep-3</strong> at: <a href='https://wandb.ai/spajro-chess/raport/runs/yu7f8hhl' target=\"_blank\">https://wandb.ai/spajro-chess/raport/runs/yu7f8hhl</a><br/> View project at: <a href='https://wandb.ai/spajro-chess/raport' target=\"_blank\">https://wandb.ai/spajro-chess/raport</a><br/>Synced 5 W&B file(s), 0 media file(s), 0 artifact file(s) and 0 other file(s)"
      ]
     },
     "metadata": {},
     "output_type": "display_data"
    },
    {
     "data": {
      "text/plain": [
       "<IPython.core.display.HTML object>"
      ],
      "text/html": [
       "Find logs at: <code>.\\wandb\\run-20240617_055342-yu7f8hhl\\logs</code>"
      ]
     },
     "metadata": {},
     "output_type": "display_data"
    },
    {
     "name": "stderr",
     "output_type": "stream",
     "text": [
      "wandb: Agent Starting Run: 3swc7lcl with config:\n",
      "wandb: \tcriterion: CrossEntropy\n",
      "wandb: \tepochs: 20\n",
      "wandb: \tlearning_rate: 0.001\n",
      "wandb: \tmodel: 2\n",
      "wandb: \toptimizer: adam\n"
     ]
    },
    {
     "data": {
      "text/plain": [
       "<IPython.core.display.HTML object>"
      ],
      "text/html": [
       "Tracking run with wandb version 0.17.1"
      ]
     },
     "metadata": {},
     "output_type": "display_data"
    },
    {
     "data": {
      "text/plain": [
       "<IPython.core.display.HTML object>"
      ],
      "text/html": [
       "Run data is saved locally in <code>D:\\Projekty\\TacticsClassifier\\wandb\\run-20240617_061842-3swc7lcl</code>"
      ]
     },
     "metadata": {},
     "output_type": "display_data"
    },
    {
     "data": {
      "text/plain": [
       "<IPython.core.display.HTML object>"
      ],
      "text/html": [
       "Syncing run <strong><a href='https://wandb.ai/spajro-chess/raport/runs/3swc7lcl' target=\"_blank\">fine-sweep-4</a></strong> to <a href='https://wandb.ai/spajro-chess/raport' target=\"_blank\">Weights & Biases</a> (<a href='https://wandb.me/run' target=\"_blank\">docs</a>)<br/>Sweep page: <a href='https://wandb.ai/spajro-chess/raport/sweeps/ai82s9v2' target=\"_blank\">https://wandb.ai/spajro-chess/raport/sweeps/ai82s9v2</a>"
      ]
     },
     "metadata": {},
     "output_type": "display_data"
    },
    {
     "data": {
      "text/plain": [
       "<IPython.core.display.HTML object>"
      ],
      "text/html": [
       " View project at <a href='https://wandb.ai/spajro-chess/raport' target=\"_blank\">https://wandb.ai/spajro-chess/raport</a>"
      ]
     },
     "metadata": {},
     "output_type": "display_data"
    },
    {
     "data": {
      "text/plain": [
       "<IPython.core.display.HTML object>"
      ],
      "text/html": [
       " View sweep at <a href='https://wandb.ai/spajro-chess/raport/sweeps/ai82s9v2' target=\"_blank\">https://wandb.ai/spajro-chess/raport/sweeps/ai82s9v2</a>"
      ]
     },
     "metadata": {},
     "output_type": "display_data"
    },
    {
     "data": {
      "text/plain": [
       "<IPython.core.display.HTML object>"
      ],
      "text/html": [
       " View run at <a href='https://wandb.ai/spajro-chess/raport/runs/3swc7lcl' target=\"_blank\">https://wandb.ai/spajro-chess/raport/runs/3swc7lcl</a>"
      ]
     },
     "metadata": {},
     "output_type": "display_data"
    },
    {
     "name": "stdout",
     "output_type": "stream",
     "text": [
      "Epoch [1/20], train_loss: 0.8403005771964702, train_accuracy: 0.7243082042500194, validation_accuracy: 0.80453125, time: 30.581s\n",
      "Epoch [2/20], train_loss: 0.5766220137197386, train_accuracy: 0.8109590273993929, validation_accuracy: 0.8298125, time: 30.57s\n",
      "Epoch [3/20], train_loss: 0.5035456712571917, train_accuracy: 0.8347741690667082, validation_accuracy: 0.84775, time: 30.545s\n",
      "Epoch [4/20], train_loss: 0.460555657093997, train_accuracy: 0.8488776562621624, validation_accuracy: 0.8530625, time: 26.162s\n",
      "Epoch [5/20], train_loss: 0.4299654786566997, train_accuracy: 0.8585260663968242, validation_accuracy: 0.8566875, time: 30.324s\n",
      "Epoch [6/20], train_loss: 0.40600884837197954, train_accuracy: 0.8662163345528139, validation_accuracy: 0.86184375, time: 30.671s\n",
      "Epoch [7/20], train_loss: 0.3879789166463329, train_accuracy: 0.8721187339456683, validation_accuracy: 0.86221875, time: 30.603s\n",
      "Epoch [8/20], train_loss: 0.3724932538661092, train_accuracy: 0.8770676033315171, validation_accuracy: 0.8655625, time: 28.268s\n",
      "Epoch [9/20], train_loss: 0.358953304585895, train_accuracy: 0.8815749785942243, validation_accuracy: 0.863, time: 30.439s\n",
      "Epoch [10/20], train_loss: 0.3477985796662813, train_accuracy: 0.8847262493189071, validation_accuracy: 0.87128125, time: 30.537s\n",
      "Epoch [11/20], train_loss: 0.33813780477406624, train_accuracy: 0.8884698275862069, validation_accuracy: 0.8660625, time: 30.373s\n",
      "Epoch [12/20], train_loss: 0.32813996218235947, train_accuracy: 0.8917974527126956, validation_accuracy: 0.86846875, time: 26.235s\n",
      "Epoch [13/20], train_loss: 0.3211925453548094, train_accuracy: 0.8933603175838717, validation_accuracy: 0.870875, time: 30.291s\n",
      "Epoch [14/20], train_loss: 0.3130358492605712, train_accuracy: 0.8965638865104694, validation_accuracy: 0.871625, time: 30.599s\n",
      "Epoch [15/20], train_loss: 0.3071041450790601, train_accuracy: 0.8985232447263952, validation_accuracy: 0.871, time: 30.637s\n",
      "Epoch [16/20], train_loss: 0.3015284175039465, train_accuracy: 0.9001080018681404, validation_accuracy: 0.8720625, time: 26.2s\n",
      "Epoch [17/20], train_loss: 0.2957320309204877, train_accuracy: 0.9017681657196233, validation_accuracy: 0.8710625, time: 30.093s\n",
      "Epoch [18/20], train_loss: 0.2911204903087788, train_accuracy: 0.9034636004514672, validation_accuracy: 0.87259375, time: 30.555s\n",
      "Epoch [19/20], train_loss: 0.2856044613065305, train_accuracy: 0.9049486261383981, validation_accuracy: 0.87075, time: 30.576s\n",
      "Epoch [20/20], train_loss: 0.28104628897419576, train_accuracy: 0.9065248696193664, validation_accuracy: 0.87221875, time: 26.261s\n"
     ]
    },
    {
     "data": {
      "text/plain": [
       "VBox(children=(Label(value='0.001 MB of 0.007 MB uploaded\\r'), FloatProgress(value=0.1925414364640884, max=1.0…"
      ],
      "application/vnd.jupyter.widget-view+json": {
       "version_major": 2,
       "version_minor": 0,
       "model_id": "a1374ff1f0b7480f807c8ad28e200059"
      }
     },
     "metadata": {},
     "output_type": "display_data"
    },
    {
     "data": {
      "text/plain": [
       "<IPython.core.display.HTML object>"
      ],
      "text/html": [
       "<style>\n",
       "    table.wandb td:nth-child(1) { padding: 0 10px; text-align: left ; width: auto;} td:nth-child(2) {text-align: left ; width: 100%}\n",
       "    .wandb-row { display: flex; flex-direction: row; flex-wrap: wrap; justify-content: flex-start; width: 100% }\n",
       "    .wandb-col { display: flex; flex-direction: column; flex-basis: 100%; flex: 1; padding: 10px; }\n",
       "    </style>\n",
       "<div class=\"wandb-row\"><div class=\"wandb-col\"><h3>Run history:</h3><br/><table class=\"wandb\"><tr><td>epoch</td><td>▁▁▂▂▂▃▃▄▄▄▅▅▅▆▆▇▇▇██</td></tr><tr><td>train_accuracy</td><td>▁▄▅▆▆▆▇▇▇▇▇▇▇███████</td></tr><tr><td>train_loss</td><td>█▅▄▃▃▃▂▂▂▂▂▂▂▁▁▁▁▁▁▁</td></tr><tr><td>validation_accuracy</td><td>▁▄▅▆▆▇▇▇▇█▇█████████</td></tr></table><br/></div><div class=\"wandb-col\"><h3>Run summary:</h3><br/><table class=\"wandb\"><tr><td>epoch</td><td>20</td></tr><tr><td>train_accuracy</td><td>0.90652</td></tr><tr><td>train_loss</td><td>0.28105</td></tr><tr><td>validation_accuracy</td><td>0.87222</td></tr></table><br/></div></div>"
      ]
     },
     "metadata": {},
     "output_type": "display_data"
    },
    {
     "data": {
      "text/plain": [
       "<IPython.core.display.HTML object>"
      ],
      "text/html": [
       " View run <strong style=\"color:#cdcd00\">fine-sweep-4</strong> at: <a href='https://wandb.ai/spajro-chess/raport/runs/3swc7lcl' target=\"_blank\">https://wandb.ai/spajro-chess/raport/runs/3swc7lcl</a><br/> View project at: <a href='https://wandb.ai/spajro-chess/raport' target=\"_blank\">https://wandb.ai/spajro-chess/raport</a><br/>Synced 5 W&B file(s), 0 media file(s), 0 artifact file(s) and 0 other file(s)"
      ]
     },
     "metadata": {},
     "output_type": "display_data"
    },
    {
     "data": {
      "text/plain": [
       "<IPython.core.display.HTML object>"
      ],
      "text/html": [
       "Find logs at: <code>.\\wandb\\run-20240617_061842-3swc7lcl\\logs</code>"
      ]
     },
     "metadata": {},
     "output_type": "display_data"
    },
    {
     "name": "stderr",
     "output_type": "stream",
     "text": [
      "wandb: Agent Starting Run: z5fhs247 with config:\n",
      "wandb: \tcriterion: CrossEntropy\n",
      "wandb: \tepochs: 20\n",
      "wandb: \tlearning_rate: 0.001\n",
      "wandb: \tmodel: 2\n",
      "wandb: \toptimizer: sgd\n"
     ]
    },
    {
     "data": {
      "text/plain": [
       "<IPython.core.display.HTML object>"
      ],
      "text/html": [
       "Tracking run with wandb version 0.17.1"
      ]
     },
     "metadata": {},
     "output_type": "display_data"
    },
    {
     "data": {
      "text/plain": [
       "<IPython.core.display.HTML object>"
      ],
      "text/html": [
       "Run data is saved locally in <code>D:\\Projekty\\TacticsClassifier\\wandb\\run-20240617_062849-z5fhs247</code>"
      ]
     },
     "metadata": {},
     "output_type": "display_data"
    },
    {
     "data": {
      "text/plain": [
       "<IPython.core.display.HTML object>"
      ],
      "text/html": [
       "Syncing run <strong><a href='https://wandb.ai/spajro-chess/raport/runs/z5fhs247' target=\"_blank\">cosmic-sweep-5</a></strong> to <a href='https://wandb.ai/spajro-chess/raport' target=\"_blank\">Weights & Biases</a> (<a href='https://wandb.me/run' target=\"_blank\">docs</a>)<br/>Sweep page: <a href='https://wandb.ai/spajro-chess/raport/sweeps/ai82s9v2' target=\"_blank\">https://wandb.ai/spajro-chess/raport/sweeps/ai82s9v2</a>"
      ]
     },
     "metadata": {},
     "output_type": "display_data"
    },
    {
     "data": {
      "text/plain": [
       "<IPython.core.display.HTML object>"
      ],
      "text/html": [
       " View project at <a href='https://wandb.ai/spajro-chess/raport' target=\"_blank\">https://wandb.ai/spajro-chess/raport</a>"
      ]
     },
     "metadata": {},
     "output_type": "display_data"
    },
    {
     "data": {
      "text/plain": [
       "<IPython.core.display.HTML object>"
      ],
      "text/html": [
       " View sweep at <a href='https://wandb.ai/spajro-chess/raport/sweeps/ai82s9v2' target=\"_blank\">https://wandb.ai/spajro-chess/raport/sweeps/ai82s9v2</a>"
      ]
     },
     "metadata": {},
     "output_type": "display_data"
    },
    {
     "data": {
      "text/plain": [
       "<IPython.core.display.HTML object>"
      ],
      "text/html": [
       " View run at <a href='https://wandb.ai/spajro-chess/raport/runs/z5fhs247' target=\"_blank\">https://wandb.ai/spajro-chess/raport/runs/z5fhs247</a>"
      ]
     },
     "metadata": {},
     "output_type": "display_data"
    },
    {
     "name": "stdout",
     "output_type": "stream",
     "text": [
      "Epoch [1/20], train_loss: 1.4957840344855189, train_accuracy: 0.4932377208686853, validation_accuracy: 0.59046875, time: 29.437s\n",
      "Epoch [2/20], train_loss: 1.11757578359482, train_accuracy: 0.6317026835058769, validation_accuracy: 0.67734375, time: 28.985s\n",
      "Epoch [3/20], train_loss: 0.9412347681097198, train_accuracy: 0.6901076126722192, validation_accuracy: 0.71328125, time: 28.445s\n",
      "Epoch [4/20], train_loss: 0.8306257796860989, train_accuracy: 0.7271736592200514, validation_accuracy: 0.7445625, time: 24.864s\n",
      "Epoch [5/20], train_loss: 0.7585271701531029, train_accuracy: 0.7500352708803611, validation_accuracy: 0.70275, time: 28.782s\n",
      "Epoch [6/20], train_loss: 0.7055375586017575, train_accuracy: 0.7672742177161983, validation_accuracy: 0.77771875, time: 29.098s\n",
      "Epoch [7/20], train_loss: 0.6639402268405572, train_accuracy: 0.781082159258971, validation_accuracy: 0.73659375, time: 29.175s\n",
      "Epoch [8/20], train_loss: 0.6297283401656085, train_accuracy: 0.7918738324122363, validation_accuracy: 0.80096875, time: 25.301s\n",
      "Epoch [9/20], train_loss: 0.6028491141460299, train_accuracy: 0.8006514166731533, validation_accuracy: 0.7378125, time: 27.931s\n",
      "Epoch [10/20], train_loss: 0.5798854937486515, train_accuracy: 0.8079755974157391, validation_accuracy: 0.812125, time: 29.21s\n",
      "Epoch [11/20], train_loss: 0.5604148925492074, train_accuracy: 0.8147281466490232, validation_accuracy: 0.7834375, time: 29.196s\n",
      "Epoch [12/20], train_loss: 0.5426998437773237, train_accuracy: 0.8200260761267222, validation_accuracy: 0.81059375, time: 26.401s\n",
      "Epoch [13/20], train_loss: 0.5272052698820363, train_accuracy: 0.8251087316104927, validation_accuracy: 0.81325, time: 26.793s\n",
      "Epoch [14/20], train_loss: 0.5130657492975526, train_accuracy: 0.8299505721180042, validation_accuracy: 0.813, time: 29.198s\n",
      "Epoch [15/20], train_loss: 0.499830396514352, train_accuracy: 0.8343119989102514, validation_accuracy: 0.74890625, time: 29.016s\n",
      "Epoch [16/20], train_loss: 0.48856675157526025, train_accuracy: 0.8377332743052853, validation_accuracy: 0.7810625, time: 27.295s\n",
      "Epoch [17/20], train_loss: 0.47806513485666696, train_accuracy: 0.8411740094963804, validation_accuracy: 0.83671875, time: 25.739s\n",
      "Epoch [18/20], train_loss: 0.4684380255300284, train_accuracy: 0.8442267650035028, validation_accuracy: 0.81925, time: 29.225s\n",
      "Epoch [19/20], train_loss: 0.45901416568748865, train_accuracy: 0.8475069568770919, validation_accuracy: 0.80659375, time: 29.109s\n",
      "Epoch [20/20], train_loss: 0.45159659652016065, train_accuracy: 0.8495879388184012, validation_accuracy: 0.49415625, time: 28.388s\n"
     ]
    },
    {
     "data": {
      "text/plain": [
       "VBox(children=(Label(value='0.001 MB of 0.007 MB uploaded\\r'), FloatProgress(value=0.19235545743066096, max=1.…"
      ],
      "application/vnd.jupyter.widget-view+json": {
       "version_major": 2,
       "version_minor": 0,
       "model_id": "01072528853a4f7cb55acc82cf1e1509"
      }
     },
     "metadata": {},
     "output_type": "display_data"
    },
    {
     "data": {
      "text/plain": [
       "<IPython.core.display.HTML object>"
      ],
      "text/html": [
       "<style>\n",
       "    table.wandb td:nth-child(1) { padding: 0 10px; text-align: left ; width: auto;} td:nth-child(2) {text-align: left ; width: 100%}\n",
       "    .wandb-row { display: flex; flex-direction: row; flex-wrap: wrap; justify-content: flex-start; width: 100% }\n",
       "    .wandb-col { display: flex; flex-direction: column; flex-basis: 100%; flex: 1; padding: 10px; }\n",
       "    </style>\n",
       "<div class=\"wandb-row\"><div class=\"wandb-col\"><h3>Run history:</h3><br/><table class=\"wandb\"><tr><td>epoch</td><td>▁▁▂▂▂▃▃▄▄▄▅▅▅▆▆▇▇▇██</td></tr><tr><td>train_accuracy</td><td>▁▄▅▆▆▆▇▇▇▇▇▇████████</td></tr><tr><td>train_loss</td><td>█▅▄▄▃▃▂▂▂▂▂▂▂▁▁▁▁▁▁▁</td></tr><tr><td>validation_accuracy</td><td>▃▅▅▆▅▇▆▇▆▇▇▇██▆▇██▇▁</td></tr></table><br/></div><div class=\"wandb-col\"><h3>Run summary:</h3><br/><table class=\"wandb\"><tr><td>epoch</td><td>20</td></tr><tr><td>train_accuracy</td><td>0.84959</td></tr><tr><td>train_loss</td><td>0.4516</td></tr><tr><td>validation_accuracy</td><td>0.49416</td></tr></table><br/></div></div>"
      ]
     },
     "metadata": {},
     "output_type": "display_data"
    },
    {
     "data": {
      "text/plain": [
       "<IPython.core.display.HTML object>"
      ],
      "text/html": [
       " View run <strong style=\"color:#cdcd00\">cosmic-sweep-5</strong> at: <a href='https://wandb.ai/spajro-chess/raport/runs/z5fhs247' target=\"_blank\">https://wandb.ai/spajro-chess/raport/runs/z5fhs247</a><br/> View project at: <a href='https://wandb.ai/spajro-chess/raport' target=\"_blank\">https://wandb.ai/spajro-chess/raport</a><br/>Synced 5 W&B file(s), 0 media file(s), 0 artifact file(s) and 0 other file(s)"
      ]
     },
     "metadata": {},
     "output_type": "display_data"
    },
    {
     "data": {
      "text/plain": [
       "<IPython.core.display.HTML object>"
      ],
      "text/html": [
       "Find logs at: <code>.\\wandb\\run-20240617_062849-z5fhs247\\logs</code>"
      ]
     },
     "metadata": {},
     "output_type": "display_data"
    },
    {
     "name": "stderr",
     "output_type": "stream",
     "text": [
      "wandb: Agent Starting Run: yu7hbylr with config:\n",
      "wandb: \tcriterion: CrossEntropy\n",
      "wandb: \tepochs: 30\n",
      "wandb: \tlearning_rate: 0.01\n",
      "wandb: \tmodel: 1\n",
      "wandb: \toptimizer: sgd\n"
     ]
    },
    {
     "data": {
      "text/plain": [
       "<IPython.core.display.HTML object>"
      ],
      "text/html": [
       "Tracking run with wandb version 0.17.1"
      ]
     },
     "metadata": {},
     "output_type": "display_data"
    },
    {
     "data": {
      "text/plain": [
       "<IPython.core.display.HTML object>"
      ],
      "text/html": [
       "Run data is saved locally in <code>D:\\Projekty\\TacticsClassifier\\wandb\\run-20240617_063826-yu7hbylr</code>"
      ]
     },
     "metadata": {},
     "output_type": "display_data"
    },
    {
     "data": {
      "text/plain": [
       "<IPython.core.display.HTML object>"
      ],
      "text/html": [
       "Syncing run <strong><a href='https://wandb.ai/spajro-chess/raport/runs/yu7hbylr' target=\"_blank\">elated-sweep-6</a></strong> to <a href='https://wandb.ai/spajro-chess/raport' target=\"_blank\">Weights & Biases</a> (<a href='https://wandb.me/run' target=\"_blank\">docs</a>)<br/>Sweep page: <a href='https://wandb.ai/spajro-chess/raport/sweeps/ai82s9v2' target=\"_blank\">https://wandb.ai/spajro-chess/raport/sweeps/ai82s9v2</a>"
      ]
     },
     "metadata": {},
     "output_type": "display_data"
    },
    {
     "data": {
      "text/plain": [
       "<IPython.core.display.HTML object>"
      ],
      "text/html": [
       " View project at <a href='https://wandb.ai/spajro-chess/raport' target=\"_blank\">https://wandb.ai/spajro-chess/raport</a>"
      ]
     },
     "metadata": {},
     "output_type": "display_data"
    },
    {
     "data": {
      "text/plain": [
       "<IPython.core.display.HTML object>"
      ],
      "text/html": [
       " View sweep at <a href='https://wandb.ai/spajro-chess/raport/sweeps/ai82s9v2' target=\"_blank\">https://wandb.ai/spajro-chess/raport/sweeps/ai82s9v2</a>"
      ]
     },
     "metadata": {},
     "output_type": "display_data"
    },
    {
     "data": {
      "text/plain": [
       "<IPython.core.display.HTML object>"
      ],
      "text/html": [
       " View run at <a href='https://wandb.ai/spajro-chess/raport/runs/yu7hbylr' target=\"_blank\">https://wandb.ai/spajro-chess/raport/runs/yu7hbylr</a>"
      ]
     },
     "metadata": {},
     "output_type": "display_data"
    },
    {
     "name": "stdout",
     "output_type": "stream",
     "text": [
      "Epoch [1/30], train_loss: 1.5651897739888982, train_accuracy: 0.4648300673308944, validation_accuracy: 0.2050625, time: 20.582s\n",
      "Epoch [2/30], train_loss: 1.1616544797836765, train_accuracy: 0.6183885342881607, validation_accuracy: 0.57628125, time: 23.502s\n",
      "Epoch [3/30], train_loss: 0.9571983099907041, train_accuracy: 0.6859298377053008, validation_accuracy: 0.7079375, time: 23.358s\n",
      "Epoch [4/30], train_loss: 0.8393268482879209, train_accuracy: 0.7240771191717911, validation_accuracy: 0.55028125, time: 23.343s\n",
      "Epoch [5/30], train_loss: 0.7644858266255002, train_accuracy: 0.7487217346462209, validation_accuracy: 0.76875, time: 22.345s\n",
      "Epoch [6/30], train_loss: 0.7107707381635879, train_accuracy: 0.765581215458862, validation_accuracy: 0.7845, time: 19.996s\n",
      "Epoch [7/30], train_loss: 0.6679290752761362, train_accuracy: 0.7792967229703432, validation_accuracy: 0.78725, time: 23.002s\n",
      "Epoch [8/30], train_loss: 0.6324488418018009, train_accuracy: 0.7907013796995408, validation_accuracy: 0.6375, time: 23.337s\n",
      "Epoch [9/30], train_loss: 0.602772271503472, train_accuracy: 0.8006319568770919, validation_accuracy: 0.642875, time: 23.402s\n",
      "Epoch [10/30], train_loss: 0.5776974154641918, train_accuracy: 0.8083331711683661, validation_accuracy: 0.446125, time: 23.114s\n",
      "Epoch [11/30], train_loss: 0.5558518805691377, train_accuracy: 0.8153764011053164, validation_accuracy: 0.79490625, time: 19.998s\n",
      "Epoch [12/30], train_loss: 0.5367848450913729, train_accuracy: 0.8213152876157858, validation_accuracy: 0.701875, time: 21.994s\n",
      "Epoch [13/30], train_loss: 0.519941233217396, train_accuracy: 0.8272930937183778, validation_accuracy: 0.65996875, time: 23.441s\n",
      "Epoch [14/30], train_loss: 0.5056311539975624, train_accuracy: 0.8321920973768195, validation_accuracy: 0.432875, time: 23.399s\n",
      "Epoch [15/30], train_loss: 0.4925707984993205, train_accuracy: 0.8358140519187359, validation_accuracy: 0.824625, time: 23.391s\n",
      "Epoch [16/30], train_loss: 0.4803853414896636, train_accuracy: 0.8399006090916167, validation_accuracy: 0.84390625, time: 20.661s\n",
      "Epoch [17/30], train_loss: 0.4699570374181876, train_accuracy: 0.8437147291196389, validation_accuracy: 0.71553125, time: 21.056s\n",
      "Epoch [18/30], train_loss: 0.4610307485704952, train_accuracy: 0.8461058515606756, validation_accuracy: 0.84375, time: 23.467s\n",
      "Epoch [19/30], train_loss: 0.45201518270518737, train_accuracy: 0.849355637502919, validation_accuracy: 0.8443125, time: 23.416s\n",
      "Epoch [20/30], train_loss: 0.44405079966003147, train_accuracy: 0.8518781135673699, validation_accuracy: 0.67828125, time: 23.373s\n",
      "Epoch [21/30], train_loss: 0.43621260554672464, train_accuracy: 0.8543118043122908, validation_accuracy: 0.70721875, time: 21.649s\n",
      "Epoch [22/30], train_loss: 0.43018224314052356, train_accuracy: 0.856137376430295, validation_accuracy: 0.84971875, time: 20.105s\n",
      "Epoch [23/30], train_loss: 0.4228686673958598, train_accuracy: 0.858585662022262, validation_accuracy: 0.71678125, time: 23.399s\n",
      "Epoch [24/30], train_loss: 0.4170248956036255, train_accuracy: 0.8606848875223788, validation_accuracy: 0.85203125, time: 23.349s\n",
      "Epoch [25/30], train_loss: 0.4110930773729043, train_accuracy: 0.8622757258503931, validation_accuracy: 0.85578125, time: 23.292s\n",
      "Epoch [26/30], train_loss: 0.4066917420342951, train_accuracy: 0.8638531855686152, validation_accuracy: 0.8465625, time: 22.525s\n",
      "Epoch [27/30], train_loss: 0.4012907369140978, train_accuracy: 0.8654549700319141, validation_accuracy: 0.858, time: 19.976s\n",
      "Epoch [28/30], train_loss: 0.39623289137517304, train_accuracy: 0.8667575601307699, validation_accuracy: 0.663625, time: 22.613s\n",
      "Epoch [29/30], train_loss: 0.39267164158667534, train_accuracy: 0.8682389371059391, validation_accuracy: 0.810875, time: 23.388s\n",
      "Epoch [30/30], train_loss: 0.38769771478884024, train_accuracy: 0.8698881548221374, validation_accuracy: 0.44103125, time: 23.415s\n"
     ]
    },
    {
     "data": {
      "text/plain": [
       "VBox(children=(Label(value='0.001 MB of 0.001 MB uploaded\\r'), FloatProgress(value=1.0, max=1.0)))"
      ],
      "application/vnd.jupyter.widget-view+json": {
       "version_major": 2,
       "version_minor": 0,
       "model_id": "71cb074762464723a12454bb4e111cb9"
      }
     },
     "metadata": {},
     "output_type": "display_data"
    },
    {
     "data": {
      "text/plain": [
       "<IPython.core.display.HTML object>"
      ],
      "text/html": [
       "<style>\n",
       "    table.wandb td:nth-child(1) { padding: 0 10px; text-align: left ; width: auto;} td:nth-child(2) {text-align: left ; width: 100%}\n",
       "    .wandb-row { display: flex; flex-direction: row; flex-wrap: wrap; justify-content: flex-start; width: 100% }\n",
       "    .wandb-col { display: flex; flex-direction: column; flex-basis: 100%; flex: 1; padding: 10px; }\n",
       "    </style>\n",
       "<div class=\"wandb-row\"><div class=\"wandb-col\"><h3>Run history:</h3><br/><table class=\"wandb\"><tr><td>epoch</td><td>▁▁▁▂▂▂▂▃▃▃▃▄▄▄▄▅▅▅▅▆▆▆▆▇▇▇▇███</td></tr><tr><td>train_accuracy</td><td>▁▄▅▅▆▆▆▇▇▇▇▇▇▇▇▇██████████████</td></tr><tr><td>train_loss</td><td>█▆▄▄▃▃▃▂▂▂▂▂▂▂▂▂▁▁▁▁▁▁▁▁▁▁▁▁▁▁</td></tr><tr><td>validation_accuracy</td><td>▁▅▆▅▇▇▇▆▆▄▇▆▆▃██▆██▆▆█▆████▆▇▄</td></tr></table><br/></div><div class=\"wandb-col\"><h3>Run summary:</h3><br/><table class=\"wandb\"><tr><td>epoch</td><td>30</td></tr><tr><td>train_accuracy</td><td>0.86989</td></tr><tr><td>train_loss</td><td>0.3877</td></tr><tr><td>validation_accuracy</td><td>0.44103</td></tr></table><br/></div></div>"
      ]
     },
     "metadata": {},
     "output_type": "display_data"
    },
    {
     "data": {
      "text/plain": [
       "<IPython.core.display.HTML object>"
      ],
      "text/html": [
       " View run <strong style=\"color:#cdcd00\">elated-sweep-6</strong> at: <a href='https://wandb.ai/spajro-chess/raport/runs/yu7hbylr' target=\"_blank\">https://wandb.ai/spajro-chess/raport/runs/yu7hbylr</a><br/> View project at: <a href='https://wandb.ai/spajro-chess/raport' target=\"_blank\">https://wandb.ai/spajro-chess/raport</a><br/>Synced 5 W&B file(s), 0 media file(s), 0 artifact file(s) and 0 other file(s)"
      ]
     },
     "metadata": {},
     "output_type": "display_data"
    },
    {
     "data": {
      "text/plain": [
       "<IPython.core.display.HTML object>"
      ],
      "text/html": [
       "Find logs at: <code>.\\wandb\\run-20240617_063826-yu7hbylr\\logs</code>"
      ]
     },
     "metadata": {},
     "output_type": "display_data"
    },
    {
     "name": "stderr",
     "output_type": "stream",
     "text": [
      "wandb: Sweep Agent: Waiting for job.\n",
      "wandb: Job received.\n",
      "wandb: Agent Starting Run: 6x2pf512 with config:\n",
      "wandb: \tcriterion: CrossEntropy\n",
      "wandb: \tepochs: 30\n",
      "wandb: \tlearning_rate: 0.0003\n",
      "wandb: \tmodel: 2\n",
      "wandb: \toptimizer: adam\n"
     ]
    },
    {
     "data": {
      "text/plain": [
       "<IPython.core.display.HTML object>"
      ],
      "text/html": [
       "Tracking run with wandb version 0.17.1"
      ]
     },
     "metadata": {},
     "output_type": "display_data"
    },
    {
     "data": {
      "text/plain": [
       "<IPython.core.display.HTML object>"
      ],
      "text/html": [
       "Run data is saved locally in <code>D:\\Projekty\\TacticsClassifier\\wandb\\run-20240617_065007-6x2pf512</code>"
      ]
     },
     "metadata": {},
     "output_type": "display_data"
    },
    {
     "data": {
      "text/plain": [
       "<IPython.core.display.HTML object>"
      ],
      "text/html": [
       "Syncing run <strong><a href='https://wandb.ai/spajro-chess/raport/runs/6x2pf512' target=\"_blank\">curious-sweep-7</a></strong> to <a href='https://wandb.ai/spajro-chess/raport' target=\"_blank\">Weights & Biases</a> (<a href='https://wandb.me/run' target=\"_blank\">docs</a>)<br/>Sweep page: <a href='https://wandb.ai/spajro-chess/raport/sweeps/ai82s9v2' target=\"_blank\">https://wandb.ai/spajro-chess/raport/sweeps/ai82s9v2</a>"
      ]
     },
     "metadata": {},
     "output_type": "display_data"
    },
    {
     "data": {
      "text/plain": [
       "<IPython.core.display.HTML object>"
      ],
      "text/html": [
       " View project at <a href='https://wandb.ai/spajro-chess/raport' target=\"_blank\">https://wandb.ai/spajro-chess/raport</a>"
      ]
     },
     "metadata": {},
     "output_type": "display_data"
    },
    {
     "data": {
      "text/plain": [
       "<IPython.core.display.HTML object>"
      ],
      "text/html": [
       " View sweep at <a href='https://wandb.ai/spajro-chess/raport/sweeps/ai82s9v2' target=\"_blank\">https://wandb.ai/spajro-chess/raport/sweeps/ai82s9v2</a>"
      ]
     },
     "metadata": {},
     "output_type": "display_data"
    },
    {
     "data": {
      "text/plain": [
       "<IPython.core.display.HTML object>"
      ],
      "text/html": [
       " View run at <a href='https://wandb.ai/spajro-chess/raport/runs/6x2pf512' target=\"_blank\">https://wandb.ai/spajro-chess/raport/runs/6x2pf512</a>"
      ]
     },
     "metadata": {},
     "output_type": "display_data"
    },
    {
     "name": "stdout",
     "output_type": "stream",
     "text": [
      "Epoch [1/30], train_loss: 0.8826260147850421, train_accuracy: 0.70714466412392, validation_accuracy: 0.7955, time: 27.574s\n",
      "Epoch [2/30], train_loss: 0.5871752973202556, train_accuracy: 0.805929886354791, validation_accuracy: 0.82715625, time: 28.979s\n",
      "Epoch [3/30], train_loss: 0.5064018343736887, train_accuracy: 0.8321896649023118, validation_accuracy: 0.8428125, time: 30.601s\n",
      "Epoch [4/30], train_loss: 0.4598517389700537, train_accuracy: 0.8470910037362809, validation_accuracy: 0.852125, time: 30.515s\n",
      "Epoch [5/30], train_loss: 0.42724321568414486, train_accuracy: 0.858352144469526, validation_accuracy: 0.857125, time: 27.275s\n",
      "Epoch [6/30], train_loss: 0.4023279293606365, train_accuracy: 0.8658855180197712, validation_accuracy: 0.85775, time: 28.803s\n",
      "Epoch [7/30], train_loss: 0.38285985743525314, train_accuracy: 0.8722561687553514, validation_accuracy: 0.86325, time: 30.535s\n",
      "Epoch [8/30], train_loss: 0.3658440468708597, train_accuracy: 0.8773728788822294, validation_accuracy: 0.86703125, time: 30.537s\n",
      "Epoch [9/30], train_loss: 0.3516363091191237, train_accuracy: 0.8823570191484393, validation_accuracy: 0.8691875, time: 27.54s\n",
      "Epoch [10/30], train_loss: 0.3401257859565729, train_accuracy: 0.8858172141355959, validation_accuracy: 0.8676875, time: 28.696s\n",
      "Epoch [11/30], train_loss: 0.3300435013696174, train_accuracy: 0.8888955106250487, validation_accuracy: 0.86975, time: 30.688s\n",
      "Epoch [12/30], train_loss: 0.3199235598522698, train_accuracy: 0.8923070561220519, validation_accuracy: 0.8733125, time: 30.726s\n",
      "Epoch [13/30], train_loss: 0.3115812076714272, train_accuracy: 0.8953756227134739, validation_accuracy: 0.87259375, time: 27.754s\n",
      "Epoch [14/30], train_loss: 0.30424150566151376, train_accuracy: 0.8969847046002958, validation_accuracy: 0.87240625, time: 28.636s\n",
      "Epoch [15/30], train_loss: 0.29717341432919286, train_accuracy: 0.8998282672997587, validation_accuracy: 0.87078125, time: 30.758s\n",
      "Epoch [16/30], train_loss: 0.2915678249882721, train_accuracy: 0.9016489744687476, validation_accuracy: 0.87440625, time: 30.825s\n",
      "Epoch [17/30], train_loss: 0.28520017354692234, train_accuracy: 0.9034040048260294, validation_accuracy: 0.87240625, time: 27.78s\n",
      "Epoch [18/30], train_loss: 0.28008154431472376, train_accuracy: 0.9052441717910796, validation_accuracy: 0.87284375, time: 28.541s\n",
      "Epoch [19/30], train_loss: 0.2744630680423057, train_accuracy: 0.9069250116758777, validation_accuracy: 0.87340625, time: 30.763s\n",
      "Epoch [20/30], train_loss: 0.27024481973455483, train_accuracy: 0.9085559858332685, validation_accuracy: 0.8731875, time: 30.601s\n",
      "Epoch [21/30], train_loss: 0.26512141183750576, train_accuracy: 0.9103925040865571, validation_accuracy: 0.87246875, time: 27.872s\n",
      "Epoch [22/30], train_loss: 0.26146026751016505, train_accuracy: 0.9111915719623258, validation_accuracy: 0.87409375, time: 28.399s\n",
      "Epoch [23/30], train_loss: 0.25709113495609537, train_accuracy: 0.9125184868062582, validation_accuracy: 0.8729375, time: 30.693s\n",
      "Epoch [24/30], train_loss: 0.2543273705951716, train_accuracy: 0.9135012065073558, validation_accuracy: 0.8724375, time: 30.725s\n",
      "Epoch [25/30], train_loss: 0.25142625134664165, train_accuracy: 0.914303923094886, validation_accuracy: 0.8765, time: 28.25s\n",
      "Epoch [26/30], train_loss: 0.2468124859781987, train_accuracy: 0.9158217871876703, validation_accuracy: 0.87440625, time: 28.379s\n",
      "Epoch [27/30], train_loss: 0.24389012343630587, train_accuracy: 0.9168713999377287, validation_accuracy: 0.874375, time: 30.688s\n",
      "Epoch [28/30], train_loss: 0.24024146626624207, train_accuracy: 0.9180316902778859, validation_accuracy: 0.87315625, time: 30.843s\n",
      "Epoch [29/30], train_loss: 0.23828652901936712, train_accuracy: 0.9186398089048027, validation_accuracy: 0.87365625, time: 28.112s\n",
      "Epoch [30/30], train_loss: 0.23540566824440376, train_accuracy: 0.9189694092005916, validation_accuracy: 0.87359375, time: 28.342s\n"
     ]
    },
    {
     "data": {
      "text/plain": [
       "VBox(children=(Label(value='0.001 MB of 0.001 MB uploaded\\r'), FloatProgress(value=1.0, max=1.0)))"
      ],
      "application/vnd.jupyter.widget-view+json": {
       "version_major": 2,
       "version_minor": 0,
       "model_id": "82472bfb088740a8a5953de248c0356e"
      }
     },
     "metadata": {},
     "output_type": "display_data"
    },
    {
     "data": {
      "text/plain": [
       "<IPython.core.display.HTML object>"
      ],
      "text/html": [
       "<style>\n",
       "    table.wandb td:nth-child(1) { padding: 0 10px; text-align: left ; width: auto;} td:nth-child(2) {text-align: left ; width: 100%}\n",
       "    .wandb-row { display: flex; flex-direction: row; flex-wrap: wrap; justify-content: flex-start; width: 100% }\n",
       "    .wandb-col { display: flex; flex-direction: column; flex-basis: 100%; flex: 1; padding: 10px; }\n",
       "    </style>\n",
       "<div class=\"wandb-row\"><div class=\"wandb-col\"><h3>Run history:</h3><br/><table class=\"wandb\"><tr><td>epoch</td><td>▁▁▁▂▂▂▂▃▃▃▃▄▄▄▄▅▅▅▅▆▆▆▆▇▇▇▇███</td></tr><tr><td>train_accuracy</td><td>▁▄▅▆▆▆▆▇▇▇▇▇▇▇▇▇▇█████████████</td></tr><tr><td>train_loss</td><td>█▅▄▃▃▃▃▂▂▂▂▂▂▂▂▂▂▁▁▁▁▁▁▁▁▁▁▁▁▁</td></tr><tr><td>validation_accuracy</td><td>▁▄▅▆▆▆▇▇▇▇▇███████████████████</td></tr></table><br/></div><div class=\"wandb-col\"><h3>Run summary:</h3><br/><table class=\"wandb\"><tr><td>epoch</td><td>30</td></tr><tr><td>train_accuracy</td><td>0.91897</td></tr><tr><td>train_loss</td><td>0.23541</td></tr><tr><td>validation_accuracy</td><td>0.87359</td></tr></table><br/></div></div>"
      ]
     },
     "metadata": {},
     "output_type": "display_data"
    },
    {
     "data": {
      "text/plain": [
       "<IPython.core.display.HTML object>"
      ],
      "text/html": [
       " View run <strong style=\"color:#cdcd00\">curious-sweep-7</strong> at: <a href='https://wandb.ai/spajro-chess/raport/runs/6x2pf512' target=\"_blank\">https://wandb.ai/spajro-chess/raport/runs/6x2pf512</a><br/> View project at: <a href='https://wandb.ai/spajro-chess/raport' target=\"_blank\">https://wandb.ai/spajro-chess/raport</a><br/>Synced 5 W&B file(s), 0 media file(s), 0 artifact file(s) and 0 other file(s)"
      ]
     },
     "metadata": {},
     "output_type": "display_data"
    },
    {
     "data": {
      "text/plain": [
       "<IPython.core.display.HTML object>"
      ],
      "text/html": [
       "Find logs at: <code>.\\wandb\\run-20240617_065007-6x2pf512\\logs</code>"
      ]
     },
     "metadata": {},
     "output_type": "display_data"
    },
    {
     "name": "stderr",
     "output_type": "stream",
     "text": [
      "wandb: Agent Starting Run: pniyx57d with config:\n",
      "wandb: \tcriterion: CrossEntropy\n",
      "wandb: \tepochs: 30\n",
      "wandb: \tlearning_rate: 0.001\n",
      "wandb: \tmodel: 2\n",
      "wandb: \toptimizer: adam\n"
     ]
    },
    {
     "data": {
      "text/plain": [
       "<IPython.core.display.HTML object>"
      ],
      "text/html": [
       "Tracking run with wandb version 0.17.1"
      ]
     },
     "metadata": {},
     "output_type": "display_data"
    },
    {
     "data": {
      "text/plain": [
       "<IPython.core.display.HTML object>"
      ],
      "text/html": [
       "Run data is saved locally in <code>D:\\Projekty\\TacticsClassifier\\wandb\\run-20240617_070510-pniyx57d</code>"
      ]
     },
     "metadata": {},
     "output_type": "display_data"
    },
    {
     "data": {
      "text/plain": [
       "<IPython.core.display.HTML object>"
      ],
      "text/html": [
       "Syncing run <strong><a href='https://wandb.ai/spajro-chess/raport/runs/pniyx57d' target=\"_blank\">rare-sweep-8</a></strong> to <a href='https://wandb.ai/spajro-chess/raport' target=\"_blank\">Weights & Biases</a> (<a href='https://wandb.me/run' target=\"_blank\">docs</a>)<br/>Sweep page: <a href='https://wandb.ai/spajro-chess/raport/sweeps/ai82s9v2' target=\"_blank\">https://wandb.ai/spajro-chess/raport/sweeps/ai82s9v2</a>"
      ]
     },
     "metadata": {},
     "output_type": "display_data"
    },
    {
     "data": {
      "text/plain": [
       "<IPython.core.display.HTML object>"
      ],
      "text/html": [
       " View project at <a href='https://wandb.ai/spajro-chess/raport' target=\"_blank\">https://wandb.ai/spajro-chess/raport</a>"
      ]
     },
     "metadata": {},
     "output_type": "display_data"
    },
    {
     "data": {
      "text/plain": [
       "<IPython.core.display.HTML object>"
      ],
      "text/html": [
       " View sweep at <a href='https://wandb.ai/spajro-chess/raport/sweeps/ai82s9v2' target=\"_blank\">https://wandb.ai/spajro-chess/raport/sweeps/ai82s9v2</a>"
      ]
     },
     "metadata": {},
     "output_type": "display_data"
    },
    {
     "data": {
      "text/plain": [
       "<IPython.core.display.HTML object>"
      ],
      "text/html": [
       " View run at <a href='https://wandb.ai/spajro-chess/raport/runs/pniyx57d' target=\"_blank\">https://wandb.ai/spajro-chess/raport/runs/pniyx57d</a>"
      ]
     },
     "metadata": {},
     "output_type": "display_data"
    },
    {
     "name": "stdout",
     "output_type": "stream",
     "text": [
      "Epoch [1/30], train_loss: 0.8397251007839373, train_accuracy: 0.7238740075504009, validation_accuracy: 0.802625, time: 30.73s\n",
      "Epoch [2/30], train_loss: 0.5823726801510088, train_accuracy: 0.8083441173036506, validation_accuracy: 0.82890625, time: 30.336s\n",
      "Epoch [3/30], train_loss: 0.5080776998531524, train_accuracy: 0.8327248092939986, validation_accuracy: 0.8445625, time: 26.556s\n",
      "Epoch [4/30], train_loss: 0.4628207362063749, train_accuracy: 0.8476480403985366, validation_accuracy: 0.85303125, time: 29.55s\n",
      "Epoch [5/30], train_loss: 0.4314763378275084, train_accuracy: 0.8577464583171168, validation_accuracy: 0.85809375, time: 30.53s\n",
      "Epoch [6/30], train_loss: 0.40641825585615554, train_accuracy: 0.8657225422277575, validation_accuracy: 0.86109375, time: 30.569s\n",
      "Epoch [7/30], train_loss: 0.3861232753580643, train_accuracy: 0.8721345450299681, validation_accuracy: 0.8630625, time: 26.742s\n",
      "Epoch [8/30], train_loss: 0.3711776553029085, train_accuracy: 0.87716368607457, validation_accuracy: 0.86584375, time: 29.483s\n",
      "Epoch [9/30], train_loss: 0.35689660086311503, train_accuracy: 0.8815968708647933, validation_accuracy: 0.86675, time: 30.727s\n",
      "Epoch [10/30], train_loss: 0.3448202614214686, train_accuracy: 0.885465721569238, validation_accuracy: 0.86975, time: 30.662s\n",
      "Epoch [11/30], train_loss: 0.3344113423009925, train_accuracy: 0.8885938837860979, validation_accuracy: 0.867625, time: 27.032s\n",
      "Epoch [12/30], train_loss: 0.325488177376716, train_accuracy: 0.8917609655950806, validation_accuracy: 0.86925, time: 29.453s\n",
      "Epoch [13/30], train_loss: 0.31652279789802756, train_accuracy: 0.8945242566357905, validation_accuracy: 0.87178125, time: 30.392s\n",
      "Epoch [14/30], train_loss: 0.30948781674405784, train_accuracy: 0.8967256460652292, validation_accuracy: 0.87078125, time: 30.424s\n",
      "Epoch [15/30], train_loss: 0.30403623958095427, train_accuracy: 0.8982945921226746, validation_accuracy: 0.87128125, time: 27.02s\n",
      "Epoch [16/30], train_loss: 0.2972661840269155, train_accuracy: 0.9007672024597182, validation_accuracy: 0.8719375, time: 29.117s\n",
      "Epoch [17/30], train_loss: 0.29248296448945243, train_accuracy: 0.9023154724838484, validation_accuracy: 0.8721875, time: 30.593s\n",
      "Epoch [18/30], train_loss: 0.28611756626476276, train_accuracy: 0.9044633474741185, validation_accuracy: 0.87309375, time: 30.165s\n",
      "Epoch [19/30], train_loss: 0.282184478413971, train_accuracy: 0.905548231104538, validation_accuracy: 0.87215625, time: 27.029s\n",
      "Epoch [20/30], train_loss: 0.2777453245116786, train_accuracy: 0.9072850179030124, validation_accuracy: 0.8734375, time: 28.944s\n",
      "Epoch [21/30], train_loss: 0.27270461291578146, train_accuracy: 0.9084708492255001, validation_accuracy: 0.87603125, time: 30.582s\n",
      "Epoch [22/30], train_loss: 0.2691574629224826, train_accuracy: 0.9098634408811396, validation_accuracy: 0.87165625, time: 30.629s\n",
      "Epoch [23/30], train_loss: 0.2652781017143791, train_accuracy: 0.9109835953919203, validation_accuracy: 0.8750625, time: 27.365s\n",
      "Epoch [24/30], train_loss: 0.26177755655954116, train_accuracy: 0.9118787460107418, validation_accuracy: 0.8735625, time: 28.797s\n",
      "Epoch [25/30], train_loss: 0.258625472303077, train_accuracy: 0.9133285008173114, validation_accuracy: 0.8731875, time: 30.615s\n",
      "Epoch [26/30], train_loss: 0.25530431349238586, train_accuracy: 0.9143878434654005, validation_accuracy: 0.87240625, time: 30.516s\n",
      "Epoch [27/30], train_loss: 0.25242913987496546, train_accuracy: 0.915151640460808, validation_accuracy: 0.87203125, time: 27.957s\n",
      "Epoch [28/30], train_loss: 0.24916091839170107, train_accuracy: 0.9163727426636569, validation_accuracy: 0.87221875, time: 28.697s\n",
      "Epoch [29/30], train_loss: 0.24668742225677148, train_accuracy: 0.9169589690200046, validation_accuracy: 0.872625, time: 30.664s\n",
      "Epoch [30/30], train_loss: 0.2448038347829529, train_accuracy: 0.9174868159881684, validation_accuracy: 0.8715625, time: 30.677s\n"
     ]
    },
    {
     "data": {
      "text/plain": [
       "VBox(children=(Label(value='0.001 MB of 0.001 MB uploaded\\r'), FloatProgress(value=1.0, max=1.0)))"
      ],
      "application/vnd.jupyter.widget-view+json": {
       "version_major": 2,
       "version_minor": 0,
       "model_id": "9275b1097dd84c71969479574572d705"
      }
     },
     "metadata": {},
     "output_type": "display_data"
    },
    {
     "data": {
      "text/plain": [
       "<IPython.core.display.HTML object>"
      ],
      "text/html": [
       "<style>\n",
       "    table.wandb td:nth-child(1) { padding: 0 10px; text-align: left ; width: auto;} td:nth-child(2) {text-align: left ; width: 100%}\n",
       "    .wandb-row { display: flex; flex-direction: row; flex-wrap: wrap; justify-content: flex-start; width: 100% }\n",
       "    .wandb-col { display: flex; flex-direction: column; flex-basis: 100%; flex: 1; padding: 10px; }\n",
       "    </style>\n",
       "<div class=\"wandb-row\"><div class=\"wandb-col\"><h3>Run history:</h3><br/><table class=\"wandb\"><tr><td>epoch</td><td>▁▁▁▂▂▂▂▃▃▃▃▄▄▄▄▅▅▅▅▆▆▆▆▇▇▇▇███</td></tr><tr><td>train_accuracy</td><td>▁▄▅▅▆▆▆▇▇▇▇▇▇▇▇▇▇█████████████</td></tr><tr><td>train_loss</td><td>█▅▄▄▃▃▃▂▂▂▂▂▂▂▂▂▂▁▁▁▁▁▁▁▁▁▁▁▁▁</td></tr><tr><td>validation_accuracy</td><td>▁▄▅▆▆▇▇▇▇▇▇▇█▇████████████████</td></tr></table><br/></div><div class=\"wandb-col\"><h3>Run summary:</h3><br/><table class=\"wandb\"><tr><td>epoch</td><td>30</td></tr><tr><td>train_accuracy</td><td>0.91749</td></tr><tr><td>train_loss</td><td>0.2448</td></tr><tr><td>validation_accuracy</td><td>0.87156</td></tr></table><br/></div></div>"
      ]
     },
     "metadata": {},
     "output_type": "display_data"
    },
    {
     "data": {
      "text/plain": [
       "<IPython.core.display.HTML object>"
      ],
      "text/html": [
       " View run <strong style=\"color:#cdcd00\">rare-sweep-8</strong> at: <a href='https://wandb.ai/spajro-chess/raport/runs/pniyx57d' target=\"_blank\">https://wandb.ai/spajro-chess/raport/runs/pniyx57d</a><br/> View project at: <a href='https://wandb.ai/spajro-chess/raport' target=\"_blank\">https://wandb.ai/spajro-chess/raport</a><br/>Synced 5 W&B file(s), 0 media file(s), 0 artifact file(s) and 0 other file(s)"
      ]
     },
     "metadata": {},
     "output_type": "display_data"
    },
    {
     "data": {
      "text/plain": [
       "<IPython.core.display.HTML object>"
      ],
      "text/html": [
       "Find logs at: <code>.\\wandb\\run-20240617_070510-pniyx57d\\logs</code>"
      ]
     },
     "metadata": {},
     "output_type": "display_data"
    },
    {
     "name": "stderr",
     "output_type": "stream",
     "text": [
      "wandb: Agent Starting Run: qx0whcur with config:\n",
      "wandb: \tcriterion: CrossEntropy\n",
      "wandb: \tepochs: 30\n",
      "wandb: \tlearning_rate: 0.001\n",
      "wandb: \tmodel: 2\n",
      "wandb: \toptimizer: adam\n"
     ]
    },
    {
     "data": {
      "text/plain": [
       "<IPython.core.display.HTML object>"
      ],
      "text/html": [
       "Tracking run with wandb version 0.17.1"
      ]
     },
     "metadata": {},
     "output_type": "display_data"
    },
    {
     "data": {
      "text/plain": [
       "<IPython.core.display.HTML object>"
      ],
      "text/html": [
       "Run data is saved locally in <code>D:\\Projekty\\TacticsClassifier\\wandb\\run-20240617_072012-qx0whcur</code>"
      ]
     },
     "metadata": {},
     "output_type": "display_data"
    },
    {
     "data": {
      "text/plain": [
       "<IPython.core.display.HTML object>"
      ],
      "text/html": [
       "Syncing run <strong><a href='https://wandb.ai/spajro-chess/raport/runs/qx0whcur' target=\"_blank\">proud-sweep-9</a></strong> to <a href='https://wandb.ai/spajro-chess/raport' target=\"_blank\">Weights & Biases</a> (<a href='https://wandb.me/run' target=\"_blank\">docs</a>)<br/>Sweep page: <a href='https://wandb.ai/spajro-chess/raport/sweeps/ai82s9v2' target=\"_blank\">https://wandb.ai/spajro-chess/raport/sweeps/ai82s9v2</a>"
      ]
     },
     "metadata": {},
     "output_type": "display_data"
    },
    {
     "data": {
      "text/plain": [
       "<IPython.core.display.HTML object>"
      ],
      "text/html": [
       " View project at <a href='https://wandb.ai/spajro-chess/raport' target=\"_blank\">https://wandb.ai/spajro-chess/raport</a>"
      ]
     },
     "metadata": {},
     "output_type": "display_data"
    },
    {
     "data": {
      "text/plain": [
       "<IPython.core.display.HTML object>"
      ],
      "text/html": [
       " View sweep at <a href='https://wandb.ai/spajro-chess/raport/sweeps/ai82s9v2' target=\"_blank\">https://wandb.ai/spajro-chess/raport/sweeps/ai82s9v2</a>"
      ]
     },
     "metadata": {},
     "output_type": "display_data"
    },
    {
     "data": {
      "text/plain": [
       "<IPython.core.display.HTML object>"
      ],
      "text/html": [
       " View run at <a href='https://wandb.ai/spajro-chess/raport/runs/qx0whcur' target=\"_blank\">https://wandb.ai/spajro-chess/raport/runs/qx0whcur</a>"
      ]
     },
     "metadata": {},
     "output_type": "display_data"
    },
    {
     "name": "stdout",
     "output_type": "stream",
     "text": [
      "Epoch [1/30], train_loss: 0.8642724216160649, train_accuracy: 0.7144578987312213, validation_accuracy: 0.79765625, time: 26.636s\n",
      "Epoch [2/30], train_loss: 0.5853078139494521, train_accuracy: 0.8083429010663968, validation_accuracy: 0.8308125, time: 29.761s\n",
      "Epoch [3/30], train_loss: 0.5030367354585975, train_accuracy: 0.8352521503074648, validation_accuracy: 0.84215625, time: 30.543s\n",
      "Epoch [4/30], train_loss: 0.456254353942069, train_accuracy: 0.8507494453958122, validation_accuracy: 0.85225, time: 30.606s\n",
      "Epoch [5/30], train_loss: 0.4241911712577206, train_accuracy: 0.8606848875223788, validation_accuracy: 0.86209375, time: 26.483s\n",
      "Epoch [6/30], train_loss: 0.39950182201023127, train_accuracy: 0.8683459659842765, validation_accuracy: 0.86425, time: 29.708s\n",
      "Epoch [7/30], train_loss: 0.3806536258510405, train_accuracy: 0.8745402623180509, validation_accuracy: 0.86584375, time: 30.58s\n",
      "Epoch [8/30], train_loss: 0.36406418275065744, train_accuracy: 0.8798807600996341, validation_accuracy: 0.869625, time: 30.474s\n",
      "Epoch [9/30], train_loss: 0.35124569834194974, train_accuracy: 0.8841959698762357, validation_accuracy: 0.86340625, time: 26.794s\n",
      "Epoch [10/30], train_loss: 0.3391163482668486, train_accuracy: 0.8877960321475831, validation_accuracy: 0.871, time: 29.566s\n",
      "Epoch [11/30], train_loss: 0.3292420844882297, train_accuracy: 0.8909424379232506, validation_accuracy: 0.868375, time: 30.627s\n",
      "Epoch [12/30], train_loss: 0.3195468511009338, train_accuracy: 0.89411803339301, validation_accuracy: 0.872875, time: 30.648s\n",
      "Epoch [13/30], train_loss: 0.312538817272343, train_accuracy: 0.8963996944812018, validation_accuracy: 0.87415625, time: 26.972s\n",
      "Epoch [14/30], train_loss: 0.3052921720948689, train_accuracy: 0.8991714991826886, validation_accuracy: 0.8744375, time: 29.422s\n",
      "Epoch [15/30], train_loss: 0.29954822323047775, train_accuracy: 0.9007817973067642, validation_accuracy: 0.87203125, time: 30.618s\n",
      "Epoch [16/30], train_loss: 0.29327271600779675, train_accuracy: 0.9023203374328637, validation_accuracy: 0.87603125, time: 30.654s\n",
      "Epoch [17/30], train_loss: 0.28768028291740466, train_accuracy: 0.9045338892348408, validation_accuracy: 0.874375, time: 26.932s\n",
      "Epoch [18/30], train_loss: 0.28176610042698663, train_accuracy: 0.9064251381645521, validation_accuracy: 0.87315625, time: 29.267s\n",
      "Epoch [19/30], train_loss: 0.2779047415393362, train_accuracy: 0.907799486261384, validation_accuracy: 0.87409375, time: 30.599s\n",
      "Epoch [20/30], train_loss: 0.27398945908490957, train_accuracy: 0.9089500467035105, validation_accuracy: 0.8736875, time: 30.447s\n",
      "Epoch [21/30], train_loss: 0.26982106714486737, train_accuracy: 0.9102477718533509, validation_accuracy: 0.8755, time: 27.195s\n",
      "Epoch [22/30], train_loss: 0.2649777469612995, train_accuracy: 0.9115795516462988, validation_accuracy: 0.87321875, time: 29.107s\n",
      "Epoch [23/30], train_loss: 0.2613728681715955, train_accuracy: 0.9130524149606912, validation_accuracy: 0.8730625, time: 30.603s\n",
      "Epoch [24/30], train_loss: 0.25815155965907405, train_accuracy: 0.9143391939752471, validation_accuracy: 0.87659375, time: 30.665s\n",
      "Epoch [25/30], train_loss: 0.25487882841091086, train_accuracy: 0.9146712267455437, validation_accuracy: 0.8745625, time: 27.33s\n",
      "Epoch [26/30], train_loss: 0.2517206116619417, train_accuracy: 0.9164019323577489, validation_accuracy: 0.87334375, time: 29.009s\n",
      "Epoch [27/30], train_loss: 0.24797981979130115, train_accuracy: 0.9170428893905191, validation_accuracy: 0.87315625, time: 30.715s\n",
      "Epoch [28/30], train_loss: 0.24543370547793347, train_accuracy: 0.9181764225110921, validation_accuracy: 0.87475, time: 30.587s\n",
      "Epoch [29/30], train_loss: 0.24311831028717493, train_accuracy: 0.9188818401183155, validation_accuracy: 0.875625, time: 27.367s\n",
      "Epoch [30/30], train_loss: 0.24000793070426324, train_accuracy: 0.9197149626371915, validation_accuracy: 0.87403125, time: 28.928s\n"
     ]
    },
    {
     "data": {
      "text/plain": [
       "VBox(children=(Label(value='0.001 MB of 0.008 MB uploaded\\r'), FloatProgress(value=0.16305747395528503, max=1.…"
      ],
      "application/vnd.jupyter.widget-view+json": {
       "version_major": 2,
       "version_minor": 0,
       "model_id": "68d24d545d2b47aab5b514692b73c981"
      }
     },
     "metadata": {},
     "output_type": "display_data"
    },
    {
     "data": {
      "text/plain": [
       "<IPython.core.display.HTML object>"
      ],
      "text/html": [
       "<style>\n",
       "    table.wandb td:nth-child(1) { padding: 0 10px; text-align: left ; width: auto;} td:nth-child(2) {text-align: left ; width: 100%}\n",
       "    .wandb-row { display: flex; flex-direction: row; flex-wrap: wrap; justify-content: flex-start; width: 100% }\n",
       "    .wandb-col { display: flex; flex-direction: column; flex-basis: 100%; flex: 1; padding: 10px; }\n",
       "    </style>\n",
       "<div class=\"wandb-row\"><div class=\"wandb-col\"><h3>Run history:</h3><br/><table class=\"wandb\"><tr><td>epoch</td><td>▁▁▁▂▂▂▂▃▃▃▃▄▄▄▄▅▅▅▅▆▆▆▆▇▇▇▇███</td></tr><tr><td>train_accuracy</td><td>▁▄▅▆▆▆▆▇▇▇▇▇▇▇▇▇▇█████████████</td></tr><tr><td>train_loss</td><td>█▅▄▃▃▃▃▂▂▂▂▂▂▂▂▂▂▁▁▁▁▁▁▁▁▁▁▁▁▁</td></tr><tr><td>validation_accuracy</td><td>▁▄▅▆▇▇▇▇▇█▇███████████████████</td></tr></table><br/></div><div class=\"wandb-col\"><h3>Run summary:</h3><br/><table class=\"wandb\"><tr><td>epoch</td><td>30</td></tr><tr><td>train_accuracy</td><td>0.91971</td></tr><tr><td>train_loss</td><td>0.24001</td></tr><tr><td>validation_accuracy</td><td>0.87403</td></tr></table><br/></div></div>"
      ]
     },
     "metadata": {},
     "output_type": "display_data"
    },
    {
     "data": {
      "text/plain": [
       "<IPython.core.display.HTML object>"
      ],
      "text/html": [
       " View run <strong style=\"color:#cdcd00\">proud-sweep-9</strong> at: <a href='https://wandb.ai/spajro-chess/raport/runs/qx0whcur' target=\"_blank\">https://wandb.ai/spajro-chess/raport/runs/qx0whcur</a><br/> View project at: <a href='https://wandb.ai/spajro-chess/raport' target=\"_blank\">https://wandb.ai/spajro-chess/raport</a><br/>Synced 5 W&B file(s), 0 media file(s), 0 artifact file(s) and 0 other file(s)"
      ]
     },
     "metadata": {},
     "output_type": "display_data"
    },
    {
     "data": {
      "text/plain": [
       "<IPython.core.display.HTML object>"
      ],
      "text/html": [
       "Find logs at: <code>.\\wandb\\run-20240617_072012-qx0whcur\\logs</code>"
      ]
     },
     "metadata": {},
     "output_type": "display_data"
    },
    {
     "name": "stderr",
     "output_type": "stream",
     "text": [
      "wandb: Sweep Agent: Waiting for job.\n",
      "wandb: Job received.\n",
      "wandb: Agent Starting Run: q1btayg9 with config:\n",
      "wandb: \tcriterion: CrossEntropy\n",
      "wandb: \tepochs: 30\n",
      "wandb: \tlearning_rate: 0.001\n",
      "wandb: \tmodel: 2\n",
      "wandb: \toptimizer: adam\n"
     ]
    },
    {
     "data": {
      "text/plain": [
       "<IPython.core.display.HTML object>"
      ],
      "text/html": [
       "Tracking run with wandb version 0.17.1"
      ]
     },
     "metadata": {},
     "output_type": "display_data"
    },
    {
     "data": {
      "text/plain": [
       "<IPython.core.display.HTML object>"
      ],
      "text/html": [
       "Run data is saved locally in <code>D:\\Projekty\\TacticsClassifier\\wandb\\run-20240617_073519-q1btayg9</code>"
      ]
     },
     "metadata": {},
     "output_type": "display_data"
    },
    {
     "data": {
      "text/plain": [
       "<IPython.core.display.HTML object>"
      ],
      "text/html": [
       "Syncing run <strong><a href='https://wandb.ai/spajro-chess/raport/runs/q1btayg9' target=\"_blank\">ethereal-sweep-10</a></strong> to <a href='https://wandb.ai/spajro-chess/raport' target=\"_blank\">Weights & Biases</a> (<a href='https://wandb.me/run' target=\"_blank\">docs</a>)<br/>Sweep page: <a href='https://wandb.ai/spajro-chess/raport/sweeps/ai82s9v2' target=\"_blank\">https://wandb.ai/spajro-chess/raport/sweeps/ai82s9v2</a>"
      ]
     },
     "metadata": {},
     "output_type": "display_data"
    },
    {
     "data": {
      "text/plain": [
       "<IPython.core.display.HTML object>"
      ],
      "text/html": [
       " View project at <a href='https://wandb.ai/spajro-chess/raport' target=\"_blank\">https://wandb.ai/spajro-chess/raport</a>"
      ]
     },
     "metadata": {},
     "output_type": "display_data"
    },
    {
     "data": {
      "text/plain": [
       "<IPython.core.display.HTML object>"
      ],
      "text/html": [
       " View sweep at <a href='https://wandb.ai/spajro-chess/raport/sweeps/ai82s9v2' target=\"_blank\">https://wandb.ai/spajro-chess/raport/sweeps/ai82s9v2</a>"
      ]
     },
     "metadata": {},
     "output_type": "display_data"
    },
    {
     "data": {
      "text/plain": [
       "<IPython.core.display.HTML object>"
      ],
      "text/html": [
       " View run at <a href='https://wandb.ai/spajro-chess/raport/runs/q1btayg9' target=\"_blank\">https://wandb.ai/spajro-chess/raport/runs/q1btayg9</a>"
      ]
     },
     "metadata": {},
     "output_type": "display_data"
    },
    {
     "name": "stdout",
     "output_type": "stream",
     "text": [
      "Epoch [1/30], train_loss: 0.881973423316032, train_accuracy: 0.709322945045536, validation_accuracy: 0.78840625, time: 30.861s\n",
      "Epoch [2/30], train_loss: 0.5837807554980424, train_accuracy: 0.8090179127422744, validation_accuracy: 0.828875, time: 29.661s\n",
      "Epoch [3/30], train_loss: 0.5046221046423118, train_accuracy: 0.8348994415038531, validation_accuracy: 0.8386875, time: 26.532s\n",
      "Epoch [4/30], train_loss: 0.458865685759467, train_accuracy: 0.8497411847123842, validation_accuracy: 0.8550625, time: 30.579s\n",
      "Epoch [5/30], train_loss: 0.4255710442996242, train_accuracy: 0.8606362380322254, validation_accuracy: 0.8566875, time: 30.708s\n",
      "Epoch [6/30], train_loss: 0.4019113162166647, train_accuracy: 0.867662440647622, validation_accuracy: 0.86325, time: 29.852s\n",
      "Epoch [7/30], train_loss: 0.3822505061092837, train_accuracy: 0.874247149139877, validation_accuracy: 0.862875, time: 26.427s\n",
      "Epoch [8/30], train_loss: 0.3668852214999929, train_accuracy: 0.8788445259593679, validation_accuracy: 0.86671875, time: 30.696s\n",
      "Epoch [9/30], train_loss: 0.35381659447005487, train_accuracy: 0.8829566241145793, validation_accuracy: 0.86821875, time: 30.632s\n",
      "Epoch [10/30], train_loss: 0.342625508569874, train_accuracy: 0.886714797228925, validation_accuracy: 0.8700625, time: 29.997s\n",
      "Epoch [11/30], train_loss: 0.33277704648547685, train_accuracy: 0.8899207986300304, validation_accuracy: 0.86684375, time: 26.271s\n",
      "Epoch [12/30], train_loss: 0.3244321428310679, train_accuracy: 0.8926646298746789, validation_accuracy: 0.86884375, time: 30.627s\n",
      "Epoch [13/30], train_loss: 0.31599524214015895, train_accuracy: 0.8954206234918658, validation_accuracy: 0.8683125, time: 30.651s\n",
      "Epoch [14/30], train_loss: 0.31039949561355223, train_accuracy: 0.8973155211333386, validation_accuracy: 0.8700625, time: 30.079s\n",
      "Epoch [15/30], train_loss: 0.3027529267110977, train_accuracy: 0.8997200221841675, validation_accuracy: 0.8706875, time: 26.351s\n",
      "Epoch [16/30], train_loss: 0.29682158500871286, train_accuracy: 0.9016149198256402, validation_accuracy: 0.8710625, time: 30.683s\n",
      "Epoch [17/30], train_loss: 0.291535760638994, train_accuracy: 0.9030938643263019, validation_accuracy: 0.87303125, time: 30.754s\n",
      "Epoch [18/30], train_loss: 0.28616902024708524, train_accuracy: 0.9048221374639994, validation_accuracy: 0.8735625, time: 30.227s\n",
      "Epoch [19/30], train_loss: 0.2812711193031343, train_accuracy: 0.9062390538647155, validation_accuracy: 0.87190625, time: 26.23s\n",
      "Epoch [20/30], train_loss: 0.2775660824728604, train_accuracy: 0.9075063730832101, validation_accuracy: 0.868875, time: 30.649s\n",
      "Epoch [21/30], train_loss: 0.27259295139059564, train_accuracy: 0.9091884292052619, validation_accuracy: 0.872, time: 30.713s\n",
      "Epoch [22/30], train_loss: 0.26963275233551137, train_accuracy: 0.9099218202693236, validation_accuracy: 0.869875, time: 30.367s\n",
      "Epoch [23/30], train_loss: 0.26526657983268076, train_accuracy: 0.9114640091071845, validation_accuracy: 0.8736875, time: 26.276s\n",
      "Epoch [24/30], train_loss: 0.2623412632312725, train_accuracy: 0.9126680839884798, validation_accuracy: 0.87153125, time: 30.528s\n",
      "Epoch [25/30], train_loss: 0.2592471194334431, train_accuracy: 0.9134720168132638, validation_accuracy: 0.871, time: 30.666s\n",
      "Epoch [26/30], train_loss: 0.2562101428267454, train_accuracy: 0.914369599906593, validation_accuracy: 0.87321875, time: 30.41s\n",
      "Epoch [27/30], train_loss: 0.25309614297644845, train_accuracy: 0.9154824569938507, validation_accuracy: 0.8709375, time: 26.309s\n",
      "Epoch [28/30], train_loss: 0.24977248767408972, train_accuracy: 0.9162194967696738, validation_accuracy: 0.8659375, time: 30.5s\n",
      "Epoch [29/30], train_loss: 0.24715084232554632, train_accuracy: 0.9174381664980151, validation_accuracy: 0.87084375, time: 30.685s\n",
      "Epoch [30/30], train_loss: 0.24392514377704824, train_accuracy: 0.9180584474974702, validation_accuracy: 0.8705, time: 30.551s\n"
     ]
    },
    {
     "data": {
      "text/plain": [
       "VBox(children=(Label(value='0.008 MB of 0.008 MB uploaded\\r'), FloatProgress(value=1.0, max=1.0)))"
      ],
      "application/vnd.jupyter.widget-view+json": {
       "version_major": 2,
       "version_minor": 0,
       "model_id": "a3fcb356eeef449ca7e82da37a0283e1"
      }
     },
     "metadata": {},
     "output_type": "display_data"
    },
    {
     "data": {
      "text/plain": [
       "<IPython.core.display.HTML object>"
      ],
      "text/html": [
       "<style>\n",
       "    table.wandb td:nth-child(1) { padding: 0 10px; text-align: left ; width: auto;} td:nth-child(2) {text-align: left ; width: 100%}\n",
       "    .wandb-row { display: flex; flex-direction: row; flex-wrap: wrap; justify-content: flex-start; width: 100% }\n",
       "    .wandb-col { display: flex; flex-direction: column; flex-basis: 100%; flex: 1; padding: 10px; }\n",
       "    </style>\n",
       "<div class=\"wandb-row\"><div class=\"wandb-col\"><h3>Run history:</h3><br/><table class=\"wandb\"><tr><td>epoch</td><td>▁▁▁▂▂▂▂▃▃▃▃▄▄▄▄▅▅▅▅▆▆▆▆▇▇▇▇███</td></tr><tr><td>train_accuracy</td><td>▁▄▅▆▆▆▇▇▇▇▇▇▇▇▇▇▇█████████████</td></tr><tr><td>train_loss</td><td>█▅▄▃▃▃▃▂▂▂▂▂▂▂▂▂▂▁▁▁▁▁▁▁▁▁▁▁▁▁</td></tr><tr><td>validation_accuracy</td><td>▁▄▅▆▇▇▇▇██▇████████████████▇██</td></tr></table><br/></div><div class=\"wandb-col\"><h3>Run summary:</h3><br/><table class=\"wandb\"><tr><td>epoch</td><td>30</td></tr><tr><td>train_accuracy</td><td>0.91806</td></tr><tr><td>train_loss</td><td>0.24393</td></tr><tr><td>validation_accuracy</td><td>0.8705</td></tr></table><br/></div></div>"
      ]
     },
     "metadata": {},
     "output_type": "display_data"
    },
    {
     "data": {
      "text/plain": [
       "<IPython.core.display.HTML object>"
      ],
      "text/html": [
       " View run <strong style=\"color:#cdcd00\">ethereal-sweep-10</strong> at: <a href='https://wandb.ai/spajro-chess/raport/runs/q1btayg9' target=\"_blank\">https://wandb.ai/spajro-chess/raport/runs/q1btayg9</a><br/> View project at: <a href='https://wandb.ai/spajro-chess/raport' target=\"_blank\">https://wandb.ai/spajro-chess/raport</a><br/>Synced 5 W&B file(s), 0 media file(s), 0 artifact file(s) and 0 other file(s)"
      ]
     },
     "metadata": {},
     "output_type": "display_data"
    },
    {
     "data": {
      "text/plain": [
       "<IPython.core.display.HTML object>"
      ],
      "text/html": [
       "Find logs at: <code>.\\wandb\\run-20240617_073519-q1btayg9\\logs</code>"
      ]
     },
     "metadata": {},
     "output_type": "display_data"
    },
    {
     "name": "stderr",
     "output_type": "stream",
     "text": [
      "wandb: Agent Starting Run: j37iz2kq with config:\n",
      "wandb: \tcriterion: CrossEntropy\n",
      "wandb: \tepochs: 30\n",
      "wandb: \tlearning_rate: 0.01\n",
      "wandb: \tmodel: 2\n",
      "wandb: \toptimizer: adam\n"
     ]
    },
    {
     "data": {
      "text/plain": [
       "<IPython.core.display.HTML object>"
      ],
      "text/html": [
       "Tracking run with wandb version 0.17.1"
      ]
     },
     "metadata": {},
     "output_type": "display_data"
    },
    {
     "data": {
      "text/plain": [
       "<IPython.core.display.HTML object>"
      ],
      "text/html": [
       "Run data is saved locally in <code>D:\\Projekty\\TacticsClassifier\\wandb\\run-20240617_075024-j37iz2kq</code>"
      ]
     },
     "metadata": {},
     "output_type": "display_data"
    },
    {
     "data": {
      "text/plain": [
       "<IPython.core.display.HTML object>"
      ],
      "text/html": [
       "Syncing run <strong><a href='https://wandb.ai/spajro-chess/raport/runs/j37iz2kq' target=\"_blank\">decent-sweep-11</a></strong> to <a href='https://wandb.ai/spajro-chess/raport' target=\"_blank\">Weights & Biases</a> (<a href='https://wandb.me/run' target=\"_blank\">docs</a>)<br/>Sweep page: <a href='https://wandb.ai/spajro-chess/raport/sweeps/ai82s9v2' target=\"_blank\">https://wandb.ai/spajro-chess/raport/sweeps/ai82s9v2</a>"
      ]
     },
     "metadata": {},
     "output_type": "display_data"
    },
    {
     "data": {
      "text/plain": [
       "<IPython.core.display.HTML object>"
      ],
      "text/html": [
       " View project at <a href='https://wandb.ai/spajro-chess/raport' target=\"_blank\">https://wandb.ai/spajro-chess/raport</a>"
      ]
     },
     "metadata": {},
     "output_type": "display_data"
    },
    {
     "data": {
      "text/plain": [
       "<IPython.core.display.HTML object>"
      ],
      "text/html": [
       " View sweep at <a href='https://wandb.ai/spajro-chess/raport/sweeps/ai82s9v2' target=\"_blank\">https://wandb.ai/spajro-chess/raport/sweeps/ai82s9v2</a>"
      ]
     },
     "metadata": {},
     "output_type": "display_data"
    },
    {
     "data": {
      "text/plain": [
       "<IPython.core.display.HTML object>"
      ],
      "text/html": [
       " View run at <a href='https://wandb.ai/spajro-chess/raport/runs/j37iz2kq' target=\"_blank\">https://wandb.ai/spajro-chess/raport/runs/j37iz2kq</a>"
      ]
     },
     "metadata": {},
     "output_type": "display_data"
    },
    {
     "name": "stdout",
     "output_type": "stream",
     "text": [
      "Epoch [1/30], train_loss: 1.8661308305183903, train_accuracy: 0.38335433369658284, validation_accuracy: 0.38334375, time: 27.342s\n",
      "Epoch [2/30], train_loss: 1.8602814848361575, train_accuracy: 0.3836912314158948, validation_accuracy: 0.38334375, time: 30.66s\n",
      "Epoch [3/30], train_loss: 1.8616116622213057, train_accuracy: 0.3836413656884876, validation_accuracy: 0.38334375, time: 30.688s\n",
      "Epoch [4/30], train_loss: 1.8603177242560396, train_accuracy: 0.3836912314158948, validation_accuracy: 0.38334375, time: 29.196s\n",
      "Epoch [5/30], train_loss: 1.8603269167889915, train_accuracy: 0.3836912314158948, validation_accuracy: 0.38334375, time: 27.099s\n",
      "Epoch [6/30], train_loss: 1.8603763657524826, train_accuracy: 0.3836912314158948, validation_accuracy: 0.38334375, time: 30.675s\n",
      "Epoch [7/30], train_loss: 1.8604090888648495, train_accuracy: 0.3836912314158948, validation_accuracy: 0.38334375, time: 30.451s\n",
      "Epoch [8/30], train_loss: 1.8603215658721306, train_accuracy: 0.3836912314158948, validation_accuracy: 0.38334375, time: 29.212s\n",
      "Epoch [9/30], train_loss: 1.8602604934322404, train_accuracy: 0.3836912314158948, validation_accuracy: 0.38334375, time: 26.982s\n",
      "Epoch [10/30], train_loss: 1.8602731692528385, train_accuracy: 0.3836912314158948, validation_accuracy: 0.38334375, time: 30.583s\n",
      "Epoch [11/30], train_loss: 1.8602951639699057, train_accuracy: 0.3836912314158948, validation_accuracy: 0.38334375, time: 30.613s\n",
      "Epoch [12/30], train_loss: 1.8602872687647332, train_accuracy: 0.3836912314158948, validation_accuracy: 0.38334375, time: 29.53s\n",
      "Epoch [13/30], train_loss: 1.8603850795367705, train_accuracy: 0.3836912314158948, validation_accuracy: 0.38334375, time: 26.818s\n",
      "Epoch [14/30], train_loss: 1.8602960292602815, train_accuracy: 0.3836912314158948, validation_accuracy: 0.38334375, time: 30.713s\n",
      "Epoch [15/30], train_loss: 1.8603198809169783, train_accuracy: 0.3836912314158948, validation_accuracy: 0.38334375, time: 30.511s\n",
      "Epoch [16/30], train_loss: 1.8603303717705788, train_accuracy: 0.3836912314158948, validation_accuracy: 0.38334375, time: 29.588s\n",
      "Epoch [17/30], train_loss: 1.8602535908181557, train_accuracy: 0.3836912314158948, validation_accuracy: 0.38334375, time: 26.624s\n",
      "Epoch [18/30], train_loss: 1.8602812273628362, train_accuracy: 0.3836912314158948, validation_accuracy: 0.38334375, time: 30.705s\n",
      "Epoch [19/30], train_loss: 1.8603407302292125, train_accuracy: 0.3836912314158948, validation_accuracy: 0.38334375, time: 30.471s\n",
      "Epoch [20/30], train_loss: 1.8603176859702508, train_accuracy: 0.3836912314158948, validation_accuracy: 0.38334375, time: 30.475s\n",
      "Epoch [21/30], train_loss: 1.8602924938284304, train_accuracy: 0.3836912314158948, validation_accuracy: 0.38334375, time: 28.659s\n",
      "Epoch [22/30], train_loss: 1.8603029377202334, train_accuracy: 0.3836912314158948, validation_accuracy: 0.38334375, time: 30.671s\n",
      "Epoch [23/30], train_loss: 1.860322497888902, train_accuracy: 0.3836912314158948, validation_accuracy: 0.38334375, time: 30.67s\n",
      "Epoch [24/30], train_loss: 1.8604546651549216, train_accuracy: 0.3836912314158948, validation_accuracy: 0.38334375, time: 29.449s\n",
      "Epoch [25/30], train_loss: 1.8603750569649482, train_accuracy: 0.3836912314158948, validation_accuracy: 0.38334375, time: 26.704s\n",
      "Epoch [26/30], train_loss: 1.8603459610831017, train_accuracy: 0.3836912314158948, validation_accuracy: 0.38334375, time: 30.727s\n",
      "Epoch [27/30], train_loss: 1.860360090942469, train_accuracy: 0.3836912314158948, validation_accuracy: 0.38334375, time: 30.683s\n",
      "Epoch [28/30], train_loss: 1.8602636519077456, train_accuracy: 0.3836912314158948, validation_accuracy: 0.38334375, time: 30.672s\n",
      "Epoch [29/30], train_loss: 1.8603022736204713, train_accuracy: 0.3836912314158948, validation_accuracy: 0.38334375, time: 28.805s\n",
      "Epoch [30/30], train_loss: 1.8602552231326681, train_accuracy: 0.3836912314158948, validation_accuracy: 0.38334375, time: 30.617s\n"
     ]
    },
    {
     "data": {
      "text/plain": [
       "VBox(children=(Label(value='0.001 MB of 0.001 MB uploaded\\r'), FloatProgress(value=1.0, max=1.0)))"
      ],
      "application/vnd.jupyter.widget-view+json": {
       "version_major": 2,
       "version_minor": 0,
       "model_id": "d2d5119fd8664fbea9ed59ab0e1225a2"
      }
     },
     "metadata": {},
     "output_type": "display_data"
    },
    {
     "data": {
      "text/plain": [
       "<IPython.core.display.HTML object>"
      ],
      "text/html": [
       "<style>\n",
       "    table.wandb td:nth-child(1) { padding: 0 10px; text-align: left ; width: auto;} td:nth-child(2) {text-align: left ; width: 100%}\n",
       "    .wandb-row { display: flex; flex-direction: row; flex-wrap: wrap; justify-content: flex-start; width: 100% }\n",
       "    .wandb-col { display: flex; flex-direction: column; flex-basis: 100%; flex: 1; padding: 10px; }\n",
       "    </style>\n",
       "<div class=\"wandb-row\"><div class=\"wandb-col\"><h3>Run history:</h3><br/><table class=\"wandb\"><tr><td>epoch</td><td>▁▁▁▂▂▂▂▃▃▃▃▄▄▄▄▅▅▅▅▆▆▆▆▇▇▇▇███</td></tr><tr><td>train_accuracy</td><td>▁█▇███████████████████████████</td></tr><tr><td>train_loss</td><td>█▁▃▁▁▁▁▁▁▁▁▁▁▁▁▁▁▁▁▁▁▁▁▁▁▁▁▁▁▁</td></tr><tr><td>validation_accuracy</td><td>▁▁▁▁▁▁▁▁▁▁▁▁▁▁▁▁▁▁▁▁▁▁▁▁▁▁▁▁▁▁</td></tr></table><br/></div><div class=\"wandb-col\"><h3>Run summary:</h3><br/><table class=\"wandb\"><tr><td>epoch</td><td>30</td></tr><tr><td>train_accuracy</td><td>0.38369</td></tr><tr><td>train_loss</td><td>1.86026</td></tr><tr><td>validation_accuracy</td><td>0.38334</td></tr></table><br/></div></div>"
      ]
     },
     "metadata": {},
     "output_type": "display_data"
    },
    {
     "data": {
      "text/plain": [
       "<IPython.core.display.HTML object>"
      ],
      "text/html": [
       " View run <strong style=\"color:#cdcd00\">decent-sweep-11</strong> at: <a href='https://wandb.ai/spajro-chess/raport/runs/j37iz2kq' target=\"_blank\">https://wandb.ai/spajro-chess/raport/runs/j37iz2kq</a><br/> View project at: <a href='https://wandb.ai/spajro-chess/raport' target=\"_blank\">https://wandb.ai/spajro-chess/raport</a><br/>Synced 5 W&B file(s), 0 media file(s), 0 artifact file(s) and 0 other file(s)"
      ]
     },
     "metadata": {},
     "output_type": "display_data"
    },
    {
     "data": {
      "text/plain": [
       "<IPython.core.display.HTML object>"
      ],
      "text/html": [
       "Find logs at: <code>.\\wandb\\run-20240617_075024-j37iz2kq\\logs</code>"
      ]
     },
     "metadata": {},
     "output_type": "display_data"
    },
    {
     "name": "stderr",
     "output_type": "stream",
     "text": [
      "wandb: Sweep Agent: Waiting for job.\n",
      "wandb: Job received.\n",
      "wandb: Agent Starting Run: bieot4sq with config:\n",
      "wandb: \tcriterion: CrossEntropy\n",
      "wandb: \tepochs: 30\n",
      "wandb: \tlearning_rate: 0.001\n",
      "wandb: \tmodel: 2\n",
      "wandb: \toptimizer: adam\n"
     ]
    },
    {
     "data": {
      "text/plain": [
       "<IPython.core.display.HTML object>"
      ],
      "text/html": [
       "Tracking run with wandb version 0.17.1"
      ]
     },
     "metadata": {},
     "output_type": "display_data"
    },
    {
     "data": {
      "text/plain": [
       "<IPython.core.display.HTML object>"
      ],
      "text/html": [
       "Run data is saved locally in <code>D:\\Projekty\\TacticsClassifier\\wandb\\run-20240617_080539-bieot4sq</code>"
      ]
     },
     "metadata": {},
     "output_type": "display_data"
    },
    {
     "data": {
      "text/plain": [
       "<IPython.core.display.HTML object>"
      ],
      "text/html": [
       "Syncing run <strong><a href='https://wandb.ai/spajro-chess/raport/runs/bieot4sq' target=\"_blank\">eager-sweep-12</a></strong> to <a href='https://wandb.ai/spajro-chess/raport' target=\"_blank\">Weights & Biases</a> (<a href='https://wandb.me/run' target=\"_blank\">docs</a>)<br/>Sweep page: <a href='https://wandb.ai/spajro-chess/raport/sweeps/ai82s9v2' target=\"_blank\">https://wandb.ai/spajro-chess/raport/sweeps/ai82s9v2</a>"
      ]
     },
     "metadata": {},
     "output_type": "display_data"
    },
    {
     "data": {
      "text/plain": [
       "<IPython.core.display.HTML object>"
      ],
      "text/html": [
       " View project at <a href='https://wandb.ai/spajro-chess/raport' target=\"_blank\">https://wandb.ai/spajro-chess/raport</a>"
      ]
     },
     "metadata": {},
     "output_type": "display_data"
    },
    {
     "data": {
      "text/plain": [
       "<IPython.core.display.HTML object>"
      ],
      "text/html": [
       " View sweep at <a href='https://wandb.ai/spajro-chess/raport/sweeps/ai82s9v2' target=\"_blank\">https://wandb.ai/spajro-chess/raport/sweeps/ai82s9v2</a>"
      ]
     },
     "metadata": {},
     "output_type": "display_data"
    },
    {
     "data": {
      "text/plain": [
       "<IPython.core.display.HTML object>"
      ],
      "text/html": [
       " View run at <a href='https://wandb.ai/spajro-chess/raport/runs/bieot4sq' target=\"_blank\">https://wandb.ai/spajro-chess/raport/runs/bieot4sq</a>"
      ]
     },
     "metadata": {},
     "output_type": "display_data"
    },
    {
     "name": "stdout",
     "output_type": "stream",
     "text": [
      "Epoch [1/30], train_loss: 0.8600711941735294, train_accuracy: 0.7158930586907449, validation_accuracy: 0.79996875, time: 30.593s\n",
      "Epoch [2/30], train_loss: 0.5730985152755738, train_accuracy: 0.8116972834124698, validation_accuracy: 0.83115625, time: 27.405s\n",
      "Epoch [3/30], train_loss: 0.4974826531943026, train_accuracy: 0.8362214913987701, validation_accuracy: 0.84246875, time: 29.46s\n",
      "Epoch [4/30], train_loss: 0.4540602693649858, train_accuracy: 0.850356600762824, validation_accuracy: 0.85134375, time: 30.491s\n",
      "Epoch [5/30], train_loss: 0.4224605388452805, train_accuracy: 0.8612759788277419, validation_accuracy: 0.85859375, time: 30.604s\n",
      "Epoch [6/30], train_loss: 0.39941460314467975, train_accuracy: 0.8682875865960925, validation_accuracy: 0.86290625, time: 27.011s\n",
      "Epoch [7/30], train_loss: 0.37958067618794705, train_accuracy: 0.8748881061726473, validation_accuracy: 0.86375, time: 29.34s\n",
      "Epoch [8/30], train_loss: 0.3651176074345334, train_accuracy: 0.879421022417685, validation_accuracy: 0.86953125, time: 30.673s\n",
      "Epoch [9/30], train_loss: 0.3515550282896099, train_accuracy: 0.8836985288394178, validation_accuracy: 0.8680625, time: 30.654s\n",
      "Epoch [10/30], train_loss: 0.33976196645101314, train_accuracy: 0.8872511578578657, validation_accuracy: 0.86909375, time: 27.024s\n",
      "Epoch [11/30], train_loss: 0.3302524200658525, train_accuracy: 0.8905727017980851, validation_accuracy: 0.86978125, time: 29.224s\n",
      "Epoch [12/30], train_loss: 0.32116080137817715, train_accuracy: 0.8936047812718922, validation_accuracy: 0.87253125, time: 30.588s\n",
      "Epoch [13/30], train_loss: 0.3134863844536163, train_accuracy: 0.8960749591344283, validation_accuracy: 0.87265625, time: 30.38s\n",
      "Epoch [14/30], train_loss: 0.30628995025969624, train_accuracy: 0.8979710730131548, validation_accuracy: 0.87296875, time: 27.262s\n",
      "Epoch [15/30], train_loss: 0.29991064904946485, train_accuracy: 0.9001043531563789, validation_accuracy: 0.87375, time: 29.108s\n",
      "Epoch [16/30], train_loss: 0.2936665037435354, train_accuracy: 0.9025234490542539, validation_accuracy: 0.87440625, time: 30.648s\n",
      "Epoch [17/30], train_loss: 0.28902211074504286, train_accuracy: 0.9038357690511404, validation_accuracy: 0.872, time: 30.62s\n",
      "Epoch [18/30], train_loss: 0.2843550222544454, train_accuracy: 0.905270929010664, validation_accuracy: 0.86915625, time: 27.441s\n",
      "Epoch [19/30], train_loss: 0.27886905647930843, train_accuracy: 0.9070223106561843, validation_accuracy: 0.87253125, time: 28.98s\n",
      "Epoch [20/30], train_loss: 0.2748865208753753, train_accuracy: 0.9079843543239667, validation_accuracy: 0.87353125, time: 30.801s\n",
      "Epoch [21/30], train_loss: 0.2707373772232677, train_accuracy: 0.9098184401027477, validation_accuracy: 0.8733125, time: 30.658s\n",
      "Epoch [22/30], train_loss: 0.26686416807107965, train_accuracy: 0.9107938623803222, validation_accuracy: 0.87021875, time: 27.426s\n",
      "Epoch [23/30], train_loss: 0.2631518370064119, train_accuracy: 0.9121025336654471, validation_accuracy: 0.87178125, time: 28.848s\n",
      "Epoch [24/30], train_loss: 0.25942580100745394, train_accuracy: 0.9130329551646299, validation_accuracy: 0.86946875, time: 30.677s\n",
      "Epoch [25/30], train_loss: 0.2570064577573495, train_accuracy: 0.9140363508990426, validation_accuracy: 0.87203125, time: 30.544s\n",
      "Epoch [26/30], train_loss: 0.2536497996327706, train_accuracy: 0.9152075873744843, validation_accuracy: 0.8741875, time: 28.185s\n",
      "Epoch [27/30], train_loss: 0.25065177833530805, train_accuracy: 0.9161404413481746, validation_accuracy: 0.87025, time: 28.849s\n",
      "Epoch [28/30], train_loss: 0.24750274850199547, train_accuracy: 0.9170319432552347, validation_accuracy: 0.87334375, time: 30.614s\n",
      "Epoch [29/30], train_loss: 0.2456807419824442, train_accuracy: 0.9175184381567681, validation_accuracy: 0.8711875, time: 30.622s\n",
      "Epoch [30/30], train_loss: 0.2435070071737676, train_accuracy: 0.9184610220284891, validation_accuracy: 0.87221875, time: 28.362s\n"
     ]
    },
    {
     "data": {
      "text/plain": [
       "VBox(children=(Label(value='0.001 MB of 0.008 MB uploaded\\r'), FloatProgress(value=0.16286683035192331, max=1.…"
      ],
      "application/vnd.jupyter.widget-view+json": {
       "version_major": 2,
       "version_minor": 0,
       "model_id": "941e93bcd732424a9d3660dc86eee178"
      }
     },
     "metadata": {},
     "output_type": "display_data"
    },
    {
     "data": {
      "text/plain": [
       "<IPython.core.display.HTML object>"
      ],
      "text/html": [
       "<style>\n",
       "    table.wandb td:nth-child(1) { padding: 0 10px; text-align: left ; width: auto;} td:nth-child(2) {text-align: left ; width: 100%}\n",
       "    .wandb-row { display: flex; flex-direction: row; flex-wrap: wrap; justify-content: flex-start; width: 100% }\n",
       "    .wandb-col { display: flex; flex-direction: column; flex-basis: 100%; flex: 1; padding: 10px; }\n",
       "    </style>\n",
       "<div class=\"wandb-row\"><div class=\"wandb-col\"><h3>Run history:</h3><br/><table class=\"wandb\"><tr><td>epoch</td><td>▁▁▁▂▂▂▂▃▃▃▃▄▄▄▄▅▅▅▅▆▆▆▆▇▇▇▇███</td></tr><tr><td>train_accuracy</td><td>▁▄▅▆▆▆▆▇▇▇▇▇▇▇▇▇▇█████████████</td></tr><tr><td>train_loss</td><td>█▅▄▃▃▃▃▂▂▂▂▂▂▂▂▂▂▁▁▁▁▁▁▁▁▁▁▁▁▁</td></tr><tr><td>validation_accuracy</td><td>▁▄▅▆▇▇▇█▇█████████████████████</td></tr></table><br/></div><div class=\"wandb-col\"><h3>Run summary:</h3><br/><table class=\"wandb\"><tr><td>epoch</td><td>30</td></tr><tr><td>train_accuracy</td><td>0.91846</td></tr><tr><td>train_loss</td><td>0.24351</td></tr><tr><td>validation_accuracy</td><td>0.87222</td></tr></table><br/></div></div>"
      ]
     },
     "metadata": {},
     "output_type": "display_data"
    },
    {
     "data": {
      "text/plain": [
       "<IPython.core.display.HTML object>"
      ],
      "text/html": [
       " View run <strong style=\"color:#cdcd00\">eager-sweep-12</strong> at: <a href='https://wandb.ai/spajro-chess/raport/runs/bieot4sq' target=\"_blank\">https://wandb.ai/spajro-chess/raport/runs/bieot4sq</a><br/> View project at: <a href='https://wandb.ai/spajro-chess/raport' target=\"_blank\">https://wandb.ai/spajro-chess/raport</a><br/>Synced 5 W&B file(s), 0 media file(s), 0 artifact file(s) and 0 other file(s)"
      ]
     },
     "metadata": {},
     "output_type": "display_data"
    },
    {
     "data": {
      "text/plain": [
       "<IPython.core.display.HTML object>"
      ],
      "text/html": [
       "Find logs at: <code>.\\wandb\\run-20240617_080539-bieot4sq\\logs</code>"
      ]
     },
     "metadata": {},
     "output_type": "display_data"
    },
    {
     "name": "stderr",
     "output_type": "stream",
     "text": [
      "wandb: Agent Starting Run: 86i5avfj with config:\n",
      "wandb: \tcriterion: CrossEntropy\n",
      "wandb: \tepochs: 30\n",
      "wandb: \tlearning_rate: 0.001\n",
      "wandb: \tmodel: 2\n",
      "wandb: \toptimizer: sgd\n"
     ]
    },
    {
     "data": {
      "text/plain": [
       "<IPython.core.display.HTML object>"
      ],
      "text/html": [
       "Tracking run with wandb version 0.17.1"
      ]
     },
     "metadata": {},
     "output_type": "display_data"
    },
    {
     "data": {
      "text/plain": [
       "<IPython.core.display.HTML object>"
      ],
      "text/html": [
       "Run data is saved locally in <code>D:\\Projekty\\TacticsClassifier\\wandb\\run-20240617_082044-86i5avfj</code>"
      ]
     },
     "metadata": {},
     "output_type": "display_data"
    },
    {
     "data": {
      "text/plain": [
       "<IPython.core.display.HTML object>"
      ],
      "text/html": [
       "Syncing run <strong><a href='https://wandb.ai/spajro-chess/raport/runs/86i5avfj' target=\"_blank\">good-sweep-13</a></strong> to <a href='https://wandb.ai/spajro-chess/raport' target=\"_blank\">Weights & Biases</a> (<a href='https://wandb.me/run' target=\"_blank\">docs</a>)<br/>Sweep page: <a href='https://wandb.ai/spajro-chess/raport/sweeps/ai82s9v2' target=\"_blank\">https://wandb.ai/spajro-chess/raport/sweeps/ai82s9v2</a>"
      ]
     },
     "metadata": {},
     "output_type": "display_data"
    },
    {
     "data": {
      "text/plain": [
       "<IPython.core.display.HTML object>"
      ],
      "text/html": [
       " View project at <a href='https://wandb.ai/spajro-chess/raport' target=\"_blank\">https://wandb.ai/spajro-chess/raport</a>"
      ]
     },
     "metadata": {},
     "output_type": "display_data"
    },
    {
     "data": {
      "text/plain": [
       "<IPython.core.display.HTML object>"
      ],
      "text/html": [
       " View sweep at <a href='https://wandb.ai/spajro-chess/raport/sweeps/ai82s9v2' target=\"_blank\">https://wandb.ai/spajro-chess/raport/sweeps/ai82s9v2</a>"
      ]
     },
     "metadata": {},
     "output_type": "display_data"
    },
    {
     "data": {
      "text/plain": [
       "<IPython.core.display.HTML object>"
      ],
      "text/html": [
       " View run at <a href='https://wandb.ai/spajro-chess/raport/runs/86i5avfj' target=\"_blank\">https://wandb.ai/spajro-chess/raport/runs/86i5avfj</a>"
      ]
     },
     "metadata": {},
     "output_type": "display_data"
    },
    {
     "name": "stdout",
     "output_type": "stream",
     "text": [
      "Epoch [1/30], train_loss: 1.4730023577341897, train_accuracy: 0.49848700085623104, validation_accuracy: 0.61159375, time: 29.467s\n",
      "Epoch [2/30], train_loss: 1.0951369197264509, train_accuracy: 0.6381791468825406, validation_accuracy: 0.672625, time: 29.226s\n",
      "Epoch [3/30], train_loss: 0.918204506018695, train_accuracy: 0.6989192515762435, validation_accuracy: 0.6736875, time: 29.169s\n",
      "Epoch [4/30], train_loss: 0.8093350750607369, train_accuracy: 0.7344443255234685, validation_accuracy: 0.68053125, time: 24.964s\n",
      "Epoch [5/30], train_loss: 0.7387152478334328, train_accuracy: 0.757556482058068, validation_accuracy: 0.7605625, time: 28.353s\n",
      "Epoch [6/30], train_loss: 0.689464252480108, train_accuracy: 0.7735147310656184, validation_accuracy: 0.75271875, time: 29.213s\n",
      "Epoch [7/30], train_loss: 0.6505145375771477, train_accuracy: 0.7853414221218962, validation_accuracy: 0.78521875, time: 29.061s\n",
      "Epoch [8/30], train_loss: 0.6205619689037413, train_accuracy: 0.7946359072156923, validation_accuracy: 0.797625, time: 26.098s\n",
      "Epoch [9/30], train_loss: 0.5957053220681738, train_accuracy: 0.8026752354635324, validation_accuracy: 0.769125, time: 27.329s\n",
      "Epoch [10/30], train_loss: 0.5737349783770164, train_accuracy: 0.8094058924262474, validation_accuracy: 0.8100625, time: 29.254s\n",
      "Epoch [11/30], train_loss: 0.5558217447400418, train_accuracy: 0.8148959873900522, validation_accuracy: 0.422125, time: 29.234s\n",
      "Epoch [12/30], train_loss: 0.5393802808355411, train_accuracy: 0.8205806803144703, validation_accuracy: 0.6183125, time: 26.968s\n",
      "Epoch [13/30], train_loss: 0.5251182494107282, train_accuracy: 0.8249007550400872, validation_accuracy: 0.656375, time: 26.133s\n",
      "Epoch [14/30], train_loss: 0.5104316290671829, train_accuracy: 0.8299335447964505, validation_accuracy: 0.82375, time: 29.364s\n",
      "Epoch [15/30], train_loss: 0.49782811238639146, train_accuracy: 0.8341721316260605, validation_accuracy: 0.82578125, time: 29.323s\n",
      "Epoch [16/30], train_loss: 0.48758718703005055, train_accuracy: 0.8371543453724605, validation_accuracy: 0.820625, time: 29.312s\n",
      "Epoch [17/30], train_loss: 0.47747303156214504, train_accuracy: 0.8406461625282167, validation_accuracy: 0.680875, time: 25.449s\n",
      "Epoch [18/30], train_loss: 0.46709158096233117, train_accuracy: 0.8438837860979217, validation_accuracy: 0.82565625, time: 29.342s\n",
      "Epoch [19/30], train_loss: 0.4591655095126774, train_accuracy: 0.8463977485015957, validation_accuracy: 0.67040625, time: 29.291s\n",
      "Epoch [20/30], train_loss: 0.4507403729362131, train_accuracy: 0.8492182026932358, validation_accuracy: 0.8365625, time: 28.74s\n",
      "Epoch [21/30], train_loss: 0.4434832244081479, train_accuracy: 0.8517200027243714, validation_accuracy: 0.83803125, time: 24.947s\n",
      "Epoch [22/30], train_loss: 0.4361199213726433, train_accuracy: 0.854274100957422, validation_accuracy: 0.69671875, time: 29.173s\n",
      "Epoch [23/30], train_loss: 0.4301993581428318, train_accuracy: 0.8559488596559508, validation_accuracy: 0.8375625, time: 29.184s\n",
      "Epoch [24/30], train_loss: 0.42320682645723257, train_accuracy: 0.8581830874912431, validation_accuracy: 0.800375, time: 29.285s\n",
      "Epoch [25/30], train_loss: 0.4176711323076235, train_accuracy: 0.8600925799797619, validation_accuracy: 0.84015625, time: 25.32s\n",
      "Epoch [26/30], train_loss: 0.41097119051275566, train_accuracy: 0.862137074803456, validation_accuracy: 0.8038125, time: 28.033s\n",
      "Epoch [27/30], train_loss: 0.4060300597695559, train_accuracy: 0.8635941270335487, validation_accuracy: 0.8428125, time: 29.28s\n",
      "Epoch [28/30], train_loss: 0.4012932939181033, train_accuracy: 0.8653491573908305, validation_accuracy: 0.78515625, time: 29.232s\n",
      "Epoch [29/30], train_loss: 0.39675935154305625, train_accuracy: 0.8668110745699386, validation_accuracy: 0.845125, time: 26.266s\n",
      "Epoch [30/30], train_loss: 0.39190629354728185, train_accuracy: 0.8685113742507978, validation_accuracy: 0.84571875, time: 27.024s\n"
     ]
    },
    {
     "data": {
      "text/plain": [
       "VBox(children=(Label(value='0.001 MB of 0.001 MB uploaded\\r'), FloatProgress(value=1.0, max=1.0)))"
      ],
      "application/vnd.jupyter.widget-view+json": {
       "version_major": 2,
       "version_minor": 0,
       "model_id": "5ba9a3906d384e6ab354752cbb97a97f"
      }
     },
     "metadata": {},
     "output_type": "display_data"
    },
    {
     "data": {
      "text/plain": [
       "<IPython.core.display.HTML object>"
      ],
      "text/html": [
       "<style>\n",
       "    table.wandb td:nth-child(1) { padding: 0 10px; text-align: left ; width: auto;} td:nth-child(2) {text-align: left ; width: 100%}\n",
       "    .wandb-row { display: flex; flex-direction: row; flex-wrap: wrap; justify-content: flex-start; width: 100% }\n",
       "    .wandb-col { display: flex; flex-direction: column; flex-basis: 100%; flex: 1; padding: 10px; }\n",
       "    </style>\n",
       "<div class=\"wandb-row\"><div class=\"wandb-col\"><h3>Run history:</h3><br/><table class=\"wandb\"><tr><td>epoch</td><td>▁▁▁▂▂▂▂▃▃▃▃▄▄▄▄▅▅▅▅▆▆▆▆▇▇▇▇███</td></tr><tr><td>train_accuracy</td><td>▁▄▅▅▆▆▆▇▇▇▇▇▇▇▇▇▇█████████████</td></tr><tr><td>train_loss</td><td>█▆▄▄▃▃▃▂▂▂▂▂▂▂▂▂▂▁▁▁▁▁▁▁▁▁▁▁▁▁</td></tr><tr><td>validation_accuracy</td><td>▄▅▅▅▇▆▇▇▇▇▁▄▅███▅█▅██▆█▇█▇█▇██</td></tr></table><br/></div><div class=\"wandb-col\"><h3>Run summary:</h3><br/><table class=\"wandb\"><tr><td>epoch</td><td>30</td></tr><tr><td>train_accuracy</td><td>0.86851</td></tr><tr><td>train_loss</td><td>0.39191</td></tr><tr><td>validation_accuracy</td><td>0.84572</td></tr></table><br/></div></div>"
      ]
     },
     "metadata": {},
     "output_type": "display_data"
    },
    {
     "data": {
      "text/plain": [
       "<IPython.core.display.HTML object>"
      ],
      "text/html": [
       " View run <strong style=\"color:#cdcd00\">good-sweep-13</strong> at: <a href='https://wandb.ai/spajro-chess/raport/runs/86i5avfj' target=\"_blank\">https://wandb.ai/spajro-chess/raport/runs/86i5avfj</a><br/> View project at: <a href='https://wandb.ai/spajro-chess/raport' target=\"_blank\">https://wandb.ai/spajro-chess/raport</a><br/>Synced 5 W&B file(s), 0 media file(s), 0 artifact file(s) and 0 other file(s)"
      ]
     },
     "metadata": {},
     "output_type": "display_data"
    },
    {
     "data": {
      "text/plain": [
       "<IPython.core.display.HTML object>"
      ],
      "text/html": [
       "Find logs at: <code>.\\wandb\\run-20240617_082044-86i5avfj\\logs</code>"
      ]
     },
     "metadata": {},
     "output_type": "display_data"
    },
    {
     "name": "stderr",
     "output_type": "stream",
     "text": [
      "wandb: Agent Starting Run: pxn7mizp with config:\n",
      "wandb: \tcriterion: CrossEntropy\n",
      "wandb: \tepochs: 30\n",
      "wandb: \tlearning_rate: 0.01\n",
      "wandb: \tmodel: 2\n",
      "wandb: \toptimizer: sgd\n"
     ]
    },
    {
     "data": {
      "text/plain": [
       "<IPython.core.display.HTML object>"
      ],
      "text/html": [
       "Tracking run with wandb version 0.17.1"
      ]
     },
     "metadata": {},
     "output_type": "display_data"
    },
    {
     "data": {
      "text/plain": [
       "<IPython.core.display.HTML object>"
      ],
      "text/html": [
       "Run data is saved locally in <code>D:\\Projekty\\TacticsClassifier\\wandb\\run-20240617_083508-pxn7mizp</code>"
      ]
     },
     "metadata": {},
     "output_type": "display_data"
    },
    {
     "data": {
      "text/plain": [
       "<IPython.core.display.HTML object>"
      ],
      "text/html": [
       "Syncing run <strong><a href='https://wandb.ai/spajro-chess/raport/runs/pxn7mizp' target=\"_blank\">sage-sweep-14</a></strong> to <a href='https://wandb.ai/spajro-chess/raport' target=\"_blank\">Weights & Biases</a> (<a href='https://wandb.me/run' target=\"_blank\">docs</a>)<br/>Sweep page: <a href='https://wandb.ai/spajro-chess/raport/sweeps/ai82s9v2' target=\"_blank\">https://wandb.ai/spajro-chess/raport/sweeps/ai82s9v2</a>"
      ]
     },
     "metadata": {},
     "output_type": "display_data"
    },
    {
     "data": {
      "text/plain": [
       "<IPython.core.display.HTML object>"
      ],
      "text/html": [
       " View project at <a href='https://wandb.ai/spajro-chess/raport' target=\"_blank\">https://wandb.ai/spajro-chess/raport</a>"
      ]
     },
     "metadata": {},
     "output_type": "display_data"
    },
    {
     "data": {
      "text/plain": [
       "<IPython.core.display.HTML object>"
      ],
      "text/html": [
       " View sweep at <a href='https://wandb.ai/spajro-chess/raport/sweeps/ai82s9v2' target=\"_blank\">https://wandb.ai/spajro-chess/raport/sweeps/ai82s9v2</a>"
      ]
     },
     "metadata": {},
     "output_type": "display_data"
    },
    {
     "data": {
      "text/plain": [
       "<IPython.core.display.HTML object>"
      ],
      "text/html": [
       " View run at <a href='https://wandb.ai/spajro-chess/raport/runs/pxn7mizp' target=\"_blank\">https://wandb.ai/spajro-chess/raport/runs/pxn7mizp</a>"
      ]
     },
     "metadata": {},
     "output_type": "display_data"
    },
    {
     "name": "stdout",
     "output_type": "stream",
     "text": [
      "Epoch [1/30], train_loss: 1.014655280773896, train_accuracy: 0.6642394625204328, validation_accuracy: 0.74496875, time: 29.659s\n",
      "Epoch [2/30], train_loss: 0.6729408755284891, train_accuracy: 0.7800544387794816, validation_accuracy: 0.80584375, time: 28.912s\n",
      "Epoch [3/30], train_loss: 0.5801582915653762, train_accuracy: 0.8093317019537635, validation_accuracy: 0.818875, time: 26.008s\n",
      "Epoch [4/30], train_loss: 0.5251486963153377, train_accuracy: 0.8274110687319997, validation_accuracy: 0.79134375, time: 27.399s\n",
      "Epoch [5/30], train_loss: 0.48702511548847505, train_accuracy: 0.839343572429361, validation_accuracy: 0.80634375, time: 29.225s\n",
      "Epoch [6/30], train_loss: 0.4586372312204452, train_accuracy: 0.8486964369113412, validation_accuracy: 0.75475, time: 29.2s\n",
      "Epoch [7/30], train_loss: 0.4356039691157654, train_accuracy: 0.8560765645676033, validation_accuracy: 0.55928125, time: 26.853s\n",
      "Epoch [8/30], train_loss: 0.41742805378791226, train_accuracy: 0.86146571183934, validation_accuracy: 0.44634375, time: 26.329s\n",
      "Epoch [9/30], train_loss: 0.4021650761214524, train_accuracy: 0.8666748559975092, validation_accuracy: 0.86090625, time: 29.275s\n",
      "Epoch [10/30], train_loss: 0.3872477098315841, train_accuracy: 0.8715689947069355, validation_accuracy: 0.79228125, time: 29.128s\n",
      "Epoch [11/30], train_loss: 0.3759860440269791, train_accuracy: 0.8750547306764225, validation_accuracy: 0.72384375, time: 27.849s\n",
      "Epoch [12/30], train_loss: 0.36594217431954007, train_accuracy: 0.8785088444773099, validation_accuracy: 0.5946875, time: 25.3s\n",
      "Epoch [13/30], train_loss: 0.3569353731541798, train_accuracy: 0.8814740309021561, validation_accuracy: 0.59959375, time: 29.211s\n",
      "Epoch [14/30], train_loss: 0.34829526995285864, train_accuracy: 0.8837642056511248, validation_accuracy: 0.807125, time: 29.206s\n",
      "Epoch [15/30], train_loss: 0.3405620616856991, train_accuracy: 0.8864897933369659, validation_accuracy: 0.86671875, time: 28.894s\n",
      "Epoch [16/30], train_loss: 0.3322411233558816, train_accuracy: 0.8891521366856076, validation_accuracy: 0.85434375, time: 24.904s\n",
      "Epoch [17/30], train_loss: 0.32559572017287025, train_accuracy: 0.8909558165330428, validation_accuracy: 0.75915625, time: 28.733s\n",
      "Epoch [18/30], train_loss: 0.32062231911824557, train_accuracy: 0.8925709796061337, validation_accuracy: 0.87178125, time: 29.206s\n",
      "Epoch [19/30], train_loss: 0.3143420052318325, train_accuracy: 0.8947723690355726, validation_accuracy: 0.85725, time: 29.226s\n",
      "Epoch [20/30], train_loss: 0.30871436243825057, train_accuracy: 0.8965176694948237, validation_accuracy: 0.84284375, time: 25.555s\n",
      "Epoch [21/30], train_loss: 0.3049292927792752, train_accuracy: 0.8978178271191718, validation_accuracy: 0.87259375, time: 27.766s\n",
      "Epoch [22/30], train_loss: 0.2994536574130496, train_accuracy: 0.8997224546586752, validation_accuracy: 0.8714375, time: 29.247s\n",
      "Epoch [23/30], train_loss: 0.29484990300153807, train_accuracy: 0.9010518019771153, validation_accuracy: 0.86875, time: 29.199s\n",
      "Epoch [24/30], train_loss: 0.2919325174400897, train_accuracy: 0.9019578987312213, validation_accuracy: 0.66871875, time: 26.548s\n",
      "Epoch [25/30], train_loss: 0.2878398756781, train_accuracy: 0.9034490056044213, validation_accuracy: 0.85978125, time: 26.757s\n",
      "Epoch [26/30], train_loss: 0.28406421721214736, train_accuracy: 0.9043587510702887, validation_accuracy: 0.87359375, time: 29.299s\n",
      "Epoch [27/30], train_loss: 0.2800698188224372, train_accuracy: 0.9059070210944189, validation_accuracy: 0.8553125, time: 29.144s\n",
      "Epoch [28/30], train_loss: 0.2766061209167871, train_accuracy: 0.906629466023196, validation_accuracy: 0.87178125, time: 27.458s\n",
      "Epoch [29/30], train_loss: 0.2737722496621788, train_accuracy: 0.9080171927298202, validation_accuracy: 0.7879375, time: 25.664s\n",
      "Epoch [30/30], train_loss: 0.2714150516133466, train_accuracy: 0.9086593659998443, validation_accuracy: 0.60646875, time: 29.288s\n"
     ]
    },
    {
     "data": {
      "text/plain": [
       "VBox(children=(Label(value='0.001 MB of 0.008 MB uploaded\\r'), FloatProgress(value=0.1675480769230769, max=1.0…"
      ],
      "application/vnd.jupyter.widget-view+json": {
       "version_major": 2,
       "version_minor": 0,
       "model_id": "9b94bfbc8a604b35afb1fb5467d160d4"
      }
     },
     "metadata": {},
     "output_type": "display_data"
    },
    {
     "data": {
      "text/plain": [
       "<IPython.core.display.HTML object>"
      ],
      "text/html": [
       "<style>\n",
       "    table.wandb td:nth-child(1) { padding: 0 10px; text-align: left ; width: auto;} td:nth-child(2) {text-align: left ; width: 100%}\n",
       "    .wandb-row { display: flex; flex-direction: row; flex-wrap: wrap; justify-content: flex-start; width: 100% }\n",
       "    .wandb-col { display: flex; flex-direction: column; flex-basis: 100%; flex: 1; padding: 10px; }\n",
       "    </style>\n",
       "<div class=\"wandb-row\"><div class=\"wandb-col\"><h3>Run history:</h3><br/><table class=\"wandb\"><tr><td>epoch</td><td>▁▁▁▂▂▂▂▃▃▃▃▄▄▄▄▅▅▅▅▆▆▆▆▇▇▇▇███</td></tr><tr><td>train_accuracy</td><td>▁▄▅▆▆▆▆▇▇▇▇▇▇▇▇▇▇█████████████</td></tr><tr><td>train_loss</td><td>█▅▄▃▃▃▃▂▂▂▂▂▂▂▂▂▂▁▁▁▁▁▁▁▁▁▁▁▁▁</td></tr><tr><td>validation_accuracy</td><td>▆▇▇▇▇▆▃▁█▇▆▃▄▇██▆██▇███▅████▇▄</td></tr></table><br/></div><div class=\"wandb-col\"><h3>Run summary:</h3><br/><table class=\"wandb\"><tr><td>epoch</td><td>30</td></tr><tr><td>train_accuracy</td><td>0.90866</td></tr><tr><td>train_loss</td><td>0.27142</td></tr><tr><td>validation_accuracy</td><td>0.60647</td></tr></table><br/></div></div>"
      ]
     },
     "metadata": {},
     "output_type": "display_data"
    },
    {
     "data": {
      "text/plain": [
       "<IPython.core.display.HTML object>"
      ],
      "text/html": [
       " View run <strong style=\"color:#cdcd00\">sage-sweep-14</strong> at: <a href='https://wandb.ai/spajro-chess/raport/runs/pxn7mizp' target=\"_blank\">https://wandb.ai/spajro-chess/raport/runs/pxn7mizp</a><br/> View project at: <a href='https://wandb.ai/spajro-chess/raport' target=\"_blank\">https://wandb.ai/spajro-chess/raport</a><br/>Synced 5 W&B file(s), 0 media file(s), 0 artifact file(s) and 0 other file(s)"
      ]
     },
     "metadata": {},
     "output_type": "display_data"
    },
    {
     "data": {
      "text/plain": [
       "<IPython.core.display.HTML object>"
      ],
      "text/html": [
       "Find logs at: <code>.\\wandb\\run-20240617_083508-pxn7mizp\\logs</code>"
      ]
     },
     "metadata": {},
     "output_type": "display_data"
    },
    {
     "name": "stderr",
     "output_type": "stream",
     "text": [
      "wandb: Sweep Agent: Waiting for job.\n",
      "wandb: Job received.\n",
      "wandb: Agent Starting Run: egphmvtv with config:\n",
      "wandb: \tcriterion: CrossEntropy\n",
      "wandb: \tepochs: 30\n",
      "wandb: \tlearning_rate: 0.01\n",
      "wandb: \tmodel: 0\n",
      "wandb: \toptimizer: sgd\n"
     ]
    },
    {
     "data": {
      "text/plain": [
       "<IPython.core.display.HTML object>"
      ],
      "text/html": [
       "Tracking run with wandb version 0.17.1"
      ]
     },
     "metadata": {},
     "output_type": "display_data"
    },
    {
     "data": {
      "text/plain": [
       "<IPython.core.display.HTML object>"
      ],
      "text/html": [
       "Run data is saved locally in <code>D:\\Projekty\\TacticsClassifier\\wandb\\run-20240617_084936-egphmvtv</code>"
      ]
     },
     "metadata": {},
     "output_type": "display_data"
    },
    {
     "data": {
      "text/plain": [
       "<IPython.core.display.HTML object>"
      ],
      "text/html": [
       "Syncing run <strong><a href='https://wandb.ai/spajro-chess/raport/runs/egphmvtv' target=\"_blank\">cerulean-sweep-15</a></strong> to <a href='https://wandb.ai/spajro-chess/raport' target=\"_blank\">Weights & Biases</a> (<a href='https://wandb.me/run' target=\"_blank\">docs</a>)<br/>Sweep page: <a href='https://wandb.ai/spajro-chess/raport/sweeps/ai82s9v2' target=\"_blank\">https://wandb.ai/spajro-chess/raport/sweeps/ai82s9v2</a>"
      ]
     },
     "metadata": {},
     "output_type": "display_data"
    },
    {
     "data": {
      "text/plain": [
       "<IPython.core.display.HTML object>"
      ],
      "text/html": [
       " View project at <a href='https://wandb.ai/spajro-chess/raport' target=\"_blank\">https://wandb.ai/spajro-chess/raport</a>"
      ]
     },
     "metadata": {},
     "output_type": "display_data"
    },
    {
     "data": {
      "text/plain": [
       "<IPython.core.display.HTML object>"
      ],
      "text/html": [
       " View sweep at <a href='https://wandb.ai/spajro-chess/raport/sweeps/ai82s9v2' target=\"_blank\">https://wandb.ai/spajro-chess/raport/sweeps/ai82s9v2</a>"
      ]
     },
     "metadata": {},
     "output_type": "display_data"
    },
    {
     "data": {
      "text/plain": [
       "<IPython.core.display.HTML object>"
      ],
      "text/html": [
       " View run at <a href='https://wandb.ai/spajro-chess/raport/runs/egphmvtv' target=\"_blank\">https://wandb.ai/spajro-chess/raport/runs/egphmvtv</a>"
      ]
     },
     "metadata": {},
     "output_type": "display_data"
    },
    {
     "name": "stdout",
     "output_type": "stream",
     "text": [
      "Epoch [1/30], train_loss: 1.3843177348755766, train_accuracy: 0.5353608819179575, validation_accuracy: 0.58996875, time: 27.846s\n",
      "Epoch [2/30], train_loss: 0.9822945841009945, train_accuracy: 0.67678616603098, validation_accuracy: 0.654, time: 23.452s\n",
      "Epoch [3/30], train_loss: 0.8612663498428291, train_accuracy: 0.7170022670662412, validation_accuracy: 0.6989375, time: 22.128s\n",
      "Epoch [4/30], train_loss: 0.7942215894607938, train_accuracy: 0.7384554759866117, validation_accuracy: 0.65196875, time: 27.271s\n",
      "Epoch [5/30], train_loss: 0.7511328437745529, train_accuracy: 0.7517234081886822, validation_accuracy: 0.66284375, time: 24.578s\n",
      "Epoch [6/30], train_loss: 0.7200370001298328, train_accuracy: 0.7616965536701176, validation_accuracy: 0.654125, time: 26.618s\n",
      "Epoch [7/30], train_loss: 0.6956429479859297, train_accuracy: 0.7693904705378688, validation_accuracy: 0.75225, time: 23.289s\n",
      "Epoch [8/30], train_loss: 0.6756204421483163, train_accuracy: 0.7761369385848836, validation_accuracy: 0.65653125, time: 24.004s\n",
      "Epoch [9/30], train_loss: 0.65972983592535, train_accuracy: 0.7803317408733557, validation_accuracy: 0.775, time: 27.716s\n",
      "Epoch [10/30], train_loss: 0.6454049163781651, train_accuracy: 0.7854314236786798, validation_accuracy: 0.7130625, time: 27.13s\n",
      "Epoch [11/30], train_loss: 0.6334424584575077, train_accuracy: 0.7886216139954854, validation_accuracy: 0.65290625, time: 27.422s\n",
      "Epoch [12/30], train_loss: 0.6227177830127795, train_accuracy: 0.7919796450533199, validation_accuracy: 0.76075, time: 27.582s\n",
      "Epoch [13/30], train_loss: 0.6126094135055841, train_accuracy: 0.7951090235074336, validation_accuracy: 0.5573125, time: 27.73s\n",
      "Epoch [14/30], train_loss: 0.6036789245521307, train_accuracy: 0.7982955651124776, validation_accuracy: 0.7450625, time: 27.753s\n",
      "Epoch [15/30], train_loss: 0.5952020564218101, train_accuracy: 0.800945746088581, validation_accuracy: 0.7821875, time: 27.735s\n",
      "Epoch [16/30], train_loss: 0.587793109678541, train_accuracy: 0.8032091636179652, validation_accuracy: 0.765375, time: 20.917s\n",
      "Epoch [17/30], train_loss: 0.5807080538082914, train_accuracy: 0.8056367731766171, validation_accuracy: 0.3293125, time: 24.357s\n",
      "Epoch [18/30], train_loss: 0.574673429732333, train_accuracy: 0.8073054506888768, validation_accuracy: 0.64003125, time: 27.327s\n",
      "Epoch [19/30], train_loss: 0.5683211256492794, train_accuracy: 0.8092879174126255, validation_accuracy: 0.761625, time: 26.353s\n",
      "Epoch [20/30], train_loss: 0.5626079051842289, train_accuracy: 0.8113494395578734, validation_accuracy: 0.359625, time: 25.388s\n",
      "Epoch [21/30], train_loss: 0.5575924905193467, train_accuracy: 0.8131239297112166, validation_accuracy: 0.675, time: 20.398s\n",
      "Epoch [22/30], train_loss: 0.552162766150392, train_accuracy: 0.815035854674243, validation_accuracy: 0.69265625, time: 26.331s\n",
      "Epoch [23/30], train_loss: 0.5472921828070304, train_accuracy: 0.816235064606523, validation_accuracy: 0.802, time: 26.165s\n",
      "Epoch [24/30], train_loss: 0.542136732265881, train_accuracy: 0.8179256343893516, validation_accuracy: 0.8050625, time: 25.473s\n",
      "Epoch [25/30], train_loss: 0.5381363020828376, train_accuracy: 0.819201467268623, validation_accuracy: 0.7544375, time: 27.459s\n",
      "Epoch [26/30], train_loss: 0.5339202812553203, train_accuracy: 0.8205077060792403, validation_accuracy: 0.80296875, time: 21.628s\n",
      "Epoch [27/30], train_loss: 0.5303895465894516, train_accuracy: 0.8214843445940686, validation_accuracy: 0.77528125, time: 27.634s\n",
      "Epoch [28/30], train_loss: 0.5261382221690762, train_accuracy: 0.8227261228302327, validation_accuracy: 0.61434375, time: 27.591s\n",
      "Epoch [29/30], train_loss: 0.5228105350244928, train_accuracy: 0.8240712812329727, validation_accuracy: 0.80625, time: 27.492s\n",
      "Epoch [30/30], train_loss: 0.5193832327015921, train_accuracy: 0.8253884661788744, validation_accuracy: 0.76715625, time: 21.129s\n"
     ]
    },
    {
     "data": {
      "text/plain": [
       "VBox(children=(Label(value='0.001 MB of 0.001 MB uploaded\\r'), FloatProgress(value=1.0, max=1.0)))"
      ],
      "application/vnd.jupyter.widget-view+json": {
       "version_major": 2,
       "version_minor": 0,
       "model_id": "f13fff484fa146218458ffe832067dcf"
      }
     },
     "metadata": {},
     "output_type": "display_data"
    },
    {
     "data": {
      "text/plain": [
       "<IPython.core.display.HTML object>"
      ],
      "text/html": [
       "<style>\n",
       "    table.wandb td:nth-child(1) { padding: 0 10px; text-align: left ; width: auto;} td:nth-child(2) {text-align: left ; width: 100%}\n",
       "    .wandb-row { display: flex; flex-direction: row; flex-wrap: wrap; justify-content: flex-start; width: 100% }\n",
       "    .wandb-col { display: flex; flex-direction: column; flex-basis: 100%; flex: 1; padding: 10px; }\n",
       "    </style>\n",
       "<div class=\"wandb-row\"><div class=\"wandb-col\"><h3>Run history:</h3><br/><table class=\"wandb\"><tr><td>epoch</td><td>▁▁▁▂▂▂▂▃▃▃▃▄▄▄▄▅▅▅▅▆▆▆▆▇▇▇▇███</td></tr><tr><td>train_accuracy</td><td>▁▄▅▆▆▆▇▇▇▇▇▇▇▇▇▇██████████████</td></tr><tr><td>train_loss</td><td>█▅▄▃▃▃▂▂▂▂▂▂▂▂▂▂▁▁▁▁▁▁▁▁▁▁▁▁▁▁</td></tr><tr><td>validation_accuracy</td><td>▅▆▆▆▆▆▇▆█▇▆▇▄▇█▇▁▆▇▁▆▆██▇██▅█▇</td></tr></table><br/></div><div class=\"wandb-col\"><h3>Run summary:</h3><br/><table class=\"wandb\"><tr><td>epoch</td><td>30</td></tr><tr><td>train_accuracy</td><td>0.82539</td></tr><tr><td>train_loss</td><td>0.51938</td></tr><tr><td>validation_accuracy</td><td>0.76716</td></tr></table><br/></div></div>"
      ]
     },
     "metadata": {},
     "output_type": "display_data"
    },
    {
     "data": {
      "text/plain": [
       "<IPython.core.display.HTML object>"
      ],
      "text/html": [
       " View run <strong style=\"color:#cdcd00\">cerulean-sweep-15</strong> at: <a href='https://wandb.ai/spajro-chess/raport/runs/egphmvtv' target=\"_blank\">https://wandb.ai/spajro-chess/raport/runs/egphmvtv</a><br/> View project at: <a href='https://wandb.ai/spajro-chess/raport' target=\"_blank\">https://wandb.ai/spajro-chess/raport</a><br/>Synced 5 W&B file(s), 0 media file(s), 0 artifact file(s) and 0 other file(s)"
      ]
     },
     "metadata": {},
     "output_type": "display_data"
    },
    {
     "data": {
      "text/plain": [
       "<IPython.core.display.HTML object>"
      ],
      "text/html": [
       "Find logs at: <code>.\\wandb\\run-20240617_084936-egphmvtv\\logs</code>"
      ]
     },
     "metadata": {},
     "output_type": "display_data"
    },
    {
     "name": "stderr",
     "output_type": "stream",
     "text": [
      "wandb: Sweep Agent: Waiting for job.\n",
      "wandb: Job received.\n",
      "wandb: Agent Starting Run: itx0zoc4 with config:\n",
      "wandb: \tcriterion: CrossEntropy\n",
      "wandb: \tepochs: 30\n",
      "wandb: \tlearning_rate: 0.0003\n",
      "wandb: \tmodel: 0\n",
      "wandb: \toptimizer: adam\n"
     ]
    },
    {
     "data": {
      "text/plain": [
       "<IPython.core.display.HTML object>"
      ],
      "text/html": [
       "Tracking run with wandb version 0.17.1"
      ]
     },
     "metadata": {},
     "output_type": "display_data"
    },
    {
     "data": {
      "text/plain": [
       "<IPython.core.display.HTML object>"
      ],
      "text/html": [
       "Run data is saved locally in <code>D:\\Projekty\\TacticsClassifier\\wandb\\run-20240617_090251-itx0zoc4</code>"
      ]
     },
     "metadata": {},
     "output_type": "display_data"
    },
    {
     "data": {
      "text/plain": [
       "<IPython.core.display.HTML object>"
      ],
      "text/html": [
       "Syncing run <strong><a href='https://wandb.ai/spajro-chess/raport/runs/itx0zoc4' target=\"_blank\">solar-sweep-16</a></strong> to <a href='https://wandb.ai/spajro-chess/raport' target=\"_blank\">Weights & Biases</a> (<a href='https://wandb.me/run' target=\"_blank\">docs</a>)<br/>Sweep page: <a href='https://wandb.ai/spajro-chess/raport/sweeps/ai82s9v2' target=\"_blank\">https://wandb.ai/spajro-chess/raport/sweeps/ai82s9v2</a>"
      ]
     },
     "metadata": {},
     "output_type": "display_data"
    },
    {
     "data": {
      "text/plain": [
       "<IPython.core.display.HTML object>"
      ],
      "text/html": [
       " View project at <a href='https://wandb.ai/spajro-chess/raport' target=\"_blank\">https://wandb.ai/spajro-chess/raport</a>"
      ]
     },
     "metadata": {},
     "output_type": "display_data"
    },
    {
     "data": {
      "text/plain": [
       "<IPython.core.display.HTML object>"
      ],
      "text/html": [
       " View sweep at <a href='https://wandb.ai/spajro-chess/raport/sweeps/ai82s9v2' target=\"_blank\">https://wandb.ai/spajro-chess/raport/sweeps/ai82s9v2</a>"
      ]
     },
     "metadata": {},
     "output_type": "display_data"
    },
    {
     "data": {
      "text/plain": [
       "<IPython.core.display.HTML object>"
      ],
      "text/html": [
       " View run at <a href='https://wandb.ai/spajro-chess/raport/runs/itx0zoc4' target=\"_blank\">https://wandb.ai/spajro-chess/raport/runs/itx0zoc4</a>"
      ]
     },
     "metadata": {},
     "output_type": "display_data"
    },
    {
     "name": "stdout",
     "output_type": "stream",
     "text": [
      "Epoch [1/30], train_loss: 1.0805695981223398, train_accuracy: 0.6415213668560753, validation_accuracy: 0.692625, time: 30.142s\n",
      "Epoch [2/30], train_loss: 0.8193777249746864, train_accuracy: 0.7298080291118549, validation_accuracy: 0.73540625, time: 29.409s\n",
      "Epoch [3/30], train_loss: 0.7352859863276759, train_accuracy: 0.7568218747567526, validation_accuracy: 0.75765625, time: 26.926s\n",
      "Epoch [4/30], train_loss: 0.6864482853023739, train_accuracy: 0.7716015898653382, validation_accuracy: 0.76225, time: 22.053s\n",
      "Epoch [5/30], train_loss: 0.6524214482524566, train_accuracy: 0.7823786681715575, validation_accuracy: 0.77953125, time: 29.068s\n",
      "Epoch [6/30], train_loss: 0.6265044174714339, train_accuracy: 0.7908509768817623, validation_accuracy: 0.7863125, time: 29.74s\n",
      "Epoch [7/30], train_loss: 0.6072758730363779, train_accuracy: 0.7970841928076594, validation_accuracy: 0.78625, time: 29.99s\n",
      "Epoch [8/30], train_loss: 0.5909361135760587, train_accuracy: 0.8019515742975014, validation_accuracy: 0.7935, time: 24.857s\n",
      "Epoch [9/30], train_loss: 0.5776815931258732, train_accuracy: 0.8063507044446174, validation_accuracy: 0.79371875, time: 27.184s\n",
      "Epoch [10/30], train_loss: 0.5665772522728555, train_accuracy: 0.8097014380789289, validation_accuracy: 0.79746875, time: 30.2s\n",
      "Epoch [11/30], train_loss: 0.5570190970912707, train_accuracy: 0.8132224449287772, validation_accuracy: 0.80196875, time: 30.281s\n",
      "Epoch [12/30], train_loss: 0.5489614194737159, train_accuracy: 0.8156585681482058, validation_accuracy: 0.8011875, time: 24.859s\n",
      "Epoch [13/30], train_loss: 0.5409971123851671, train_accuracy: 0.8182211800420331, validation_accuracy: 0.801875, time: 25.316s\n",
      "Epoch [14/30], train_loss: 0.5341931923399215, train_accuracy: 0.8205551393321397, validation_accuracy: 0.80325, time: 30.534s\n",
      "Epoch [15/30], train_loss: 0.5277952985560986, train_accuracy: 0.822380711450144, validation_accuracy: 0.8061875, time: 30.221s\n",
      "Epoch [16/30], train_loss: 0.5217636526535668, train_accuracy: 0.8242537168210478, validation_accuracy: 0.80746875, time: 24.967s\n",
      "Epoch [17/30], train_loss: 0.5162342533723216, train_accuracy: 0.8261413170389974, validation_accuracy: 0.81165625, time: 22.037s\n",
      "Epoch [18/30], train_loss: 0.5118124733314428, train_accuracy: 0.827445123375107, validation_accuracy: 0.811125, time: 30.393s\n",
      "Epoch [19/30], train_loss: 0.5063400960304009, train_accuracy: 0.8291174495991283, validation_accuracy: 0.80953125, time: 26.912s\n",
      "Epoch [20/30], train_loss: 0.5026919638332508, train_accuracy: 0.8304674729508835, validation_accuracy: 0.81234375, time: 29.926s\n",
      "Epoch [21/30], train_loss: 0.4986050272960834, train_accuracy: 0.8315438429205262, validation_accuracy: 0.809375, time: 22.395s\n",
      "Epoch [22/30], train_loss: 0.4945795165507248, train_accuracy: 0.8329741379310345, validation_accuracy: 0.8111875, time: 27.137s\n",
      "Epoch [23/30], train_loss: 0.4909905602637456, train_accuracy: 0.834022534443839, validation_accuracy: 0.80959375, time: 30.344s\n",
      "Epoch [24/30], train_loss: 0.4873184370660054, train_accuracy: 0.8351171479722892, validation_accuracy: 0.81378125, time: 30.308s\n",
      "Epoch [25/30], train_loss: 0.48459128153489295, train_accuracy: 0.8360439207597105, validation_accuracy: 0.8128125, time: 24.894s\n",
      "Epoch [26/30], train_loss: 0.48110662560613926, train_accuracy: 0.8371421829999222, validation_accuracy: 0.81396875, time: 25.453s\n",
      "Epoch [27/30], train_loss: 0.47762179076544015, train_accuracy: 0.8380580096520589, validation_accuracy: 0.81534375, time: 30.437s\n",
      "Epoch [28/30], train_loss: 0.47532004132850403, train_accuracy: 0.8387999143768974, validation_accuracy: 0.81278125, time: 26.665s\n",
      "Epoch [29/30], train_loss: 0.47242887029900593, train_accuracy: 0.8399407449209932, validation_accuracy: 0.81378125, time: 26.603s\n",
      "Epoch [30/30], train_loss: 0.470196130265844, train_accuracy: 0.8409842764847825, validation_accuracy: 0.81265625, time: 22.108s\n"
     ]
    },
    {
     "data": {
      "text/plain": [
       "VBox(children=(Label(value='0.001 MB of 0.008 MB uploaded\\r'), FloatProgress(value=0.16766899206158287, max=1.…"
      ],
      "application/vnd.jupyter.widget-view+json": {
       "version_major": 2,
       "version_minor": 0,
       "model_id": "03a52899769e4e0ba134b4fcfd3175db"
      }
     },
     "metadata": {},
     "output_type": "display_data"
    },
    {
     "data": {
      "text/plain": [
       "<IPython.core.display.HTML object>"
      ],
      "text/html": [
       "<style>\n",
       "    table.wandb td:nth-child(1) { padding: 0 10px; text-align: left ; width: auto;} td:nth-child(2) {text-align: left ; width: 100%}\n",
       "    .wandb-row { display: flex; flex-direction: row; flex-wrap: wrap; justify-content: flex-start; width: 100% }\n",
       "    .wandb-col { display: flex; flex-direction: column; flex-basis: 100%; flex: 1; padding: 10px; }\n",
       "    </style>\n",
       "<div class=\"wandb-row\"><div class=\"wandb-col\"><h3>Run history:</h3><br/><table class=\"wandb\"><tr><td>epoch</td><td>▁▁▁▂▂▂▂▃▃▃▃▄▄▄▄▅▅▅▅▆▆▆▆▇▇▇▇███</td></tr><tr><td>train_accuracy</td><td>▁▄▅▆▆▆▆▇▇▇▇▇▇▇▇▇▇█████████████</td></tr><tr><td>train_loss</td><td>█▅▄▃▃▃▃▂▂▂▂▂▂▂▂▂▂▁▁▁▁▁▁▁▁▁▁▁▁▁</td></tr><tr><td>validation_accuracy</td><td>▁▃▅▅▆▆▆▇▇▇▇▇▇▇▇███████████████</td></tr></table><br/></div><div class=\"wandb-col\"><h3>Run summary:</h3><br/><table class=\"wandb\"><tr><td>epoch</td><td>30</td></tr><tr><td>train_accuracy</td><td>0.84098</td></tr><tr><td>train_loss</td><td>0.4702</td></tr><tr><td>validation_accuracy</td><td>0.81266</td></tr></table><br/></div></div>"
      ]
     },
     "metadata": {},
     "output_type": "display_data"
    },
    {
     "data": {
      "text/plain": [
       "<IPython.core.display.HTML object>"
      ],
      "text/html": [
       " View run <strong style=\"color:#cdcd00\">solar-sweep-16</strong> at: <a href='https://wandb.ai/spajro-chess/raport/runs/itx0zoc4' target=\"_blank\">https://wandb.ai/spajro-chess/raport/runs/itx0zoc4</a><br/> View project at: <a href='https://wandb.ai/spajro-chess/raport' target=\"_blank\">https://wandb.ai/spajro-chess/raport</a><br/>Synced 5 W&B file(s), 0 media file(s), 0 artifact file(s) and 0 other file(s)"
      ]
     },
     "metadata": {},
     "output_type": "display_data"
    },
    {
     "data": {
      "text/plain": [
       "<IPython.core.display.HTML object>"
      ],
      "text/html": [
       "Find logs at: <code>.\\wandb\\run-20240617_090251-itx0zoc4\\logs</code>"
      ]
     },
     "metadata": {},
     "output_type": "display_data"
    },
    {
     "name": "stderr",
     "output_type": "stream",
     "text": [
      "wandb: Agent Starting Run: vtd4mtiq with config:\n",
      "wandb: \tcriterion: CrossEntropy\n",
      "wandb: \tepochs: 20\n",
      "wandb: \tlearning_rate: 0.1\n",
      "wandb: \tmodel: 0\n",
      "wandb: \toptimizer: adam\n"
     ]
    },
    {
     "data": {
      "text/plain": [
       "<IPython.core.display.HTML object>"
      ],
      "text/html": [
       "Tracking run with wandb version 0.17.1"
      ]
     },
     "metadata": {},
     "output_type": "display_data"
    },
    {
     "data": {
      "text/plain": [
       "<IPython.core.display.HTML object>"
      ],
      "text/html": [
       "Run data is saved locally in <code>D:\\Projekty\\TacticsClassifier\\wandb\\run-20240617_091653-vtd4mtiq</code>"
      ]
     },
     "metadata": {},
     "output_type": "display_data"
    },
    {
     "data": {
      "text/plain": [
       "<IPython.core.display.HTML object>"
      ],
      "text/html": [
       "Syncing run <strong><a href='https://wandb.ai/spajro-chess/raport/runs/vtd4mtiq' target=\"_blank\">polar-sweep-17</a></strong> to <a href='https://wandb.ai/spajro-chess/raport' target=\"_blank\">Weights & Biases</a> (<a href='https://wandb.me/run' target=\"_blank\">docs</a>)<br/>Sweep page: <a href='https://wandb.ai/spajro-chess/raport/sweeps/ai82s9v2' target=\"_blank\">https://wandb.ai/spajro-chess/raport/sweeps/ai82s9v2</a>"
      ]
     },
     "metadata": {},
     "output_type": "display_data"
    },
    {
     "data": {
      "text/plain": [
       "<IPython.core.display.HTML object>"
      ],
      "text/html": [
       " View project at <a href='https://wandb.ai/spajro-chess/raport' target=\"_blank\">https://wandb.ai/spajro-chess/raport</a>"
      ]
     },
     "metadata": {},
     "output_type": "display_data"
    },
    {
     "data": {
      "text/plain": [
       "<IPython.core.display.HTML object>"
      ],
      "text/html": [
       " View sweep at <a href='https://wandb.ai/spajro-chess/raport/sweeps/ai82s9v2' target=\"_blank\">https://wandb.ai/spajro-chess/raport/sweeps/ai82s9v2</a>"
      ]
     },
     "metadata": {},
     "output_type": "display_data"
    },
    {
     "data": {
      "text/plain": [
       "<IPython.core.display.HTML object>"
      ],
      "text/html": [
       " View run at <a href='https://wandb.ai/spajro-chess/raport/runs/vtd4mtiq' target=\"_blank\">https://wandb.ai/spajro-chess/raport/runs/vtd4mtiq</a>"
      ]
     },
     "metadata": {},
     "output_type": "display_data"
    },
    {
     "name": "stdout",
     "output_type": "stream",
     "text": [
      "Epoch [1/20], train_loss: 1.8676898555086774, train_accuracy: 0.38362068965517243, validation_accuracy: 0.38334375, time: 30.195s\n",
      "Epoch [2/20], train_loss: 1.867465857551229, train_accuracy: 0.3836912314158948, validation_accuracy: 0.38334375, time: 29.611s\n",
      "Epoch [3/20], train_loss: 1.8673665593493873, train_accuracy: 0.3836912314158948, validation_accuracy: 0.38334375, time: 30.056s\n",
      "Epoch [4/20], train_loss: 1.8673652552199882, train_accuracy: 0.3836912314158948, validation_accuracy: 0.38334375, time: 22.523s\n",
      "Epoch [5/20], train_loss: 1.8670603758891455, train_accuracy: 0.3836912314158948, validation_accuracy: 0.38334375, time: 30.396s\n",
      "Epoch [6/20], train_loss: 1.867499714474126, train_accuracy: 0.3836912314158948, validation_accuracy: 0.38334375, time: 30.117s\n",
      "Epoch [7/20], train_loss: 1.867455652978083, train_accuracy: 0.3836912314158948, validation_accuracy: 0.38334375, time: 29.289s\n",
      "Epoch [8/20], train_loss: 1.8670433431439264, train_accuracy: 0.3836912314158948, validation_accuracy: 0.38334375, time: 22.634s\n",
      "Epoch [9/20], train_loss: 1.867304603571167, train_accuracy: 0.3836912314158948, validation_accuracy: 0.38334375, time: 29.175s\n",
      "Epoch [10/20], train_loss: 1.8672667352422216, train_accuracy: 0.3836912314158948, validation_accuracy: 0.38334375, time: 30.05s\n",
      "Epoch [11/20], train_loss: 1.867246644751352, train_accuracy: 0.3836912314158948, validation_accuracy: 0.38334375, time: 29.591s\n",
      "Epoch [12/20], train_loss: 1.8672978103397477, train_accuracy: 0.3836912314158948, validation_accuracy: 0.38334375, time: 22.869s\n",
      "Epoch [13/20], train_loss: 1.8673226684041921, train_accuracy: 0.3836912314158948, validation_accuracy: 0.38334375, time: 26.527s\n",
      "Epoch [14/20], train_loss: 1.8672147851570429, train_accuracy: 0.3836912314158948, validation_accuracy: 0.38334375, time: 30.278s\n",
      "Epoch [15/20], train_loss: 1.8671809627479585, train_accuracy: 0.3836912314158948, validation_accuracy: 0.38334375, time: 30.102s\n",
      "Epoch [16/20], train_loss: 1.8672885372544612, train_accuracy: 0.3836912314158948, validation_accuracy: 0.38334375, time: 25.377s\n",
      "Epoch [17/20], train_loss: 1.8674156720177844, train_accuracy: 0.3836912314158948, validation_accuracy: 0.38334375, time: 23.964s\n",
      "Epoch [18/20], train_loss: 1.8672557607776805, train_accuracy: 0.3836912314158948, validation_accuracy: 0.38334375, time: 30.536s\n",
      "Epoch [19/20], train_loss: 1.8671587764349227, train_accuracy: 0.3836912314158948, validation_accuracy: 0.38334375, time: 30.377s\n",
      "Epoch [20/20], train_loss: 1.8669553285741134, train_accuracy: 0.3836498793492644, validation_accuracy: 0.38334375, time: 27.856s\n"
     ]
    },
    {
     "data": {
      "text/plain": [
       "VBox(children=(Label(value='0.001 MB of 0.001 MB uploaded\\r'), FloatProgress(value=1.0, max=1.0)))"
      ],
      "application/vnd.jupyter.widget-view+json": {
       "version_major": 2,
       "version_minor": 0,
       "model_id": "b8a98b5451f64d4f9719ec80d8a55356"
      }
     },
     "metadata": {},
     "output_type": "display_data"
    },
    {
     "data": {
      "text/plain": [
       "<IPython.core.display.HTML object>"
      ],
      "text/html": [
       "<style>\n",
       "    table.wandb td:nth-child(1) { padding: 0 10px; text-align: left ; width: auto;} td:nth-child(2) {text-align: left ; width: 100%}\n",
       "    .wandb-row { display: flex; flex-direction: row; flex-wrap: wrap; justify-content: flex-start; width: 100% }\n",
       "    .wandb-col { display: flex; flex-direction: column; flex-basis: 100%; flex: 1; padding: 10px; }\n",
       "    </style>\n",
       "<div class=\"wandb-row\"><div class=\"wandb-col\"><h3>Run history:</h3><br/><table class=\"wandb\"><tr><td>epoch</td><td>▁▁▂▂▂▃▃▄▄▄▅▅▅▆▆▇▇▇██</td></tr><tr><td>train_accuracy</td><td>▁██████████████████▄</td></tr><tr><td>train_loss</td><td>█▆▅▅▂▆▆▂▄▄▄▄▅▃▃▄▅▄▃▁</td></tr><tr><td>validation_accuracy</td><td>▁▁▁▁▁▁▁▁▁▁▁▁▁▁▁▁▁▁▁▁</td></tr></table><br/></div><div class=\"wandb-col\"><h3>Run summary:</h3><br/><table class=\"wandb\"><tr><td>epoch</td><td>20</td></tr><tr><td>train_accuracy</td><td>0.38365</td></tr><tr><td>train_loss</td><td>1.86696</td></tr><tr><td>validation_accuracy</td><td>0.38334</td></tr></table><br/></div></div>"
      ]
     },
     "metadata": {},
     "output_type": "display_data"
    },
    {
     "data": {
      "text/plain": [
       "<IPython.core.display.HTML object>"
      ],
      "text/html": [
       " View run <strong style=\"color:#cdcd00\">polar-sweep-17</strong> at: <a href='https://wandb.ai/spajro-chess/raport/runs/vtd4mtiq' target=\"_blank\">https://wandb.ai/spajro-chess/raport/runs/vtd4mtiq</a><br/> View project at: <a href='https://wandb.ai/spajro-chess/raport' target=\"_blank\">https://wandb.ai/spajro-chess/raport</a><br/>Synced 5 W&B file(s), 0 media file(s), 0 artifact file(s) and 0 other file(s)"
      ]
     },
     "metadata": {},
     "output_type": "display_data"
    },
    {
     "data": {
      "text/plain": [
       "<IPython.core.display.HTML object>"
      ],
      "text/html": [
       "Find logs at: <code>.\\wandb\\run-20240617_091653-vtd4mtiq\\logs</code>"
      ]
     },
     "metadata": {},
     "output_type": "display_data"
    },
    {
     "name": "stderr",
     "output_type": "stream",
     "text": [
      "wandb: Agent Starting Run: 1e0a68zz with config:\n",
      "wandb: \tcriterion: CrossEntropy\n",
      "wandb: \tepochs: 50\n",
      "wandb: \tlearning_rate: 0.01\n",
      "wandb: \tmodel: 2\n",
      "wandb: \toptimizer: adam\n"
     ]
    },
    {
     "data": {
      "text/plain": [
       "<IPython.core.display.HTML object>"
      ],
      "text/html": [
       "Tracking run with wandb version 0.17.1"
      ]
     },
     "metadata": {},
     "output_type": "display_data"
    },
    {
     "data": {
      "text/plain": [
       "<IPython.core.display.HTML object>"
      ],
      "text/html": [
       "Run data is saved locally in <code>D:\\Projekty\\TacticsClassifier\\wandb\\run-20240617_092632-1e0a68zz</code>"
      ]
     },
     "metadata": {},
     "output_type": "display_data"
    },
    {
     "data": {
      "text/plain": [
       "<IPython.core.display.HTML object>"
      ],
      "text/html": [
       "Syncing run <strong><a href='https://wandb.ai/spajro-chess/raport/runs/1e0a68zz' target=\"_blank\">crimson-sweep-18</a></strong> to <a href='https://wandb.ai/spajro-chess/raport' target=\"_blank\">Weights & Biases</a> (<a href='https://wandb.me/run' target=\"_blank\">docs</a>)<br/>Sweep page: <a href='https://wandb.ai/spajro-chess/raport/sweeps/ai82s9v2' target=\"_blank\">https://wandb.ai/spajro-chess/raport/sweeps/ai82s9v2</a>"
      ]
     },
     "metadata": {},
     "output_type": "display_data"
    },
    {
     "data": {
      "text/plain": [
       "<IPython.core.display.HTML object>"
      ],
      "text/html": [
       " View project at <a href='https://wandb.ai/spajro-chess/raport' target=\"_blank\">https://wandb.ai/spajro-chess/raport</a>"
      ]
     },
     "metadata": {},
     "output_type": "display_data"
    },
    {
     "data": {
      "text/plain": [
       "<IPython.core.display.HTML object>"
      ],
      "text/html": [
       " View sweep at <a href='https://wandb.ai/spajro-chess/raport/sweeps/ai82s9v2' target=\"_blank\">https://wandb.ai/spajro-chess/raport/sweeps/ai82s9v2</a>"
      ]
     },
     "metadata": {},
     "output_type": "display_data"
    },
    {
     "data": {
      "text/plain": [
       "<IPython.core.display.HTML object>"
      ],
      "text/html": [
       " View run at <a href='https://wandb.ai/spajro-chess/raport/runs/1e0a68zz' target=\"_blank\">https://wandb.ai/spajro-chess/raport/runs/1e0a68zz</a>"
      ]
     },
     "metadata": {},
     "output_type": "display_data"
    },
    {
     "name": "stdout",
     "output_type": "stream",
     "text": [
      "Epoch [1/50], train_loss: 1.0448298431713126, train_accuracy: 0.6625768661944423, validation_accuracy: 0.7525, time: 28.906s\n",
      "Epoch [2/50], train_loss: 0.7825086874822248, train_accuracy: 0.7552517124620534, validation_accuracy: 0.783875, time: 30.507s\n",
      "Epoch [3/50], train_loss: 0.7092169494218582, train_accuracy: 0.7807002607612672, validation_accuracy: 0.79459375, time: 30.514s\n",
      "Epoch [4/50], train_loss: 0.6664231536843099, train_accuracy: 0.7955748423756519, validation_accuracy: 0.8071875, time: 27.738s\n",
      "Epoch [5/50], train_loss: 0.636222150675228, train_accuracy: 0.8055260955865182, validation_accuracy: 0.8021875, time: 28.496s\n",
      "Epoch [6/50], train_loss: 0.6163288287912964, train_accuracy: 0.8124258095275162, validation_accuracy: 0.816, time: 30.561s\n",
      "Epoch [7/50], train_loss: 0.5985745227171251, train_accuracy: 0.8177054954464077, validation_accuracy: 0.823, time: 30.484s\n",
      "Epoch [8/50], train_loss: 0.5850481909170608, train_accuracy: 0.8224257122285359, validation_accuracy: 0.82584375, time: 27.96s\n",
      "Epoch [9/50], train_loss: 0.5737244686554163, train_accuracy: 0.825435899431774, validation_accuracy: 0.82615625, time: 28.352s\n",
      "Epoch [10/50], train_loss: 0.5712474359762968, train_accuracy: 0.8269330874912431, validation_accuracy: 0.822125, time: 30.565s\n",
      "Epoch [11/50], train_loss: 0.5532078469622884, train_accuracy: 0.8326980520744143, validation_accuracy: 0.82846875, time: 30.591s\n",
      "Epoch [12/50], train_loss: 0.5498913172024962, train_accuracy: 0.8340480754261695, validation_accuracy: 0.833, time: 28.066s\n",
      "Epoch [13/50], train_loss: 0.5441011724389136, train_accuracy: 0.836040272047949, validation_accuracy: 0.83271875, time: 28.205s\n",
      "Epoch [14/50], train_loss: 0.5366700640935754, train_accuracy: 0.838137065073558, validation_accuracy: 0.8373125, time: 30.621s\n",
      "Epoch [15/50], train_loss: 0.5329175271617466, train_accuracy: 0.839358167276407, validation_accuracy: 0.84096875, time: 30.616s\n",
      "Epoch [16/50], train_loss: 0.5295137089681577, train_accuracy: 0.8404333210087959, validation_accuracy: 0.83703125, time: 28.146s\n",
      "Epoch [17/50], train_loss: 0.5202362149161635, train_accuracy: 0.8434021561454036, validation_accuracy: 0.8380625, time: 28.021s\n",
      "Epoch [18/50], train_loss: 0.524316283175015, train_accuracy: 0.8428256596870864, validation_accuracy: 0.83221875, time: 30.549s\n",
      "Epoch [19/50], train_loss: 0.5184569516478508, train_accuracy: 0.8445770413326068, validation_accuracy: 0.83784375, time: 30.515s\n",
      "Epoch [20/50], train_loss: 0.5098754619387761, train_accuracy: 0.8472296547832179, validation_accuracy: 0.834875, time: 28.393s\n",
      "Epoch [21/50], train_loss: 0.5240222412930177, train_accuracy: 0.8448227212578813, validation_accuracy: 0.83503125, time: 27.869s\n",
      "Epoch [22/50], train_loss: 0.5110577264919702, train_accuracy: 0.8474157390830545, validation_accuracy: 0.8381875, time: 30.627s\n",
      "Epoch [23/50], train_loss: 0.5501201265900625, train_accuracy: 0.8380774694481202, validation_accuracy: 0.83640625, time: 30.616s\n",
      "Epoch [24/50], train_loss: 0.5094517672457212, train_accuracy: 0.8478681793414805, validation_accuracy: 0.82503125, time: 28.579s\n",
      "Epoch [25/50], train_loss: 0.5131034023037325, train_accuracy: 0.8490102261228303, validation_accuracy: 0.839875, time: 27.768s\n",
      "Epoch [26/50], train_loss: 0.5097502828858758, train_accuracy: 0.8494480715342103, validation_accuracy: 0.8408125, time: 30.538s\n",
      "Epoch [27/50], train_loss: 0.5085818989122203, train_accuracy: 0.8503067350354169, validation_accuracy: 0.82909375, time: 30.573s\n",
      "Epoch [28/50], train_loss: 0.8496409356617284, train_accuracy: 0.7307749377286527, validation_accuracy: 0.82509375, time: 28.632s\n",
      "Epoch [29/50], train_loss: 0.5339745222458563, train_accuracy: 0.8420509165563945, validation_accuracy: 0.83371875, time: 27.455s\n",
      "Epoch [30/50], train_loss: 0.506039436195416, train_accuracy: 0.849516180820425, validation_accuracy: 0.8353125, time: 30.55s\n",
      "Epoch [31/50], train_loss: 0.5079249573365925, train_accuracy: 0.8489786039542305, validation_accuracy: 0.83103125, time: 30.423s\n",
      "Epoch [32/50], train_loss: 0.5600373467883266, train_accuracy: 0.8304832840351833, validation_accuracy: 0.8326875, time: 28.893s\n",
      "Epoch [33/50], train_loss: 0.49603522213723505, train_accuracy: 0.8523427161983342, validation_accuracy: 0.82615625, time: 27.298s\n",
      "Epoch [34/50], train_loss: 0.515971308930603, train_accuracy: 0.8449978594224332, validation_accuracy: 0.8349375, time: 30.597s\n",
      "Epoch [35/50], train_loss: 0.5036704775208087, train_accuracy: 0.8501255156845956, validation_accuracy: 0.83190625, time: 30.551s\n",
      "Epoch [36/50], train_loss: 0.4970262741055704, train_accuracy: 0.8519437903790769, validation_accuracy: 0.8348125, time: 28.992s\n",
      "Epoch [37/50], train_loss: 0.5005400778792872, train_accuracy: 0.8514560792402895, validation_accuracy: 0.819125, time: 27.22s\n",
      "Epoch [38/50], train_loss: 0.48717861751088226, train_accuracy: 0.8553638495368568, validation_accuracy: 0.83728125, time: 30.625s\n",
      "Epoch [39/50], train_loss: 0.5026572267193966, train_accuracy: 0.8520459543083988, validation_accuracy: 0.74090625, time: 30.567s\n",
      "Epoch [40/50], train_loss: 0.500534215899834, train_accuracy: 0.8559598057912353, validation_accuracy: 0.82925, time: 29.184s\n",
      "Epoch [41/50], train_loss: 0.4869872236867503, train_accuracy: 0.8560826457538725, validation_accuracy: 0.83571875, time: 26.998s\n",
      "Epoch [42/50], train_loss: 0.4716681467281192, train_accuracy: 0.8598602786642796, validation_accuracy: 0.83990625, time: 30.694s\n",
      "Epoch [43/50], train_loss: 0.48698349659769147, train_accuracy: 0.8563842725928232, validation_accuracy: 0.83353125, time: 30.585s\n",
      "Epoch [44/50], train_loss: 0.5132513050683846, train_accuracy: 0.8550683038841753, validation_accuracy: 0.8331875, time: 29.428s\n",
      "Epoch [45/50], train_loss: 0.47809410774912864, train_accuracy: 0.8581709251187047, validation_accuracy: 0.83546875, time: 26.958s\n",
      "Epoch [46/50], train_loss: 0.578252866451282, train_accuracy: 0.8357726998521056, validation_accuracy: 0.830875, time: 30.678s\n",
      "Epoch [47/50], train_loss: 0.598166769871366, train_accuracy: 0.8246635887755897, validation_accuracy: 0.83109375, time: 30.652s\n",
      "Epoch [48/50], train_loss: 0.5548006214333099, train_accuracy: 0.8445113645208998, validation_accuracy: 0.80153125, time: 29.485s\n",
      "Epoch [49/50], train_loss: 0.6382912063121249, train_accuracy: 0.8136116408500039, validation_accuracy: 0.825625, time: 26.702s\n",
      "Epoch [50/50], train_loss: 0.499680503388597, train_accuracy: 0.8537730112088425, validation_accuracy: 0.8125, time: 30.636s\n"
     ]
    },
    {
     "data": {
      "text/plain": [
       "VBox(children=(Label(value='0.011 MB of 0.011 MB uploaded\\r'), FloatProgress(value=1.0, max=1.0)))"
      ],
      "application/vnd.jupyter.widget-view+json": {
       "version_major": 2,
       "version_minor": 0,
       "model_id": "6b0f426630334e1298029aab205a0268"
      }
     },
     "metadata": {},
     "output_type": "display_data"
    },
    {
     "data": {
      "text/plain": [
       "<IPython.core.display.HTML object>"
      ],
      "text/html": [
       "<style>\n",
       "    table.wandb td:nth-child(1) { padding: 0 10px; text-align: left ; width: auto;} td:nth-child(2) {text-align: left ; width: 100%}\n",
       "    .wandb-row { display: flex; flex-direction: row; flex-wrap: wrap; justify-content: flex-start; width: 100% }\n",
       "    .wandb-col { display: flex; flex-direction: column; flex-basis: 100%; flex: 1; padding: 10px; }\n",
       "    </style>\n",
       "<div class=\"wandb-row\"><div class=\"wandb-col\"><h3>Run history:</h3><br/><table class=\"wandb\"><tr><td>epoch</td><td>▁▁▁▁▂▂▂▂▂▃▃▃▃▃▃▄▄▄▄▄▅▅▅▅▅▅▆▆▆▆▆▆▇▇▇▇▇███</td></tr><tr><td>train_accuracy</td><td>▁▄▅▆▆▇▇▇▇▇▇▇▇▇▇▇▇█▇███▃▇█▇█▇████████▇▇▇█</td></tr><tr><td>train_loss</td><td>█▅▄▃▃▃▂▂▂▂▂▂▂▂▂▂▂▁▂▁▁▁▆▂▁▂▁▂▁▁▁▁▁▁▁▂▂▃▂▁</td></tr><tr><td>validation_accuracy</td><td>▂▄▅▆▆▇▇▇▇▇▇███▇████▇█▇▇█▇▇▇██▆█▁██▇▇▇▇▅▆</td></tr></table><br/></div><div class=\"wandb-col\"><h3>Run summary:</h3><br/><table class=\"wandb\"><tr><td>epoch</td><td>50</td></tr><tr><td>train_accuracy</td><td>0.85377</td></tr><tr><td>train_loss</td><td>0.49968</td></tr><tr><td>validation_accuracy</td><td>0.8125</td></tr></table><br/></div></div>"
      ]
     },
     "metadata": {},
     "output_type": "display_data"
    },
    {
     "data": {
      "text/plain": [
       "<IPython.core.display.HTML object>"
      ],
      "text/html": [
       " View run <strong style=\"color:#cdcd00\">crimson-sweep-18</strong> at: <a href='https://wandb.ai/spajro-chess/raport/runs/1e0a68zz' target=\"_blank\">https://wandb.ai/spajro-chess/raport/runs/1e0a68zz</a><br/> View project at: <a href='https://wandb.ai/spajro-chess/raport' target=\"_blank\">https://wandb.ai/spajro-chess/raport</a><br/>Synced 5 W&B file(s), 0 media file(s), 0 artifact file(s) and 0 other file(s)"
      ]
     },
     "metadata": {},
     "output_type": "display_data"
    },
    {
     "data": {
      "text/plain": [
       "<IPython.core.display.HTML object>"
      ],
      "text/html": [
       "Find logs at: <code>.\\wandb\\run-20240617_092632-1e0a68zz\\logs</code>"
      ]
     },
     "metadata": {},
     "output_type": "display_data"
    },
    {
     "name": "stderr",
     "output_type": "stream",
     "text": [
      "wandb: Sweep Agent: Waiting for job.\n",
      "wandb: Job received.\n",
      "wandb: Agent Starting Run: eg67nbf0 with config:\n",
      "wandb: \tcriterion: CrossEntropy\n",
      "wandb: \tepochs: 20\n",
      "wandb: \tlearning_rate: 0.01\n",
      "wandb: \tmodel: 0\n",
      "wandb: \toptimizer: sgd\n"
     ]
    },
    {
     "data": {
      "text/plain": [
       "<IPython.core.display.HTML object>"
      ],
      "text/html": [
       "Tracking run with wandb version 0.17.1"
      ]
     },
     "metadata": {},
     "output_type": "display_data"
    },
    {
     "data": {
      "text/plain": [
       "<IPython.core.display.HTML object>"
      ],
      "text/html": [
       "Run data is saved locally in <code>D:\\Projekty\\TacticsClassifier\\wandb\\run-20240617_095134-eg67nbf0</code>"
      ]
     },
     "metadata": {},
     "output_type": "display_data"
    },
    {
     "data": {
      "text/plain": [
       "<IPython.core.display.HTML object>"
      ],
      "text/html": [
       "Syncing run <strong><a href='https://wandb.ai/spajro-chess/raport/runs/eg67nbf0' target=\"_blank\">polished-sweep-19</a></strong> to <a href='https://wandb.ai/spajro-chess/raport' target=\"_blank\">Weights & Biases</a> (<a href='https://wandb.me/run' target=\"_blank\">docs</a>)<br/>Sweep page: <a href='https://wandb.ai/spajro-chess/raport/sweeps/ai82s9v2' target=\"_blank\">https://wandb.ai/spajro-chess/raport/sweeps/ai82s9v2</a>"
      ]
     },
     "metadata": {},
     "output_type": "display_data"
    },
    {
     "data": {
      "text/plain": [
       "<IPython.core.display.HTML object>"
      ],
      "text/html": [
       " View project at <a href='https://wandb.ai/spajro-chess/raport' target=\"_blank\">https://wandb.ai/spajro-chess/raport</a>"
      ]
     },
     "metadata": {},
     "output_type": "display_data"
    },
    {
     "data": {
      "text/plain": [
       "<IPython.core.display.HTML object>"
      ],
      "text/html": [
       " View sweep at <a href='https://wandb.ai/spajro-chess/raport/sweeps/ai82s9v2' target=\"_blank\">https://wandb.ai/spajro-chess/raport/sweeps/ai82s9v2</a>"
      ]
     },
     "metadata": {},
     "output_type": "display_data"
    },
    {
     "data": {
      "text/plain": [
       "<IPython.core.display.HTML object>"
      ],
      "text/html": [
       " View run at <a href='https://wandb.ai/spajro-chess/raport/runs/eg67nbf0' target=\"_blank\">https://wandb.ai/spajro-chess/raport/runs/eg67nbf0</a>"
      ]
     },
     "metadata": {},
     "output_type": "display_data"
    },
    {
     "name": "stdout",
     "output_type": "stream",
     "text": [
      "Epoch [1/20], train_loss: 1.4141467105806909, train_accuracy: 0.5206431949093173, validation_accuracy: 0.485625, time: 26.501s\n",
      "Epoch [2/20], train_loss: 0.986745213303778, train_accuracy: 0.6720623005370904, validation_accuracy: 0.62659375, time: 26.597s\n",
      "Epoch [3/20], train_loss: 0.8510913722935638, train_accuracy: 0.7184860765159181, validation_accuracy: 0.70946875, time: 21.902s\n",
      "Epoch [4/20], train_loss: 0.7808816960890339, train_accuracy: 0.7417648575542928, validation_accuracy: 0.5601875, time: 27.217s\n",
      "Epoch [5/20], train_loss: 0.7360539890525916, train_accuracy: 0.7561614579279209, validation_accuracy: 0.75384375, time: 26.257s\n",
      "Epoch [6/20], train_loss: 0.7041485547935897, train_accuracy: 0.7660567642251109, validation_accuracy: 0.76015625, time: 26.992s\n",
      "Epoch [7/20], train_loss: 0.679224081556092, train_accuracy: 0.7738674398692301, validation_accuracy: 0.74715625, time: 22.963s\n",
      "Epoch [8/20], train_loss: 0.6593566051023688, train_accuracy: 0.780489851716354, validation_accuracy: 0.54934375, time: 24.447s\n",
      "Epoch [9/20], train_loss: 0.6423223527735418, train_accuracy: 0.7857622402117226, validation_accuracy: 0.52315625, time: 27.256s\n",
      "Epoch [10/20], train_loss: 0.6285836635219956, train_accuracy: 0.790268399237176, validation_accuracy: 0.726375, time: 27.25s\n",
      "Epoch [11/20], train_loss: 0.6158729332485505, train_accuracy: 0.794324550478711, validation_accuracy: 0.78059375, time: 25.209s\n",
      "Epoch [12/20], train_loss: 0.6047051512658935, train_accuracy: 0.7978844769206819, validation_accuracy: 0.78109375, time: 20.738s\n",
      "Epoch [13/20], train_loss: 0.5947612650472663, train_accuracy: 0.8008545282945435, validation_accuracy: 0.748125, time: 26.804s\n",
      "Epoch [14/20], train_loss: 0.5858283824249804, train_accuracy: 0.8037601190939518, validation_accuracy: 0.78934375, time: 26.789s\n",
      "Epoch [15/20], train_loss: 0.577634155700073, train_accuracy: 0.8065696271503074, validation_accuracy: 0.7966875, time: 25.906s\n",
      "Epoch [16/20], train_loss: 0.5705643607737155, train_accuracy: 0.8088135848836304, validation_accuracy: 0.79428125, time: 27.028s\n",
      "Epoch [17/20], train_loss: 0.5634560950836665, train_accuracy: 0.8116279578890013, validation_accuracy: 0.79521875, time: 25.383s\n",
      "Epoch [18/20], train_loss: 0.5570832773777178, train_accuracy: 0.813384204483537, validation_accuracy: 0.79975, time: 27.357s\n",
      "Epoch [19/20], train_loss: 0.550837999041142, train_accuracy: 0.8156220810305908, validation_accuracy: 0.7885, time: 26.652s\n",
      "Epoch [20/20], train_loss: 0.5454940888376805, train_accuracy: 0.8170548085156067, validation_accuracy: 0.7690625, time: 26.34s\n"
     ]
    },
    {
     "data": {
      "text/plain": [
       "VBox(children=(Label(value='0.004 MB of 0.007 MB uploaded\\r'), FloatProgress(value=0.614587650227932, max=1.0)…"
      ],
      "application/vnd.jupyter.widget-view+json": {
       "version_major": 2,
       "version_minor": 0,
       "model_id": "16f9fd5e588f4ed68315898fce6b8425"
      }
     },
     "metadata": {},
     "output_type": "display_data"
    },
    {
     "data": {
      "text/plain": [
       "<IPython.core.display.HTML object>"
      ],
      "text/html": [
       "<style>\n",
       "    table.wandb td:nth-child(1) { padding: 0 10px; text-align: left ; width: auto;} td:nth-child(2) {text-align: left ; width: 100%}\n",
       "    .wandb-row { display: flex; flex-direction: row; flex-wrap: wrap; justify-content: flex-start; width: 100% }\n",
       "    .wandb-col { display: flex; flex-direction: column; flex-basis: 100%; flex: 1; padding: 10px; }\n",
       "    </style>\n",
       "<div class=\"wandb-row\"><div class=\"wandb-col\"><h3>Run history:</h3><br/><table class=\"wandb\"><tr><td>epoch</td><td>▁▁▂▂▂▃▃▄▄▄▅▅▅▆▆▇▇▇██</td></tr><tr><td>train_accuracy</td><td>▁▅▆▆▇▇▇▇▇▇▇█████████</td></tr><tr><td>train_loss</td><td>█▅▃▃▃▂▂▂▂▂▂▁▁▁▁▁▁▁▁▁</td></tr><tr><td>validation_accuracy</td><td>▁▄▆▃▇▇▇▂▂▆██▇██████▇</td></tr></table><br/></div><div class=\"wandb-col\"><h3>Run summary:</h3><br/><table class=\"wandb\"><tr><td>epoch</td><td>20</td></tr><tr><td>train_accuracy</td><td>0.81705</td></tr><tr><td>train_loss</td><td>0.54549</td></tr><tr><td>validation_accuracy</td><td>0.76906</td></tr></table><br/></div></div>"
      ]
     },
     "metadata": {},
     "output_type": "display_data"
    },
    {
     "data": {
      "text/plain": [
       "<IPython.core.display.HTML object>"
      ],
      "text/html": [
       " View run <strong style=\"color:#cdcd00\">polished-sweep-19</strong> at: <a href='https://wandb.ai/spajro-chess/raport/runs/eg67nbf0' target=\"_blank\">https://wandb.ai/spajro-chess/raport/runs/eg67nbf0</a><br/> View project at: <a href='https://wandb.ai/spajro-chess/raport' target=\"_blank\">https://wandb.ai/spajro-chess/raport</a><br/>Synced 5 W&B file(s), 0 media file(s), 0 artifact file(s) and 0 other file(s)"
      ]
     },
     "metadata": {},
     "output_type": "display_data"
    },
    {
     "data": {
      "text/plain": [
       "<IPython.core.display.HTML object>"
      ],
      "text/html": [
       "Find logs at: <code>.\\wandb\\run-20240617_095134-eg67nbf0\\logs</code>"
      ]
     },
     "metadata": {},
     "output_type": "display_data"
    },
    {
     "name": "stderr",
     "output_type": "stream",
     "text": [
      "wandb: Agent Starting Run: icx5qhs2 with config:\n",
      "wandb: \tcriterion: CrossEntropy\n",
      "wandb: \tepochs: 20\n",
      "wandb: \tlearning_rate: 0.0003\n",
      "wandb: \tmodel: 0\n",
      "wandb: \toptimizer: sgd\n"
     ]
    },
    {
     "data": {
      "text/plain": [
       "<IPython.core.display.HTML object>"
      ],
      "text/html": [
       "Tracking run with wandb version 0.17.1"
      ]
     },
     "metadata": {},
     "output_type": "display_data"
    },
    {
     "data": {
      "text/plain": [
       "<IPython.core.display.HTML object>"
      ],
      "text/html": [
       "Run data is saved locally in <code>D:\\Projekty\\TacticsClassifier\\wandb\\run-20240617_100028-icx5qhs2</code>"
      ]
     },
     "metadata": {},
     "output_type": "display_data"
    },
    {
     "data": {
      "text/plain": [
       "<IPython.core.display.HTML object>"
      ],
      "text/html": [
       "Syncing run <strong><a href='https://wandb.ai/spajro-chess/raport/runs/icx5qhs2' target=\"_blank\">crisp-sweep-20</a></strong> to <a href='https://wandb.ai/spajro-chess/raport' target=\"_blank\">Weights & Biases</a> (<a href='https://wandb.me/run' target=\"_blank\">docs</a>)<br/>Sweep page: <a href='https://wandb.ai/spajro-chess/raport/sweeps/ai82s9v2' target=\"_blank\">https://wandb.ai/spajro-chess/raport/sweeps/ai82s9v2</a>"
      ]
     },
     "metadata": {},
     "output_type": "display_data"
    },
    {
     "data": {
      "text/plain": [
       "<IPython.core.display.HTML object>"
      ],
      "text/html": [
       " View project at <a href='https://wandb.ai/spajro-chess/raport' target=\"_blank\">https://wandb.ai/spajro-chess/raport</a>"
      ]
     },
     "metadata": {},
     "output_type": "display_data"
    },
    {
     "data": {
      "text/plain": [
       "<IPython.core.display.HTML object>"
      ],
      "text/html": [
       " View sweep at <a href='https://wandb.ai/spajro-chess/raport/sweeps/ai82s9v2' target=\"_blank\">https://wandb.ai/spajro-chess/raport/sweeps/ai82s9v2</a>"
      ]
     },
     "metadata": {},
     "output_type": "display_data"
    },
    {
     "data": {
      "text/plain": [
       "<IPython.core.display.HTML object>"
      ],
      "text/html": [
       " View run at <a href='https://wandb.ai/spajro-chess/raport/runs/icx5qhs2' target=\"_blank\">https://wandb.ai/spajro-chess/raport/runs/icx5qhs2</a>"
      ]
     },
     "metadata": {},
     "output_type": "display_data"
    },
    {
     "name": "stdout",
     "output_type": "stream",
     "text": [
      "Epoch [1/20], train_loss: 1.8642259892057405, train_accuracy: 0.3836717716198334, validation_accuracy: 0.38334375, time: 22.025s\n",
      "Epoch [2/20], train_loss: 1.8247587790589042, train_accuracy: 0.38374109714330196, validation_accuracy: 0.38415625, time: 27.574s\n",
      "Epoch [3/20], train_loss: 1.7361562321081583, train_accuracy: 0.3966624017280299, validation_accuracy: 0.4089375, time: 27.582s\n",
      "Epoch [4/20], train_loss: 1.6426233275999882, train_accuracy: 0.4266377850860123, validation_accuracy: 0.432, time: 27.451s\n",
      "Epoch [5/20], train_loss: 1.5593217086947881, train_accuracy: 0.4582818459562544, validation_accuracy: 0.460375, time: 20.73s\n",
      "Epoch [6/20], train_loss: 1.463951574472766, train_accuracy: 0.5086924476531486, validation_accuracy: 0.49640625, time: 24.504s\n",
      "Epoch [7/20], train_loss: 1.397160142156747, train_accuracy: 0.5382871487506811, validation_accuracy: 0.53359375, time: 27.732s\n",
      "Epoch [8/20], train_loss: 1.3521019363019164, train_accuracy: 0.5539097162761735, validation_accuracy: 0.4863125, time: 23.238s\n",
      "Epoch [9/20], train_loss: 1.31762224636236, train_accuracy: 0.5646490912275239, validation_accuracy: 0.52459375, time: 25.358s\n",
      "Epoch [10/20], train_loss: 1.2887972298184007, train_accuracy: 0.572987613839807, validation_accuracy: 0.57134375, time: 20.337s\n",
      "Epoch [11/20], train_loss: 1.2632049692227347, train_accuracy: 0.5816727640694326, validation_accuracy: 0.5258125, time: 25.392s\n",
      "Epoch [12/20], train_loss: 1.2393626669814561, train_accuracy: 0.5890127558963182, validation_accuracy: 0.58184375, time: 27.593s\n",
      "Epoch [13/20], train_loss: 1.2170327505713132, train_accuracy: 0.5967954580835992, validation_accuracy: 0.548125, time: 27.261s\n",
      "Epoch [14/20], train_loss: 1.1965434619719169, train_accuracy: 0.6040831517085701, validation_accuracy: 0.60140625, time: 27.3s\n",
      "Epoch [15/20], train_loss: 1.1776395437735439, train_accuracy: 0.6103029890246751, validation_accuracy: 0.517625, time: 21.182s\n",
      "Epoch [16/20], train_loss: 1.1604837391027043, train_accuracy: 0.6164085000389196, validation_accuracy: 0.6105625, time: 27.572s\n",
      "Epoch [17/20], train_loss: 1.1448206793401754, train_accuracy: 0.6216249416206118, validation_accuracy: 0.5251875, time: 27.618s\n",
      "Epoch [18/20], train_loss: 1.1302150164706852, train_accuracy: 0.6267136782906515, validation_accuracy: 0.423875, time: 27.497s\n",
      "Epoch [19/20], train_loss: 1.116036738812659, train_accuracy: 0.6309875360006227, validation_accuracy: 0.61959375, time: 21.232s\n",
      "Epoch [20/20], train_loss: 1.1029291819011766, train_accuracy: 0.6356469409200591, validation_accuracy: 0.57078125, time: 24.058s\n"
     ]
    },
    {
     "data": {
      "text/plain": [
       "VBox(children=(Label(value='0.001 MB of 0.001 MB uploaded\\r'), FloatProgress(value=1.0, max=1.0)))"
      ],
      "application/vnd.jupyter.widget-view+json": {
       "version_major": 2,
       "version_minor": 0,
       "model_id": "98bd61560dbe47bdb5fcd8c51739b665"
      }
     },
     "metadata": {},
     "output_type": "display_data"
    },
    {
     "data": {
      "text/plain": [
       "<IPython.core.display.HTML object>"
      ],
      "text/html": [
       "<style>\n",
       "    table.wandb td:nth-child(1) { padding: 0 10px; text-align: left ; width: auto;} td:nth-child(2) {text-align: left ; width: 100%}\n",
       "    .wandb-row { display: flex; flex-direction: row; flex-wrap: wrap; justify-content: flex-start; width: 100% }\n",
       "    .wandb-col { display: flex; flex-direction: column; flex-basis: 100%; flex: 1; padding: 10px; }\n",
       "    </style>\n",
       "<div class=\"wandb-row\"><div class=\"wandb-col\"><h3>Run history:</h3><br/><table class=\"wandb\"><tr><td>epoch</td><td>▁▁▂▂▂▃▃▄▄▄▅▅▅▆▆▇▇▇██</td></tr><tr><td>train_accuracy</td><td>▁▁▁▂▃▄▅▆▆▆▇▇▇▇▇▇████</td></tr><tr><td>train_loss</td><td>██▇▆▅▄▄▃▃▃▂▂▂▂▂▂▁▁▁▁</td></tr><tr><td>validation_accuracy</td><td>▁▁▂▂▃▄▅▄▅▇▅▇▆▇▅█▅▂█▇</td></tr></table><br/></div><div class=\"wandb-col\"><h3>Run summary:</h3><br/><table class=\"wandb\"><tr><td>epoch</td><td>20</td></tr><tr><td>train_accuracy</td><td>0.63565</td></tr><tr><td>train_loss</td><td>1.10293</td></tr><tr><td>validation_accuracy</td><td>0.57078</td></tr></table><br/></div></div>"
      ]
     },
     "metadata": {},
     "output_type": "display_data"
    },
    {
     "data": {
      "text/plain": [
       "<IPython.core.display.HTML object>"
      ],
      "text/html": [
       " View run <strong style=\"color:#cdcd00\">crisp-sweep-20</strong> at: <a href='https://wandb.ai/spajro-chess/raport/runs/icx5qhs2' target=\"_blank\">https://wandb.ai/spajro-chess/raport/runs/icx5qhs2</a><br/> View project at: <a href='https://wandb.ai/spajro-chess/raport' target=\"_blank\">https://wandb.ai/spajro-chess/raport</a><br/>Synced 5 W&B file(s), 0 media file(s), 0 artifact file(s) and 0 other file(s)"
      ]
     },
     "metadata": {},
     "output_type": "display_data"
    },
    {
     "data": {
      "text/plain": [
       "<IPython.core.display.HTML object>"
      ],
      "text/html": [
       "Find logs at: <code>.\\wandb\\run-20240617_100028-icx5qhs2\\logs</code>"
      ]
     },
     "metadata": {},
     "output_type": "display_data"
    },
    {
     "name": "stderr",
     "output_type": "stream",
     "text": [
      "wandb: Sweep Agent: Waiting for job.\n",
      "wandb: Job received.\n",
      "wandb: Agent Starting Run: 49ppurtb with config:\n",
      "wandb: \tcriterion: CrossEntropy\n",
      "wandb: \tepochs: 20\n",
      "wandb: \tlearning_rate: 0.01\n",
      "wandb: \tmodel: 0\n",
      "wandb: \toptimizer: sgd\n"
     ]
    },
    {
     "data": {
      "text/plain": [
       "<IPython.core.display.HTML object>"
      ],
      "text/html": [
       "Tracking run with wandb version 0.17.1"
      ]
     },
     "metadata": {},
     "output_type": "display_data"
    },
    {
     "data": {
      "text/plain": [
       "<IPython.core.display.HTML object>"
      ],
      "text/html": [
       "Run data is saved locally in <code>D:\\Projekty\\TacticsClassifier\\wandb\\run-20240617_100917-49ppurtb</code>"
      ]
     },
     "metadata": {},
     "output_type": "display_data"
    },
    {
     "data": {
      "text/plain": [
       "<IPython.core.display.HTML object>"
      ],
      "text/html": [
       "Syncing run <strong><a href='https://wandb.ai/spajro-chess/raport/runs/49ppurtb' target=\"_blank\">vocal-sweep-21</a></strong> to <a href='https://wandb.ai/spajro-chess/raport' target=\"_blank\">Weights & Biases</a> (<a href='https://wandb.me/run' target=\"_blank\">docs</a>)<br/>Sweep page: <a href='https://wandb.ai/spajro-chess/raport/sweeps/ai82s9v2' target=\"_blank\">https://wandb.ai/spajro-chess/raport/sweeps/ai82s9v2</a>"
      ]
     },
     "metadata": {},
     "output_type": "display_data"
    },
    {
     "data": {
      "text/plain": [
       "<IPython.core.display.HTML object>"
      ],
      "text/html": [
       " View project at <a href='https://wandb.ai/spajro-chess/raport' target=\"_blank\">https://wandb.ai/spajro-chess/raport</a>"
      ]
     },
     "metadata": {},
     "output_type": "display_data"
    },
    {
     "data": {
      "text/plain": [
       "<IPython.core.display.HTML object>"
      ],
      "text/html": [
       " View sweep at <a href='https://wandb.ai/spajro-chess/raport/sweeps/ai82s9v2' target=\"_blank\">https://wandb.ai/spajro-chess/raport/sweeps/ai82s9v2</a>"
      ]
     },
     "metadata": {},
     "output_type": "display_data"
    },
    {
     "data": {
      "text/plain": [
       "<IPython.core.display.HTML object>"
      ],
      "text/html": [
       " View run at <a href='https://wandb.ai/spajro-chess/raport/runs/49ppurtb' target=\"_blank\">https://wandb.ai/spajro-chess/raport/runs/49ppurtb</a>"
      ]
     },
     "metadata": {},
     "output_type": "display_data"
    },
    {
     "name": "stdout",
     "output_type": "stream",
     "text": [
      "Epoch [1/20], train_loss: 1.4277890548127408, train_accuracy: 0.5238333852261229, validation_accuracy: 0.23525, time: 26.077s\n",
      "Epoch [2/20], train_loss: 1.0509113753761803, train_accuracy: 0.6551943060636725, validation_accuracy: 0.6775, time: 27.177s\n",
      "Epoch [3/20], train_loss: 0.9174291073320218, train_accuracy: 0.7012033451389429, validation_accuracy: 0.40315625, time: 21.215s\n",
      "Epoch [4/20], train_loss: 0.8414958754341695, train_accuracy: 0.725772553903635, validation_accuracy: 0.67140625, time: 23.481s\n",
      "Epoch [5/20], train_loss: 0.7899036679634085, train_accuracy: 0.7421686483225656, validation_accuracy: 0.748375, time: 27.656s\n",
      "Epoch [6/20], train_loss: 0.7513292512652789, train_accuracy: 0.7539673659220051, validation_accuracy: 0.66559375, time: 27.199s\n",
      "Epoch [7/20], train_loss: 0.7222834133244473, train_accuracy: 0.763220498949171, validation_accuracy: 0.3255625, time: 26.259s\n",
      "Epoch [8/20], train_loss: 0.6990849327334006, train_accuracy: 0.7699025064217327, validation_accuracy: 0.497125, time: 20.209s\n",
      "Epoch [9/20], train_loss: 0.6788777430536956, train_accuracy: 0.776010449910485, validation_accuracy: 0.7745, time: 25.762s\n",
      "Epoch [10/20], train_loss: 0.6613189029240781, train_accuracy: 0.7816379796839729, validation_accuracy: 0.7201875, time: 27.699s\n",
      "Epoch [11/20], train_loss: 0.647203339524628, train_accuracy: 0.7862621137230482, validation_accuracy: 0.74671875, time: 30.716s\n",
      "Epoch [12/20], train_loss: 0.6340681465915774, train_accuracy: 0.7897064976259048, validation_accuracy: 0.7741875, time: 23.838s\n",
      "Epoch [13/20], train_loss: 0.6230817586392329, train_accuracy: 0.7932031797306764, validation_accuracy: 0.77828125, time: 21.245s\n",
      "Epoch [14/20], train_loss: 0.6126631416042296, train_accuracy: 0.7964651280454581, validation_accuracy: 0.663875, time: 27.834s\n",
      "Epoch [15/20], train_loss: 0.6038496552299524, train_accuracy: 0.7994132871487507, validation_accuracy: 0.59053125, time: 27.464s\n",
      "Epoch [16/20], train_loss: 0.5953658304275163, train_accuracy: 0.8020087374484315, validation_accuracy: 0.433, time: 27.211s\n",
      "Epoch [17/20], train_loss: 0.5887328540015946, train_accuracy: 0.804555538257959, validation_accuracy: 0.63521875, time: 27.609s\n",
      "Epoch [18/20], train_loss: 0.5802642854700907, train_accuracy: 0.8069211197166654, validation_accuracy: 0.64321875, time: 25.661s\n",
      "Epoch [19/20], train_loss: 0.5736718294863535, train_accuracy: 0.8086506090916167, validation_accuracy: 0.75721875, time: 27.297s\n",
      "Epoch [20/20], train_loss: 0.5671679284677317, train_accuracy: 0.8109602436366466, validation_accuracy: 0.797625, time: 26.805s\n"
     ]
    },
    {
     "data": {
      "text/plain": [
       "VBox(children=(Label(value='0.001 MB of 0.001 MB uploaded\\r'), FloatProgress(value=1.0, max=1.0)))"
      ],
      "application/vnd.jupyter.widget-view+json": {
       "version_major": 2,
       "version_minor": 0,
       "model_id": "4527421e5d0545e5992c25a63e805f11"
      }
     },
     "metadata": {},
     "output_type": "display_data"
    },
    {
     "data": {
      "text/plain": [
       "<IPython.core.display.HTML object>"
      ],
      "text/html": [
       "<style>\n",
       "    table.wandb td:nth-child(1) { padding: 0 10px; text-align: left ; width: auto;} td:nth-child(2) {text-align: left ; width: 100%}\n",
       "    .wandb-row { display: flex; flex-direction: row; flex-wrap: wrap; justify-content: flex-start; width: 100% }\n",
       "    .wandb-col { display: flex; flex-direction: column; flex-basis: 100%; flex: 1; padding: 10px; }\n",
       "    </style>\n",
       "<div class=\"wandb-row\"><div class=\"wandb-col\"><h3>Run history:</h3><br/><table class=\"wandb\"><tr><td>epoch</td><td>▁▁▂▂▂▃▃▄▄▄▅▅▅▆▆▇▇▇██</td></tr><tr><td>train_accuracy</td><td>▁▄▅▆▆▇▇▇▇▇▇▇████████</td></tr><tr><td>train_loss</td><td>█▅▄▃▃▂▂▂▂▂▂▂▁▁▁▁▁▁▁▁</td></tr><tr><td>validation_accuracy</td><td>▁▇▃▆▇▆▂▄█▇▇██▆▅▃▆▆▇█</td></tr></table><br/></div><div class=\"wandb-col\"><h3>Run summary:</h3><br/><table class=\"wandb\"><tr><td>epoch</td><td>20</td></tr><tr><td>train_accuracy</td><td>0.81096</td></tr><tr><td>train_loss</td><td>0.56717</td></tr><tr><td>validation_accuracy</td><td>0.79763</td></tr></table><br/></div></div>"
      ]
     },
     "metadata": {},
     "output_type": "display_data"
    },
    {
     "data": {
      "text/plain": [
       "<IPython.core.display.HTML object>"
      ],
      "text/html": [
       " View run <strong style=\"color:#cdcd00\">vocal-sweep-21</strong> at: <a href='https://wandb.ai/spajro-chess/raport/runs/49ppurtb' target=\"_blank\">https://wandb.ai/spajro-chess/raport/runs/49ppurtb</a><br/> View project at: <a href='https://wandb.ai/spajro-chess/raport' target=\"_blank\">https://wandb.ai/spajro-chess/raport</a><br/>Synced 5 W&B file(s), 0 media file(s), 0 artifact file(s) and 0 other file(s)"
      ]
     },
     "metadata": {},
     "output_type": "display_data"
    },
    {
     "data": {
      "text/plain": [
       "<IPython.core.display.HTML object>"
      ],
      "text/html": [
       "Find logs at: <code>.\\wandb\\run-20240617_100917-49ppurtb\\logs</code>"
      ]
     },
     "metadata": {},
     "output_type": "display_data"
    },
    {
     "name": "stderr",
     "output_type": "stream",
     "text": [
      "wandb: Agent Starting Run: v53bpf3u with config:\n",
      "wandb: \tcriterion: CrossEntropy\n",
      "wandb: \tepochs: 20\n",
      "wandb: \tlearning_rate: 0.01\n",
      "wandb: \tmodel: 1\n",
      "wandb: \toptimizer: adam\n"
     ]
    },
    {
     "data": {
      "text/plain": [
       "<IPython.core.display.HTML object>"
      ],
      "text/html": [
       "Tracking run with wandb version 0.17.1"
      ]
     },
     "metadata": {},
     "output_type": "display_data"
    },
    {
     "data": {
      "text/plain": [
       "<IPython.core.display.HTML object>"
      ],
      "text/html": [
       "Run data is saved locally in <code>D:\\Projekty\\TacticsClassifier\\wandb\\run-20240617_101813-v53bpf3u</code>"
      ]
     },
     "metadata": {},
     "output_type": "display_data"
    },
    {
     "data": {
      "text/plain": [
       "<IPython.core.display.HTML object>"
      ],
      "text/html": [
       "Syncing run <strong><a href='https://wandb.ai/spajro-chess/raport/runs/v53bpf3u' target=\"_blank\">sweepy-sweep-22</a></strong> to <a href='https://wandb.ai/spajro-chess/raport' target=\"_blank\">Weights & Biases</a> (<a href='https://wandb.me/run' target=\"_blank\">docs</a>)<br/>Sweep page: <a href='https://wandb.ai/spajro-chess/raport/sweeps/ai82s9v2' target=\"_blank\">https://wandb.ai/spajro-chess/raport/sweeps/ai82s9v2</a>"
      ]
     },
     "metadata": {},
     "output_type": "display_data"
    },
    {
     "data": {
      "text/plain": [
       "<IPython.core.display.HTML object>"
      ],
      "text/html": [
       " View project at <a href='https://wandb.ai/spajro-chess/raport' target=\"_blank\">https://wandb.ai/spajro-chess/raport</a>"
      ]
     },
     "metadata": {},
     "output_type": "display_data"
    },
    {
     "data": {
      "text/plain": [
       "<IPython.core.display.HTML object>"
      ],
      "text/html": [
       " View sweep at <a href='https://wandb.ai/spajro-chess/raport/sweeps/ai82s9v2' target=\"_blank\">https://wandb.ai/spajro-chess/raport/sweeps/ai82s9v2</a>"
      ]
     },
     "metadata": {},
     "output_type": "display_data"
    },
    {
     "data": {
      "text/plain": [
       "<IPython.core.display.HTML object>"
      ],
      "text/html": [
       " View run at <a href='https://wandb.ai/spajro-chess/raport/runs/v53bpf3u' target=\"_blank\">https://wandb.ai/spajro-chess/raport/runs/v53bpf3u</a>"
      ]
     },
     "metadata": {},
     "output_type": "display_data"
    },
    {
     "name": "stdout",
     "output_type": "stream",
     "text": [
      "Epoch [1/20], train_loss: 1.862032129290021, train_accuracy: 0.3834686599984432, validation_accuracy: 0.38334375, time: 22.255s\n",
      "Epoch [2/20], train_loss: 1.8605176739964753, train_accuracy: 0.3836912314158948, validation_accuracy: 0.38334375, time: 22.898s\n",
      "Epoch [3/20], train_loss: 1.860347387112745, train_accuracy: 0.3836912314158948, validation_accuracy: 0.38334375, time: 24.752s\n",
      "Epoch [4/20], train_loss: 1.8603131725527, train_accuracy: 0.3836912314158948, validation_accuracy: 0.38334375, time: 24.864s\n",
      "Epoch [5/20], train_loss: 1.8603988048250297, train_accuracy: 0.3836912314158948, validation_accuracy: 0.38334375, time: 24.847s\n",
      "Epoch [6/20], train_loss: 1.860291041204732, train_accuracy: 0.3836912314158948, validation_accuracy: 0.38334375, time: 21.808s\n",
      "Epoch [7/20], train_loss: 1.860346746303659, train_accuracy: 0.3836912314158948, validation_accuracy: 0.38334375, time: 23.183s\n",
      "Epoch [8/20], train_loss: 1.860297738638167, train_accuracy: 0.3836912314158948, validation_accuracy: 0.38334375, time: 24.91s\n",
      "Epoch [9/20], train_loss: 1.8603463630653256, train_accuracy: 0.3836912314158948, validation_accuracy: 0.38334375, time: 24.857s\n",
      "Epoch [10/20], train_loss: 1.860382708044862, train_accuracy: 0.3836912314158948, validation_accuracy: 0.38334375, time: 24.856s\n",
      "Epoch [11/20], train_loss: 1.8603826572322155, train_accuracy: 0.3836912314158948, validation_accuracy: 0.38334375, time: 21.641s\n",
      "Epoch [12/20], train_loss: 1.8603854914105726, train_accuracy: 0.3836912314158948, validation_accuracy: 0.38334375, time: 23.3s\n",
      "Epoch [13/20], train_loss: 1.860370422537952, train_accuracy: 0.3836912314158948, validation_accuracy: 0.38334375, time: 24.791s\n",
      "Epoch [14/20], train_loss: 1.860357584930667, train_accuracy: 0.3836912314158948, validation_accuracy: 0.38334375, time: 24.786s\n",
      "Epoch [15/20], train_loss: 1.860334993216039, train_accuracy: 0.3836912314158948, validation_accuracy: 0.38334375, time: 24.764s\n",
      "Epoch [16/20], train_loss: 1.8605197284011383, train_accuracy: 0.3836912314158948, validation_accuracy: 0.38334375, time: 21.518s\n",
      "Epoch [17/20], train_loss: 1.8603322593360556, train_accuracy: 0.3836912314158948, validation_accuracy: 0.38334375, time: 23.431s\n",
      "Epoch [18/20], train_loss: 1.8603550941737939, train_accuracy: 0.3836912314158948, validation_accuracy: 0.38334375, time: 24.812s\n",
      "Epoch [19/20], train_loss: 1.8603600851893936, train_accuracy: 0.3836912314158948, validation_accuracy: 0.38334375, time: 24.834s\n",
      "Epoch [20/20], train_loss: 1.8604182454225218, train_accuracy: 0.3836912314158948, validation_accuracy: 0.38334375, time: 24.825s\n"
     ]
    },
    {
     "data": {
      "text/plain": [
       "VBox(children=(Label(value='0.001 MB of 0.001 MB uploaded\\r'), FloatProgress(value=1.0, max=1.0)))"
      ],
      "application/vnd.jupyter.widget-view+json": {
       "version_major": 2,
       "version_minor": 0,
       "model_id": "c9f87b851e7c44aeb97afc45c9b16cbe"
      }
     },
     "metadata": {},
     "output_type": "display_data"
    },
    {
     "data": {
      "text/plain": [
       "<IPython.core.display.HTML object>"
      ],
      "text/html": [
       "<style>\n",
       "    table.wandb td:nth-child(1) { padding: 0 10px; text-align: left ; width: auto;} td:nth-child(2) {text-align: left ; width: 100%}\n",
       "    .wandb-row { display: flex; flex-direction: row; flex-wrap: wrap; justify-content: flex-start; width: 100% }\n",
       "    .wandb-col { display: flex; flex-direction: column; flex-basis: 100%; flex: 1; padding: 10px; }\n",
       "    </style>\n",
       "<div class=\"wandb-row\"><div class=\"wandb-col\"><h3>Run history:</h3><br/><table class=\"wandb\"><tr><td>epoch</td><td>▁▁▂▂▂▃▃▄▄▄▅▅▅▆▆▇▇▇██</td></tr><tr><td>train_accuracy</td><td>▁███████████████████</td></tr><tr><td>train_loss</td><td>█▂▁▁▁▁▁▁▁▁▁▁▁▁▁▂▁▁▁▂</td></tr><tr><td>validation_accuracy</td><td>▁▁▁▁▁▁▁▁▁▁▁▁▁▁▁▁▁▁▁▁</td></tr></table><br/></div><div class=\"wandb-col\"><h3>Run summary:</h3><br/><table class=\"wandb\"><tr><td>epoch</td><td>20</td></tr><tr><td>train_accuracy</td><td>0.38369</td></tr><tr><td>train_loss</td><td>1.86042</td></tr><tr><td>validation_accuracy</td><td>0.38334</td></tr></table><br/></div></div>"
      ]
     },
     "metadata": {},
     "output_type": "display_data"
    },
    {
     "data": {
      "text/plain": [
       "<IPython.core.display.HTML object>"
      ],
      "text/html": [
       " View run <strong style=\"color:#cdcd00\">sweepy-sweep-22</strong> at: <a href='https://wandb.ai/spajro-chess/raport/runs/v53bpf3u' target=\"_blank\">https://wandb.ai/spajro-chess/raport/runs/v53bpf3u</a><br/> View project at: <a href='https://wandb.ai/spajro-chess/raport' target=\"_blank\">https://wandb.ai/spajro-chess/raport</a><br/>Synced 5 W&B file(s), 0 media file(s), 0 artifact file(s) and 0 other file(s)"
      ]
     },
     "metadata": {},
     "output_type": "display_data"
    },
    {
     "data": {
      "text/plain": [
       "<IPython.core.display.HTML object>"
      ],
      "text/html": [
       "Find logs at: <code>.\\wandb\\run-20240617_101813-v53bpf3u\\logs</code>"
      ]
     },
     "metadata": {},
     "output_type": "display_data"
    },
    {
     "name": "stderr",
     "output_type": "stream",
     "text": [
      "wandb: Agent Starting Run: xycebn78 with config:\n",
      "wandb: \tcriterion: CrossEntropy\n",
      "wandb: \tepochs: 50\n",
      "wandb: \tlearning_rate: 0.0003\n",
      "wandb: \tmodel: 0\n",
      "wandb: \toptimizer: adam\n"
     ]
    },
    {
     "data": {
      "text/plain": [
       "<IPython.core.display.HTML object>"
      ],
      "text/html": [
       "Tracking run with wandb version 0.17.1"
      ]
     },
     "metadata": {},
     "output_type": "display_data"
    },
    {
     "data": {
      "text/plain": [
       "<IPython.core.display.HTML object>"
      ],
      "text/html": [
       "Run data is saved locally in <code>D:\\Projekty\\TacticsClassifier\\wandb\\run-20240617_102630-xycebn78</code>"
      ]
     },
     "metadata": {},
     "output_type": "display_data"
    },
    {
     "data": {
      "text/plain": [
       "<IPython.core.display.HTML object>"
      ],
      "text/html": [
       "Syncing run <strong><a href='https://wandb.ai/spajro-chess/raport/runs/xycebn78' target=\"_blank\">serene-sweep-23</a></strong> to <a href='https://wandb.ai/spajro-chess/raport' target=\"_blank\">Weights & Biases</a> (<a href='https://wandb.me/run' target=\"_blank\">docs</a>)<br/>Sweep page: <a href='https://wandb.ai/spajro-chess/raport/sweeps/ai82s9v2' target=\"_blank\">https://wandb.ai/spajro-chess/raport/sweeps/ai82s9v2</a>"
      ]
     },
     "metadata": {},
     "output_type": "display_data"
    },
    {
     "data": {
      "text/plain": [
       "<IPython.core.display.HTML object>"
      ],
      "text/html": [
       " View project at <a href='https://wandb.ai/spajro-chess/raport' target=\"_blank\">https://wandb.ai/spajro-chess/raport</a>"
      ]
     },
     "metadata": {},
     "output_type": "display_data"
    },
    {
     "data": {
      "text/plain": [
       "<IPython.core.display.HTML object>"
      ],
      "text/html": [
       " View sweep at <a href='https://wandb.ai/spajro-chess/raport/sweeps/ai82s9v2' target=\"_blank\">https://wandb.ai/spajro-chess/raport/sweeps/ai82s9v2</a>"
      ]
     },
     "metadata": {},
     "output_type": "display_data"
    },
    {
     "data": {
      "text/plain": [
       "<IPython.core.display.HTML object>"
      ],
      "text/html": [
       " View run at <a href='https://wandb.ai/spajro-chess/raport/runs/xycebn78' target=\"_blank\">https://wandb.ai/spajro-chess/raport/runs/xycebn78</a>"
      ]
     },
     "metadata": {},
     "output_type": "display_data"
    },
    {
     "name": "stdout",
     "output_type": "stream",
     "text": [
      "Epoch [1/50], train_loss: 1.1051904658202003, train_accuracy: 0.6361346520588465, validation_accuracy: 0.70659375, time: 24.46s\n",
      "Epoch [2/50], train_loss: 0.8315339729733863, train_accuracy: 0.7284154374562155, validation_accuracy: 0.74228125, time: 29.146s\n",
      "Epoch [3/50], train_loss: 0.7423946538017521, train_accuracy: 0.7559242916634233, validation_accuracy: 0.76, time: 28.505s\n",
      "Epoch [4/50], train_loss: 0.6888647104127125, train_accuracy: 0.7718898380944967, validation_accuracy: 0.77090625, time: 28.4s\n",
      "Epoch [5/50], train_loss: 0.6535522797671034, train_accuracy: 0.7832020607924028, validation_accuracy: 0.78065625, time: 22.094s\n",
      "Epoch [6/50], train_loss: 0.6273453761789041, train_accuracy: 0.7915369346929244, validation_accuracy: 0.78940625, time: 29.415s\n",
      "Epoch [7/50], train_loss: 0.6072325148236439, train_accuracy: 0.7981277243714486, validation_accuracy: 0.79090625, time: 30.466s\n",
      "Epoch [8/50], train_loss: 0.5907981565042796, train_accuracy: 0.8034840332373316, validation_accuracy: 0.7954375, time: 29.766s\n",
      "Epoch [9/50], train_loss: 0.576874758658209, train_accuracy: 0.8078053242002023, validation_accuracy: 0.80121875, time: 22.682s\n",
      "Epoch [10/50], train_loss: 0.5649550521038452, train_accuracy: 0.811696067175216, validation_accuracy: 0.801, time: 27.114s\n",
      "Epoch [11/50], train_loss: 0.5545815287783946, train_accuracy: 0.8148619327469449, validation_accuracy: 0.80503125, time: 30.622s\n",
      "Epoch [12/50], train_loss: 0.5461376641820523, train_accuracy: 0.8182564509223943, validation_accuracy: 0.80771875, time: 30.579s\n",
      "Epoch [13/50], train_loss: 0.5379909323265258, train_accuracy: 0.8205490581458706, validation_accuracy: 0.8076875, time: 25.237s\n",
      "Epoch [14/50], train_loss: 0.5312021547797819, train_accuracy: 0.8227346364910095, validation_accuracy: 0.80940625, time: 25.47s\n",
      "Epoch [15/50], train_loss: 0.5247918924506262, train_accuracy: 0.8245748034560598, validation_accuracy: 0.80625, time: 29.615s\n",
      "Epoch [16/50], train_loss: 0.5194321081047074, train_accuracy: 0.8268163287148751, validation_accuracy: 0.8103125, time: 29.5s\n",
      "Epoch [17/50], train_loss: 0.5141276485903065, train_accuracy: 0.8283755448742898, validation_accuracy: 0.81246875, time: 27.228s\n",
      "Epoch [18/50], train_loss: 0.5089856447415508, train_accuracy: 0.8297012434809683, validation_accuracy: 0.81534375, time: 22.451s\n",
      "Epoch [19/50], train_loss: 0.5043437649509166, train_accuracy: 0.83125316221686, validation_accuracy: 0.81190625, time: 30.606s\n",
      "Epoch [20/50], train_loss: 0.500450482523408, train_accuracy: 0.8323222347629797, validation_accuracy: 0.8169375, time: 28.58s\n",
      "Epoch [21/50], train_loss: 0.4962146728395757, train_accuracy: 0.8339580738693858, validation_accuracy: 0.81503125, time: 30.361s\n",
      "Epoch [22/50], train_loss: 0.4925723800748399, train_accuracy: 0.8350344438390286, validation_accuracy: 0.81759375, time: 24.431s\n",
      "Epoch [23/50], train_loss: 0.4888708641643824, train_accuracy: 0.8366204172180276, validation_accuracy: 0.80859375, time: 29.338s\n",
      "Epoch [24/50], train_loss: 0.4854759772839475, train_accuracy: 0.8378038160660076, validation_accuracy: 0.8168125, time: 30.526s\n",
      "Epoch [25/50], train_loss: 0.4829020116180547, train_accuracy: 0.8384350432007472, validation_accuracy: 0.81796875, time: 30.592s\n",
      "Epoch [26/50], train_loss: 0.47967573916788203, train_accuracy: 0.8396147933369659, validation_accuracy: 0.81871875, time: 22.903s\n",
      "Epoch [27/50], train_loss: 0.47694381263918695, train_accuracy: 0.8401329104070989, validation_accuracy: 0.82034375, time: 27.767s\n",
      "Epoch [28/50], train_loss: 0.4744035421947202, train_accuracy: 0.8410365746866972, validation_accuracy: 0.81890625, time: 29.207s\n",
      "Epoch [29/50], train_loss: 0.4719398543969373, train_accuracy: 0.8417882093095664, validation_accuracy: 0.81809375, time: 30.383s\n",
      "Epoch [30/50], train_loss: 0.4691728590124589, train_accuracy: 0.8429570133105005, validation_accuracy: 0.819, time: 24.357s\n",
      "Epoch [31/50], train_loss: 0.46663742740905695, train_accuracy: 0.8435748618354479, validation_accuracy: 0.82071875, time: 24.712s\n",
      "Epoch [32/50], train_loss: 0.46427592672851287, train_accuracy: 0.8441014925663579, validation_accuracy: 0.81615625, time: 30.539s\n",
      "Epoch [33/50], train_loss: 0.4624131600896403, train_accuracy: 0.8448348836304196, validation_accuracy: 0.82128125, time: 30.293s\n",
      "Epoch [34/50], train_loss: 0.46095822064052755, train_accuracy: 0.845379757920137, validation_accuracy: 0.8229375, time: 27.203s\n",
      "Epoch [35/50], train_loss: 0.4590793998197627, train_accuracy: 0.8462408538958511, validation_accuracy: 0.8170625, time: 22.435s\n",
      "Epoch [36/50], train_loss: 0.4566018795280677, train_accuracy: 0.8466130224955243, validation_accuracy: 0.82075, time: 30.647s\n",
      "Epoch [37/50], train_loss: 0.45468232193137514, train_accuracy: 0.8472053300381412, validation_accuracy: 0.8204375, time: 30.542s\n",
      "Epoch [38/50], train_loss: 0.45345595819498485, train_accuracy: 0.8477246633455281, validation_accuracy: 0.82178125, time: 29.39s\n",
      "Epoch [39/50], train_loss: 0.4512516373764534, train_accuracy: 0.8485395423055966, validation_accuracy: 0.82290625, time: 22.42s\n",
      "Epoch [40/50], train_loss: 0.4499024952740679, train_accuracy: 0.8488265742975014, validation_accuracy: 0.82090625, time: 29.106s\n",
      "Epoch [41/50], train_loss: 0.4483515789544289, train_accuracy: 0.8491111738148984, validation_accuracy: 0.8144375, time: 28.893s\n",
      "Epoch [42/50], train_loss: 0.44647959053529146, train_accuracy: 0.8500172705690044, validation_accuracy: 0.82284375, time: 29.899s\n",
      "Epoch [43/50], train_loss: 0.4452197911503288, train_accuracy: 0.8503395734412703, validation_accuracy: 0.821375, time: 23.387s\n",
      "Epoch [44/50], train_loss: 0.4435437185589911, train_accuracy: 0.8512432377208687, validation_accuracy: 0.8215, time: 26.405s\n",
      "Epoch [45/50], train_loss: 0.4413948867448205, train_accuracy: 0.8514475655795127, validation_accuracy: 0.82265625, time: 30.355s\n",
      "Epoch [46/50], train_loss: 0.44057036576773895, train_accuracy: 0.8517017591655639, validation_accuracy: 0.8210625, time: 30.347s\n",
      "Epoch [47/50], train_loss: 0.43929934513304886, train_accuracy: 0.852212578812174, validation_accuracy: 0.82125, time: 25.582s\n",
      "Epoch [48/50], train_loss: 0.43763387321525765, train_accuracy: 0.8526406943255235, validation_accuracy: 0.8205625, time: 24.084s\n",
      "Epoch [49/50], train_loss: 0.43648381796839836, train_accuracy: 0.853031106484004, validation_accuracy: 0.8213125, time: 30.67s\n",
      "Epoch [50/50], train_loss: 0.4354237792911238, train_accuracy: 0.8535771970109753, validation_accuracy: 0.82228125, time: 30.6s\n"
     ]
    },
    {
     "data": {
      "text/plain": [
       "VBox(children=(Label(value='0.001 MB of 0.001 MB uploaded\\r'), FloatProgress(value=1.0, max=1.0)))"
      ],
      "application/vnd.jupyter.widget-view+json": {
       "version_major": 2,
       "version_minor": 0,
       "model_id": "00ca81dacb2546db8aa7c93785f05b31"
      }
     },
     "metadata": {},
     "output_type": "display_data"
    },
    {
     "data": {
      "text/plain": [
       "<IPython.core.display.HTML object>"
      ],
      "text/html": [
       "<style>\n",
       "    table.wandb td:nth-child(1) { padding: 0 10px; text-align: left ; width: auto;} td:nth-child(2) {text-align: left ; width: 100%}\n",
       "    .wandb-row { display: flex; flex-direction: row; flex-wrap: wrap; justify-content: flex-start; width: 100% }\n",
       "    .wandb-col { display: flex; flex-direction: column; flex-basis: 100%; flex: 1; padding: 10px; }\n",
       "    </style>\n",
       "<div class=\"wandb-row\"><div class=\"wandb-col\"><h3>Run history:</h3><br/><table class=\"wandb\"><tr><td>epoch</td><td>▁▁▁▁▂▂▂▂▂▃▃▃▃▃▃▄▄▄▄▄▅▅▅▅▅▅▆▆▆▆▆▆▇▇▇▇▇███</td></tr><tr><td>train_accuracy</td><td>▁▄▅▅▆▆▆▇▇▇▇▇▇▇▇▇▇▇▇▇████████████████████</td></tr><tr><td>train_loss</td><td>█▅▄▄▃▃▃▂▂▂▂▂▂▂▂▂▂▂▂▂▁▁▁▁▁▁▁▁▁▁▁▁▁▁▁▁▁▁▁▁</td></tr><tr><td>validation_accuracy</td><td>▁▃▄▅▆▆▆▇▇▇▇▇▇▇█▇██▇█████████████▇███████</td></tr></table><br/></div><div class=\"wandb-col\"><h3>Run summary:</h3><br/><table class=\"wandb\"><tr><td>epoch</td><td>50</td></tr><tr><td>train_accuracy</td><td>0.85358</td></tr><tr><td>train_loss</td><td>0.43542</td></tr><tr><td>validation_accuracy</td><td>0.82228</td></tr></table><br/></div></div>"
      ]
     },
     "metadata": {},
     "output_type": "display_data"
    },
    {
     "data": {
      "text/plain": [
       "<IPython.core.display.HTML object>"
      ],
      "text/html": [
       " View run <strong style=\"color:#cdcd00\">serene-sweep-23</strong> at: <a href='https://wandb.ai/spajro-chess/raport/runs/xycebn78' target=\"_blank\">https://wandb.ai/spajro-chess/raport/runs/xycebn78</a><br/> View project at: <a href='https://wandb.ai/spajro-chess/raport' target=\"_blank\">https://wandb.ai/spajro-chess/raport</a><br/>Synced 5 W&B file(s), 0 media file(s), 0 artifact file(s) and 0 other file(s)"
      ]
     },
     "metadata": {},
     "output_type": "display_data"
    },
    {
     "data": {
      "text/plain": [
       "<IPython.core.display.HTML object>"
      ],
      "text/html": [
       "Find logs at: <code>.\\wandb\\run-20240617_102630-xycebn78\\logs</code>"
      ]
     },
     "metadata": {},
     "output_type": "display_data"
    },
    {
     "name": "stderr",
     "output_type": "stream",
     "text": [
      "wandb: Agent Starting Run: 879m7j8i with config:\n",
      "wandb: \tcriterion: CrossEntropy\n",
      "wandb: \tepochs: 30\n",
      "wandb: \tlearning_rate: 0.1\n",
      "wandb: \tmodel: 0\n",
      "wandb: \toptimizer: sgd\n"
     ]
    },
    {
     "data": {
      "text/plain": [
       "<IPython.core.display.HTML object>"
      ],
      "text/html": [
       "Tracking run with wandb version 0.17.1"
      ]
     },
     "metadata": {},
     "output_type": "display_data"
    },
    {
     "data": {
      "text/plain": [
       "<IPython.core.display.HTML object>"
      ],
      "text/html": [
       "Run data is saved locally in <code>D:\\Projekty\\TacticsClassifier\\wandb\\run-20240617_105006-879m7j8i</code>"
      ]
     },
     "metadata": {},
     "output_type": "display_data"
    },
    {
     "data": {
      "text/plain": [
       "<IPython.core.display.HTML object>"
      ],
      "text/html": [
       "Syncing run <strong><a href='https://wandb.ai/spajro-chess/raport/runs/879m7j8i' target=\"_blank\">skilled-sweep-24</a></strong> to <a href='https://wandb.ai/spajro-chess/raport' target=\"_blank\">Weights & Biases</a> (<a href='https://wandb.me/run' target=\"_blank\">docs</a>)<br/>Sweep page: <a href='https://wandb.ai/spajro-chess/raport/sweeps/ai82s9v2' target=\"_blank\">https://wandb.ai/spajro-chess/raport/sweeps/ai82s9v2</a>"
      ]
     },
     "metadata": {},
     "output_type": "display_data"
    },
    {
     "data": {
      "text/plain": [
       "<IPython.core.display.HTML object>"
      ],
      "text/html": [
       " View project at <a href='https://wandb.ai/spajro-chess/raport' target=\"_blank\">https://wandb.ai/spajro-chess/raport</a>"
      ]
     },
     "metadata": {},
     "output_type": "display_data"
    },
    {
     "data": {
      "text/plain": [
       "<IPython.core.display.HTML object>"
      ],
      "text/html": [
       " View sweep at <a href='https://wandb.ai/spajro-chess/raport/sweeps/ai82s9v2' target=\"_blank\">https://wandb.ai/spajro-chess/raport/sweeps/ai82s9v2</a>"
      ]
     },
     "metadata": {},
     "output_type": "display_data"
    },
    {
     "data": {
      "text/plain": [
       "<IPython.core.display.HTML object>"
      ],
      "text/html": [
       " View run at <a href='https://wandb.ai/spajro-chess/raport/runs/879m7j8i' target=\"_blank\">https://wandb.ai/spajro-chess/raport/runs/879m7j8i</a>"
      ]
     },
     "metadata": {},
     "output_type": "display_data"
    },
    {
     "name": "stdout",
     "output_type": "stream",
     "text": [
      "Epoch [1/30], train_loss: 1.8617606703350031, train_accuracy: 0.38362433836693394, validation_accuracy: 0.38334375, time: 22.682s\n",
      "Epoch [2/30], train_loss: 1.8604727739432985, train_accuracy: 0.3836912314158948, validation_accuracy: 0.38334375, time: 22.649s\n",
      "Epoch [3/30], train_loss: 1.8602509988906681, train_accuracy: 0.3836912314158948, validation_accuracy: 0.38334375, time: 22.572s\n",
      "Epoch [4/30], train_loss: 1.86022642292178, train_accuracy: 0.3836912314158948, validation_accuracy: 0.38334375, time: 23.03s\n",
      "Epoch [5/30], train_loss: 1.8601450243840247, train_accuracy: 0.3836912314158948, validation_accuracy: 0.38334375, time: 23.228s\n",
      "Epoch [6/30], train_loss: 1.8600522968252595, train_accuracy: 0.3836912314158948, validation_accuracy: 0.38334375, time: 23.091s\n",
      "Epoch [7/30], train_loss: 1.8600475129574907, train_accuracy: 0.3836912314158948, validation_accuracy: 0.38334375, time: 22.73s\n",
      "Epoch [8/30], train_loss: 1.8599282915122484, train_accuracy: 0.3836912314158948, validation_accuracy: 0.38334375, time: 24.94s\n",
      "Epoch [9/30], train_loss: 1.859977268751395, train_accuracy: 0.3836912314158948, validation_accuracy: 0.38334375, time: 23.014s\n",
      "Epoch [10/30], train_loss: 1.8599888724260798, train_accuracy: 0.3836912314158948, validation_accuracy: 0.38334375, time: 23.539s\n",
      "Epoch [11/30], train_loss: 1.8600295798420545, train_accuracy: 0.3836912314158948, validation_accuracy: 0.38334375, time: 23.502s\n",
      "Epoch [12/30], train_loss: 1.8599172469900955, train_accuracy: 0.3836912314158948, validation_accuracy: 0.38334375, time: 22.181s\n",
      "Epoch [13/30], train_loss: 1.8600121106657526, train_accuracy: 0.3836912314158948, validation_accuracy: 0.38334375, time: 22.557s\n",
      "Epoch [14/30], train_loss: 1.8599942823769176, train_accuracy: 0.3836912314158948, validation_accuracy: 0.38334375, time: 22.493s\n",
      "Epoch [15/30], train_loss: 1.8598841938460635, train_accuracy: 0.3836912314158948, validation_accuracy: 0.38334375, time: 22.932s\n",
      "Epoch [16/30], train_loss: 1.8598396745072903, train_accuracy: 0.3836912314158948, validation_accuracy: 0.38334375, time: 22.229s\n",
      "Epoch [17/30], train_loss: 1.8599420100824002, train_accuracy: 0.3836912314158948, validation_accuracy: 0.38334375, time: 22.704s\n",
      "Epoch [18/30], train_loss: 1.8598510722589927, train_accuracy: 0.3836912314158948, validation_accuracy: 0.38334375, time: 22.762s\n",
      "Epoch [19/30], train_loss: 1.859844508417536, train_accuracy: 0.3836912314158948, validation_accuracy: 0.38334375, time: 22.971s\n",
      "Epoch [20/30], train_loss: 1.8599105707502481, train_accuracy: 0.3836912314158948, validation_accuracy: 0.38334375, time: 23.045s\n",
      "Epoch [21/30], train_loss: 1.8598666676771987, train_accuracy: 0.3836912314158948, validation_accuracy: 0.38334375, time: 22.832s\n",
      "Epoch [22/30], train_loss: 1.8597858057250733, train_accuracy: 0.3836912314158948, validation_accuracy: 0.38334375, time: 22.81s\n",
      "Epoch [23/30], train_loss: 1.859860085277434, train_accuracy: 0.3836912314158948, validation_accuracy: 0.38334375, time: 23.911s\n",
      "Epoch [24/30], train_loss: 1.8599042859422268, train_accuracy: 0.3836912314158948, validation_accuracy: 0.38334375, time: 23.977s\n",
      "Epoch [25/30], train_loss: 1.859807238399152, train_accuracy: 0.3836912314158948, validation_accuracy: 0.38334375, time: 22.87s\n",
      "Epoch [26/30], train_loss: 1.8598630313438285, train_accuracy: 0.3836912314158948, validation_accuracy: 0.38334375, time: 24.005s\n",
      "Epoch [27/30], train_loss: 1.8598118537946036, train_accuracy: 0.3836912314158948, validation_accuracy: 0.38334375, time: 22.896s\n",
      "Epoch [28/30], train_loss: 1.8598607238873606, train_accuracy: 0.3836912314158948, validation_accuracy: 0.38334375, time: 22.63s\n",
      "Epoch [29/30], train_loss: 1.8598537053302484, train_accuracy: 0.3836912314158948, validation_accuracy: 0.38334375, time: 22.476s\n",
      "Epoch [30/30], train_loss: 1.859806481312989, train_accuracy: 0.3836912314158948, validation_accuracy: 0.38334375, time: 23.161s\n"
     ]
    },
    {
     "data": {
      "text/plain": [
       "VBox(children=(Label(value='0.001 MB of 0.001 MB uploaded\\r'), FloatProgress(value=1.0, max=1.0)))"
      ],
      "application/vnd.jupyter.widget-view+json": {
       "version_major": 2,
       "version_minor": 0,
       "model_id": "2bda35eed1cb491eb13e78fb53aa01a6"
      }
     },
     "metadata": {},
     "output_type": "display_data"
    },
    {
     "data": {
      "text/plain": [
       "<IPython.core.display.HTML object>"
      ],
      "text/html": [
       "<style>\n",
       "    table.wandb td:nth-child(1) { padding: 0 10px; text-align: left ; width: auto;} td:nth-child(2) {text-align: left ; width: 100%}\n",
       "    .wandb-row { display: flex; flex-direction: row; flex-wrap: wrap; justify-content: flex-start; width: 100% }\n",
       "    .wandb-col { display: flex; flex-direction: column; flex-basis: 100%; flex: 1; padding: 10px; }\n",
       "    </style>\n",
       "<div class=\"wandb-row\"><div class=\"wandb-col\"><h3>Run history:</h3><br/><table class=\"wandb\"><tr><td>epoch</td><td>▁▁▁▂▂▂▂▃▃▃▃▄▄▄▄▅▅▅▅▆▆▆▆▇▇▇▇███</td></tr><tr><td>train_accuracy</td><td>▁█████████████████████████████</td></tr><tr><td>train_loss</td><td>█▃▃▃▂▂▂▂▂▂▂▁▂▂▁▁▂▁▁▁▁▁▁▁▁▁▁▁▁▁</td></tr><tr><td>validation_accuracy</td><td>▁▁▁▁▁▁▁▁▁▁▁▁▁▁▁▁▁▁▁▁▁▁▁▁▁▁▁▁▁▁</td></tr></table><br/></div><div class=\"wandb-col\"><h3>Run summary:</h3><br/><table class=\"wandb\"><tr><td>epoch</td><td>30</td></tr><tr><td>train_accuracy</td><td>0.38369</td></tr><tr><td>train_loss</td><td>1.85981</td></tr><tr><td>validation_accuracy</td><td>0.38334</td></tr></table><br/></div></div>"
      ]
     },
     "metadata": {},
     "output_type": "display_data"
    },
    {
     "data": {
      "text/plain": [
       "<IPython.core.display.HTML object>"
      ],
      "text/html": [
       " View run <strong style=\"color:#cdcd00\">skilled-sweep-24</strong> at: <a href='https://wandb.ai/spajro-chess/raport/runs/879m7j8i' target=\"_blank\">https://wandb.ai/spajro-chess/raport/runs/879m7j8i</a><br/> View project at: <a href='https://wandb.ai/spajro-chess/raport' target=\"_blank\">https://wandb.ai/spajro-chess/raport</a><br/>Synced 5 W&B file(s), 0 media file(s), 0 artifact file(s) and 0 other file(s)"
      ]
     },
     "metadata": {},
     "output_type": "display_data"
    },
    {
     "data": {
      "text/plain": [
       "<IPython.core.display.HTML object>"
      ],
      "text/html": [
       "Find logs at: <code>.\\wandb\\run-20240617_105006-879m7j8i\\logs</code>"
      ]
     },
     "metadata": {},
     "output_type": "display_data"
    },
    {
     "name": "stderr",
     "output_type": "stream",
     "text": [
      "wandb: Agent Starting Run: 3buycx6c with config:\n",
      "wandb: \tcriterion: CrossEntropy\n",
      "wandb: \tepochs: 30\n",
      "wandb: \tlearning_rate: 0.001\n",
      "wandb: \tmodel: 2\n",
      "wandb: \toptimizer: sgd\n"
     ]
    },
    {
     "data": {
      "text/plain": [
       "<IPython.core.display.HTML object>"
      ],
      "text/html": [
       "Tracking run with wandb version 0.17.1"
      ]
     },
     "metadata": {},
     "output_type": "display_data"
    },
    {
     "data": {
      "text/plain": [
       "<IPython.core.display.HTML object>"
      ],
      "text/html": [
       "Run data is saved locally in <code>D:\\Projekty\\TacticsClassifier\\wandb\\run-20240617_110159-3buycx6c</code>"
      ]
     },
     "metadata": {},
     "output_type": "display_data"
    },
    {
     "data": {
      "text/plain": [
       "<IPython.core.display.HTML object>"
      ],
      "text/html": [
       "Syncing run <strong><a href='https://wandb.ai/spajro-chess/raport/runs/3buycx6c' target=\"_blank\">expert-sweep-25</a></strong> to <a href='https://wandb.ai/spajro-chess/raport' target=\"_blank\">Weights & Biases</a> (<a href='https://wandb.me/run' target=\"_blank\">docs</a>)<br/>Sweep page: <a href='https://wandb.ai/spajro-chess/raport/sweeps/ai82s9v2' target=\"_blank\">https://wandb.ai/spajro-chess/raport/sweeps/ai82s9v2</a>"
      ]
     },
     "metadata": {},
     "output_type": "display_data"
    },
    {
     "data": {
      "text/plain": [
       "<IPython.core.display.HTML object>"
      ],
      "text/html": [
       " View project at <a href='https://wandb.ai/spajro-chess/raport' target=\"_blank\">https://wandb.ai/spajro-chess/raport</a>"
      ]
     },
     "metadata": {},
     "output_type": "display_data"
    },
    {
     "data": {
      "text/plain": [
       "<IPython.core.display.HTML object>"
      ],
      "text/html": [
       " View sweep at <a href='https://wandb.ai/spajro-chess/raport/sweeps/ai82s9v2' target=\"_blank\">https://wandb.ai/spajro-chess/raport/sweeps/ai82s9v2</a>"
      ]
     },
     "metadata": {},
     "output_type": "display_data"
    },
    {
     "data": {
      "text/plain": [
       "<IPython.core.display.HTML object>"
      ],
      "text/html": [
       " View run at <a href='https://wandb.ai/spajro-chess/raport/runs/3buycx6c' target=\"_blank\">https://wandb.ai/spajro-chess/raport/runs/3buycx6c</a>"
      ]
     },
     "metadata": {},
     "output_type": "display_data"
    },
    {
     "name": "stdout",
     "output_type": "stream",
     "text": [
      "Epoch [1/30], train_loss: 1.4861500582834566, train_accuracy: 0.4959061454035962, validation_accuracy: 0.52553125, time: 26.616s\n",
      "Epoch [2/30], train_loss: 1.1235049764191565, train_accuracy: 0.6299099497937262, validation_accuracy: 0.608625, time: 26.454s\n",
      "Epoch [3/30], train_loss: 0.9530724147033848, train_accuracy: 0.6875936502685451, validation_accuracy: 0.69625, time: 26.407s\n",
      "Epoch [4/30], train_loss: 0.8465521961155964, train_accuracy: 0.7226565540593135, validation_accuracy: 0.72896875, time: 27.062s\n",
      "Epoch [5/30], train_loss: 0.7738787925404835, train_accuracy: 0.74598033587608, validation_accuracy: 0.74078125, time: 26.347s\n",
      "Epoch [6/30], train_loss: 0.719556102388386, train_accuracy: 0.7641472717365922, validation_accuracy: 0.7641875, time: 26.554s\n",
      "Epoch [7/30], train_loss: 0.6755007251521822, train_accuracy: 0.7777302093874057, validation_accuracy: 0.78946875, time: 27.74s\n",
      "Epoch [8/30], train_loss: 0.6402177635896082, train_accuracy: 0.7890156748657274, validation_accuracy: 0.7898125, time: 27.196s\n",
      "Epoch [9/30], train_loss: 0.6109225302946245, train_accuracy: 0.7982955651124776, validation_accuracy: 0.7924375, time: 26.818s\n",
      "Epoch [10/30], train_loss: 0.585876803100225, train_accuracy: 0.8063944889857554, validation_accuracy: 0.6680625, time: 27.0s\n",
      "Epoch [11/30], train_loss: 0.5660943964536417, train_accuracy: 0.8126848680625827, validation_accuracy: 0.81134375, time: 26.611s\n",
      "Epoch [12/30], train_loss: 0.546740985618655, train_accuracy: 0.8189363275472873, validation_accuracy: 0.75465625, time: 26.991s\n",
      "Epoch [13/30], train_loss: 0.531987120983498, train_accuracy: 0.8235045146726863, validation_accuracy: 0.81903125, time: 26.729s\n",
      "Epoch [14/30], train_loss: 0.5177597504935859, train_accuracy: 0.8283791935860512, validation_accuracy: 0.81278125, time: 26.8s\n",
      "Epoch [15/30], train_loss: 0.5055719233409639, train_accuracy: 0.8321677726317428, validation_accuracy: 0.56721875, time: 26.497s\n",
      "Epoch [16/30], train_loss: 0.4940360114436544, train_accuracy: 0.8360195960146337, validation_accuracy: 0.78878125, time: 26.196s\n",
      "Epoch [17/30], train_loss: 0.4836687568322577, train_accuracy: 0.839350869852884, validation_accuracy: 0.737125, time: 27.202s\n",
      "Epoch [18/30], train_loss: 0.4738601823244947, train_accuracy: 0.8425447088814509, validation_accuracy: 0.8341875, time: 26.751s\n",
      "Epoch [19/30], train_loss: 0.4648148680844223, train_accuracy: 0.845452732155367, validation_accuracy: 0.74425, time: 26.508s\n",
      "Epoch [20/30], train_loss: 0.4565465510647761, train_accuracy: 0.8477429069043356, validation_accuracy: 0.82253125, time: 27.575s\n",
      "Epoch [21/30], train_loss: 0.4486470470852895, train_accuracy: 0.850327411068732, validation_accuracy: 0.83709375, time: 27.346s\n",
      "Epoch [22/30], train_loss: 0.442393793294084, train_accuracy: 0.8526321806647467, validation_accuracy: 0.81496875, time: 26.841s\n",
      "Epoch [23/30], train_loss: 0.4343845840052583, train_accuracy: 0.8551814139487818, validation_accuracy: 0.83659375, time: 27.147s\n",
      "Epoch [24/30], train_loss: 0.4281416813032984, train_accuracy: 0.8571675293842921, validation_accuracy: 0.75259375, time: 26.48s\n",
      "Epoch [25/30], train_loss: 0.42233919200636844, train_accuracy: 0.8588118821514751, validation_accuracy: 0.83640625, time: 27.35s\n",
      "Epoch [26/30], train_loss: 0.41607938346785683, train_accuracy: 0.8609597571417451, validation_accuracy: 0.83790625, time: 26.688s\n",
      "Epoch [27/30], train_loss: 0.41108742533590187, train_accuracy: 0.8627537070911497, validation_accuracy: 0.8231875, time: 26.372s\n",
      "Epoch [28/30], train_loss: 0.40566045783255417, train_accuracy: 0.8643457616564179, validation_accuracy: 0.8409375, time: 26.28s\n",
      "Epoch [29/30], train_loss: 0.4000370319800181, train_accuracy: 0.8658429497158869, validation_accuracy: 0.58215625, time: 26.274s\n",
      "Epoch [30/30], train_loss: 0.3959160088690151, train_accuracy: 0.8675566280065385, validation_accuracy: 0.800625, time: 26.425s\n"
     ]
    },
    {
     "data": {
      "text/plain": [
       "VBox(children=(Label(value='0.001 MB of 0.008 MB uploaded\\r'), FloatProgress(value=0.163384903891233, max=1.0)…"
      ],
      "application/vnd.jupyter.widget-view+json": {
       "version_major": 2,
       "version_minor": 0,
       "model_id": "cc247051b7d0494593657584d52fbebc"
      }
     },
     "metadata": {},
     "output_type": "display_data"
    },
    {
     "data": {
      "text/plain": [
       "<IPython.core.display.HTML object>"
      ],
      "text/html": [
       "<style>\n",
       "    table.wandb td:nth-child(1) { padding: 0 10px; text-align: left ; width: auto;} td:nth-child(2) {text-align: left ; width: 100%}\n",
       "    .wandb-row { display: flex; flex-direction: row; flex-wrap: wrap; justify-content: flex-start; width: 100% }\n",
       "    .wandb-col { display: flex; flex-direction: column; flex-basis: 100%; flex: 1; padding: 10px; }\n",
       "    </style>\n",
       "<div class=\"wandb-row\"><div class=\"wandb-col\"><h3>Run history:</h3><br/><table class=\"wandb\"><tr><td>epoch</td><td>▁▁▁▂▂▂▂▃▃▃▃▄▄▄▄▅▅▅▅▆▆▆▆▇▇▇▇███</td></tr><tr><td>train_accuracy</td><td>▁▄▅▅▆▆▆▇▇▇▇▇▇▇▇▇▇█████████████</td></tr><tr><td>train_loss</td><td>█▆▅▄▃▃▃▃▂▂▂▂▂▂▂▂▂▂▁▁▁▁▁▁▁▁▁▁▁▁</td></tr><tr><td>validation_accuracy</td><td>▁▃▅▆▆▆▇▇▇▄▇▆█▇▂▇▆█▆██▇█▆████▂▇</td></tr></table><br/></div><div class=\"wandb-col\"><h3>Run summary:</h3><br/><table class=\"wandb\"><tr><td>epoch</td><td>30</td></tr><tr><td>train_accuracy</td><td>0.86756</td></tr><tr><td>train_loss</td><td>0.39592</td></tr><tr><td>validation_accuracy</td><td>0.80063</td></tr></table><br/></div></div>"
      ]
     },
     "metadata": {},
     "output_type": "display_data"
    },
    {
     "data": {
      "text/plain": [
       "<IPython.core.display.HTML object>"
      ],
      "text/html": [
       " View run <strong style=\"color:#cdcd00\">expert-sweep-25</strong> at: <a href='https://wandb.ai/spajro-chess/raport/runs/3buycx6c' target=\"_blank\">https://wandb.ai/spajro-chess/raport/runs/3buycx6c</a><br/> View project at: <a href='https://wandb.ai/spajro-chess/raport' target=\"_blank\">https://wandb.ai/spajro-chess/raport</a><br/>Synced 5 W&B file(s), 0 media file(s), 0 artifact file(s) and 0 other file(s)"
      ]
     },
     "metadata": {},
     "output_type": "display_data"
    },
    {
     "data": {
      "text/plain": [
       "<IPython.core.display.HTML object>"
      ],
      "text/html": [
       "Find logs at: <code>.\\wandb\\run-20240617_110159-3buycx6c\\logs</code>"
      ]
     },
     "metadata": {},
     "output_type": "display_data"
    },
    {
     "name": "stderr",
     "output_type": "stream",
     "text": [
      "wandb: Agent Starting Run: 811urd3v with config:\n",
      "wandb: \tcriterion: CrossEntropy\n",
      "wandb: \tepochs: 50\n",
      "wandb: \tlearning_rate: 0.0003\n",
      "wandb: \tmodel: 1\n",
      "wandb: \toptimizer: sgd\n"
     ]
    },
    {
     "data": {
      "text/plain": [
       "<IPython.core.display.HTML object>"
      ],
      "text/html": [
       "Tracking run with wandb version 0.17.1"
      ]
     },
     "metadata": {},
     "output_type": "display_data"
    },
    {
     "data": {
      "text/plain": [
       "<IPython.core.display.HTML object>"
      ],
      "text/html": [
       "Run data is saved locally in <code>D:\\Projekty\\TacticsClassifier\\wandb\\run-20240617_111542-811urd3v</code>"
      ]
     },
     "metadata": {},
     "output_type": "display_data"
    },
    {
     "data": {
      "text/plain": [
       "<IPython.core.display.HTML object>"
      ],
      "text/html": [
       "Syncing run <strong><a href='https://wandb.ai/spajro-chess/raport/runs/811urd3v' target=\"_blank\">usual-sweep-26</a></strong> to <a href='https://wandb.ai/spajro-chess/raport' target=\"_blank\">Weights & Biases</a> (<a href='https://wandb.me/run' target=\"_blank\">docs</a>)<br/>Sweep page: <a href='https://wandb.ai/spajro-chess/raport/sweeps/ai82s9v2' target=\"_blank\">https://wandb.ai/spajro-chess/raport/sweeps/ai82s9v2</a>"
      ]
     },
     "metadata": {},
     "output_type": "display_data"
    },
    {
     "data": {
      "text/plain": [
       "<IPython.core.display.HTML object>"
      ],
      "text/html": [
       " View project at <a href='https://wandb.ai/spajro-chess/raport' target=\"_blank\">https://wandb.ai/spajro-chess/raport</a>"
      ]
     },
     "metadata": {},
     "output_type": "display_data"
    },
    {
     "data": {
      "text/plain": [
       "<IPython.core.display.HTML object>"
      ],
      "text/html": [
       " View sweep at <a href='https://wandb.ai/spajro-chess/raport/sweeps/ai82s9v2' target=\"_blank\">https://wandb.ai/spajro-chess/raport/sweeps/ai82s9v2</a>"
      ]
     },
     "metadata": {},
     "output_type": "display_data"
    },
    {
     "data": {
      "text/plain": [
       "<IPython.core.display.HTML object>"
      ],
      "text/html": [
       " View run at <a href='https://wandb.ai/spajro-chess/raport/runs/811urd3v' target=\"_blank\">https://wandb.ai/spajro-chess/raport/runs/811urd3v</a>"
      ]
     },
     "metadata": {},
     "output_type": "display_data"
    },
    {
     "name": "stdout",
     "output_type": "stream",
     "text": [
      "Epoch [1/50], train_loss: 1.9343913646953212, train_accuracy: 0.3827693235774889, validation_accuracy: 0.38334375, time: 21.397s\n",
      "Epoch [2/50], train_loss: 1.8341699451326423, train_accuracy: 0.38369731260216394, validation_accuracy: 0.38334375, time: 21.349s\n",
      "Epoch [3/50], train_loss: 1.8065013711699496, train_accuracy: 0.38389677551179263, validation_accuracy: 0.38334375, time: 21.63s\n",
      "Epoch [4/50], train_loss: 1.7764936706765, train_accuracy: 0.38514341869697205, validation_accuracy: 0.384, time: 22.568s\n",
      "Epoch [5/50], train_loss: 1.7453759155858395, train_accuracy: 0.3887422647310656, validation_accuracy: 0.38859375, time: 22.119s\n",
      "Epoch [6/50], train_loss: 1.708136411625151, train_accuracy: 0.40081585194987157, validation_accuracy: 0.4091875, time: 21.934s\n",
      "Epoch [7/50], train_loss: 1.6632592092926626, train_accuracy: 0.41900468008095276, validation_accuracy: 0.431, time: 22.222s\n",
      "Epoch [8/50], train_loss: 1.6252496107511505, train_accuracy: 0.43614511169922937, validation_accuracy: 0.4444375, time: 21.609s\n",
      "Epoch [9/50], train_loss: 1.596112846066221, train_accuracy: 0.4483330252198957, validation_accuracy: 0.456, time: 21.655s\n",
      "Epoch [10/50], train_loss: 1.5726483360546484, train_accuracy: 0.45720182727485015, validation_accuracy: 0.466, time: 21.849s\n",
      "Epoch [11/50], train_loss: 1.552356832178871, train_accuracy: 0.46426816571962326, validation_accuracy: 0.4709375, time: 21.654s\n",
      "Epoch [12/50], train_loss: 1.5349216208324699, train_accuracy: 0.4710255799019226, validation_accuracy: 0.47553125, time: 21.538s\n",
      "Epoch [13/50], train_loss: 1.5188618811260468, train_accuracy: 0.476986358682961, validation_accuracy: 0.48103125, time: 21.336s\n",
      "Epoch [14/50], train_loss: 1.504080812430172, train_accuracy: 0.4827391608935938, validation_accuracy: 0.4859375, time: 21.233s\n",
      "Epoch [15/50], train_loss: 1.4898369179455289, train_accuracy: 0.4881258756908228, validation_accuracy: 0.49203125, time: 21.24s\n",
      "Epoch [16/50], train_loss: 1.4761604025323187, train_accuracy: 0.49369989102514206, validation_accuracy: 0.4983125, time: 21.269s\n",
      "Epoch [17/50], train_loss: 1.463578537687621, train_accuracy: 0.4992435004281155, validation_accuracy: 0.5075, time: 21.009s\n",
      "Epoch [18/50], train_loss: 1.4509051888798372, train_accuracy: 0.5044562932980462, validation_accuracy: 0.51046875, time: 21.06s\n",
      "Epoch [19/50], train_loss: 1.4385086902757744, train_accuracy: 0.5102212578812174, validation_accuracy: 0.51740625, time: 21.222s\n",
      "Epoch [20/50], train_loss: 1.4260640831191114, train_accuracy: 0.5153817525492332, validation_accuracy: 0.52184375, time: 22.009s\n",
      "Epoch [21/50], train_loss: 1.413559276871879, train_accuracy: 0.5209934712384214, validation_accuracy: 0.5258125, time: 22.474s\n",
      "Epoch [22/50], train_loss: 1.400904287500976, train_accuracy: 0.5263339690200046, validation_accuracy: 0.5345625, time: 21.871s\n",
      "Epoch [23/50], train_loss: 1.3880747507274906, train_accuracy: 0.5313472989803066, validation_accuracy: 0.536, time: 22.234s\n",
      "Epoch [24/50], train_loss: 1.3747272143440412, train_accuracy: 0.5371098310889701, validation_accuracy: 0.54090625, time: 21.838s\n",
      "Epoch [25/50], train_loss: 1.3610280275604665, train_accuracy: 0.542964797228925, validation_accuracy: 0.551625, time: 21.378s\n",
      "Epoch [26/50], train_loss: 1.346480323455116, train_accuracy: 0.54880395228458, validation_accuracy: 0.55765625, time: 21.928s\n",
      "Epoch [27/50], train_loss: 1.332271085570849, train_accuracy: 0.5550420331594925, validation_accuracy: 0.56196875, time: 21.885s\n",
      "Epoch [28/50], train_loss: 1.3168445486980458, train_accuracy: 0.5605029384292053, validation_accuracy: 0.5710625, time: 21.412s\n",
      "Epoch [29/50], train_loss: 1.3020570356924543, train_accuracy: 0.566672910017903, validation_accuracy: 0.5740625, time: 21.506s\n",
      "Epoch [30/50], train_loss: 1.2874288219203742, train_accuracy: 0.5718857028878337, validation_accuracy: 0.58225, time: 21.142s\n",
      "Epoch [31/50], train_loss: 1.273017649971818, train_accuracy: 0.5779401319374173, validation_accuracy: 0.58765625, time: 21.584s\n",
      "Epoch [32/50], train_loss: 1.259541426617468, train_accuracy: 0.5826579162450377, validation_accuracy: 0.5930625, time: 21.236s\n",
      "Epoch [33/50], train_loss: 1.2459790817288432, train_accuracy: 0.5875386763446719, validation_accuracy: 0.5980625, time: 21.323s\n",
      "Epoch [34/50], train_loss: 1.233429971901723, train_accuracy: 0.5923476784463299, validation_accuracy: 0.60234375, time: 21.534s\n",
      "Epoch [35/50], train_loss: 1.221252130925762, train_accuracy: 0.5966701856464545, validation_accuracy: 0.60690625, time: 21.404s\n",
      "Epoch [36/50], train_loss: 1.2094697988459209, train_accuracy: 0.601306482058068, validation_accuracy: 0.613875, time: 21.693s\n",
      "Epoch [37/50], train_loss: 1.1992325103681005, train_accuracy: 0.6049345177862536, validation_accuracy: 0.60715625, time: 22.483s\n",
      "Epoch [38/50], train_loss: 1.189403597033793, train_accuracy: 0.6086622849692536, validation_accuracy: 0.62028125, time: 21.995s\n",
      "Epoch [39/50], train_loss: 1.1791736218468487, train_accuracy: 0.6123693761189383, validation_accuracy: 0.62140625, time: 22.029s\n",
      "Epoch [40/50], train_loss: 1.1700298906629945, train_accuracy: 0.6157201097532498, validation_accuracy: 0.6266875, time: 21.946s\n",
      "Epoch [41/50], train_loss: 1.1602960316979154, train_accuracy: 0.619153547520822, validation_accuracy: 0.6310625, time: 21.539s\n",
      "Epoch [42/50], train_loss: 1.1520939207572534, train_accuracy: 0.6221296800809527, validation_accuracy: 0.6355, time: 21.551s\n",
      "Epoch [43/50], train_loss: 1.1434326737671405, train_accuracy: 0.6252371662644975, validation_accuracy: 0.6378125, time: 22.093s\n",
      "Epoch [44/50], train_loss: 1.1354255607766177, train_accuracy: 0.627842346462209, validation_accuracy: 0.64128125, time: 21.654s\n",
      "Epoch [45/50], train_loss: 1.1272119832027745, train_accuracy: 0.6306725305518798, validation_accuracy: 0.63890625, time: 21.508s\n",
      "Epoch [46/50], train_loss: 1.1200584366580082, train_accuracy: 0.632915272047949, validation_accuracy: 0.6448125, time: 21.379s\n",
      "Epoch [47/50], train_loss: 1.1118189937026155, train_accuracy: 0.6356420759710438, validation_accuracy: 0.64740625, time: 21.16s\n",
      "Epoch [48/50], train_loss: 1.1043275189119488, train_accuracy: 0.637855627773021, validation_accuracy: 0.64559375, time: 21.555s\n",
      "Epoch [49/50], train_loss: 1.096766458867338, train_accuracy: 0.6406298649490153, validation_accuracy: 0.6445, time: 21.292s\n",
      "Epoch [50/50], train_loss: 1.0892773941605807, train_accuracy: 0.6429577430528528, validation_accuracy: 0.6540625, time: 21.333s\n"
     ]
    },
    {
     "data": {
      "text/plain": [
       "VBox(children=(Label(value='0.001 MB of 0.001 MB uploaded\\r'), FloatProgress(value=1.0, max=1.0)))"
      ],
      "application/vnd.jupyter.widget-view+json": {
       "version_major": 2,
       "version_minor": 0,
       "model_id": "7d4072a5dfdd4080a36dd992c3eaee45"
      }
     },
     "metadata": {},
     "output_type": "display_data"
    },
    {
     "data": {
      "text/plain": [
       "<IPython.core.display.HTML object>"
      ],
      "text/html": [
       "<style>\n",
       "    table.wandb td:nth-child(1) { padding: 0 10px; text-align: left ; width: auto;} td:nth-child(2) {text-align: left ; width: 100%}\n",
       "    .wandb-row { display: flex; flex-direction: row; flex-wrap: wrap; justify-content: flex-start; width: 100% }\n",
       "    .wandb-col { display: flex; flex-direction: column; flex-basis: 100%; flex: 1; padding: 10px; }\n",
       "    </style>\n",
       "<div class=\"wandb-row\"><div class=\"wandb-col\"><h3>Run history:</h3><br/><table class=\"wandb\"><tr><td>epoch</td><td>▁▁▁▁▂▂▂▂▂▃▃▃▃▃▃▄▄▄▄▄▅▅▅▅▅▅▆▆▆▆▆▆▇▇▇▇▇███</td></tr><tr><td>train_accuracy</td><td>▁▁▁▁▁▂▂▃▃▃▄▄▄▄▄▄▅▅▅▅▅▆▆▆▆▆▇▇▇▇▇▇▇▇██████</td></tr><tr><td>train_loss</td><td>█▇▇▇▆▆▅▅▅▅▅▄▄▄▄▄▄▄▃▃▃▃▃▃▃▂▂▂▂▂▂▂▂▂▁▁▁▁▁▁</td></tr><tr><td>validation_accuracy</td><td>▁▁▁▁▂▂▃▃▃▃▄▄▄▄▄▄▅▅▅▅▆▆▆▆▆▆▇▇▇▇▇▇▇███████</td></tr></table><br/></div><div class=\"wandb-col\"><h3>Run summary:</h3><br/><table class=\"wandb\"><tr><td>epoch</td><td>50</td></tr><tr><td>train_accuracy</td><td>0.64296</td></tr><tr><td>train_loss</td><td>1.08928</td></tr><tr><td>validation_accuracy</td><td>0.65406</td></tr></table><br/></div></div>"
      ]
     },
     "metadata": {},
     "output_type": "display_data"
    },
    {
     "data": {
      "text/plain": [
       "<IPython.core.display.HTML object>"
      ],
      "text/html": [
       " View run <strong style=\"color:#cdcd00\">usual-sweep-26</strong> at: <a href='https://wandb.ai/spajro-chess/raport/runs/811urd3v' target=\"_blank\">https://wandb.ai/spajro-chess/raport/runs/811urd3v</a><br/> View project at: <a href='https://wandb.ai/spajro-chess/raport' target=\"_blank\">https://wandb.ai/spajro-chess/raport</a><br/>Synced 5 W&B file(s), 0 media file(s), 0 artifact file(s) and 0 other file(s)"
      ]
     },
     "metadata": {},
     "output_type": "display_data"
    },
    {
     "data": {
      "text/plain": [
       "<IPython.core.display.HTML object>"
      ],
      "text/html": [
       "Find logs at: <code>.\\wandb\\run-20240617_111542-811urd3v\\logs</code>"
      ]
     },
     "metadata": {},
     "output_type": "display_data"
    },
    {
     "name": "stderr",
     "output_type": "stream",
     "text": [
      "wandb: Sweep Agent: Waiting for job.\n",
      "wandb: Job received.\n",
      "wandb: Agent Starting Run: 8hfijx5v with config:\n",
      "wandb: \tcriterion: CrossEntropy\n",
      "wandb: \tepochs: 30\n",
      "wandb: \tlearning_rate: 0.1\n",
      "wandb: \tmodel: 1\n",
      "wandb: \toptimizer: sgd\n"
     ]
    },
    {
     "data": {
      "text/plain": [
       "<IPython.core.display.HTML object>"
      ],
      "text/html": [
       "Tracking run with wandb version 0.17.1"
      ]
     },
     "metadata": {},
     "output_type": "display_data"
    },
    {
     "data": {
      "text/plain": [
       "<IPython.core.display.HTML object>"
      ],
      "text/html": [
       "Run data is saved locally in <code>D:\\Projekty\\TacticsClassifier\\wandb\\run-20240617_113417-8hfijx5v</code>"
      ]
     },
     "metadata": {},
     "output_type": "display_data"
    },
    {
     "data": {
      "text/plain": [
       "<IPython.core.display.HTML object>"
      ],
      "text/html": [
       "Syncing run <strong><a href='https://wandb.ai/spajro-chess/raport/runs/8hfijx5v' target=\"_blank\">fresh-sweep-27</a></strong> to <a href='https://wandb.ai/spajro-chess/raport' target=\"_blank\">Weights & Biases</a> (<a href='https://wandb.me/run' target=\"_blank\">docs</a>)<br/>Sweep page: <a href='https://wandb.ai/spajro-chess/raport/sweeps/ai82s9v2' target=\"_blank\">https://wandb.ai/spajro-chess/raport/sweeps/ai82s9v2</a>"
      ]
     },
     "metadata": {},
     "output_type": "display_data"
    },
    {
     "data": {
      "text/plain": [
       "<IPython.core.display.HTML object>"
      ],
      "text/html": [
       " View project at <a href='https://wandb.ai/spajro-chess/raport' target=\"_blank\">https://wandb.ai/spajro-chess/raport</a>"
      ]
     },
     "metadata": {},
     "output_type": "display_data"
    },
    {
     "data": {
      "text/plain": [
       "<IPython.core.display.HTML object>"
      ],
      "text/html": [
       " View sweep at <a href='https://wandb.ai/spajro-chess/raport/sweeps/ai82s9v2' target=\"_blank\">https://wandb.ai/spajro-chess/raport/sweeps/ai82s9v2</a>"
      ]
     },
     "metadata": {},
     "output_type": "display_data"
    },
    {
     "data": {
      "text/plain": [
       "<IPython.core.display.HTML object>"
      ],
      "text/html": [
       " View run at <a href='https://wandb.ai/spajro-chess/raport/runs/8hfijx5v' target=\"_blank\">https://wandb.ai/spajro-chess/raport/runs/8hfijx5v</a>"
      ]
     },
     "metadata": {},
     "output_type": "display_data"
    },
    {
     "name": "stdout",
     "output_type": "stream",
     "text": [
      "Epoch [1/30], train_loss: 1.0447615041866036, train_accuracy: 0.651689110298124, validation_accuracy: 0.7345, time: 21.89s\n",
      "Epoch [2/30], train_loss: 0.6852633744963061, train_accuracy: 0.7726670136996965, validation_accuracy: 0.724125, time: 22.338s\n",
      "Epoch [3/30], train_loss: 0.5903061330747612, train_accuracy: 0.803656738927376, validation_accuracy: 0.61765625, time: 21.833s\n",
      "Epoch [4/30], train_loss: 0.5382241694168366, train_accuracy: 0.8205016248929711, validation_accuracy: 0.49953125, time: 21.378s\n",
      "Epoch [5/30], train_loss: 0.5030363803534987, train_accuracy: 0.8325825095353001, validation_accuracy: 0.652875, time: 21.68s\n",
      "Epoch [6/30], train_loss: 0.47689579960561645, train_accuracy: 0.8409477893671674, validation_accuracy: 0.84875, time: 21.719s\n",
      "Epoch [7/30], train_loss: 0.455122012264869, train_accuracy: 0.8481868335019849, validation_accuracy: 0.85415625, time: 21.398s\n",
      "Epoch [8/30], train_loss: 0.4384047563060987, train_accuracy: 0.8534896279286993, validation_accuracy: 0.8478125, time: 21.576s\n",
      "Epoch [9/30], train_loss: 0.42474013237676855, train_accuracy: 0.8582122771853351, validation_accuracy: 0.619125, time: 21.802s\n",
      "Epoch [10/30], train_loss: 0.4113227621108268, train_accuracy: 0.862619920993228, validation_accuracy: 0.81603125, time: 21.596s\n",
      "Epoch [11/30], train_loss: 0.4014484990820796, train_accuracy: 0.865784570327703, validation_accuracy: 0.86671875, time: 21.669s\n",
      "Epoch [12/30], train_loss: 0.39140574622186247, train_accuracy: 0.86919733206196, validation_accuracy: 0.85946875, time: 21.265s\n",
      "Epoch [13/30], train_loss: 0.3841000451884901, train_accuracy: 0.8712977737993306, validation_accuracy: 0.72184375, time: 21.158s\n",
      "Epoch [14/30], train_loss: 0.3761524805942519, train_accuracy: 0.8737411944422823, validation_accuracy: 0.85790625, time: 21.324s\n",
      "Epoch [15/30], train_loss: 0.3700111753292712, train_accuracy: 0.8759279890246751, validation_accuracy: 0.8383125, time: 21.101s\n",
      "Epoch [16/30], train_loss: 0.36384786913598977, train_accuracy: 0.8777657235152175, validation_accuracy: 0.8421875, time: 21.1s\n",
      "Epoch [17/30], train_loss: 0.3579721777807577, train_accuracy: 0.8801033315170858, validation_accuracy: 0.87578125, time: 21.8s\n",
      "Epoch [18/30], train_loss: 0.3529318807561235, train_accuracy: 0.8816905211333386, validation_accuracy: 0.845, time: 21.802s\n",
      "Epoch [19/30], train_loss: 0.3479427889378473, train_accuracy: 0.8834869035572507, validation_accuracy: 0.874125, time: 22.187s\n",
      "Epoch [20/30], train_loss: 0.3439562777734016, train_accuracy: 0.8844915155289172, validation_accuracy: 0.87609375, time: 21.663s\n",
      "Epoch [21/30], train_loss: 0.33944682637044704, train_accuracy: 0.8862149237175995, validation_accuracy: 0.86003125, time: 21.883s\n",
      "Epoch [22/30], train_loss: 0.3358434893079511, train_accuracy: 0.8870857495913442, validation_accuracy: 0.7276875, time: 21.804s\n",
      "Epoch [23/30], train_loss: 0.3319491721688831, train_accuracy: 0.8883834747411847, validation_accuracy: 0.86334375, time: 21.121s\n",
      "Epoch [24/30], train_loss: 0.3290416087925949, train_accuracy: 0.8893224099011442, validation_accuracy: 0.7146875, time: 21.733s\n",
      "Epoch [25/30], train_loss: 0.327367118693963, train_accuracy: 0.8899256635790457, validation_accuracy: 0.87778125, time: 21.665s\n",
      "Epoch [26/30], train_loss: 0.3230953456465257, train_accuracy: 0.8912623083210088, validation_accuracy: 0.87121875, time: 21.842s\n",
      "Epoch [27/30], train_loss: 0.3206079667118206, train_accuracy: 0.8921720537868764, validation_accuracy: 0.8775625, time: 21.241s\n",
      "Epoch [28/30], train_loss: 0.3173516903037112, train_accuracy: 0.893248423756519, validation_accuracy: 0.880375, time: 21.402s\n",
      "Epoch [29/30], train_loss: 0.3140610777157132, train_accuracy: 0.8941022223087102, validation_accuracy: 0.8771875, time: 21.143s\n",
      "Epoch [30/30], train_loss: 0.3124719096628855, train_accuracy: 0.8947285844944345, validation_accuracy: 0.878875, time: 21.251s\n"
     ]
    },
    {
     "data": {
      "text/plain": [
       "VBox(children=(Label(value='0.001 MB of 0.008 MB uploaded\\r'), FloatProgress(value=0.16357662520535085, max=1.…"
      ],
      "application/vnd.jupyter.widget-view+json": {
       "version_major": 2,
       "version_minor": 0,
       "model_id": "e2c3341af01842909d40bb83fc49bd50"
      }
     },
     "metadata": {},
     "output_type": "display_data"
    },
    {
     "data": {
      "text/plain": [
       "<IPython.core.display.HTML object>"
      ],
      "text/html": [
       "<style>\n",
       "    table.wandb td:nth-child(1) { padding: 0 10px; text-align: left ; width: auto;} td:nth-child(2) {text-align: left ; width: 100%}\n",
       "    .wandb-row { display: flex; flex-direction: row; flex-wrap: wrap; justify-content: flex-start; width: 100% }\n",
       "    .wandb-col { display: flex; flex-direction: column; flex-basis: 100%; flex: 1; padding: 10px; }\n",
       "    </style>\n",
       "<div class=\"wandb-row\"><div class=\"wandb-col\"><h3>Run history:</h3><br/><table class=\"wandb\"><tr><td>epoch</td><td>▁▁▁▂▂▂▂▃▃▃▃▄▄▄▄▅▅▅▅▆▆▆▆▇▇▇▇███</td></tr><tr><td>train_accuracy</td><td>▁▄▅▆▆▆▇▇▇▇▇▇▇▇▇███████████████</td></tr><tr><td>train_loss</td><td>█▅▄▃▃▃▂▂▂▂▂▂▂▂▂▁▁▁▁▁▁▁▁▁▁▁▁▁▁▁</td></tr><tr><td>validation_accuracy</td><td>▅▅▃▁▄▇█▇▃▇██▅█▇▇█▇███▅█▅██████</td></tr></table><br/></div><div class=\"wandb-col\"><h3>Run summary:</h3><br/><table class=\"wandb\"><tr><td>epoch</td><td>30</td></tr><tr><td>train_accuracy</td><td>0.89473</td></tr><tr><td>train_loss</td><td>0.31247</td></tr><tr><td>validation_accuracy</td><td>0.87887</td></tr></table><br/></div></div>"
      ]
     },
     "metadata": {},
     "output_type": "display_data"
    },
    {
     "data": {
      "text/plain": [
       "<IPython.core.display.HTML object>"
      ],
      "text/html": [
       " View run <strong style=\"color:#cdcd00\">fresh-sweep-27</strong> at: <a href='https://wandb.ai/spajro-chess/raport/runs/8hfijx5v' target=\"_blank\">https://wandb.ai/spajro-chess/raport/runs/8hfijx5v</a><br/> View project at: <a href='https://wandb.ai/spajro-chess/raport' target=\"_blank\">https://wandb.ai/spajro-chess/raport</a><br/>Synced 5 W&B file(s), 0 media file(s), 0 artifact file(s) and 0 other file(s)"
      ]
     },
     "metadata": {},
     "output_type": "display_data"
    },
    {
     "data": {
      "text/plain": [
       "<IPython.core.display.HTML object>"
      ],
      "text/html": [
       "Find logs at: <code>.\\wandb\\run-20240617_113417-8hfijx5v\\logs</code>"
      ]
     },
     "metadata": {},
     "output_type": "display_data"
    },
    {
     "name": "stderr",
     "output_type": "stream",
     "text": [
      "wandb: Sweep Agent: Waiting for job.\n",
      "wandb: Job received.\n",
      "wandb: Agent Starting Run: qzxgcwu5 with config:\n",
      "wandb: \tcriterion: CrossEntropy\n",
      "wandb: \tepochs: 20\n",
      "wandb: \tlearning_rate: 0.01\n",
      "wandb: \tmodel: 1\n",
      "wandb: \toptimizer: sgd\n"
     ]
    },
    {
     "data": {
      "text/plain": [
       "<IPython.core.display.HTML object>"
      ],
      "text/html": [
       "Tracking run with wandb version 0.17.1"
      ]
     },
     "metadata": {},
     "output_type": "display_data"
    },
    {
     "data": {
      "text/plain": [
       "<IPython.core.display.HTML object>"
      ],
      "text/html": [
       "Run data is saved locally in <code>D:\\Projekty\\TacticsClassifier\\wandb\\run-20240617_114533-qzxgcwu5</code>"
      ]
     },
     "metadata": {},
     "output_type": "display_data"
    },
    {
     "data": {
      "text/plain": [
       "<IPython.core.display.HTML object>"
      ],
      "text/html": [
       "Syncing run <strong><a href='https://wandb.ai/spajro-chess/raport/runs/qzxgcwu5' target=\"_blank\">wise-sweep-28</a></strong> to <a href='https://wandb.ai/spajro-chess/raport' target=\"_blank\">Weights & Biases</a> (<a href='https://wandb.me/run' target=\"_blank\">docs</a>)<br/>Sweep page: <a href='https://wandb.ai/spajro-chess/raport/sweeps/ai82s9v2' target=\"_blank\">https://wandb.ai/spajro-chess/raport/sweeps/ai82s9v2</a>"
      ]
     },
     "metadata": {},
     "output_type": "display_data"
    },
    {
     "data": {
      "text/plain": [
       "<IPython.core.display.HTML object>"
      ],
      "text/html": [
       " View project at <a href='https://wandb.ai/spajro-chess/raport' target=\"_blank\">https://wandb.ai/spajro-chess/raport</a>"
      ]
     },
     "metadata": {},
     "output_type": "display_data"
    },
    {
     "data": {
      "text/plain": [
       "<IPython.core.display.HTML object>"
      ],
      "text/html": [
       " View sweep at <a href='https://wandb.ai/spajro-chess/raport/sweeps/ai82s9v2' target=\"_blank\">https://wandb.ai/spajro-chess/raport/sweeps/ai82s9v2</a>"
      ]
     },
     "metadata": {},
     "output_type": "display_data"
    },
    {
     "data": {
      "text/plain": [
       "<IPython.core.display.HTML object>"
      ],
      "text/html": [
       " View run at <a href='https://wandb.ai/spajro-chess/raport/runs/qzxgcwu5' target=\"_blank\">https://wandb.ai/spajro-chess/raport/runs/qzxgcwu5</a>"
      ]
     },
     "metadata": {},
     "output_type": "display_data"
    },
    {
     "name": "stdout",
     "output_type": "stream",
     "text": [
      "Epoch [1/20], train_loss: 1.553048712716192, train_accuracy: 0.4722783042733712, validation_accuracy: 0.5033125, time: 21.163s\n",
      "Epoch [2/20], train_loss: 1.1568247443487685, train_accuracy: 0.6194211197166654, validation_accuracy: 0.67440625, time: 21.26s\n",
      "Epoch [3/20], train_loss: 0.9640246893567705, train_accuracy: 0.6848023857709972, validation_accuracy: 0.5911875, time: 22.046s\n",
      "Epoch [4/20], train_loss: 0.8419411522600543, train_accuracy: 0.7252215984276484, validation_accuracy: 0.5476875, time: 22.232s\n",
      "Epoch [5/20], train_loss: 0.7671642282681492, train_accuracy: 0.7490634973145481, validation_accuracy: 0.56709375, time: 22.11s\n",
      "Epoch [6/20], train_loss: 0.7132164707935542, train_accuracy: 0.7659618977193119, validation_accuracy: 0.70725, time: 21.308s\n",
      "Epoch [7/20], train_loss: 0.6717029730957186, train_accuracy: 0.7794207791702343, validation_accuracy: 0.7658125, time: 21.95s\n",
      "Epoch [8/20], train_loss: 0.6361556064174817, train_accuracy: 0.7903596170312135, validation_accuracy: 0.80096875, time: 21.48s\n",
      "Epoch [9/20], train_loss: 0.6083447498364273, train_accuracy: 0.7994132871487507, validation_accuracy: 0.69321875, time: 21.704s\n",
      "Epoch [10/20], train_loss: 0.5838178909060611, train_accuracy: 0.8075511306141512, validation_accuracy: 0.6616875, time: 21.685s\n",
      "Epoch [11/20], train_loss: 0.5634527935565209, train_accuracy: 0.8138305635556939, validation_accuracy: 0.7811875, time: 21.603s\n",
      "Epoch [12/20], train_loss: 0.5450689825237683, train_accuracy: 0.8197597201681326, validation_accuracy: 0.71475, time: 21.597s\n",
      "Epoch [13/20], train_loss: 0.528805415918035, train_accuracy: 0.8246623725383359, validation_accuracy: 0.83084375, time: 21.712s\n",
      "Epoch [14/20], train_loss: 0.5145519612210728, train_accuracy: 0.829228127189227, validation_accuracy: 0.8183125, time: 21.353s\n",
      "Epoch [15/20], train_loss: 0.5012922250146165, train_accuracy: 0.8337245563166498, validation_accuracy: 0.83115625, time: 21.333s\n",
      "Epoch [16/20], train_loss: 0.4894082195145746, train_accuracy: 0.8378098972522768, validation_accuracy: 0.4965625, time: 21.189s\n",
      "Epoch [17/20], train_loss: 0.479990981160235, train_accuracy: 0.84047588931268, validation_accuracy: 0.83396875, time: 21.005s\n",
      "Epoch [18/20], train_loss: 0.4693526077676007, train_accuracy: 0.8440577080252198, validation_accuracy: 0.76021875, time: 21.265s\n",
      "Epoch [19/20], train_loss: 0.4607066869700341, train_accuracy: 0.8468793784541138, validation_accuracy: 0.84046875, time: 21.487s\n",
      "Epoch [20/20], train_loss: 0.45150414492691077, train_accuracy: 0.8493982058068031, validation_accuracy: 0.73671875, time: 21.939s\n"
     ]
    },
    {
     "data": {
      "text/plain": [
       "VBox(children=(Label(value='0.001 MB of 0.001 MB uploaded\\r'), FloatProgress(value=1.0, max=1.0)))"
      ],
      "application/vnd.jupyter.widget-view+json": {
       "version_major": 2,
       "version_minor": 0,
       "model_id": "3636008809814dd98eb7a2a3ecb82329"
      }
     },
     "metadata": {},
     "output_type": "display_data"
    },
    {
     "data": {
      "text/plain": [
       "<IPython.core.display.HTML object>"
      ],
      "text/html": [
       "<style>\n",
       "    table.wandb td:nth-child(1) { padding: 0 10px; text-align: left ; width: auto;} td:nth-child(2) {text-align: left ; width: 100%}\n",
       "    .wandb-row { display: flex; flex-direction: row; flex-wrap: wrap; justify-content: flex-start; width: 100% }\n",
       "    .wandb-col { display: flex; flex-direction: column; flex-basis: 100%; flex: 1; padding: 10px; }\n",
       "    </style>\n",
       "<div class=\"wandb-row\"><div class=\"wandb-col\"><h3>Run history:</h3><br/><table class=\"wandb\"><tr><td>epoch</td><td>▁▁▂▂▂▃▃▄▄▄▅▅▅▆▆▇▇▇██</td></tr><tr><td>train_accuracy</td><td>▁▄▅▆▆▆▇▇▇▇▇▇████████</td></tr><tr><td>train_loss</td><td>█▅▄▃▃▃▂▂▂▂▂▂▁▁▁▁▁▁▁▁</td></tr><tr><td>validation_accuracy</td><td>▁▅▃▂▂▅▆▇▅▄▇▅███▁█▆█▆</td></tr></table><br/></div><div class=\"wandb-col\"><h3>Run summary:</h3><br/><table class=\"wandb\"><tr><td>epoch</td><td>20</td></tr><tr><td>train_accuracy</td><td>0.8494</td></tr><tr><td>train_loss</td><td>0.4515</td></tr><tr><td>validation_accuracy</td><td>0.73672</td></tr></table><br/></div></div>"
      ]
     },
     "metadata": {},
     "output_type": "display_data"
    },
    {
     "data": {
      "text/plain": [
       "<IPython.core.display.HTML object>"
      ],
      "text/html": [
       " View run <strong style=\"color:#cdcd00\">wise-sweep-28</strong> at: <a href='https://wandb.ai/spajro-chess/raport/runs/qzxgcwu5' target=\"_blank\">https://wandb.ai/spajro-chess/raport/runs/qzxgcwu5</a><br/> View project at: <a href='https://wandb.ai/spajro-chess/raport' target=\"_blank\">https://wandb.ai/spajro-chess/raport</a><br/>Synced 5 W&B file(s), 0 media file(s), 0 artifact file(s) and 0 other file(s)"
      ]
     },
     "metadata": {},
     "output_type": "display_data"
    },
    {
     "data": {
      "text/plain": [
       "<IPython.core.display.HTML object>"
      ],
      "text/html": [
       "Find logs at: <code>.\\wandb\\run-20240617_114533-qzxgcwu5\\logs</code>"
      ]
     },
     "metadata": {},
     "output_type": "display_data"
    },
    {
     "name": "stderr",
     "output_type": "stream",
     "text": [
      "wandb: Sweep Agent: Waiting for job.\n",
      "wandb: Job received.\n",
      "wandb: Agent Starting Run: b5yyzh57 with config:\n",
      "wandb: \tcriterion: CrossEntropy\n",
      "wandb: \tepochs: 30\n",
      "wandb: \tlearning_rate: 0.1\n",
      "wandb: \tmodel: 2\n",
      "wandb: \toptimizer: adam\n"
     ]
    },
    {
     "data": {
      "text/plain": [
       "<IPython.core.display.HTML object>"
      ],
      "text/html": [
       "Tracking run with wandb version 0.17.1"
      ]
     },
     "metadata": {},
     "output_type": "display_data"
    },
    {
     "data": {
      "text/plain": [
       "<IPython.core.display.HTML object>"
      ],
      "text/html": [
       "Run data is saved locally in <code>D:\\Projekty\\TacticsClassifier\\wandb\\run-20240617_115307-b5yyzh57</code>"
      ]
     },
     "metadata": {},
     "output_type": "display_data"
    },
    {
     "data": {
      "text/plain": [
       "<IPython.core.display.HTML object>"
      ],
      "text/html": [
       "Syncing run <strong><a href='https://wandb.ai/spajro-chess/raport/runs/b5yyzh57' target=\"_blank\">clean-sweep-29</a></strong> to <a href='https://wandb.ai/spajro-chess/raport' target=\"_blank\">Weights & Biases</a> (<a href='https://wandb.me/run' target=\"_blank\">docs</a>)<br/>Sweep page: <a href='https://wandb.ai/spajro-chess/raport/sweeps/ai82s9v2' target=\"_blank\">https://wandb.ai/spajro-chess/raport/sweeps/ai82s9v2</a>"
      ]
     },
     "metadata": {},
     "output_type": "display_data"
    },
    {
     "data": {
      "text/plain": [
       "<IPython.core.display.HTML object>"
      ],
      "text/html": [
       " View project at <a href='https://wandb.ai/spajro-chess/raport' target=\"_blank\">https://wandb.ai/spajro-chess/raport</a>"
      ]
     },
     "metadata": {},
     "output_type": "display_data"
    },
    {
     "data": {
      "text/plain": [
       "<IPython.core.display.HTML object>"
      ],
      "text/html": [
       " View sweep at <a href='https://wandb.ai/spajro-chess/raport/sweeps/ai82s9v2' target=\"_blank\">https://wandb.ai/spajro-chess/raport/sweeps/ai82s9v2</a>"
      ]
     },
     "metadata": {},
     "output_type": "display_data"
    },
    {
     "data": {
      "text/plain": [
       "<IPython.core.display.HTML object>"
      ],
      "text/html": [
       " View run at <a href='https://wandb.ai/spajro-chess/raport/runs/b5yyzh57' target=\"_blank\">https://wandb.ai/spajro-chess/raport/runs/b5yyzh57</a>"
      ]
     },
     "metadata": {},
     "output_type": "display_data"
    },
    {
     "name": "stdout",
     "output_type": "stream",
     "text": [
      "Epoch [1/30], train_loss: 2.0071606064358694, train_accuracy: 0.3834796061337277, validation_accuracy: 0.38334375, time: 28.508s\n",
      "Epoch [2/30], train_loss: 1.8672242893767725, train_accuracy: 0.3836912314158948, validation_accuracy: 0.38334375, time: 28.406s\n",
      "Epoch [3/30], train_loss: 1.86723458287205, train_accuracy: 0.3836912314158948, validation_accuracy: 0.38334375, time: 28.933s\n",
      "Epoch [4/30], train_loss: 1.8673332354674834, train_accuracy: 0.3836912314158948, validation_accuracy: 0.38334375, time: 28.048s\n",
      "Epoch [5/30], train_loss: 1.8673575472310238, train_accuracy: 0.3836912314158948, validation_accuracy: 0.38334375, time: 28.219s\n",
      "Epoch [6/30], train_loss: 1.8672919087143847, train_accuracy: 0.3836912314158948, validation_accuracy: 0.38334375, time: 28.599s\n",
      "Epoch [7/30], train_loss: 1.8670987423880236, train_accuracy: 0.3836912314158948, validation_accuracy: 0.38334375, time: 28.246s\n",
      "Epoch [8/30], train_loss: 1.867151993067244, train_accuracy: 0.3836912314158948, validation_accuracy: 0.38334375, time: 27.807s\n",
      "Epoch [9/30], train_loss: 1.8672341982975185, train_accuracy: 0.3836912314158948, validation_accuracy: 0.38334375, time: 27.828s\n",
      "Epoch [10/30], train_loss: 1.867381079573478, train_accuracy: 0.3836912314158948, validation_accuracy: 0.38334375, time: 27.622s\n",
      "Epoch [11/30], train_loss: 1.867345589603015, train_accuracy: 0.3836912314158948, validation_accuracy: 0.38334375, time: 27.882s\n",
      "Epoch [12/30], train_loss: 1.8672081678305432, train_accuracy: 0.3836912314158948, validation_accuracy: 0.38334375, time: 28.06s\n",
      "Epoch [13/30], train_loss: 1.8672821857942776, train_accuracy: 0.3836912314158948, validation_accuracy: 0.38334375, time: 29.343s\n",
      "Epoch [14/30], train_loss: 1.8673746649686527, train_accuracy: 0.3836912314158948, validation_accuracy: 0.38334375, time: 28.143s\n",
      "Epoch [15/30], train_loss: 1.8670962244896254, train_accuracy: 0.3836912314158948, validation_accuracy: 0.38334375, time: 28.678s\n",
      "Epoch [16/30], train_loss: 1.8671572576694158, train_accuracy: 0.3836912314158948, validation_accuracy: 0.38334375, time: 28.156s\n",
      "Epoch [17/30], train_loss: 1.8672240652480905, train_accuracy: 0.3836912314158948, validation_accuracy: 0.38334375, time: 28.714s\n",
      "Epoch [18/30], train_loss: 1.867074277722586, train_accuracy: 0.3836912314158948, validation_accuracy: 0.38334375, time: 28.366s\n",
      "Epoch [19/30], train_loss: 1.8671215822272258, train_accuracy: 0.3836912314158948, validation_accuracy: 0.38334375, time: 27.875s\n",
      "Epoch [20/30], train_loss: 1.8672037027759423, train_accuracy: 0.3836912314158948, validation_accuracy: 0.38334375, time: 27.807s\n",
      "Epoch [21/30], train_loss: 1.8674462089986201, train_accuracy: 0.3836912314158948, validation_accuracy: 0.38334375, time: 27.941s\n",
      "Epoch [22/30], train_loss: 1.8673644001459606, train_accuracy: 0.3836912314158948, validation_accuracy: 0.38334375, time: 27.648s\n",
      "Epoch [23/30], train_loss: 1.8671442157908378, train_accuracy: 0.3836912314158948, validation_accuracy: 0.38334375, time: 27.925s\n",
      "Epoch [24/30], train_loss: 1.8673914712143658, train_accuracy: 0.3836912314158948, validation_accuracy: 0.38334375, time: 28.13s\n",
      "Epoch [25/30], train_loss: 1.8672804096621596, train_accuracy: 0.3836912314158948, validation_accuracy: 0.38334375, time: 28.605s\n",
      "Epoch [26/30], train_loss: 1.8670895378385675, train_accuracy: 0.3836912314158948, validation_accuracy: 0.38334375, time: 28.968s\n",
      "Epoch [27/30], train_loss: 1.867325293467538, train_accuracy: 0.3836912314158948, validation_accuracy: 0.38334375, time: 28.467s\n",
      "Epoch [28/30], train_loss: 1.8670246246269893, train_accuracy: 0.3836912314158948, validation_accuracy: 0.38334375, time: 28.601s\n",
      "Epoch [29/30], train_loss: 1.8671750230177502, train_accuracy: 0.3836912314158948, validation_accuracy: 0.38334375, time: 28.067s\n",
      "Epoch [30/30], train_loss: 1.867326888182919, train_accuracy: 0.3836912314158948, validation_accuracy: 0.38334375, time: 28.271s\n"
     ]
    },
    {
     "data": {
      "text/plain": [
       "VBox(children=(Label(value='0.001 MB of 0.001 MB uploaded\\r'), FloatProgress(value=1.0, max=1.0)))"
      ],
      "application/vnd.jupyter.widget-view+json": {
       "version_major": 2,
       "version_minor": 0,
       "model_id": "c17f44d152ed4b8dba90ddda4fbd53cf"
      }
     },
     "metadata": {},
     "output_type": "display_data"
    },
    {
     "data": {
      "text/plain": [
       "<IPython.core.display.HTML object>"
      ],
      "text/html": [
       "<style>\n",
       "    table.wandb td:nth-child(1) { padding: 0 10px; text-align: left ; width: auto;} td:nth-child(2) {text-align: left ; width: 100%}\n",
       "    .wandb-row { display: flex; flex-direction: row; flex-wrap: wrap; justify-content: flex-start; width: 100% }\n",
       "    .wandb-col { display: flex; flex-direction: column; flex-basis: 100%; flex: 1; padding: 10px; }\n",
       "    </style>\n",
       "<div class=\"wandb-row\"><div class=\"wandb-col\"><h3>Run history:</h3><br/><table class=\"wandb\"><tr><td>epoch</td><td>▁▁▁▂▂▂▂▃▃▃▃▄▄▄▄▅▅▅▅▆▆▆▆▇▇▇▇███</td></tr><tr><td>train_accuracy</td><td>▁█████████████████████████████</td></tr><tr><td>train_loss</td><td>█▁▁▁▁▁▁▁▁▁▁▁▁▁▁▁▁▁▁▁▁▁▁▁▁▁▁▁▁▁</td></tr><tr><td>validation_accuracy</td><td>▁▁▁▁▁▁▁▁▁▁▁▁▁▁▁▁▁▁▁▁▁▁▁▁▁▁▁▁▁▁</td></tr></table><br/></div><div class=\"wandb-col\"><h3>Run summary:</h3><br/><table class=\"wandb\"><tr><td>epoch</td><td>30</td></tr><tr><td>train_accuracy</td><td>0.38369</td></tr><tr><td>train_loss</td><td>1.86733</td></tr><tr><td>validation_accuracy</td><td>0.38334</td></tr></table><br/></div></div>"
      ]
     },
     "metadata": {},
     "output_type": "display_data"
    },
    {
     "data": {
      "text/plain": [
       "<IPython.core.display.HTML object>"
      ],
      "text/html": [
       " View run <strong style=\"color:#cdcd00\">clean-sweep-29</strong> at: <a href='https://wandb.ai/spajro-chess/raport/runs/b5yyzh57' target=\"_blank\">https://wandb.ai/spajro-chess/raport/runs/b5yyzh57</a><br/> View project at: <a href='https://wandb.ai/spajro-chess/raport' target=\"_blank\">https://wandb.ai/spajro-chess/raport</a><br/>Synced 5 W&B file(s), 0 media file(s), 0 artifact file(s) and 0 other file(s)"
      ]
     },
     "metadata": {},
     "output_type": "display_data"
    },
    {
     "data": {
      "text/plain": [
       "<IPython.core.display.HTML object>"
      ],
      "text/html": [
       "Find logs at: <code>.\\wandb\\run-20240617_115307-b5yyzh57\\logs</code>"
      ]
     },
     "metadata": {},
     "output_type": "display_data"
    },
    {
     "name": "stderr",
     "output_type": "stream",
     "text": [
      "wandb: Agent Starting Run: euwlrxfk with config:\n",
      "wandb: \tcriterion: CrossEntropy\n",
      "wandb: \tepochs: 30\n",
      "wandb: \tlearning_rate: 0.001\n",
      "wandb: \tmodel: 0\n",
      "wandb: \toptimizer: sgd\n"
     ]
    },
    {
     "data": {
      "text/plain": [
       "<IPython.core.display.HTML object>"
      ],
      "text/html": [
       "Tracking run with wandb version 0.17.1"
      ]
     },
     "metadata": {},
     "output_type": "display_data"
    },
    {
     "data": {
      "text/plain": [
       "<IPython.core.display.HTML object>"
      ],
      "text/html": [
       "Run data is saved locally in <code>D:\\Projekty\\TacticsClassifier\\wandb\\run-20240617_120736-euwlrxfk</code>"
      ]
     },
     "metadata": {},
     "output_type": "display_data"
    },
    {
     "data": {
      "text/plain": [
       "<IPython.core.display.HTML object>"
      ],
      "text/html": [
       "Syncing run <strong><a href='https://wandb.ai/spajro-chess/raport/runs/euwlrxfk' target=\"_blank\">clear-sweep-30</a></strong> to <a href='https://wandb.ai/spajro-chess/raport' target=\"_blank\">Weights & Biases</a> (<a href='https://wandb.me/run' target=\"_blank\">docs</a>)<br/>Sweep page: <a href='https://wandb.ai/spajro-chess/raport/sweeps/ai82s9v2' target=\"_blank\">https://wandb.ai/spajro-chess/raport/sweeps/ai82s9v2</a>"
      ]
     },
     "metadata": {},
     "output_type": "display_data"
    },
    {
     "data": {
      "text/plain": [
       "<IPython.core.display.HTML object>"
      ],
      "text/html": [
       " View project at <a href='https://wandb.ai/spajro-chess/raport' target=\"_blank\">https://wandb.ai/spajro-chess/raport</a>"
      ]
     },
     "metadata": {},
     "output_type": "display_data"
    },
    {
     "data": {
      "text/plain": [
       "<IPython.core.display.HTML object>"
      ],
      "text/html": [
       " View sweep at <a href='https://wandb.ai/spajro-chess/raport/sweeps/ai82s9v2' target=\"_blank\">https://wandb.ai/spajro-chess/raport/sweeps/ai82s9v2</a>"
      ]
     },
     "metadata": {},
     "output_type": "display_data"
    },
    {
     "data": {
      "text/plain": [
       "<IPython.core.display.HTML object>"
      ],
      "text/html": [
       " View run at <a href='https://wandb.ai/spajro-chess/raport/runs/euwlrxfk' target=\"_blank\">https://wandb.ai/spajro-chess/raport/runs/euwlrxfk</a>"
      ]
     },
     "metadata": {},
     "output_type": "display_data"
    },
    {
     "name": "stdout",
     "output_type": "stream",
     "text": [
      "Epoch [1/30], train_loss: 1.8341640217291053, train_accuracy: 0.38333122518876, validation_accuracy: 0.38384375, time: 22.975s\n",
      "Epoch [2/30], train_loss: 1.6343327384612305, train_accuracy: 0.4318457130069277, validation_accuracy: 0.44246875, time: 22.548s\n",
      "Epoch [3/30], train_loss: 1.4294494148348151, train_accuracy: 0.5197310169689422, validation_accuracy: 0.4404375, time: 22.501s\n",
      "Epoch [4/30], train_loss: 1.3014964645378615, train_accuracy: 0.5613567369813964, validation_accuracy: 0.5295625, time: 22.49s\n",
      "Epoch [5/30], train_loss: 1.2256643396969054, train_accuracy: 0.5858140519187359, validation_accuracy: 0.540625, time: 21.961s\n",
      "Epoch [6/30], train_loss: 1.1714311063526262, train_accuracy: 0.6051157371370748, validation_accuracy: 0.210875, time: 22.637s\n",
      "Epoch [7/30], train_loss: 1.128619396279199, train_accuracy: 0.620673844088114, validation_accuracy: 0.507, time: 22.54s\n",
      "Epoch [8/30], train_loss: 1.092892161712504, train_accuracy: 0.6337885303962014, validation_accuracy: 0.57109375, time: 22.574s\n",
      "Epoch [9/30], train_loss: 1.062218043322488, train_accuracy: 0.645111699229392, validation_accuracy: 0.58790625, time: 24.08s\n",
      "Epoch [10/30], train_loss: 1.034067943805877, train_accuracy: 0.6550605199657508, validation_accuracy: 0.6605, time: 23.626s\n",
      "Epoch [11/30], train_loss: 1.0088871009267981, train_accuracy: 0.6636653985366233, validation_accuracy: 0.60853125, time: 22.614s\n",
      "Epoch [12/30], train_loss: 0.9861242178048365, train_accuracy: 0.6717035105472094, validation_accuracy: 0.523375, time: 23.303s\n",
      "Epoch [13/30], train_loss: 0.965542307570536, train_accuracy: 0.6792368840974546, validation_accuracy: 0.67040625, time: 22.554s\n",
      "Epoch [14/30], train_loss: 0.9468265853847169, train_accuracy: 0.6858909181131781, validation_accuracy: 0.61015625, time: 22.182s\n",
      "Epoch [15/30], train_loss: 0.9299828384027803, train_accuracy: 0.6922554876624893, validation_accuracy: 0.65521875, time: 22.362s\n",
      "Epoch [16/30], train_loss: 0.9139745331435962, train_accuracy: 0.6978659901144236, validation_accuracy: 0.67615625, time: 22.805s\n",
      "Epoch [17/30], train_loss: 0.8993346752861163, train_accuracy: 0.7026324239121974, validation_accuracy: 0.69671875, time: 23.083s\n",
      "Epoch [18/30], train_loss: 0.8862993827569139, train_accuracy: 0.7074219662177941, validation_accuracy: 0.69728125, time: 22.372s\n",
      "Epoch [19/30], train_loss: 0.8737907978735276, train_accuracy: 0.7117736631120106, validation_accuracy: 0.53709375, time: 22.787s\n",
      "Epoch [20/30], train_loss: 0.862221564707556, train_accuracy: 0.7153858877558963, validation_accuracy: 0.45628125, time: 22.399s\n",
      "Epoch [21/30], train_loss: 0.8511039533832802, train_accuracy: 0.7192231162917413, validation_accuracy: 0.697125, time: 22.501s\n",
      "Epoch [22/30], train_loss: 0.8412226808389411, train_accuracy: 0.7229326399159337, validation_accuracy: 0.37878125, time: 22.185s\n",
      "Epoch [23/30], train_loss: 0.8316491367130825, train_accuracy: 0.7258601229859111, validation_accuracy: 0.60190625, time: 22.399s\n",
      "Epoch [24/30], train_loss: 0.822219497045673, train_accuracy: 0.7293920759710438, validation_accuracy: 0.68671875, time: 22.717s\n",
      "Epoch [25/30], train_loss: 0.8137707088551206, train_accuracy: 0.7320495543706702, validation_accuracy: 0.7178125, time: 24.264s\n",
      "Epoch [26/30], train_loss: 0.8054090803273783, train_accuracy: 0.7349381178485249, validation_accuracy: 0.6453125, time: 23.012s\n",
      "Epoch [27/30], train_loss: 0.7978205160796991, train_accuracy: 0.7374508640149451, validation_accuracy: 0.67984375, time: 22.82s\n",
      "Epoch [28/30], train_loss: 0.7906712551863729, train_accuracy: 0.7396546859188916, validation_accuracy: 0.537, time: 23.591s\n",
      "Epoch [29/30], train_loss: 0.7839188445929266, train_accuracy: 0.7422416225577956, validation_accuracy: 0.71759375, time: 22.062s\n",
      "Epoch [30/30], train_loss: 0.7771696016671472, train_accuracy: 0.744211926909006, validation_accuracy: 0.70203125, time: 22.202s\n"
     ]
    },
    {
     "data": {
      "text/plain": [
       "VBox(children=(Label(value='0.001 MB of 0.008 MB uploaded\\r'), FloatProgress(value=0.1634592818587186, max=1.0…"
      ],
      "application/vnd.jupyter.widget-view+json": {
       "version_major": 2,
       "version_minor": 0,
       "model_id": "98f1685b3d0844659129737863931fb8"
      }
     },
     "metadata": {},
     "output_type": "display_data"
    },
    {
     "data": {
      "text/plain": [
       "<IPython.core.display.HTML object>"
      ],
      "text/html": [
       "<style>\n",
       "    table.wandb td:nth-child(1) { padding: 0 10px; text-align: left ; width: auto;} td:nth-child(2) {text-align: left ; width: 100%}\n",
       "    .wandb-row { display: flex; flex-direction: row; flex-wrap: wrap; justify-content: flex-start; width: 100% }\n",
       "    .wandb-col { display: flex; flex-direction: column; flex-basis: 100%; flex: 1; padding: 10px; }\n",
       "    </style>\n",
       "<div class=\"wandb-row\"><div class=\"wandb-col\"><h3>Run history:</h3><br/><table class=\"wandb\"><tr><td>epoch</td><td>▁▁▁▂▂▂▂▃▃▃▃▄▄▄▄▅▅▅▅▆▆▆▆▇▇▇▇███</td></tr><tr><td>train_accuracy</td><td>▁▂▄▄▅▅▆▆▆▆▆▇▇▇▇▇▇▇▇▇██████████</td></tr><tr><td>train_loss</td><td>█▇▅▄▄▄▃▃▃▃▃▂▂▂▂▂▂▂▂▂▁▁▁▁▁▁▁▁▁▁</td></tr><tr><td>validation_accuracy</td><td>▃▄▄▅▆▁▅▆▆▇▆▅▇▇▇▇██▆▄█▃▆██▇▇▆██</td></tr></table><br/></div><div class=\"wandb-col\"><h3>Run summary:</h3><br/><table class=\"wandb\"><tr><td>epoch</td><td>30</td></tr><tr><td>train_accuracy</td><td>0.74421</td></tr><tr><td>train_loss</td><td>0.77717</td></tr><tr><td>validation_accuracy</td><td>0.70203</td></tr></table><br/></div></div>"
      ]
     },
     "metadata": {},
     "output_type": "display_data"
    },
    {
     "data": {
      "text/plain": [
       "<IPython.core.display.HTML object>"
      ],
      "text/html": [
       " View run <strong style=\"color:#cdcd00\">clear-sweep-30</strong> at: <a href='https://wandb.ai/spajro-chess/raport/runs/euwlrxfk' target=\"_blank\">https://wandb.ai/spajro-chess/raport/runs/euwlrxfk</a><br/> View project at: <a href='https://wandb.ai/spajro-chess/raport' target=\"_blank\">https://wandb.ai/spajro-chess/raport</a><br/>Synced 5 W&B file(s), 0 media file(s), 0 artifact file(s) and 0 other file(s)"
      ]
     },
     "metadata": {},
     "output_type": "display_data"
    },
    {
     "data": {
      "text/plain": [
       "<IPython.core.display.HTML object>"
      ],
      "text/html": [
       "Find logs at: <code>.\\wandb\\run-20240617_120736-euwlrxfk\\logs</code>"
      ]
     },
     "metadata": {},
     "output_type": "display_data"
    },
    {
     "name": "stderr",
     "output_type": "stream",
     "text": [
      "wandb: Agent Starting Run: y9svm7d4 with config:\n",
      "wandb: \tcriterion: CrossEntropy\n",
      "wandb: \tepochs: 50\n",
      "wandb: \tlearning_rate: 0.1\n",
      "wandb: \tmodel: 2\n",
      "wandb: \toptimizer: sgd\n"
     ]
    },
    {
     "data": {
      "text/plain": [
       "<IPython.core.display.HTML object>"
      ],
      "text/html": [
       "Tracking run with wandb version 0.17.1"
      ]
     },
     "metadata": {},
     "output_type": "display_data"
    },
    {
     "data": {
      "text/plain": [
       "<IPython.core.display.HTML object>"
      ],
      "text/html": [
       "Run data is saved locally in <code>D:\\Projekty\\TacticsClassifier\\wandb\\run-20240617_121921-y9svm7d4</code>"
      ]
     },
     "metadata": {},
     "output_type": "display_data"
    },
    {
     "data": {
      "text/plain": [
       "<IPython.core.display.HTML object>"
      ],
      "text/html": [
       "Syncing run <strong><a href='https://wandb.ai/spajro-chess/raport/runs/y9svm7d4' target=\"_blank\">rural-sweep-31</a></strong> to <a href='https://wandb.ai/spajro-chess/raport' target=\"_blank\">Weights & Biases</a> (<a href='https://wandb.me/run' target=\"_blank\">docs</a>)<br/>Sweep page: <a href='https://wandb.ai/spajro-chess/raport/sweeps/ai82s9v2' target=\"_blank\">https://wandb.ai/spajro-chess/raport/sweeps/ai82s9v2</a>"
      ]
     },
     "metadata": {},
     "output_type": "display_data"
    },
    {
     "data": {
      "text/plain": [
       "<IPython.core.display.HTML object>"
      ],
      "text/html": [
       " View project at <a href='https://wandb.ai/spajro-chess/raport' target=\"_blank\">https://wandb.ai/spajro-chess/raport</a>"
      ]
     },
     "metadata": {},
     "output_type": "display_data"
    },
    {
     "data": {
      "text/plain": [
       "<IPython.core.display.HTML object>"
      ],
      "text/html": [
       " View sweep at <a href='https://wandb.ai/spajro-chess/raport/sweeps/ai82s9v2' target=\"_blank\">https://wandb.ai/spajro-chess/raport/sweeps/ai82s9v2</a>"
      ]
     },
     "metadata": {},
     "output_type": "display_data"
    },
    {
     "data": {
      "text/plain": [
       "<IPython.core.display.HTML object>"
      ],
      "text/html": [
       " View run at <a href='https://wandb.ai/spajro-chess/raport/runs/y9svm7d4' target=\"_blank\">https://wandb.ai/spajro-chess/raport/runs/y9svm7d4</a>"
      ]
     },
     "metadata": {},
     "output_type": "display_data"
    },
    {
     "name": "stdout",
     "output_type": "stream",
     "text": [
      "Epoch [1/50], train_loss: 0.949918351370954, train_accuracy: 0.6903727523935549, validation_accuracy: 0.37203125, time: 27.081s\n",
      "Epoch [2/50], train_loss: 0.6324819758159785, train_accuracy: 0.7946042850470927, validation_accuracy: 0.78371875, time: 26.923s\n",
      "Epoch [3/50], train_loss: 0.5512070938094614, train_accuracy: 0.8196076905114035, validation_accuracy: 0.7945625, time: 26.652s\n",
      "Epoch [4/50], train_loss: 0.5053382441836441, train_accuracy: 0.8345102455826263, validation_accuracy: 0.7380625, time: 26.341s\n",
      "Epoch [5/50], train_loss: 0.473629099059181, train_accuracy: 0.8450854285047092, validation_accuracy: 0.10928125, time: 26.285s\n",
      "Epoch [6/50], train_loss: 34811.671466106076, train_accuracy: 0.38358785124931893, validation_accuracy: 0.38334375, time: 26.157s\n",
      "Epoch [7/50], train_loss: 1.8598737744883433, train_accuracy: 0.3836912314158948, validation_accuracy: 0.38334375, time: 27.369s\n",
      "Epoch [8/50], train_loss: 1.8598423652299287, train_accuracy: 0.3836912314158948, validation_accuracy: 0.38334375, time: 27.157s\n",
      "Epoch [9/50], train_loss: 1.859771745283056, train_accuracy: 0.3836912314158948, validation_accuracy: 0.38334375, time: 27.724s\n",
      "Epoch [10/50], train_loss: 1.8599035650726012, train_accuracy: 0.3836912314158948, validation_accuracy: 0.38334375, time: 26.649s\n",
      "Epoch [11/50], train_loss: 1.8598796270826572, train_accuracy: 0.3836912314158948, validation_accuracy: 0.38334375, time: 26.984s\n",
      "Epoch [12/50], train_loss: 1.859812684789227, train_accuracy: 0.3836912314158948, validation_accuracy: 0.38334375, time: 26.667s\n",
      "Epoch [13/50], train_loss: 1.8598650361050184, train_accuracy: 0.3836912314158948, validation_accuracy: 0.38334375, time: 26.758s\n",
      "Epoch [14/50], train_loss: 1.8598429893087003, train_accuracy: 0.3836912314158948, validation_accuracy: 0.38334375, time: 26.406s\n",
      "Epoch [15/50], train_loss: 1.8598326042560118, train_accuracy: 0.3836912314158948, validation_accuracy: 0.38334375, time: 27.096s\n",
      "Epoch [16/50], train_loss: 1.8598271839218008, train_accuracy: 0.3836912314158948, validation_accuracy: 0.38334375, time: 26.54s\n",
      "Epoch [17/50], train_loss: 1.8598401633331152, train_accuracy: 0.3836912314158948, validation_accuracy: 0.38334375, time: 26.333s\n",
      "Epoch [18/50], train_loss: 1.8598268427273137, train_accuracy: 0.3836912314158948, validation_accuracy: 0.38334375, time: 26.14s\n",
      "Epoch [19/50], train_loss: 1.859752830850704, train_accuracy: 0.3836912314158948, validation_accuracy: 0.38334375, time: 26.19s\n",
      "Epoch [20/50], train_loss: 1.8598728318747781, train_accuracy: 0.3836912314158948, validation_accuracy: 0.38334375, time: 26.171s\n",
      "Epoch [21/50], train_loss: 1.8597827116654542, train_accuracy: 0.3836912314158948, validation_accuracy: 0.38334375, time: 26.324s\n",
      "Epoch [22/50], train_loss: 1.859930038424311, train_accuracy: 0.3836912314158948, validation_accuracy: 0.38334375, time: 28.13s\n",
      "Epoch [23/50], train_loss: 1.8598205440747948, train_accuracy: 0.3836912314158948, validation_accuracy: 0.38334375, time: 26.616s\n",
      "Epoch [24/50], train_loss: 1.859804126189508, train_accuracy: 0.3836912314158948, validation_accuracy: 0.38334375, time: 27.183s\n",
      "Epoch [25/50], train_loss: 1.8598941887845657, train_accuracy: 0.3836912314158948, validation_accuracy: 0.38334375, time: 26.312s\n",
      "Epoch [26/50], train_loss: 1.8598006886991256, train_accuracy: 0.3836912314158948, validation_accuracy: 0.38334375, time: 26.942s\n",
      "Epoch [27/50], train_loss: 1.8599694172046413, train_accuracy: 0.3836912314158948, validation_accuracy: 0.38334375, time: 26.703s\n",
      "Epoch [28/50], train_loss: 1.8599278457788138, train_accuracy: 0.3836912314158948, validation_accuracy: 0.38334375, time: 26.673s\n",
      "Epoch [29/50], train_loss: 1.8598222587325188, train_accuracy: 0.3836912314158948, validation_accuracy: 0.38334375, time: 26.969s\n",
      "Epoch [30/50], train_loss: 1.8597476055643072, train_accuracy: 0.3836912314158948, validation_accuracy: 0.38334375, time: 26.5s\n",
      "Epoch [31/50], train_loss: 1.859850302701647, train_accuracy: 0.3836912314158948, validation_accuracy: 0.38334375, time: 26.29s\n",
      "Epoch [32/50], train_loss: 1.8597879463794715, train_accuracy: 0.3836912314158948, validation_accuracy: 0.38334375, time: 26.426s\n",
      "Epoch [33/50], train_loss: 1.8598155135763956, train_accuracy: 0.3836912314158948, validation_accuracy: 0.38334375, time: 26.334s\n",
      "Epoch [34/50], train_loss: 1.8597323746869394, train_accuracy: 0.3836912314158948, validation_accuracy: 0.38334375, time: 26.173s\n",
      "Epoch [35/50], train_loss: 1.8598426515103834, train_accuracy: 0.3836912314158948, validation_accuracy: 0.38334375, time: 27.68s\n",
      "Epoch [36/50], train_loss: 1.8597831608692923, train_accuracy: 0.3836912314158948, validation_accuracy: 0.38334375, time: 26.771s\n",
      "Epoch [37/50], train_loss: 1.8597614953812434, train_accuracy: 0.3836912314158948, validation_accuracy: 0.38334375, time: 26.972s\n",
      "Epoch [38/50], train_loss: 1.8597891877632322, train_accuracy: 0.3836912314158948, validation_accuracy: 0.38334375, time: 26.854s\n",
      "Epoch [39/50], train_loss: 1.8598421464738766, train_accuracy: 0.3836912314158948, validation_accuracy: 0.38334375, time: 26.375s\n",
      "Epoch [40/50], train_loss: 1.8597752913209802, train_accuracy: 0.3836912314158948, validation_accuracy: 0.38334375, time: 27.174s\n",
      "Epoch [41/50], train_loss: 1.859837031572294, train_accuracy: 0.3836912314158948, validation_accuracy: 0.38334375, time: 26.915s\n",
      "Epoch [42/50], train_loss: 1.8597751261427624, train_accuracy: 0.3836912314158948, validation_accuracy: 0.38334375, time: 26.656s\n",
      "Epoch [43/50], train_loss: 1.8598450644058764, train_accuracy: 0.3836912314158948, validation_accuracy: 0.38334375, time: 26.222s\n",
      "Epoch [44/50], train_loss: 1.8598034747465118, train_accuracy: 0.3836912314158948, validation_accuracy: 0.38334375, time: 26.598s\n",
      "Epoch [45/50], train_loss: 1.8597584759816963, train_accuracy: 0.3836912314158948, validation_accuracy: 0.38334375, time: 26.313s\n",
      "Epoch [46/50], train_loss: 1.8597533037998968, train_accuracy: 0.3836912314158948, validation_accuracy: 0.38334375, time: 26.298s\n",
      "Epoch [47/50], train_loss: 1.8598301556264973, train_accuracy: 0.3836912314158948, validation_accuracy: 0.38334375, time: 26.356s\n",
      "Epoch [48/50], train_loss: 1.859823619390523, train_accuracy: 0.3836912314158948, validation_accuracy: 0.38334375, time: 27.167s\n",
      "Epoch [49/50], train_loss: 1.8598292005881452, train_accuracy: 0.3836912314158948, validation_accuracy: 0.38334375, time: 27.501s\n",
      "Epoch [50/50], train_loss: 1.8598120177386939, train_accuracy: 0.3836912314158948, validation_accuracy: 0.38334375, time: 26.391s\n"
     ]
    },
    {
     "data": {
      "text/plain": [
       "VBox(children=(Label(value='0.001 MB of 0.001 MB uploaded\\r'), FloatProgress(value=1.0, max=1.0)))"
      ],
      "application/vnd.jupyter.widget-view+json": {
       "version_major": 2,
       "version_minor": 0,
       "model_id": "7878e179b47546bcb776e55d89a356c7"
      }
     },
     "metadata": {},
     "output_type": "display_data"
    },
    {
     "data": {
      "text/plain": [
       "<IPython.core.display.HTML object>"
      ],
      "text/html": [
       "<style>\n",
       "    table.wandb td:nth-child(1) { padding: 0 10px; text-align: left ; width: auto;} td:nth-child(2) {text-align: left ; width: 100%}\n",
       "    .wandb-row { display: flex; flex-direction: row; flex-wrap: wrap; justify-content: flex-start; width: 100% }\n",
       "    .wandb-col { display: flex; flex-direction: column; flex-basis: 100%; flex: 1; padding: 10px; }\n",
       "    </style>\n",
       "<div class=\"wandb-row\"><div class=\"wandb-col\"><h3>Run history:</h3><br/><table class=\"wandb\"><tr><td>epoch</td><td>▁▁▁▁▂▂▂▂▂▃▃▃▃▃▃▄▄▄▄▄▅▅▅▅▅▅▆▆▆▆▆▆▇▇▇▇▇███</td></tr><tr><td>train_accuracy</td><td>▆▇██▁▁▁▁▁▁▁▁▁▁▁▁▁▁▁▁▁▁▁▁▁▁▁▁▁▁▁▁▁▁▁▁▁▁▁▁</td></tr><tr><td>train_loss</td><td>▁▁▁▁█▁▁▁▁▁▁▁▁▁▁▁▁▁▁▁▁▁▁▁▁▁▁▁▁▁▁▁▁▁▁▁▁▁▁▁</td></tr><tr><td>validation_accuracy</td><td>▁██▇▁▁▁▁▁▁▁▁▁▁▁▁▁▁▁▁▁▁▁▁▁▁▁▁▁▁▁▁▁▁▁▁▁▁▁▁</td></tr></table><br/></div><div class=\"wandb-col\"><h3>Run summary:</h3><br/><table class=\"wandb\"><tr><td>epoch</td><td>50</td></tr><tr><td>train_accuracy</td><td>0.38369</td></tr><tr><td>train_loss</td><td>1.85981</td></tr><tr><td>validation_accuracy</td><td>0.38334</td></tr></table><br/></div></div>"
      ]
     },
     "metadata": {},
     "output_type": "display_data"
    },
    {
     "data": {
      "text/plain": [
       "<IPython.core.display.HTML object>"
      ],
      "text/html": [
       " View run <strong style=\"color:#cdcd00\">rural-sweep-31</strong> at: <a href='https://wandb.ai/spajro-chess/raport/runs/y9svm7d4' target=\"_blank\">https://wandb.ai/spajro-chess/raport/runs/y9svm7d4</a><br/> View project at: <a href='https://wandb.ai/spajro-chess/raport' target=\"_blank\">https://wandb.ai/spajro-chess/raport</a><br/>Synced 5 W&B file(s), 0 media file(s), 0 artifact file(s) and 0 other file(s)"
      ]
     },
     "metadata": {},
     "output_type": "display_data"
    },
    {
     "data": {
      "text/plain": [
       "<IPython.core.display.HTML object>"
      ],
      "text/html": [
       "Find logs at: <code>.\\wandb\\run-20240617_121921-y9svm7d4\\logs</code>"
      ]
     },
     "metadata": {},
     "output_type": "display_data"
    },
    {
     "name": "stderr",
     "output_type": "stream",
     "text": [
      "wandb: Agent Starting Run: hitcd6br with config:\n",
      "wandb: \tcriterion: CrossEntropy\n",
      "wandb: \tepochs: 30\n",
      "wandb: \tlearning_rate: 0.001\n",
      "wandb: \tmodel: 2\n",
      "wandb: \toptimizer: sgd\n"
     ]
    },
    {
     "data": {
      "text/plain": [
       "<IPython.core.display.HTML object>"
      ],
      "text/html": [
       "Tracking run with wandb version 0.17.1"
      ]
     },
     "metadata": {},
     "output_type": "display_data"
    },
    {
     "data": {
      "text/plain": [
       "<IPython.core.display.HTML object>"
      ],
      "text/html": [
       "Run data is saved locally in <code>D:\\Projekty\\TacticsClassifier\\wandb\\run-20240617_124206-hitcd6br</code>"
      ]
     },
     "metadata": {},
     "output_type": "display_data"
    },
    {
     "data": {
      "text/plain": [
       "<IPython.core.display.HTML object>"
      ],
      "text/html": [
       "Syncing run <strong><a href='https://wandb.ai/spajro-chess/raport/runs/hitcd6br' target=\"_blank\">olive-sweep-32</a></strong> to <a href='https://wandb.ai/spajro-chess/raport' target=\"_blank\">Weights & Biases</a> (<a href='https://wandb.me/run' target=\"_blank\">docs</a>)<br/>Sweep page: <a href='https://wandb.ai/spajro-chess/raport/sweeps/ai82s9v2' target=\"_blank\">https://wandb.ai/spajro-chess/raport/sweeps/ai82s9v2</a>"
      ]
     },
     "metadata": {},
     "output_type": "display_data"
    },
    {
     "data": {
      "text/plain": [
       "<IPython.core.display.HTML object>"
      ],
      "text/html": [
       " View project at <a href='https://wandb.ai/spajro-chess/raport' target=\"_blank\">https://wandb.ai/spajro-chess/raport</a>"
      ]
     },
     "metadata": {},
     "output_type": "display_data"
    },
    {
     "data": {
      "text/plain": [
       "<IPython.core.display.HTML object>"
      ],
      "text/html": [
       " View sweep at <a href='https://wandb.ai/spajro-chess/raport/sweeps/ai82s9v2' target=\"_blank\">https://wandb.ai/spajro-chess/raport/sweeps/ai82s9v2</a>"
      ]
     },
     "metadata": {},
     "output_type": "display_data"
    },
    {
     "data": {
      "text/plain": [
       "<IPython.core.display.HTML object>"
      ],
      "text/html": [
       " View run at <a href='https://wandb.ai/spajro-chess/raport/runs/hitcd6br' target=\"_blank\">https://wandb.ai/spajro-chess/raport/runs/hitcd6br</a>"
      ]
     },
     "metadata": {},
     "output_type": "display_data"
    },
    {
     "name": "stdout",
     "output_type": "stream",
     "text": [
      "Epoch [1/30], train_loss: 1.4833215238231996, train_accuracy: 0.49237054370670197, validation_accuracy: 0.59003125, time: 27.127s\n",
      "Epoch [2/30], train_loss: 1.0981754640795391, train_accuracy: 0.6353732875379466, validation_accuracy: 0.6916875, time: 26.907s\n",
      "Epoch [3/30], train_loss: 0.9194038250993418, train_accuracy: 0.697344224332529, validation_accuracy: 0.72628125, time: 27.037s\n",
      "Epoch [4/30], train_loss: 0.8195763176643887, train_accuracy: 0.7304635809916712, validation_accuracy: 0.7468125, time: 27.051s\n",
      "Epoch [5/30], train_loss: 0.7495651764703407, train_accuracy: 0.7532850568226045, validation_accuracy: 0.73565625, time: 26.956s\n",
      "Epoch [6/30], train_loss: 0.6976482524877486, train_accuracy: 0.7699839943177396, validation_accuracy: 0.76209375, time: 26.866s\n",
      "Epoch [7/30], train_loss: 0.6560905850461608, train_accuracy: 0.7836131489841986, validation_accuracy: 0.76190625, time: 26.265s\n",
      "Epoch [8/30], train_loss: 0.6225148692357083, train_accuracy: 0.7939694092005916, validation_accuracy: 0.79740625, time: 26.534s\n",
      "Epoch [9/30], train_loss: 0.5951564005728528, train_accuracy: 0.802721452479178, validation_accuracy: 0.80709375, time: 26.56s\n",
      "Epoch [10/30], train_loss: 0.5721981995155109, train_accuracy: 0.8106659142212189, validation_accuracy: 0.7501875, time: 26.74s\n",
      "Epoch [11/30], train_loss: 0.5521189694547223, train_accuracy: 0.8173004884408811, validation_accuracy: 0.6455625, time: 27.686s\n",
      "Epoch [12/30], train_loss: 0.5346588228436363, train_accuracy: 0.8227127442204406, validation_accuracy: 0.82109375, time: 27.206s\n",
      "Epoch [13/30], train_loss: 0.5197103079470752, train_accuracy: 0.8272055246361019, validation_accuracy: 0.7376875, time: 27.078s\n",
      "Epoch [14/30], train_loss: 0.5069065598745314, train_accuracy: 0.8318333073869386, validation_accuracy: 0.7856875, time: 26.893s\n",
      "Epoch [15/30], train_loss: 0.4942506285430838, train_accuracy: 0.8354808029111855, validation_accuracy: 0.82021875, time: 26.835s\n",
      "Epoch [16/30], train_loss: 0.4837304255482547, train_accuracy: 0.8392134350432008, validation_accuracy: 0.81515625, time: 27.215s\n",
      "Epoch [17/30], train_loss: 0.47355923547179746, train_accuracy: 0.8423124075659687, validation_accuracy: 0.81465625, time: 26.824s\n",
      "Epoch [18/30], train_loss: 0.46404055277201844, train_accuracy: 0.8451815112477621, validation_accuracy: 0.788875, time: 26.807s\n",
      "Epoch [19/30], train_loss: 0.4557923581345337, train_accuracy: 0.8483449443449833, validation_accuracy: 0.715125, time: 26.352s\n",
      "Epoch [20/30], train_loss: 0.44742357158573665, train_accuracy: 0.8507567428193352, validation_accuracy: 0.82221875, time: 26.522s\n",
      "Epoch [21/30], train_loss: 0.440452611869974, train_accuracy: 0.8530323227212578, validation_accuracy: 0.75290625, time: 26.31s\n",
      "Epoch [22/30], train_loss: 0.43305766827226694, train_accuracy: 0.8553030376741652, validation_accuracy: 0.83853125, time: 26.581s\n",
      "Epoch [23/30], train_loss: 0.4264447721075277, train_accuracy: 0.8569473904413482, validation_accuracy: 0.8105625, time: 26.554s\n",
      "Epoch [24/30], train_loss: 0.4196010708262009, train_accuracy: 0.8593713512882385, validation_accuracy: 0.84353125, time: 27.425s\n",
      "Epoch [25/30], train_loss: 0.4142285030144675, train_accuracy: 0.8613294932669106, validation_accuracy: 0.83121875, time: 27.677s\n",
      "Epoch [26/30], train_loss: 0.40819910996406283, train_accuracy: 0.863387366700397, validation_accuracy: 0.813875, time: 26.867s\n",
      "Epoch [27/30], train_loss: 0.40338205402197796, train_accuracy: 0.8645707655483771, validation_accuracy: 0.84453125, time: 27.491s\n",
      "Epoch [28/30], train_loss: 0.3971011366419981, train_accuracy: 0.8666991807425858, validation_accuracy: 0.84809375, time: 26.518s\n",
      "Epoch [29/30], train_loss: 0.39277868498746843, train_accuracy: 0.8683435335097688, validation_accuracy: 0.842125, time: 27.235s\n",
      "Epoch [30/30], train_loss: 0.38875470942070006, train_accuracy: 0.8693262532108663, validation_accuracy: 0.84740625, time: 27.235s\n"
     ]
    },
    {
     "data": {
      "text/plain": [
       "VBox(children=(Label(value='0.001 MB of 0.008 MB uploaded\\r'), FloatProgress(value=0.16284779050736498, max=1.…"
      ],
      "application/vnd.jupyter.widget-view+json": {
       "version_major": 2,
       "version_minor": 0,
       "model_id": "4c704334431147b3a1143c80cc419087"
      }
     },
     "metadata": {},
     "output_type": "display_data"
    },
    {
     "data": {
      "text/plain": [
       "<IPython.core.display.HTML object>"
      ],
      "text/html": [
       "<style>\n",
       "    table.wandb td:nth-child(1) { padding: 0 10px; text-align: left ; width: auto;} td:nth-child(2) {text-align: left ; width: 100%}\n",
       "    .wandb-row { display: flex; flex-direction: row; flex-wrap: wrap; justify-content: flex-start; width: 100% }\n",
       "    .wandb-col { display: flex; flex-direction: column; flex-basis: 100%; flex: 1; padding: 10px; }\n",
       "    </style>\n",
       "<div class=\"wandb-row\"><div class=\"wandb-col\"><h3>Run history:</h3><br/><table class=\"wandb\"><tr><td>epoch</td><td>▁▁▁▂▂▂▂▃▃▃▃▄▄▄▄▅▅▅▅▆▆▆▆▇▇▇▇███</td></tr><tr><td>train_accuracy</td><td>▁▄▅▅▆▆▆▇▇▇▇▇▇▇▇▇▇█████████████</td></tr><tr><td>train_loss</td><td>█▆▄▄▃▃▃▂▂▂▂▂▂▂▂▂▂▁▁▁▁▁▁▁▁▁▁▁▁▁</td></tr><tr><td>validation_accuracy</td><td>▁▄▅▅▅▆▆▇▇▅▃▇▅▆▇▇▇▆▄▇▅█▇██▇████</td></tr></table><br/></div><div class=\"wandb-col\"><h3>Run summary:</h3><br/><table class=\"wandb\"><tr><td>epoch</td><td>30</td></tr><tr><td>train_accuracy</td><td>0.86933</td></tr><tr><td>train_loss</td><td>0.38875</td></tr><tr><td>validation_accuracy</td><td>0.84741</td></tr></table><br/></div></div>"
      ]
     },
     "metadata": {},
     "output_type": "display_data"
    },
    {
     "data": {
      "text/plain": [
       "<IPython.core.display.HTML object>"
      ],
      "text/html": [
       " View run <strong style=\"color:#cdcd00\">olive-sweep-32</strong> at: <a href='https://wandb.ai/spajro-chess/raport/runs/hitcd6br' target=\"_blank\">https://wandb.ai/spajro-chess/raport/runs/hitcd6br</a><br/> View project at: <a href='https://wandb.ai/spajro-chess/raport' target=\"_blank\">https://wandb.ai/spajro-chess/raport</a><br/>Synced 5 W&B file(s), 0 media file(s), 0 artifact file(s) and 0 other file(s)"
      ]
     },
     "metadata": {},
     "output_type": "display_data"
    },
    {
     "data": {
      "text/plain": [
       "<IPython.core.display.HTML object>"
      ],
      "text/html": [
       "Find logs at: <code>.\\wandb\\run-20240617_124206-hitcd6br\\logs</code>"
      ]
     },
     "metadata": {},
     "output_type": "display_data"
    },
    {
     "name": "stderr",
     "output_type": "stream",
     "text": [
      "wandb: Agent Starting Run: isnoeqfj with config:\n",
      "wandb: \tcriterion: CrossEntropy\n",
      "wandb: \tepochs: 50\n",
      "wandb: \tlearning_rate: 0.1\n",
      "wandb: \tmodel: 2\n",
      "wandb: \toptimizer: adam\n"
     ]
    },
    {
     "data": {
      "text/plain": [
       "<IPython.core.display.HTML object>"
      ],
      "text/html": [
       "Tracking run with wandb version 0.17.1"
      ]
     },
     "metadata": {},
     "output_type": "display_data"
    },
    {
     "data": {
      "text/plain": [
       "<IPython.core.display.HTML object>"
      ],
      "text/html": [
       "Run data is saved locally in <code>D:\\Projekty\\TacticsClassifier\\wandb\\run-20240617_125554-isnoeqfj</code>"
      ]
     },
     "metadata": {},
     "output_type": "display_data"
    },
    {
     "data": {
      "text/plain": [
       "<IPython.core.display.HTML object>"
      ],
      "text/html": [
       "Syncing run <strong><a href='https://wandb.ai/spajro-chess/raport/runs/isnoeqfj' target=\"_blank\">silver-sweep-33</a></strong> to <a href='https://wandb.ai/spajro-chess/raport' target=\"_blank\">Weights & Biases</a> (<a href='https://wandb.me/run' target=\"_blank\">docs</a>)<br/>Sweep page: <a href='https://wandb.ai/spajro-chess/raport/sweeps/ai82s9v2' target=\"_blank\">https://wandb.ai/spajro-chess/raport/sweeps/ai82s9v2</a>"
      ]
     },
     "metadata": {},
     "output_type": "display_data"
    },
    {
     "data": {
      "text/plain": [
       "<IPython.core.display.HTML object>"
      ],
      "text/html": [
       " View project at <a href='https://wandb.ai/spajro-chess/raport' target=\"_blank\">https://wandb.ai/spajro-chess/raport</a>"
      ]
     },
     "metadata": {},
     "output_type": "display_data"
    },
    {
     "data": {
      "text/plain": [
       "<IPython.core.display.HTML object>"
      ],
      "text/html": [
       " View sweep at <a href='https://wandb.ai/spajro-chess/raport/sweeps/ai82s9v2' target=\"_blank\">https://wandb.ai/spajro-chess/raport/sweeps/ai82s9v2</a>"
      ]
     },
     "metadata": {},
     "output_type": "display_data"
    },
    {
     "data": {
      "text/plain": [
       "<IPython.core.display.HTML object>"
      ],
      "text/html": [
       " View run at <a href='https://wandb.ai/spajro-chess/raport/runs/isnoeqfj' target=\"_blank\">https://wandb.ai/spajro-chess/raport/runs/isnoeqfj</a>"
      ]
     },
     "metadata": {},
     "output_type": "display_data"
    },
    {
     "name": "stdout",
     "output_type": "stream",
     "text": [
      "Epoch [1/50], train_loss: 1.9216103646656302, train_accuracy: 0.3835489316571962, validation_accuracy: 0.38334375, time: 27.923s\n",
      "Epoch [2/50], train_loss: 1.8672712658354862, train_accuracy: 0.3836912314158948, validation_accuracy: 0.38334375, time: 28.131s\n",
      "Epoch [3/50], train_loss: 1.8673370744390154, train_accuracy: 0.3836912314158948, validation_accuracy: 0.38334375, time: 28.159s\n",
      "Epoch [4/50], train_loss: 1.8672290110370942, train_accuracy: 0.3836912314158948, validation_accuracy: 0.38334375, time: 27.848s\n",
      "Epoch [5/50], train_loss: 1.8672856780316678, train_accuracy: 0.3836912314158948, validation_accuracy: 0.38334375, time: 27.965s\n",
      "Epoch [6/50], train_loss: 1.8672706471757405, train_accuracy: 0.3836912314158948, validation_accuracy: 0.38334375, time: 28.361s\n",
      "Epoch [7/50], train_loss: 1.8671785813227157, train_accuracy: 0.3836912314158948, validation_accuracy: 0.38334375, time: 28.402s\n",
      "Epoch [8/50], train_loss: 1.8672522630470314, train_accuracy: 0.3836912314158948, validation_accuracy: 0.38334375, time: 28.375s\n",
      "Epoch [9/50], train_loss: 1.867219490875778, train_accuracy: 0.3836912314158948, validation_accuracy: 0.38334375, time: 29.057s\n",
      "Epoch [10/50], train_loss: 1.867213972776402, train_accuracy: 0.3836912314158948, validation_accuracy: 0.38334375, time: 28.307s\n",
      "Epoch [11/50], train_loss: 1.8672886598784793, train_accuracy: 0.3836912314158948, validation_accuracy: 0.38334375, time: 28.388s\n",
      "Epoch [12/50], train_loss: 1.8674275266286269, train_accuracy: 0.3836912314158948, validation_accuracy: 0.38334375, time: 28.388s\n",
      "Epoch [13/50], train_loss: 1.8672343142312668, train_accuracy: 0.3836912314158948, validation_accuracy: 0.38334375, time: 28.43s\n",
      "Epoch [14/50], train_loss: 1.8671541224381911, train_accuracy: 0.3836912314158948, validation_accuracy: 0.38334375, time: 28.192s\n",
      "Epoch [15/50], train_loss: 1.8673013364460493, train_accuracy: 0.3836912314158948, validation_accuracy: 0.38334375, time: 28.286s\n",
      "Epoch [16/50], train_loss: 1.867210256660867, train_accuracy: 0.3836912314158948, validation_accuracy: 0.38334375, time: 27.918s\n",
      "Epoch [17/50], train_loss: 1.8672269128162666, train_accuracy: 0.3836912314158948, validation_accuracy: 0.38334375, time: 28.27s\n",
      "Epoch [18/50], train_loss: 1.8673128163924966, train_accuracy: 0.3836912314158948, validation_accuracy: 0.38334375, time: 28.459s\n",
      "Epoch [19/50], train_loss: 1.8673758525797168, train_accuracy: 0.3836912314158948, validation_accuracy: 0.38334375, time: 28.609s\n",
      "Epoch [20/50], train_loss: 1.8672565778721313, train_accuracy: 0.3836912314158948, validation_accuracy: 0.38334375, time: 29.175s\n",
      "Epoch [21/50], train_loss: 1.8671605619668237, train_accuracy: 0.3836912314158948, validation_accuracy: 0.38334375, time: 28.388s\n",
      "Epoch [22/50], train_loss: 1.8673366484701786, train_accuracy: 0.3836912314158948, validation_accuracy: 0.38334375, time: 28.847s\n",
      "Epoch [23/50], train_loss: 1.867180331463924, train_accuracy: 0.3836912314158948, validation_accuracy: 0.38334375, time: 28.065s\n",
      "Epoch [24/50], train_loss: 1.8672334811766713, train_accuracy: 0.3836912314158948, validation_accuracy: 0.38334375, time: 28.679s\n",
      "Epoch [25/50], train_loss: 1.867153753202101, train_accuracy: 0.3836912314158948, validation_accuracy: 0.38334375, time: 28.348s\n",
      "Epoch [26/50], train_loss: 1.867266836403557, train_accuracy: 0.3836912314158948, validation_accuracy: 0.38334375, time: 27.988s\n",
      "Epoch [27/50], train_loss: 1.8671943779129774, train_accuracy: 0.3836912314158948, validation_accuracy: 0.38334375, time: 28.018s\n",
      "Epoch [28/50], train_loss: 1.8674920728311117, train_accuracy: 0.3836912314158948, validation_accuracy: 0.38334375, time: 28.103s\n",
      "Epoch [29/50], train_loss: 1.867359745184197, train_accuracy: 0.3836912314158948, validation_accuracy: 0.38334375, time: 27.751s\n",
      "Epoch [30/50], train_loss: 1.8672173771587635, train_accuracy: 0.3836912314158948, validation_accuracy: 0.38334375, time: 28.025s\n",
      "Epoch [31/50], train_loss: 1.8673901632712344, train_accuracy: 0.3836912314158948, validation_accuracy: 0.38334375, time: 28.344s\n",
      "Epoch [32/50], train_loss: 1.8672499643593639, train_accuracy: 0.3836912314158948, validation_accuracy: 0.38334375, time: 29.325s\n",
      "Epoch [33/50], train_loss: 1.8673194189187459, train_accuracy: 0.3836912314158948, validation_accuracy: 0.38334375, time: 28.282s\n",
      "Epoch [34/50], train_loss: 1.867283979241297, train_accuracy: 0.3836912314158948, validation_accuracy: 0.38334375, time: 29.109s\n",
      "Epoch [35/50], train_loss: 1.8673290688954245, train_accuracy: 0.3836912314158948, validation_accuracy: 0.38334375, time: 28.16s\n",
      "Epoch [36/50], train_loss: 1.867340124496887, train_accuracy: 0.3836912314158948, validation_accuracy: 0.38334375, time: 28.022s\n",
      "Epoch [37/50], train_loss: 1.8672485092952482, train_accuracy: 0.3836912314158948, validation_accuracy: 0.38334375, time: 28.434s\n",
      "Epoch [38/50], train_loss: 1.867118990355413, train_accuracy: 0.3836912314158948, validation_accuracy: 0.38334375, time: 28.32s\n",
      "Epoch [39/50], train_loss: 1.8673383195066002, train_accuracy: 0.3836912314158948, validation_accuracy: 0.38334375, time: 28.07s\n",
      "Epoch [40/50], train_loss: 1.8671595751937655, train_accuracy: 0.3836912314158948, validation_accuracy: 0.38334375, time: 28.062s\n",
      "Epoch [41/50], train_loss: 1.867386743624665, train_accuracy: 0.3836912314158948, validation_accuracy: 0.38334375, time: 27.927s\n",
      "Epoch [42/50], train_loss: 1.8674832490146174, train_accuracy: 0.3836912314158948, validation_accuracy: 0.38334375, time: 28.223s\n",
      "Epoch [43/50], train_loss: 1.8674754519736134, train_accuracy: 0.3836912314158948, validation_accuracy: 0.38334375, time: 28.368s\n",
      "Epoch [44/50], train_loss: 1.8673308301159424, train_accuracy: 0.3836912314158948, validation_accuracy: 0.38334375, time: 28.713s\n",
      "Epoch [45/50], train_loss: 1.8672443464534092, train_accuracy: 0.3836912314158948, validation_accuracy: 0.38334375, time: 29.274s\n",
      "Epoch [46/50], train_loss: 1.867362888404773, train_accuracy: 0.3836912314158948, validation_accuracy: 0.38334375, time: 28.39s\n",
      "Epoch [47/50], train_loss: 1.867341934330892, train_accuracy: 0.3836912314158948, validation_accuracy: 0.38334375, time: 28.651s\n",
      "Epoch [48/50], train_loss: 1.8671707279850855, train_accuracy: 0.3836912314158948, validation_accuracy: 0.38334375, time: 28.234s\n",
      "Epoch [49/50], train_loss: 1.8672828149951421, train_accuracy: 0.3836912314158948, validation_accuracy: 0.38334375, time: 28.49s\n",
      "Epoch [50/50], train_loss: 1.8672709572479458, train_accuracy: 0.3836912314158948, validation_accuracy: 0.38334375, time: 28.272s\n"
     ]
    },
    {
     "data": {
      "text/plain": [
       "VBox(children=(Label(value='0.001 MB of 0.001 MB uploaded\\r'), FloatProgress(value=1.0, max=1.0)))"
      ],
      "application/vnd.jupyter.widget-view+json": {
       "version_major": 2,
       "version_minor": 0,
       "model_id": "2bd28760e5fe4e83849cc736d05db8bb"
      }
     },
     "metadata": {},
     "output_type": "display_data"
    },
    {
     "data": {
      "text/plain": [
       "<IPython.core.display.HTML object>"
      ],
      "text/html": [
       "<style>\n",
       "    table.wandb td:nth-child(1) { padding: 0 10px; text-align: left ; width: auto;} td:nth-child(2) {text-align: left ; width: 100%}\n",
       "    .wandb-row { display: flex; flex-direction: row; flex-wrap: wrap; justify-content: flex-start; width: 100% }\n",
       "    .wandb-col { display: flex; flex-direction: column; flex-basis: 100%; flex: 1; padding: 10px; }\n",
       "    </style>\n",
       "<div class=\"wandb-row\"><div class=\"wandb-col\"><h3>Run history:</h3><br/><table class=\"wandb\"><tr><td>epoch</td><td>▁▁▁▁▂▂▂▂▂▃▃▃▃▃▃▄▄▄▄▄▅▅▅▅▅▅▆▆▆▆▆▆▇▇▇▇▇███</td></tr><tr><td>train_accuracy</td><td>▁███████████████████████████████████████</td></tr><tr><td>train_loss</td><td>█▁▁▁▁▁▁▁▁▁▁▁▁▁▁▁▁▁▁▁▁▁▁▁▁▁▁▁▁▁▁▁▁▁▁▁▁▁▁▁</td></tr><tr><td>validation_accuracy</td><td>▁▁▁▁▁▁▁▁▁▁▁▁▁▁▁▁▁▁▁▁▁▁▁▁▁▁▁▁▁▁▁▁▁▁▁▁▁▁▁▁</td></tr></table><br/></div><div class=\"wandb-col\"><h3>Run summary:</h3><br/><table class=\"wandb\"><tr><td>epoch</td><td>50</td></tr><tr><td>train_accuracy</td><td>0.38369</td></tr><tr><td>train_loss</td><td>1.86727</td></tr><tr><td>validation_accuracy</td><td>0.38334</td></tr></table><br/></div></div>"
      ]
     },
     "metadata": {},
     "output_type": "display_data"
    },
    {
     "data": {
      "text/plain": [
       "<IPython.core.display.HTML object>"
      ],
      "text/html": [
       " View run <strong style=\"color:#cdcd00\">silver-sweep-33</strong> at: <a href='https://wandb.ai/spajro-chess/raport/runs/isnoeqfj' target=\"_blank\">https://wandb.ai/spajro-chess/raport/runs/isnoeqfj</a><br/> View project at: <a href='https://wandb.ai/spajro-chess/raport' target=\"_blank\">https://wandb.ai/spajro-chess/raport</a><br/>Synced 5 W&B file(s), 0 media file(s), 0 artifact file(s) and 0 other file(s)"
      ]
     },
     "metadata": {},
     "output_type": "display_data"
    },
    {
     "data": {
      "text/plain": [
       "<IPython.core.display.HTML object>"
      ],
      "text/html": [
       "Find logs at: <code>.\\wandb\\run-20240617_125554-isnoeqfj\\logs</code>"
      ]
     },
     "metadata": {},
     "output_type": "display_data"
    },
    {
     "name": "stderr",
     "output_type": "stream",
     "text": [
      "wandb: Agent Starting Run: b8maocqt with config:\n",
      "wandb: \tcriterion: CrossEntropy\n",
      "wandb: \tepochs: 30\n",
      "wandb: \tlearning_rate: 0.0003\n",
      "wandb: \tmodel: 2\n",
      "wandb: \toptimizer: sgd\n"
     ]
    },
    {
     "data": {
      "text/plain": [
       "<IPython.core.display.HTML object>"
      ],
      "text/html": [
       "Tracking run with wandb version 0.17.1"
      ]
     },
     "metadata": {},
     "output_type": "display_data"
    },
    {
     "data": {
      "text/plain": [
       "<IPython.core.display.HTML object>"
      ],
      "text/html": [
       "Run data is saved locally in <code>D:\\Projekty\\TacticsClassifier\\wandb\\run-20240617_132002-b8maocqt</code>"
      ]
     },
     "metadata": {},
     "output_type": "display_data"
    },
    {
     "data": {
      "text/plain": [
       "<IPython.core.display.HTML object>"
      ],
      "text/html": [
       "Syncing run <strong><a href='https://wandb.ai/spajro-chess/raport/runs/b8maocqt' target=\"_blank\">confused-sweep-34</a></strong> to <a href='https://wandb.ai/spajro-chess/raport' target=\"_blank\">Weights & Biases</a> (<a href='https://wandb.me/run' target=\"_blank\">docs</a>)<br/>Sweep page: <a href='https://wandb.ai/spajro-chess/raport/sweeps/ai82s9v2' target=\"_blank\">https://wandb.ai/spajro-chess/raport/sweeps/ai82s9v2</a>"
      ]
     },
     "metadata": {},
     "output_type": "display_data"
    },
    {
     "data": {
      "text/plain": [
       "<IPython.core.display.HTML object>"
      ],
      "text/html": [
       " View project at <a href='https://wandb.ai/spajro-chess/raport' target=\"_blank\">https://wandb.ai/spajro-chess/raport</a>"
      ]
     },
     "metadata": {},
     "output_type": "display_data"
    },
    {
     "data": {
      "text/plain": [
       "<IPython.core.display.HTML object>"
      ],
      "text/html": [
       " View sweep at <a href='https://wandb.ai/spajro-chess/raport/sweeps/ai82s9v2' target=\"_blank\">https://wandb.ai/spajro-chess/raport/sweeps/ai82s9v2</a>"
      ]
     },
     "metadata": {},
     "output_type": "display_data"
    },
    {
     "data": {
      "text/plain": [
       "<IPython.core.display.HTML object>"
      ],
      "text/html": [
       " View run at <a href='https://wandb.ai/spajro-chess/raport/runs/b8maocqt' target=\"_blank\">https://wandb.ai/spajro-chess/raport/runs/b8maocqt</a>"
      ]
     },
     "metadata": {},
     "output_type": "display_data"
    },
    {
     "name": "stdout",
     "output_type": "stream",
     "text": [
      "Epoch [1/30], train_loss: 1.7011769226555546, train_accuracy: 0.41516623530785396, validation_accuracy: 0.47825, time: 28.525s\n",
      "Epoch [2/30], train_loss: 1.4413240261371845, train_accuracy: 0.5076647271736592, validation_accuracy: 0.56178125, time: 27.837s\n",
      "Epoch [3/30], train_loss: 1.2769519493553325, train_accuracy: 0.5725570658519499, validation_accuracy: 0.611, time: 27.94s\n",
      "Epoch [4/30], train_loss: 1.1708477261169064, train_accuracy: 0.6123134292052619, validation_accuracy: 0.6435625, time: 27.868s\n",
      "Epoch [5/30], train_loss: 1.0881577348016882, train_accuracy: 0.6414824472639526, validation_accuracy: 0.6643125, time: 29.195s\n",
      "Epoch [6/30], train_loss: 1.0164149535707234, train_accuracy: 0.6665709893360318, validation_accuracy: 0.69134375, time: 28.009s\n",
      "Epoch [7/30], train_loss: 0.9569363341221431, train_accuracy: 0.6861767338678291, validation_accuracy: 0.7095, time: 28.433s\n",
      "Epoch [8/30], train_loss: 0.9065641161253585, train_accuracy: 0.7028270218728108, validation_accuracy: 0.719375, time: 27.681s\n",
      "Epoch [9/30], train_loss: 0.8659960824065128, train_accuracy: 0.7159344107573753, validation_accuracy: 0.72828125, time: 28.242s\n",
      "Epoch [10/30], train_loss: 0.8301831946696735, train_accuracy: 0.7277525881528761, validation_accuracy: 0.744875, time: 27.55s\n",
      "Epoch [11/30], train_loss: 0.7984036567394102, train_accuracy: 0.7379142504086558, validation_accuracy: 0.75290625, time: 27.907s\n",
      "Epoch [12/30], train_loss: 0.7723351807095823, train_accuracy: 0.7463792616953374, validation_accuracy: 0.75446875, time: 28.039s\n",
      "Epoch [13/30], train_loss: 0.7491604826919316, train_accuracy: 0.754143720323811, validation_accuracy: 0.76190625, time: 26.635s\n",
      "Epoch [14/30], train_loss: 0.7286710055030124, train_accuracy: 0.7605581556005293, validation_accuracy: 0.77184375, time: 26.683s\n",
      "Epoch [15/30], train_loss: 0.7107261111761908, train_accuracy: 0.766655152953997, validation_accuracy: 0.7495, time: 27.004s\n",
      "Epoch [16/30], train_loss: 0.6930671497649364, train_accuracy: 0.7723033587608001, validation_accuracy: 0.7786875, time: 26.749s\n",
      "Epoch [17/30], train_loss: 0.6765706705088521, train_accuracy: 0.7773531758387172, validation_accuracy: 0.78403125, time: 26.688s\n",
      "Epoch [18/30], train_loss: 0.6628782660328127, train_accuracy: 0.7823227212578813, validation_accuracy: 0.78240625, time: 26.985s\n",
      "Epoch [19/30], train_loss: 0.649151054225822, train_accuracy: 0.7863265742975014, validation_accuracy: 0.7900625, time: 27.337s\n",
      "Epoch [20/30], train_loss: 0.636428949595741, train_accuracy: 0.7904325912664435, validation_accuracy: 0.78621875, time: 28.277s\n",
      "Epoch [21/30], train_loss: 0.6241128939975465, train_accuracy: 0.7945398244726395, validation_accuracy: 0.79475, time: 27.217s\n",
      "Epoch [22/30], train_loss: 0.6127050012069388, train_accuracy: 0.7978455573285592, validation_accuracy: 0.76503125, time: 27.763s\n",
      "Epoch [23/30], train_loss: 0.601269434986434, train_accuracy: 0.8015575134272592, validation_accuracy: 0.75675, time: 27.139s\n",
      "Epoch [24/30], train_loss: 0.5916047115089124, train_accuracy: 0.8046783782205963, validation_accuracy: 0.8050625, time: 28.468s\n",
      "Epoch [25/30], train_loss: 0.5822772762009683, train_accuracy: 0.8075632929866895, validation_accuracy: 0.80715625, time: 27.569s\n",
      "Epoch [26/30], train_loss: 0.5734798982292889, train_accuracy: 0.8100918502374095, validation_accuracy: 0.80165625, time: 27.083s\n",
      "Epoch [27/30], train_loss: 0.5657649030357268, train_accuracy: 0.8129086557172881, validation_accuracy: 0.81065625, time: 27.095s\n",
      "Epoch [28/30], train_loss: 0.5584802134967995, train_accuracy: 0.8153082918191017, validation_accuracy: 0.55575, time: 26.856s\n",
      "Epoch [29/30], train_loss: 0.5510163808291797, train_accuracy: 0.8172919747801043, validation_accuracy: 0.81490625, time: 27.053s\n",
      "Epoch [30/30], train_loss: 0.5435185862662051, train_accuracy: 0.8200285086012299, validation_accuracy: 0.80540625, time: 26.664s\n"
     ]
    },
    {
     "data": {
      "text/plain": [
       "VBox(children=(Label(value='0.001 MB of 0.008 MB uploaded\\r'), FloatProgress(value=0.16346153846153846, max=1.…"
      ],
      "application/vnd.jupyter.widget-view+json": {
       "version_major": 2,
       "version_minor": 0,
       "model_id": "c97fc53866104c02882cd95c090e92e6"
      }
     },
     "metadata": {},
     "output_type": "display_data"
    },
    {
     "data": {
      "text/plain": [
       "<IPython.core.display.HTML object>"
      ],
      "text/html": [
       "<style>\n",
       "    table.wandb td:nth-child(1) { padding: 0 10px; text-align: left ; width: auto;} td:nth-child(2) {text-align: left ; width: 100%}\n",
       "    .wandb-row { display: flex; flex-direction: row; flex-wrap: wrap; justify-content: flex-start; width: 100% }\n",
       "    .wandb-col { display: flex; flex-direction: column; flex-basis: 100%; flex: 1; padding: 10px; }\n",
       "    </style>\n",
       "<div class=\"wandb-row\"><div class=\"wandb-col\"><h3>Run history:</h3><br/><table class=\"wandb\"><tr><td>epoch</td><td>▁▁▁▂▂▂▂▃▃▃▃▄▄▄▄▅▅▅▅▆▆▆▆▇▇▇▇███</td></tr><tr><td>train_accuracy</td><td>▁▃▄▄▅▅▆▆▆▆▇▇▇▇▇▇▇▇▇▇██████████</td></tr><tr><td>train_loss</td><td>█▆▅▅▄▄▃▃▃▃▃▂▂▂▂▂▂▂▂▂▁▁▁▁▁▁▁▁▁▁</td></tr><tr><td>validation_accuracy</td><td>▁▃▄▄▅▅▆▆▆▇▇▇▇▇▇▇▇▇▇▇█▇▇████▃██</td></tr></table><br/></div><div class=\"wandb-col\"><h3>Run summary:</h3><br/><table class=\"wandb\"><tr><td>epoch</td><td>30</td></tr><tr><td>train_accuracy</td><td>0.82003</td></tr><tr><td>train_loss</td><td>0.54352</td></tr><tr><td>validation_accuracy</td><td>0.80541</td></tr></table><br/></div></div>"
      ]
     },
     "metadata": {},
     "output_type": "display_data"
    },
    {
     "data": {
      "text/plain": [
       "<IPython.core.display.HTML object>"
      ],
      "text/html": [
       " View run <strong style=\"color:#cdcd00\">confused-sweep-34</strong> at: <a href='https://wandb.ai/spajro-chess/raport/runs/b8maocqt' target=\"_blank\">https://wandb.ai/spajro-chess/raport/runs/b8maocqt</a><br/> View project at: <a href='https://wandb.ai/spajro-chess/raport' target=\"_blank\">https://wandb.ai/spajro-chess/raport</a><br/>Synced 5 W&B file(s), 0 media file(s), 0 artifact file(s) and 0 other file(s)"
      ]
     },
     "metadata": {},
     "output_type": "display_data"
    },
    {
     "data": {
      "text/plain": [
       "<IPython.core.display.HTML object>"
      ],
      "text/html": [
       "Find logs at: <code>.\\wandb\\run-20240617_132002-b8maocqt\\logs</code>"
      ]
     },
     "metadata": {},
     "output_type": "display_data"
    },
    {
     "name": "stderr",
     "output_type": "stream",
     "text": [
      "wandb: Ctrl + C detected. Stopping sweep.\n"
     ]
    }
   ],
   "execution_count": 36
  },
  {
   "metadata": {
    "ExecuteTime": {
     "end_time": "2024-06-17T11:34:05.168914Z",
     "start_time": "2024-06-17T11:34:05.165920Z"
    }
   },
   "cell_type": "code",
   "source": "wandb.finish()",
   "id": "7061a5cf84a14c87",
   "outputs": [],
   "execution_count": 37
  }
 ],
 "metadata": {
  "kernelspec": {
   "display_name": "Python 3",
   "language": "python",
   "name": "python3"
  },
  "language_info": {
   "codemirror_mode": {
    "name": "ipython",
    "version": 2
   },
   "file_extension": ".py",
   "mimetype": "text/x-python",
   "name": "python",
   "nbconvert_exporter": "python",
   "pygments_lexer": "ipython2",
   "version": "2.7.6"
  }
 },
 "nbformat": 4,
 "nbformat_minor": 5
}
